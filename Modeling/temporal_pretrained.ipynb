{
 "cells": [
  {
   "cell_type": "markdown",
   "metadata": {},
   "source": [
    "### Imports"
   ]
  },
  {
   "cell_type": "code",
   "execution_count": 4,
   "metadata": {},
   "outputs": [],
   "source": [
    "import os\n",
    "os.environ['PYTORCH_ENABLE_MPS_FALLBACK'] = '1'"
   ]
  },
  {
   "cell_type": "code",
   "execution_count": 5,
   "metadata": {},
   "outputs": [],
   "source": [
    "%load_ext autoreload\n",
    "%autoreload 2"
   ]
  },
  {
   "cell_type": "code",
   "execution_count": 12,
   "metadata": {},
   "outputs": [],
   "source": [
    "import sys\n",
    "from pathlib import Path\n",
    "scripts_path = Path(\"../Data-Preprocessing/\").resolve()\n",
    "sys.path.append(str(scripts_path))\n",
    "\n",
    "scripts_path = Path(\"../Evaluation/\").resolve()\n",
    "sys.path.append(str(scripts_path))"
   ]
  },
  {
   "cell_type": "code",
   "execution_count": 16,
   "metadata": {},
   "outputs": [],
   "source": [
    "import pickle\n",
    "from sklearn.cluster import KMeans\n",
    "from sklearn.neighbors import NearestCentroid\n",
    "from scripts.data_visualiser import *\n",
    "import torch.nn.functional as F\n",
    "from sklearn.model_selection import train_test_split\n",
    "from scripts.data_loader import *\n",
    "from scripts.data_preprocessor import *\n",
    "from scripts.temporal_data_preprocessor import *\n",
    "from scripts.temporal_data_loader import *\n",
    "from scripts.temporal_visualiser import *\n",
    "from scripts.temporal_chanel_refinement import *\n",
    "from model_scripts.get_statistics import *\n",
    "from model_scripts.pre_trained_temporal import *\n",
    "from model_scripts.dataset_creation import *\n",
    "from model_scripts.train_model_ae import *\n",
    "from model_scripts.model_visualiser import *\n",
    "from model_scripts.clustering import *\n",
    "from model_scripts.subpatch_extraction import *\n",
    "from evaluation_scripts.result_visualiser import *\n",
    "from evaluation_scripts.label_helper import *\n",
    "from Pipeline.pre_processing_pipeline import *\n",
    "from Pipeline.temporal_preprocessing_pipeline import *\n",
    "import numpy as np\n",
    "import preprocessing_config as config\n",
    "from sklearn.cluster import KMeans\n",
    "from sklearn.metrics import adjusted_rand_score\n",
    "from sklearn.cluster import DBSCAN\n",
    "from sklearn.decomposition import PCA\n",
    "import skimage.measure\n",
    "import torch\n",
    "import torch.nn as nn\n",
    "import torch.optim as optim"
   ]
  },
  {
   "cell_type": "markdown",
   "metadata": {},
   "source": [
    "### Loading the data"
   ]
  },
  {
   "cell_type": "code",
   "execution_count": 17,
   "metadata": {},
   "outputs": [],
   "source": [
    "# temp_pipeline = PreProcessingPipelineTemporal()"
   ]
  },
  {
   "cell_type": "code",
   "execution_count": 18,
   "metadata": {},
   "outputs": [],
   "source": [
    "# train_fn, dataloader_train = temp_pipeline.get_processed_trainloader(64, 'indexbands', vi_type='msi')"
   ]
  },
  {
   "cell_type": "markdown",
   "metadata": {},
   "source": [
    "Train"
   ]
  },
  {
   "cell_type": "code",
   "execution_count": 19,
   "metadata": {},
   "outputs": [
    {
     "data": {
      "text/plain": [
       "(2425, (64, 64, 10))"
      ]
     },
     "execution_count": 19,
     "metadata": {},
     "output_type": "execute_result"
    }
   ],
   "source": [
    "temporal_images = load_field_images_temporal(config.base_directory_temporal_train1)\n",
    "border_removed_images_train = blacken_field_borders_temporal(temporal_images)\n",
    "field_numbers_train, indices_images_train = allbands_temporal_cubes(border_removed_images_train)\n",
    "\n",
    "len(indices_images_train), indices_images_train[0][0].shape"
   ]
  },
  {
   "cell_type": "markdown",
   "metadata": {},
   "source": [
    "Evaluation"
   ]
  },
  {
   "cell_type": "code",
   "execution_count": 20,
   "metadata": {},
   "outputs": [
    {
     "data": {
      "text/plain": [
       "(48, (64, 64, 10))"
      ]
     },
     "execution_count": 20,
     "metadata": {},
     "output_type": "execute_result"
    }
   ],
   "source": [
    "temporal_images_eval = load_field_images_temporal(config.base_directory_temporal_test1)\n",
    "border_removed_images = blacken_field_borders_temporal(temporal_images_eval)\n",
    "field_numbers_eval, indices_images_eval = allbands_temporal_cubes(border_removed_images)\n",
    "\n",
    "(len(indices_images_eval), indices_images_eval[0][0].shape)"
   ]
  },
  {
   "cell_type": "code",
   "execution_count": 21,
   "metadata": {},
   "outputs": [
    {
     "data": {
      "text/plain": [
       "((2425, 7, 64, 64, 10), (48, 7, 64, 64, 10))"
      ]
     },
     "execution_count": 21,
     "metadata": {},
     "output_type": "execute_result"
    }
   ],
   "source": [
    "image_tensor_train = np.stack(indices_images_train)  # Shape: (N x 7 x 64 x 64 x 6)\n",
    "image_tensor_eval = np.stack(indices_images_eval)   # Shape: (N x 7 x 64 x 64 x 6)\n",
    "\n",
    "image_tensor_train.shape, image_tensor_eval.shape"
   ]
  },
  {
   "cell_type": "code",
   "execution_count": 22,
   "metadata": {},
   "outputs": [
    {
     "data": {
      "text/plain": [
       "(torch.Size([2425, 7, 10, 64, 64]), torch.Size([48, 7, 10, 64, 64]))"
      ]
     },
     "execution_count": 22,
     "metadata": {},
     "output_type": "execute_result"
    }
   ],
   "source": [
    "image_tensor_train = torch.tensor(image_tensor_train, dtype=torch.float32).permute(0, 1, 4, 2, 3)  # (N, T, H, W, C) -> (N, T, C, H, W)\n",
    "image_tensor_eval = torch.tensor(image_tensor_eval, dtype=torch.float32).permute(0, 1, 4, 2, 3)  # (N, T, H, W, C) -> (N, T, C, H, W)\n",
    "image_tensor_train.shape, image_tensor_eval.shape"
   ]
  },
  {
   "cell_type": "markdown",
   "metadata": {},
   "source": [
    "### Mini-patches"
   ]
  },
  {
   "cell_type": "code",
   "execution_count": 23,
   "metadata": {},
   "outputs": [
    {
     "data": {
      "text/plain": [
       "(867, torch.Size([7, 10, 5, 5]))"
      ]
     },
     "execution_count": 23,
     "metadata": {},
     "output_type": "execute_result"
    }
   ],
   "source": [
    "train_patches, train_patch_coordinates = non_overlapping_sliding_window(image_tensor_train, field_numbers_train, patch_size=5)\n",
    "eval_patches, eval_patch_coordinates = non_overlapping_sliding_window(image_tensor_eval, field_numbers_eval, patch_size=5)\n",
    "len(eval_patches), eval_patches[0].shape"
   ]
  },
  {
   "cell_type": "code",
   "execution_count": 24,
   "metadata": {},
   "outputs": [
    {
     "data": {
      "text/plain": [
       "(39042, 39042)"
      ]
     },
     "execution_count": 24,
     "metadata": {},
     "output_type": "execute_result"
    }
   ],
   "source": [
    "len(train_patches), len(train_patch_coordinates)"
   ]
  },
  {
   "cell_type": "code",
   "execution_count": 25,
   "metadata": {},
   "outputs": [],
   "source": [
    "train_patches = np.stack(train_patches)  # Shape: (N x 7 x 6 x 5 x 5)\n",
    "eval_patches = np.stack(eval_patches)   # Shape: (N x 7 x 6 x 5 x 5)"
   ]
  },
  {
   "cell_type": "code",
   "execution_count": 26,
   "metadata": {},
   "outputs": [
    {
     "data": {
      "text/plain": [
       "('1167134.0', 25, 25)"
      ]
     },
     "execution_count": 26,
     "metadata": {},
     "output_type": "execute_result"
    }
   ],
   "source": [
    "train_patch_coordinates[0]"
   ]
  },
  {
   "cell_type": "code",
   "execution_count": 27,
   "metadata": {},
   "outputs": [
    {
     "data": {
      "text/plain": [
       "'1167134.0_25_25'"
      ]
     },
     "execution_count": 27,
     "metadata": {},
     "output_type": "execute_result"
    }
   ],
   "source": [
    "train_coord_dataloader = field_nos_dataloader(train_patch_coordinates)\n",
    "eval_coord_dataloader = field_nos_dataloader(eval_patch_coordinates)\n",
    "train_coord_dataloader[0]"
   ]
  },
  {
   "cell_type": "code",
   "execution_count": 28,
   "metadata": {},
   "outputs": [
    {
     "data": {
      "text/plain": [
       "39042"
      ]
     },
     "execution_count": 28,
     "metadata": {},
     "output_type": "execute_result"
    }
   ],
   "source": [
    "len(train_coord_dataloader)"
   ]
  },
  {
   "cell_type": "markdown",
   "metadata": {},
   "source": [
    "### Data Loaders"
   ]
  },
  {
   "cell_type": "code",
   "execution_count": 29,
   "metadata": {},
   "outputs": [
    {
     "name": "stdout",
     "output_type": "stream",
     "text": [
      "Train Batch Inputs Shape: torch.Size([64, 10, 7, 5, 5])\n",
      "Train Batch Field Numbers: ('1189784.0_1189788.0_1189793.0_1189795.0_1218453.0_1218735.0_1218738.0_1218750.0_1218753.0_1223918.0_40_35', '1225455.0_15_45', '1224910.0_10_20', '1225307.0_45_25', '1224228.0_30_40', '1227879.0_40_35', '1179940.0_1179941.0_1179944.0_1179949.0_1228193.0_1228196.0_50_10', '1220499.0_1220503.0_1222263.0_1227969.0_1227970.0_1227975.0_40_30', '1218199.0_1218200.0_25_50', '1227724.0_20_40', '1234584.0_30_30', '1219165.0_35_30', '1227426.0_35_30', '1194590.0_35_30', '1169834.0_30_35', '1219168.0_1219170.0_1230929.0_35_30', '1220268.0_30_20', '1226956.0_25_30', '1224910.0_15_30', '1230841.0_20_20', '1224025.0_25_30', '1182585.0_25_40', '1226071.0_15_25', '1194486.0_1195607.0_1226195.0_1226392.0_40_40', '1217783.0_30_25', '1220423.0_30_30', '1223713.0_30_35', '1216570.0_1216574.0_40_50', '1223191.0_1229420.0_40_30', '1228643.0_20_30', '1220522.0_1220523.0_40_45', '1195940.0_30_30', '1221024.0_35_20', '1223563.0_1223594.0_1226128.0_5_25', '1219542.0_15_40', '1172014.0_1219677.0_1219679.0_25_20', '1177293.0_40_35', '1170182.0_1220443.0_40_30', '1184053.0_1184055.0_1184057.0_1184062.0_1185908.0_1217084.0_40_5', '1196497.0_1196498.0_20_30', '1219689.0_1223637.0_1223693.0_1223709.0_1223746.0_1224346.0_40_10', '1169923.0_1227309.0_40_25', '1194744.0_1194746.0_30_40', '1219894.0_25_30', '1222572.0_30_30', '1195768.0_35_30', '1225393.0_20_10', '1224226.0_20_10', '1176369.0_1222613.0_35_30', '1182504.0_1182506.0_1191586.0_1224144.0_1224147.0_1225256.0_1225257.0_1227974.0_1229481.0_45_35', '1187402.0_1222751.0_30_50', '1182504.0_1182506.0_1182507.0_1182511.0_1225256.0_40_0', '1221024.0_35_30', '1222510.0_30_35', '1231518.0_25_15', '1225824.0_30_20', '1216976.0_35_50', '1222610.0_1234342.0_30_30', '1196340.0_1221578.0_1221586.0_25_40', '1187077.0_1221746.0_15_40', '1223798.0_1227610.0_1227611.0_35_40', '1183207.0_1224125.0_20_40', '1216973.0_30_20', '1223254.0_35_25')\n",
      "Test Batch Inputs Shape: torch.Size([64, 10, 7, 5, 5])\n",
      "Test Batch Field Numbers: ('1222547.0_20_30', '1218303.0_15_25', '1218972.0_25_30', '1222791.0_30_35', '1223501.0_35_20', '1227490.0_30_30', '1189799.0_30_30', '1225455.0_35_25', '1234575.0_25_30', '1182955.0_25_25', '1182767.0_35_25', '1225950.0_1225952.0_1225956.0_30_20', '1187685.0_1187687.0_1187688.0_35_30', '1223879.0_30_40', '1179716.0_1222830.0_50_30', '1179923.0_1179924.0_1179925.0_1179927.0_1179929.0_1179930.0_25_25', '1223364.0_30_35', '1224912.0_30_25', '1221124.0_25_35', '1227580.0_35_10', '1180792.0_1185840.0_1216711.0_1225856.0_1228645.0_35_35', '1225437.0_25_25', '1220331.0_45_35', '1187038.0_1187039.0_25_25', '1224261.0_35_30', '1181153.0_30_25', '1179885.0_1220122.0_35_35', '1167963.0_1167964.0_20_20', '1227002.0_1227650.0_25_15', '1183110.0_30_20', '1225243.0_25_35', '1225108.0_1229489.0_30_15', '1216281.0_30_35', '1223790.0_20_35', '1228229.0_30_30', '1187077.0_1221746.0_40_30', '1216095.0_15_40', '1170134.0_1224012.0_30_30', '1224349.0_30_40', '1219697.0_25_30', '1224087.0_30_30', '1228339.0_25_30', '1168522.0_35_25', '1189641.0_35_30', '1228883.0_35_30', '1222361.0_30_25', '1168695.0_1220328.0_35_20', '1217039.0_1220329.0_20_30', '1180888.0_1180895.0_20_20', '1220365.0_1220367.0_1220369.0_20_25', '1169843.0_1169844.0_40_35', '1219894.0_30_5', '1191581.0_1224139.0_1224143.0_45_20', '1225870.0_1228623.0_20_20', '1224396.0_30_25', '1194297.0_1194299.0_1194300.0_1194301.0_1217493.0_20_45', '1217784.0_35_25', '1177284.0_1177318.0_1177321.0_1177520.0_1182096.0_1217803.0_20_30', '1189809.0_1226018.0_1228344.0_1228346.0_1228347.0_20_15', '1172752.0_1172753.0_1227428.0_45_40', '1172260.0_1218252.0_35_35', '1223220.0_1225758.0_1225764.0_40_10', '1177211.0_1183102.0_30_30', '1167541.0_1228263.0_50_10')\n"
     ]
    }
   ],
   "source": [
    "train_ratio = 0.8  \n",
    "\n",
    "# Split patches and corresponding field numbers\n",
    "train_patches, test_patches, train_field_numbers, test_field_numbers = train_test_split(\n",
    "    train_patches, train_coord_dataloader, test_size=1-train_ratio, random_state=42\n",
    ")\n",
    "\n",
    "# Create train and test dataloaders\n",
    "batch_size = 64\n",
    "dataloader_train = create_data_loader(train_patches, train_field_numbers, batch_size=batch_size, shuffle=True)\n",
    "dataloader_test = create_data_loader(test_patches, test_field_numbers, batch_size=batch_size, shuffle=False)\n",
    "\n",
    "for batch_inputs, batch_field_numbers in dataloader_train:\n",
    "    print(\"Train Batch Inputs Shape:\", batch_inputs.shape)\n",
    "    print(\"Train Batch Field Numbers:\", batch_field_numbers)\n",
    "    break  \n",
    "\n",
    "for batch_inputs, batch_field_numbers in dataloader_test:\n",
    "    print(\"Test Batch Inputs Shape:\", batch_inputs.shape)\n",
    "    print(\"Test Batch Field Numbers:\", batch_field_numbers)\n",
    "    break  "
   ]
  },
  {
   "cell_type": "code",
   "execution_count": 30,
   "metadata": {},
   "outputs": [
    {
     "name": "stdout",
     "output_type": "stream",
     "text": [
      "Eval Batch Inputs Shape: torch.Size([64, 10, 7, 5, 5])\n",
      "Eval Batch Field Numbers: ('1168039.0_20_25', '1168039.0_20_30', '1168039.0_20_35', '1168039.0_25_25', '1168039.0_25_30', '1168039.0_25_35', '1168039.0_30_25', '1168039.0_30_30', '1168039.0_30_35', '1168039.0_35_25', '1168039.0_35_30', '1168039.0_35_35', '1228889.0_25_15', '1228889.0_25_20', '1228889.0_25_25', '1228889.0_25_30', '1228889.0_25_35', '1228889.0_25_40', '1228889.0_30_15', '1228889.0_30_20', '1228889.0_30_25', '1228889.0_30_30', '1228889.0_30_35', '1228889.0_30_40', '1228889.0_35_15', '1228889.0_35_20', '1228889.0_35_25', '1228889.0_35_30', '1168663.0_1176271.0_25_35', '1168663.0_1176271.0_25_40', '1168663.0_1176271.0_30_20', '1168663.0_1176271.0_30_25', '1168663.0_1176271.0_30_30', '1168663.0_1176271.0_30_35', '1168663.0_1176271.0_30_40', '1168663.0_1176271.0_35_20', '1168663.0_1176271.0_35_25', '1168663.0_1176271.0_35_30', '1168663.0_1176271.0_35_35', '1168663.0_1176271.0_35_40', '1168692.0_1220431.0_15_20', '1168692.0_1220431.0_15_25', '1168692.0_1220431.0_15_30', '1168692.0_1220431.0_20_15', '1168692.0_1220431.0_20_20', '1168692.0_1220431.0_20_25', '1168692.0_1220431.0_20_30', '1168692.0_1220431.0_20_35', '1168692.0_1220431.0_25_15', '1168692.0_1220431.0_25_20', '1168692.0_1220431.0_25_25', '1168692.0_1220431.0_25_30', '1168692.0_1220431.0_25_35', '1168692.0_1220431.0_30_20', '1168692.0_1220431.0_30_25', '1168692.0_1220431.0_30_30', '1168692.0_1220431.0_30_35', '1168692.0_1220431.0_30_40', '1168692.0_1220431.0_35_30', '1168692.0_1220431.0_35_35', '1168692.0_1220431.0_35_40', '1168692.0_1220431.0_40_35', '1168692.0_1220431.0_40_40', '1168692.0_1220431.0_45_35')\n"
     ]
    }
   ],
   "source": [
    "batch_size = 64\n",
    "dataloader_eval = create_data_loader(eval_patches, eval_coord_dataloader, batch_size=batch_size, shuffle=False)\n",
    "\n",
    "for batch_inputs, batch_field_numbers in dataloader_eval:\n",
    "    print(\"Eval Batch Inputs Shape:\", batch_inputs.shape) \n",
    "    print(\"Eval Batch Field Numbers:\", batch_field_numbers)\n",
    "    break  "
   ]
  },
  {
   "cell_type": "markdown",
   "metadata": {},
   "source": [
    "### Pre-trained Models: Resnet3D"
   ]
  },
  {
   "cell_type": "code",
   "execution_count": 31,
   "metadata": {},
   "outputs": [
    {
     "data": {
      "text/plain": [
       "(31233, 7, 10, 5, 5)"
      ]
     },
     "execution_count": 31,
     "metadata": {},
     "output_type": "execute_result"
    }
   ],
   "source": [
    "device = 'cuda'\n",
    "train_patches.shape"
   ]
  },
  {
   "cell_type": "code",
   "execution_count": 32,
   "metadata": {},
   "outputs": [
    {
     "name": "stderr",
     "output_type": "stream",
     "text": [
      "/home/k64835/.local/lib/python3.8/site-packages/torchvision/models/_utils.py:208: UserWarning: The parameter 'pretrained' is deprecated since 0.13 and may be removed in the future, please use 'weights' instead.\n",
      "  warnings.warn(\n",
      "/home/k64835/.local/lib/python3.8/site-packages/torchvision/models/_utils.py:223: UserWarning: Arguments other than a weight enum or `None` for 'weights' are deprecated since 0.13 and may be removed in the future. The current behavior is equivalent to passing `weights=R3D_18_Weights.KINETICS400_V1`. You can also use `weights=R3D_18_Weights.DEFAULT` to get the most up-to-date weights.\n",
      "  warnings.warn(msg)\n"
     ]
    },
    {
     "name": "stdout",
     "output_type": "stream",
     "text": [
      "ResNet3D Extracted Features Shape: torch.Size([31233, 512])\n"
     ]
    }
   ],
   "source": [
    "resnet3d_extractor = ResNet3DFeatureExtractor()\n",
    "resnet3d_features_train, train_coord_dl = extract_features(resnet3d_extractor, dataloader_train, device)\n",
    "print(\"ResNet3D Extracted Features Shape:\", resnet3d_features_train.shape)  "
   ]
  },
  {
   "cell_type": "code",
   "execution_count": 33,
   "metadata": {},
   "outputs": [
    {
     "name": "stdout",
     "output_type": "stream",
     "text": [
      "ResNet3D Extracted Features Shape: torch.Size([7809, 512])\n"
     ]
    }
   ],
   "source": [
    "resnet3d_features_test, test_coord_dl = extract_features(resnet3d_extractor, dataloader_test, device)\n",
    "print(\"ResNet3D Extracted Features Shape:\", resnet3d_features_test.shape)  "
   ]
  },
  {
   "cell_type": "code",
   "execution_count": 34,
   "metadata": {},
   "outputs": [
    {
     "name": "stdout",
     "output_type": "stream",
     "text": [
      "ResNet3D Extracted Features Shape: torch.Size([867, 512])\n"
     ]
    }
   ],
   "source": [
    "resnet3d_features_eval, eval_coord_dl = extract_features(resnet3d_extractor, dataloader_eval, device)\n",
    "print(\"ResNet3D Extracted Features Shape:\", resnet3d_features_eval.shape)  "
   ]
  },
  {
   "cell_type": "markdown",
   "metadata": {},
   "source": [
    "### Evaluation"
   ]
  },
  {
   "cell_type": "code",
   "execution_count": 35,
   "metadata": {},
   "outputs": [
    {
     "name": "stderr",
     "output_type": "stream",
     "text": [
      "/home/k64835/.local/lib/python3.8/site-packages/sklearn/cluster/_kmeans.py:1416: FutureWarning: The default value of `n_init` will change from 10 to 'auto' in 1.4. Set the value of `n_init` explicitly to suppress the warning\n",
      "  super()._check_params_vs_input(X, default_n_init=10)\n"
     ]
    }
   ],
   "source": [
    "kmeans = train_kmeans_patches(resnet3d_features_train.cpu(), n_clusters=2, random_state=12)\n",
    "\n",
    "train_patch_predictions = kmeans.predict(resnet3d_features_train.reshape(resnet3d_features_train.size(0), -1).numpy().astype(np.float32))\n",
    "test_patch_predictions = kmeans.predict(resnet3d_features_test.reshape(resnet3d_features_test.size(0), -1).numpy().astype(np.float32))\n",
    "eval_patch_predictions = kmeans.predict(resnet3d_features_eval.reshape(resnet3d_features_eval.size(0), -1).numpy().astype(np.float32))"
   ]
  },
  {
   "cell_type": "code",
   "execution_count": 36,
   "metadata": {},
   "outputs": [],
   "source": [
    "# Assign field labels\n",
    "threshold = 0.5\n",
    "train_field_labels = assign_field_labels_ae(train_coord_dl, train_patch_predictions, threshold)\n",
    "test_field_labels = assign_field_labels_ae(test_coord_dl, test_patch_predictions, threshold)\n",
    "eval_field_labels = assign_field_labels_ae(eval_coord_dl, eval_patch_predictions, threshold)"
   ]
  },
  {
   "cell_type": "code",
   "execution_count": 37,
   "metadata": {},
   "outputs": [
    {
     "name": "stdout",
     "output_type": "stream",
     "text": [
      "Test Accuracy: 0.5245901639344263\n",
      "              precision    recall  f1-score   support\n",
      "\n",
      "           0       0.40      0.23      0.29        26\n",
      "           1       0.57      0.74      0.64        35\n",
      "\n",
      "    accuracy                           0.52        61\n",
      "   macro avg       0.48      0.49      0.47        61\n",
      "weighted avg       0.49      0.52      0.49        61\n",
      "\n"
     ]
    }
   ],
   "source": [
    "accuracy, report, x_y_coords = evaluate_test_labels_ae(eval_field_labels, config.labels_path)\n",
    "print(f\"Test Accuracy: {accuracy}\")\n",
    "print(report)"
   ]
  },
  {
   "cell_type": "code",
   "execution_count": 39,
   "metadata": {},
   "outputs": [],
   "source": [
    "convlstm_extractor = ConvLSTMFeatureExtractor()\n",
    "convlstm_features_train, train_coord_dl = extract_features(convlstm_extractor, dataloader_train, device)\n",
    "print(\"ConvLSTM Extracted Features Shape:\", convlstm_features_train.shape)\n"
   ]
  },
  {
   "cell_type": "code",
   "execution_count": null,
   "metadata": {},
   "outputs": [
    {
     "name": "stdout",
     "output_type": "stream",
     "text": [
      "ResNet3D Extracted Features Shape: torch.Size([7809, 512])\n"
     ]
    }
   ],
   "source": [
    "convlstm_features_test, test_coord_dl = extract_features(convlstm_extractor, dataloader_test, device)\n",
    "print(\"ResNet3D Extracted Features Shape:\", convlstm_features_test.shape)  "
   ]
  },
  {
   "cell_type": "code",
   "execution_count": null,
   "metadata": {},
   "outputs": [
    {
     "name": "stdout",
     "output_type": "stream",
     "text": [
      "ResNet3D Extracted Features Shape: torch.Size([867, 512])\n"
     ]
    }
   ],
   "source": [
    "convlstm_features_eval, eval_coord_dl = extract_features(convlstm_extractor, dataloader_eval, device)\n",
    "print(\"ResNet3D Extracted Features Shape:\", convlstm_features_eval.shape)  "
   ]
  },
  {
   "cell_type": "markdown",
   "metadata": {},
   "source": [
    "### Evaluation"
   ]
  },
  {
   "cell_type": "code",
   "execution_count": null,
   "metadata": {},
   "outputs": [
    {
     "name": "stderr",
     "output_type": "stream",
     "text": [
      "/home/k64835/.local/lib/python3.8/site-packages/sklearn/cluster/_kmeans.py:1416: FutureWarning: The default value of `n_init` will change from 10 to 'auto' in 1.4. Set the value of `n_init` explicitly to suppress the warning\n",
      "  super()._check_params_vs_input(X, default_n_init=10)\n"
     ]
    }
   ],
   "source": [
    "kmeans = train_kmeans_patches(convlstm_features_train.cpu(), n_clusters=2, random_state=12)\n",
    "\n",
    "train_patch_predictions = kmeans.predict(convlstm_features_train.reshape(convlstm_features_train.size(0), -1).numpy().astype(np.float32))\n",
    "test_patch_predictions = kmeans.predict(convlstm_features_test.reshape(convlstm_features_test.size(0), -1).numpy().astype(np.float32))\n",
    "eval_patch_predictions = kmeans.predict(convlstm_features_eval.reshape(convlstm_features_eval.size(0), -1).numpy().astype(np.float32))"
   ]
  },
  {
   "cell_type": "code",
   "execution_count": null,
   "metadata": {},
   "outputs": [],
   "source": [
    "# Assign field labels\n",
    "threshold = 0.5\n",
    "train_field_labels = assign_field_labels_ae(train_coord_dl, train_patch_predictions, threshold)\n",
    "test_field_labels = assign_field_labels_ae(test_coord_dl, test_patch_predictions, threshold)\n",
    "eval_field_labels = assign_field_labels_ae(eval_coord_dl, eval_patch_predictions, threshold)"
   ]
  },
  {
   "cell_type": "code",
   "execution_count": null,
   "metadata": {},
   "outputs": [
    {
     "name": "stdout",
     "output_type": "stream",
     "text": [
      "Test Accuracy: 0.5245901639344263\n",
      "              precision    recall  f1-score   support\n",
      "\n",
      "           0       0.40      0.23      0.29        26\n",
      "           1       0.57      0.74      0.64        35\n",
      "\n",
      "    accuracy                           0.52        61\n",
      "   macro avg       0.48      0.49      0.47        61\n",
      "weighted avg       0.49      0.52      0.49        61\n",
      "\n"
     ]
    }
   ],
   "source": [
    "accuracy, report, x_y_coords = evaluate_test_labels_ae(eval_field_labels, config.labels_path)\n",
    "print(f\"Test Accuracy: {accuracy}\")\n",
    "print(report)"
   ]
  },
  {
   "cell_type": "markdown",
   "metadata": {},
   "source": []
  }
 ],
 "metadata": {
  "kernelspec": {
   "display_name": "Python 3",
   "language": "python",
   "name": "python3"
  },
  "language_info": {
   "codemirror_mode": {
    "name": "ipython",
    "version": 3
   },
   "file_extension": ".py",
   "mimetype": "text/x-python",
   "name": "python",
   "nbconvert_exporter": "python",
   "pygments_lexer": "ipython3",
   "version": "3.8.10"
  }
 },
 "nbformat": 4,
 "nbformat_minor": 2
}
