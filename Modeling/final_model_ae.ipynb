{
 "cells": [
  {
   "cell_type": "markdown",
   "metadata": {},
   "source": [
    "## Imports"
   ]
  },
  {
   "cell_type": "code",
   "execution_count": null,
   "metadata": {},
   "outputs": [],
   "source": [
    "%load_ext autoreload\n",
    "%autoreload 2"
   ]
  },
  {
   "cell_type": "code",
   "execution_count": null,
   "metadata": {},
   "outputs": [],
   "source": [
    "import os, sys\n",
    "from pathlib import Path\n",
    "\n",
    "os.environ['PYTORCH_ENABLE_MPS_FALLBACK'] = '1'\n",
    "sys.path.append('/home/k64835/Master-Thesis-SITS')\n",
    "\n",
    "scripts_path = Path(\"../Data-Preprocessing/\").resolve()\n",
    "sys.path.append(str(scripts_path))\n",
    "\n",
    "scripts_path = Path(\"../Evaluation/\").resolve()\n",
    "sys.path.append(str(scripts_path))"
   ]
  },
  {
   "cell_type": "code",
   "execution_count": null,
   "metadata": {},
   "outputs": [
    {
     "name": "stderr",
     "output_type": "stream",
     "text": [
      "/home/k64835/.local/lib/python3.8/site-packages/torchvision/io/image.py:13: UserWarning: Failed to load image Python extension: '/home/k64835/.local/lib/python3.8/site-packages/torchvision/image.so: undefined symbol: _ZN3c1017RegisterOperatorsD1Ev'If you don't plan on using image functionality from `torchvision.io`, you can ignore this warning. Otherwise, there might be something wrong with your environment. Did you have `libjpeg` or `libpng` installed before building `torchvision` from source?\n",
      "  warn(\n"
     ]
    }
   ],
   "source": [
    "import pickle\n",
    "import time\n",
    "from sklearn.cluster import KMeans\n",
    "from sklearn.neighbors import NearestCentroid\n",
    "from scripts.data_visualiser import *\n",
    "from sklearn.manifold import TSNE \n",
    "import torch.nn.functional as F\n",
    "from sklearn.model_selection import train_test_split\n",
    "from model_scripts.subpatch_extraction import *\n",
    "from scripts.data_loader import *\n",
    "from scripts.data_preprocessor import *\n",
    "from scripts.temporal_data_preprocessor import *\n",
    "from scripts.temporal_data_loader import *\n",
    "from scripts.temporal_visualiser import *\n",
    "from scripts.temporal_chanel_refinement import *\n",
    "from model_scripts.model_helper import *\n",
    "from model_scripts.dataset_creation import *\n",
    "from model_scripts.train_model_ae import *\n",
    "from model_scripts.model_visualiser import *\n",
    "from model_scripts.clustering import *\n",
    "from model_scripts.train_model_dcec import *\n",
    "from evaluation_scripts.evaluation_helper import *\n",
    "from evaluation_scripts.result_visualiser import *\n",
    "from Pipeline.temporal_preprocessing_pipeline import *\n",
    "from evaluation_scripts.result_visualiser import *\n",
    "from Pipeline.temporal_preprocessing_pipeline import *\n",
    "import numpy as np\n",
    "import config as config\n",
    "from sklearn.cluster import KMeans\n",
    "from sklearn.metrics import adjusted_rand_score\n",
    "from sklearn.cluster import DBSCAN\n",
    "from sklearn.decomposition import PCA\n",
    "import skimage.measure\n",
    "import torch\n",
    "import torch.nn as nn\n",
    "import torch.optim as optim"
   ]
  },
  {
   "cell_type": "markdown",
   "metadata": {},
   "source": [
    "## Dataset prep: B10"
   ]
  },
  {
   "cell_type": "markdown",
   "metadata": {},
   "source": [
    "### Loading the pre-processed data\n",
    "\n",
    "Data: Extracted and Pre-processed Patches (each patch containing a sugarbeet field)\n",
    "\n",
    "Dimensions: (N, T, C, H, W) = (N, 7, 10, 64, 64)"
   ]
  },
  {
   "cell_type": "code",
   "execution_count": null,
   "metadata": {},
   "outputs": [
    {
     "data": {
      "text/plain": [
       "(torch.Size([2425, 7, 12, 64, 64]), torch.Size([48, 7, 12, 64, 64]))"
      ]
     },
     "metadata": {},
     "output_type": "display_data"
    }
   ],
   "source": [
    "preprocessing_pipeline = PreProcessingPipelineTemporal()\n",
    "field_numbers_train, acquisition_dates_train, patch_tensor_train, images_visualisation_train = preprocessing_pipeline.get_processed_temporal_cubes('train', 'b10t', method='sin-cos')\n",
    "field_numbers_eval, acquisition_dates_eval, patch_tensor_eval, images_visualisation_eval = preprocessing_pipeline.get_processed_temporal_cubes('eval', 'b10t', method='sin-cos')\n",
    "patch_tensor_train.shape, patch_tensor_eval.shape"
   ]
  },
  {
   "cell_type": "markdown",
   "metadata": {},
   "source": [
    "Dictionary for subpatch-to-patch mapping of reconstructed images"
   ]
  },
  {
   "cell_type": "code",
   "execution_count": null,
   "metadata": {},
   "outputs": [],
   "source": [
    "old_images_train = {fn: img for fn, img in zip(field_numbers_train, images_visualisation_train)}\n",
    "old_images_eval = {fn: img for fn, img in zip(field_numbers_eval, images_visualisation_eval)}"
   ]
  },
  {
   "cell_type": "code",
   "execution_count": null,
   "metadata": {},
   "outputs": [],
   "source": [
    "acq_dict_train = {fn: date for fn, date in zip(field_numbers_train, acquisition_dates_train)}\n",
    "acq_dict_eval = {fn: date for fn, date in zip(field_numbers_train, acquisition_dates_eval)}"
   ]
  },
  {
   "cell_type": "code",
   "execution_count": null,
   "metadata": {},
   "outputs": [],
   "source": [
    "# train_tensor, test_tensor, train_field_numbers, test_field_numbers = train_test_split(\n",
    "#     patch_tensor_train, field_numbers_train, test_size=1-config.ae_train_test_ratio, random_state=42\n",
    "# )\n",
    "\n",
    "# dataloader_train = create_data_loader(train_tensor, train_field_numbers, batch_size=config.ae_batch_size, shuffle=True)\n",
    "# dataloader_test = create_data_loader(test_tensor, test_field_numbers, batch_size=config.ae_batch_size, shuffle=False)\n",
    "# dataloader_eval = create_data_loader(patch_tensor_eval, field_numbers_eval, batch_size=config.ae_batch_size, shuffle=False)"
   ]
  },
  {
   "cell_type": "markdown",
   "metadata": {},
   "source": [
    "### Create Sub-Patches"
   ]
  },
  {
   "cell_type": "code",
   "execution_count": null,
   "metadata": {},
   "outputs": [
    {
     "data": {
      "text/plain": [
       "(torch.Size([54623, 7, 12, 4, 4]), torch.Size([1197, 7, 12, 4, 4]))"
      ]
     },
     "metadata": {},
     "output_type": "display_data"
    }
   ],
   "source": [
    "train_subpatches, train_subpatch_coords = non_overlapping_sliding_window(patch_tensor_train, field_numbers_train, patch_size=config.subpatch_size, num_encoding_channels=config.num_encoding_channels)\n",
    "eval_subpatches, eval_subpatch_coords = non_overlapping_sliding_window(patch_tensor_eval, field_numbers_eval, patch_size=config.subpatch_size, num_encoding_channels=config.num_encoding_channels)\n",
    "train_subpatches.shape, eval_subpatches.shape"
   ]
  },
  {
   "cell_type": "markdown",
   "metadata": {},
   "source": [
    "Get field numbers and co-ordinates as string"
   ]
  },
  {
   "cell_type": "code",
   "execution_count": null,
   "metadata": {},
   "outputs": [
    {
     "data": {
      "text/plain": [
       "'1167134.0_24_28'"
      ]
     },
     "metadata": {},
     "output_type": "display_data"
    }
   ],
   "source": [
    "train_coord_dataloader = get_string_fielddata(train_subpatch_coords)\n",
    "eval_coord_dataloader = get_string_fielddata(eval_subpatch_coords)\n",
    "train_coord_dataloader[0]"
   ]
  },
  {
   "cell_type": "markdown",
   "metadata": {},
   "source": [
    "### Split Unlabeled data into 'train' and 'test' and create  Data Loaders"
   ]
  },
  {
   "cell_type": "code",
   "execution_count": null,
   "metadata": {},
   "outputs": [],
   "source": [
    "train_subpatches_dl, test_subpatches, train_field_numbers, test_field_numbers = train_test_split(\n",
    "    train_subpatches, train_coord_dataloader, test_size=1-config.ae_train_test_ratio, random_state=42\n",
    ")\n",
    "\n",
    "dataloader_train = create_data_loader(train_subpatches_dl, train_field_numbers, batch_size=config.ae_batch_size, shuffle=True)\n",
    "dataloader_test = create_data_loader(test_subpatches, test_field_numbers, batch_size=config.ae_batch_size, shuffle=False)\n",
    "dataloader_eval = create_data_loader(eval_subpatches, eval_coord_dataloader, batch_size=config.ae_batch_size, shuffle=False)"
   ]
  },
  {
   "cell_type": "markdown",
   "metadata": {},
   "source": [
    "## Architecture 1: Conv3D Autoencoder"
   ]
  },
  {
   "cell_type": "markdown",
   "metadata": {},
   "source": [
    "### Architecture"
   ]
  },
  {
   "cell_type": "markdown",
   "metadata": {},
   "source": [
    "Input Data: ( N x C x D x H x W )"
   ]
  },
  {
   "cell_type": "code",
   "execution_count": null,
   "metadata": {},
   "outputs": [],
   "source": [
    "# class Conv3DAutoencoder(nn.Module):\n",
    "#     def __init__(self, in_channels, time_steps, latent_size, patch_size):\n",
    "#         super(Conv3DAutoencoder, self).__init__()\n",
    "\n",
    "#         self.time_steps = time_steps\n",
    "#         self.in_channels = in_channels\n",
    "#         self.patch_size = patch_size\n",
    "\n",
    "#         # --- Encoder (3D Convolutions) ---\n",
    "#         self.conv1 = nn.Conv3d(in_channels, 64, kernel_size=3, stride=1, padding=1)\n",
    "#         self.conv2 = nn.Conv3d(64, 128, kernel_size=3, stride=1, padding=1)\n",
    "#         self.conv3 = nn.Conv3d(128, 256, kernel_size=3, stride=1, padding=1)\n",
    "\n",
    "#         # --- 1D Convolution (Time Aggregation) ---\n",
    "#         self.conv1d = nn.Conv1d(256 * patch_size * patch_size, 256 * patch_size * patch_size, kernel_size=time_steps, stride=1, padding=0, groups=128 * patch_size * patch_size)\n",
    "\n",
    "#         # --- Fully Connected Latent Space ---\n",
    "#         self.flatten = nn.Flatten()\n",
    "#         self.fc1 = nn.Linear(256 * patch_size * patch_size, 512)   \n",
    "#         self.fc2 = nn.Linear(512, latent_size)\n",
    "\n",
    "#         # --- Decoder (Fully Connected) ---\n",
    "#         self.fc3 = nn.Linear(latent_size, 512)\n",
    "#         self.fc4 = nn.Linear(512, 256 * patch_size * patch_size)  \n",
    "\n",
    "#         # --- 1D Deconvolution to Expand Time Back ---\n",
    "#         self.deconv1d = nn.ConvTranspose1d(256 * patch_size * patch_size, 256 * patch_size * patch_size, kernel_size=time_steps, stride=1, padding=0, groups=128 * patch_size * patch_size)\n",
    "\n",
    "#         # --- 3D Deconvolutions ---\n",
    "#         self.unflatten = nn.Unflatten(1, (256, patch_size, patch_size))\n",
    "#         self.deconv1 = nn.ConvTranspose3d(256, 128, kernel_size=3, stride=1, padding=1)\n",
    "#         self.deconv2 = nn.ConvTranspose3d(128, 64, kernel_size=3, stride=1, padding=1)\n",
    "#         self.deconv3 = nn.ConvTranspose3d(64, in_channels, kernel_size=3, stride=1, padding=1)\n",
    "\n",
    "#     def forward(self, x):\n",
    "        \n",
    "#         start = time.perf_counter()\n",
    "#         # --- Encoder ---\n",
    "#         x = F.relu(self.conv1(x))\n",
    "#         x = F.relu(self.conv2(x))\n",
    "#         x = F.relu(self.conv3(x))\n",
    "#         end = time.perf_counter()\n",
    "#         print(f\"Encoder blocks Time taken: {end - start:.4f} seconds\")\n",
    "\n",
    "#         # --- Reshape for 1D Conv ---\n",
    "#         b, c, t, h, w = x.shape  \n",
    "#         # print(\"x shape initial: \",x.shape)\n",
    "#         x = x.view(b, c * h * w, t)                     # (batch, 800, time)\n",
    "#         start = time.perf_counter()\n",
    "#         # print(f\"Shape before 1D Conv: {x.shape}\") \n",
    "#         x = self.conv1d(x)                              # Time aggregation\n",
    "#         # print(f\"Shape after 1D Conv: {x.shape}\")      # (batch, 800, 1)\n",
    "#         end = time.perf_counter()\n",
    "#         print(f\"1D Conv Time taken: {end - start:.4f} seconds\")\n",
    "\n",
    "#         start = time.perf_counter()\n",
    "#         # --- Flatten and Fully Connected ---\n",
    "#         x = self.flatten(x)  \n",
    "#         x = F.relu(self.fc1(x))\n",
    "#         z = self.fc2(x) \n",
    "\n",
    "#         # --- Decoder ---\n",
    "#         x = F.relu(self.fc3(z))\n",
    "#         x = F.relu(self.fc4(x)) \n",
    "#         end = time.perf_counter()\n",
    "#         print(f\"FC layers Time taken: {end - start:.4f} seconds\")\n",
    "\n",
    "#         start = time.perf_counter()\n",
    "#         # --- Expand Time Back ---\n",
    "#         # print(f\"Shape before reshape: {x.shape}\")  # (batch, 800, time_steps)\n",
    "#         x = x.view(b, 256 * self.patch_size * self.patch_size, 1)  \n",
    "#         x = self.deconv1d(x) \n",
    "#         # print(f\"Shape after Deconv1D: {x.shape}\")  # (batch, 800, time_steps)\n",
    "#         end = time.perf_counter()\n",
    "#         print(f\"Deconv 1D Time taken: {end - start:.4f} seconds\")\n",
    "\n",
    "#         # --- Reshape for 3D Deconvolutions ---\n",
    "#         x = x.view(b, -1, self.time_steps, h, w)  \n",
    "#         # print(\"x before unflatten\", x.shape)\n",
    "#         start = time.perf_counter()\n",
    "#         # --- 3D Deconvolutions ---\n",
    "#         x = F.relu(self.deconv1(x))\n",
    "#         x = F.relu(self.deconv2(x))\n",
    "#         x_reconstructed = self.deconv3(x) \n",
    "#         end = time.perf_counter()\n",
    "#         print(f\"Deconv 3D Time taken: {end - start:.4f} seconds\") \n",
    "\n",
    "#         return z, x_reconstructed"
   ]
  },
  {
   "cell_type": "code",
   "execution_count": null,
   "metadata": {},
   "outputs": [],
   "source": [
    "# class Conv3DAutoencoder(nn.Module):\n",
    "#     def __init__(self, in_channels, time_steps, latent_size, patch_size):\n",
    "#         super(Conv3DAutoencoder, self).__init__()\n",
    "\n",
    "#         self.time_steps = time_steps\n",
    "#         self.in_channels = in_channels\n",
    "#         self.patch_size = patch_size\n",
    "\n",
    "#         # --- Encoder (3D Convolutions) ---\n",
    "#         self.conv1 = nn.Conv3d(in_channels, 64, kernel_size=3, stride=1, padding=1)\n",
    "#         self.conv2 = nn.Conv3d(64, 128, kernel_size=3, stride=1, padding=1)\n",
    "#         self.conv3 = nn.Conv3d(128, 256, kernel_size=3, stride=1, padding=1)\n",
    "\n",
    "#         # --- Fully Connected Latent Space ---\n",
    "#         self.flatten = nn.Flatten()\n",
    "#         self.fc1 = nn.Linear(256 * patch_size * patch_size * time_steps, 512)   \n",
    "#         self.fc2 = nn.Linear(512, latent_size)\n",
    "\n",
    "#         # --- Decoder (Fully Connected) ---\n",
    "#         self.fc3 = nn.Linear(latent_size, 512)\n",
    "#         self.fc4 = nn.Linear(512, 256 * patch_size * patch_size * time_steps)\n",
    "\n",
    "#         # --- 3D Deconvolutions (Transpose convolutions) ---\n",
    "#         self.unflatten = nn.Unflatten(1, (256, time_steps, patch_size, patch_size))\n",
    "#         self.deconv1 = nn.ConvTranspose3d(256, 128, kernel_size=3, stride=1, padding=1)\n",
    "#         self.deconv2 = nn.ConvTranspose3d(128, 64, kernel_size=3, stride=1, padding=1)\n",
    "#         self.deconv3 = nn.ConvTranspose3d(64, in_channels, kernel_size=3, stride=1, padding=1)\n",
    "\n",
    "\n",
    "#     def forward(self, x):\n",
    "        \n",
    "#         # --- Encoder ---\n",
    "#         x = F.relu(self.conv1(x))\n",
    "#         x = F.relu(self.conv2(x))\n",
    "#         x = F.relu(self.conv3(x))\n",
    "\n",
    "#         # --- Flatten and Fully Connected ---\n",
    "#         b, c, t, h, w = x.shape                 # (B, C, T, H, W)\n",
    "#         x = self.flatten(x)  \n",
    "#         x = F.relu(self.fc1(x))\n",
    "#         z = self.fc2(x)                         # Bottleneck    \n",
    "\n",
    "#         # --- Decoder ---\n",
    "#         x = F.relu(self.fc3(z))\n",
    "#         x = F.relu(self.fc4(x))\n",
    "\n",
    "#         # --- Reshape and 3D Deconvolutions ---\n",
    "#         x = self.unflatten(x)                   # (B, C, H, W, T)\n",
    "#         x = F.relu(self.deconv1(x))\n",
    "#         x = F.relu(self.deconv2(x))\n",
    "#         x_reconstructed = self.deconv3(x)       # Reconstruction\n",
    "\n",
    "#         return z, x_reconstructed"
   ]
  },
  {
   "cell_type": "code",
   "execution_count": null,
   "metadata": {},
   "outputs": [],
   "source": [
    "class Conv3DAutoencoder(nn.Module):\n",
    "    def __init__(self, in_channels, time_steps, latent_size, patch_size):\n",
    "        super(Conv3DAutoencoder, self).__init__()\n",
    "\n",
    "        self.time_steps = time_steps\n",
    "        self.in_channels = in_channels\n",
    "        self.patch_size = patch_size\n",
    "\n",
    "        # --- Encoder (3D Convolutions + BatchNorm) ---\n",
    "        self.conv1 = nn.Conv3d(in_channels, 64, kernel_size=3, stride=1, padding=1)\n",
    "        self.bn1 = nn.BatchNorm3d(64)\n",
    "\n",
    "        self.conv2 = nn.Conv3d(64, 128, kernel_size=3, stride=1, padding=1)\n",
    "        self.bn2 = nn.BatchNorm3d(128)\n",
    "\n",
    "        self.conv3 = nn.Conv3d(128, 256, kernel_size=3, stride=1, padding=1)\n",
    "        self.bn3 = nn.BatchNorm3d(256)\n",
    "\n",
    "        # --- Fully Connected Latent Space ---\n",
    "        self.flatten = nn.Flatten()\n",
    "        self.fc1 = nn.Linear(256 * patch_size * patch_size * time_steps, 512)\n",
    "        self.dropout1 = nn.Dropout(0.3)\n",
    "        self.fc2 = nn.Linear(512, latent_size)\n",
    "\n",
    "        # --- Decoder (Fully Connected) ---\n",
    "        self.fc3 = nn.Linear(latent_size, 512)\n",
    "        self.dropout2 = nn.Dropout(0.3)\n",
    "        self.fc4 = nn.Linear(512, 256 * patch_size * patch_size * time_steps)\n",
    "\n",
    "        # --- 3D Deconvolutions (Transpose convolutions + BatchNorm) ---\n",
    "        self.unflatten = nn.Unflatten(1, (256, time_steps, patch_size, patch_size))\n",
    "\n",
    "        self.deconv1 = nn.ConvTranspose3d(256, 128, kernel_size=3, stride=1, padding=1)\n",
    "        self.bn4 = nn.BatchNorm3d(128)\n",
    "\n",
    "        self.deconv2 = nn.ConvTranspose3d(128, 64, kernel_size=3, stride=1, padding=1)\n",
    "        self.bn5 = nn.BatchNorm3d(64)\n",
    "\n",
    "        self.deconv3 = nn.ConvTranspose3d(64, in_channels, kernel_size=3, stride=1, padding=1)\n",
    "\n",
    "    def forward(self, x):\n",
    "        # --- Encoder ---\n",
    "        x = F.relu(self.bn1(self.conv1(x)))\n",
    "        x = F.relu(self.bn2(self.conv2(x)))\n",
    "        x = F.relu(self.bn3(self.conv3(x)))\n",
    "\n",
    "        # --- Flatten and Fully Connected ---\n",
    "        b, c, t, h, w = x.shape\n",
    "        x = self.flatten(x)\n",
    "        x = F.relu(self.fc1(x))\n",
    "        x = self.dropout1(x)\n",
    "        z = self.fc2(x)  # Latent space\n",
    "\n",
    "        # --- Decoder ---\n",
    "        x = F.relu(self.fc3(z))\n",
    "        x = self.dropout2(x)\n",
    "        x = F.relu(self.fc4(x))\n",
    "\n",
    "        # --- Reshape and Deconvolutions ---\n",
    "        x = self.unflatten(x)\n",
    "        x = F.relu(self.bn4(self.deconv1(x)))\n",
    "        x = F.relu(self.bn5(self.deconv2(x)))\n",
    "        x_reconstructed = self.deconv3(x)\n",
    "\n",
    "        return z, x_reconstructed\n"
   ]
  },
  {
   "cell_type": "markdown",
   "metadata": {},
   "source": [
    "### Training"
   ]
  },
  {
   "cell_type": "code",
   "execution_count": null,
   "metadata": {},
   "outputs": [
    {
     "data": {
      "text/plain": [
       "Conv3DAutoencoder(\n",
       "  (conv1): Conv3d(12, 64, kernel_size=(3, 3, 3), stride=(1, 1, 1), padding=(1, 1, 1))\n",
       "  (bn1): BatchNorm3d(64, eps=1e-05, momentum=0.1, affine=True, track_running_stats=True)\n",
       "  (conv2): Conv3d(64, 128, kernel_size=(3, 3, 3), stride=(1, 1, 1), padding=(1, 1, 1))\n",
       "  (bn2): BatchNorm3d(128, eps=1e-05, momentum=0.1, affine=True, track_running_stats=True)\n",
       "  (conv3): Conv3d(128, 256, kernel_size=(3, 3, 3), stride=(1, 1, 1), padding=(1, 1, 1))\n",
       "  (bn3): BatchNorm3d(256, eps=1e-05, momentum=0.1, affine=True, track_running_stats=True)\n",
       "  (flatten): Flatten(start_dim=1, end_dim=-1)\n",
       "  (fc1): Linear(in_features=28672, out_features=512, bias=True)\n",
       "  (dropout1): Dropout(p=0.5, inplace=False)\n",
       "  (fc2): Linear(in_features=512, out_features=32, bias=True)\n",
       "  (fc3): Linear(in_features=32, out_features=512, bias=True)\n",
       "  (dropout2): Dropout(p=0.5, inplace=False)\n",
       "  (fc4): Linear(in_features=512, out_features=28672, bias=True)\n",
       "  (unflatten): Unflatten(dim=1, unflattened_size=(256, 7, 4, 4))\n",
       "  (deconv1): ConvTranspose3d(256, 128, kernel_size=(3, 3, 3), stride=(1, 1, 1), padding=(1, 1, 1))\n",
       "  (bn4): BatchNorm3d(128, eps=1e-05, momentum=0.1, affine=True, track_running_stats=True)\n",
       "  (deconv2): ConvTranspose3d(128, 64, kernel_size=(3, 3, 3), stride=(1, 1, 1), padding=(1, 1, 1))\n",
       "  (bn5): BatchNorm3d(64, eps=1e-05, momentum=0.1, affine=True, track_running_stats=True)\n",
       "  (deconv3): ConvTranspose3d(64, 12, kernel_size=(3, 3, 3), stride=(1, 1, 1), padding=(1, 1, 1))\n",
       ")"
      ]
     },
     "metadata": {},
     "output_type": "display_data"
    }
   ],
   "source": [
    "device = 'cuda'\n",
    "epochs = 50\n",
    "lr = 0.01\n",
    "momentum=0.8\n",
    "latent_dim=32\n",
    "channels = 12\n",
    "time_steps = 7\n",
    "optimizer = 'SGD'\n",
    "weight_decay = 0.01\n",
    "patch_size = config.subpatch_size\n",
    "\n",
    "model = Conv3DAutoencoder(channels, time_steps, latent_dim, patch_size)\n",
    "device = torch.device(device)  \n",
    "model.to(device)"
   ]
  },
  {
   "cell_type": "code",
   "execution_count": null,
   "metadata": {},
   "outputs": [
    {
     "name": "stdout",
     "output_type": "stream",
     "text": [
      "Time taken per epoch: 10.4187 seconds\n",
      "Epoch 1/50, Train Loss: 0.022183, Test Loss: 0.008067\n",
      "Time taken per epoch: 10.6427 seconds\n",
      "Epoch 2/50, Train Loss: 0.006174, Test Loss: 0.006446\n",
      "Time taken per epoch: 10.5537 seconds\n",
      "Epoch 3/50, Train Loss: 0.004975, Test Loss: 0.005806\n",
      "Time taken per epoch: 10.5406 seconds\n",
      "Epoch 4/50, Train Loss: 0.004380, Test Loss: 0.005680\n",
      "Time taken per epoch: 10.3864 seconds\n",
      "Epoch 5/50, Train Loss: 0.004011, Test Loss: 0.005292\n",
      "Time taken per epoch: 10.4992 seconds\n",
      "Epoch 6/50, Train Loss: 0.003753, Test Loss: 0.004995\n",
      "Time taken per epoch: 10.4154 seconds\n",
      "Epoch 7/50, Train Loss: 0.003563, Test Loss: 0.004988\n",
      "Time taken per epoch: 10.4219 seconds\n",
      "Epoch 8/50, Train Loss: 0.003404, Test Loss: 0.004839\n",
      "Time taken per epoch: 10.5864 seconds\n",
      "Epoch 9/50, Train Loss: 0.003272, Test Loss: 0.004686\n",
      "Time taken per epoch: 10.5083 seconds\n",
      "Epoch 10/50, Train Loss: 0.003153, Test Loss: 0.004696\n",
      "Time taken per epoch: 10.6330 seconds\n",
      "Epoch 11/50, Train Loss: 0.003048, Test Loss: 0.004627\n",
      "Time taken per epoch: 10.4627 seconds\n",
      "Epoch 12/50, Train Loss: 0.002949, Test Loss: 0.004389\n",
      "Time taken per epoch: 10.7136 seconds\n",
      "Epoch 13/50, Train Loss: 0.002861, Test Loss: 0.004286\n",
      "Time taken per epoch: 10.7129 seconds\n",
      "Epoch 14/50, Train Loss: 0.002785, Test Loss: 0.004246\n",
      "Time taken per epoch: 10.6053 seconds\n",
      "Epoch 15/50, Train Loss: 0.002704, Test Loss: 0.004018\n",
      "Time taken per epoch: 10.5688 seconds\n",
      "Epoch 16/50, Train Loss: 0.002635, Test Loss: 0.003988\n",
      "Time taken per epoch: 10.5278 seconds\n",
      "Epoch 17/50, Train Loss: 0.002564, Test Loss: 0.003953\n",
      "Time taken per epoch: 10.5348 seconds\n",
      "Epoch 18/50, Train Loss: 0.002500, Test Loss: 0.003925\n",
      "Time taken per epoch: 10.8429 seconds\n",
      "Epoch 19/50, Train Loss: 0.002444, Test Loss: 0.003785\n",
      "Time taken per epoch: 10.9531 seconds\n",
      "Epoch 20/50, Train Loss: 0.002380, Test Loss: 0.003738\n",
      "Time taken per epoch: 10.6603 seconds\n",
      "Epoch 21/50, Train Loss: 0.002325, Test Loss: 0.003678\n",
      "Time taken per epoch: 10.5952 seconds\n",
      "Epoch 22/50, Train Loss: 0.002275, Test Loss: 0.003495\n",
      "Time taken per epoch: 10.5704 seconds\n",
      "Epoch 23/50, Train Loss: 0.002222, Test Loss: 0.003405\n",
      "Time taken per epoch: 10.6230 seconds\n",
      "Epoch 24/50, Train Loss: 0.002172, Test Loss: 0.003339\n",
      "Time taken per epoch: 10.6575 seconds\n",
      "Epoch 25/50, Train Loss: 0.002127, Test Loss: 0.003299\n",
      "Time taken per epoch: 10.8570 seconds\n",
      "Epoch 26/50, Train Loss: 0.002082, Test Loss: 0.003264\n",
      "Time taken per epoch: 10.5873 seconds\n",
      "Epoch 27/50, Train Loss: 0.002040, Test Loss: 0.003238\n",
      "Time taken per epoch: 10.5604 seconds\n",
      "Epoch 28/50, Train Loss: 0.002000, Test Loss: 0.003109\n",
      "Time taken per epoch: 10.5982 seconds\n",
      "Epoch 29/50, Train Loss: 0.001966, Test Loss: 0.003068\n",
      "Time taken per epoch: 10.5360 seconds\n",
      "Epoch 30/50, Train Loss: 0.001929, Test Loss: 0.003074\n",
      "Time taken per epoch: 10.5580 seconds\n",
      "Epoch 31/50, Train Loss: 0.001895, Test Loss: 0.003011\n",
      "Time taken per epoch: 10.6242 seconds\n",
      "Epoch 32/50, Train Loss: 0.001866, Test Loss: 0.002985\n",
      "Time taken per epoch: 10.5972 seconds\n",
      "Epoch 33/50, Train Loss: 0.001840, Test Loss: 0.002896\n",
      "Time taken per epoch: 10.6917 seconds\n",
      "Epoch 34/50, Train Loss: 0.001810, Test Loss: 0.002835\n",
      "Time taken per epoch: 10.5760 seconds\n",
      "Epoch 35/50, Train Loss: 0.001777, Test Loss: 0.002822\n",
      "Time taken per epoch: 10.6398 seconds\n",
      "Epoch 36/50, Train Loss: 0.001755, Test Loss: 0.002939\n",
      "Time taken per epoch: 10.7991 seconds\n",
      "Epoch 37/50, Train Loss: 0.001734, Test Loss: 0.002793\n",
      "Time taken per epoch: 11.0247 seconds\n",
      "Epoch 38/50, Train Loss: 0.001709, Test Loss: 0.002791\n",
      "Time taken per epoch: 10.6975 seconds\n",
      "Epoch 39/50, Train Loss: 0.001685, Test Loss: 0.002651\n",
      "Time taken per epoch: 10.6869 seconds\n",
      "Epoch 40/50, Train Loss: 0.001669, Test Loss: 0.002577\n",
      "Time taken per epoch: 10.5712 seconds\n",
      "Epoch 41/50, Train Loss: 0.001647, Test Loss: 0.002530\n",
      "Time taken per epoch: 10.5293 seconds\n",
      "Epoch 42/50, Train Loss: 0.001627, Test Loss: 0.002627\n",
      "Time taken per epoch: 10.5298 seconds\n",
      "Epoch 43/50, Train Loss: 0.001612, Test Loss: 0.002626\n",
      "Time taken per epoch: 10.5525 seconds\n",
      "Epoch 44/50, Train Loss: 0.001592, Test Loss: 0.002482\n",
      "Time taken per epoch: 10.5071 seconds\n",
      "Epoch 45/50, Train Loss: 0.001577, Test Loss: 0.002395\n",
      "Time taken per epoch: 10.5338 seconds\n",
      "Epoch 46/50, Train Loss: 0.001563, Test Loss: 0.002463\n",
      "Time taken per epoch: 10.6602 seconds\n",
      "Epoch 47/50, Train Loss: 0.001546, Test Loss: 0.002414\n",
      "Time taken per epoch: 10.6225 seconds\n",
      "Epoch 48/50, Train Loss: 0.001532, Test Loss: 0.002382\n",
      "Time taken per epoch: 10.5242 seconds\n",
      "Epoch 49/50, Train Loss: 0.001518, Test Loss: 0.002406\n",
      "Time taken per epoch: 10.4773 seconds\n",
      "Epoch 50/50, Train Loss: 0.001502, Test Loss: 0.002384\n"
     ]
    }
   ],
   "source": [
    "trained_model, train_losses, test_losses = train_model_ae(model, dataloader_train, dataloader_test, epochs=epochs, optimizer=optimizer, lr=lr, momentum=momentum, weight_decay=weight_decay, device=device)"
   ]
  },
  {
   "cell_type": "markdown",
   "metadata": {},
   "source": [
    "### Evaluation"
   ]
  },
  {
   "cell_type": "code",
   "execution_count": null,
   "metadata": {},
   "outputs": [
    {
     "data": {
      "image/png": "[encoded data removed]",
      "text/plain": [
       "<Figure size 800x500 with 1 Axes>"
      ]
     },
     "metadata": {},
     "output_type": "display_data"
    }
   ],
   "source": [
    "plot_loss(train_losses, test_losses)"
   ]
  },
  {
   "cell_type": "markdown",
   "metadata": {},
   "source": [
    "Load Saved Model to skip Training"
   ]
  },
  {
   "cell_type": "code",
   "execution_count": null,
   "metadata": {},
   "outputs": [],
   "source": [
    "# with open(config.kmeans_ae_b10_path, 'rb') as file:\n",
    "#     kmeans = pickle.load(file)"
   ]
  },
  {
   "cell_type": "code",
   "execution_count": null,
   "metadata": {},
   "outputs": [],
   "source": [
    "# trained_model = Conv3DAutoencoder(channels, time_steps, latent_dim, config.subpatch_size)\n",
    "\n",
    "# with open(config.ae_b10_path, 'rb') as file:\n",
    "#     trained_model = pickle.load(file)"
   ]
  },
  {
   "cell_type": "markdown",
   "metadata": {},
   "source": [
    "Use trained Encoder part to get the features for train, test and evaluation Data"
   ]
  },
  {
   "cell_type": "code",
   "execution_count": null,
   "metadata": {},
   "outputs": [],
   "source": [
    "train_features, train_coord_dl = extract_features_ae(trained_model, dataloader_train, device)\n",
    "test_features, test_coord_dl = extract_features_ae(trained_model, dataloader_test, device)\n",
    "eval_features, eval_coord_dl = extract_features_ae(trained_model, dataloader_eval, device)\n",
    "\n",
    "train_features = train_features.cpu()\n",
    "test_features = test_features.cpu()\n",
    "eval_features = eval_features.cpu()\n",
    "\n",
    "combined_train_features = torch.cat((train_features, test_features), dim=0)\n",
    "combined_train_coords = train_coord_dl + test_coord_dl"
   ]
  },
  {
   "cell_type": "markdown",
   "metadata": {},
   "source": [
    "K-means on extracted features"
   ]
  },
  {
   "cell_type": "code",
   "execution_count": null,
   "metadata": {},
   "outputs": [],
   "source": [
    "kmeans = kmeans_function(combined_train_features, n_clusters=2, random_state=21)\n",
    "\n",
    "train_subpatch_predictions = kmeans.predict(combined_train_features.reshape(combined_train_features.size(0), -1).numpy().astype(np.float32))\n",
    "eval_subpatch_predictions = kmeans.predict(eval_features.reshape(eval_features.size(0), -1).numpy().astype(np.float32))"
   ]
  },
  {
   "cell_type": "markdown",
   "metadata": {},
   "source": [
    "Clustering Accuracy"
   ]
  },
  {
   "cell_type": "code",
   "execution_count": null,
   "metadata": {},
   "outputs": [
    {
     "name": "stdout",
     "output_type": "stream",
     "text": [
      "Disease cluster: 1\n",
      "Accuracy: 49.18\n",
      "Precision: 53.85\n",
      "Recall: 80.0\n",
      "F1-score: 64.37\n",
      "F2-score: 72.92\n"
     ]
    }
   ],
   "source": [
    "disease, acc, precision, recall, f1_score, f2_score = evaluate_clustering_metrics(eval_coord_dl, eval_subpatch_predictions, config.labels_path, config.subpatch_to_patch_threshold)\n",
    "print(\"Disease cluster:\", disease)\n",
    "print(\"Accuracy:\",acc)\n",
    "print(\"Precision:\",precision)\n",
    "print(\"Recall:\",recall)\n",
    "print(\"F1-score:\",f1_score)\n",
    "print(\"F2-score:\", f2_score)"
   ]
  },
  {
   "cell_type": "code",
   "execution_count": null,
   "metadata": {},
   "outputs": [],
   "source": [
    "train_field_labels = assign_field_labels_ae_train(combined_train_coords, train_subpatch_predictions, disease, config.subpatch_to_patch_threshold) #for box drawing"
   ]
  },
  {
   "cell_type": "markdown",
   "metadata": {},
   "source": [
    "Save Models"
   ]
  },
  {
   "cell_type": "code",
   "execution_count": null,
   "metadata": {},
   "outputs": [],
   "source": [
    "# with open(config.ae_b10_path, 'wb') as file:\n",
    "#     pickle.dump(trained_model, file)"
   ]
  },
  {
   "cell_type": "code",
   "execution_count": null,
   "metadata": {},
   "outputs": [],
   "source": [
    "# with open(config.kmeans_ae_b10_path, 'wb') as file:\n",
    "#     pickle.dump(kmeans, file)"
   ]
  },
  {
   "cell_type": "markdown",
   "metadata": {},
   "source": [
    "### Visualisations"
   ]
  },
  {
   "cell_type": "markdown",
   "metadata": {},
   "source": [
    "Visualise subpatches"
   ]
  },
  {
   "cell_type": "code",
   "execution_count": null,
   "metadata": {},
   "outputs": [],
   "source": [
    "# for imgs, _ in dataloader_eval: # CxTxHxW\n",
    "#     img = np.transpose(imgs[4], (1, 0, 2, 3))   # TxCxHxW\n",
    "#     print(img.shape)\n",
    "#     visualize_temporal_stack_rgb(img,acquisition_dates_eval[0])\n",
    "#     break"
   ]
  },
  {
   "cell_type": "markdown",
   "metadata": {},
   "source": [
    "Visualise Patches"
   ]
  },
  {
   "cell_type": "code",
   "execution_count": null,
   "metadata": {},
   "outputs": [],
   "source": [
    "# visualize_temporal_stack_rgb(old_images_train['1167134.0'],acq_dict_train['1167134.0'])"
   ]
  },
  {
   "cell_type": "markdown",
   "metadata": {},
   "source": [
    "Visualise Sub-patch-level Reconstructions"
   ]
  },
  {
   "cell_type": "code",
   "execution_count": null,
   "metadata": {},
   "outputs": [
    {
     "data": {
      "image/png": "[encoded data removed]",
      "text/plain": [
       "<Figure size 2100x600 with 14 Axes>"
      ]
     },
     "metadata": {},
     "output_type": "display_data"
    }
   ],
   "source": [
    "plot_reconstructed_subpatches_temporal(trained_model, dataloader_train, 1, device)"
   ]
  },
  {
   "cell_type": "markdown",
   "metadata": {},
   "source": [
    "Map subpatch-level to patches and Visualise Patch level reconstructions"
   ]
  },
  {
   "cell_type": "code",
   "execution_count": null,
   "metadata": {},
   "outputs": [
    {
     "data": {
      "image/png": "[encoded data removed]",
      "text/plain": [
       "<Figure size 2100x600 with 14 Axes>"
      ]
     },
     "metadata": {},
     "output_type": "display_data"
    }
   ],
   "source": [
    "plot_reconstructed_patches_temporal(dataloader_train,trained_model,old_images_train, 1, device)"
   ]
  },
  {
   "cell_type": "markdown",
   "metadata": {},
   "source": [
    "## Final Images: Visualising Diseased Subpatches"
   ]
  },
  {
   "cell_type": "code",
   "execution_count": null,
   "metadata": {},
   "outputs": [],
   "source": [
    "eval_images_box = images_visualisation_eval"
   ]
  },
  {
   "cell_type": "code",
   "execution_count": null,
   "metadata": {},
   "outputs": [],
   "source": [
    "(eval_images_box[0][0].shape)"
   ]
  },
  {
   "cell_type": "code",
   "execution_count": null,
   "metadata": {},
   "outputs": [],
   "source": [
    "np.unique(eval_images_box[0][0][:,:,-2])"
   ]
  },
  {
   "cell_type": "code",
   "execution_count": null,
   "metadata": {},
   "outputs": [],
   "source": [
    "visualise_all_bands(eval_images_box[-15][3])"
   ]
  },
  {
   "cell_type": "markdown",
   "metadata": {},
   "source": [
    "-48 -26"
   ]
  },
  {
   "cell_type": "code",
   "execution_count": null,
   "metadata": {},
   "outputs": [],
   "source": [
    "visualize_temporal_stack_rgb(eval_images_box[-26])"
   ]
  },
  {
   "cell_type": "code",
   "execution_count": null,
   "metadata": {},
   "outputs": [],
   "source": [
    "np.unique(eval_images_box[-26][-1][:,:,-2])"
   ]
  },
  {
   "cell_type": "code",
   "execution_count": null,
   "metadata": {},
   "outputs": [],
   "source": [
    "draw_diseased_patches(eval_images_box, x_y_coords, config.images_save_path, config.patch_size)"
   ]
  }
 ],
 "metadata": {
  "language_info": {
   "name": "python"
  }
 },
 "nbformat": 4,
 "nbformat_minor": 2
}
