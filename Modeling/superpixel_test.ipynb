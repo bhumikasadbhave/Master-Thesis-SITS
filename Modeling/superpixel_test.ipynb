{
 "cells": [
  {
   "cell_type": "markdown",
   "metadata": {},
   "source": [
    "### Imports"
   ]
  },
  {
   "cell_type": "code",
   "execution_count": 1,
   "metadata": {},
   "outputs": [],
   "source": [
    "%load_ext autoreload\n",
    "%autoreload 2"
   ]
  },
  {
   "cell_type": "code",
   "execution_count": 2,
   "metadata": {},
   "outputs": [],
   "source": [
    "import sys\n",
    "from pathlib import Path\n",
    "scripts_path = Path(\"../Data-Preprocessing/\").resolve()\n",
    "sys.path.append(str(scripts_path))\n",
    "import os\n",
    "os.environ['PYTORCH_ENABLE_MPS_FALLBACK'] = '1'"
   ]
  },
  {
   "cell_type": "code",
   "execution_count": 3,
   "metadata": {},
   "outputs": [],
   "source": [
    "import pickle\n",
    "from sklearn.cluster import KMeans\n",
    "from sklearn.neighbors import NearestCentroid\n",
    "from scripts.data_visualiser import *\n",
    "from scripts.data_loader import *\n",
    "from scripts.data_preprocessor import *\n",
    "from scripts.temporal_data_preprocessor import *\n",
    "from scripts.temporal_data_loader import *\n",
    "from scripts.temporal_visualiser import *\n",
    "from scripts.temporal_chanel_refinement import *\n",
    "from model_scripts.get_statistics import *\n",
    "from model_scripts.dataset_creation import *\n",
    "from model_scripts.train_model_ae import *\n",
    "from model_scripts.model_visualiser import *\n",
    "from model_scripts.superpixel import *\n",
    "from Pipeline.pre_processing_pipeline import *\n",
    "from Pipeline.temporal_preprocessing_pipeline import *\n",
    "import numpy as np\n",
    "import preprocessing_config as config\n",
    "from sklearn.cluster import KMeans\n",
    "from sklearn.metrics import adjusted_rand_score\n",
    "from sklearn.cluster import DBSCAN\n",
    "from sklearn.decomposition import PCA\n",
    "import skimage.measure\n",
    "import torch\n",
    "import torch.nn as nn\n",
    "import torch.optim as optim"
   ]
  },
  {
   "cell_type": "markdown",
   "metadata": {},
   "source": [
    "### Loading the data"
   ]
  },
  {
   "cell_type": "code",
   "execution_count": 5,
   "metadata": {},
   "outputs": [],
   "source": [
    "# temp_pipeline = PreProcessingPipelineTemporal()"
   ]
  },
  {
   "cell_type": "code",
   "execution_count": 6,
   "metadata": {},
   "outputs": [],
   "source": [
    "# train_fn, dataloader_train = temp_pipeline.get_processed_trainloader(64, 'indexbands', vi_type='msi')"
   ]
  },
  {
   "cell_type": "markdown",
   "metadata": {},
   "source": [
    "Train"
   ]
  },
  {
   "cell_type": "code",
   "execution_count": 8,
   "metadata": {},
   "outputs": [
    {
     "data": {
      "text/plain": [
       "(2425, (64, 64, 10))"
      ]
     },
     "execution_count": 8,
     "metadata": {},
     "output_type": "execute_result"
    }
   ],
   "source": [
    "temporal_images = load_field_images_temporal(config.base_directory_temporal_train)\n",
    "border_removed_images_train = blacken_field_borders_temporal(temporal_images)\n",
    "field_numbers_train, indices_images_train = allbands_temporal_cubes(border_removed_images_train)\n",
    "\n",
    "len(indices_images_train), indices_images_train[0][0].shape"
   ]
  },
  {
   "cell_type": "markdown",
   "metadata": {},
   "source": [
    "Test"
   ]
  },
  {
   "cell_type": "code",
   "execution_count": 9,
   "metadata": {},
   "outputs": [
    {
     "data": {
      "text/plain": [
       "(48, (64, 64, 10))"
      ]
     },
     "execution_count": 9,
     "metadata": {},
     "output_type": "execute_result"
    }
   ],
   "source": [
    "temporal_images_test = load_field_images_temporal(config.base_directory_temporal_test)\n",
    "border_removed_images = blacken_field_borders_temporal(temporal_images_test)\n",
    "field_numbers_test, indices_images_test = allbands_temporal_cubes(border_removed_images)\n",
    "\n",
    "(len(indices_images_test), indices_images_test[0][0].shape)"
   ]
  },
  {
   "cell_type": "code",
   "execution_count": 10,
   "metadata": {},
   "outputs": [
    {
     "data": {
      "text/plain": [
       "((2425, 7, 64, 64, 10), (48, 7, 64, 64, 10))"
      ]
     },
     "execution_count": 10,
     "metadata": {},
     "output_type": "execute_result"
    }
   ],
   "source": [
    "image_tensor_train = np.stack(indices_images_train)  # Shape: (N x 7 x 64 x 64 x 6)\n",
    "image_tensor_test = np.stack(indices_images_test)   # Shape: (N x 7 x 64 x 64 x 6)\n",
    "\n",
    "image_tensor_train.shape, image_tensor_test.shape"
   ]
  },
  {
   "cell_type": "markdown",
   "metadata": {},
   "source": [
    "### Super-patches"
   ]
  },
  {
   "cell_type": "code",
   "execution_count": 11,
   "metadata": {},
   "outputs": [
    {
     "data": {
      "text/plain": [
       "(torch.Size([2425, 7, 10, 64, 64]), torch.Size([48, 7, 10, 64, 64]))"
      ]
     },
     "execution_count": 11,
     "metadata": {},
     "output_type": "execute_result"
    }
   ],
   "source": [
    "image_tensor_train = torch.tensor(image_tensor_train, dtype=torch.float32).permute(0, 1, 4, 2, 3)  # (N, T, H, W, C) -> (N, T, C, H, W)\n",
    "image_tensor_test = torch.tensor(image_tensor_test, dtype=torch.float32).permute(0, 1, 4, 2, 3)  # (N, T, H, W, C) -> (N, T, C, H, W)\n",
    "image_tensor_train.shape, image_tensor_test.shape"
   ]
  },
  {
   "cell_type": "code",
   "execution_count": 12,
   "metadata": {},
   "outputs": [],
   "source": [
    "train_patches, train_patch_coordinates = non_overlapping_sliding_window(image_tensor_train, field_numbers_train, patch_size=4)\n",
    "test_patches, test_patch_coordinates = non_overlapping_sliding_window(image_tensor_test, field_numbers_test, patch_size=4)"
   ]
  },
  {
   "cell_type": "code",
   "execution_count": 13,
   "metadata": {},
   "outputs": [
    {
     "data": {
      "text/plain": [
       "(1197, torch.Size([7, 10, 4, 4]))"
      ]
     },
     "execution_count": 13,
     "metadata": {},
     "output_type": "execute_result"
    }
   ],
   "source": [
    "len(test_patches), test_patches[0].shape"
   ]
  },
  {
   "cell_type": "code",
   "execution_count": 14,
   "metadata": {},
   "outputs": [],
   "source": [
    "# visualize_temporal_stack_rgb(border_removed_images[0])"
   ]
  },
  {
   "cell_type": "code",
   "execution_count": 15,
   "metadata": {},
   "outputs": [],
   "source": [
    "# visualize_single_patch_temporal_rgb(test_patches[2], test_patch_coordinates[2])"
   ]
  },
  {
   "cell_type": "code",
   "execution_count": 16,
   "metadata": {},
   "outputs": [
    {
     "data": {
      "text/plain": [
       "('1168039.0', 20, 24)"
      ]
     },
     "execution_count": 16,
     "metadata": {},
     "output_type": "execute_result"
    }
   ],
   "source": [
    "test_patch_coordinates[0]"
   ]
  },
  {
   "cell_type": "code",
   "execution_count": 17,
   "metadata": {},
   "outputs": [
    {
     "data": {
      "image/png": "[encoded data removed]",
      "text/plain": [
       "<Figure size 800x800 with 1 Axes>"
      ]
     },
     "metadata": {},
     "output_type": "display_data"
    }
   ],
   "source": [
    "visualize_patches(image_tensor_test, field_numbers_test, test_patch_coordinates, 0, patch_size=4)"
   ]
  },
  {
   "cell_type": "markdown",
   "metadata": {},
   "source": [
    "### Data Loaders - for Autoencoders"
   ]
  },
  {
   "cell_type": "code",
   "execution_count": 17,
   "metadata": {},
   "outputs": [
    {
     "data": {
      "text/plain": [
       "list"
      ]
     },
     "execution_count": 17,
     "metadata": {},
     "output_type": "execute_result"
    }
   ],
   "source": [
    "type(train_patches)"
   ]
  },
  {
   "cell_type": "code",
   "execution_count": 18,
   "metadata": {},
   "outputs": [
    {
     "data": {
      "text/plain": [
       "torch.Size([1197, 7, 3, 4, 4])"
      ]
     },
     "execution_count": 18,
     "metadata": {},
     "output_type": "execute_result"
    }
   ],
   "source": [
    "train_patches = torch.stack(train_patches)\n",
    "test_patches = torch.stack(test_patches)\n",
    "test_patches.shape"
   ]
  },
  {
   "cell_type": "code",
   "execution_count": 153,
   "metadata": {},
   "outputs": [
    {
     "name": "stdout",
     "output_type": "stream",
     "text": [
      "Batch Inputs Shape: torch.Size([64, 6, 7, 4, 4])\n",
      "Batch Field Numbers: [('1222250.0', '1187038.0_1187039.0', '1189784.0_1189788.0_1189793.0_1189795.0_1218453.0_1218735.0_1218738.0_1218750.0_1218753.0_1223918.0', '1169462.0_1225227.0', '1196255.0_1196256.0_1225775.0', '1168884.0_1220272.0_1220273.0_1220274.0', '1172758.0', '1223420.0', '1222819.0_1223600.0_1227573.0_1227681.0', '1180031.0_1195716.0', '1177692.0', '1194830.0_1225322.0', '1223522.0_1223526.0_1223533.0', '1222576.0', '1182884.0_1182885.0', '1223493.0', '1222370.0', '1177513.0', '1223197.0_1223199.0_1223204.0_1223208.0', '1217806.0_1227435.0_1227442.0', '1172244.0', '1179664.0_1179670.0_1179674.0', '1219909.0_1220103.0', '1177276.0_1177288.0', '1225908.0_1225914.0', '1191581.0_1224139.0_1224143.0', '1175448.0_1223570.0_1229484.0', '1175715.0', '1223324.0', '1223713.0', '1184053.0_1184055.0_1184057.0_1184062.0_1185908.0_1217084.0', '1222388.0', '1224233.0_1224234.0', '1168485.0_1184093.0', '1222630.0_1222635.0_1234669.0', '1226228.0_1226229.0_1226231.0', '1167963.0_1167964.0', '1182099.0_1182100.0_1194613.0_1194616.0_1227448.0', '1223716.0', '1169923.0_1227309.0', '1220439.0_1226150.0', '1180248.0_1223625.0_1223647.0_1223652.0_1223676.0', '1177174.0', '1168884.0_1220272.0_1220273.0_1220274.0', '1185910.0_1228312.0_1228611.0', '1179940.0_1179941.0_1179944.0_1179949.0_1228193.0_1228196.0', '1221019.0_1221021.0_1221024.0', '1182955.0', '1220071.0_1223847.0_1223851.0', '1182979.0', '1187027.0', '1217499.0', '1172260.0_1218252.0', '1219519.0', '1226306.0_1226309.0_1233727.0', '1179944.0_1179946.0_1179949.0_1179950.0_1179951.0_1179953.0_1228193.0_1228194.0_1228196.0', '1223545.0', '1218151.0', '1218206.0_1218207.0', '1226150.0_1226372.0', '1224341.0', '1175020.0_1175021.0_1175023.0', '1187242.0', '1182097.0_1217088.0_1217802.0_1217808.0_1219048.0_1219049.0_1221032.0_1227443.0_1227447.0_1227451.0'), tensor([28, 32, 20, 32, 52, 32, 20, 32, 40, 36, 32, 28, 20, 24, 24, 20, 36, 36,\n",
      "        12, 28, 20, 36, 28, 20, 32, 40, 28, 20, 36, 32, 56, 32, 44, 28, 40, 12,\n",
      "        52, 28, 28, 32, 52, 44, 36, 24, 20, 28, 32, 28, 32, 32, 36, 28, 20, 32,\n",
      "        36, 60, 32, 24, 32, 32, 40, 40, 36, 44]), tensor([16, 40, 36, 24, 32, 24, 28, 28, 40, 28, 44, 32, 28, 24, 36, 24, 28, 44,\n",
      "        44, 32, 32, 20, 40, 28, 32,  8, 44, 24, 24, 12, 44, 20, 32, 28, 16, 24,\n",
      "        36, 28, 28, 36, 12, 20, 20, 40, 12, 32, 36, 40,  4, 36, 24, 32, 40, 28,\n",
      "        24, 28, 32, 20, 24, 36, 36, 28, 32, 32])]\n"
     ]
    },
    {
     "name": "stderr",
     "output_type": "stream",
     "text": [
      "/Users/bhumikasadbhave007/Documents/THWS/Semester-4/MASTER-THESIS/Master-Thesis-Github/Master-Thesis/Modeling/model_scripts/dataset_creation.py:11: UserWarning: To copy construct from a tensor, it is recommended to use sourceTensor.clone().detach() or sourceTensor.clone().detach().requires_grad_(True), rather than torch.tensor(sourceTensor).\n",
      "  inputs = torch.tensor(inputs, dtype=torch.float32).permute(0, 2, 1, 3, 4)  # (N, T, C, H, W) -> (N, C, T, H, W)\n"
     ]
    }
   ],
   "source": [
    "batch_size = 64\n",
    "dataloader_train = create_data_loader(train_patches, train_patch_coordinates, batch_size=batch_size, shuffle=True)\n",
    "\n",
    "for batch_inputs, batch_field_numbers in dataloader_train:\n",
    "    print(\"Batch Inputs Shape:\", batch_inputs.shape) \n",
    "    print(\"Batch Field Numbers:\", batch_field_numbers)\n",
    "    break  # Show one batch"
   ]
  },
  {
   "cell_type": "code",
   "execution_count": 154,
   "metadata": {},
   "outputs": [
    {
     "name": "stdout",
     "output_type": "stream",
     "text": [
      "Batch Inputs Shape: torch.Size([64, 6, 7, 4, 4])\n",
      "Batch Field Numbers: [('1168039.0', '1168039.0', '1168039.0', '1168039.0', '1168039.0', '1168039.0', '1168039.0', '1168039.0', '1168039.0', '1168039.0', '1168039.0', '1168039.0', '1168039.0', '1168039.0', '1168039.0', '1168039.0', '1168039.0', '1168039.0', '1168039.0', '1228889.0', '1228889.0', '1228889.0', '1228889.0', '1228889.0', '1228889.0', '1228889.0', '1228889.0', '1228889.0', '1228889.0', '1228889.0', '1228889.0', '1228889.0', '1228889.0', '1228889.0', '1228889.0', '1228889.0', '1228889.0', '1228889.0', '1168663.0_1176271.0', '1168663.0_1176271.0', '1168663.0_1176271.0', '1168663.0_1176271.0', '1168663.0_1176271.0', '1168663.0_1176271.0', '1168663.0_1176271.0', '1168663.0_1176271.0', '1168663.0_1176271.0', '1168663.0_1176271.0', '1168663.0_1176271.0', '1168663.0_1176271.0', '1168663.0_1176271.0', '1168692.0_1220431.0', '1168692.0_1220431.0', '1168692.0_1220431.0', '1168692.0_1220431.0', '1168692.0_1220431.0', '1168692.0_1220431.0', '1168692.0_1220431.0', '1168692.0_1220431.0', '1168692.0_1220431.0', '1168692.0_1220431.0', '1168692.0_1220431.0', '1168692.0_1220431.0', '1168692.0_1220431.0'), tensor([20, 20, 20, 20, 24, 24, 24, 24, 28, 28, 28, 28, 32, 32, 32, 32, 36, 36,\n",
      "        36, 24, 24, 24, 28, 28, 28, 28, 28, 28, 28, 32, 32, 32, 32, 32, 32, 32,\n",
      "        36, 36, 24, 24, 24, 28, 28, 28, 32, 32, 32, 32, 32, 32, 36, 16, 16, 20,\n",
      "        20, 20, 20, 20, 24, 24, 24, 24, 24, 24]), tensor([24, 28, 32, 36, 24, 28, 32, 36, 24, 28, 32, 36, 24, 28, 32, 36, 24, 28,\n",
      "        32, 36, 40, 44, 16, 20, 24, 28, 32, 36, 40, 16, 20, 24, 28, 32, 36, 40,\n",
      "        16, 20, 32, 36, 40, 32, 36, 40, 20, 24, 28, 32, 36, 40, 40, 24, 28, 16,\n",
      "        20, 24, 28, 32, 16, 20, 24, 28, 32, 36])]\n"
     ]
    }
   ],
   "source": [
    "batch_size = 64\n",
    "dataloader_test = create_data_loader(test_patches, test_patch_coordinates, batch_size=batch_size, shuffle=False)\n",
    "\n",
    "for batch_inputs, batch_field_numbers in dataloader_test:\n",
    "    print(\"Batch Inputs Shape:\", batch_inputs.shape) \n",
    "    print(\"Batch Field Numbers:\", batch_field_numbers)\n",
    "    break  # Show one batch"
   ]
  },
  {
   "cell_type": "markdown",
   "metadata": {},
   "source": [
    "## Modeling: k-means"
   ]
  },
  {
   "cell_type": "code",
   "execution_count": 18,
   "metadata": {},
   "outputs": [],
   "source": [
    "train_patches_tensor = torch.stack(train_patches)  # Convert to tensor [N, T, C, H, W]\n",
    "test_patches_tensor = torch.stack(test_patches)"
   ]
  },
  {
   "cell_type": "code",
   "execution_count": 22,
   "metadata": {},
   "outputs": [
    {
     "name": "stderr",
     "output_type": "stream",
     "text": [
      "/Users/bhumikasadbhave007/tensorflow-test/env/lib/python3.8/site-packages/sklearn/cluster/_kmeans.py:1412: FutureWarning: The default value of `n_init` will change from 10 to 'auto' in 1.4. Set the value of `n_init` explicitly to suppress the warning\n",
      "  super()._check_params_vs_input(X, default_n_init=10)\n"
     ]
    }
   ],
   "source": [
    "kmeans = train_kmeans_patches(train_patches_tensor, n_clusters=2, random_state=4)\n",
    "\n",
    "train_patch_predictions = kmeans.predict(train_patches_tensor.reshape(train_patches_tensor.size(0), -1).numpy())\n",
    "test_patch_predictions = kmeans.predict(test_patches_tensor.reshape(test_patches_tensor.size(0), -1).numpy())\n",
    "\n",
    "# Assign field labels\n",
    "threshold = 4\n",
    "train_field_labels = assign_field_labels(train_patch_coordinates, train_patch_predictions, threshold)\n",
    "test_field_labels = assign_field_labels(test_patch_coordinates, test_patch_predictions, threshold)"
   ]
  },
  {
   "cell_type": "code",
   "execution_count": 23,
   "metadata": {},
   "outputs": [
    {
     "name": "stdout",
     "output_type": "stream",
     "text": [
      "Test Accuracy: 0.639344262295082\n",
      "              precision    recall  f1-score   support\n",
      "\n",
      "           0       0.70      0.27      0.39        26\n",
      "           1       0.63      0.91      0.74        35\n",
      "\n",
      "    accuracy                           0.64        61\n",
      "   macro avg       0.66      0.59      0.57        61\n",
      "weighted avg       0.66      0.64      0.59        61\n",
      "\n"
     ]
    }
   ],
   "source": [
    "accuracy, report = evaluate_test_labels(test_field_labels, config.labels_path)\n",
    "print(f\"Test Accuracy: {accuracy}\")\n",
    "print(report)"
   ]
  },
  {
   "cell_type": "code",
   "execution_count": 89,
   "metadata": {},
   "outputs": [],
   "source": [
    "# # Save train predictions to Excel\n",
    "# save_train_predictions_to_excel(train_field_labels, \"train_predictions.xlsx\")"
   ]
  },
  {
   "cell_type": "markdown",
   "metadata": {},
   "source": [
    "## Pre-trained Models"
   ]
  },
  {
   "cell_type": "code",
   "execution_count": null,
   "metadata": {},
   "outputs": [],
   "source": []
  }
 ],
 "metadata": {
  "kernelspec": {
   "display_name": "Python 3",
   "language": "python",
   "name": "python3"
  },
  "language_info": {
   "codemirror_mode": {
    "name": "ipython",
    "version": 3
   },
   "file_extension": ".py",
   "mimetype": "text/x-python",
   "name": "python",
   "nbconvert_exporter": "python",
   "pygments_lexer": "ipython3",
   "version": "3.8.18"
  }
 },
 "nbformat": 4,
 "nbformat_minor": 2
}
