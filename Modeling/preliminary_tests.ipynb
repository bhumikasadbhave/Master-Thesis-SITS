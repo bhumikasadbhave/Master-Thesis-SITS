{
 "cells": [
  {
   "cell_type": "markdown",
   "metadata": {},
   "source": [
    "# Test 1: Temporal vs Non-temporal Data"
   ]
  },
  {
   "cell_type": "markdown",
   "metadata": {},
   "source": [
    "## Imports"
   ]
  },
  {
   "cell_type": "code",
   "execution_count": 3,
   "metadata": {},
   "outputs": [],
   "source": [
    "%load_ext autoreload\n",
    "%autoreload 2"
   ]
  },
  {
   "cell_type": "code",
   "execution_count": 4,
   "metadata": {},
   "outputs": [],
   "source": [
    "import os, sys\n",
    "from pathlib import Path\n",
    "\n",
    "os.environ['PYTORCH_ENABLE_MPS_FALLBACK'] = '1'\n",
    "sys.path.append('/home/k64835/Master-Thesis-SITS')\n",
    "\n",
    "scripts_path = Path(\"../Data-Preprocessing/\").resolve()\n",
    "sys.path.append(str(scripts_path))\n",
    "\n",
    "scripts_path = Path(\"../Evaluation/\").resolve()\n",
    "sys.path.append(str(scripts_path))"
   ]
  },
  {
   "cell_type": "code",
   "execution_count": 5,
   "metadata": {},
   "outputs": [],
   "source": [
    "import pickle\n",
    "from sklearn.cluster import KMeans\n",
    "from sklearn.neighbors import NearestCentroid\n",
    "from scripts.data_visualiser import *\n",
    "import torch.nn.functional as F\n",
    "from sklearn.model_selection import train_test_split\n",
    "from model_scripts.subpatch_extraction import *\n",
    "from scripts.data_loader import *\n",
    "from scripts.data_preprocessor import *\n",
    "from scripts.temporal_data_preprocessor import *\n",
    "from scripts.temporal_data_loader import *\n",
    "from scripts.temporal_visualiser import *\n",
    "from scripts.temporal_chanel_refinement import *\n",
    "from model_scripts.get_statistics import *\n",
    "from model_scripts.dataset_creation import *\n",
    "from model_scripts.train_model_ae import *\n",
    "from model_scripts.model_visualiser import *\n",
    "from model_scripts.clustering import *\n",
    "from evaluation_scripts.label_helper import *\n",
    "from evaluation_scripts.result_visualiser import *\n",
    "from Pipeline.temporal_preprocessing_pipeline import *\n",
    "from evaluation_scripts.result_visualiser import *\n",
    "from Pipeline.temporal_preprocessing_pipeline import *\n",
    "import numpy as np\n",
    "import config as config\n",
    "from sklearn.cluster import KMeans\n",
    "from sklearn.metrics import adjusted_rand_score\n",
    "from sklearn.cluster import DBSCAN\n",
    "from sklearn.decomposition import PCA\n",
    "import skimage.measure\n",
    "import torch\n",
    "import torch.nn as nn\n",
    "import torch.optim as optim"
   ]
  },
  {
   "cell_type": "markdown",
   "metadata": {},
   "source": [
    "## Temporal Data"
   ]
  },
  {
   "cell_type": "markdown",
   "metadata": {},
   "source": [
    "### Loading the pre-processed temporal data\n",
    "\n",
    "Data: Extracted and Pre-processed Patches (each patch containing a sugarbeet field) - Temporal Images (stack size 7)\n",
    "\n",
    "Dimensions: (N, T, C, H, W) = (N, 7, 10, 64, 64)"
   ]
  },
  {
   "cell_type": "code",
   "execution_count": 30,
   "metadata": {},
   "outputs": [
    {
     "data": {
      "text/plain": [
       "(torch.Size([2425, 7, 10, 64, 64]), torch.Size([48, 7, 10, 64, 64]))"
      ]
     },
     "execution_count": 30,
     "metadata": {},
     "output_type": "execute_result"
    }
   ],
   "source": [
    "preprocessing_pipeline = PreProcessingPipelineTemporal()\n",
    "field_numbers_train, acquisition_dates_train, patch_tensor_train, visualisation_train = preprocessing_pipeline.get_processed_temporal_cubes('train', 'allbands')\n",
    "field_numbers_eval, acquisition_dates_eval, patch_tensor_eval, visualisation_eval = preprocessing_pipeline.get_processed_temporal_cubes('eval', 'allbands')\n",
    "patch_tensor_train.shape, patch_tensor_eval.shape"
   ]
  },
  {
   "cell_type": "markdown",
   "metadata": {},
   "source": [
    "### Create Sub-Patches"
   ]
  },
  {
   "cell_type": "code",
   "execution_count": 7,
   "metadata": {},
   "outputs": [
    {
     "data": {
      "text/plain": [
       "(torch.Size([39042, 7, 10, 5, 5]), torch.Size([867, 7, 10, 5, 5]))"
      ]
     },
     "execution_count": 7,
     "metadata": {},
     "output_type": "execute_result"
    }
   ],
   "source": [
    "train_subpatches, train_subpatch_coords = non_overlapping_sliding_window(patch_tensor_train, field_numbers_train, patch_size=config.subpatch_size)\n",
    "eval_subpatches, eval_subpatch_coords = non_overlapping_sliding_window(patch_tensor_eval, field_numbers_eval, patch_size=config.subpatch_size)\n",
    "train_subpatches.shape, eval_subpatches.shape"
   ]
  },
  {
   "cell_type": "markdown",
   "metadata": {},
   "source": [
    "### Modeling: k-means"
   ]
  },
  {
   "cell_type": "markdown",
   "metadata": {},
   "source": [
    "Clustering the sub-patches "
   ]
  },
  {
   "cell_type": "code",
   "execution_count": 8,
   "metadata": {},
   "outputs": [
    {
     "name": "stderr",
     "output_type": "stream",
     "text": [
      "/home/k64835/.local/lib/python3.8/site-packages/sklearn/cluster/_kmeans.py:1416: FutureWarning: The default value of `n_init` will change from 10 to 'auto' in 1.4. Set the value of `n_init` explicitly to suppress the warning\n",
      "  super()._check_params_vs_input(X, default_n_init=10)\n"
     ]
    }
   ],
   "source": [
    "kmeans = train_kmeans_patches(train_subpatches, n_clusters=2, random_state=1)\n",
    "\n",
    "train_subpatch_predictions = kmeans.predict(train_subpatches.reshape(train_subpatches.size(0), -1).numpy())\n",
    "test_subpatch_predictions = kmeans.predict(eval_subpatches.reshape(eval_subpatches.size(0), -1).numpy())"
   ]
  },
  {
   "cell_type": "markdown",
   "metadata": {},
   "source": [
    "### Evaluation"
   ]
  },
  {
   "cell_type": "markdown",
   "metadata": {},
   "source": [
    "Assigning field-level labels: Converting subpatch-level labels to field-level labels using a threshold"
   ]
  },
  {
   "cell_type": "code",
   "execution_count": 9,
   "metadata": {},
   "outputs": [],
   "source": [
    "threshold = config.patch_to_field_threshold\n",
    "train_field_labels = assign_field_labels(train_subpatch_coords, train_subpatch_predictions, threshold)\n",
    "test_field_labels = assign_field_labels(eval_subpatch_coords, test_subpatch_predictions, threshold)"
   ]
  },
  {
   "cell_type": "markdown",
   "metadata": {},
   "source": [
    "Accuracy on field-level labels: Compare with the Ground Truth"
   ]
  },
  {
   "cell_type": "code",
   "execution_count": 10,
   "metadata": {},
   "outputs": [
    {
     "name": "stdout",
     "output_type": "stream",
     "text": [
      "Test Accuracy: 0.639344262295082\n",
      "              precision    recall  f1-score   support\n",
      "\n",
      "           0       0.75      0.23      0.35        26\n",
      "           1       0.62      0.94      0.75        35\n",
      "\n",
      "    accuracy                           0.64        61\n",
      "   macro avg       0.69      0.59      0.55        61\n",
      "weighted avg       0.68      0.64      0.58        61\n",
      "\n",
      "[[ 6 20]\n",
      " [ 2 33]]\n"
     ]
    }
   ],
   "source": [
    "accuracy, report, cm = evaluate_test_labels(test_field_labels, config.labels_path)\n",
    "print(f\"Test Accuracy: {accuracy}\")\n",
    "print(report)\n",
    "print(cm)"
   ]
  },
  {
   "cell_type": "markdown",
   "metadata": {},
   "source": [
    "### Visualise a field"
   ]
  },
  {
   "cell_type": "code",
   "execution_count": 77,
   "metadata": {},
   "outputs": [
    {
     "data": {
      "image/png": "[encoded data removed]",
      "text/plain": [
       "<Figure size 2000x500 with 7 Axes>"
      ]
     },
     "metadata": {},
     "output_type": "display_data"
    }
   ],
   "source": [
    "visualize_temporal_stack_rgb(visualisation_eval[26], acquisition_dates_eval[field_numbers_eval[26]])"
   ]
  },
  {
   "cell_type": "code",
   "execution_count": 79,
   "metadata": {},
   "outputs": [
    {
     "data": {
      "text/plain": [
       "'1216801.0_1216804.0'"
      ]
     },
     "execution_count": 79,
     "metadata": {},
     "output_type": "execute_result"
    }
   ],
   "source": [
    "field_numbers_eval[26]"
   ]
  },
  {
   "cell_type": "markdown",
   "metadata": {},
   "source": [
    "## Non-temporal Data"
   ]
  },
  {
   "cell_type": "markdown",
   "metadata": {},
   "source": [
    "### Load non-temporal images\n",
    "\n",
    "Data: Extracted and Pre-processed Patches, with a single temporal image from September\n",
    "\n",
    "Dimensions: (N, C, H, W) = (N, 10, 64, 64)"
   ]
  },
  {
   "cell_type": "code",
   "execution_count": 32,
   "metadata": {},
   "outputs": [
    {
     "data": {
      "text/plain": [
       "(torch.Size([2425, 10, 64, 64]), torch.Size([48, 10, 64, 64]))"
      ]
     },
     "execution_count": 32,
     "metadata": {},
     "output_type": "execute_result"
    }
   ],
   "source": [
    "preprocessing_pipeline = PreProcessingPipelineTemporal()\n",
    "field_numbers_train_nt, acquisition_dates_train_nt, patch_tensor_train_nt, visualisation_train_nt = preprocessing_pipeline.get_processed_non_temporal_data('train', 'allbands')\n",
    "field_numbers_eval_nt, acquisition_dates_eval_nt, patch_tensor_eval_nt, visualisation_eval_nt = preprocessing_pipeline.get_processed_non_temporal_data('eval', 'allbands')\n",
    "patch_tensor_train_nt.shape, patch_tensor_eval_nt.shape"
   ]
  },
  {
   "cell_type": "markdown",
   "metadata": {},
   "source": [
    "### Create Sub-Patches"
   ]
  },
  {
   "cell_type": "code",
   "execution_count": 12,
   "metadata": {},
   "outputs": [
    {
     "data": {
      "text/plain": [
       "(torch.Size([39042, 10, 5, 5]), torch.Size([867, 10, 5, 5]))"
      ]
     },
     "execution_count": 12,
     "metadata": {},
     "output_type": "execute_result"
    }
   ],
   "source": [
    "train_subpatches_nt, train_subpatch_coords_nt = non_overlapping_sliding_window_non_temporal(patch_tensor_train_nt, field_numbers_train_nt, patch_size=config.subpatch_size)\n",
    "eval_subpatches_nt, eval_subpatch_coords_nt = non_overlapping_sliding_window_non_temporal(patch_tensor_eval_nt, field_numbers_eval_nt, patch_size=config.subpatch_size)\n",
    "train_subpatches_nt.shape, eval_subpatches_nt.shape"
   ]
  },
  {
   "cell_type": "markdown",
   "metadata": {},
   "source": [
    "### Modeling: k-means"
   ]
  },
  {
   "cell_type": "markdown",
   "metadata": {},
   "source": [
    "Clustering the sub-patches "
   ]
  },
  {
   "cell_type": "code",
   "execution_count": 19,
   "metadata": {},
   "outputs": [
    {
     "name": "stderr",
     "output_type": "stream",
     "text": [
      "/home/k64835/.local/lib/python3.8/site-packages/sklearn/cluster/_kmeans.py:1416: FutureWarning: The default value of `n_init` will change from 10 to 'auto' in 1.4. Set the value of `n_init` explicitly to suppress the warning\n",
      "  super()._check_params_vs_input(X, default_n_init=10)\n"
     ]
    }
   ],
   "source": [
    "kmeans_nt = train_kmeans_patches(train_subpatches_nt, n_clusters=2, random_state=11)\n",
    "\n",
    "train_subpatch_predictions_nt = kmeans_nt.predict(train_subpatches_nt.reshape(train_subpatches_nt.size(0), -1).numpy())\n",
    "eval_subpatch_predictions_nt = kmeans_nt.predict(eval_subpatches_nt.reshape(eval_subpatches_nt.size(0), -1).numpy())"
   ]
  },
  {
   "cell_type": "markdown",
   "metadata": {},
   "source": [
    "### Evaluation"
   ]
  },
  {
   "cell_type": "markdown",
   "metadata": {},
   "source": [
    "Assigning field-level labels: Converting subpatch-level labels to field-level labels using a threshold"
   ]
  },
  {
   "cell_type": "code",
   "execution_count": 20,
   "metadata": {},
   "outputs": [],
   "source": [
    "threshold = config.patch_to_field_threshold\n",
    "train_field_labels_nt = assign_field_labels(train_subpatch_coords_nt, train_subpatch_predictions_nt, threshold)\n",
    "eval_field_labels_nt = assign_field_labels(eval_subpatch_coords_nt, eval_subpatch_predictions_nt, threshold)"
   ]
  },
  {
   "cell_type": "markdown",
   "metadata": {},
   "source": [
    "Accuracy on field-level labels: Compare with the Ground Truth"
   ]
  },
  {
   "cell_type": "code",
   "execution_count": 21,
   "metadata": {},
   "outputs": [
    {
     "name": "stdout",
     "output_type": "stream",
     "text": [
      "Test Accuracy: 0.3770491803278688\n",
      "              precision    recall  f1-score   support\n",
      "\n",
      "           0       0.37      0.65      0.47        26\n",
      "           1       0.40      0.17      0.24        35\n",
      "\n",
      "    accuracy                           0.38        61\n",
      "   macro avg       0.38      0.41      0.36        61\n",
      "weighted avg       0.39      0.38      0.34        61\n",
      "\n",
      "Confusion Matrix:\n",
      " [[17  9]\n",
      " [29  6]]\n"
     ]
    }
   ],
   "source": [
    "accuracy_nt, report_nt, cm_nt = evaluate_test_labels(eval_field_labels_nt, config.labels_path)\n",
    "print(f\"Test Accuracy: {accuracy_nt}\")\n",
    "print(report_nt)\n",
    "print(\"Confusion Matrix:\\n\", cm_nt)"
   ]
  },
  {
   "cell_type": "markdown",
   "metadata": {},
   "source": [
    "### Visualise a field"
   ]
  },
  {
   "cell_type": "code",
   "execution_count": 78,
   "metadata": {},
   "outputs": [
    {
     "data": {
      "image/png": "[encoded data removed]",
      "text/plain": [
       "<Figure size 600x600 with 1 Axes>"
      ]
     },
     "metadata": {},
     "output_type": "display_data"
    }
   ],
   "source": [
    "visualise_rgb(visualisation_eval_nt[26])"
   ]
  },
  {
   "cell_type": "code",
   "execution_count": null,
   "metadata": {},
   "outputs": [],
   "source": []
  }
 ],
 "metadata": {
  "kernelspec": {
   "display_name": "Python 3",
   "language": "python",
   "name": "python3"
  },
  "language_info": {
   "codemirror_mode": {
    "name": "ipython",
    "version": 3
   },
   "file_extension": ".py",
   "mimetype": "text/x-python",
   "name": "python",
   "nbconvert_exporter": "python",
   "pygments_lexer": "ipython3",
   "version": "3.8.10"
  }
 },
 "nbformat": 4,
 "nbformat_minor": 2
}
