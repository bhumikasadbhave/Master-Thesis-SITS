{
 "cells": [
  {
   "cell_type": "markdown",
   "metadata": {},
   "source": [
    "### Imports"
   ]
  },
  {
   "cell_type": "code",
   "execution_count": 34,
   "metadata": {},
   "outputs": [],
   "source": [
    "import os\n",
    "os.environ['PYTORCH_ENABLE_MPS_FALLBACK'] = '1'"
   ]
  },
  {
   "cell_type": "code",
   "execution_count": 35,
   "metadata": {},
   "outputs": [
    {
     "name": "stdout",
     "output_type": "stream",
     "text": [
      "The autoreload extension is already loaded. To reload it, use:\n",
      "  %reload_ext autoreload\n"
     ]
    }
   ],
   "source": [
    "%load_ext autoreload\n",
    "%autoreload 2"
   ]
  },
  {
   "cell_type": "code",
   "execution_count": 36,
   "metadata": {},
   "outputs": [],
   "source": [
    "import sys\n",
    "from pathlib import Path\n",
    "scripts_path = Path(\"../Data-Preprocessing/\").resolve()\n",
    "sys.path.append(str(scripts_path))"
   ]
  },
  {
   "cell_type": "code",
   "execution_count": 37,
   "metadata": {},
   "outputs": [],
   "source": [
    "import pickle\n",
    "from sklearn.cluster import KMeans\n",
    "from sklearn.neighbors import NearestCentroid\n",
    "from scripts.data_visualiser import *\n",
    "import torch.nn.functional as F\n",
    "from sklearn.model_selection import train_test_split\n",
    "from model_scripts.superpixel import *\n",
    "from scripts.data_loader import *\n",
    "from scripts.data_preprocessor import *\n",
    "from scripts.temporal_data_preprocessor import *\n",
    "from scripts.temporal_data_loader import *\n",
    "from scripts.temporal_visualiser import *\n",
    "from scripts.temporal_chanel_refinement import *\n",
    "from model_scripts.get_statistics import *\n",
    "from model_scripts.dataset_creation import *\n",
    "from model_scripts.train_model_ae import *\n",
    "from model_scripts.model_visualiser import *\n",
    "from Pipeline.pre_processing_pipeline import *\n",
    "from Pipeline.temporal_preprocessing_pipeline import *\n",
    "import numpy as np\n",
    "import preprocessing_config as config\n",
    "from sklearn.cluster import KMeans\n",
    "from sklearn.metrics import adjusted_rand_score\n",
    "from sklearn.cluster import DBSCAN\n",
    "from sklearn.decomposition import PCA\n",
    "import skimage.measure\n",
    "import torch\n",
    "import torch.nn as nn\n",
    "import torch.optim as optim"
   ]
  },
  {
   "cell_type": "markdown",
   "metadata": {},
   "source": [
    "### Loading the data"
   ]
  },
  {
   "cell_type": "code",
   "execution_count": 5,
   "metadata": {},
   "outputs": [],
   "source": [
    "# temp_pipeline = PreProcessingPipelineTemporal()"
   ]
  },
  {
   "cell_type": "code",
   "execution_count": 6,
   "metadata": {},
   "outputs": [],
   "source": [
    "# train_fn, dataloader_train = temp_pipeline.get_processed_trainloader(64, 'indexbands', vi_type='msi')"
   ]
  },
  {
   "cell_type": "markdown",
   "metadata": {},
   "source": [
    "Train"
   ]
  },
  {
   "cell_type": "code",
   "execution_count": 5,
   "metadata": {},
   "outputs": [
    {
     "data": {
      "text/plain": [
       "(2425, (64, 64, 10))"
      ]
     },
     "execution_count": 5,
     "metadata": {},
     "output_type": "execute_result"
    }
   ],
   "source": [
    "temporal_images = load_field_images_temporal(config.base_directory_temporal_train1)\n",
    "border_removed_images_train = blacken_field_borders_temporal(temporal_images)\n",
    "field_numbers_train, indices_images_train = allbands_temporal_cubes(border_removed_images_train)\n",
    "\n",
    "len(indices_images_train), indices_images_train[0][0].shape"
   ]
  },
  {
   "cell_type": "markdown",
   "metadata": {},
   "source": [
    "Evaluation"
   ]
  },
  {
   "cell_type": "code",
   "execution_count": 6,
   "metadata": {},
   "outputs": [
    {
     "data": {
      "text/plain": [
       "(48, (64, 64, 10))"
      ]
     },
     "execution_count": 6,
     "metadata": {},
     "output_type": "execute_result"
    }
   ],
   "source": [
    "temporal_images_eval = load_field_images_temporal(config.base_directory_temporal_test1)\n",
    "border_removed_images = blacken_field_borders_temporal(temporal_images_eval)\n",
    "field_numbers_eval, indices_images_eval = allbands_temporal_cubes(border_removed_images)\n",
    "\n",
    "(len(indices_images_eval), indices_images_eval[0][0].shape)"
   ]
  },
  {
   "cell_type": "code",
   "execution_count": 7,
   "metadata": {},
   "outputs": [
    {
     "data": {
      "text/plain": [
       "((2425, 7, 64, 64, 10), (48, 7, 64, 64, 10))"
      ]
     },
     "execution_count": 7,
     "metadata": {},
     "output_type": "execute_result"
    }
   ],
   "source": [
    "image_tensor_train = np.stack(indices_images_train)  # Shape: (N x 7 x 64 x 64 x 6)\n",
    "image_tensor_eval = np.stack(indices_images_eval)   # Shape: (N x 7 x 64 x 64 x 6)\n",
    "\n",
    "image_tensor_train.shape, image_tensor_eval.shape"
   ]
  },
  {
   "cell_type": "code",
   "execution_count": 8,
   "metadata": {},
   "outputs": [
    {
     "data": {
      "text/plain": [
       "(torch.Size([2425, 7, 10, 64, 64]), torch.Size([48, 7, 10, 64, 64]))"
      ]
     },
     "execution_count": 8,
     "metadata": {},
     "output_type": "execute_result"
    }
   ],
   "source": [
    "image_tensor_train = torch.tensor(image_tensor_train, dtype=torch.float32).permute(0, 1, 4, 2, 3)  # (N, T, H, W, C) -> (N, T, C, H, W)\n",
    "image_tensor_eval = torch.tensor(image_tensor_eval, dtype=torch.float32).permute(0, 1, 4, 2, 3)  # (N, T, H, W, C) -> (N, T, C, H, W)\n",
    "image_tensor_train.shape, image_tensor_eval.shape"
   ]
  },
  {
   "cell_type": "markdown",
   "metadata": {},
   "source": [
    "### Temporary Cells for getting pictures for our thesis"
   ]
  },
  {
   "cell_type": "code",
   "execution_count": 9,
   "metadata": {},
   "outputs": [
    {
     "data": {
      "text/plain": [
       "(64, 64, 10)"
      ]
     },
     "execution_count": 9,
     "metadata": {},
     "output_type": "execute_result"
    }
   ],
   "source": [
    "indices_images_train[0][0].shape"
   ]
  },
  {
   "cell_type": "code",
   "execution_count": null,
   "metadata": {},
   "outputs": [],
   "source": [
    "visualize_temporal_stack_rgb(temporal_images_eval[47])"
   ]
  },
  {
   "cell_type": "code",
   "execution_count": null,
   "metadata": {},
   "outputs": [],
   "source": [
    "visualize_temporal_stack_ndvi(temporal_images_eval[47])"
   ]
  },
  {
   "cell_type": "code",
   "execution_count": null,
   "metadata": {},
   "outputs": [],
   "source": [
    "visualize_temporal_stack_msi(temporal_images_eval[47])"
   ]
  },
  {
   "cell_type": "code",
   "execution_count": null,
   "metadata": {},
   "outputs": [],
   "source": [
    "visualize_temporal_stack_evi(temporal_images_eval[47])"
   ]
  },
  {
   "cell_type": "code",
   "execution_count": null,
   "metadata": {},
   "outputs": [],
   "source": [
    "visualise_all_bands_wo_masks(temporal_images_eval[47][-1])"
   ]
  },
  {
   "cell_type": "code",
   "execution_count": null,
   "metadata": {},
   "outputs": [],
   "source": [
    "visualise_selected_bands(temporal_images_eval[47][-1])"
   ]
  },
  {
   "cell_type": "code",
   "execution_count": null,
   "metadata": {},
   "outputs": [],
   "source": [
    "np.unique(temporal_images_eval[47][-1][:,:,-2])"
   ]
  },
  {
   "cell_type": "markdown",
   "metadata": {},
   "source": [
    "### Mini-patches"
   ]
  },
  {
   "cell_type": "code",
   "execution_count": 10,
   "metadata": {},
   "outputs": [
    {
     "data": {
      "text/plain": [
       "(867, torch.Size([7, 10, 5, 5]))"
      ]
     },
     "execution_count": 10,
     "metadata": {},
     "output_type": "execute_result"
    }
   ],
   "source": [
    "train_patches, train_patch_coordinates = non_overlapping_sliding_window(image_tensor_train, field_numbers_train, patch_size=5)\n",
    "eval_patches, eval_patch_coordinates = non_overlapping_sliding_window(image_tensor_eval, field_numbers_eval, patch_size=5)\n",
    "len(eval_patches), eval_patches[0].shape"
   ]
  },
  {
   "cell_type": "code",
   "execution_count": 11,
   "metadata": {},
   "outputs": [
    {
     "data": {
      "text/plain": [
       "(39042, 39042)"
      ]
     },
     "execution_count": 11,
     "metadata": {},
     "output_type": "execute_result"
    }
   ],
   "source": [
    "len(train_patches), len(train_patch_coordinates)"
   ]
  },
  {
   "cell_type": "code",
   "execution_count": 12,
   "metadata": {},
   "outputs": [],
   "source": [
    "train_patches = np.stack(train_patches)  # Shape: (N x 7 x 6 x 5 x 5)\n",
    "eval_patches = np.stack(eval_patches)   # Shape: (N x 7 x 6 x 5 x 5)"
   ]
  },
  {
   "cell_type": "code",
   "execution_count": 13,
   "metadata": {},
   "outputs": [
    {
     "data": {
      "text/plain": [
       "('1167134.0', 25, 25)"
      ]
     },
     "execution_count": 13,
     "metadata": {},
     "output_type": "execute_result"
    }
   ],
   "source": [
    "train_patch_coordinates[0]"
   ]
  },
  {
   "cell_type": "code",
   "execution_count": 14,
   "metadata": {},
   "outputs": [
    {
     "data": {
      "text/plain": [
       "'1167134.0_25_25'"
      ]
     },
     "execution_count": 14,
     "metadata": {},
     "output_type": "execute_result"
    }
   ],
   "source": [
    "train_coord_dataloader = field_nos_dataloader(train_patch_coordinates)\n",
    "eval_coord_dataloader = field_nos_dataloader(eval_patch_coordinates)\n",
    "train_coord_dataloader[0]"
   ]
  },
  {
   "cell_type": "code",
   "execution_count": 15,
   "metadata": {},
   "outputs": [
    {
     "data": {
      "text/plain": [
       "39042"
      ]
     },
     "execution_count": 15,
     "metadata": {},
     "output_type": "execute_result"
    }
   ],
   "source": [
    "len(train_coord_dataloader)"
   ]
  },
  {
   "cell_type": "markdown",
   "metadata": {},
   "source": [
    "### Data Loaders"
   ]
  },
  {
   "cell_type": "code",
   "execution_count": 16,
   "metadata": {},
   "outputs": [],
   "source": [
    "# batch_size = 64\n",
    "# dataloader_train = create_data_loader(train_patches, train_coord_dataloader, batch_size=batch_size, shuffle=True)\n",
    "\n",
    "# for batch_inputs, batch_field_numbers in dataloader_train:\n",
    "#     print(\"Batch Inputs Shape:\", batch_inputs.shape) \n",
    "#     print(\"Batch Field Numbers:\", batch_field_numbers)\n",
    "#     break  "
   ]
  },
  {
   "cell_type": "code",
   "execution_count": 17,
   "metadata": {},
   "outputs": [
    {
     "data": {
      "text/plain": [
       "(39042, 7, 10, 5, 5)"
      ]
     },
     "execution_count": 17,
     "metadata": {},
     "output_type": "execute_result"
    }
   ],
   "source": [
    "train_patches.shape"
   ]
  },
  {
   "cell_type": "code",
   "execution_count": 18,
   "metadata": {},
   "outputs": [
    {
     "data": {
      "text/plain": [
       "39042"
      ]
     },
     "execution_count": 18,
     "metadata": {},
     "output_type": "execute_result"
    }
   ],
   "source": [
    "len(train_coord_dataloader)"
   ]
  },
  {
   "cell_type": "code",
   "execution_count": 19,
   "metadata": {},
   "outputs": [
    {
     "data": {
      "text/plain": [
       "39042"
      ]
     },
     "execution_count": 19,
     "metadata": {},
     "output_type": "execute_result"
    }
   ],
   "source": [
    "len(train_patch_coordinates)"
   ]
  },
  {
   "cell_type": "code",
   "execution_count": 20,
   "metadata": {},
   "outputs": [
    {
     "name": "stdout",
     "output_type": "stream",
     "text": [
      "Train Batch Inputs Shape: torch.Size([64, 10, 7, 5, 5])\n",
      "Train Batch Field Numbers: ('1168722.0_35_25', '1174737.0_1215687.0_1221075.0_35_40', '1228636.0_25_35', '1185796.0_25_20', '1225876.0_35_25', '1182665.0_35_20', '1180033.0_30_35', '1219134.0_1227105.0_25_35', '1225796.0_25_40', '1220374.0_25_25', '1223141.0_25_30', '1181933.0_1186328.0_1186329.0_35_5', '1227292.0_35_45', '1170187.0_1185962.0_15_30', '1225802.0_1225813.0_30_30', '1227292.0_25_40', '1223724.0_35_30', '1216483.0_25_30', '1169457.0_1191591.0_1191606.0_50_5', '1227942.0_20_30', '1180959.0_30_15', '1182504.0_1182506.0_1191586.0_1224144.0_1224147.0_1225256.0_1225257.0_1227974.0_1229481.0_30_20', '1225056.0_25_25', '1179716.0_1222830.0_30_30', '1220365.0_1220367.0_1220369.0_50_35', '1226152.0_30_30', '1226844.0_30_20', '1179664.0_1179670.0_1179674.0_10_25', '1225208.0_15_15', '1182315.0_40_30', '1227688.0_30_30', '1176665.0_25_30', '1194751.0_1227728.0_40_25', '1185835.0_40_35', '1195982.0_25_35', '1225994.0_1227571.0_30_50', '1178200.0_1216941.0_35_40', '1177513.0_25_20', '1195982.0_25_25', '1187034.0_1187036.0_1220215.0_45_35', '1167963.0_1167964.0_25_15', '1171720.0_30_20', '1184047.0_35_30', '1215722.0_1219179.0_1219181.0_1219183.0_1219184.0_1219187.0_15_45', '1177489.0_30_35', '1225897.0_30_40', '1194486.0_1195607.0_1226195.0_1226392.0_35_15', '1228368.0_20_30', '1216702.0_1216710.0_1216716.0_35_30', '1170135.0_1216241.0_25_35', '1216167.0_1225004.0_25_30', '1180792.0_1185840.0_1217018.0_45_40', '1217916.0_40_30', '1227510.0_30_30', '1181988.0_1223757.0_35_30', '1193842.0_1193843.0_1223290.0_20_10', '1179940.0_1179941.0_1179944.0_1179949.0_1228193.0_1228196.0_10_30', '1218454.0_25_40', '1182828.0_25_30', '1231003.0_25_30', '1184097.0_40_30', '1179940.0_1179941.0_1179944.0_1179949.0_1228193.0_1228196.0_40_30', '1225915.0_20_30', '1229451.0_25_25')\n",
      "Test Batch Inputs Shape: torch.Size([64, 10, 7, 5, 5])\n",
      "Test Batch Field Numbers: ('1222547.0_20_30', '1218303.0_15_25', '1218972.0_25_30', '1222791.0_30_35', '1223501.0_35_20', '1227490.0_30_30', '1189799.0_30_30', '1225455.0_35_25', '1234575.0_25_30', '1182955.0_25_25', '1182767.0_35_25', '1225950.0_1225952.0_1225956.0_30_20', '1187685.0_1187687.0_1187688.0_35_30', '1223879.0_30_40', '1179716.0_1222830.0_50_30', '1179923.0_1179924.0_1179925.0_1179927.0_1179929.0_1179930.0_25_25', '1223364.0_30_35', '1224912.0_30_25', '1221124.0_25_35', '1227580.0_35_10', '1180792.0_1185840.0_1216711.0_1225856.0_1228645.0_35_35', '1225437.0_25_25', '1220331.0_45_35', '1187038.0_1187039.0_25_25', '1224261.0_35_30', '1181153.0_30_25', '1179885.0_1220122.0_35_35', '1167963.0_1167964.0_20_20', '1227002.0_1227650.0_25_15', '1183110.0_30_20', '1225243.0_25_35', '1225108.0_1229489.0_30_15', '1216281.0_30_35', '1223790.0_20_35', '1228229.0_30_30', '1187077.0_1221746.0_40_30', '1216095.0_15_40', '1170134.0_1224012.0_30_30', '1224349.0_30_40', '1219697.0_25_30', '1224087.0_30_30', '1228339.0_25_30', '1168522.0_35_25', '1189641.0_35_30', '1228883.0_35_30', '1222361.0_30_25', '1168695.0_1220328.0_35_20', '1217039.0_1220329.0_20_30', '1180888.0_1180895.0_20_20', '1220365.0_1220367.0_1220369.0_20_25', '1169843.0_1169844.0_40_35', '1219894.0_30_5', '1191581.0_1224139.0_1224143.0_45_20', '1225870.0_1228623.0_20_20', '1224396.0_30_25', '1194297.0_1194299.0_1194300.0_1194301.0_1217493.0_20_45', '1217784.0_35_25', '1177284.0_1177318.0_1177321.0_1177520.0_1182096.0_1217803.0_20_30', '1189809.0_1226018.0_1228344.0_1228346.0_1228347.0_20_15', '1172752.0_1172753.0_1227428.0_45_40', '1172260.0_1218252.0_35_35', '1223220.0_1225758.0_1225764.0_40_10', '1177211.0_1183102.0_30_30', '1167541.0_1228263.0_50_10')\n"
     ]
    }
   ],
   "source": [
    "train_ratio = 0.8  \n",
    "\n",
    "# Split patches and corresponding field numbers\n",
    "train_patches, test_patches, train_field_numbers, test_field_numbers = train_test_split(\n",
    "    train_patches, train_coord_dataloader, test_size=1-train_ratio, random_state=42\n",
    ")\n",
    "\n",
    "# Create train and test dataloaders\n",
    "batch_size = 64\n",
    "dataloader_train = create_data_loader(train_patches, train_field_numbers, batch_size=batch_size, shuffle=True)\n",
    "dataloader_test = create_data_loader(test_patches, test_field_numbers, batch_size=batch_size, shuffle=False)\n",
    "\n",
    "for batch_inputs, batch_field_numbers in dataloader_train:\n",
    "    print(\"Train Batch Inputs Shape:\", batch_inputs.shape)\n",
    "    print(\"Train Batch Field Numbers:\", batch_field_numbers)\n",
    "    break  \n",
    "\n",
    "for batch_inputs, batch_field_numbers in dataloader_test:\n",
    "    print(\"Test Batch Inputs Shape:\", batch_inputs.shape)\n",
    "    print(\"Test Batch Field Numbers:\", batch_field_numbers)\n",
    "    break  "
   ]
  },
  {
   "cell_type": "code",
   "execution_count": 21,
   "metadata": {},
   "outputs": [
    {
     "name": "stdout",
     "output_type": "stream",
     "text": [
      "Eval Batch Inputs Shape: torch.Size([64, 10, 7, 5, 5])\n",
      "Eval Batch Field Numbers: ('1168039.0_20_25', '1168039.0_20_30', '1168039.0_20_35', '1168039.0_25_25', '1168039.0_25_30', '1168039.0_25_35', '1168039.0_30_25', '1168039.0_30_30', '1168039.0_30_35', '1168039.0_35_25', '1168039.0_35_30', '1168039.0_35_35', '1228889.0_25_15', '1228889.0_25_20', '1228889.0_25_25', '1228889.0_25_30', '1228889.0_25_35', '1228889.0_25_40', '1228889.0_30_15', '1228889.0_30_20', '1228889.0_30_25', '1228889.0_30_30', '1228889.0_30_35', '1228889.0_30_40', '1228889.0_35_15', '1228889.0_35_20', '1228889.0_35_25', '1228889.0_35_30', '1168663.0_1176271.0_25_35', '1168663.0_1176271.0_25_40', '1168663.0_1176271.0_30_20', '1168663.0_1176271.0_30_25', '1168663.0_1176271.0_30_30', '1168663.0_1176271.0_30_35', '1168663.0_1176271.0_30_40', '1168663.0_1176271.0_35_20', '1168663.0_1176271.0_35_25', '1168663.0_1176271.0_35_30', '1168663.0_1176271.0_35_35', '1168663.0_1176271.0_35_40', '1168692.0_1220431.0_15_20', '1168692.0_1220431.0_15_25', '1168692.0_1220431.0_15_30', '1168692.0_1220431.0_20_15', '1168692.0_1220431.0_20_20', '1168692.0_1220431.0_20_25', '1168692.0_1220431.0_20_30', '1168692.0_1220431.0_20_35', '1168692.0_1220431.0_25_15', '1168692.0_1220431.0_25_20', '1168692.0_1220431.0_25_25', '1168692.0_1220431.0_25_30', '1168692.0_1220431.0_25_35', '1168692.0_1220431.0_30_20', '1168692.0_1220431.0_30_25', '1168692.0_1220431.0_30_30', '1168692.0_1220431.0_30_35', '1168692.0_1220431.0_30_40', '1168692.0_1220431.0_35_30', '1168692.0_1220431.0_35_35', '1168692.0_1220431.0_35_40', '1168692.0_1220431.0_40_35', '1168692.0_1220431.0_40_40', '1168692.0_1220431.0_45_35')\n"
     ]
    }
   ],
   "source": [
    "batch_size = 64\n",
    "dataloader_eval = create_data_loader(eval_patches, eval_coord_dataloader, batch_size=batch_size, shuffle=False)\n",
    "\n",
    "for batch_inputs, batch_field_numbers in dataloader_eval:\n",
    "    print(\"Eval Batch Inputs Shape:\", batch_inputs.shape) \n",
    "    print(\"Eval Batch Field Numbers:\", batch_field_numbers)\n",
    "    break  "
   ]
  },
  {
   "cell_type": "markdown",
   "metadata": {},
   "source": [
    "### Modeling - Autoencoder"
   ]
  },
  {
   "attachments": {
    "image.png": {
     "image/png": "[encoded data removed]"
    }
   },
   "cell_type": "markdown",
   "metadata": {},
   "source": [
    "![image.png](attachment:image.png)"
   ]
  },
  {
   "cell_type": "markdown",
   "metadata": {},
   "source": [
    "Input Data: ( N x C x D x H x W )"
   ]
  },
  {
   "cell_type": "code",
   "execution_count": 22,
   "metadata": {},
   "outputs": [],
   "source": [
    "# class Conv3DAutoencoder(nn.Module):\n",
    "#     def __init__(self, in_channels, time_steps, latent_size):\n",
    "#         super(Conv3DAutoencoder, self).__init__()\n",
    "\n",
    "#         self.encoder = nn.Sequential(\n",
    "#             nn.Conv3d(in_channels=in_channels, out_channels=64, kernel_size=3, stride=1, padding=1),\n",
    "#             nn.ReLU(),\n",
    "#             nn.Conv3d(in_channels=64, out_channels=128, kernel_size=3, stride=1, padding=1),\n",
    "#             nn.ReLU(),\n",
    "#             nn.Flatten(),\n",
    "#             nn.Linear(in_features=128 * time_steps * 4 * 4, out_features=latent_size)  \n",
    "#         )\n",
    "#         self.decoder = nn.Sequential(\n",
    "#             nn.Linear(in_features=latent_size, out_features=128 * time_steps * 4 * 4),\n",
    "#             nn.ReLU(),\n",
    "#             nn.Unflatten(1, (128, time_steps, 4, 4)),  \n",
    "#             nn.ConvTranspose3d(in_channels=128, out_channels=64, kernel_size=3, stride=1, padding=1),  \n",
    "#             nn.ReLU(),\n",
    "#             nn.ConvTranspose3d(in_channels=64, out_channels=in_channels, kernel_size=3, stride=1, padding=1), \n",
    "#             nn.Sigmoid()  \n",
    "#         )\n",
    "\n",
    "#     def forward(self, x):\n",
    "#         z = self.encoder(x)  \n",
    "#         x_reconstructed = self.decoder(z) \n",
    "#         return z, x_reconstructed"
   ]
  },
  {
   "cell_type": "code",
   "execution_count": 23,
   "metadata": {},
   "outputs": [],
   "source": [
    "class Conv3DAutoencoder(nn.Module):\n",
    "    def __init__(self, in_channels, time_steps, latent_size):\n",
    "        super(Conv3DAutoencoder, self).__init__()\n",
    "\n",
    "        self.time_steps = time_steps\n",
    "        self.in_channels = in_channels\n",
    "\n",
    "        # --- Encoder ---\n",
    "        self.conv1 = nn.Conv3d(in_channels, 64, kernel_size=3, stride=1, padding=1)  # Output: [64, time_steps, 5, 5]\n",
    "        # self.bn1 = nn.BatchNorm3d(64)\n",
    "        self.conv2 = nn.Conv3d(64, 128, kernel_size=3, stride=1, padding=1)  # Output: [128, time_steps, 5, 5]\n",
    "        # self.bn2 = nn.BatchNorm3d(128)\n",
    "        self.conv3 = nn.Conv3d(128, 256, kernel_size=3, stride=1, padding=1)  # Output: [256, time_steps, 5, 5]\n",
    "        # self.bn3 = nn.BatchNorm3d(256)\n",
    "\n",
    "        # --- Linear layers ---\n",
    "        self.flatten = nn.Flatten()\n",
    "        self.fc1 = nn.Linear(256 * time_steps * 5 * 5, 1024)  \n",
    "        self.fc2 = nn.Linear(1024, latent_size)\n",
    "\n",
    "        # --- Decoder ---\n",
    "        self.fc3 = nn.Linear(latent_size, 1024)\n",
    "        self.fc4 = nn.Linear(1024, 256 * time_steps * 5 * 5)  \n",
    "        self.unflatten = nn.Unflatten(1, (256, time_steps, 5, 5))  \n",
    "\n",
    "        self.deconv1 = nn.ConvTranspose3d(256, 128, kernel_size=3, stride=1, padding=1)\n",
    "        # self.bn4 = nn.BatchNorm3d(128)\n",
    "        self.deconv2 = nn.ConvTranspose3d(128, 64, kernel_size=3, stride=1, padding=1)\n",
    "        # self.bn5 = nn.BatchNorm3d(64)\n",
    "        self.deconv3 = nn.ConvTranspose3d(64, in_channels, kernel_size=3, stride=1, padding=1)\n",
    "\n",
    "    def forward(self, x):\n",
    "        # Encoder\n",
    "        x = F.relu((self.conv1(x)))  # Output size: [64, time_steps, 5, 5]\n",
    "        x = F.relu((self.conv2(x)))  # Output size: [128, time_steps, 5, 5]\n",
    "        x = F.relu((self.conv3(x)))  # Output size: [256, time_steps, 5, 5]\n",
    "\n",
    "        # Flatten and pass to Linear layers\n",
    "        x_flat = self.flatten(x)\n",
    "        # print(f\"Flattened size before Linear: {x_flat.size()}\")  # (batch_size, 256 * time_steps * 5 * 5)\n",
    "        \n",
    "        x = F.relu(self.fc1(x_flat))\n",
    "        z = self.fc2(x)\n",
    "\n",
    "        # Decoder\n",
    "        x = F.relu(self.fc3(z))\n",
    "        x = F.relu(self.fc4(x))\n",
    "        x = self.unflatten(x)\n",
    "\n",
    "        x = F.relu((self.deconv1(x)))\n",
    "        x = F.relu((self.deconv2(x)))\n",
    "        x_reconstructed = self.deconv3(x)\n",
    "\n",
    "        return z, x_reconstructed\n"
   ]
  },
  {
   "cell_type": "markdown",
   "metadata": {},
   "source": [
    "### Training"
   ]
  },
  {
   "cell_type": "code",
   "execution_count": 26,
   "metadata": {},
   "outputs": [
    {
     "data": {
      "text/plain": [
       "Conv3DAutoencoder(\n",
       "  (conv1): Conv3d(10, 64, kernel_size=(3, 3, 3), stride=(1, 1, 1), padding=(1, 1, 1))\n",
       "  (conv2): Conv3d(64, 128, kernel_size=(3, 3, 3), stride=(1, 1, 1), padding=(1, 1, 1))\n",
       "  (conv3): Conv3d(128, 256, kernel_size=(3, 3, 3), stride=(1, 1, 1), padding=(1, 1, 1))\n",
       "  (flatten): Flatten(start_dim=1, end_dim=-1)\n",
       "  (fc1): Linear(in_features=44800, out_features=1024, bias=True)\n",
       "  (fc2): Linear(in_features=1024, out_features=100, bias=True)\n",
       "  (fc3): Linear(in_features=100, out_features=1024, bias=True)\n",
       "  (fc4): Linear(in_features=1024, out_features=44800, bias=True)\n",
       "  (unflatten): Unflatten(dim=1, unflattened_size=(256, 7, 5, 5))\n",
       "  (deconv1): ConvTranspose3d(256, 128, kernel_size=(3, 3, 3), stride=(1, 1, 1), padding=(1, 1, 1))\n",
       "  (deconv2): ConvTranspose3d(128, 64, kernel_size=(3, 3, 3), stride=(1, 1, 1), padding=(1, 1, 1))\n",
       "  (deconv3): ConvTranspose3d(64, 10, kernel_size=(3, 3, 3), stride=(1, 1, 1), padding=(1, 1, 1))\n",
       ")"
      ]
     },
     "execution_count": 26,
     "metadata": {},
     "output_type": "execute_result"
    }
   ],
   "source": [
    "# Train\n",
    "device = 'cuda'\n",
    "epochs = 20\n",
    "lr = 0.001\n",
    "latent_dim=100\n",
    "channels = 10\n",
    "time_steps = 7\n",
    "\n",
    "model = Conv3DAutoencoder(channels, time_steps, latent_dim)\n",
    "device = torch.device(device)  \n",
    "model.to(device)"
   ]
  },
  {
   "cell_type": "code",
   "execution_count": 27,
   "metadata": {},
   "outputs": [
    {
     "name": "stdout",
     "output_type": "stream",
     "text": [
      "Epoch 1/20, Train Loss: 0.0055, Test Loss: 0.0009\n",
      "Epoch 2/20, Train Loss: 0.0006, Test Loss: 0.0005\n",
      "Epoch 3/20, Train Loss: 0.0003, Test Loss: 0.0015\n",
      "Epoch 4/20, Train Loss: 0.0003, Test Loss: 0.0002\n",
      "Epoch 5/20, Train Loss: 0.0002, Test Loss: 0.0002\n",
      "Epoch 6/20, Train Loss: 0.0002, Test Loss: 0.0003\n",
      "Epoch 7/20, Train Loss: 0.0002, Test Loss: 0.0002\n",
      "Epoch 8/20, Train Loss: 0.0002, Test Loss: 0.0002\n",
      "Epoch 9/20, Train Loss: 0.0002, Test Loss: 0.0002\n",
      "Epoch 10/20, Train Loss: 0.0002, Test Loss: 0.0002\n",
      "Epoch 11/20, Train Loss: 0.0002, Test Loss: 0.0002\n",
      "Epoch 12/20, Train Loss: 0.0002, Test Loss: 0.0003\n",
      "Epoch 13/20, Train Loss: 0.0002, Test Loss: 0.0001\n",
      "Epoch 14/20, Train Loss: 0.0001, Test Loss: 0.0003\n",
      "Epoch 15/20, Train Loss: 0.0002, Test Loss: 0.0002\n",
      "Epoch 16/20, Train Loss: 0.0001, Test Loss: 0.0001\n",
      "Epoch 17/20, Train Loss: 0.0001, Test Loss: 0.0002\n",
      "Epoch 18/20, Train Loss: 0.0001, Test Loss: 0.0003\n",
      "Epoch 19/20, Train Loss: 0.0001, Test Loss: 0.0002\n",
      "Epoch 20/20, Train Loss: 0.0001, Test Loss: 0.0004\n"
     ]
    }
   ],
   "source": [
    "trained_model, train_losses, test_losses  = train_model_ae(model, dataloader_train, dataloader_test, epochs=epochs, lr=lr, device=device)"
   ]
  },
  {
   "cell_type": "code",
   "execution_count": 39,
   "metadata": {},
   "outputs": [
    {
     "data": {
      "image/png": "[encoded data removed]",
      "text/plain": [
       "<Figure size 800x500 with 1 Axes>"
      ]
     },
     "metadata": {},
     "output_type": "display_data"
    }
   ],
   "source": [
    "plot_loss(train_losses,test_losses)"
   ]
  },
  {
   "cell_type": "markdown",
   "metadata": {},
   "source": [
    "### Evaluation"
   ]
  },
  {
   "cell_type": "code",
   "execution_count": 28,
   "metadata": {},
   "outputs": [],
   "source": [
    "# Extract features and field numbers\n",
    "train_features, train_coord_dl = extract_features_ae(trained_model, dataloader_train, device)\n",
    "test_features, test_coord_dl = extract_features_ae(trained_model, dataloader_test, device)\n",
    "eval_features, eval_coord_dl = extract_features_ae(trained_model, dataloader_eval, device)"
   ]
  },
  {
   "cell_type": "code",
   "execution_count": 29,
   "metadata": {},
   "outputs": [],
   "source": [
    "train_features = train_features.cpu()\n",
    "test_features = test_features.cpu()\n",
    "eval_features = eval_features.cpu()"
   ]
  },
  {
   "cell_type": "code",
   "execution_count": 30,
   "metadata": {},
   "outputs": [
    {
     "name": "stderr",
     "output_type": "stream",
     "text": [
      "/home/k64835/.local/lib/python3.8/site-packages/sklearn/cluster/_kmeans.py:1416: FutureWarning: The default value of `n_init` will change from 10 to 'auto' in 1.4. Set the value of `n_init` explicitly to suppress the warning\n",
      "  super()._check_params_vs_input(X, default_n_init=10)\n"
     ]
    }
   ],
   "source": [
    "kmeans = train_kmeans_patches(train_features.cpu(), n_clusters=2, random_state=3)\n",
    "# kmeans = KMeans(n_clusters=2, random_state=2)\n",
    "# kmeans.fit(train_features)\n",
    "\n",
    "train_patch_predictions = kmeans.predict(train_features.reshape(train_features.size(0), -1).numpy().astype(np.float32))\n",
    "test_patch_predictions = kmeans.predict(test_features.reshape(test_features.size(0), -1).numpy().astype(np.float32))\n",
    "eval_patch_predictions = kmeans.predict(eval_features.reshape(eval_features.size(0), -1).numpy().astype(np.float32))"
   ]
  },
  {
   "cell_type": "markdown",
   "metadata": {},
   "source": [
    "resume"
   ]
  },
  {
   "cell_type": "code",
   "execution_count": 31,
   "metadata": {},
   "outputs": [],
   "source": [
    "# Assign field labels\n",
    "threshold = config.patch_to_field_threshold\n",
    "train_field_labels = assign_field_labels_ae(train_coord_dl, train_patch_predictions, threshold)\n",
    "test_field_labels = assign_field_labels_ae(test_coord_dl, test_patch_predictions, threshold)\n",
    "eval_field_labels = assign_field_labels_ae(eval_coord_dl, eval_patch_predictions, threshold)"
   ]
  },
  {
   "cell_type": "code",
   "execution_count": 32,
   "metadata": {},
   "outputs": [
    {
     "name": "stdout",
     "output_type": "stream",
     "text": [
      "Test Accuracy: 0.5573770491803278\n",
      "              precision    recall  f1-score   support\n",
      "\n",
      "           0       0.47      0.31      0.37        26\n",
      "           1       0.59      0.74      0.66        35\n",
      "\n",
      "    accuracy                           0.56        61\n",
      "   macro avg       0.53      0.53      0.52        61\n",
      "weighted avg       0.54      0.56      0.54        61\n",
      "\n"
     ]
    }
   ],
   "source": [
    "accuracy, report, x_y_coords = evaluate_test_labels_ae(eval_field_labels, config.labels_path)\n",
    "print(f\"Test Accuracy: {accuracy}\")\n",
    "print(report)"
   ]
  },
  {
   "cell_type": "code",
   "execution_count": 41,
   "metadata": {},
   "outputs": [],
   "source": [
    "# draw_diseased_patches(dataloader_test, x_y_coords)"
   ]
  },
  {
   "cell_type": "markdown",
   "metadata": {},
   "source": [
    "Boxed Images"
   ]
  },
  {
   "cell_type": "code",
   "execution_count": null,
   "metadata": {},
   "outputs": [],
   "source": [
    "eval_images_box = image_tensor_train"
   ]
  },
  {
   "cell_type": "code",
   "execution_count": null,
   "metadata": {},
   "outputs": [],
   "source": [
    "draw_diseased_patches(eval_images_box, )"
   ]
  },
  {
   "cell_type": "code",
   "execution_count": null,
   "metadata": {},
   "outputs": [],
   "source": []
  },
  {
   "cell_type": "markdown",
   "metadata": {},
   "source": [
    "### Modeling - kmeans"
   ]
  },
  {
   "cell_type": "code",
   "execution_count": null,
   "metadata": {},
   "outputs": [],
   "source": [
    "image_tensor_train.shape"
   ]
  },
  {
   "cell_type": "code",
   "execution_count": null,
   "metadata": {},
   "outputs": [],
   "source": [
    "data_flattened_train = image_tensor_train.reshape(image_tensor_train.size(0), -1).numpy()\n",
    "data_flattened_train.shape"
   ]
  },
  {
   "cell_type": "code",
   "execution_count": null,
   "metadata": {},
   "outputs": [],
   "source": [
    "kmeans = KMeans(n_clusters=2, random_state=46)\n",
    "kmeans.fit(data_flattened_train)"
   ]
  },
  {
   "cell_type": "code",
   "execution_count": null,
   "metadata": {},
   "outputs": [],
   "source": [
    "flattened_data_test = image_tensor_eval.reshape(image_tensor_eval.size(0), -1).numpy()"
   ]
  },
  {
   "cell_type": "code",
   "execution_count": null,
   "metadata": {},
   "outputs": [],
   "source": [
    "test_cluster_labels = kmeans.predict(flattened_data_test)"
   ]
  },
  {
   "cell_type": "code",
   "execution_count": null,
   "metadata": {},
   "outputs": [],
   "source": [
    "accuracy, pred_aligned, gt_aligned = get_accuracy(field_numbers_eval, test_cluster_labels, config.labels_path)\n",
    "accuracy"
   ]
  },
  {
   "cell_type": "code",
   "execution_count": null,
   "metadata": {},
   "outputs": [],
   "source": [
    "pred_aligned[0], gt_aligned[0]"
   ]
  },
  {
   "cell_type": "markdown",
   "metadata": {},
   "source": [
    "### Feature Extraction"
   ]
  },
  {
   "cell_type": "code",
   "execution_count": null,
   "metadata": {},
   "outputs": [],
   "source": []
  },
  {
   "cell_type": "code",
   "execution_count": null,
   "metadata": {},
   "outputs": [],
   "source": []
  },
  {
   "cell_type": "code",
   "execution_count": null,
   "metadata": {},
   "outputs": [],
   "source": []
  },
  {
   "cell_type": "code",
   "execution_count": null,
   "metadata": {},
   "outputs": [],
   "source": []
  }
 ],
 "metadata": {
  "kernelspec": {
   "display_name": "Python 3",
   "language": "python",
   "name": "python3"
  },
  "language_info": {
   "codemirror_mode": {
    "name": "ipython",
    "version": 3
   },
   "file_extension": ".py",
   "mimetype": "text/x-python",
   "name": "python",
   "nbconvert_exporter": "python",
   "pygments_lexer": "ipython3",
   "version": "3.8.10"
  }
 },
 "nbformat": 4,
 "nbformat_minor": 2
}
