{
 "cells": [
  {
   "cell_type": "markdown",
   "metadata": {},
   "source": [
    "## Imports"
   ]
  },
  {
   "cell_type": "code",
   "execution_count": 1,
   "metadata": {},
   "outputs": [],
   "source": [
    "%load_ext autoreload\n",
    "%autoreload 2"
   ]
  },
  {
   "cell_type": "code",
   "execution_count": 2,
   "metadata": {},
   "outputs": [],
   "source": [
    "import os, sys\n",
    "from pathlib import Path\n",
    "\n",
    "os.environ['PYTORCH_ENABLE_MPS_FALLBACK'] = '1'\n",
    "sys.path.append('/home/k64835/Master-Thesis-SITS')\n",
    "\n",
    "scripts_path = Path(\"../Data-Preprocessing/\").resolve()\n",
    "sys.path.append(str(scripts_path))\n",
    "\n",
    "scripts_path = Path(\"../Evaluation/\").resolve()\n",
    "sys.path.append(str(scripts_path))"
   ]
  },
  {
   "cell_type": "code",
   "execution_count": 3,
   "metadata": {},
   "outputs": [
    {
     "name": "stderr",
     "output_type": "stream",
     "text": [
      "/home/k64835/.local/lib/python3.8/site-packages/torchvision/io/image.py:13: UserWarning: Failed to load image Python extension: '/home/k64835/.local/lib/python3.8/site-packages/torchvision/image.so: undefined symbol: _ZN3c1017RegisterOperatorsD1Ev'If you don't plan on using image functionality from `torchvision.io`, you can ignore this warning. Otherwise, there might be something wrong with your environment. Did you have `libjpeg` or `libpng` installed before building `torchvision` from source?\n",
      "  warn(\n"
     ]
    }
   ],
   "source": [
    "import pickle\n",
    "from sklearn.cluster import KMeans\n",
    "from sklearn.neighbors import NearestCentroid\n",
    "from scripts.data_visualiser import *\n",
    "from sklearn.manifold import TSNE \n",
    "import torch.nn.functional as F\n",
    "from sklearn.model_selection import train_test_split\n",
    "from model_scripts.subpatch_extraction import *\n",
    "from scripts.data_loader import *\n",
    "from scripts.data_preprocessor import *\n",
    "from scripts.temporal_data_preprocessor import *\n",
    "from scripts.temporal_data_loader import *\n",
    "from scripts.temporal_visualiser import *\n",
    "from scripts.temporal_chanel_refinement import *\n",
    "from model_scripts.model_helper import *\n",
    "from model_scripts.dataset_creation import *\n",
    "from model_scripts.train_model_ae import *\n",
    "from model_scripts.model_visualiser import *\n",
    "from model_scripts.clustering import *\n",
    "from model_scripts.train_model_dcec import *\n",
    "from evaluation_scripts.evaluation_helper import *\n",
    "from evaluation_scripts.result_visualiser import *\n",
    "from Pipeline.temporal_preprocessing_pipeline import *\n",
    "from evaluation_scripts.result_visualiser import *\n",
    "from Pipeline.temporal_preprocessing_pipeline import *\n",
    "import numpy as np\n",
    "import config as config\n",
    "from sklearn.cluster import KMeans\n",
    "from sklearn.metrics import adjusted_rand_score\n",
    "from sklearn.cluster import DBSCAN\n",
    "from sklearn.decomposition import PCA\n",
    "import skimage.measure\n",
    "import torch\n",
    "import torch.nn as nn\n",
    "import torch.optim as optim"
   ]
  },
  {
   "cell_type": "markdown",
   "metadata": {},
   "source": [
    "## Dataset prep: B10"
   ]
  },
  {
   "cell_type": "markdown",
   "metadata": {},
   "source": [
    "### Loading the pre-processed data\n",
    "\n",
    "Data: Extracted and Pre-processed Patches (each patch containing a sugarbeet field)\n",
    "\n",
    "Dimensions: (N, T, C, H, W) = (N, 7, 10, 64, 64)"
   ]
  },
  {
   "cell_type": "code",
   "execution_count": 4,
   "metadata": {},
   "outputs": [
    {
     "data": {
      "text/plain": [
       "(torch.Size([2425, 7, 10, 64, 64]), torch.Size([48, 7, 10, 64, 64]))"
      ]
     },
     "execution_count": 4,
     "metadata": {},
     "output_type": "execute_result"
    }
   ],
   "source": [
    "preprocessing_pipeline = PreProcessingPipelineTemporal()\n",
    "field_numbers_train, acquisition_dates_train, patch_tensor_train, images_visualisation_train = preprocessing_pipeline.get_processed_temporal_cubes('train', 'b10')\n",
    "field_numbers_eval, acquisition_dates_eval, patch_tensor_eval, images_visualisation_eval = preprocessing_pipeline.get_processed_temporal_cubes('eval', 'b10')\n",
    "patch_tensor_train.shape, patch_tensor_eval.shape"
   ]
  },
  {
   "cell_type": "markdown",
   "metadata": {},
   "source": [
    "### Create Sub-Patches"
   ]
  },
  {
   "cell_type": "code",
   "execution_count": 5,
   "metadata": {},
   "outputs": [
    {
     "data": {
      "text/plain": [
       "(torch.Size([54623, 7, 10, 4, 4]), torch.Size([1197, 7, 10, 4, 4]))"
      ]
     },
     "execution_count": 5,
     "metadata": {},
     "output_type": "execute_result"
    }
   ],
   "source": [
    "train_subpatches, train_subpatch_coords = non_overlapping_sliding_window(patch_tensor_train, field_numbers_train, patch_size=config.subpatch_size)\n",
    "eval_subpatches, eval_subpatch_coords = non_overlapping_sliding_window(patch_tensor_eval, field_numbers_eval, patch_size=config.subpatch_size)\n",
    "train_subpatches.shape, eval_subpatches.shape"
   ]
  },
  {
   "cell_type": "markdown",
   "metadata": {},
   "source": [
    "Get field numbers and co-ordinates as string"
   ]
  },
  {
   "cell_type": "code",
   "execution_count": 6,
   "metadata": {},
   "outputs": [
    {
     "data": {
      "text/plain": [
       "'1167134.0_24_28'"
      ]
     },
     "execution_count": 6,
     "metadata": {},
     "output_type": "execute_result"
    }
   ],
   "source": [
    "train_coord_dataloader = get_string_fielddata(train_subpatch_coords)\n",
    "eval_coord_dataloader = get_string_fielddata(eval_subpatch_coords)\n",
    "train_coord_dataloader[0]"
   ]
  },
  {
   "cell_type": "markdown",
   "metadata": {},
   "source": [
    "### Split Unlabeled data into 'train' and 'test' and create  Data Loaders"
   ]
  },
  {
   "cell_type": "code",
   "execution_count": 7,
   "metadata": {},
   "outputs": [
    {
     "name": "stderr",
     "output_type": "stream",
     "text": [
      "/home/k64835/Master-Thesis-SITS/Modeling/model_scripts/dataset_creation.py:12: UserWarning: To copy construct from a tensor, it is recommended to use sourceTensor.clone().detach() or sourceTensor.clone().detach().requires_grad_(True), rather than torch.tensor(sourceTensor).\n",
      "  inputs = torch.tensor(inputs, dtype=torch.float32).permute(0, 2, 1, 3, 4)   # (N, T, C, H, W) -> (N, C, T, H, W)\n"
     ]
    }
   ],
   "source": [
    "train_subpatches_dl, test_subpatches, train_field_numbers, test_field_numbers = train_test_split(\n",
    "    train_subpatches, train_coord_dataloader, test_size=1-config.ae_train_test_ratio, random_state=42\n",
    ")\n",
    "\n",
    "dataloader_train = create_data_loader(train_subpatches_dl, train_field_numbers, batch_size=config.ae_batch_size, shuffle=True)\n",
    "dataloader_test = create_data_loader(test_subpatches, test_field_numbers, batch_size=config.ae_batch_size, shuffle=False)\n",
    "dataloader_eval = create_data_loader(eval_subpatches, eval_coord_dataloader, batch_size=config.ae_batch_size, shuffle=False)"
   ]
  },
  {
   "cell_type": "markdown",
   "metadata": {},
   "source": [
    "## Architecture 1: Conv3D Autoencoder with 1D Time Convolution"
   ]
  },
  {
   "cell_type": "markdown",
   "metadata": {},
   "source": [
    "### Architecture"
   ]
  },
  {
   "cell_type": "markdown",
   "metadata": {},
   "source": [
    "Input Data: ( N x C x D x H x W )"
   ]
  },
  {
   "cell_type": "code",
   "execution_count": 8,
   "metadata": {},
   "outputs": [],
   "source": [
    "class Conv3DAutoencoder(nn.Module):\n",
    "    def __init__(self, in_channels, time_steps, latent_size, patch_size):\n",
    "        super(Conv3DAutoencoder, self).__init__()\n",
    "\n",
    "        self.time_steps = time_steps\n",
    "        self.in_channels = in_channels\n",
    "        self.patch_size = patch_size\n",
    "\n",
    "        # --- Encoder (3D Convolutions) ---\n",
    "        self.conv1 = nn.Conv3d(in_channels, 64, kernel_size=3, stride=1, padding=1)\n",
    "        self.conv2 = nn.Conv3d(64, 128, kernel_size=3, stride=1, padding=1)\n",
    "        self.conv3 = nn.Conv3d(128, 256, kernel_size=3, stride=1, padding=1)\n",
    "\n",
    "        # --- 1D Convolution (Time Aggregation) ---\n",
    "        self.conv1d = nn.Conv1d(256 * patch_size * patch_size, 256 * patch_size * patch_size, kernel_size=time_steps, stride=1, padding=0, groups=128 * patch_size * patch_size)\n",
    "\n",
    "        # --- Fully Connected Latent Space ---\n",
    "        self.flatten = nn.Flatten()\n",
    "        self.fc1 = nn.Linear(256 * patch_size * patch_size, 512)   \n",
    "        self.fc2 = nn.Linear(512, latent_size)\n",
    "\n",
    "        # --- Decoder (Fully Connected) ---\n",
    "        self.fc3 = nn.Linear(latent_size, 512)\n",
    "        self.fc4 = nn.Linear(512, 256 * patch_size * patch_size)  \n",
    "\n",
    "        # --- 1D Deconvolution to Expand Time Back ---\n",
    "        self.deconv1d = nn.ConvTranspose1d(256 * patch_size * patch_size, 256 * patch_size * patch_size, kernel_size=time_steps, stride=1, padding=0, groups=128 * patch_size * patch_size)\n",
    "\n",
    "        # --- 3D Deconvolutions ---\n",
    "        self.unflatten = nn.Unflatten(1, (256, patch_size, patch_size))\n",
    "        self.deconv1 = nn.ConvTranspose3d(256, 128, kernel_size=3, stride=1, padding=1)\n",
    "        self.deconv2 = nn.ConvTranspose3d(128, 64, kernel_size=3, stride=1, padding=1)\n",
    "        self.deconv3 = nn.ConvTranspose3d(64, in_channels, kernel_size=3, stride=1, padding=1)\n",
    "\n",
    "    def forward(self, x):\n",
    "        \n",
    "        # --- Encoder ---\n",
    "        x = F.relu(self.conv1(x))\n",
    "        x = F.relu(self.conv2(x))\n",
    "        x = F.relu(self.conv3(x))\n",
    "\n",
    "        # --- Reshape for 1D Conv ---\n",
    "        b, c, t, h, w = x.shape  \n",
    "        # print(\"x shape initial: \",x.shape)\n",
    "        x = x.view(b, c * h * w, t)                     # (batch, 800, time)\n",
    "\n",
    "        # print(f\"Shape before 1D Conv: {x.shape}\") \n",
    "        x = self.conv1d(x)                              # Time aggregation\n",
    "        # print(f\"Shape after 1D Conv: {x.shape}\")      # (batch, 800, 1)\n",
    "\n",
    "        # --- Flatten and Fully Connected ---\n",
    "        x = self.flatten(x)  \n",
    "        x = F.relu(self.fc1(x))\n",
    "        z = self.fc2(x) \n",
    "\n",
    "        # --- Decoder ---\n",
    "        x = F.relu(self.fc3(z))\n",
    "        x = F.relu(self.fc4(x)) \n",
    "\n",
    "        # --- Expand Time Back ---\n",
    "        x = x.view(b, 256 * self.patch_size * self.patch_size, 1)  \n",
    "        x = self.deconv1d(x) \n",
    "        # print(f\"Shape after Deconv1D: {x.shape}\")  # (batch, 800, time_steps)\n",
    "\n",
    "        # --- Reshape for 3D Deconvolutions ---\n",
    "        x = x.view(b, -1, self.time_steps, h, w)  \n",
    "        # print(\"x before unflatten\", x.shape)\n",
    "\n",
    "        # --- 3D Deconvolutions ---\n",
    "        x = F.relu(self.deconv1(x))\n",
    "        x = F.relu(self.deconv2(x))\n",
    "        x_reconstructed = self.deconv3(x)  \n",
    "\n",
    "        return z, x_reconstructed\n"
   ]
  },
  {
   "cell_type": "markdown",
   "metadata": {},
   "source": [
    "### Training"
   ]
  },
  {
   "cell_type": "code",
   "execution_count": 9,
   "metadata": {},
   "outputs": [
    {
     "data": {
      "text/plain": [
       "Conv3DAutoencoder(\n",
       "  (conv1): Conv3d(10, 64, kernel_size=(3, 3, 3), stride=(1, 1, 1), padding=(1, 1, 1))\n",
       "  (conv2): Conv3d(64, 128, kernel_size=(3, 3, 3), stride=(1, 1, 1), padding=(1, 1, 1))\n",
       "  (conv3): Conv3d(128, 256, kernel_size=(3, 3, 3), stride=(1, 1, 1), padding=(1, 1, 1))\n",
       "  (conv1d): Conv1d(4096, 4096, kernel_size=(7,), stride=(1,), groups=2048)\n",
       "  (flatten): Flatten(start_dim=1, end_dim=-1)\n",
       "  (fc1): Linear(in_features=4096, out_features=512, bias=True)\n",
       "  (fc2): Linear(in_features=512, out_features=32, bias=True)\n",
       "  (fc3): Linear(in_features=32, out_features=512, bias=True)\n",
       "  (fc4): Linear(in_features=512, out_features=4096, bias=True)\n",
       "  (deconv1d): ConvTranspose1d(4096, 4096, kernel_size=(7,), stride=(1,), groups=2048)\n",
       "  (unflatten): Unflatten(dim=1, unflattened_size=(256, 4, 4))\n",
       "  (deconv1): ConvTranspose3d(256, 128, kernel_size=(3, 3, 3), stride=(1, 1, 1), padding=(1, 1, 1))\n",
       "  (deconv2): ConvTranspose3d(128, 64, kernel_size=(3, 3, 3), stride=(1, 1, 1), padding=(1, 1, 1))\n",
       "  (deconv3): ConvTranspose3d(64, 10, kernel_size=(3, 3, 3), stride=(1, 1, 1), padding=(1, 1, 1))\n",
       ")"
      ]
     },
     "execution_count": 9,
     "metadata": {},
     "output_type": "execute_result"
    }
   ],
   "source": [
    "device = 'cuda'\n",
    "epochs = 50\n",
    "lr = 0.001\n",
    "momentum=0.9\n",
    "latent_dim=32\n",
    "channels = 10\n",
    "time_steps = 7\n",
    "optimizer = 'Adam'\n",
    "patch_size = config.subpatch_size\n",
    "\n",
    "model = Conv3DAutoencoder(channels, time_steps, latent_dim, config.subpatch_size)\n",
    "device = torch.device(device)  \n",
    "model.to(device)"
   ]
  },
  {
   "cell_type": "code",
   "execution_count": 10,
   "metadata": {},
   "outputs": [
    {
     "name": "stdout",
     "output_type": "stream",
     "text": [
      "Epoch 1/50, Train Loss: 0.001717, Test Loss: 0.000686\n",
      "Epoch 2/50, Train Loss: 0.000510, Test Loss: 0.000277\n",
      "Epoch 3/50, Train Loss: 0.000262, Test Loss: 0.000192\n",
      "Epoch 4/50, Train Loss: 0.000214, Test Loss: 0.000170\n",
      "Epoch 5/50, Train Loss: 0.000196, Test Loss: 0.000265\n",
      "Epoch 6/50, Train Loss: 0.000185, Test Loss: 0.000181\n",
      "Epoch 7/50, Train Loss: 0.000176, Test Loss: 0.000156\n",
      "Epoch 8/50, Train Loss: 0.000166, Test Loss: 0.000140\n",
      "Epoch 9/50, Train Loss: 0.000157, Test Loss: 0.000163\n",
      "Epoch 10/50, Train Loss: 0.000145, Test Loss: 0.000125\n",
      "Epoch 11/50, Train Loss: 0.000136, Test Loss: 0.000129\n",
      "Epoch 12/50, Train Loss: 0.000127, Test Loss: 0.000143\n",
      "Epoch 13/50, Train Loss: 0.000122, Test Loss: 0.000117\n",
      "Epoch 14/50, Train Loss: 0.000119, Test Loss: 0.000109\n"
     ]
    },
    {
     "ename": "KeyboardInterrupt",
     "evalue": "",
     "output_type": "error",
     "traceback": [
      "\u001b[0;31m---------------------------------------------------------------------------\u001b[0m",
      "\u001b[0;31mKeyboardInterrupt\u001b[0m                         Traceback (most recent call last)",
      "Cell \u001b[0;32mIn[10], line 1\u001b[0m\n\u001b[0;32m----> 1\u001b[0m trained_model, train_losses, test_losses  \u001b[38;5;241m=\u001b[39m \u001b[43mtrain_model_ae\u001b[49m\u001b[43m(\u001b[49m\u001b[43mmodel\u001b[49m\u001b[43m,\u001b[49m\u001b[43m \u001b[49m\u001b[43mdataloader_train\u001b[49m\u001b[43m,\u001b[49m\u001b[43m \u001b[49m\u001b[43mdataloader_test\u001b[49m\u001b[43m,\u001b[49m\u001b[43m \u001b[49m\u001b[43mepochs\u001b[49m\u001b[38;5;241;43m=\u001b[39;49m\u001b[43mepochs\u001b[49m\u001b[43m,\u001b[49m\u001b[43m \u001b[49m\u001b[43moptimizer\u001b[49m\u001b[38;5;241;43m=\u001b[39;49m\u001b[43moptimizer\u001b[49m\u001b[43m,\u001b[49m\u001b[43m \u001b[49m\u001b[43mlr\u001b[49m\u001b[38;5;241;43m=\u001b[39;49m\u001b[43mlr\u001b[49m\u001b[43m,\u001b[49m\u001b[43m \u001b[49m\u001b[43mmomentum\u001b[49m\u001b[38;5;241;43m=\u001b[39;49m\u001b[43mmomentum\u001b[49m\u001b[43m,\u001b[49m\u001b[43m \u001b[49m\u001b[43mdevice\u001b[49m\u001b[38;5;241;43m=\u001b[39;49m\u001b[43mdevice\u001b[49m\u001b[43m)\u001b[49m\n",
      "File \u001b[0;32m~/Master-Thesis-SITS/Modeling/model_scripts/train_model_ae.py:61\u001b[0m, in \u001b[0;36mtrain_model_ae\u001b[0;34m(model, train_dataloader, test_dataloader, epochs, optimizer, lr, momentum, device)\u001b[0m\n\u001b[1;32m     58\u001b[0m     optimizer\u001b[38;5;241m.\u001b[39mstep()\n\u001b[1;32m     59\u001b[0m     optimizer\u001b[38;5;241m.\u001b[39mzero_grad()\n\u001b[0;32m---> 61\u001b[0m     train_loss \u001b[38;5;241m+\u001b[39m\u001b[38;5;241m=\u001b[39m \u001b[43mloss\u001b[49m\u001b[38;5;241;43m.\u001b[39;49m\u001b[43mitem\u001b[49m\u001b[43m(\u001b[49m\u001b[43m)\u001b[49m        \n\u001b[1;32m     62\u001b[0m epoch_train_losses\u001b[38;5;241m.\u001b[39mappend(train_loss \u001b[38;5;241m/\u001b[39m \u001b[38;5;28mlen\u001b[39m(train_dataloader))\n\u001b[1;32m     64\u001b[0m \u001b[38;5;66;03m# Evaluate on the test set\u001b[39;00m\n",
      "\u001b[0;31mKeyboardInterrupt\u001b[0m: "
     ]
    }
   ],
   "source": [
    "trained_model, train_losses, test_losses  = train_model_ae(model, dataloader_train, dataloader_test, epochs=epochs, optimizer=optimizer, lr=lr, momentum=momentum, device=device)"
   ]
  },
  {
   "cell_type": "markdown",
   "metadata": {},
   "source": [
    "### Evaluation"
   ]
  },
  {
   "cell_type": "code",
   "execution_count": null,
   "metadata": {},
   "outputs": [
    {
     "data": {
      "image/png": "[encoded data removed]",
      "text/plain": [
       "<Figure size 800x500 with 1 Axes>"
      ]
     },
     "metadata": {},
     "output_type": "display_data"
    }
   ],
   "source": [
    "plot_loss(train_losses, test_losses)"
   ]
  },
  {
   "cell_type": "markdown",
   "metadata": {},
   "source": [
    "Load Saved Model to skip Training"
   ]
  },
  {
   "cell_type": "code",
   "execution_count": null,
   "metadata": {},
   "outputs": [],
   "source": [
    "# with open(config.kmeans_ae_b10_path, 'rb') as file:\n",
    "#     kmeans = pickle.load(file)"
   ]
  },
  {
   "cell_type": "code",
   "execution_count": null,
   "metadata": {},
   "outputs": [],
   "source": [
    "# trained_model = Conv3DAutoencoder(channels, time_steps, latent_dim, config.subpatch_size)\n",
    "\n",
    "# with open(config.ae_b10_path, 'rb') as file:\n",
    "#     trained_model = pickle.load(file)"
   ]
  },
  {
   "cell_type": "code",
   "execution_count": null,
   "metadata": {},
   "outputs": [],
   "source": [
    "# for batch_inputs, batch_field_numbers in dataloader_train:\n",
    "#     print(\"Batch Inputs Shape:\", batch_inputs.shape)  \n",
    "#     # print(\"Batch Field Numbers:\", batch_field_numbers)\n",
    "#     # print(\"Dates:\", timestamps.shape)\n",
    "#     break "
   ]
  },
  {
   "cell_type": "markdown",
   "metadata": {},
   "source": [
    "Use trained Encoder part to get the features for train, test and evaluation Data"
   ]
  },
  {
   "cell_type": "code",
   "execution_count": null,
   "metadata": {},
   "outputs": [],
   "source": [
    "train_features, train_coord_dl = extract_features_ae(trained_model, dataloader_train, device)\n",
    "test_features, test_coord_dl = extract_features_ae(trained_model, dataloader_test, device)\n",
    "eval_features, eval_coord_dl = extract_features_ae(trained_model, dataloader_eval, device)\n",
    "\n",
    "train_features = train_features.cpu()\n",
    "test_features = test_features.cpu()\n",
    "eval_features = eval_features.cpu()\n",
    "\n",
    "combined_train_features = torch.cat((train_features, test_features), dim=0)\n",
    "combined_train_coords = train_coord_dl + test_coord_dl"
   ]
  },
  {
   "cell_type": "markdown",
   "metadata": {},
   "source": [
    "K-means on extracted features"
   ]
  },
  {
   "cell_type": "code",
   "execution_count": null,
   "metadata": {},
   "outputs": [
    {
     "name": "stderr",
     "output_type": "stream",
     "text": [
      "/home/k64835/.local/lib/python3.8/site-packages/sklearn/cluster/_kmeans.py:1416: FutureWarning: The default value of `n_init` will change from 10 to 'auto' in 1.4. Set the value of `n_init` explicitly to suppress the warning\n",
      "  super()._check_params_vs_input(X, default_n_init=10)\n"
     ]
    }
   ],
   "source": [
    "kmeans = train_kmeans_patches(combined_train_features, n_clusters=2, random_state=201)\n",
    "\n",
    "train_subpatch_predictions = kmeans.predict(combined_train_features.reshape(combined_train_features.size(0), -1).numpy().astype(np.float32))\n",
    "eval_subpatch_predictions = kmeans.predict(eval_features.reshape(eval_features.size(0), -1).numpy().astype(np.float32))"
   ]
  },
  {
   "cell_type": "markdown",
   "metadata": {},
   "source": [
    "Convert Subpatch labels to Field labels"
   ]
  },
  {
   "cell_type": "code",
   "execution_count": null,
   "metadata": {},
   "outputs": [
    {
     "data": {
      "text/plain": [
       "0.1"
      ]
     },
     "execution_count": 57,
     "metadata": {},
     "output_type": "execute_result"
    }
   ],
   "source": [
    "threshold = config.patch_to_field_threshold\n",
    "train_field_labels = assign_field_labels_ae(combined_train_coords, train_subpatch_predictions, threshold)\n",
    "eval_field_labels = assign_field_labels_ae(eval_coord_dl, eval_subpatch_predictions, threshold)\n",
    "threshold"
   ]
  },
  {
   "cell_type": "markdown",
   "metadata": {},
   "source": [
    "Clustering Accuracy"
   ]
  },
  {
   "cell_type": "code",
   "execution_count": null,
   "metadata": {},
   "outputs": [
    {
     "name": "stdout",
     "output_type": "stream",
     "text": [
      "Accuracy: 0.5245901639344263\n",
      "Precision: [0.45454545 0.60714286]\n",
      "Recall: [0.57692308 0.48571429]\n",
      "F1-score: [0.50847458 0.53968254]\n",
      "F2-score: 0.5059523809523809\n"
     ]
    }
   ],
   "source": [
    "acc, precision, recall, f1_score, f2_score = evaluate_clustering_metrics(eval_field_labels, config.labels_path)\n",
    "print(\"Accuracy:\",acc)\n",
    "print(\"Precision:\",precision)\n",
    "print(\"Recall:\",recall)\n",
    "print(\"F1-score:\",f1_score)\n",
    "print(\"F2-score:\", f2_score)"
   ]
  },
  {
   "cell_type": "markdown",
   "metadata": {},
   "source": [
    "New code:"
   ]
  },
  {
   "cell_type": "code",
   "execution_count": null,
   "metadata": {},
   "outputs": [
    {
     "name": "stdout",
     "output_type": "stream",
     "text": [
      "Selected 0 = Diseased mapping\n",
      "Accuracy: 0.5245901639344263\n",
      "Precision: [0.45454545 0.60714286]\n",
      "Recall: [0.57692308 0.48571429]\n",
      "F1-score: [0.50847458 0.53968254]\n",
      "F2-score: 0.5059523809523809\n"
     ]
    }
   ],
   "source": [
    "disease, acc, precision, recall, f1_score, f2_score = evaluate_best_mapping_new(eval_coord_dl, eval_subpatch_predictions, config.labels_path, threshold)\n",
    "print(\"Accuracy:\",acc)\n",
    "print(\"Precision:\",precision)\n",
    "print(\"Recall:\",recall)\n",
    "print(\"F1-score:\",f1_score)\n",
    "print(\"F2-score:\", f2_score)"
   ]
  },
  {
   "cell_type": "code",
   "execution_count": 69,
   "metadata": {},
   "outputs": [],
   "source": [
    "train_field_labels = assign_field_labels_ae_train(combined_train_coords, train_subpatch_predictions, disease, threshold) #for box drawing"
   ]
  },
  {
   "cell_type": "code",
   "execution_count": 32,
   "metadata": {},
   "outputs": [],
   "source": [
    "# with open(config.ae_b10_path, 'wb') as file:\n",
    "#     pickle.dump(trained_model, file)"
   ]
  },
  {
   "cell_type": "code",
   "execution_count": 33,
   "metadata": {},
   "outputs": [],
   "source": [
    "# with open(config.kmeans_ae_b10_path, 'wb') as file:\n",
    "#     pickle.dump(kmeans, file)"
   ]
  },
  {
   "cell_type": "code",
   "execution_count": 35,
   "metadata": {},
   "outputs": [
    {
     "data": {
      "image/png": "[encoded data removed]",
      "text/plain": [
       "<Figure size 1000x1000 with 10 Axes>"
      ]
     },
     "metadata": {},
     "output_type": "display_data"
    }
   ],
   "source": [
    "plot_reconstructed_images(trained_model, dataloader_train, 5, device)"
   ]
  },
  {
   "cell_type": "code",
   "execution_count": null,
   "metadata": {},
   "outputs": [],
   "source": []
  },
  {
   "cell_type": "code",
   "execution_count": null,
   "metadata": {},
   "outputs": [],
   "source": []
  },
  {
   "cell_type": "markdown",
   "metadata": {},
   "source": [
    "## Architecture 2: Conv2D Autoencoder with Time as Channels"
   ]
  },
  {
   "cell_type": "code",
   "execution_count": null,
   "metadata": {},
   "outputs": [],
   "source": [
    "class Conv2DAutoencoder(nn.Module):\n",
    "    def __init__(self, in_channels, time_steps, latent_size, patch_size):\n",
    "        super(Conv2DAutoencoder, self).__init__()\n",
    "\n",
    "        self.time_steps = time_steps\n",
    "        self.in_channels = in_channels\n",
    "\n",
    "        # --- Encoder (2D Convolutions, treating time steps as channels) ---\n",
    "        self.conv1 = nn.Conv2d(in_channels * time_steps, 64, kernel_size=3, stride=1, padding=1)\n",
    "        self.conv2 = nn.Conv2d(64, 128, kernel_size=3, stride=1, padding=1)\n",
    "        self.conv3 = nn.Conv2d(128, 256, kernel_size=3, stride=1, padding=1)\n",
    "\n",
    "        # --- Fully Connected Latent Space ---\n",
    "        self.flatten = nn.Flatten()\n",
    "        self.fc1 = nn.Linear(256 * patch_size * patch_size, 512)\n",
    "        self.fc2 = nn.Linear(512, latent_size)\n",
    "\n",
    "        # --- Decoder (Fully Connected) ---\n",
    "        self.fc3 = nn.Linear(latent_size, 512)\n",
    "        self.fc4 = nn.Linear(512, 256 * patch_size * patch_size)\n",
    "\n",
    "        # --- 2D Deconvolutions ---\n",
    "        self.deconv1 = nn.ConvTranspose2d(256, 128, kernel_size=3, stride=1, padding=1)\n",
    "        self.deconv2 = nn.ConvTranspose2d(128, 64, kernel_size=3, stride=1, padding=1)\n",
    "        self.deconv3 = nn.ConvTranspose2d(64, in_channels * time_steps, kernel_size=3, stride=1, padding=1)\n",
    "\n",
    "    def forward(self, x):\n",
    "        \n",
    "        # --- Encoder ---\n",
    "        b, c, t, h, w = x.shape\n",
    "        x = x.view(b, c * t, h, w)      # Imp: Time steps as additional channels (B, C * D, H, W)\n",
    "        # print(x.shape)\n",
    "\n",
    "        x = F.relu(self.conv1(x))\n",
    "        x = F.relu(self.conv2(x))\n",
    "        x = F.relu(self.conv3(x))\n",
    "\n",
    "        # --- Flatten and Fully Connected ---\n",
    "        x = self.flatten(x)\n",
    "        x = F.relu(self.fc1(x))\n",
    "        z = self.fc2(x)\n",
    "\n",
    "        # print(x.shape)\n",
    "\n",
    "        # --- Decoder ---\n",
    "        x = F.relu(self.fc3(z))\n",
    "        x = F.relu(self.fc4(x))\n",
    "\n",
    "        # --- 2D Deconvolutions ---\n",
    "        x = x.view(b, 256, h, w)        \n",
    "        # print(x.shape)\n",
    "        x = F.relu(self.deconv1(x))\n",
    "        x = F.relu(self.deconv2(x))\n",
    "        x = self.deconv3(x)\n",
    "        # print(x.shape)\n",
    "\n",
    "        # --- Reshape to B x C x D x H x W ---\n",
    "        x_reconstructed = x.view(b, self.in_channels, self.time_steps, h, w) \n",
    "\n",
    "        return z, x_reconstructed\n"
   ]
  },
  {
   "cell_type": "markdown",
   "metadata": {},
   "source": [
    "### Training"
   ]
  },
  {
   "cell_type": "code",
   "execution_count": null,
   "metadata": {},
   "outputs": [],
   "source": [
    "device = 'cuda'\n",
    "epochs = 50\n",
    "lr = 0.001\n",
    "latent_dim=32\n",
    "channels = 10\n",
    "optimizer = 'Adam'\n",
    "time_steps = 7\n",
    "patch_size = config.subpatch_size\n",
    "\n",
    "model = Conv2DAutoencoder(channels, time_steps, latent_dim, config.subpatch_size)\n",
    "device = torch.device(device)  \n",
    "model.to(device)"
   ]
  },
  {
   "cell_type": "code",
   "execution_count": null,
   "metadata": {},
   "outputs": [],
   "source": [
    "trained_model, train_losses, test_losses  = train_model_ae(model, dataloader_train, dataloader_test, epochs=epochs, optimizer=optimizer, lr=lr, momentum=0.9, device=device)"
   ]
  },
  {
   "cell_type": "markdown",
   "metadata": {},
   "source": [
    "### Evaluation"
   ]
  },
  {
   "cell_type": "code",
   "execution_count": null,
   "metadata": {},
   "outputs": [],
   "source": [
    "plot_loss(train_losses, test_losses)"
   ]
  },
  {
   "cell_type": "markdown",
   "metadata": {},
   "source": [
    "Use trained Encoder part to get the features for train, test and evaluation Data"
   ]
  },
  {
   "cell_type": "code",
   "execution_count": null,
   "metadata": {},
   "outputs": [],
   "source": [
    "train_features, train_coord_dl = extract_features_ae(trained_model, dataloader_train, device)\n",
    "test_features, test_coord_dl = extract_features_ae(trained_model, dataloader_test, device)\n",
    "eval_features, eval_coord_dl = extract_features_ae(trained_model, dataloader_eval, device)\n",
    "\n",
    "train_features = train_features.cpu()\n",
    "test_features = test_features.cpu()\n",
    "eval_features = eval_features.cpu()\n",
    "\n",
    "combined_train_features = torch.cat((train_features, test_features), dim=0)\n",
    "combined_train_coords = train_coord_dl + test_coord_dl"
   ]
  },
  {
   "cell_type": "markdown",
   "metadata": {},
   "source": [
    "K-means on extracted features"
   ]
  },
  {
   "cell_type": "code",
   "execution_count": null,
   "metadata": {},
   "outputs": [],
   "source": [
    "kmeans = train_kmeans_patches(combined_train_features, n_clusters=2, random_state=42)\n",
    "\n",
    "train_subpatch_predictions = kmeans.predict(combined_train_features.reshape(combined_train_features.size(0), -1).numpy().astype(np.float32))\n",
    "eval_subpatch_predictions = kmeans.predict(eval_features.reshape(eval_features.size(0), -1).numpy().astype(np.float32))"
   ]
  },
  {
   "cell_type": "markdown",
   "metadata": {},
   "source": [
    "Convert Subpatch labels to Field labels"
   ]
  },
  {
   "cell_type": "code",
   "execution_count": null,
   "metadata": {},
   "outputs": [],
   "source": [
    "threshold = config.patch_to_field_threshold\n",
    "train_field_labels = assign_field_labels_ae(combined_train_coords, train_subpatch_predictions, threshold)\n",
    "eval_field_labels = assign_field_labels_ae(eval_coord_dl, eval_subpatch_predictions, threshold)"
   ]
  },
  {
   "cell_type": "markdown",
   "metadata": {},
   "source": [
    "Clustering Accuracy"
   ]
  },
  {
   "cell_type": "code",
   "execution_count": null,
   "metadata": {},
   "outputs": [],
   "source": [
    "acc, precision_per_class, recall_per_class, f1_per_class, fmi = evaluate_clustering_metrics(eval_field_labels, config.labels_path)\n",
    "print(\"Accuracy:\",acc)\n",
    "print(\"Precision:\",precision_per_class)\n",
    "print(\"Recall:\",recall_per_class)\n",
    "print(\"F1-score:\",f1_per_class)\n",
    "print(\"F2-score:\", fmi)"
   ]
  },
  {
   "cell_type": "code",
   "execution_count": null,
   "metadata": {},
   "outputs": [],
   "source": [
    "# with open(config.ae_b10_path, 'wb') as file:\n",
    "#     pickle.dump(trained_model, file)"
   ]
  },
  {
   "cell_type": "code",
   "execution_count": null,
   "metadata": {},
   "outputs": [],
   "source": [
    "# with open(config.kmeans_ae_b10_path, 'wb') as file:\n",
    "#     pickle.dump(kmeans, file)"
   ]
  },
  {
   "cell_type": "code",
   "execution_count": null,
   "metadata": {},
   "outputs": [],
   "source": []
  },
  {
   "cell_type": "code",
   "execution_count": null,
   "metadata": {},
   "outputs": [],
   "source": []
  },
  {
   "cell_type": "markdown",
   "metadata": {},
   "source": [
    "## Architecture 5: Conv2D Autoencoder with Residual Connections"
   ]
  },
  {
   "cell_type": "markdown",
   "metadata": {},
   "source": [
    "### Architecture"
   ]
  },
  {
   "cell_type": "code",
   "execution_count": null,
   "metadata": {},
   "outputs": [],
   "source": [
    "# class Conv2DAutoencoderRes(nn.Module):\n",
    "#     def __init__(self, in_channels, time_steps, latent_size, patch_size):\n",
    "#         super(Conv2DAutoencoderRes, self).__init__()\n",
    "\n",
    "#         self.time_steps = time_steps\n",
    "#         self.in_channels = in_channels\n",
    "\n",
    "#         # --- Encoder (2D Convolutions with Residual Connections) ---\n",
    "#         self.conv1 = nn.Conv2d(in_channels * time_steps, 64, kernel_size=3, stride=1, padding=1)\n",
    "#         self.bn1 = nn.BatchNorm2d(64)  \n",
    "#         self.conv2 = nn.Conv2d(64, 128, kernel_size=3, stride=1, padding=1)\n",
    "#         self.bn2 = nn.BatchNorm2d(128)  \n",
    "#         self.conv3 = nn.Conv2d(128, 256, kernel_size=3, stride=1, padding=1)\n",
    "#         self.bn3 = nn.BatchNorm2d(256)  \n",
    "\n",
    "#         # Skip connections\n",
    "#         self.skip_conv1 = nn.Conv2d(in_channels * time_steps, 64, kernel_size=1, stride=1, padding=0)\n",
    "#         self.skip_conv2 = nn.Conv2d(64, 128, kernel_size=1, stride=1, padding=0)\n",
    "#         self.skip_conv3 = nn.Conv2d(128, 256, kernel_size=1, stride=1, padding=0)\n",
    "\n",
    "#         # --- Fully Connected Latent Space ---\n",
    "#         self.flatten = nn.Flatten()\n",
    "#         self.fc1 = nn.Linear(256 * patch_size * patch_size, 512)\n",
    "#         self.fc2 = nn.Linear(512, latent_size)\n",
    "\n",
    "#         # --- Decoder (Fully Connected) ---\n",
    "#         self.fc3 = nn.Linear(latent_size, 512)\n",
    "#         self.fc4 = nn.Linear(512, 256 * patch_size * patch_size)\n",
    "\n",
    "#         # --- Decoder (2D Deconvolutions) ---\n",
    "#         self.deconv1 = nn.ConvTranspose2d(256, 128, kernel_size=3, stride=1, padding=1)\n",
    "#         self.bn4 = nn.BatchNorm2d(128)  \n",
    "#         self.deconv2 = nn.ConvTranspose2d(128, 64, kernel_size=3, stride=1, padding=1)\n",
    "#         self.bn5 = nn.BatchNorm2d(64)  \n",
    "#         self.deconv3 = nn.ConvTranspose2d(64, in_channels * time_steps, kernel_size=3, stride=1, padding=1)\n",
    "\n",
    "#         # Skip connections for decoder\n",
    "#         self.skip_conv4 = nn.ConvTranspose2d(256, 128, kernel_size=1, stride=1, padding=0)\n",
    "#         self.skip_conv5 = nn.ConvTranspose2d(128, 64, kernel_size=1, stride=1, padding=0)\n",
    "\n",
    "#     def forward(self, x):\n",
    "#         # --- Encoder ---\n",
    "#         b, c, t, h, w = x.shape\n",
    "#         x = x.view(b, c * t, h, w)          # Imp: Merge time steps into channels (B, C * D, H, W)\n",
    "\n",
    "#         # Residual Block 1\n",
    "#         skip_x = self.skip_conv1(x)  \n",
    "#         x = F.relu(self.bn1(self.conv1(x)))  \n",
    "#         x = x + skip_x  # Residual connection\n",
    "\n",
    "#         # Residual Block 2\n",
    "#         skip_x = self.skip_conv2(x)\n",
    "#         x = F.relu(self.bn2(self.conv2(x)))  \n",
    "#         x = x + skip_x  # Residual connection\n",
    "\n",
    "#         # Residual Block 3\n",
    "#         skip_x = self.skip_conv3(x)\n",
    "#         x = F.relu(self.bn3(self.conv3(x)))  \n",
    "#         x = x + skip_x  # Residual connection\n",
    "\n",
    "#         # --- Flatten and Fully Connected ---\n",
    "#         x = self.flatten(x)\n",
    "#         x = F.relu(self.fc1(x))\n",
    "#         z = self.fc2(x)\n",
    "\n",
    "#         # --- Decoder ---\n",
    "#         x = F.relu(self.fc3(z))\n",
    "#         x = F.relu(self.fc4(x))\n",
    "\n",
    "#         # --- 2D Deconvolutions ---\n",
    "#         x = x.view(b, 256, h, w)\n",
    "\n",
    "#         # Residual Block 4\n",
    "#         skip_x = self.skip_conv4(x)  \n",
    "#         x = F.relu(self.bn4(self.deconv1(x)))  \n",
    "#         x = x + skip_x  # Residual connection\n",
    "\n",
    "#         # Residual Block 5\n",
    "#         skip_x = self.skip_conv5(x)  \n",
    "#         x = F.relu(self.bn5(self.deconv2(x)))  \n",
    "#         x = x + skip_x  # Residual connection\n",
    "\n",
    "#         x = self.deconv3(x)\n",
    "\n",
    "#         # --- Reshape to B x C x D x H x W ---\n",
    "#         x_reconstructed = x.view(b, self.in_channels, self.time_steps, h, w)\n",
    "\n",
    "#         return z, x_reconstructed\n"
   ]
  },
  {
   "cell_type": "code",
   "execution_count": null,
   "metadata": {},
   "outputs": [],
   "source": [
    "class ResidualBlock(nn.Module):\n",
    "    def __init__(self, in_channels, out_channels, kernel_size=3, stride=1, padding=1, transpose=False):\n",
    "        super(ResidualBlock, self).__init__()\n",
    "        if transpose:\n",
    "            self.conv = nn.ConvTranspose2d(in_channels, out_channels, kernel_size, stride, padding)\n",
    "        else:\n",
    "            self.conv = nn.Conv2d(in_channels, out_channels, kernel_size, stride, padding)\n",
    "        self.bn = nn.BatchNorm2d(out_channels)\n",
    "        self.skip_conv = nn.Conv2d(in_channels, out_channels, kernel_size=1, stride=stride, padding=0)\n",
    "\n",
    "    def forward(self, x):\n",
    "        skip_x = self.skip_conv(x)\n",
    "        x = F.relu(self.bn(self.conv(x)))\n",
    "        x = x + skip_x  # Residual connection\n",
    "        return x\n",
    "\n",
    "\n",
    "class Conv2DAutoencoderRes(nn.Module):\n",
    "    def __init__(self, in_channels, time_steps, latent_size, patch_size):\n",
    "        super(Conv2DAutoencoderRes, self).__init__()\n",
    "\n",
    "        self.time_steps = time_steps\n",
    "        self.in_channels = in_channels\n",
    "        self.patch_size = patch_size\n",
    "\n",
    "        # --- Encoder ---\n",
    "        self.res_block1 = ResidualBlock(in_channels * time_steps, 64)\n",
    "        self.res_block2 = ResidualBlock(64, 128)\n",
    "        self.res_block3 = ResidualBlock(128, 256)\n",
    "\n",
    "        # --- Fully Connected Latent Space ---\n",
    "        self.flatten = nn.Flatten()\n",
    "        self.fc1 = nn.Linear(256 * patch_size * patch_size, 512)\n",
    "        self.fc2 = nn.Linear(512, latent_size)\n",
    "\n",
    "        # --- Decoder ---\n",
    "        self.fc3 = nn.Linear(latent_size, 512)\n",
    "        self.fc4 = nn.Linear(512, 256 * patch_size * patch_size)\n",
    "\n",
    "        # --- Decoder Residual Blocks with ConvTranspose2d (for upsampling) ---\n",
    "        self.deconv_block1 = ResidualBlock(256, 128, transpose=True)\n",
    "        self.deconv_block2 = ResidualBlock(128, 64, transpose=True)\n",
    "        self.deconv_block3 = nn.ConvTranspose2d(64, in_channels * time_steps, kernel_size=3, stride=1, padding=1)\n",
    "\n",
    "    def forward(self, x):\n",
    "        # Reshape input to (B, C * T, H, W)\n",
    "        b, c, t, h, w = x.shape\n",
    "        x = x.view(b, c * t, h, w)\n",
    "\n",
    "        # --- Encoder ---\n",
    "        x = self.res_block1(x)\n",
    "        x = self.res_block2(x)\n",
    "        x = self.res_block3(x)\n",
    "\n",
    "        # --- Latent Space ---\n",
    "        x = self.flatten(x)\n",
    "        x = F.relu(self.fc1(x))\n",
    "        z = self.fc2(x)\n",
    "\n",
    "        # --- Decoder ---\n",
    "        x = F.relu(self.fc3(z))\n",
    "        x = F.relu(self.fc4(x))\n",
    "\n",
    "        # Reshape for deconvolution\n",
    "        x = x.view(b, 256, h, w)\n",
    "\n",
    "        # Decoder with residual blocks (upsampling with ConvTranspose2d)\n",
    "        x = self.deconv_block1(x)\n",
    "        x = self.deconv_block2(x)\n",
    "        x = self.deconv_block3(x)\n",
    "\n",
    "        # Reshape output back to (B, C, T, H, W)\n",
    "        x_reconstructed = x.view(b, self.in_channels, self.time_steps, h, w)\n",
    "\n",
    "        return z, x_reconstructed\n"
   ]
  },
  {
   "cell_type": "markdown",
   "metadata": {},
   "source": [
    "### Training"
   ]
  },
  {
   "cell_type": "code",
   "execution_count": null,
   "metadata": {},
   "outputs": [],
   "source": [
    "device = 'cuda'\n",
    "epochs = 50\n",
    "lr = 0.001\n",
    "latent_dim=32\n",
    "channels = 10\n",
    "time_steps = 7\n",
    "momentum=0.9\n",
    "optimizer='Adam'\n",
    "patch_size = config.subpatch_size\n",
    "\n",
    "model = Conv2DAutoencoderRes(channels, time_steps, latent_dim, config.subpatch_size)\n",
    "device = torch.device(device)  \n",
    "model.to(device)"
   ]
  },
  {
   "cell_type": "code",
   "execution_count": null,
   "metadata": {},
   "outputs": [],
   "source": [
    "trained_model, train_losses, test_losses  = train_model_ae(model, dataloader_train, dataloader_test, epochs=epochs, optimizer=optimizer, lr=lr, momentum=momentum, device=device)"
   ]
  },
  {
   "cell_type": "markdown",
   "metadata": {},
   "source": [
    "### Evaluation"
   ]
  },
  {
   "cell_type": "code",
   "execution_count": null,
   "metadata": {},
   "outputs": [],
   "source": [
    "plot_loss(train_losses, test_losses)"
   ]
  },
  {
   "cell_type": "markdown",
   "metadata": {},
   "source": [
    "Use trained Encoder part to get the features for train, test and evaluation Data"
   ]
  },
  {
   "cell_type": "code",
   "execution_count": null,
   "metadata": {},
   "outputs": [],
   "source": [
    "train_features, train_coord_dl = extract_features_ae(trained_model, dataloader_train, device)\n",
    "test_features, test_coord_dl = extract_features_ae(trained_model, dataloader_test, device)\n",
    "eval_features, eval_coord_dl = extract_features_ae(trained_model, dataloader_eval, device)\n",
    "\n",
    "train_features = train_features.cpu()\n",
    "test_features = test_features.cpu()\n",
    "eval_features = eval_features.cpu()\n",
    "\n",
    "combined_train_features = torch.cat((train_features, test_features), dim=0)\n",
    "combined_train_coords = train_coord_dl + test_coord_dl"
   ]
  },
  {
   "cell_type": "markdown",
   "metadata": {},
   "source": [
    "K-means on extracted features"
   ]
  },
  {
   "cell_type": "code",
   "execution_count": null,
   "metadata": {},
   "outputs": [],
   "source": [
    "kmeans = train_kmeans_patches(combined_train_features, n_clusters=2, random_state=33)\n",
    "\n",
    "train_subpatch_predictions = kmeans.predict(combined_train_features.reshape(combined_train_features.size(0), -1).numpy().astype(np.float32))\n",
    "eval_subpatch_predictions = kmeans.predict(eval_features.reshape(eval_features.size(0), -1).numpy().astype(np.float32))"
   ]
  },
  {
   "cell_type": "markdown",
   "metadata": {},
   "source": [
    "Convert Subpatch labels to Field labels"
   ]
  },
  {
   "cell_type": "code",
   "execution_count": null,
   "metadata": {},
   "outputs": [],
   "source": [
    "threshold = config.patch_to_field_threshold\n",
    "train_field_labels = assign_field_labels_ae(combined_train_coords, train_subpatch_predictions, threshold)\n",
    "eval_field_labels = assign_field_labels_ae(eval_coord_dl, eval_subpatch_predictions, threshold)"
   ]
  },
  {
   "cell_type": "markdown",
   "metadata": {},
   "source": [
    "Accuracy and Classification Report"
   ]
  },
  {
   "cell_type": "code",
   "execution_count": null,
   "metadata": {},
   "outputs": [],
   "source": [
    "# accuracy, report, cm, x_y_coords = evaluate_test_labels_ae(eval_field_labels, config.labels_path)\n",
    "# print(f\"Evaluation Accuracy: {accuracy}\")\n",
    "# print(report)"
   ]
  },
  {
   "cell_type": "markdown",
   "metadata": {},
   "source": [
    "Clustering Accuracy"
   ]
  },
  {
   "cell_type": "code",
   "execution_count": null,
   "metadata": {},
   "outputs": [],
   "source": [
    "acc, precision_per_class, recall_per_class, f1_per_class, fmi = evaluate_clustering_metrics(eval_field_labels, config.labels_path)\n",
    "print(\"Accuracy:\",acc)\n",
    "print(\"Precision:\",precision_per_class)\n",
    "print(\"Recall:\",recall_per_class)\n",
    "print(\"F1-score:\",f1_per_class)\n",
    "print(\"F2-score:\", fmi)"
   ]
  },
  {
   "cell_type": "code",
   "execution_count": null,
   "metadata": {},
   "outputs": [],
   "source": [
    "with open(config.ae_b10_path, 'wb') as file:\n",
    "    pickle.dump(trained_model, file)"
   ]
  },
  {
   "cell_type": "code",
   "execution_count": null,
   "metadata": {},
   "outputs": [],
   "source": [
    "with open(config.kmeans_ae_b10_path, 'wb') as file:\n",
    "    pickle.dump(kmeans, file)"
   ]
  },
  {
   "cell_type": "markdown",
   "metadata": {},
   "source": [
    "## Final Images: Visualising Diseased Subpatches"
   ]
  },
  {
   "cell_type": "code",
   "execution_count": null,
   "metadata": {},
   "outputs": [],
   "source": [
    "eval_images_box = images_visualisation_eval"
   ]
  },
  {
   "cell_type": "code",
   "execution_count": null,
   "metadata": {},
   "outputs": [],
   "source": [
    "(eval_images_box[0][0].shape)"
   ]
  },
  {
   "cell_type": "code",
   "execution_count": null,
   "metadata": {},
   "outputs": [],
   "source": [
    "np.unique(eval_images_box[0][0][:,:,-2])"
   ]
  },
  {
   "cell_type": "code",
   "execution_count": null,
   "metadata": {},
   "outputs": [],
   "source": [
    "visualise_all_bands(eval_images_box[-15][3])"
   ]
  },
  {
   "cell_type": "markdown",
   "metadata": {},
   "source": [
    "-48 -26"
   ]
  },
  {
   "cell_type": "code",
   "execution_count": null,
   "metadata": {},
   "outputs": [],
   "source": [
    "visualize_temporal_stack_rgb(eval_images_box[-26])"
   ]
  },
  {
   "cell_type": "code",
   "execution_count": null,
   "metadata": {},
   "outputs": [],
   "source": [
    "np.unique(eval_images_box[-26][-1][:,:,-2])"
   ]
  },
  {
   "cell_type": "code",
   "execution_count": null,
   "metadata": {},
   "outputs": [],
   "source": [
    "draw_diseased_patches(eval_images_box, x_y_coords, config.images_save_path, config.patch_size)"
   ]
  },
  {
   "cell_type": "code",
   "execution_count": null,
   "metadata": {},
   "outputs": [],
   "source": []
  }
 ],
 "metadata": {
  "kernelspec": {
   "display_name": "Python 3",
   "language": "python",
   "name": "python3"
  },
  "language_info": {
   "codemirror_mode": {
    "name": "ipython",
    "version": 3
   },
   "file_extension": ".py",
   "mimetype": "text/x-python",
   "name": "python",
   "nbconvert_exporter": "python",
   "pygments_lexer": "ipython3",
   "version": "3.8.10"
  }
 },
 "nbformat": 4,
 "nbformat_minor": 2
}
