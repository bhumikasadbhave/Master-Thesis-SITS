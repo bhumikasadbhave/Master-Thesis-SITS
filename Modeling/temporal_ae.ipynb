{
 "cells": [
  {
   "cell_type": "markdown",
   "metadata": {},
   "source": [
    "## Imports"
   ]
  },
  {
   "cell_type": "code",
   "execution_count": 1,
   "metadata": {},
   "outputs": [],
   "source": [
    "%load_ext autoreload\n",
    "%autoreload 2"
   ]
  },
  {
   "cell_type": "code",
   "execution_count": 2,
   "metadata": {},
   "outputs": [],
   "source": [
    "import os, sys\n",
    "from pathlib import Path\n",
    "\n",
    "os.environ['PYTORCH_ENABLE_MPS_FALLBACK'] = '1'\n",
    "sys.path.append('/home/k64835/Master-Thesis-SITS')\n",
    "\n",
    "scripts_path = Path(\"../Data-Preprocessing/\").resolve()\n",
    "sys.path.append(str(scripts_path))\n",
    "\n",
    "scripts_path = Path(\"../Evaluation/\").resolve()\n",
    "sys.path.append(str(scripts_path))"
   ]
  },
  {
   "cell_type": "code",
   "execution_count": 3,
   "metadata": {},
   "outputs": [
    {
     "name": "stderr",
     "output_type": "stream",
     "text": [
      "/home/k64835/.local/lib/python3.8/site-packages/torchvision/io/image.py:13: UserWarning: Failed to load image Python extension: '/home/k64835/.local/lib/python3.8/site-packages/torchvision/image.so: undefined symbol: _ZN3c1017RegisterOperatorsD1Ev'If you don't plan on using image functionality from `torchvision.io`, you can ignore this warning. Otherwise, there might be something wrong with your environment. Did you have `libjpeg` or `libpng` installed before building `torchvision` from source?\n",
      "  warn(\n"
     ]
    }
   ],
   "source": [
    "import pickle\n",
    "import time\n",
    "from sklearn.cluster import KMeans\n",
    "from sklearn.neighbors import NearestCentroid\n",
    "from scripts.data_visualiser import *\n",
    "from sklearn.manifold import TSNE \n",
    "import torch.nn.functional as F\n",
    "from sklearn.model_selection import train_test_split\n",
    "from model_scripts.subpatch_extraction import *\n",
    "from scripts.data_loader import *\n",
    "from scripts.data_preprocessor import *\n",
    "from scripts.temporal_data_preprocessor import *\n",
    "from scripts.temporal_data_loader import *\n",
    "from scripts.temporal_visualiser import *\n",
    "from scripts.temporal_chanel_refinement import *\n",
    "from model_scripts.model_helper import *\n",
    "from model_scripts.dataset_creation import *\n",
    "from model_scripts.train_model_ae import *\n",
    "from model_scripts.model_visualiser import *\n",
    "from model_scripts.clustering import *\n",
    "from model_scripts.train_model_dcec import *\n",
    "from evaluation_scripts.evaluation_helper import *\n",
    "from evaluation_scripts.result_visualiser import *\n",
    "from Pipeline.temporal_preprocessing_pipeline import *\n",
    "from evaluation_scripts.result_visualiser import *\n",
    "from Pipeline.temporal_preprocessing_pipeline import *\n",
    "import numpy as np\n",
    "import config as config\n",
    "from sklearn.cluster import KMeans\n",
    "from sklearn.metrics import adjusted_rand_score\n",
    "from sklearn.cluster import DBSCAN\n",
    "from sklearn.decomposition import PCA\n",
    "import skimage.measure\n",
    "import torch\n",
    "import torch.nn as nn\n",
    "import torch.optim as optim"
   ]
  },
  {
   "cell_type": "markdown",
   "metadata": {},
   "source": [
    "## Dataset prep: B10"
   ]
  },
  {
   "cell_type": "markdown",
   "metadata": {},
   "source": [
    "### Loading the pre-processed data\n",
    "\n",
    "Data: Extracted and Pre-processed Patches (each patch containing a sugarbeet field)\n",
    "\n",
    "Dimensions: (N, T, C, H, W) = (N, 7, 10, 64, 64)"
   ]
  },
  {
   "cell_type": "code",
   "execution_count": 4,
   "metadata": {},
   "outputs": [
    {
     "data": {
      "text/plain": [
       "(torch.Size([2425, 7, 12, 64, 64]), torch.Size([48, 7, 12, 64, 64]))"
      ]
     },
     "execution_count": 4,
     "metadata": {},
     "output_type": "execute_result"
    }
   ],
   "source": [
    "preprocessing_pipeline = PreProcessingPipelineTemporal()\n",
    "field_numbers_train, acquisition_dates_train, patch_tensor_train, images_visualisation_train = preprocessing_pipeline.get_processed_temporal_cubes('train', 'b10t', method='sin-cos')\n",
    "field_numbers_eval, acquisition_dates_eval, patch_tensor_eval, images_visualisation_eval = preprocessing_pipeline.get_processed_temporal_cubes('eval', 'b10t', method='sin-cos')\n",
    "patch_tensor_train.shape, patch_tensor_eval.shape"
   ]
  },
  {
   "cell_type": "code",
   "execution_count": 5,
   "metadata": {},
   "outputs": [
    {
     "data": {
      "text/plain": [
       "array([[0.95757281, 0.95757281, 0.95757281, ..., 0.95757281, 0.95757281,\n",
       "        0.95757281],\n",
       "       [0.95757281, 0.95757281, 0.95757281, ..., 0.95757281, 0.95757281,\n",
       "        0.95757281],\n",
       "       [0.95757281, 0.95757281, 0.95757281, ..., 0.95757281, 0.95757281,\n",
       "        0.95757281],\n",
       "       ...,\n",
       "       [0.95757281, 0.95757281, 0.95757281, ..., 0.95757281, 0.95757281,\n",
       "        0.95757281],\n",
       "       [0.95757281, 0.95757281, 0.95757281, ..., 0.95757281, 0.95757281,\n",
       "        0.95757281],\n",
       "       [0.95757281, 0.95757281, 0.95757281, ..., 0.95757281, 0.95757281,\n",
       "        0.95757281]])"
      ]
     },
     "execution_count": 5,
     "metadata": {},
     "output_type": "execute_result"
    }
   ],
   "source": [
    "(images_visualisation_train[764][3][:,:,-1])"
   ]
  },
  {
   "cell_type": "code",
   "execution_count": 6,
   "metadata": {},
   "outputs": [
    {
     "name": "stdout",
     "output_type": "stream",
     "text": [
      "[[0.29843829 0.29843829 0.29843829 ... 0.29843829 0.29843829 0.29843829]\n",
      " [0.29843829 0.29843829 0.29843829 ... 0.29843829 0.29843829 0.29843829]\n",
      " [0.29843829 0.29843829 0.29843829 ... 0.29843829 0.29843829 0.29843829]\n",
      " ...\n",
      " [0.29843829 0.29843829 0.29843829 ... 0.29843829 0.29843829 0.29843829]\n",
      " [0.29843829 0.29843829 0.29843829 ... 0.29843829 0.29843829 0.29843829]\n",
      " [0.29843829 0.29843829 0.29843829 ... 0.29843829 0.29843829 0.29843829]]\n"
     ]
    },
    {
     "data": {
      "image/png": "[encoded data removed]",
      "text/plain": [
       "<Figure size 640x480 with 1 Axes>"
      ]
     },
     "metadata": {},
     "output_type": "display_data"
    }
   ],
   "source": [
    "visualise_single_band(images_visualisation_train[764][3],-2,cmap='viridis')"
   ]
  },
  {
   "cell_type": "code",
   "execution_count": 58,
   "metadata": {},
   "outputs": [
    {
     "name": "stdout",
     "output_type": "stream",
     "text": [
      "(64, 64, 12)\n",
      "(64, 64, 12)\n",
      "(64, 64, 12)\n",
      "(64, 64, 12)\n",
      "(64, 64, 12)\n",
      "(64, 64, 12)\n",
      "(64, 64, 12)\n"
     ]
    },
    {
     "data": {
      "image/png": "[encoded data removed]",
      "text/plain": [
       "<Figure size 2000x500 with 7 Axes>"
      ]
     },
     "metadata": {},
     "output_type": "display_data"
    }
   ],
   "source": [
    "visualize_temporal_stack_rgb(patch_tensor_eval[0],acquisition_dates_eval[0])"
   ]
  },
  {
   "cell_type": "code",
   "execution_count": null,
   "metadata": {},
   "outputs": [],
   "source": []
  },
  {
   "cell_type": "code",
   "execution_count": 8,
   "metadata": {},
   "outputs": [],
   "source": [
    "# np.unique(patch_tensor_train[:,:,-1])"
   ]
  },
  {
   "cell_type": "code",
   "execution_count": 9,
   "metadata": {},
   "outputs": [],
   "source": [
    "# train_tensor, test_tensor, train_field_numbers, test_field_numbers = train_test_split(\n",
    "#     patch_tensor_train, field_numbers_train, test_size=1-config.ae_train_test_ratio, random_state=42\n",
    "# )\n",
    "\n",
    "# dataloader_train = create_data_loader(train_tensor, train_field_numbers, batch_size=config.ae_batch_size, shuffle=True)\n",
    "# dataloader_test = create_data_loader(test_tensor, test_field_numbers, batch_size=config.ae_batch_size, shuffle=False)\n",
    "# dataloader_eval = create_data_loader(patch_tensor_eval, field_numbers_eval, batch_size=config.ae_batch_size, shuffle=False)"
   ]
  },
  {
   "cell_type": "markdown",
   "metadata": {},
   "source": [
    "### Create Sub-Patches"
   ]
  },
  {
   "cell_type": "code",
   "execution_count": 10,
   "metadata": {},
   "outputs": [
    {
     "data": {
      "text/plain": [
       "(torch.Size([38800, 7, 12, 16, 16]), torch.Size([768, 7, 12, 16, 16]))"
      ]
     },
     "execution_count": 10,
     "metadata": {},
     "output_type": "execute_result"
    }
   ],
   "source": [
    "train_subpatches, train_subpatch_coords = non_overlapping_sliding_window(patch_tensor_train, field_numbers_train, patch_size=config.subpatch_size)\n",
    "eval_subpatches, eval_subpatch_coords = non_overlapping_sliding_window(patch_tensor_eval, field_numbers_eval, patch_size=config.subpatch_size)\n",
    "train_subpatches.shape, eval_subpatches.shape"
   ]
  },
  {
   "cell_type": "markdown",
   "metadata": {},
   "source": [
    "Get field numbers and co-ordinates as string"
   ]
  },
  {
   "cell_type": "code",
   "execution_count": 11,
   "metadata": {},
   "outputs": [
    {
     "data": {
      "text/plain": [
       "'1167134.0_0_0'"
      ]
     },
     "execution_count": 11,
     "metadata": {},
     "output_type": "execute_result"
    }
   ],
   "source": [
    "train_coord_dataloader = get_string_fielddata(train_subpatch_coords)\n",
    "eval_coord_dataloader = get_string_fielddata(eval_subpatch_coords)\n",
    "train_coord_dataloader[0]"
   ]
  },
  {
   "cell_type": "markdown",
   "metadata": {},
   "source": [
    "### Split Unlabeled data into 'train' and 'test' and create  Data Loaders"
   ]
  },
  {
   "cell_type": "code",
   "execution_count": 61,
   "metadata": {},
   "outputs": [
    {
     "name": "stderr",
     "output_type": "stream",
     "text": [
      "/home/k64835/Master-Thesis-SITS/Modeling/model_scripts/dataset_creation.py:13: UserWarning: To copy construct from a tensor, it is recommended to use sourceTensor.clone().detach() or sourceTensor.clone().detach().requires_grad_(True), rather than torch.tensor(sourceTensor).\n",
      "  inputs = torch.tensor(inputs, dtype=torch.float32).permute(0, 2, 1, 3, 4)   # (N, T, C, H, W) -> (N, C, T, H, W)\n"
     ]
    }
   ],
   "source": [
    "train_subpatches_dl, test_subpatches, train_field_numbers, test_field_numbers = train_test_split(\n",
    "    train_subpatches, train_coord_dataloader, test_size=1-config.ae_train_test_ratio, random_state=42\n",
    ")\n",
    "\n",
    "dataloader_train = create_data_loader(train_subpatches_dl, train_field_numbers, batch_size=config.ae_batch_size, shuffle=True)\n",
    "dataloader_test = create_data_loader(test_subpatches, test_field_numbers, batch_size=config.ae_batch_size, shuffle=False)\n",
    "dataloader_eval = create_data_loader(eval_subpatches, eval_coord_dataloader, batch_size=config.ae_batch_size, shuffle=False)"
   ]
  },
  {
   "cell_type": "code",
   "execution_count": 62,
   "metadata": {},
   "outputs": [
    {
     "name": "stderr",
     "output_type": "stream",
     "text": [
      "/tmp/ipykernel_112734/3216832603.py:2: UserWarning: To copy construct from a tensor, it is recommended to use sourceTensor.clone().detach() or sourceTensor.clone().detach().requires_grad_(True), rather than torch.tensor(sourceTensor).\n",
      "  img = torch.tensor(imgs[0], dtype=torch.float32).permute(1, 0, 2, 3)\n"
     ]
    },
    {
     "name": "stdout",
     "output_type": "stream",
     "text": [
      "torch.Size([7, 12, 16, 16])\n",
      "[0.0000000e+00 2.1958175e-04 4.2427190e-02 1.1173807e-01 1.2124438e-01\n",
      " 1.7358895e-01 2.5860390e-01 4.8518333e-01 7.0156169e-01 7.2831464e-01\n",
      " 7.4139613e-01 8.1504393e-01 9.3786746e-01 9.4482857e-01]\n",
      "(16, 16, 12)\n",
      "(16, 16, 12)\n",
      "(16, 16, 12)\n",
      "(16, 16, 12)\n",
      "(16, 16, 12)\n",
      "(16, 16, 12)\n",
      "(16, 16, 12)\n"
     ]
    },
    {
     "data": {
      "image/png": "[encoded data removed]",
      "text/plain": [
       "<Figure size 2000x500 with 7 Axes>"
      ]
     },
     "metadata": {},
     "output_type": "display_data"
    }
   ],
   "source": [
    "for imgs, _ in dataloader_eval: # CxTxHxW\n",
    "    img = torch.tensor(imgs[0], dtype=torch.float32).permute(1, 0, 2, 3)\n",
    "    # img = np.transpose(imgs[4], (1, 0, 2, 3))   # TxCxHxW\n",
    "    print(img.shape)\n",
    "    print(np.unique(img))\n",
    "    visualize_temporal_stack_rgb(img,acquisition_dates_eval[0])\n",
    "    break"
   ]
  },
  {
   "cell_type": "markdown",
   "metadata": {},
   "source": [
    "## Architecture 1: Conv3D Autoencoder with 1D Time Convolution"
   ]
  },
  {
   "cell_type": "markdown",
   "metadata": {},
   "source": [
    "### Architecture"
   ]
  },
  {
   "cell_type": "markdown",
   "metadata": {},
   "source": [
    "Input Data: ( N x C x D x H x W )"
   ]
  },
  {
   "cell_type": "code",
   "execution_count": 13,
   "metadata": {},
   "outputs": [],
   "source": [
    "# class Conv3DAutoencoder(nn.Module):\n",
    "#     def __init__(self, in_channels, time_steps, latent_size, patch_size):\n",
    "#         super(Conv3DAutoencoder, self).__init__()\n",
    "\n",
    "#         self.time_steps = time_steps\n",
    "#         self.in_channels = in_channels\n",
    "#         self.patch_size = patch_size\n",
    "\n",
    "#         # --- Encoder (3D Convolutions) ---\n",
    "#         self.conv1 = nn.Conv3d(in_channels, 64, kernel_size=3, stride=1, padding=1)\n",
    "#         self.conv2 = nn.Conv3d(64, 128, kernel_size=3, stride=1, padding=1)\n",
    "#         self.conv3 = nn.Conv3d(128, 256, kernel_size=3, stride=1, padding=1)\n",
    "\n",
    "#         # --- 1D Convolution (Time Aggregation) ---\n",
    "#         self.conv1d = nn.Conv1d(256 * patch_size * patch_size, 256 * patch_size * patch_size, kernel_size=time_steps, stride=1, padding=0, groups=128 * patch_size * patch_size)\n",
    "\n",
    "#         # --- Fully Connected Latent Space ---\n",
    "#         self.flatten = nn.Flatten()\n",
    "#         self.fc1 = nn.Linear(256 * patch_size * patch_size, 512)   \n",
    "#         self.fc2 = nn.Linear(512, latent_size)\n",
    "\n",
    "#         # --- Decoder (Fully Connected) ---\n",
    "#         self.fc3 = nn.Linear(latent_size, 512)\n",
    "#         self.fc4 = nn.Linear(512, 256 * patch_size * patch_size)  \n",
    "\n",
    "#         # --- 1D Deconvolution to Expand Time Back ---\n",
    "#         self.deconv1d = nn.ConvTranspose1d(256 * patch_size * patch_size, 256 * patch_size * patch_size, kernel_size=time_steps, stride=1, padding=0, groups=128 * patch_size * patch_size)\n",
    "\n",
    "#         # --- 3D Deconvolutions ---\n",
    "#         self.unflatten = nn.Unflatten(1, (256, patch_size, patch_size))\n",
    "#         self.deconv1 = nn.ConvTranspose3d(256, 128, kernel_size=3, stride=1, padding=1)\n",
    "#         self.deconv2 = nn.ConvTranspose3d(128, 64, kernel_size=3, stride=1, padding=1)\n",
    "#         self.deconv3 = nn.ConvTranspose3d(64, in_channels, kernel_size=3, stride=1, padding=1)\n",
    "\n",
    "#     def forward(self, x):\n",
    "        \n",
    "#         start = time.perf_counter()\n",
    "#         # --- Encoder ---\n",
    "#         x = F.relu(self.conv1(x))\n",
    "#         x = F.relu(self.conv2(x))\n",
    "#         x = F.relu(self.conv3(x))\n",
    "#         end = time.perf_counter()\n",
    "#         print(f\"Encoder blocks Time taken: {end - start:.4f} seconds\")\n",
    "\n",
    "#         # --- Reshape for 1D Conv ---\n",
    "#         b, c, t, h, w = x.shape  \n",
    "#         # print(\"x shape initial: \",x.shape)\n",
    "#         x = x.view(b, c * h * w, t)                     # (batch, 800, time)\n",
    "#         start = time.perf_counter()\n",
    "#         # print(f\"Shape before 1D Conv: {x.shape}\") \n",
    "#         x = self.conv1d(x)                              # Time aggregation\n",
    "#         # print(f\"Shape after 1D Conv: {x.shape}\")      # (batch, 800, 1)\n",
    "#         end = time.perf_counter()\n",
    "#         print(f\"1D Conv Time taken: {end - start:.4f} seconds\")\n",
    "\n",
    "#         start = time.perf_counter()\n",
    "#         # --- Flatten and Fully Connected ---\n",
    "#         x = self.flatten(x)  \n",
    "#         x = F.relu(self.fc1(x))\n",
    "#         z = self.fc2(x) \n",
    "\n",
    "#         # --- Decoder ---\n",
    "#         x = F.relu(self.fc3(z))\n",
    "#         x = F.relu(self.fc4(x)) \n",
    "#         end = time.perf_counter()\n",
    "#         print(f\"FC layers Time taken: {end - start:.4f} seconds\")\n",
    "\n",
    "#         start = time.perf_counter()\n",
    "#         # --- Expand Time Back ---\n",
    "#         # print(f\"Shape before reshape: {x.shape}\")  # (batch, 800, time_steps)\n",
    "#         x = x.view(b, 256 * self.patch_size * self.patch_size, 1)  \n",
    "#         x = self.deconv1d(x) \n",
    "#         # print(f\"Shape after Deconv1D: {x.shape}\")  # (batch, 800, time_steps)\n",
    "#         end = time.perf_counter()\n",
    "#         print(f\"Deconv 1D Time taken: {end - start:.4f} seconds\")\n",
    "\n",
    "#         # --- Reshape for 3D Deconvolutions ---\n",
    "#         x = x.view(b, -1, self.time_steps, h, w)  \n",
    "#         # print(\"x before unflatten\", x.shape)\n",
    "#         start = time.perf_counter()\n",
    "#         # --- 3D Deconvolutions ---\n",
    "#         x = F.relu(self.deconv1(x))\n",
    "#         x = F.relu(self.deconv2(x))\n",
    "#         x_reconstructed = self.deconv3(x) \n",
    "#         end = time.perf_counter()\n",
    "#         print(f\"Deconv 3D Time taken: {end - start:.4f} seconds\") \n",
    "\n",
    "#         return z, x_reconstructed"
   ]
  },
  {
   "cell_type": "code",
   "execution_count": 14,
   "metadata": {},
   "outputs": [],
   "source": [
    "class Conv3DAutoencoder(nn.Module):\n",
    "    def __init__(self, in_channels, time_steps, latent_size, patch_size):\n",
    "        super(Conv3DAutoencoder, self).__init__()\n",
    "\n",
    "        self.time_steps = time_steps\n",
    "        self.in_channels = in_channels\n",
    "        self.patch_size = patch_size\n",
    "\n",
    "        # --- Encoder (3D Convolutions) ---\n",
    "        self.conv1 = nn.Conv3d(in_channels, 64, kernel_size=3, stride=1, padding=1)\n",
    "        self.conv2 = nn.Conv3d(64, 128, kernel_size=3, stride=1, padding=1)\n",
    "        self.conv3 = nn.Conv3d(128, 256, kernel_size=3, stride=1, padding=1)\n",
    "\n",
    "        # --- Fully Connected Latent Space ---\n",
    "        self.flatten = nn.Flatten()\n",
    "        self.fc1 = nn.Linear(256 * patch_size * patch_size * time_steps, 512)   \n",
    "        self.fc2 = nn.Linear(512, latent_size)\n",
    "\n",
    "        # --- Decoder (Fully Connected) ---\n",
    "        self.fc3 = nn.Linear(latent_size, 512)\n",
    "        self.fc4 = nn.Linear(512, 256 * patch_size * patch_size * time_steps)\n",
    "\n",
    "        # --- 3D Deconvolutions (Transpose convolutions) ---\n",
    "        self.unflatten = nn.Unflatten(1, (256, time_steps, patch_size, patch_size))\n",
    "        self.deconv1 = nn.ConvTranspose3d(256, 128, kernel_size=3, stride=1, padding=1)\n",
    "        self.deconv2 = nn.ConvTranspose3d(128, 64, kernel_size=3, stride=1, padding=1)\n",
    "        self.deconv3 = nn.ConvTranspose3d(64, in_channels, kernel_size=3, stride=1, padding=1)\n",
    "\n",
    "    def forward(self, x):\n",
    "        \n",
    "        # --- Encoder ---\n",
    "        x = F.relu(self.conv1(x))\n",
    "        x = F.relu(self.conv2(x))\n",
    "        x = F.relu(self.conv3(x))\n",
    "\n",
    "        # --- Flatten and Fully Connected ---\n",
    "        b, c, t, h, w = x.shape         # Batch, Channels, Time, Height, Width\n",
    "        x = self.flatten(x)  \n",
    "        x = F.relu(self.fc1(x))\n",
    "        z = self.fc2(x)                 # Bottleneck    \n",
    "\n",
    "        # --- Decoder ---\n",
    "        x = F.relu(self.fc3(z))\n",
    "        x = F.relu(self.fc4(x))\n",
    "\n",
    "        # --- Reshape and 3D Deconvolutions ---\n",
    "        x = self.unflatten(x)                   # Reshape to (B, C, H, W, T)\n",
    "        x = F.relu(self.deconv1(x))\n",
    "        x = F.relu(self.deconv2(x))\n",
    "        x_reconstructed = self.deconv3(x)       # Final reconstruction\n",
    "\n",
    "        return z, x_reconstructed"
   ]
  },
  {
   "cell_type": "markdown",
   "metadata": {},
   "source": [
    "### Training"
   ]
  },
  {
   "cell_type": "code",
   "execution_count": 15,
   "metadata": {},
   "outputs": [
    {
     "data": {
      "text/plain": [
       "Conv3DAutoencoder(\n",
       "  (conv1): Conv3d(12, 64, kernel_size=(3, 3, 3), stride=(1, 1, 1), padding=(1, 1, 1))\n",
       "  (conv2): Conv3d(64, 128, kernel_size=(3, 3, 3), stride=(1, 1, 1), padding=(1, 1, 1))\n",
       "  (conv3): Conv3d(128, 256, kernel_size=(3, 3, 3), stride=(1, 1, 1), padding=(1, 1, 1))\n",
       "  (flatten): Flatten(start_dim=1, end_dim=-1)\n",
       "  (fc1): Linear(in_features=458752, out_features=512, bias=True)\n",
       "  (fc2): Linear(in_features=512, out_features=32, bias=True)\n",
       "  (fc3): Linear(in_features=32, out_features=512, bias=True)\n",
       "  (fc4): Linear(in_features=512, out_features=458752, bias=True)\n",
       "  (unflatten): Unflatten(dim=1, unflattened_size=(256, 7, 16, 16))\n",
       "  (deconv1): ConvTranspose3d(256, 128, kernel_size=(3, 3, 3), stride=(1, 1, 1), padding=(1, 1, 1))\n",
       "  (deconv2): ConvTranspose3d(128, 64, kernel_size=(3, 3, 3), stride=(1, 1, 1), padding=(1, 1, 1))\n",
       "  (deconv3): ConvTranspose3d(64, 12, kernel_size=(3, 3, 3), stride=(1, 1, 1), padding=(1, 1, 1))\n",
       ")"
      ]
     },
     "execution_count": 15,
     "metadata": {},
     "output_type": "execute_result"
    }
   ],
   "source": [
    "device = 'cuda'\n",
    "epochs = 25\n",
    "lr = 0.01\n",
    "momentum=0.9\n",
    "latent_dim=32\n",
    "channels = 12\n",
    "time_steps = 7\n",
    "optimizer = 'SGD'\n",
    "weight_decay = 0.01\n",
    "patch_size = config.subpatch_size\n",
    "\n",
    "model = Conv3DAutoencoder(channels, time_steps, latent_dim, patch_size)\n",
    "device = torch.device(device)  \n",
    "model.to(device)"
   ]
  },
  {
   "cell_type": "code",
   "execution_count": 16,
   "metadata": {},
   "outputs": [
    {
     "name": "stdout",
     "output_type": "stream",
     "text": [
      "Time taken per epoch: 96.3493 seconds\n",
      "Epoch 1/25, Train Loss: 0.023851, Test Loss: 0.007453\n",
      "Time taken per epoch: 96.3366 seconds\n",
      "Epoch 2/25, Train Loss: 0.005181, Test Loss: 0.003987\n",
      "Time taken per epoch: 95.9160 seconds\n",
      "Epoch 3/25, Train Loss: 0.003457, Test Loss: 0.003126\n",
      "Time taken per epoch: 95.9208 seconds\n",
      "Epoch 4/25, Train Loss: 0.002896, Test Loss: 0.002756\n",
      "Time taken per epoch: 95.9777 seconds\n",
      "Epoch 5/25, Train Loss: 0.002637, Test Loss: 0.002569\n",
      "Time taken per epoch: 96.1752 seconds\n",
      "Epoch 6/25, Train Loss: 0.002489, Test Loss: 0.002448\n",
      "Time taken per epoch: 95.6145 seconds\n",
      "Epoch 7/25, Train Loss: 0.002384, Test Loss: 0.002354\n",
      "Time taken per epoch: 95.7406 seconds\n",
      "Epoch 8/25, Train Loss: 0.002309, Test Loss: 0.002297\n",
      "Time taken per epoch: 95.1971 seconds\n",
      "Epoch 9/25, Train Loss: 0.002251, Test Loss: 0.002239\n",
      "Time taken per epoch: 95.3682 seconds\n",
      "Epoch 10/25, Train Loss: 0.002205, Test Loss: 0.002204\n",
      "Time taken per epoch: 95.2709 seconds\n",
      "Epoch 11/25, Train Loss: 0.002165, Test Loss: 0.002165\n",
      "Time taken per epoch: 95.2645 seconds\n",
      "Epoch 12/25, Train Loss: 0.002133, Test Loss: 0.002128\n",
      "Time taken per epoch: 95.2790 seconds\n",
      "Epoch 13/25, Train Loss: 0.002105, Test Loss: 0.002102\n",
      "Time taken per epoch: 95.2413 seconds\n",
      "Epoch 14/25, Train Loss: 0.002080, Test Loss: 0.002078\n",
      "Time taken per epoch: 95.2462 seconds\n",
      "Epoch 15/25, Train Loss: 0.002059, Test Loss: 0.002058\n",
      "Time taken per epoch: 95.2312 seconds\n",
      "Epoch 16/25, Train Loss: 0.002039, Test Loss: 0.002042\n",
      "Time taken per epoch: 95.1949 seconds\n",
      "Epoch 17/25, Train Loss: 0.002023, Test Loss: 0.002023\n",
      "Time taken per epoch: 95.4277 seconds\n",
      "Epoch 18/25, Train Loss: 0.002008, Test Loss: 0.002013\n",
      "Time taken per epoch: 95.6027 seconds\n",
      "Epoch 19/25, Train Loss: 0.001994, Test Loss: 0.001996\n",
      "Time taken per epoch: 95.8083 seconds\n",
      "Epoch 20/25, Train Loss: 0.001979, Test Loss: 0.001982\n",
      "Time taken per epoch: 96.4425 seconds\n",
      "Epoch 21/25, Train Loss: 0.001967, Test Loss: 0.001978\n",
      "Time taken per epoch: 95.7231 seconds\n",
      "Epoch 22/25, Train Loss: 0.001955, Test Loss: 0.001961\n",
      "Time taken per epoch: 95.9588 seconds\n",
      "Epoch 23/25, Train Loss: 0.001944, Test Loss: 0.001948\n",
      "Time taken per epoch: 95.8607 seconds\n",
      "Epoch 24/25, Train Loss: 0.001933, Test Loss: 0.001941\n",
      "Time taken per epoch: 96.3956 seconds\n",
      "Epoch 25/25, Train Loss: 0.001922, Test Loss: 0.001929\n"
     ]
    }
   ],
   "source": [
    "trained_model, train_losses, test_losses  = train_model_ae(model, dataloader_train, dataloader_test, epochs=epochs, optimizer=optimizer, lr=lr, momentum=momentum, weight_decay=weight_decay, device=device)"
   ]
  },
  {
   "cell_type": "markdown",
   "metadata": {},
   "source": [
    "### Evaluation"
   ]
  },
  {
   "cell_type": "code",
   "execution_count": 17,
   "metadata": {},
   "outputs": [
    {
     "data": {
      "image/png": "[encoded data removed]",
      "text/plain": [
       "<Figure size 800x500 with 1 Axes>"
      ]
     },
     "metadata": {},
     "output_type": "display_data"
    }
   ],
   "source": [
    "plot_loss(train_losses, test_losses)"
   ]
  },
  {
   "cell_type": "markdown",
   "metadata": {},
   "source": [
    "Load Saved Model to skip Training"
   ]
  },
  {
   "cell_type": "code",
   "execution_count": 18,
   "metadata": {},
   "outputs": [],
   "source": [
    "# with open(config.kmeans_ae_b10_path, 'rb') as file:\n",
    "#     kmeans = pickle.load(file)"
   ]
  },
  {
   "cell_type": "code",
   "execution_count": 19,
   "metadata": {},
   "outputs": [],
   "source": [
    "# trained_model = Conv3DAutoencoder(channels, time_steps, latent_dim, config.subpatch_size)\n",
    "\n",
    "# with open(config.ae_b10_path, 'rb') as file:\n",
    "#     trained_model = pickle.load(file)"
   ]
  },
  {
   "cell_type": "code",
   "execution_count": 32,
   "metadata": {},
   "outputs": [
    {
     "name": "stdout",
     "output_type": "stream",
     "text": [
      "Batch Inputs Shape: torch.Size([64, 12, 7, 16, 16])\n"
     ]
    }
   ],
   "source": [
    "for batch_inputs, batch_field_numbers in dataloader_train:\n",
    "    print(\"Batch Inputs Shape:\", batch_inputs.shape)  \n",
    "    # print(\"Batch Field Numbers:\", batch_field_numbers)\n",
    "    # print(\"Dates:\", timestamps.shape)\n",
    "    break "
   ]
  },
  {
   "cell_type": "markdown",
   "metadata": {},
   "source": [
    "Use trained Encoder part to get the features for train, test and evaluation Data"
   ]
  },
  {
   "cell_type": "code",
   "execution_count": 21,
   "metadata": {},
   "outputs": [],
   "source": [
    "train_features, train_coord_dl = extract_features_ae(trained_model, dataloader_train, device)\n",
    "test_features, test_coord_dl = extract_features_ae(trained_model, dataloader_test, device)\n",
    "eval_features, eval_coord_dl = extract_features_ae(trained_model, dataloader_eval, device)\n",
    "\n",
    "train_features = train_features.cpu()\n",
    "test_features = test_features.cpu()\n",
    "eval_features = eval_features.cpu()\n",
    "\n",
    "combined_train_features = torch.cat((train_features, test_features), dim=0)\n",
    "combined_train_coords = train_coord_dl + test_coord_dl"
   ]
  },
  {
   "cell_type": "markdown",
   "metadata": {},
   "source": [
    "K-means on extracted features"
   ]
  },
  {
   "cell_type": "code",
   "execution_count": 22,
   "metadata": {},
   "outputs": [
    {
     "name": "stderr",
     "output_type": "stream",
     "text": [
      "/home/k64835/.local/lib/python3.8/site-packages/sklearn/cluster/_kmeans.py:1416: FutureWarning: The default value of `n_init` will change from 10 to 'auto' in 1.4. Set the value of `n_init` explicitly to suppress the warning\n",
      "  super()._check_params_vs_input(X, default_n_init=10)\n"
     ]
    }
   ],
   "source": [
    "kmeans = train_kmeans_patches(combined_train_features, n_clusters=2, random_state=201)\n",
    "\n",
    "train_subpatch_predictions = kmeans.predict(combined_train_features.reshape(combined_train_features.size(0), -1).numpy().astype(np.float32))\n",
    "eval_subpatch_predictions = kmeans.predict(eval_features.reshape(eval_features.size(0), -1).numpy().astype(np.float32))"
   ]
  },
  {
   "cell_type": "markdown",
   "metadata": {},
   "source": [
    "Convert Subpatch labels to Field labels"
   ]
  },
  {
   "cell_type": "code",
   "execution_count": 24,
   "metadata": {},
   "outputs": [
    {
     "data": {
      "text/plain": [
       "0.5"
      ]
     },
     "execution_count": 24,
     "metadata": {},
     "output_type": "execute_result"
    }
   ],
   "source": [
    "threshold = config.patch_to_field_threshold\n",
    "train_field_labels = assign_field_labels_ae(combined_train_coords, train_subpatch_predictions, threshold)\n",
    "eval_field_labels = assign_field_labels_ae(eval_coord_dl, eval_subpatch_predictions, threshold)\n",
    "threshold"
   ]
  },
  {
   "cell_type": "markdown",
   "metadata": {},
   "source": [
    "Clustering Accuracy"
   ]
  },
  {
   "cell_type": "code",
   "execution_count": 27,
   "metadata": {},
   "outputs": [
    {
     "data": {
      "text/plain": [
       "{'1168039.0_0_0': 0,\n",
       " '1168039.0_0_16': 0,\n",
       " '1168039.0_0_32': 0,\n",
       " '1168039.0_0_48': 0,\n",
       " '1168039.0_16_0': 0,\n",
       " '1168039.0_16_16': 1,\n",
       " '1168039.0_16_32': 1,\n",
       " '1168039.0_16_48': 0,\n",
       " '1168039.0_32_0': 0,\n",
       " '1168039.0_32_16': 1,\n",
       " '1168039.0_32_32': 1,\n",
       " '1168039.0_32_48': 0,\n",
       " '1168039.0_48_0': 0,\n",
       " '1168039.0_48_16': 0,\n",
       " '1168039.0_48_32': 0,\n",
       " '1168039.0_48_48': 0,\n",
       " '1228889.0_0_0': 0,\n",
       " '1228889.0_0_16': 0,\n",
       " '1228889.0_0_32': 0,\n",
       " '1228889.0_0_48': 0,\n",
       " '1228889.0_16_0': 0,\n",
       " '1228889.0_16_16': 1,\n",
       " '1228889.0_16_32': 1,\n",
       " '1228889.0_16_48': 0,\n",
       " '1228889.0_32_0': 0,\n",
       " '1228889.0_32_16': 1,\n",
       " '1228889.0_32_32': 1,\n",
       " '1228889.0_32_48': 0,\n",
       " '1228889.0_48_0': 0,\n",
       " '1228889.0_48_16': 0,\n",
       " '1228889.0_48_32': 0,\n",
       " '1228889.0_48_48': 0,\n",
       " '1168663.0_1176271.0_0_0': 0,\n",
       " '1168663.0_1176271.0_0_16': 0,\n",
       " '1168663.0_1176271.0_0_32': 0,\n",
       " '1168663.0_1176271.0_0_48': 0,\n",
       " '1168663.0_1176271.0_16_0': 0,\n",
       " '1168663.0_1176271.0_16_16': 0,\n",
       " '1168663.0_1176271.0_16_32': 1,\n",
       " '1168663.0_1176271.0_16_48': 0,\n",
       " '1168663.0_1176271.0_32_0': 0,\n",
       " '1168663.0_1176271.0_32_16': 1,\n",
       " '1168663.0_1176271.0_32_32': 1,\n",
       " '1168663.0_1176271.0_32_48': 0,\n",
       " '1168663.0_1176271.0_48_0': 0,\n",
       " '1168663.0_1176271.0_48_16': 0,\n",
       " '1168663.0_1176271.0_48_32': 0,\n",
       " '1168663.0_1176271.0_48_48': 0,\n",
       " '1168692.0_1220431.0_0_0': 0,\n",
       " '1168692.0_1220431.0_0_16': 0,\n",
       " '1168692.0_1220431.0_0_32': 0,\n",
       " '1168692.0_1220431.0_0_48': 0,\n",
       " '1168692.0_1220431.0_16_0': 0,\n",
       " '1168692.0_1220431.0_16_16': 1,\n",
       " '1168692.0_1220431.0_16_32': 1,\n",
       " '1168692.0_1220431.0_16_48': 0,\n",
       " '1168692.0_1220431.0_32_0': 0,\n",
       " '1168692.0_1220431.0_32_16': 1,\n",
       " '1168692.0_1220431.0_32_32': 1,\n",
       " '1168692.0_1220431.0_32_48': 0,\n",
       " '1168692.0_1220431.0_48_0': 0,\n",
       " '1168692.0_1220431.0_48_16': 0,\n",
       " '1168692.0_1220431.0_48_32': 0,\n",
       " '1168692.0_1220431.0_48_48': 0,\n",
       " '1171179.0_1222688.0_0_0': 0,\n",
       " '1171179.0_1222688.0_0_16': 0,\n",
       " '1171179.0_1222688.0_0_32': 0,\n",
       " '1171179.0_1222688.0_0_48': 0,\n",
       " '1171179.0_1222688.0_16_0': 0,\n",
       " '1171179.0_1222688.0_16_16': 1,\n",
       " '1171179.0_1222688.0_16_32': 1,\n",
       " '1171179.0_1222688.0_16_48': 0,\n",
       " '1171179.0_1222688.0_32_0': 0,\n",
       " '1171179.0_1222688.0_32_16': 1,\n",
       " '1171179.0_1222688.0_32_32': 1,\n",
       " '1171179.0_1222688.0_32_48': 0,\n",
       " '1171179.0_1222688.0_48_0': 0,\n",
       " '1171179.0_1222688.0_48_16': 0,\n",
       " '1171179.0_1222688.0_48_32': 0,\n",
       " '1171179.0_1222688.0_48_48': 0,\n",
       " '5_0_0': 0,\n",
       " '5_0_16': 0,\n",
       " '5_0_32': 0,\n",
       " '5_0_48': 0,\n",
       " '5_16_0': 0,\n",
       " '5_16_16': 0,\n",
       " '5_16_32': 0,\n",
       " '5_16_48': 0,\n",
       " '5_32_0': 0,\n",
       " '5_32_16': 0,\n",
       " '5_32_32': 0,\n",
       " '5_32_48': 0,\n",
       " '5_48_0': 0,\n",
       " '5_48_16': 0,\n",
       " '5_48_32': 0,\n",
       " '5_48_48': 0,\n",
       " '1172001.0_1225692.0_0_0': 0,\n",
       " '1172001.0_1225692.0_0_16': 0,\n",
       " '1172001.0_1225692.0_0_32': 0,\n",
       " '1172001.0_1225692.0_0_48': 0,\n",
       " '1172001.0_1225692.0_16_0': 1,\n",
       " '1172001.0_1225692.0_16_16': 1,\n",
       " '1172001.0_1225692.0_16_32': 1,\n",
       " '1172001.0_1225692.0_16_48': 0,\n",
       " '1172001.0_1225692.0_32_0': 1,\n",
       " '1172001.0_1225692.0_32_16': 1,\n",
       " '1172001.0_1225692.0_32_32': 1,\n",
       " '1172001.0_1225692.0_32_48': 1,\n",
       " '1172001.0_1225692.0_48_0': 0,\n",
       " '1172001.0_1225692.0_48_16': 0,\n",
       " '1172001.0_1225692.0_48_32': 0,\n",
       " '1172001.0_1225692.0_48_48': 0,\n",
       " '1174805.0_0_0': 0,\n",
       " '1174805.0_0_16': 0,\n",
       " '1174805.0_0_32': 0,\n",
       " '1174805.0_0_48': 0,\n",
       " '1174805.0_16_0': 0,\n",
       " '1174805.0_16_16': 0,\n",
       " '1174805.0_16_32': 1,\n",
       " '1174805.0_16_48': 0,\n",
       " '1174805.0_32_0': 0,\n",
       " '1174805.0_32_16': 1,\n",
       " '1174805.0_32_32': 0,\n",
       " '1174805.0_32_48': 0,\n",
       " '1174805.0_48_0': 0,\n",
       " '1174805.0_48_16': 0,\n",
       " '1174805.0_48_32': 0,\n",
       " '1174805.0_48_48': 0,\n",
       " '1176318.0_0_0': 0,\n",
       " '1176318.0_0_16': 0,\n",
       " '1176318.0_0_32': 0,\n",
       " '1176318.0_0_48': 0,\n",
       " '1176318.0_16_0': 0,\n",
       " '1176318.0_16_16': 1,\n",
       " '1176318.0_16_32': 0,\n",
       " '1176318.0_16_48': 0,\n",
       " '1176318.0_32_0': 0,\n",
       " '1176318.0_32_16': 1,\n",
       " '1176318.0_32_32': 1,\n",
       " '1176318.0_32_48': 0,\n",
       " '1176318.0_48_0': 0,\n",
       " '1176318.0_48_16': 0,\n",
       " '1176318.0_48_32': 0,\n",
       " '1176318.0_48_48': 0,\n",
       " '1176365.0_0_0': 0,\n",
       " '1176365.0_0_16': 0,\n",
       " '1176365.0_0_32': 0,\n",
       " '1176365.0_0_48': 0,\n",
       " '1176365.0_16_0': 0,\n",
       " '1176365.0_16_16': 1,\n",
       " '1176365.0_16_32': 1,\n",
       " '1176365.0_16_48': 0,\n",
       " '1176365.0_32_0': 0,\n",
       " '1176365.0_32_16': 1,\n",
       " '1176365.0_32_32': 1,\n",
       " '1176365.0_32_48': 0,\n",
       " '1176365.0_48_0': 0,\n",
       " '1176365.0_48_16': 0,\n",
       " '1176365.0_48_32': 0,\n",
       " '1176365.0_48_48': 0,\n",
       " '1177274.0_0_0': 0,\n",
       " '1177274.0_0_16': 1,\n",
       " '1177274.0_0_32': 1,\n",
       " '1177274.0_0_48': 0,\n",
       " '1177274.0_16_0': 0,\n",
       " '1177274.0_16_16': 1,\n",
       " '1177274.0_16_32': 1,\n",
       " '1177274.0_16_48': 0,\n",
       " '1177274.0_32_0': 0,\n",
       " '1177274.0_32_16': 1,\n",
       " '1177274.0_32_32': 1,\n",
       " '1177274.0_32_48': 0,\n",
       " '1177274.0_48_0': 0,\n",
       " '1177274.0_48_16': 1,\n",
       " '1177274.0_48_32': 1,\n",
       " '1177274.0_48_48': 0,\n",
       " '1177490.0_0_0': 0,\n",
       " '1177490.0_0_16': 0,\n",
       " '1177490.0_0_32': 0,\n",
       " '1177490.0_0_48': 0,\n",
       " '1177490.0_16_0': 0,\n",
       " '1177490.0_16_16': 1,\n",
       " '1177490.0_16_32': 1,\n",
       " '1177490.0_16_48': 0,\n",
       " '1177490.0_32_0': 0,\n",
       " '1177490.0_32_16': 1,\n",
       " '1177490.0_32_32': 1,\n",
       " '1177490.0_32_48': 0,\n",
       " '1177490.0_48_0': 0,\n",
       " '1177490.0_48_16': 0,\n",
       " '1177490.0_48_32': 0,\n",
       " '1177490.0_48_48': 0,\n",
       " '1177490.0_1183928.0_0_0': 0,\n",
       " '1177490.0_1183928.0_0_16': 0,\n",
       " '1177490.0_1183928.0_0_32': 1,\n",
       " '1177490.0_1183928.0_0_48': 0,\n",
       " '1177490.0_1183928.0_16_0': 0,\n",
       " '1177490.0_1183928.0_16_16': 1,\n",
       " '1177490.0_1183928.0_16_32': 1,\n",
       " '1177490.0_1183928.0_16_48': 0,\n",
       " '1177490.0_1183928.0_32_0': 0,\n",
       " '1177490.0_1183928.0_32_16': 1,\n",
       " '1177490.0_1183928.0_32_32': 1,\n",
       " '1177490.0_1183928.0_32_48': 0,\n",
       " '1177490.0_1183928.0_48_0': 0,\n",
       " '1177490.0_1183928.0_48_16': 1,\n",
       " '1177490.0_1183928.0_48_32': 1,\n",
       " '1177490.0_1183928.0_48_48': 0,\n",
       " '1178038.0_0_0': 0,\n",
       " '1178038.0_0_16': 0,\n",
       " '1178038.0_0_32': 0,\n",
       " '1178038.0_0_48': 0,\n",
       " '1178038.0_16_0': 0,\n",
       " '1178038.0_16_16': 1,\n",
       " '1178038.0_16_32': 1,\n",
       " '1178038.0_16_48': 0,\n",
       " '1178038.0_32_0': 0,\n",
       " '1178038.0_32_16': 1,\n",
       " '1178038.0_32_32': 1,\n",
       " '1178038.0_32_48': 0,\n",
       " '1178038.0_48_0': 0,\n",
       " '1178038.0_48_16': 0,\n",
       " '1178038.0_48_32': 0,\n",
       " '1178038.0_48_48': 0,\n",
       " '1178198.0_1225298.0_0_0': 0,\n",
       " '1178198.0_1225298.0_0_16': 0,\n",
       " '1178198.0_1225298.0_0_32': 0,\n",
       " '1178198.0_1225298.0_0_48': 0,\n",
       " '1178198.0_1225298.0_16_0': 1,\n",
       " '1178198.0_1225298.0_16_16': 1,\n",
       " '1178198.0_1225298.0_16_32': 1,\n",
       " '1178198.0_1225298.0_16_48': 1,\n",
       " '1178198.0_1225298.0_32_0': 0,\n",
       " '1178198.0_1225298.0_32_16': 1,\n",
       " '1178198.0_1225298.0_32_32': 1,\n",
       " '1178198.0_1225298.0_32_48': 1,\n",
       " '1178198.0_1225298.0_48_0': 0,\n",
       " '1178198.0_1225298.0_48_16': 0,\n",
       " '1178198.0_1225298.0_48_32': 1,\n",
       " '1178198.0_1225298.0_48_48': 0,\n",
       " '1179855.0_1187336.0_0_0': 0,\n",
       " '1179855.0_1187336.0_0_16': 1,\n",
       " '1179855.0_1187336.0_0_32': 1,\n",
       " '1179855.0_1187336.0_0_48': 0,\n",
       " '1179855.0_1187336.0_16_0': 0,\n",
       " '1179855.0_1187336.0_16_16': 1,\n",
       " '1179855.0_1187336.0_16_32': 1,\n",
       " '1179855.0_1187336.0_16_48': 0,\n",
       " '1179855.0_1187336.0_32_0': 1,\n",
       " '1179855.0_1187336.0_32_16': 1,\n",
       " '1179855.0_1187336.0_32_32': 1,\n",
       " '1179855.0_1187336.0_32_48': 1,\n",
       " '1179855.0_1187336.0_48_0': 1,\n",
       " '1179855.0_1187336.0_48_16': 1,\n",
       " '1179855.0_1187336.0_48_32': 0,\n",
       " '1179855.0_1187336.0_48_48': 0,\n",
       " '1182776.0_0_0': 0,\n",
       " '1182776.0_0_16': 0,\n",
       " '1182776.0_0_32': 0,\n",
       " '1182776.0_0_48': 0,\n",
       " '1182776.0_16_0': 0,\n",
       " '1182776.0_16_16': 0,\n",
       " '1182776.0_16_32': 1,\n",
       " '1182776.0_16_48': 0,\n",
       " '1182776.0_32_0': 0,\n",
       " '1182776.0_32_16': 1,\n",
       " '1182776.0_32_32': 0,\n",
       " '1182776.0_32_48': 0,\n",
       " '1182776.0_48_0': 0,\n",
       " '1182776.0_48_16': 0,\n",
       " '1182776.0_48_32': 0,\n",
       " '1182776.0_48_48': 0,\n",
       " '1182822.0_1216964.0_0_0': 1,\n",
       " '1182822.0_1216964.0_0_16': 1,\n",
       " '1182822.0_1216964.0_0_32': 1,\n",
       " '1182822.0_1216964.0_0_48': 0,\n",
       " '1182822.0_1216964.0_16_0': 1,\n",
       " '1182822.0_1216964.0_16_16': 1,\n",
       " '1182822.0_1216964.0_16_32': 1,\n",
       " '1182822.0_1216964.0_16_48': 0,\n",
       " '1182822.0_1216964.0_32_0': 0,\n",
       " '1182822.0_1216964.0_32_16': 1,\n",
       " '1182822.0_1216964.0_32_32': 1,\n",
       " '1182822.0_1216964.0_32_48': 0,\n",
       " '1182822.0_1216964.0_48_0': 0,\n",
       " '1182822.0_1216964.0_48_16': 0,\n",
       " '1182822.0_1216964.0_48_32': 1,\n",
       " '1182822.0_1216964.0_48_48': 1,\n",
       " '1183171.0_0_0': 0,\n",
       " '1183171.0_0_16': 0,\n",
       " '1183171.0_0_32': 0,\n",
       " '1183171.0_0_48': 0,\n",
       " '1183171.0_16_0': 0,\n",
       " '1183171.0_16_16': 1,\n",
       " '1183171.0_16_32': 1,\n",
       " '1183171.0_16_48': 0,\n",
       " '1183171.0_32_0': 0,\n",
       " '1183171.0_32_16': 1,\n",
       " '1183171.0_32_32': 1,\n",
       " '1183171.0_32_48': 0,\n",
       " '1183171.0_48_0': 0,\n",
       " '1183171.0_48_16': 0,\n",
       " '1183171.0_48_32': 0,\n",
       " '1183171.0_48_48': 0,\n",
       " '1194806.0_1194808.0_0_0': 0,\n",
       " '1194806.0_1194808.0_0_16': 0,\n",
       " '1194806.0_1194808.0_0_32': 0,\n",
       " '1194806.0_1194808.0_0_48': 0,\n",
       " '1194806.0_1194808.0_16_0': 0,\n",
       " '1194806.0_1194808.0_16_16': 1,\n",
       " '1194806.0_1194808.0_16_32': 1,\n",
       " '1194806.0_1194808.0_16_48': 0,\n",
       " '1194806.0_1194808.0_32_0': 0,\n",
       " '1194806.0_1194808.0_32_16': 1,\n",
       " '1194806.0_1194808.0_32_32': 1,\n",
       " '1194806.0_1194808.0_32_48': 0,\n",
       " '1194806.0_1194808.0_48_0': 0,\n",
       " '1194806.0_1194808.0_48_16': 0,\n",
       " '1194806.0_1194808.0_48_32': 0,\n",
       " '1194806.0_1194808.0_48_48': 0,\n",
       " '1196327.0_0_0': 0,\n",
       " '1196327.0_0_16': 0,\n",
       " '1196327.0_0_32': 0,\n",
       " '1196327.0_0_48': 0,\n",
       " '1196327.0_16_0': 0,\n",
       " '1196327.0_16_16': 1,\n",
       " '1196327.0_16_32': 1,\n",
       " '1196327.0_16_48': 0,\n",
       " '1196327.0_32_0': 0,\n",
       " '1196327.0_32_16': 1,\n",
       " '1196327.0_32_32': 1,\n",
       " '1196327.0_32_48': 0,\n",
       " '1196327.0_48_0': 0,\n",
       " '1196327.0_48_16': 0,\n",
       " '1196327.0_48_32': 0,\n",
       " '1196327.0_48_48': 0,\n",
       " '1196347.0_0_0': 0,\n",
       " '1196347.0_0_16': 0,\n",
       " '1196347.0_0_32': 0,\n",
       " '1196347.0_0_48': 0,\n",
       " '1196347.0_16_0': 0,\n",
       " '1196347.0_16_16': 1,\n",
       " '1196347.0_16_32': 1,\n",
       " '1196347.0_16_48': 0,\n",
       " '1196347.0_32_0': 0,\n",
       " '1196347.0_32_16': 1,\n",
       " '1196347.0_32_32': 1,\n",
       " '1196347.0_32_48': 0,\n",
       " '1196347.0_48_0': 0,\n",
       " '1196347.0_48_16': 0,\n",
       " '1196347.0_48_32': 0,\n",
       " '1196347.0_48_48': 0,\n",
       " '1196489.0_1196747.0_0_0': 0,\n",
       " '1196489.0_1196747.0_0_16': 0,\n",
       " '1196489.0_1196747.0_0_32': 0,\n",
       " '1196489.0_1196747.0_0_48': 0,\n",
       " '1196489.0_1196747.0_16_0': 0,\n",
       " '1196489.0_1196747.0_16_16': 1,\n",
       " '1196489.0_1196747.0_16_32': 1,\n",
       " '1196489.0_1196747.0_16_48': 0,\n",
       " '1196489.0_1196747.0_32_0': 0,\n",
       " '1196489.0_1196747.0_32_16': 1,\n",
       " '1196489.0_1196747.0_32_32': 1,\n",
       " '1196489.0_1196747.0_32_48': 0,\n",
       " '1196489.0_1196747.0_48_0': 0,\n",
       " '1196489.0_1196747.0_48_16': 0,\n",
       " '1196489.0_1196747.0_48_32': 0,\n",
       " '1196489.0_1196747.0_48_48': 0,\n",
       " '1216230.0_1219006.0_0_0': 0,\n",
       " '1216230.0_1219006.0_0_16': 0,\n",
       " '1216230.0_1219006.0_0_32': 0,\n",
       " '1216230.0_1219006.0_0_48': 0,\n",
       " '1216230.0_1219006.0_16_0': 1,\n",
       " '1216230.0_1219006.0_16_16': 1,\n",
       " '1216230.0_1219006.0_16_32': 1,\n",
       " '1216230.0_1219006.0_16_48': 0,\n",
       " '1216230.0_1219006.0_32_0': 1,\n",
       " '1216230.0_1219006.0_32_16': 1,\n",
       " '1216230.0_1219006.0_32_32': 1,\n",
       " '1216230.0_1219006.0_32_48': 0,\n",
       " '1216230.0_1219006.0_48_0': 0,\n",
       " '1216230.0_1219006.0_48_16': 0,\n",
       " '1216230.0_1219006.0_48_32': 0,\n",
       " '1216230.0_1219006.0_48_48': 0,\n",
       " '1216239.0_0_0': 0,\n",
       " '1216239.0_0_16': 0,\n",
       " '1216239.0_0_32': 0,\n",
       " '1216239.0_0_48': 0,\n",
       " '1216239.0_16_0': 0,\n",
       " '1216239.0_16_16': 1,\n",
       " '1216239.0_16_32': 1,\n",
       " '1216239.0_16_48': 0,\n",
       " '1216239.0_32_0': 0,\n",
       " '1216239.0_32_16': 1,\n",
       " '1216239.0_32_32': 1,\n",
       " '1216239.0_32_48': 0,\n",
       " '1216239.0_48_0': 0,\n",
       " '1216239.0_48_16': 0,\n",
       " '1216239.0_48_32': 0,\n",
       " '1216239.0_48_48': 0,\n",
       " '1216250.0_0_0': 0,\n",
       " '1216250.0_0_16': 0,\n",
       " '1216250.0_0_32': 0,\n",
       " '1216250.0_0_48': 0,\n",
       " '1216250.0_16_0': 0,\n",
       " '1216250.0_16_16': 1,\n",
       " '1216250.0_16_32': 1,\n",
       " '1216250.0_16_48': 0,\n",
       " '1216250.0_32_0': 0,\n",
       " '1216250.0_32_16': 1,\n",
       " '1216250.0_32_32': 1,\n",
       " '1216250.0_32_48': 0,\n",
       " '1216250.0_48_0': 0,\n",
       " '1216250.0_48_16': 0,\n",
       " '1216250.0_48_32': 0,\n",
       " '1216250.0_48_48': 0,\n",
       " '1216801.0_1216804.0_0_0': 0,\n",
       " '1216801.0_1216804.0_0_16': 0,\n",
       " '1216801.0_1216804.0_0_32': 0,\n",
       " '1216801.0_1216804.0_0_48': 0,\n",
       " '1216801.0_1216804.0_16_0': 0,\n",
       " '1216801.0_1216804.0_16_16': 1,\n",
       " '1216801.0_1216804.0_16_32': 1,\n",
       " '1216801.0_1216804.0_16_48': 0,\n",
       " '1216801.0_1216804.0_32_0': 0,\n",
       " '1216801.0_1216804.0_32_16': 1,\n",
       " '1216801.0_1216804.0_32_32': 1,\n",
       " '1216801.0_1216804.0_32_48': 0,\n",
       " '1216801.0_1216804.0_48_0': 0,\n",
       " '1216801.0_1216804.0_48_16': 0,\n",
       " '1216801.0_1216804.0_48_32': 0,\n",
       " '1216801.0_1216804.0_48_48': 0,\n",
       " '1217032.0_0_0': 0,\n",
       " '1217032.0_0_16': 0,\n",
       " '1217032.0_0_32': 0,\n",
       " '1217032.0_0_48': 0,\n",
       " '1217032.0_16_0': 0,\n",
       " '1217032.0_16_16': 1,\n",
       " '1217032.0_16_32': 1,\n",
       " '1217032.0_16_48': 0,\n",
       " '1217032.0_32_0': 0,\n",
       " '1217032.0_32_16': 1,\n",
       " '1217032.0_32_32': 1,\n",
       " '1217032.0_32_48': 0,\n",
       " '1217032.0_48_0': 0,\n",
       " '1217032.0_48_16': 1,\n",
       " '1217032.0_48_32': 0,\n",
       " '1217032.0_48_48': 0,\n",
       " '1217498.0_0_0': 0,\n",
       " '1217498.0_0_16': 0,\n",
       " '1217498.0_0_32': 0,\n",
       " '1217498.0_0_48': 0,\n",
       " '1217498.0_16_0': 0,\n",
       " '1217498.0_16_16': 1,\n",
       " '1217498.0_16_32': 1,\n",
       " '1217498.0_16_48': 0,\n",
       " '1217498.0_32_0': 0,\n",
       " '1217498.0_32_16': 1,\n",
       " '1217498.0_32_32': 1,\n",
       " '1217498.0_32_48': 0,\n",
       " '1217498.0_48_0': 0,\n",
       " '1217498.0_48_16': 0,\n",
       " '1217498.0_48_32': 0,\n",
       " '1217498.0_48_48': 0,\n",
       " '1219929.0_1219932.0_0_0': 0,\n",
       " '1219929.0_1219932.0_0_16': 0,\n",
       " '1219929.0_1219932.0_0_32': 0,\n",
       " '1219929.0_1219932.0_0_48': 0,\n",
       " '1219929.0_1219932.0_16_0': 0,\n",
       " '1219929.0_1219932.0_16_16': 1,\n",
       " '1219929.0_1219932.0_16_32': 1,\n",
       " '1219929.0_1219932.0_16_48': 1,\n",
       " '1219929.0_1219932.0_32_0': 1,\n",
       " '1219929.0_1219932.0_32_16': 1,\n",
       " '1219929.0_1219932.0_32_32': 1,\n",
       " '1219929.0_1219932.0_32_48': 1,\n",
       " '1219929.0_1219932.0_48_0': 0,\n",
       " '1219929.0_1219932.0_48_16': 0,\n",
       " '1219929.0_1219932.0_48_32': 0,\n",
       " '1219929.0_1219932.0_48_48': 0,\n",
       " '1220322.0_0_0': 0,\n",
       " '1220322.0_0_16': 0,\n",
       " '1220322.0_0_32': 0,\n",
       " '1220322.0_0_48': 0,\n",
       " '1220322.0_16_0': 0,\n",
       " '1220322.0_16_16': 1,\n",
       " '1220322.0_16_32': 1,\n",
       " '1220322.0_16_48': 0,\n",
       " '1220322.0_32_0': 0,\n",
       " '1220322.0_32_16': 1,\n",
       " '1220322.0_32_32': 1,\n",
       " '1220322.0_32_48': 0,\n",
       " '1220322.0_48_0': 0,\n",
       " '1220322.0_48_16': 0,\n",
       " '1220322.0_48_32': 0,\n",
       " '1220322.0_48_48': 0,\n",
       " '1222641.0_0_0': 0,\n",
       " '1222641.0_0_16': 0,\n",
       " '1222641.0_0_32': 0,\n",
       " '1222641.0_0_48': 0,\n",
       " '1222641.0_16_0': 0,\n",
       " '1222641.0_16_16': 1,\n",
       " '1222641.0_16_32': 1,\n",
       " '1222641.0_16_48': 0,\n",
       " '1222641.0_32_0': 0,\n",
       " '1222641.0_32_16': 1,\n",
       " '1222641.0_32_32': 1,\n",
       " '1222641.0_32_48': 0,\n",
       " '1222641.0_48_0': 0,\n",
       " '1222641.0_48_16': 0,\n",
       " '1222641.0_48_32': 0,\n",
       " '1222641.0_48_48': 0,\n",
       " '1223341.0_0_0': 0,\n",
       " '1223341.0_0_16': 0,\n",
       " '1223341.0_0_32': 0,\n",
       " '1223341.0_0_48': 0,\n",
       " '1223341.0_16_0': 0,\n",
       " '1223341.0_16_16': 1,\n",
       " '1223341.0_16_32': 1,\n",
       " '1223341.0_16_48': 0,\n",
       " '1223341.0_32_0': 0,\n",
       " '1223341.0_32_16': 1,\n",
       " '1223341.0_32_32': 1,\n",
       " '1223341.0_32_48': 0,\n",
       " '1223341.0_48_0': 0,\n",
       " '1223341.0_48_16': 0,\n",
       " '1223341.0_48_32': 0,\n",
       " '1223341.0_48_48': 0,\n",
       " '1223970.0_0_0': 0,\n",
       " '1223970.0_0_16': 0,\n",
       " '1223970.0_0_32': 0,\n",
       " '1223970.0_0_48': 0,\n",
       " '1223970.0_16_0': 0,\n",
       " '1223970.0_16_16': 1,\n",
       " '1223970.0_16_32': 1,\n",
       " '1223970.0_16_48': 1,\n",
       " '1223970.0_32_0': 1,\n",
       " '1223970.0_32_16': 1,\n",
       " '1223970.0_32_32': 1,\n",
       " '1223970.0_32_48': 0,\n",
       " '1223970.0_48_0': 0,\n",
       " '1223970.0_48_16': 0,\n",
       " '1223970.0_48_32': 0,\n",
       " '1223970.0_48_48': 0,\n",
       " '1224018.0_0_0': 0,\n",
       " '1224018.0_0_16': 0,\n",
       " '1224018.0_0_32': 0,\n",
       " '1224018.0_0_48': 0,\n",
       " '1224018.0_16_0': 0,\n",
       " '1224018.0_16_16': 1,\n",
       " '1224018.0_16_32': 1,\n",
       " '1224018.0_16_48': 0,\n",
       " '1224018.0_32_0': 0,\n",
       " '1224018.0_32_16': 1,\n",
       " '1224018.0_32_32': 1,\n",
       " '1224018.0_32_48': 0,\n",
       " '1224018.0_48_0': 0,\n",
       " '1224018.0_48_16': 0,\n",
       " '1224018.0_48_32': 0,\n",
       " '1224018.0_48_48': 0,\n",
       " '1224356.0_0_0': 0,\n",
       " '1224356.0_0_16': 0,\n",
       " '1224356.0_0_32': 0,\n",
       " '1224356.0_0_48': 0,\n",
       " '1224356.0_16_0': 0,\n",
       " '1224356.0_16_16': 1,\n",
       " '1224356.0_16_32': 1,\n",
       " '1224356.0_16_48': 0,\n",
       " '1224356.0_32_0': 0,\n",
       " '1224356.0_32_16': 1,\n",
       " '1224356.0_32_32': 1,\n",
       " '1224356.0_32_48': 0,\n",
       " '1224356.0_48_0': 0,\n",
       " '1224356.0_48_16': 0,\n",
       " '1224356.0_48_32': 0,\n",
       " '1224356.0_48_48': 0,\n",
       " '1225081.0_0_0': 0,\n",
       " '1225081.0_0_16': 0,\n",
       " '1225081.0_0_32': 0,\n",
       " '1225081.0_0_48': 0,\n",
       " '1225081.0_16_0': 0,\n",
       " '1225081.0_16_16': 1,\n",
       " '1225081.0_16_32': 1,\n",
       " '1225081.0_16_48': 0,\n",
       " '1225081.0_32_0': 0,\n",
       " '1225081.0_32_16': 1,\n",
       " '1225081.0_32_32': 1,\n",
       " '1225081.0_32_48': 0,\n",
       " '1225081.0_48_0': 0,\n",
       " '1225081.0_48_16': 0,\n",
       " '1225081.0_48_32': 0,\n",
       " '1225081.0_48_48': 0,\n",
       " '1225397.0_0_0': 0,\n",
       " '1225397.0_0_16': 0,\n",
       " '1225397.0_0_32': 0,\n",
       " '1225397.0_0_48': 0,\n",
       " '1225397.0_16_0': 0,\n",
       " '1225397.0_16_16': 1,\n",
       " '1225397.0_16_32': 1,\n",
       " '1225397.0_16_48': 0,\n",
       " '1225397.0_32_0': 0,\n",
       " '1225397.0_32_16': 1,\n",
       " '1225397.0_32_32': 1,\n",
       " '1225397.0_32_48': 0,\n",
       " '1225397.0_48_0': 0,\n",
       " '1225397.0_48_16': 0,\n",
       " '1225397.0_48_32': 0,\n",
       " '1225397.0_48_48': 0,\n",
       " '1225547.0_0_0': 0,\n",
       " '1225547.0_0_16': 0,\n",
       " '1225547.0_0_32': 0,\n",
       " '1225547.0_0_48': 0,\n",
       " '1225547.0_16_0': 0,\n",
       " '1225547.0_16_16': 1,\n",
       " '1225547.0_16_32': 1,\n",
       " '1225547.0_16_48': 0,\n",
       " '1225547.0_32_0': 0,\n",
       " '1225547.0_32_16': 1,\n",
       " '1225547.0_32_32': 1,\n",
       " '1225547.0_32_48': 0,\n",
       " '1225547.0_48_0': 0,\n",
       " '1225547.0_48_16': 0,\n",
       " '1225547.0_48_32': 0,\n",
       " '1225547.0_48_48': 0,\n",
       " '1225592.0_0_0': 0,\n",
       " '1225592.0_0_16': 0,\n",
       " '1225592.0_0_32': 0,\n",
       " '1225592.0_0_48': 0,\n",
       " '1225592.0_16_0': 0,\n",
       " '1225592.0_16_16': 1,\n",
       " '1225592.0_16_32': 1,\n",
       " '1225592.0_16_48': 0,\n",
       " '1225592.0_32_0': 0,\n",
       " '1225592.0_32_16': 1,\n",
       " '1225592.0_32_32': 1,\n",
       " '1225592.0_32_48': 0,\n",
       " '1225592.0_48_0': 0,\n",
       " '1225592.0_48_16': 0,\n",
       " '1225592.0_48_32': 0,\n",
       " '1225592.0_48_48': 0,\n",
       " '1226125.0_0_0': 0,\n",
       " '1226125.0_0_16': 0,\n",
       " '1226125.0_0_32': 0,\n",
       " '1226125.0_0_48': 0,\n",
       " '1226125.0_16_0': 0,\n",
       " '1226125.0_16_16': 1,\n",
       " '1226125.0_16_32': 1,\n",
       " '1226125.0_16_48': 0,\n",
       " '1226125.0_32_0': 0,\n",
       " '1226125.0_32_16': 1,\n",
       " '1226125.0_32_32': 1,\n",
       " '1226125.0_32_48': 0,\n",
       " '1226125.0_48_0': 0,\n",
       " '1226125.0_48_16': 0,\n",
       " '1226125.0_48_32': 0,\n",
       " '1226125.0_48_48': 0,\n",
       " '1226225.0_0_0': 0,\n",
       " '1226225.0_0_16': 0,\n",
       " '1226225.0_0_32': 0,\n",
       " '1226225.0_0_48': 0,\n",
       " '1226225.0_16_0': 0,\n",
       " '1226225.0_16_16': 1,\n",
       " '1226225.0_16_32': 1,\n",
       " '1226225.0_16_48': 0,\n",
       " '1226225.0_32_0': 0,\n",
       " '1226225.0_32_16': 1,\n",
       " '1226225.0_32_32': 1,\n",
       " '1226225.0_32_48': 0,\n",
       " '1226225.0_48_0': 0,\n",
       " '1226225.0_48_16': 0,\n",
       " '1226225.0_48_32': 0,\n",
       " '1226225.0_48_48': 0,\n",
       " '1226904.0_1227074.0_0_0': 1,\n",
       " '1226904.0_1227074.0_0_16': 1,\n",
       " '1226904.0_1227074.0_0_32': 0,\n",
       " '1226904.0_1227074.0_0_48': 0,\n",
       " '1226904.0_1227074.0_16_0': 1,\n",
       " '1226904.0_1227074.0_16_16': 1,\n",
       " '1226904.0_1227074.0_16_32': 1,\n",
       " '1226904.0_1227074.0_16_48': 1,\n",
       " '1226904.0_1227074.0_32_0': 0,\n",
       " '1226904.0_1227074.0_32_16': 0,\n",
       " '1226904.0_1227074.0_32_32': 1,\n",
       " '1226904.0_1227074.0_32_48': 1,\n",
       " '1226904.0_1227074.0_48_0': 0,\n",
       " '1226904.0_1227074.0_48_16': 0,\n",
       " '1226904.0_1227074.0_48_32': 0,\n",
       " '1226904.0_1227074.0_48_48': 1,\n",
       " '1227071.0_0_0': 0,\n",
       " '1227071.0_0_16': 0,\n",
       " '1227071.0_0_32': 0,\n",
       " '1227071.0_0_48': 0,\n",
       " '1227071.0_16_0': 0,\n",
       " '1227071.0_16_16': 1,\n",
       " '1227071.0_16_32': 1,\n",
       " '1227071.0_16_48': 0,\n",
       " '1227071.0_32_0': 0,\n",
       " '1227071.0_32_16': 1,\n",
       " '1227071.0_32_32': 1,\n",
       " '1227071.0_32_48': 0,\n",
       " '1227071.0_48_0': 0,\n",
       " '1227071.0_48_16': 0,\n",
       " '1227071.0_48_32': 0,\n",
       " '1227071.0_48_48': 0,\n",
       " '1227321.0_1229711.0_0_0': 0,\n",
       " '1227321.0_1229711.0_0_16': 0,\n",
       " '1227321.0_1229711.0_0_32': 0,\n",
       " '1227321.0_1229711.0_0_48': 0,\n",
       " '1227321.0_1229711.0_16_0': 0,\n",
       " '1227321.0_1229711.0_16_16': 1,\n",
       " '1227321.0_1229711.0_16_32': 1,\n",
       " '1227321.0_1229711.0_16_48': 0,\n",
       " '1227321.0_1229711.0_32_0': 0,\n",
       " '1227321.0_1229711.0_32_16': 1,\n",
       " '1227321.0_1229711.0_32_32': 1,\n",
       " '1227321.0_1229711.0_32_48': 0,\n",
       " '1227321.0_1229711.0_48_0': 0,\n",
       " '1227321.0_1229711.0_48_16': 0,\n",
       " '1227321.0_1229711.0_48_32': 0,\n",
       " '1227321.0_1229711.0_48_48': 0,\n",
       " '1227495.0_0_0': 0,\n",
       " '1227495.0_0_16': 0,\n",
       " '1227495.0_0_32': 0,\n",
       " '1227495.0_0_48': 0,\n",
       " '1227495.0_16_0': 0,\n",
       " '1227495.0_16_16': 1,\n",
       " '1227495.0_16_32': 1,\n",
       " '1227495.0_16_48': 0,\n",
       " '1227495.0_32_0': 0,\n",
       " '1227495.0_32_16': 1,\n",
       " '1227495.0_32_32': 1,\n",
       " '1227495.0_32_48': 0,\n",
       " '1227495.0_48_0': 0,\n",
       " '1227495.0_48_16': 0,\n",
       " '1227495.0_48_32': 0,\n",
       " '1227495.0_48_48': 0,\n",
       " '1227663.0_0_0': 0,\n",
       " '1227663.0_0_16': 0,\n",
       " '1227663.0_0_32': 0,\n",
       " '1227663.0_0_48': 0,\n",
       " '1227663.0_16_0': 0,\n",
       " '1227663.0_16_16': 1,\n",
       " '1227663.0_16_32': 1,\n",
       " '1227663.0_16_48': 0,\n",
       " '1227663.0_32_0': 1,\n",
       " '1227663.0_32_16': 1,\n",
       " '1227663.0_32_32': 1,\n",
       " '1227663.0_32_48': 0,\n",
       " '1227663.0_48_0': 0,\n",
       " '1227663.0_48_16': 0,\n",
       " '1227663.0_48_32': 0,\n",
       " '1227663.0_48_48': 0,\n",
       " '1230818.0_0_0': 0,\n",
       " '1230818.0_0_16': 0,\n",
       " '1230818.0_0_32': 0,\n",
       " '1230818.0_0_48': 0,\n",
       " '1230818.0_16_0': 0,\n",
       " '1230818.0_16_16': 1,\n",
       " '1230818.0_16_32': 1,\n",
       " '1230818.0_16_48': 0,\n",
       " '1230818.0_32_0': 0,\n",
       " '1230818.0_32_16': 1,\n",
       " '1230818.0_32_32': 1,\n",
       " '1230818.0_32_48': 0,\n",
       " '1230818.0_48_0': 0,\n",
       " '1230818.0_48_16': 0,\n",
       " '1230818.0_48_32': 0,\n",
       " '1230818.0_48_48': 0}"
      ]
     },
     "execution_count": 27,
     "metadata": {},
     "output_type": "execute_result"
    }
   ],
   "source": [
    "eval_field_labels"
   ]
  },
  {
   "cell_type": "code",
   "execution_count": 25,
   "metadata": {},
   "outputs": [
    {
     "name": "stdout",
     "output_type": "stream",
     "text": [
      "Accuracy: 0.5737704918032787\n",
      "Precision: [0.5        0.57894737]\n",
      "Recall: [0.07692308 0.94285714]\n",
      "F1-score: [0.13333333 0.7173913 ]\n",
      "F2-score: 0.8375634517766497\n"
     ]
    }
   ],
   "source": [
    "acc, precision, recall, f1_score, f2_score = evaluate_clustering_metrics(eval_field_labels, config.labels_path)\n",
    "print(\"Accuracy:\",acc)\n",
    "print(\"Precision:\",precision)\n",
    "print(\"Recall:\",recall)\n",
    "print(\"F1-score:\",f1_score)\n",
    "print(\"F2-score:\", f2_score)"
   ]
  },
  {
   "cell_type": "markdown",
   "metadata": {},
   "source": [
    "New code:"
   ]
  },
  {
   "cell_type": "code",
   "execution_count": 28,
   "metadata": {},
   "outputs": [
    {
     "name": "stdout",
     "output_type": "stream",
     "text": [
      "Selected 0 = Diseased mapping\n",
      "Accuracy: 0.5737704918032787\n",
      "Precision: [0.5        0.57894737]\n",
      "Recall: [0.07692308 0.94285714]\n",
      "F1-score: [0.13333333 0.7173913 ]\n",
      "F2-score: 0.8375634517766497\n"
     ]
    }
   ],
   "source": [
    "disease, acc, precision, recall, f1_score, f2_score = evaluate_best_mapping_new(eval_coord_dl, eval_subpatch_predictions, config.labels_path, threshold)\n",
    "print(\"Accuracy:\",acc)\n",
    "print(\"Precision:\",precision)\n",
    "print(\"Recall:\",recall)\n",
    "print(\"F1-score:\",f1_score)\n",
    "print(\"F2-score:\", f2_score)"
   ]
  },
  {
   "cell_type": "code",
   "execution_count": 29,
   "metadata": {},
   "outputs": [],
   "source": [
    "# from evaluation_scripts.patch_evaluation_helper import get_clustering_accuracy\n",
    "\n",
    "# acc, precision, recall, f1, f2 = get_clustering_accuracy(field_numbers_eval, eval_subpatch_predictions, config.labels_path)\n",
    "# print(\"Accuracy:\",acc)\n",
    "# print(\"Precision:\",precision)\n",
    "# print(\"Recall:\",recall)\n",
    "# print(\"F1-score:\",f1)\n",
    "# print(\"F2-score\",f2)"
   ]
  },
  {
   "cell_type": "code",
   "execution_count": 30,
   "metadata": {},
   "outputs": [],
   "source": [
    "train_field_labels = assign_field_labels_ae_train(combined_train_coords, train_subpatch_predictions, disease, threshold) #for box drawing"
   ]
  },
  {
   "cell_type": "code",
   "execution_count": 32,
   "metadata": {},
   "outputs": [],
   "source": [
    "# with open(config.ae_b10_path, 'wb') as file:\n",
    "#     pickle.dump(trained_model, file)"
   ]
  },
  {
   "cell_type": "code",
   "execution_count": 33,
   "metadata": {},
   "outputs": [],
   "source": [
    "# with open(config.kmeans_ae_b10_path, 'wb') as file:\n",
    "#     pickle.dump(kmeans, file)"
   ]
  },
  {
   "cell_type": "code",
   "execution_count": 51,
   "metadata": {},
   "outputs": [
    {
     "name": "stdout",
     "output_type": "stream",
     "text": [
      "torch.Size([7, 12, 16, 16])\n",
      "(16, 16, 12)\n",
      "(16, 16, 12)\n",
      "(16, 16, 12)\n",
      "(16, 16, 12)\n",
      "(16, 16, 12)\n",
      "(16, 16, 12)\n",
      "(16, 16, 12)\n"
     ]
    },
    {
     "data": {
      "image/png": "[encoded data removed]",
      "text/plain": [
       "<Figure size 2000x500 with 7 Axes>"
      ]
     },
     "metadata": {},
     "output_type": "display_data"
    }
   ],
   "source": [
    "for imgs, _ in dataloader_eval: # CxTxHxW\n",
    "    img = np.transpose(imgs[4], (1, 0, 2, 3))   # TxCxHxW\n",
    "    print(img.shape)\n",
    "    visualize_temporal_stack_rgb(img,acquisition_dates_eval[0])\n",
    "    break"
   ]
  },
  {
   "cell_type": "code",
   "execution_count": 34,
   "metadata": {},
   "outputs": [
    {
     "name": "stderr",
     "output_type": "stream",
     "text": [
      "Clipping input data to the valid range for imshow with RGB data ([0..1] for floats or [0..255] for integers).\n",
      "Clipping input data to the valid range for imshow with RGB data ([0..1] for floats or [0..255] for integers).\n",
      "Clipping input data to the valid range for imshow with RGB data ([0..1] for floats or [0..255] for integers).\n",
      "Clipping input data to the valid range for imshow with RGB data ([0..1] for floats or [0..255] for integers).\n",
      "Clipping input data to the valid range for imshow with RGB data ([0..1] for floats or [0..255] for integers).\n"
     ]
    },
    {
     "data": {
      "image/png": "[encoded data removed]",
      "text/plain": [
       "<Figure size 1000x1000 with 10 Axes>"
      ]
     },
     "metadata": {},
     "output_type": "display_data"
    }
   ],
   "source": [
    "plot_reconstructed_images(trained_model, dataloader_eval, 5, device)"
   ]
  },
  {
   "cell_type": "code",
   "execution_count": null,
   "metadata": {},
   "outputs": [],
   "source": []
  },
  {
   "cell_type": "code",
   "execution_count": null,
   "metadata": {},
   "outputs": [],
   "source": []
  },
  {
   "cell_type": "markdown",
   "metadata": {},
   "source": [
    "## Architecture 2: Conv2D Autoencoder with Time as Channels"
   ]
  },
  {
   "cell_type": "code",
   "execution_count": null,
   "metadata": {},
   "outputs": [],
   "source": [
    "class Conv2DAutoencoder(nn.Module):\n",
    "    def __init__(self, in_channels, time_steps, latent_size, patch_size):\n",
    "        super(Conv2DAutoencoder, self).__init__()\n",
    "\n",
    "        self.time_steps = time_steps\n",
    "        self.in_channels = in_channels\n",
    "\n",
    "        # --- Encoder (2D Convolutions, treating time steps as channels) ---\n",
    "        self.conv1 = nn.Conv2d(in_channels * time_steps, 64, kernel_size=3, stride=1, padding=1)\n",
    "        self.conv2 = nn.Conv2d(64, 128, kernel_size=3, stride=1, padding=1)\n",
    "        self.conv3 = nn.Conv2d(128, 256, kernel_size=3, stride=1, padding=1)\n",
    "\n",
    "        # --- Fully Connected Latent Space ---\n",
    "        self.flatten = nn.Flatten()\n",
    "        self.fc1 = nn.Linear(256 * patch_size * patch_size, 512)\n",
    "        self.fc2 = nn.Linear(512, latent_size)\n",
    "\n",
    "        # --- Decoder (Fully Connected) ---\n",
    "        self.fc3 = nn.Linear(latent_size, 512)\n",
    "        self.fc4 = nn.Linear(512, 256 * patch_size * patch_size)\n",
    "\n",
    "        # --- 2D Deconvolutions ---\n",
    "        self.deconv1 = nn.ConvTranspose2d(256, 128, kernel_size=3, stride=1, padding=1)\n",
    "        self.deconv2 = nn.ConvTranspose2d(128, 64, kernel_size=3, stride=1, padding=1)\n",
    "        self.deconv3 = nn.ConvTranspose2d(64, in_channels * time_steps, kernel_size=3, stride=1, padding=1)\n",
    "\n",
    "    def forward(self, x):\n",
    "        \n",
    "        # --- Encoder ---\n",
    "        b, c, t, h, w = x.shape\n",
    "        x = x.view(b, c * t, h, w)      # Imp: Time steps as additional channels (B, C * D, H, W)\n",
    "        # print(x.shape)\n",
    "\n",
    "        x = F.relu(self.conv1(x))\n",
    "        x = F.relu(self.conv2(x))\n",
    "        x = F.relu(self.conv3(x))\n",
    "\n",
    "        # --- Flatten and Fully Connected ---\n",
    "        x = self.flatten(x)\n",
    "        x = F.relu(self.fc1(x))\n",
    "        z = self.fc2(x)\n",
    "\n",
    "        # print(x.shape)\n",
    "\n",
    "        # --- Decoder ---\n",
    "        x = F.relu(self.fc3(z))\n",
    "        x = F.relu(self.fc4(x))\n",
    "\n",
    "        # --- 2D Deconvolutions ---\n",
    "        x = x.view(b, 256, h, w)        \n",
    "        # print(x.shape)\n",
    "        x = F.relu(self.deconv1(x))\n",
    "        x = F.relu(self.deconv2(x))\n",
    "        x = self.deconv3(x)\n",
    "        # print(x.shape)\n",
    "\n",
    "        # --- Reshape to B x C x D x H x W ---\n",
    "        x_reconstructed = x.view(b, self.in_channels, self.time_steps, h, w) \n",
    "\n",
    "        return z, x_reconstructed\n"
   ]
  },
  {
   "cell_type": "markdown",
   "metadata": {},
   "source": [
    "### Training"
   ]
  },
  {
   "cell_type": "code",
   "execution_count": null,
   "metadata": {},
   "outputs": [],
   "source": [
    "device = 'cuda'\n",
    "epochs = 50\n",
    "lr = 0.001\n",
    "latent_dim=32\n",
    "channels = 10\n",
    "optimizer = 'Adam'\n",
    "time_steps = 7\n",
    "patch_size = config.subpatch_size\n",
    "\n",
    "model = Conv2DAutoencoder(channels, time_steps, latent_dim, config.subpatch_size)\n",
    "device = torch.device(device)  \n",
    "model.to(device)"
   ]
  },
  {
   "cell_type": "code",
   "execution_count": null,
   "metadata": {},
   "outputs": [],
   "source": [
    "trained_model, train_losses, test_losses  = train_model_ae(model, dataloader_train, dataloader_test, epochs=epochs, optimizer=optimizer, lr=lr, momentum=0.9, device=device)"
   ]
  },
  {
   "cell_type": "markdown",
   "metadata": {},
   "source": [
    "### Evaluation"
   ]
  },
  {
   "cell_type": "code",
   "execution_count": null,
   "metadata": {},
   "outputs": [],
   "source": [
    "plot_loss(train_losses, test_losses)"
   ]
  },
  {
   "cell_type": "markdown",
   "metadata": {},
   "source": [
    "Use trained Encoder part to get the features for train, test and evaluation Data"
   ]
  },
  {
   "cell_type": "code",
   "execution_count": null,
   "metadata": {},
   "outputs": [],
   "source": [
    "train_features, train_coord_dl = extract_features_ae(trained_model, dataloader_train, device)\n",
    "test_features, test_coord_dl = extract_features_ae(trained_model, dataloader_test, device)\n",
    "eval_features, eval_coord_dl = extract_features_ae(trained_model, dataloader_eval, device)\n",
    "\n",
    "train_features = train_features.cpu()\n",
    "test_features = test_features.cpu()\n",
    "eval_features = eval_features.cpu()\n",
    "\n",
    "combined_train_features = torch.cat((train_features, test_features), dim=0)\n",
    "combined_train_coords = train_coord_dl + test_coord_dl"
   ]
  },
  {
   "cell_type": "markdown",
   "metadata": {},
   "source": [
    "K-means on extracted features"
   ]
  },
  {
   "cell_type": "code",
   "execution_count": null,
   "metadata": {},
   "outputs": [],
   "source": [
    "kmeans = train_kmeans_patches(combined_train_features, n_clusters=2, random_state=42)\n",
    "\n",
    "train_subpatch_predictions = kmeans.predict(combined_train_features.reshape(combined_train_features.size(0), -1).numpy().astype(np.float32))\n",
    "eval_subpatch_predictions = kmeans.predict(eval_features.reshape(eval_features.size(0), -1).numpy().astype(np.float32))"
   ]
  },
  {
   "cell_type": "markdown",
   "metadata": {},
   "source": [
    "Convert Subpatch labels to Field labels"
   ]
  },
  {
   "cell_type": "code",
   "execution_count": null,
   "metadata": {},
   "outputs": [],
   "source": [
    "threshold = config.patch_to_field_threshold\n",
    "train_field_labels = assign_field_labels_ae(combined_train_coords, train_subpatch_predictions, threshold)\n",
    "eval_field_labels = assign_field_labels_ae(eval_coord_dl, eval_subpatch_predictions, threshold)"
   ]
  },
  {
   "cell_type": "markdown",
   "metadata": {},
   "source": [
    "Clustering Accuracy"
   ]
  },
  {
   "cell_type": "code",
   "execution_count": null,
   "metadata": {},
   "outputs": [],
   "source": [
    "acc, precision_per_class, recall_per_class, f1_per_class, fmi = evaluate_clustering_metrics(eval_field_labels, config.labels_path)\n",
    "print(\"Accuracy:\",acc)\n",
    "print(\"Precision:\",precision_per_class)\n",
    "print(\"Recall:\",recall_per_class)\n",
    "print(\"F1-score:\",f1_per_class)\n",
    "print(\"F2-score:\", fmi)"
   ]
  },
  {
   "cell_type": "code",
   "execution_count": null,
   "metadata": {},
   "outputs": [],
   "source": [
    "# with open(config.ae_b10_path, 'wb') as file:\n",
    "#     pickle.dump(trained_model, file)"
   ]
  },
  {
   "cell_type": "code",
   "execution_count": null,
   "metadata": {},
   "outputs": [],
   "source": [
    "# with open(config.kmeans_ae_b10_path, 'wb') as file:\n",
    "#     pickle.dump(kmeans, file)"
   ]
  },
  {
   "cell_type": "code",
   "execution_count": null,
   "metadata": {},
   "outputs": [],
   "source": []
  },
  {
   "cell_type": "code",
   "execution_count": null,
   "metadata": {},
   "outputs": [],
   "source": []
  },
  {
   "cell_type": "markdown",
   "metadata": {},
   "source": [
    "## Architecture 5: Conv2D Autoencoder with Residual Connections"
   ]
  },
  {
   "cell_type": "markdown",
   "metadata": {},
   "source": [
    "### Architecture"
   ]
  },
  {
   "cell_type": "code",
   "execution_count": null,
   "metadata": {},
   "outputs": [],
   "source": [
    "# class Conv2DAutoencoderRes(nn.Module):\n",
    "#     def __init__(self, in_channels, time_steps, latent_size, patch_size):\n",
    "#         super(Conv2DAutoencoderRes, self).__init__()\n",
    "\n",
    "#         self.time_steps = time_steps\n",
    "#         self.in_channels = in_channels\n",
    "\n",
    "#         # --- Encoder (2D Convolutions with Residual Connections) ---\n",
    "#         self.conv1 = nn.Conv2d(in_channels * time_steps, 64, kernel_size=3, stride=1, padding=1)\n",
    "#         self.bn1 = nn.BatchNorm2d(64)  \n",
    "#         self.conv2 = nn.Conv2d(64, 128, kernel_size=3, stride=1, padding=1)\n",
    "#         self.bn2 = nn.BatchNorm2d(128)  \n",
    "#         self.conv3 = nn.Conv2d(128, 256, kernel_size=3, stride=1, padding=1)\n",
    "#         self.bn3 = nn.BatchNorm2d(256)  \n",
    "\n",
    "#         # Skip connections\n",
    "#         self.skip_conv1 = nn.Conv2d(in_channels * time_steps, 64, kernel_size=1, stride=1, padding=0)\n",
    "#         self.skip_conv2 = nn.Conv2d(64, 128, kernel_size=1, stride=1, padding=0)\n",
    "#         self.skip_conv3 = nn.Conv2d(128, 256, kernel_size=1, stride=1, padding=0)\n",
    "\n",
    "#         # --- Fully Connected Latent Space ---\n",
    "#         self.flatten = nn.Flatten()\n",
    "#         self.fc1 = nn.Linear(256 * patch_size * patch_size, 512)\n",
    "#         self.fc2 = nn.Linear(512, latent_size)\n",
    "\n",
    "#         # --- Decoder (Fully Connected) ---\n",
    "#         self.fc3 = nn.Linear(latent_size, 512)\n",
    "#         self.fc4 = nn.Linear(512, 256 * patch_size * patch_size)\n",
    "\n",
    "#         # --- Decoder (2D Deconvolutions) ---\n",
    "#         self.deconv1 = nn.ConvTranspose2d(256, 128, kernel_size=3, stride=1, padding=1)\n",
    "#         self.bn4 = nn.BatchNorm2d(128)  \n",
    "#         self.deconv2 = nn.ConvTranspose2d(128, 64, kernel_size=3, stride=1, padding=1)\n",
    "#         self.bn5 = nn.BatchNorm2d(64)  \n",
    "#         self.deconv3 = nn.ConvTranspose2d(64, in_channels * time_steps, kernel_size=3, stride=1, padding=1)\n",
    "\n",
    "#         # Skip connections for decoder\n",
    "#         self.skip_conv4 = nn.ConvTranspose2d(256, 128, kernel_size=1, stride=1, padding=0)\n",
    "#         self.skip_conv5 = nn.ConvTranspose2d(128, 64, kernel_size=1, stride=1, padding=0)\n",
    "\n",
    "#     def forward(self, x):\n",
    "#         # --- Encoder ---\n",
    "#         b, c, t, h, w = x.shape\n",
    "#         x = x.view(b, c * t, h, w)          # Imp: Merge time steps into channels (B, C * D, H, W)\n",
    "\n",
    "#         # Residual Block 1\n",
    "#         skip_x = self.skip_conv1(x)  \n",
    "#         x = F.relu(self.bn1(self.conv1(x)))  \n",
    "#         x = x + skip_x  # Residual connection\n",
    "\n",
    "#         # Residual Block 2\n",
    "#         skip_x = self.skip_conv2(x)\n",
    "#         x = F.relu(self.bn2(self.conv2(x)))  \n",
    "#         x = x + skip_x  # Residual connection\n",
    "\n",
    "#         # Residual Block 3\n",
    "#         skip_x = self.skip_conv3(x)\n",
    "#         x = F.relu(self.bn3(self.conv3(x)))  \n",
    "#         x = x + skip_x  # Residual connection\n",
    "\n",
    "#         # --- Flatten and Fully Connected ---\n",
    "#         x = self.flatten(x)\n",
    "#         x = F.relu(self.fc1(x))\n",
    "#         z = self.fc2(x)\n",
    "\n",
    "#         # --- Decoder ---\n",
    "#         x = F.relu(self.fc3(z))\n",
    "#         x = F.relu(self.fc4(x))\n",
    "\n",
    "#         # --- 2D Deconvolutions ---\n",
    "#         x = x.view(b, 256, h, w)\n",
    "\n",
    "#         # Residual Block 4\n",
    "#         skip_x = self.skip_conv4(x)  \n",
    "#         x = F.relu(self.bn4(self.deconv1(x)))  \n",
    "#         x = x + skip_x  # Residual connection\n",
    "\n",
    "#         # Residual Block 5\n",
    "#         skip_x = self.skip_conv5(x)  \n",
    "#         x = F.relu(self.bn5(self.deconv2(x)))  \n",
    "#         x = x + skip_x  # Residual connection\n",
    "\n",
    "#         x = self.deconv3(x)\n",
    "\n",
    "#         # --- Reshape to B x C x D x H x W ---\n",
    "#         x_reconstructed = x.view(b, self.in_channels, self.time_steps, h, w)\n",
    "\n",
    "#         return z, x_reconstructed\n"
   ]
  },
  {
   "cell_type": "code",
   "execution_count": null,
   "metadata": {},
   "outputs": [],
   "source": [
    "class ResidualBlock(nn.Module):\n",
    "    def __init__(self, in_channels, out_channels, kernel_size=3, stride=1, padding=1, transpose=False):\n",
    "        super(ResidualBlock, self).__init__()\n",
    "        if transpose:\n",
    "            self.conv = nn.ConvTranspose2d(in_channels, out_channels, kernel_size, stride, padding)\n",
    "        else:\n",
    "            self.conv = nn.Conv2d(in_channels, out_channels, kernel_size, stride, padding)\n",
    "        self.bn = nn.BatchNorm2d(out_channels)\n",
    "        self.skip_conv = nn.Conv2d(in_channels, out_channels, kernel_size=1, stride=stride, padding=0)\n",
    "\n",
    "    def forward(self, x):\n",
    "        skip_x = self.skip_conv(x)\n",
    "        x = F.relu(self.bn(self.conv(x)))\n",
    "        x = x + skip_x  # Residual connection\n",
    "        return x\n",
    "\n",
    "\n",
    "class Conv2DAutoencoderRes(nn.Module):\n",
    "    def __init__(self, in_channels, time_steps, latent_size, patch_size):\n",
    "        super(Conv2DAutoencoderRes, self).__init__()\n",
    "\n",
    "        self.time_steps = time_steps\n",
    "        self.in_channels = in_channels\n",
    "        self.patch_size = patch_size\n",
    "\n",
    "        # --- Encoder ---\n",
    "        self.res_block1 = ResidualBlock(in_channels * time_steps, 64)\n",
    "        self.res_block2 = ResidualBlock(64, 128)\n",
    "        self.res_block3 = ResidualBlock(128, 256)\n",
    "\n",
    "        # --- Fully Connected Latent Space ---\n",
    "        self.flatten = nn.Flatten()\n",
    "        self.fc1 = nn.Linear(256 * patch_size * patch_size, 512)\n",
    "        self.fc2 = nn.Linear(512, latent_size)\n",
    "\n",
    "        # --- Decoder ---\n",
    "        self.fc3 = nn.Linear(latent_size, 512)\n",
    "        self.fc4 = nn.Linear(512, 256 * patch_size * patch_size)\n",
    "\n",
    "        # --- Decoder Residual Blocks with ConvTranspose2d (for upsampling) ---\n",
    "        self.deconv_block1 = ResidualBlock(256, 128, transpose=True)\n",
    "        self.deconv_block2 = ResidualBlock(128, 64, transpose=True)\n",
    "        self.deconv_block3 = nn.ConvTranspose2d(64, in_channels * time_steps, kernel_size=3, stride=1, padding=1)\n",
    "\n",
    "    def forward(self, x):\n",
    "        # Reshape input to (B, C * T, H, W)\n",
    "        b, c, t, h, w = x.shape\n",
    "        x = x.view(b, c * t, h, w)\n",
    "\n",
    "        # --- Encoder ---\n",
    "        x = self.res_block1(x)\n",
    "        x = self.res_block2(x)\n",
    "        x = self.res_block3(x)\n",
    "\n",
    "        # --- Latent Space ---\n",
    "        x = self.flatten(x)\n",
    "        x = F.relu(self.fc1(x))\n",
    "        z = self.fc2(x)\n",
    "\n",
    "        # --- Decoder ---\n",
    "        x = F.relu(self.fc3(z))\n",
    "        x = F.relu(self.fc4(x))\n",
    "\n",
    "        # Reshape for deconvolution\n",
    "        x = x.view(b, 256, h, w)\n",
    "\n",
    "        # Decoder with residual blocks (upsampling with ConvTranspose2d)\n",
    "        x = self.deconv_block1(x)\n",
    "        x = self.deconv_block2(x)\n",
    "        x = self.deconv_block3(x)\n",
    "\n",
    "        # Reshape output back to (B, C, T, H, W)\n",
    "        x_reconstructed = x.view(b, self.in_channels, self.time_steps, h, w)\n",
    "\n",
    "        return z, x_reconstructed\n"
   ]
  },
  {
   "cell_type": "markdown",
   "metadata": {},
   "source": [
    "### Training"
   ]
  },
  {
   "cell_type": "code",
   "execution_count": null,
   "metadata": {},
   "outputs": [],
   "source": [
    "device = 'cuda'\n",
    "epochs = 50\n",
    "lr = 0.001\n",
    "latent_dim=32\n",
    "channels = 10\n",
    "time_steps = 7\n",
    "momentum=0.9\n",
    "optimizer='Adam'\n",
    "patch_size = config.subpatch_size\n",
    "\n",
    "model = Conv2DAutoencoderRes(channels, time_steps, latent_dim, config.subpatch_size)\n",
    "device = torch.device(device)  \n",
    "model.to(device)"
   ]
  },
  {
   "cell_type": "code",
   "execution_count": null,
   "metadata": {},
   "outputs": [],
   "source": [
    "trained_model, train_losses, test_losses  = train_model_ae(model, dataloader_train, dataloader_test, epochs=epochs, optimizer=optimizer, lr=lr, momentum=momentum, device=device)"
   ]
  },
  {
   "cell_type": "markdown",
   "metadata": {},
   "source": [
    "### Evaluation"
   ]
  },
  {
   "cell_type": "code",
   "execution_count": null,
   "metadata": {},
   "outputs": [],
   "source": [
    "plot_loss(train_losses, test_losses)"
   ]
  },
  {
   "cell_type": "markdown",
   "metadata": {},
   "source": [
    "Use trained Encoder part to get the features for train, test and evaluation Data"
   ]
  },
  {
   "cell_type": "code",
   "execution_count": null,
   "metadata": {},
   "outputs": [],
   "source": [
    "train_features, train_coord_dl = extract_features_ae(trained_model, dataloader_train, device)\n",
    "test_features, test_coord_dl = extract_features_ae(trained_model, dataloader_test, device)\n",
    "eval_features, eval_coord_dl = extract_features_ae(trained_model, dataloader_eval, device)\n",
    "\n",
    "train_features = train_features.cpu()\n",
    "test_features = test_features.cpu()\n",
    "eval_features = eval_features.cpu()\n",
    "\n",
    "combined_train_features = torch.cat((train_features, test_features), dim=0)\n",
    "combined_train_coords = train_coord_dl + test_coord_dl"
   ]
  },
  {
   "cell_type": "markdown",
   "metadata": {},
   "source": [
    "K-means on extracted features"
   ]
  },
  {
   "cell_type": "code",
   "execution_count": null,
   "metadata": {},
   "outputs": [],
   "source": [
    "kmeans = train_kmeans_patches(combined_train_features, n_clusters=2, random_state=33)\n",
    "\n",
    "train_subpatch_predictions = kmeans.predict(combined_train_features.reshape(combined_train_features.size(0), -1).numpy().astype(np.float32))\n",
    "eval_subpatch_predictions = kmeans.predict(eval_features.reshape(eval_features.size(0), -1).numpy().astype(np.float32))"
   ]
  },
  {
   "cell_type": "markdown",
   "metadata": {},
   "source": [
    "Convert Subpatch labels to Field labels"
   ]
  },
  {
   "cell_type": "code",
   "execution_count": null,
   "metadata": {},
   "outputs": [],
   "source": [
    "threshold = config.patch_to_field_threshold\n",
    "train_field_labels = assign_field_labels_ae(combined_train_coords, train_subpatch_predictions, threshold)\n",
    "eval_field_labels = assign_field_labels_ae(eval_coord_dl, eval_subpatch_predictions, threshold)"
   ]
  },
  {
   "cell_type": "markdown",
   "metadata": {},
   "source": [
    "Accuracy and Classification Report"
   ]
  },
  {
   "cell_type": "code",
   "execution_count": null,
   "metadata": {},
   "outputs": [],
   "source": [
    "# accuracy, report, cm, x_y_coords = evaluate_test_labels_ae(eval_field_labels, config.labels_path)\n",
    "# print(f\"Evaluation Accuracy: {accuracy}\")\n",
    "# print(report)"
   ]
  },
  {
   "cell_type": "markdown",
   "metadata": {},
   "source": [
    "Clustering Accuracy"
   ]
  },
  {
   "cell_type": "code",
   "execution_count": null,
   "metadata": {},
   "outputs": [],
   "source": [
    "acc, precision_per_class, recall_per_class, f1_per_class, fmi = evaluate_clustering_metrics(eval_field_labels, config.labels_path)\n",
    "print(\"Accuracy:\",acc)\n",
    "print(\"Precision:\",precision_per_class)\n",
    "print(\"Recall:\",recall_per_class)\n",
    "print(\"F1-score:\",f1_per_class)\n",
    "print(\"F2-score:\", fmi)"
   ]
  },
  {
   "cell_type": "code",
   "execution_count": null,
   "metadata": {},
   "outputs": [],
   "source": [
    "with open(config.ae_b10_path, 'wb') as file:\n",
    "    pickle.dump(trained_model, file)"
   ]
  },
  {
   "cell_type": "code",
   "execution_count": null,
   "metadata": {},
   "outputs": [],
   "source": [
    "with open(config.kmeans_ae_b10_path, 'wb') as file:\n",
    "    pickle.dump(kmeans, file)"
   ]
  },
  {
   "cell_type": "markdown",
   "metadata": {},
   "source": [
    "## Autoencoders with LSTMs"
   ]
  },
  {
   "cell_type": "markdown",
   "metadata": {},
   "source": [
    "### Loading the pre-processed data\n",
    "\n",
    "Data: Extracted and Pre-processed Patches (each patch containing a sugarbeet field)\n",
    "\n",
    "Dimensions: (N, T, C, H, W) = (N, 7, 10, 64, 64)"
   ]
  },
  {
   "cell_type": "code",
   "execution_count": null,
   "metadata": {},
   "outputs": [
    {
     "data": {
      "text/plain": [
       "(torch.Size([2425, 7, 12, 64, 64]), torch.Size([48, 7, 12, 64, 64]))"
      ]
     },
     "metadata": {},
     "output_type": "display_data"
    }
   ],
   "source": [
    "preprocessing_pipeline = PreProcessingPipelineTemporal()\n",
    "field_numbers_train, acquisition_dates_train, patch_tensor_train, images_visualisation_train = preprocessing_pipeline.get_processed_temporal_cubes('train', 'b10t', method='sin-cos')\n",
    "field_numbers_eval, acquisition_dates_eval, patch_tensor_eval, images_visualisation_eval = preprocessing_pipeline.get_processed_temporal_cubes('eval', 'b10t', method='sin-cos')\n",
    "patch_tensor_train.shape, patch_tensor_eval.shape"
   ]
  },
  {
   "cell_type": "code",
   "execution_count": null,
   "metadata": {},
   "outputs": [
    {
     "data": {
      "text/plain": [
       "(torch.Size([38800, 7, 12, 16, 16]), torch.Size([768, 7, 12, 16, 16]))"
      ]
     },
     "metadata": {},
     "output_type": "display_data"
    }
   ],
   "source": [
    "train_subpatches, train_subpatch_coords = non_overlapping_sliding_window(patch_tensor_train, field_numbers_train, patch_size=config.subpatch_size)\n",
    "eval_subpatches, eval_subpatch_coords = non_overlapping_sliding_window(patch_tensor_eval, field_numbers_eval, patch_size=config.subpatch_size)\n",
    "train_subpatches.shape, eval_subpatches.shape"
   ]
  },
  {
   "cell_type": "code",
   "execution_count": null,
   "metadata": {},
   "outputs": [
    {
     "data": {
      "text/plain": [
       "'1167134.0_0_0'"
      ]
     },
     "metadata": {},
     "output_type": "display_data"
    }
   ],
   "source": [
    "train_coord_dataloader = get_string_fielddata(train_subpatch_coords)\n",
    "eval_coord_dataloader = get_string_fielddata(eval_subpatch_coords)\n",
    "train_coord_dataloader[0]"
   ]
  },
  {
   "cell_type": "code",
   "execution_count": null,
   "metadata": {},
   "outputs": [],
   "source": [
    "train_subpatches_dl, test_subpatches, train_field_numbers, test_field_numbers = train_test_split(\n",
    "    train_subpatches, train_coord_dataloader, test_size=1-config.ae_train_test_ratio, random_state=42\n",
    ")\n",
    "\n",
    "dataloader_train = create_data_loader(train_subpatches_dl, train_field_numbers, batch_size=config.ae_batch_size, shuffle=True)\n",
    "dataloader_test = create_data_loader(test_subpatches, test_field_numbers, batch_size=config.ae_batch_size, shuffle=False)\n",
    "dataloader_eval = create_data_loader(eval_subpatches, eval_coord_dataloader, batch_size=config.ae_batch_size, shuffle=False)"
   ]
  },
  {
   "cell_type": "markdown",
   "metadata": {},
   "source": [
    "### Training"
   ]
  },
  {
   "cell_type": "code",
   "execution_count": null,
   "metadata": {},
   "outputs": [],
   "source": [
    "device = 'cuda'\n",
    "epochs = 50\n",
    "lr = 0.001\n",
    "latent_dim=32\n",
    "channels = 10\n",
    "optimizer = 'Adam'\n",
    "time_steps = 7\n",
    "patch_size = config.subpatch_size\n",
    "\n",
    "model = Conv2DAutoencoder(channels, time_steps, latent_dim, config.subpatch_size)\n",
    "device = torch.device(device)  \n",
    "model.to(device)"
   ]
  },
  {
   "cell_type": "code",
   "execution_count": null,
   "metadata": {},
   "outputs": [],
   "source": [
    "trained_model, train_losses, test_losses  = train_model_ae(model, dataloader_train, dataloader_test, epochs=epochs, optimizer=optimizer, lr=lr, momentum=0.9, device=device)"
   ]
  },
  {
   "cell_type": "markdown",
   "metadata": {},
   "source": [
    "### Evaluation"
   ]
  },
  {
   "cell_type": "code",
   "execution_count": null,
   "metadata": {},
   "outputs": [],
   "source": [
    "plot_loss(train_losses, test_losses)"
   ]
  },
  {
   "cell_type": "markdown",
   "metadata": {},
   "source": [
    "## Final Images: Visualising Diseased Subpatches"
   ]
  },
  {
   "cell_type": "code",
   "execution_count": null,
   "metadata": {},
   "outputs": [],
   "source": [
    "eval_images_box = images_visualisation_eval"
   ]
  },
  {
   "cell_type": "code",
   "execution_count": null,
   "metadata": {},
   "outputs": [],
   "source": [
    "(eval_images_box[0][0].shape)"
   ]
  },
  {
   "cell_type": "code",
   "execution_count": null,
   "metadata": {},
   "outputs": [],
   "source": [
    "np.unique(eval_images_box[0][0][:,:,-2])"
   ]
  },
  {
   "cell_type": "code",
   "execution_count": null,
   "metadata": {},
   "outputs": [],
   "source": [
    "visualise_all_bands(eval_images_box[-15][3])"
   ]
  },
  {
   "cell_type": "markdown",
   "metadata": {},
   "source": [
    "-48 -26"
   ]
  },
  {
   "cell_type": "code",
   "execution_count": null,
   "metadata": {},
   "outputs": [],
   "source": [
    "visualize_temporal_stack_rgb(eval_images_box[-26])"
   ]
  },
  {
   "cell_type": "code",
   "execution_count": null,
   "metadata": {},
   "outputs": [],
   "source": [
    "np.unique(eval_images_box[-26][-1][:,:,-2])"
   ]
  },
  {
   "cell_type": "code",
   "execution_count": null,
   "metadata": {},
   "outputs": [],
   "source": [
    "draw_diseased_patches(eval_images_box, x_y_coords, config.images_save_path, config.patch_size)"
   ]
  },
  {
   "cell_type": "code",
   "execution_count": null,
   "metadata": {},
   "outputs": [],
   "source": []
  }
 ],
 "metadata": {
  "kernelspec": {
   "display_name": "Python 3",
   "language": "python",
   "name": "python3"
  },
  "language_info": {
   "codemirror_mode": {
    "name": "ipython",
    "version": 3
   },
   "file_extension": ".py",
   "mimetype": "text/x-python",
   "name": "python",
   "nbconvert_exporter": "python",
   "pygments_lexer": "ipython3",
   "version": "3.8.10"
  }
 },
 "nbformat": 4,
 "nbformat_minor": 2
}
