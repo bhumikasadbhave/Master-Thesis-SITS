{
 "cells": [
  {
   "cell_type": "markdown",
   "metadata": {},
   "source": [
    "## Imports"
   ]
  },
  {
   "cell_type": "code",
   "execution_count": 1,
   "metadata": {},
   "outputs": [],
   "source": [
    "%load_ext autoreload\n",
    "%autoreload 2"
   ]
  },
  {
   "cell_type": "code",
   "execution_count": 2,
   "metadata": {},
   "outputs": [],
   "source": [
    "import os, sys\n",
    "from pathlib import Path\n",
    "\n",
    "os.environ['PYTORCH_ENABLE_MPS_FALLBACK'] = '1'\n",
    "sys.path.append('/home/k64835/Master-Thesis-SITS')\n",
    "\n",
    "scripts_path = Path(\"../Data-Preprocessing/\").resolve()\n",
    "sys.path.append(str(scripts_path))\n",
    "\n",
    "scripts_path = Path(\"../Evaluation/\").resolve()\n",
    "sys.path.append(str(scripts_path))"
   ]
  },
  {
   "cell_type": "code",
   "execution_count": 3,
   "metadata": {},
   "outputs": [],
   "source": [
    "import pickle\n",
    "from sklearn.cluster import KMeans\n",
    "from sklearn.neighbors import NearestCentroid\n",
    "from scripts.data_visualiser import *\n",
    "from sklearn.manifold import TSNE \n",
    "import torch.nn.functional as F\n",
    "from sklearn.model_selection import train_test_split\n",
    "from model_scripts.subpatch_extraction import *\n",
    "from scripts.data_loader import *\n",
    "from scripts.data_preprocessor import *\n",
    "from scripts.temporal_data_preprocessor import *\n",
    "from scripts.temporal_data_loader import *\n",
    "from scripts.temporal_visualiser import *\n",
    "from scripts.temporal_chanel_refinement import *\n",
    "from model_scripts.model_helper import *\n",
    "from model_scripts.dataset_creation import *\n",
    "from model_scripts.train_model_ae import *\n",
    "from model_scripts.model_visualiser import *\n",
    "from model_scripts.clustering import *\n",
    "from model_scripts.train_model_dcec import *\n",
    "from evaluation_scripts.evaluation_helper import *\n",
    "from evaluation_scripts.result_visualiser import *\n",
    "from Pipeline.temporal_preprocessing_pipeline import *\n",
    "from evaluation_scripts.result_visualiser import *\n",
    "from Pipeline.temporal_preprocessing_pipeline import *\n",
    "import numpy as np\n",
    "import config as config\n",
    "from sklearn.cluster import KMeans\n",
    "from sklearn.metrics import adjusted_rand_score\n",
    "from sklearn.cluster import DBSCAN\n",
    "from sklearn.decomposition import PCA\n",
    "import skimage.measure\n",
    "import torch\n",
    "import torch.nn as nn\n",
    "import torch.optim as optim"
   ]
  },
  {
   "cell_type": "markdown",
   "metadata": {},
   "source": [
    "## Dataset prep: B10"
   ]
  },
  {
   "cell_type": "markdown",
   "metadata": {},
   "source": [
    "### Loading the pre-processed data\n",
    "\n",
    "Data: Extracted and Pre-processed Patches (each patch containing a sugarbeet field)\n",
    "\n",
    "Dimensions: (N, T, C, H, W) = (N, 7, 10, 64, 64)"
   ]
  },
  {
   "cell_type": "code",
   "execution_count": 4,
   "metadata": {},
   "outputs": [
    {
     "data": {
      "text/plain": [
       "(torch.Size([2425, 7, 10, 64, 64]), torch.Size([48, 7, 10, 64, 64]))"
      ]
     },
     "execution_count": 4,
     "metadata": {},
     "output_type": "execute_result"
    }
   ],
   "source": [
    "preprocessing_pipeline = PreProcessingPipelineTemporal()\n",
    "field_numbers_train, acquisition_dates_train, patch_tensor_train, images_visualisation_train = preprocessing_pipeline.get_processed_temporal_cubes('train', 'allbands')\n",
    "field_numbers_eval, acquisition_dates_eval, patch_tensor_eval, images_visualisation_eval = preprocessing_pipeline.get_processed_temporal_cubes('eval', 'allbands')\n",
    "patch_tensor_train.shape, patch_tensor_eval.shape"
   ]
  },
  {
   "cell_type": "markdown",
   "metadata": {},
   "source": [
    "### Create Sub-Patches"
   ]
  },
  {
   "cell_type": "code",
   "execution_count": 5,
   "metadata": {},
   "outputs": [
    {
     "data": {
      "text/plain": [
       "(torch.Size([39042, 7, 10, 5, 5]), torch.Size([867, 7, 10, 5, 5]))"
      ]
     },
     "execution_count": 5,
     "metadata": {},
     "output_type": "execute_result"
    }
   ],
   "source": [
    "train_subpatches, train_subpatch_coords = non_overlapping_sliding_window(patch_tensor_train, field_numbers_train, patch_size=config.subpatch_size)\n",
    "eval_subpatches, eval_subpatch_coords = non_overlapping_sliding_window(patch_tensor_eval, field_numbers_eval, patch_size=config.subpatch_size)\n",
    "train_subpatches.shape, eval_subpatches.shape"
   ]
  },
  {
   "cell_type": "markdown",
   "metadata": {},
   "source": [
    "Get field numbers and co-ordinates as string"
   ]
  },
  {
   "cell_type": "code",
   "execution_count": 6,
   "metadata": {},
   "outputs": [
    {
     "data": {
      "text/plain": [
       "'1167134.0_25_25'"
      ]
     },
     "execution_count": 6,
     "metadata": {},
     "output_type": "execute_result"
    }
   ],
   "source": [
    "train_coord_dataloader = get_string_fielddata(train_subpatch_coords)\n",
    "eval_coord_dataloader = get_string_fielddata(eval_subpatch_coords)\n",
    "train_coord_dataloader[0]"
   ]
  },
  {
   "cell_type": "markdown",
   "metadata": {},
   "source": [
    "### Split Unlabeled data into 'train' and 'test' and create  Data Loaders"
   ]
  },
  {
   "cell_type": "code",
   "execution_count": 7,
   "metadata": {},
   "outputs": [
    {
     "name": "stderr",
     "output_type": "stream",
     "text": [
      "/home/k64835/Master-Thesis-SITS/Modeling/model_scripts/dataset_creation.py:11: UserWarning: To copy construct from a tensor, it is recommended to use sourceTensor.clone().detach() or sourceTensor.clone().detach().requires_grad_(True), rather than torch.tensor(sourceTensor).\n",
      "  inputs = torch.tensor(inputs, dtype=torch.float32).permute(0, 2, 1, 3, 4)   # (N, T, C, H, W) -> (N, C, T, H, W)\n"
     ]
    }
   ],
   "source": [
    "train_subpatches_dl, test_subpatches, train_field_numbers, test_field_numbers = train_test_split(\n",
    "    train_subpatches, train_coord_dataloader, test_size=1-config.ae_train_test_ratio, random_state=42\n",
    ")\n",
    "\n",
    "dataloader_train = create_data_loader(train_subpatches_dl, train_field_numbers, batch_size=config.ae_batch_size, shuffle=True)\n",
    "dataloader_test = create_data_loader(test_subpatches, test_field_numbers, batch_size=config.ae_batch_size, shuffle=False)\n",
    "dataloader_eval = create_data_loader(eval_subpatches, eval_coord_dataloader, batch_size=config.ae_batch_size, shuffle=False)"
   ]
  },
  {
   "cell_type": "markdown",
   "metadata": {},
   "source": [
    "## Architecture 1: Conv3D Autoencoder with 1D Time Convolution"
   ]
  },
  {
   "cell_type": "markdown",
   "metadata": {},
   "source": [
    "### Architecture"
   ]
  },
  {
   "cell_type": "markdown",
   "metadata": {},
   "source": [
    "Input Data: ( N x C x D x H x W )"
   ]
  },
  {
   "cell_type": "code",
   "execution_count": 10,
   "metadata": {},
   "outputs": [],
   "source": [
    "class Conv3DAutoencoder(nn.Module):\n",
    "    def __init__(self, in_channels, time_steps, latent_size, patch_size):\n",
    "        super(Conv3DAutoencoder, self).__init__()\n",
    "\n",
    "        self.time_steps = time_steps\n",
    "        self.in_channels = in_channels\n",
    "\n",
    "        # --- Encoder (3D Convolutions) ---\n",
    "        self.conv1 = nn.Conv3d(in_channels, 64, kernel_size=3, stride=1, padding=1)\n",
    "        self.conv2 = nn.Conv3d(64, 128, kernel_size=3, stride=1, padding=1)\n",
    "        self.conv3 = nn.Conv3d(128, 256, kernel_size=3, stride=1, padding=1)\n",
    "\n",
    "        # --- 1D Convolution (Time Aggregation) ---\n",
    "        self.conv1d = nn.Conv1d(256 * patch_size * patch_size, 256 * patch_size * patch_size, kernel_size=time_steps, stride=1, padding=0, groups=128 * patch_size * patch_size)\n",
    "\n",
    "        # --- Fully Connected Latent Space ---\n",
    "        self.flatten = nn.Flatten()\n",
    "        self.fc1 = nn.Linear(256 * patch_size * patch_size, 512)   \n",
    "        self.fc2 = nn.Linear(512, latent_size)\n",
    "\n",
    "        # --- Decoder (Fully Connected) ---\n",
    "        self.fc3 = nn.Linear(latent_size, 512)\n",
    "        self.fc4 = nn.Linear(512, 256 * patch_size * patch_size)  \n",
    "\n",
    "        # --- 1D Deconvolution to Expand Time Back ---\n",
    "        self.deconv1d = nn.ConvTranspose1d(256 * patch_size * patch_size, 256 * patch_size * patch_size, kernel_size=time_steps, stride=1, padding=0, groups=128 * patch_size * patch_size)\n",
    "\n",
    "        # --- 3D Deconvolutions ---\n",
    "        self.unflatten = nn.Unflatten(1, (256, patch_size, patch_size))\n",
    "        self.deconv1 = nn.ConvTranspose3d(256, 128, kernel_size=3, stride=1, padding=1)\n",
    "        self.deconv2 = nn.ConvTranspose3d(128, 64, kernel_size=3, stride=1, padding=1)\n",
    "        self.deconv3 = nn.ConvTranspose3d(64, in_channels, kernel_size=3, stride=1, padding=1)\n",
    "\n",
    "    def forward(self, x):\n",
    "        \n",
    "        # --- Encoder ---\n",
    "        x = F.relu(self.conv1(x))\n",
    "        x = F.relu(self.conv2(x))\n",
    "        x = F.relu(self.conv3(x))\n",
    "\n",
    "        # --- Reshape for 1D Conv ---\n",
    "        b, c, t, h, w = x.shape  \n",
    "        # print(\"x shape initial: \",x.shape)\n",
    "        x = x.view(b, c * h * w, t)                     # (batch, 800, time)\n",
    "\n",
    "        # print(f\"Shape before 1D Conv: {x.shape}\") \n",
    "        x = self.conv1d(x)                              # Time aggregation\n",
    "        # print(f\"Shape after 1D Conv: {x.shape}\")      # (batch, 800, 1)\n",
    "\n",
    "        # --- Flatten and Fully Connected ---\n",
    "        x = self.flatten(x)  \n",
    "        x = F.relu(self.fc1(x))\n",
    "        z = self.fc2(x) \n",
    "\n",
    "        # --- Decoder ---\n",
    "        x = F.relu(self.fc3(z))\n",
    "        x = F.relu(self.fc4(x)) \n",
    "\n",
    "        # --- Expand Time Back ---\n",
    "        x = x.view(b, 6400, 1)  \n",
    "        x = self.deconv1d(x) \n",
    "        # print(f\"Shape after Deconv1D: {x.shape}\")  # (batch, 800, time_steps)\n",
    "\n",
    "        # --- Reshape for 3D Deconvolutions ---\n",
    "        x = x.view(b, -1, self.time_steps, h, w)  \n",
    "        # print(\"x before unflatten\", x.shape)\n",
    "\n",
    "        # --- 3D Deconvolutions ---\n",
    "        x = F.relu(self.deconv1(x))\n",
    "        x = F.relu(self.deconv2(x))\n",
    "        x_reconstructed = self.deconv3(x)  \n",
    "\n",
    "        return z, x_reconstructed\n"
   ]
  },
  {
   "cell_type": "markdown",
   "metadata": {},
   "source": [
    "### Training"
   ]
  },
  {
   "cell_type": "code",
   "execution_count": 12,
   "metadata": {},
   "outputs": [
    {
     "data": {
      "text/plain": [
       "Conv3DAutoencoder(\n",
       "  (conv1): Conv3d(10, 64, kernel_size=(3, 3, 3), stride=(1, 1, 1), padding=(1, 1, 1))\n",
       "  (conv2): Conv3d(64, 128, kernel_size=(3, 3, 3), stride=(1, 1, 1), padding=(1, 1, 1))\n",
       "  (conv3): Conv3d(128, 256, kernel_size=(3, 3, 3), stride=(1, 1, 1), padding=(1, 1, 1))\n",
       "  (conv1d): Conv1d(6400, 6400, kernel_size=(7,), stride=(1,), groups=3200)\n",
       "  (flatten): Flatten(start_dim=1, end_dim=-1)\n",
       "  (fc1): Linear(in_features=6400, out_features=512, bias=True)\n",
       "  (fc2): Linear(in_features=512, out_features=32, bias=True)\n",
       "  (fc3): Linear(in_features=32, out_features=512, bias=True)\n",
       "  (fc4): Linear(in_features=512, out_features=6400, bias=True)\n",
       "  (deconv1d): ConvTranspose1d(6400, 6400, kernel_size=(7,), stride=(1,), groups=3200)\n",
       "  (unflatten): Unflatten(dim=1, unflattened_size=(256, 5, 5))\n",
       "  (deconv1): ConvTranspose3d(256, 128, kernel_size=(3, 3, 3), stride=(1, 1, 1), padding=(1, 1, 1))\n",
       "  (deconv2): ConvTranspose3d(128, 64, kernel_size=(3, 3, 3), stride=(1, 1, 1), padding=(1, 1, 1))\n",
       "  (deconv3): ConvTranspose3d(64, 10, kernel_size=(3, 3, 3), stride=(1, 1, 1), padding=(1, 1, 1))\n",
       ")"
      ]
     },
     "execution_count": 12,
     "metadata": {},
     "output_type": "execute_result"
    }
   ],
   "source": [
    "device = 'cuda'\n",
    "epochs = 50\n",
    "lr = 0.01\n",
    "momentum=0.9\n",
    "latent_dim=32\n",
    "channels = 10\n",
    "time_steps = 7\n",
    "optimizer = 'SGD'\n",
    "patch_size = config.subpatch_size\n",
    "\n",
    "model = Conv3DAutoencoder(channels, time_steps, latent_dim, config.subpatch_size)\n",
    "device = torch.device(device)  \n",
    "model.to(device)"
   ]
  },
  {
   "cell_type": "code",
   "execution_count": 13,
   "metadata": {},
   "outputs": [
    {
     "name": "stdout",
     "output_type": "stream",
     "text": [
      "Epoch 1/50, Train Loss: 0.017406, Test Loss: 0.006732\n",
      "Epoch 2/50, Train Loss: 0.005549, Test Loss: 0.004729\n",
      "Epoch 3/50, Train Loss: 0.004290, Test Loss: 0.003929\n",
      "Epoch 4/50, Train Loss: 0.003702, Test Loss: 0.003499\n",
      "Epoch 5/50, Train Loss: 0.003369, Test Loss: 0.003241\n",
      "Epoch 6/50, Train Loss: 0.003162, Test Loss: 0.003074\n",
      "Epoch 7/50, Train Loss: 0.003023, Test Loss: 0.002962\n",
      "Epoch 8/50, Train Loss: 0.002929, Test Loss: 0.002883\n",
      "Epoch 9/50, Train Loss: 0.002860, Test Loss: 0.002825\n",
      "Epoch 10/50, Train Loss: 0.002819, Test Loss: 0.002782\n",
      "Epoch 11/50, Train Loss: 0.002772, Test Loss: 0.002747\n",
      "Epoch 12/50, Train Loss: 0.002740, Test Loss: 0.002720\n",
      "Epoch 13/50, Train Loss: 0.002717, Test Loss: 0.002698\n",
      "Epoch 14/50, Train Loss: 0.002696, Test Loss: 0.002680\n",
      "Epoch 15/50, Train Loss: 0.002678, Test Loss: 0.002664\n",
      "Epoch 16/50, Train Loss: 0.002665, Test Loss: 0.002651\n",
      "Epoch 17/50, Train Loss: 0.002653, Test Loss: 0.002640\n",
      "Epoch 18/50, Train Loss: 0.002641, Test Loss: 0.002630\n",
      "Epoch 19/50, Train Loss: 0.002632, Test Loss: 0.002621\n",
      "Epoch 20/50, Train Loss: 0.002628, Test Loss: 0.002614\n",
      "Epoch 21/50, Train Loss: 0.002617, Test Loss: 0.002608\n",
      "Epoch 22/50, Train Loss: 0.002612, Test Loss: 0.002601\n",
      "Epoch 23/50, Train Loss: 0.002605, Test Loss: 0.002595\n",
      "Epoch 24/50, Train Loss: 0.002602, Test Loss: 0.002591\n",
      "Epoch 25/50, Train Loss: 0.002595, Test Loss: 0.002586\n",
      "Epoch 26/50, Train Loss: 0.002592, Test Loss: 0.002583\n",
      "Epoch 27/50, Train Loss: 0.002607, Test Loss: 0.002579\n",
      "Epoch 28/50, Train Loss: 0.002585, Test Loss: 0.002576\n",
      "Epoch 29/50, Train Loss: 0.002583, Test Loss: 0.002572\n",
      "Epoch 30/50, Train Loss: 0.002579, Test Loss: 0.002570\n",
      "Epoch 31/50, Train Loss: 0.002579, Test Loss: 0.002568\n",
      "Epoch 32/50, Train Loss: 0.002582, Test Loss: 0.002565\n",
      "Epoch 33/50, Train Loss: 0.002571, Test Loss: 0.002563\n",
      "Epoch 34/50, Train Loss: 0.002569, Test Loss: 0.002561\n",
      "Epoch 35/50, Train Loss: 0.002566, Test Loss: 0.002559\n",
      "Epoch 36/50, Train Loss: 0.002566, Test Loss: 0.002557\n",
      "Epoch 37/50, Train Loss: 0.002564, Test Loss: 0.002556\n",
      "Epoch 38/50, Train Loss: 0.002565, Test Loss: 0.002554\n",
      "Epoch 39/50, Train Loss: 0.002564, Test Loss: 0.002553\n",
      "Epoch 40/50, Train Loss: 0.002559, Test Loss: 0.002552\n",
      "Epoch 41/50, Train Loss: 0.002560, Test Loss: 0.002551\n",
      "Epoch 42/50, Train Loss: 0.002563, Test Loss: 0.002549\n",
      "Epoch 43/50, Train Loss: 0.002560, Test Loss: 0.002548\n",
      "Epoch 44/50, Train Loss: 0.002559, Test Loss: 0.002547\n",
      "Epoch 45/50, Train Loss: 0.002558, Test Loss: 0.002546\n",
      "Epoch 46/50, Train Loss: 0.002553, Test Loss: 0.002545\n",
      "Epoch 47/50, Train Loss: 0.002552, Test Loss: 0.002544\n",
      "Epoch 48/50, Train Loss: 0.002555, Test Loss: 0.002544\n",
      "Epoch 49/50, Train Loss: 0.002551, Test Loss: 0.002544\n",
      "Epoch 50/50, Train Loss: 0.002550, Test Loss: 0.002542\n"
     ]
    }
   ],
   "source": [
    "trained_model, train_losses, test_losses  = train_model_ae(model, dataloader_train, dataloader_test, epochs=epochs, optimizer=optimizer, lr=lr, momentum=momentum, device=device)"
   ]
  },
  {
   "cell_type": "markdown",
   "metadata": {},
   "source": [
    "### Evaluation"
   ]
  },
  {
   "cell_type": "code",
   "execution_count": 14,
   "metadata": {},
   "outputs": [
    {
     "data": {
      "image/png": "[encoded data removed]",
      "text/plain": [
       "<Figure size 800x500 with 1 Axes>"
      ]
     },
     "metadata": {},
     "output_type": "display_data"
    }
   ],
   "source": [
    "plot_loss_log_scale(train_losses, test_losses)"
   ]
  },
  {
   "cell_type": "markdown",
   "metadata": {},
   "source": [
    "Use trained Encoder part to get the features for train, test and evaluation Data"
   ]
  },
  {
   "cell_type": "code",
   "execution_count": 33,
   "metadata": {},
   "outputs": [],
   "source": [
    "train_features, train_coord_dl = extract_features_ae(trained_model, dataloader_train, device)\n",
    "test_features, test_coord_dl = extract_features_ae(trained_model, dataloader_test, device)\n",
    "eval_features, eval_coord_dl = extract_features_ae(trained_model, dataloader_eval, device)\n",
    "\n",
    "train_features = train_features.cpu()\n",
    "test_features = test_features.cpu()\n",
    "eval_features = eval_features.cpu()\n",
    "\n",
    "combined_train_features = torch.cat((train_features, test_features), dim=0)\n",
    "combined_train_coords = train_coord_dl + test_coord_dl"
   ]
  },
  {
   "cell_type": "markdown",
   "metadata": {},
   "source": [
    "K-means on extracted features"
   ]
  },
  {
   "cell_type": "code",
   "execution_count": 42,
   "metadata": {},
   "outputs": [
    {
     "name": "stderr",
     "output_type": "stream",
     "text": [
      "/home/k64835/.local/lib/python3.8/site-packages/sklearn/cluster/_kmeans.py:1416: FutureWarning: The default value of `n_init` will change from 10 to 'auto' in 1.4. Set the value of `n_init` explicitly to suppress the warning\n",
      "  super()._check_params_vs_input(X, default_n_init=10)\n"
     ]
    }
   ],
   "source": [
    "kmeans = train_kmeans_patches(combined_train_features, n_clusters=2, random_state=21)\n",
    "\n",
    "train_subpatch_predictions = kmeans.predict(combined_train_features.reshape(combined_train_features.size(0), -1).numpy().astype(np.float32))\n",
    "eval_subpatch_predictions = kmeans.predict(eval_features.reshape(eval_features.size(0), -1).numpy().astype(np.float32))"
   ]
  },
  {
   "cell_type": "markdown",
   "metadata": {},
   "source": [
    "Convert Subpatch labels to Field labels"
   ]
  },
  {
   "cell_type": "code",
   "execution_count": 43,
   "metadata": {},
   "outputs": [],
   "source": [
    "threshold = config.patch_to_field_threshold\n",
    "train_field_labels = assign_field_labels_ae(combined_train_coords, train_subpatch_predictions, threshold)\n",
    "eval_field_labels = assign_field_labels_ae(eval_coord_dl, eval_subpatch_predictions, threshold)"
   ]
  },
  {
   "cell_type": "markdown",
   "metadata": {},
   "source": [
    "Accuracy and Classification Report"
   ]
  },
  {
   "cell_type": "code",
   "execution_count": 44,
   "metadata": {},
   "outputs": [],
   "source": [
    "# accuracy, report, cm, x_y_coords = evaluate_test_labels_ae(eval_field_labels, config.labels_path)\n",
    "# print(f\"Evaluation Accuracy: {accuracy}\")\n",
    "# print(report)"
   ]
  },
  {
   "cell_type": "markdown",
   "metadata": {},
   "source": [
    "Clustering Accuracy"
   ]
  },
  {
   "cell_type": "code",
   "execution_count": 45,
   "metadata": {},
   "outputs": [
    {
     "name": "stdout",
     "output_type": "stream",
     "text": [
      "Accuracy: 0.5901639344262295\n",
      "Precision: [0.53333333 0.60869565]\n",
      "Recall: [0.30769231 0.8       ]\n",
      "F1-score: [0.3902439  0.69135802]\n",
      "Fowlkes-Mallows Index: 0.5663457609767676\n"
     ]
    }
   ],
   "source": [
    "acc, precision_per_class, recall_per_class, f1_per_class, fmi = evaluate_clustering_metrics(eval_field_labels, config.labels_path)\n",
    "print(\"Accuracy:\",acc)\n",
    "print(\"Precision:\",precision_per_class)\n",
    "print(\"Recall:\",recall_per_class)\n",
    "print(\"F1-score:\",f1_per_class)\n",
    "print(\"Fowlkes-Mallows Index:\", fmi)"
   ]
  },
  {
   "cell_type": "code",
   "execution_count": 49,
   "metadata": {},
   "outputs": [],
   "source": [
    "# with open(config.ae_b10_path, 'wb') as file:\n",
    "#     pickle.dump(trained_model, file)"
   ]
  },
  {
   "cell_type": "code",
   "execution_count": 48,
   "metadata": {},
   "outputs": [],
   "source": [
    "# with open(config.kmeans_ae_b10_path, 'wb') as file:\n",
    "#     pickle.dump(kmeans, file)"
   ]
  },
  {
   "cell_type": "markdown",
   "metadata": {},
   "source": [
    "## Architecture 2: Conv2D Autoencoder with Time as Channels"
   ]
  },
  {
   "cell_type": "code",
   "execution_count": 8,
   "metadata": {},
   "outputs": [],
   "source": [
    "class Conv2DAutoencoder(nn.Module):\n",
    "    def __init__(self, in_channels, time_steps, latent_size, patch_size):\n",
    "        super(Conv2DAutoencoder, self).__init__()\n",
    "\n",
    "        self.time_steps = time_steps\n",
    "        self.in_channels = in_channels\n",
    "\n",
    "        # --- Encoder (2D Convolutions, treating time steps as channels) ---\n",
    "        self.conv1 = nn.Conv2d(in_channels * time_steps, 64, kernel_size=3, stride=1, padding=1)\n",
    "        self.conv2 = nn.Conv2d(64, 128, kernel_size=3, stride=1, padding=1)\n",
    "        self.conv3 = nn.Conv2d(128, 256, kernel_size=3, stride=1, padding=1)\n",
    "\n",
    "        # --- Fully Connected Latent Space ---\n",
    "        self.flatten = nn.Flatten()\n",
    "        self.fc1 = nn.Linear(256 * patch_size * patch_size, 512)\n",
    "        self.fc2 = nn.Linear(512, latent_size)\n",
    "\n",
    "        # --- Decoder (Fully Connected) ---\n",
    "        self.fc3 = nn.Linear(latent_size, 512)\n",
    "        self.fc4 = nn.Linear(512, 256 * patch_size * patch_size)\n",
    "\n",
    "        # --- 2D Deconvolutions ---\n",
    "        self.deconv1 = nn.ConvTranspose2d(256, 128, kernel_size=3, stride=1, padding=1)\n",
    "        self.deconv2 = nn.ConvTranspose2d(128, 64, kernel_size=3, stride=1, padding=1)\n",
    "        self.deconv3 = nn.ConvTranspose2d(64, in_channels * time_steps, kernel_size=3, stride=1, padding=1)\n",
    "\n",
    "    def forward(self, x):\n",
    "        \n",
    "        # --- Encoder ---\n",
    "        b, c, t, h, w = x.shape\n",
    "        x = x.view(b, c * t, h, w)      # Imp: Time steps as additional channels (B, C * D, H, W)\n",
    "        # print(x.shape)\n",
    "\n",
    "        x = F.relu(self.conv1(x))\n",
    "        x = F.relu(self.conv2(x))\n",
    "        x = F.relu(self.conv3(x))\n",
    "\n",
    "        # --- Flatten and Fully Connected ---\n",
    "        x = self.flatten(x)\n",
    "        x = F.relu(self.fc1(x))\n",
    "        z = self.fc2(x)\n",
    "\n",
    "        # print(x.shape)\n",
    "\n",
    "        # --- Decoder ---\n",
    "        x = F.relu(self.fc3(z))\n",
    "        x = F.relu(self.fc4(x))\n",
    "\n",
    "        # --- 2D Deconvolutions ---\n",
    "        x = x.view(b, 256, h, w)        \n",
    "        # print(x.shape)\n",
    "        x = F.relu(self.deconv1(x))\n",
    "        x = F.relu(self.deconv2(x))\n",
    "        x = self.deconv3(x)\n",
    "        # print(x.shape)\n",
    "\n",
    "        # --- Reshape to B x C x D x H x W ---\n",
    "        x_reconstructed = x.view(b, self.in_channels, self.time_steps, h, w) \n",
    "\n",
    "        return z, x_reconstructed\n"
   ]
  },
  {
   "cell_type": "markdown",
   "metadata": {},
   "source": [
    "### Training"
   ]
  },
  {
   "cell_type": "code",
   "execution_count": 9,
   "metadata": {},
   "outputs": [
    {
     "data": {
      "text/plain": [
       "Conv2DAutoencoder(\n",
       "  (conv1): Conv2d(70, 64, kernel_size=(3, 3), stride=(1, 1), padding=(1, 1))\n",
       "  (conv2): Conv2d(64, 128, kernel_size=(3, 3), stride=(1, 1), padding=(1, 1))\n",
       "  (conv3): Conv2d(128, 256, kernel_size=(3, 3), stride=(1, 1), padding=(1, 1))\n",
       "  (flatten): Flatten(start_dim=1, end_dim=-1)\n",
       "  (fc1): Linear(in_features=6400, out_features=512, bias=True)\n",
       "  (fc2): Linear(in_features=512, out_features=32, bias=True)\n",
       "  (fc3): Linear(in_features=32, out_features=512, bias=True)\n",
       "  (fc4): Linear(in_features=512, out_features=6400, bias=True)\n",
       "  (deconv1): ConvTranspose2d(256, 128, kernel_size=(3, 3), stride=(1, 1), padding=(1, 1))\n",
       "  (deconv2): ConvTranspose2d(128, 64, kernel_size=(3, 3), stride=(1, 1), padding=(1, 1))\n",
       "  (deconv3): ConvTranspose2d(64, 70, kernel_size=(3, 3), stride=(1, 1), padding=(1, 1))\n",
       ")"
      ]
     },
     "execution_count": 9,
     "metadata": {},
     "output_type": "execute_result"
    }
   ],
   "source": [
    "device = 'cuda'\n",
    "epochs = 50\n",
    "lr = 0.01\n",
    "latent_dim=32\n",
    "channels = 10\n",
    "optimizer = 'SGD'\n",
    "time_steps = 7\n",
    "patch_size = config.subpatch_size\n",
    "\n",
    "model = Conv2DAutoencoder(channels, time_steps, latent_dim, config.subpatch_size)\n",
    "device = torch.device(device)  \n",
    "model.to(device)"
   ]
  },
  {
   "cell_type": "code",
   "execution_count": 10,
   "metadata": {},
   "outputs": [
    {
     "name": "stdout",
     "output_type": "stream",
     "text": [
      "Epoch 1/50, Train Loss: 0.022606, Test Loss: 0.004829\n",
      "Epoch 2/50, Train Loss: 0.004301, Test Loss: 0.003853\n",
      "Epoch 3/50, Train Loss: 0.003580, Test Loss: 0.003328\n",
      "Epoch 4/50, Train Loss: 0.003175, Test Loss: 0.003029\n",
      "Epoch 5/50, Train Loss: 0.002943, Test Loss: 0.002855\n",
      "Epoch 6/50, Train Loss: 0.002813, Test Loss: 0.002753\n",
      "Epoch 7/50, Train Loss: 0.002729, Test Loss: 0.002692\n",
      "Epoch 8/50, Train Loss: 0.002680, Test Loss: 0.002654\n",
      "Epoch 9/50, Train Loss: 0.002649, Test Loss: 0.002629\n",
      "Epoch 10/50, Train Loss: 0.002632, Test Loss: 0.002613\n",
      "Epoch 11/50, Train Loss: 0.002616, Test Loss: 0.002602\n",
      "Epoch 12/50, Train Loss: 0.002605, Test Loss: 0.002593\n",
      "Epoch 13/50, Train Loss: 0.002596, Test Loss: 0.002585\n",
      "Epoch 14/50, Train Loss: 0.002599, Test Loss: 0.002580\n",
      "Epoch 15/50, Train Loss: 0.002586, Test Loss: 0.002575\n",
      "Epoch 16/50, Train Loss: 0.002584, Test Loss: 0.002572\n",
      "Epoch 17/50, Train Loss: 0.002583, Test Loss: 0.002568\n",
      "Epoch 18/50, Train Loss: 0.002575, Test Loss: 0.002565\n",
      "Epoch 19/50, Train Loss: 0.002574, Test Loss: 0.002563\n",
      "Epoch 20/50, Train Loss: 0.002570, Test Loss: 0.002561\n",
      "Epoch 21/50, Train Loss: 0.002571, Test Loss: 0.002559\n",
      "Epoch 22/50, Train Loss: 0.002568, Test Loss: 0.002557\n",
      "Epoch 23/50, Train Loss: 0.002564, Test Loss: 0.002555\n",
      "Epoch 24/50, Train Loss: 0.002565, Test Loss: 0.002554\n",
      "Epoch 25/50, Train Loss: 0.002567, Test Loss: 0.002553\n",
      "Epoch 26/50, Train Loss: 0.002562, Test Loss: 0.002552\n",
      "Epoch 27/50, Train Loss: 0.002559, Test Loss: 0.002551\n",
      "Epoch 28/50, Train Loss: 0.002571, Test Loss: 0.002549\n",
      "Epoch 29/50, Train Loss: 0.002556, Test Loss: 0.002549\n",
      "Epoch 30/50, Train Loss: 0.002563, Test Loss: 0.002548\n",
      "Epoch 31/50, Train Loss: 0.002555, Test Loss: 0.002547\n",
      "Epoch 32/50, Train Loss: 0.002557, Test Loss: 0.002547\n",
      "Epoch 33/50, Train Loss: 0.002556, Test Loss: 0.002546\n",
      "Epoch 34/50, Train Loss: 0.002553, Test Loss: 0.002546\n",
      "Epoch 35/50, Train Loss: 0.002551, Test Loss: 0.002544\n",
      "Epoch 36/50, Train Loss: 0.002554, Test Loss: 0.002544\n",
      "Epoch 37/50, Train Loss: 0.002551, Test Loss: 0.002543\n",
      "Epoch 38/50, Train Loss: 0.002556, Test Loss: 0.002543\n",
      "Epoch 39/50, Train Loss: 0.002551, Test Loss: 0.002542\n",
      "Epoch 40/50, Train Loss: 0.002550, Test Loss: 0.002542\n",
      "Epoch 41/50, Train Loss: 0.002550, Test Loss: 0.002541\n",
      "Epoch 42/50, Train Loss: 0.002548, Test Loss: 0.002541\n",
      "Epoch 43/50, Train Loss: 0.002549, Test Loss: 0.002541\n",
      "Epoch 44/50, Train Loss: 0.002547, Test Loss: 0.002540\n",
      "Epoch 45/50, Train Loss: 0.002547, Test Loss: 0.002540\n",
      "Epoch 46/50, Train Loss: 0.002550, Test Loss: 0.002539\n",
      "Epoch 47/50, Train Loss: 0.002547, Test Loss: 0.002539\n",
      "Epoch 48/50, Train Loss: 0.002549, Test Loss: 0.002538\n",
      "Epoch 49/50, Train Loss: 0.002547, Test Loss: 0.002538\n",
      "Epoch 50/50, Train Loss: 0.002548, Test Loss: 0.002538\n"
     ]
    }
   ],
   "source": [
    "trained_model, train_losses, test_losses  = train_model_ae(model, dataloader_train, dataloader_test, epochs=epochs, optimizer='SGD', lr=lr, momentum=0.9, device=device)"
   ]
  },
  {
   "cell_type": "markdown",
   "metadata": {},
   "source": [
    "### Evaluation"
   ]
  },
  {
   "cell_type": "code",
   "execution_count": 11,
   "metadata": {},
   "outputs": [
    {
     "data": {
      "image/png": "[encoded data removed]",
      "text/plain": [
       "<Figure size 800x500 with 1 Axes>"
      ]
     },
     "metadata": {},
     "output_type": "display_data"
    }
   ],
   "source": [
    "plot_loss_log_scale(train_losses, test_losses)"
   ]
  },
  {
   "cell_type": "markdown",
   "metadata": {},
   "source": [
    "Use trained Encoder part to get the features for train, test and evaluation Data"
   ]
  },
  {
   "cell_type": "code",
   "execution_count": 12,
   "metadata": {},
   "outputs": [],
   "source": [
    "train_features, train_coord_dl = extract_features_ae(trained_model, dataloader_train, device)\n",
    "test_features, test_coord_dl = extract_features_ae(trained_model, dataloader_test, device)\n",
    "eval_features, eval_coord_dl = extract_features_ae(trained_model, dataloader_eval, device)\n",
    "\n",
    "train_features = train_features.cpu()\n",
    "test_features = test_features.cpu()\n",
    "eval_features = eval_features.cpu()\n",
    "\n",
    "combined_train_features = torch.cat((train_features, test_features), dim=0)\n",
    "combined_train_coords = train_coord_dl + test_coord_dl"
   ]
  },
  {
   "cell_type": "markdown",
   "metadata": {},
   "source": [
    "K-means on extracted features"
   ]
  },
  {
   "cell_type": "code",
   "execution_count": 13,
   "metadata": {},
   "outputs": [
    {
     "name": "stderr",
     "output_type": "stream",
     "text": [
      "/home/k64835/.local/lib/python3.8/site-packages/sklearn/cluster/_kmeans.py:1416: FutureWarning: The default value of `n_init` will change from 10 to 'auto' in 1.4. Set the value of `n_init` explicitly to suppress the warning\n",
      "  super()._check_params_vs_input(X, default_n_init=10)\n"
     ]
    }
   ],
   "source": [
    "kmeans = train_kmeans_patches(combined_train_features, n_clusters=2, random_state=22)\n",
    "\n",
    "train_subpatch_predictions = kmeans.predict(combined_train_features.reshape(combined_train_features.size(0), -1).numpy().astype(np.float32))\n",
    "eval_subpatch_predictions = kmeans.predict(eval_features.reshape(eval_features.size(0), -1).numpy().astype(np.float32))"
   ]
  },
  {
   "cell_type": "markdown",
   "metadata": {},
   "source": [
    "Convert Subpatch labels to Field labels"
   ]
  },
  {
   "cell_type": "code",
   "execution_count": 14,
   "metadata": {},
   "outputs": [],
   "source": [
    "threshold = config.patch_to_field_threshold\n",
    "train_field_labels = assign_field_labels_ae(combined_train_coords, train_subpatch_predictions, threshold)\n",
    "eval_field_labels = assign_field_labels_ae(eval_coord_dl, eval_subpatch_predictions, threshold)"
   ]
  },
  {
   "cell_type": "markdown",
   "metadata": {},
   "source": [
    "Accuracy and Classification Report"
   ]
  },
  {
   "cell_type": "code",
   "execution_count": 17,
   "metadata": {},
   "outputs": [],
   "source": [
    "# accuracy, report, cm, x_y_coords = evaluate_test_labels_ae(eval_field_labels, config.labels_path)\n",
    "# print(f\"Evaluation Accuracy: {accuracy}\")\n",
    "# print(report)"
   ]
  },
  {
   "cell_type": "markdown",
   "metadata": {},
   "source": [
    "Clustering Accuracy"
   ]
  },
  {
   "cell_type": "code",
   "execution_count": 18,
   "metadata": {},
   "outputs": [
    {
     "name": "stdout",
     "output_type": "stream",
     "text": [
      "Accuracy: 0.5573770491803278\n",
      "Precision: [0.47368421 0.5952381 ]\n",
      "Recall: [0.34615385 0.71428571]\n",
      "F1-score: [0.4        0.64935065]\n",
      "Fowlkes-Mallow Index: 0.5305872146809404\n"
     ]
    }
   ],
   "source": [
    "acc, precision_per_class, recall_per_class, f1_per_class, fmi = evaluate_clustering_metrics(eval_field_labels, config.labels_path)\n",
    "print(\"Accuracy:\",acc)\n",
    "print(\"Precision:\",precision_per_class)\n",
    "print(\"Recall:\",recall_per_class)\n",
    "print(\"F1-score:\",f1_per_class)\n",
    "print(\"Fowlkes-Mallow Index:\",fmi)"
   ]
  },
  {
   "cell_type": "code",
   "execution_count": 21,
   "metadata": {},
   "outputs": [],
   "source": [
    "# with open(config.ae_b10_path, 'wb') as file:\n",
    "#     pickle.dump(trained_model, file)"
   ]
  },
  {
   "cell_type": "code",
   "execution_count": 22,
   "metadata": {},
   "outputs": [],
   "source": [
    "# with open(config.kmeans_ae_b10_path, 'wb') as file:\n",
    "#     pickle.dump(kmeans, file)"
   ]
  },
  {
   "cell_type": "code",
   "execution_count": null,
   "metadata": {},
   "outputs": [],
   "source": []
  },
  {
   "cell_type": "code",
   "execution_count": null,
   "metadata": {},
   "outputs": [],
   "source": []
  },
  {
   "cell_type": "markdown",
   "metadata": {},
   "source": [
    "## Architecture 3: Variational Autoencoder"
   ]
  },
  {
   "cell_type": "code",
   "execution_count": 8,
   "metadata": {},
   "outputs": [],
   "source": [
    "class Conv3DVAE(nn.Module):\n",
    "    def __init__(self, in_channels, time_steps, latent_size, patch_size):\n",
    "        super(Conv3DVAE, self).__init__()\n",
    "\n",
    "        self.time_steps = time_steps\n",
    "        self.in_channels = in_channels\n",
    "\n",
    "        # --- Encoder (3D Convolutions) ---\n",
    "        self.conv1 = nn.Conv3d(in_channels, 64, kernel_size=3, stride=1, padding=1)\n",
    "        self.conv2 = nn.Conv3d(64, 128, kernel_size=3, stride=1, padding=1)\n",
    "        self.conv3 = nn.Conv3d(128, 256, kernel_size=3, stride=1, padding=1)\n",
    "\n",
    "        # --- 1D Convolution (Time Aggregation) ---\n",
    "        self.conv1d = nn.Conv1d(256 * patch_size * patch_size, 256 * patch_size * patch_size, kernel_size=time_steps, stride=1, padding=0, groups=128 * patch_size * patch_size)\n",
    "\n",
    "        # --- Fully Connected Latent Space ---\n",
    "        self.flatten = nn.Flatten()\n",
    "        self.fc1 = nn.Linear(256 * patch_size * patch_size, 512)\n",
    "        self.fc_mu = nn.Linear(512, latent_size)      # Mean\n",
    "        self.fc_logvar = nn.Linear(512, latent_size)  # Log Variance\n",
    "\n",
    "        # --- Decoder (Fully Connected) ---\n",
    "        self.fc3 = nn.Linear(latent_size, 512)\n",
    "        self.fc4 = nn.Linear(512, 256 * patch_size * patch_size)\n",
    "\n",
    "        # --- 1D Deconvolution to Expand Time Back ---\n",
    "        self.deconv1d = nn.ConvTranspose1d(256 * patch_size * patch_size, 256 * patch_size * patch_size, kernel_size=time_steps, stride=1, padding=0, groups=128 * patch_size * patch_size)\n",
    "\n",
    "        # --- 3D Deconvolutions ---\n",
    "        self.unflatten = nn.Unflatten(1, (256, patch_size, patch_size))\n",
    "        self.deconv1 = nn.ConvTranspose3d(256, 128, kernel_size=3, stride=1, padding=1)\n",
    "        self.deconv2 = nn.ConvTranspose3d(128, 64, kernel_size=3, stride=1, padding=1)\n",
    "        self.deconv3 = nn.ConvTranspose3d(64, in_channels, kernel_size=3, stride=1, padding=1)\n",
    "\n",
    "    def reparameterize(self, mu, log_var):\n",
    "        std = torch.exp(0.5 * log_var)\n",
    "        eps = torch.randn_like(std)\n",
    "        return mu + eps * std\n",
    "\n",
    "    def forward(self, x):\n",
    "        # --- Encoder ---\n",
    "        x = F.relu(self.conv1(x))\n",
    "        x = F.relu(self.conv2(x))\n",
    "        x = F.relu(self.conv3(x))\n",
    "\n",
    "        # --- Reshape for 1D Conv ---\n",
    "        b, c, t, h, w = x.shape  \n",
    "        x = x.view(b, c * h * w, t)\n",
    "        x = self.conv1d(x)             \n",
    "\n",
    "        # --- Flatten and Fully Connected ---\n",
    "        x = self.flatten(x)  \n",
    "        x = F.relu(self.fc1(x))\n",
    "        mu = self.fc_mu(x)\n",
    "        log_var = self.fc_logvar(x)\n",
    "        \n",
    "        # --- Reparameterization Trick ---\n",
    "        z = self.reparameterize(mu, log_var)\n",
    "\n",
    "        # --- Decoder ---\n",
    "        x = F.relu(self.fc3(z))\n",
    "        x = F.relu(self.fc4(x)) \n",
    "\n",
    "        # --- Expand Time Back ---\n",
    "        x = x.view(b, 256 * patch_size * patch_size, 1)\n",
    "        x = self.deconv1d(x)\n",
    "\n",
    "        # --- Reshape for 3D Deconvolutions ---\n",
    "        x = x.view(b, -1, self.time_steps, h, w)\n",
    "\n",
    "        # --- 3D Deconvolutions ---\n",
    "        x = F.relu(self.deconv1(x))\n",
    "        x = F.relu(self.deconv2(x))\n",
    "        x_reconstructed = self.deconv3(x)\n",
    "\n",
    "        return mu, log_var, z, x_reconstructed"
   ]
  },
  {
   "cell_type": "markdown",
   "metadata": {},
   "source": [
    "### Training"
   ]
  },
  {
   "cell_type": "code",
   "execution_count": 26,
   "metadata": {},
   "outputs": [
    {
     "data": {
      "text/plain": [
       "Conv3DVAE(\n",
       "  (conv1): Conv3d(10, 64, kernel_size=(3, 3, 3), stride=(1, 1, 1), padding=(1, 1, 1))\n",
       "  (conv2): Conv3d(64, 128, kernel_size=(3, 3, 3), stride=(1, 1, 1), padding=(1, 1, 1))\n",
       "  (conv3): Conv3d(128, 256, kernel_size=(3, 3, 3), stride=(1, 1, 1), padding=(1, 1, 1))\n",
       "  (conv1d): Conv1d(6400, 6400, kernel_size=(7,), stride=(1,), groups=3200)\n",
       "  (flatten): Flatten(start_dim=1, end_dim=-1)\n",
       "  (fc1): Linear(in_features=6400, out_features=512, bias=True)\n",
       "  (fc_mu): Linear(in_features=512, out_features=32, bias=True)\n",
       "  (fc_logvar): Linear(in_features=512, out_features=32, bias=True)\n",
       "  (fc3): Linear(in_features=32, out_features=512, bias=True)\n",
       "  (fc4): Linear(in_features=512, out_features=6400, bias=True)\n",
       "  (deconv1d): ConvTranspose1d(6400, 6400, kernel_size=(7,), stride=(1,), groups=3200)\n",
       "  (unflatten): Unflatten(dim=1, unflattened_size=(256, 5, 5))\n",
       "  (deconv1): ConvTranspose3d(256, 128, kernel_size=(3, 3, 3), stride=(1, 1, 1), padding=(1, 1, 1))\n",
       "  (deconv2): ConvTranspose3d(128, 64, kernel_size=(3, 3, 3), stride=(1, 1, 1), padding=(1, 1, 1))\n",
       "  (deconv3): ConvTranspose3d(64, 10, kernel_size=(3, 3, 3), stride=(1, 1, 1), padding=(1, 1, 1))\n",
       ")"
      ]
     },
     "execution_count": 26,
     "metadata": {},
     "output_type": "execute_result"
    }
   ],
   "source": [
    "device = 'cuda'\n",
    "epochs = 50\n",
    "lr = 0.0001\n",
    "optimizer = 'Adam'\n",
    "latent_dim=32\n",
    "channels = 10\n",
    "time_steps = 7\n",
    "patch_size = config.subpatch_size\n",
    "\n",
    "model = Conv3DVAE(channels, time_steps, latent_dim, config.subpatch_size)\n",
    "device = torch.device(device)  \n",
    "model.to(device)"
   ]
  },
  {
   "cell_type": "code",
   "execution_count": 27,
   "metadata": {},
   "outputs": [
    {
     "name": "stdout",
     "output_type": "stream",
     "text": [
      "Epoch 1/50\n",
      "  Train Recon Loss: 401.8316, Train KL Loss: 6.9947\n",
      "  Test Recon Loss: 144.9218, Test KL Loss: 12.1576\n",
      "Epoch 2/50\n",
      "  Train Recon Loss: 107.5448, Train KL Loss: 14.0402\n",
      "  Test Recon Loss: 98.2290, Test KL Loss: 13.2490\n",
      "Epoch 3/50\n",
      "  Train Recon Loss: 82.5290, Train KL Loss: 13.8672\n",
      "  Test Recon Loss: 75.6008, Test KL Loss: 14.0060\n",
      "Epoch 4/50\n",
      "  Train Recon Loss: 59.6050, Train KL Loss: 15.0158\n",
      "  Test Recon Loss: 56.7955, Test KL Loss: 15.7719\n",
      "Epoch 5/50\n",
      "  Train Recon Loss: 44.6131, Train KL Loss: 16.0476\n",
      "  Test Recon Loss: 40.1669, Test KL Loss: 15.6835\n",
      "Epoch 6/50\n",
      "  Train Recon Loss: 39.2818, Train KL Loss: 15.7970\n",
      "  Test Recon Loss: 41.2969, Test KL Loss: 15.3545\n",
      "Epoch 7/50\n",
      "  Train Recon Loss: 36.9307, Train KL Loss: 15.4821\n",
      "  Test Recon Loss: 38.1646, Test KL Loss: 15.1161\n",
      "Epoch 8/50\n",
      "  Train Recon Loss: 34.5895, Train KL Loss: 15.4595\n",
      "  Test Recon Loss: 57.5113, Test KL Loss: 15.5382\n",
      "Epoch 9/50\n",
      "  Train Recon Loss: 32.9866, Train KL Loss: 15.6171\n",
      "  Test Recon Loss: 43.5262, Test KL Loss: 15.6357\n",
      "Epoch 10/50\n",
      "  Train Recon Loss: 31.6629, Train KL Loss: 15.6476\n",
      "  Test Recon Loss: 38.4724, Test KL Loss: 15.4745\n",
      "Epoch 11/50\n",
      "  Train Recon Loss: 30.6434, Train KL Loss: 15.6011\n",
      "  Test Recon Loss: 33.8757, Test KL Loss: 15.7774\n",
      "Epoch 12/50\n",
      "  Train Recon Loss: 30.4821, Train KL Loss: 15.5734\n",
      "  Test Recon Loss: 38.7276, Test KL Loss: 15.4616\n",
      "Epoch 13/50\n",
      "  Train Recon Loss: 29.9534, Train KL Loss: 15.5023\n",
      "  Test Recon Loss: 29.6517, Test KL Loss: 15.3063\n",
      "Epoch 14/50\n",
      "  Train Recon Loss: 29.3903, Train KL Loss: 15.4721\n",
      "  Test Recon Loss: 32.3635, Test KL Loss: 15.4395\n",
      "Epoch 15/50\n",
      "  Train Recon Loss: 29.2639, Train KL Loss: 15.4433\n",
      "  Test Recon Loss: 39.6494, Test KL Loss: 15.3694\n",
      "Epoch 16/50\n",
      "  Train Recon Loss: 28.9063, Train KL Loss: 15.4439\n",
      "  Test Recon Loss: 29.7512, Test KL Loss: 15.4460\n",
      "Epoch 17/50\n",
      "  Train Recon Loss: 28.5665, Train KL Loss: 15.4626\n",
      "  Test Recon Loss: 35.8607, Test KL Loss: 15.5763\n",
      "Epoch 18/50\n",
      "  Train Recon Loss: 28.3901, Train KL Loss: 15.4626\n",
      "  Test Recon Loss: 37.2359, Test KL Loss: 15.3199\n",
      "Epoch 19/50\n",
      "  Train Recon Loss: 27.8721, Train KL Loss: 15.4533\n",
      "  Test Recon Loss: 29.4779, Test KL Loss: 15.3873\n",
      "Epoch 20/50\n",
      "  Train Recon Loss: 27.6992, Train KL Loss: 15.4610\n",
      "  Test Recon Loss: 33.5571, Test KL Loss: 15.1429\n",
      "Epoch 21/50\n",
      "  Train Recon Loss: 27.3545, Train KL Loss: 15.4519\n",
      "  Test Recon Loss: 37.9696, Test KL Loss: 15.2350\n",
      "Epoch 22/50\n",
      "  Train Recon Loss: 27.4402, Train KL Loss: 15.4209\n",
      "  Test Recon Loss: 29.1617, Test KL Loss: 15.5018\n",
      "Epoch 23/50\n",
      "  Train Recon Loss: 26.8975, Train KL Loss: 15.4227\n",
      "  Test Recon Loss: 39.5495, Test KL Loss: 15.4002\n",
      "Epoch 24/50\n",
      "  Train Recon Loss: 26.9120, Train KL Loss: 15.4507\n",
      "  Test Recon Loss: 32.2489, Test KL Loss: 15.3989\n",
      "Epoch 25/50\n",
      "  Train Recon Loss: 26.8718, Train KL Loss: 15.4324\n",
      "  Test Recon Loss: 28.3119, Test KL Loss: 15.3015\n",
      "Epoch 26/50\n",
      "  Train Recon Loss: 26.5839, Train KL Loss: 15.4052\n",
      "  Test Recon Loss: 28.5428, Test KL Loss: 15.2270\n",
      "Epoch 27/50\n",
      "  Train Recon Loss: 26.3655, Train KL Loss: 15.4341\n",
      "  Test Recon Loss: 37.5972, Test KL Loss: 15.4922\n",
      "Epoch 28/50\n",
      "  Train Recon Loss: 26.7505, Train KL Loss: 15.4207\n",
      "  Test Recon Loss: 26.6747, Test KL Loss: 15.4412\n",
      "Epoch 29/50\n",
      "  Train Recon Loss: 26.1257, Train KL Loss: 15.4191\n",
      "  Test Recon Loss: 27.7584, Test KL Loss: 15.2910\n",
      "Epoch 30/50\n",
      "  Train Recon Loss: 26.2425, Train KL Loss: 15.4234\n",
      "  Test Recon Loss: 28.4110, Test KL Loss: 15.2903\n",
      "Epoch 31/50\n",
      "  Train Recon Loss: 26.1061, Train KL Loss: 15.4063\n",
      "  Test Recon Loss: 26.6892, Test KL Loss: 15.3305\n",
      "Epoch 32/50\n",
      "  Train Recon Loss: 26.0321, Train KL Loss: 15.3936\n",
      "  Test Recon Loss: 25.5001, Test KL Loss: 15.5842\n",
      "Epoch 33/50\n",
      "  Train Recon Loss: 25.7064, Train KL Loss: 15.4116\n",
      "  Test Recon Loss: 36.8783, Test KL Loss: 15.5375\n",
      "Epoch 34/50\n",
      "  Train Recon Loss: 25.8379, Train KL Loss: 15.4157\n",
      "  Test Recon Loss: 26.3614, Test KL Loss: 15.3188\n",
      "Epoch 35/50\n",
      "  Train Recon Loss: 25.7458, Train KL Loss: 15.4090\n",
      "  Test Recon Loss: 31.6177, Test KL Loss: 15.4326\n",
      "Epoch 36/50\n",
      "  Train Recon Loss: 25.5358, Train KL Loss: 15.3924\n",
      "  Test Recon Loss: 26.5268, Test KL Loss: 15.4970\n",
      "Epoch 37/50\n",
      "  Train Recon Loss: 25.5699, Train KL Loss: 15.4331\n",
      "  Test Recon Loss: 25.7640, Test KL Loss: 15.3618\n",
      "Epoch 38/50\n",
      "  Train Recon Loss: 25.2258, Train KL Loss: 15.4167\n",
      "  Test Recon Loss: 26.0870, Test KL Loss: 15.2806\n",
      "Epoch 39/50\n",
      "  Train Recon Loss: 25.2309, Train KL Loss: 15.4437\n",
      "  Test Recon Loss: 25.2143, Test KL Loss: 15.5167\n",
      "Epoch 40/50\n",
      "  Train Recon Loss: 24.9899, Train KL Loss: 15.4482\n",
      "  Test Recon Loss: 39.8638, Test KL Loss: 15.4340\n",
      "Epoch 41/50\n",
      "  Train Recon Loss: 25.2054, Train KL Loss: 15.5047\n",
      "  Test Recon Loss: 26.9985, Test KL Loss: 15.6476\n",
      "Epoch 42/50\n",
      "  Train Recon Loss: 24.8212, Train KL Loss: 15.5346\n",
      "  Test Recon Loss: 26.1078, Test KL Loss: 15.3941\n",
      "Epoch 43/50\n",
      "  Train Recon Loss: 24.7007, Train KL Loss: 15.5342\n",
      "  Test Recon Loss: 26.4747, Test KL Loss: 15.4462\n",
      "Epoch 44/50\n",
      "  Train Recon Loss: 24.5505, Train KL Loss: 15.5730\n",
      "  Test Recon Loss: 28.1168, Test KL Loss: 15.4023\n",
      "Epoch 45/50\n",
      "  Train Recon Loss: 24.4981, Train KL Loss: 15.6228\n",
      "  Test Recon Loss: 29.7562, Test KL Loss: 15.6651\n",
      "Epoch 46/50\n",
      "  Train Recon Loss: 24.6624, Train KL Loss: 15.6061\n",
      "  Test Recon Loss: 40.7140, Test KL Loss: 15.5582\n",
      "Epoch 47/50\n",
      "  Train Recon Loss: 24.3959, Train KL Loss: 15.6334\n",
      "  Test Recon Loss: 24.8322, Test KL Loss: 15.5124\n",
      "Epoch 48/50\n",
      "  Train Recon Loss: 24.0325, Train KL Loss: 15.6204\n",
      "  Test Recon Loss: 25.5775, Test KL Loss: 15.7130\n",
      "Epoch 49/50\n",
      "  Train Recon Loss: 24.1039, Train KL Loss: 15.6616\n",
      "  Test Recon Loss: 26.3703, Test KL Loss: 15.5351\n",
      "Epoch 50/50\n",
      "  Train Recon Loss: 23.9601, Train KL Loss: 15.6573\n",
      "  Test Recon Loss: 24.0307, Test KL Loss: 15.4736\n"
     ]
    }
   ],
   "source": [
    "trained_model, train_recon_losses, train_kl_losses, test_recon_losses, test_kl_losses  = train_model_vae(model, dataloader_train, dataloader_test, epochs=epochs, optimizer=optimizer, lr=lr, device=device)"
   ]
  },
  {
   "cell_type": "markdown",
   "metadata": {},
   "source": [
    "### Evaluation"
   ]
  },
  {
   "cell_type": "code",
   "execution_count": 28,
   "metadata": {},
   "outputs": [
    {
     "data": {
      "image/png": "[encoded data removed]",
      "text/plain": [
       "<Figure size 800x500 with 1 Axes>"
      ]
     },
     "metadata": {},
     "output_type": "display_data"
    }
   ],
   "source": [
    "plot_loss(train_recon_losses, test_recon_losses)"
   ]
  },
  {
   "cell_type": "code",
   "execution_count": 29,
   "metadata": {},
   "outputs": [
    {
     "data": {
      "image/png": "[encoded data removed]",
      "text/plain": [
       "<Figure size 800x500 with 1 Axes>"
      ]
     },
     "metadata": {},
     "output_type": "display_data"
    }
   ],
   "source": [
    "plot_loss(train_kl_losses, test_kl_losses)"
   ]
  },
  {
   "cell_type": "markdown",
   "metadata": {},
   "source": [
    "Use trained Encoder part to get the features for train, test and evaluation Data"
   ]
  },
  {
   "cell_type": "code",
   "execution_count": 48,
   "metadata": {},
   "outputs": [],
   "source": [
    "train_features, train_coord_dl = extract_features_vae(trained_model, dataloader_train, device)\n",
    "test_features, test_coord_dl = extract_features_vae(trained_model, dataloader_test, device)\n",
    "eval_features, eval_coord_dl = extract_features_vae(trained_model, dataloader_eval, device)\n",
    "\n",
    "train_features = train_features.cpu()\n",
    "test_features = test_features.cpu()\n",
    "eval_features = eval_features.cpu()\n",
    "\n",
    "combined_train_features = torch.cat((train_features, test_features), dim=0)\n",
    "combined_train_coords = train_coord_dl + test_coord_dl"
   ]
  },
  {
   "cell_type": "markdown",
   "metadata": {},
   "source": [
    "K-means on extracted features"
   ]
  },
  {
   "cell_type": "code",
   "execution_count": 49,
   "metadata": {},
   "outputs": [
    {
     "name": "stderr",
     "output_type": "stream",
     "text": [
      "/home/k64835/.local/lib/python3.8/site-packages/sklearn/cluster/_kmeans.py:1416: FutureWarning: The default value of `n_init` will change from 10 to 'auto' in 1.4. Set the value of `n_init` explicitly to suppress the warning\n",
      "  super()._check_params_vs_input(X, default_n_init=10)\n"
     ]
    }
   ],
   "source": [
    "kmeans = train_kmeans_patches(combined_train_features, n_clusters=2, random_state=27)\n",
    "\n",
    "train_subpatch_predictions = kmeans.predict(combined_train_features.reshape(combined_train_features.size(0), -1).numpy().astype(np.float32))\n",
    "eval_subpatch_predictions = kmeans.predict(eval_features.reshape(eval_features.size(0), -1).numpy().astype(np.float32))"
   ]
  },
  {
   "cell_type": "markdown",
   "metadata": {},
   "source": [
    "Convert Subpatch labels to Field labels"
   ]
  },
  {
   "cell_type": "code",
   "execution_count": 32,
   "metadata": {},
   "outputs": [],
   "source": [
    "threshold = config.patch_to_field_threshold\n",
    "train_field_labels = assign_field_labels_ae(combined_train_coords, train_subpatch_predictions, threshold)\n",
    "eval_field_labels = assign_field_labels_ae(eval_coord_dl, eval_subpatch_predictions, threshold)"
   ]
  },
  {
   "cell_type": "markdown",
   "metadata": {},
   "source": [
    "Accuracy and Classification Report"
   ]
  },
  {
   "cell_type": "code",
   "execution_count": 33,
   "metadata": {},
   "outputs": [],
   "source": [
    "# accuracy, report, cm, x_y_coords = evaluate_test_labels_ae(eval_field_labels, config.labels_path)\n",
    "# print(f\"Evaluation Accuracy: {accuracy}\")\n",
    "# print(report)"
   ]
  },
  {
   "cell_type": "markdown",
   "metadata": {},
   "source": [
    "Clustering Accuracy"
   ]
  },
  {
   "cell_type": "code",
   "execution_count": 34,
   "metadata": {},
   "outputs": [
    {
     "name": "stdout",
     "output_type": "stream",
     "text": [
      "Accuracy: 0.6557377049180327\n",
      "Precision: [0.57142857 0.76923077]\n",
      "Recall: [0.76923077 0.57142857]\n",
      "F1-score: [0.6557377 0.6557377]\n",
      "Fowlkes-Mallows Index: 0.5434782608695652\n"
     ]
    }
   ],
   "source": [
    "acc, precision_per_class, recall_per_class, f1_per_class, fmi = evaluate_clustering_metrics(eval_field_labels, config.labels_path)\n",
    "print(\"Accuracy:\",acc)\n",
    "print(\"Precision:\",precision_per_class)\n",
    "print(\"Recall:\",recall_per_class)\n",
    "print(\"F1-score:\",f1_per_class)\n",
    "print(\"Fowlkes-Mallows Index:\",fmi)"
   ]
  },
  {
   "cell_type": "code",
   "execution_count": 36,
   "metadata": {},
   "outputs": [],
   "source": [
    "# with open(config.ae_b10_path, 'wb') as file:\n",
    "#     pickle.dump(trained_model, file)"
   ]
  },
  {
   "cell_type": "code",
   "execution_count": 37,
   "metadata": {},
   "outputs": [],
   "source": [
    "# with open(config.kmeans_ae_b10_path, 'wb') as file:\n",
    "#     pickle.dump(kmeans, file)"
   ]
  },
  {
   "cell_type": "code",
   "execution_count": null,
   "metadata": {},
   "outputs": [],
   "source": []
  },
  {
   "cell_type": "markdown",
   "metadata": {},
   "source": [
    "## Architecture 4: Variational Autoencoder with time as channels"
   ]
  },
  {
   "cell_type": "code",
   "execution_count": 38,
   "metadata": {},
   "outputs": [],
   "source": [
    "class Conv2DVAE(nn.Module):\n",
    "    def __init__(self, in_channels, time_steps, latent_size, patch_size):\n",
    "        super(Conv2DVAE, self).__init__()\n",
    "\n",
    "        self.time_steps = time_steps\n",
    "        self.in_channels = in_channels\n",
    "\n",
    "        # --- Encoder (2D Convolutions, treating time steps as channels) ---\n",
    "        self.conv1 = nn.Conv2d(in_channels * time_steps, 64, kernel_size=3, stride=1, padding=1)\n",
    "        self.conv2 = nn.Conv2d(64, 128, kernel_size=3, stride=1, padding=1)\n",
    "        self.conv3 = nn.Conv2d(128, 256, kernel_size=3, stride=1, padding=1)\n",
    "\n",
    "        # --- Fully Connected Latent Space ---\n",
    "        self.flatten = nn.Flatten()\n",
    "        self.fc1 = nn.Linear(256 * patch_size * patch_size, 512)\n",
    "        self.fc_mu = nn.Linear(512, latent_size)      # Mean\n",
    "        self.fc_logvar = nn.Linear(512, latent_size)  # Log Variance\n",
    "\n",
    "        # --- Decoder (Fully Connected) ---\n",
    "        self.fc3 = nn.Linear(latent_size, 512)\n",
    "        self.fc4 = nn.Linear(512, 256 * patch_size * patch_size)\n",
    "\n",
    "        # --- 2D Deconvolutions ---\n",
    "        self.deconv1 = nn.ConvTranspose2d(256, 128, kernel_size=3, stride=1, padding=1)\n",
    "        self.deconv2 = nn.ConvTranspose2d(128, 64, kernel_size=3, stride=1, padding=1)\n",
    "        self.deconv3 = nn.ConvTranspose2d(64, in_channels * time_steps, kernel_size=3, stride=1, padding=1)\n",
    "\n",
    "    def reparameterize(self, mu, log_var):\n",
    "        std = torch.exp(0.5 * log_var)\n",
    "        eps = torch.randn_like(std)\n",
    "        return mu + eps * std\n",
    "\n",
    "    def forward(self, x):\n",
    "\n",
    "        # --- Encoder ---\n",
    "        b, c, t, h, w = x.shape\n",
    "        x = x.view(b, c * t, h, w)      # Reshape to treat time steps as channels (B, C * D, H, W)\n",
    "        # print(x.shape)\n",
    "\n",
    "        x = F.relu(self.conv1(x))\n",
    "        x = F.relu(self.conv2(x))\n",
    "        x = F.relu(self.conv3(x))\n",
    "\n",
    "        # --- Flatten and Fully Connected ---\n",
    "        x = self.flatten(x)\n",
    "        x = F.relu(self.fc1(x))\n",
    "        mu = self.fc_mu(x)\n",
    "        log_var = self.fc_logvar(x)\n",
    "        \n",
    "        # --- Reparameterization Trick ---\n",
    "        z = self.reparameterize(mu, log_var)\n",
    "\n",
    "        # --- Decoder ---\n",
    "        x = F.relu(self.fc3(z))\n",
    "        x = F.relu(self.fc4(x))\n",
    "\n",
    "        # --- 2D Deconvolutions ---\n",
    "        x = x.view(b, 256, h, w)        # Reshape back to spatial dimensions\n",
    "        # print(x.shape)\n",
    "        x = F.relu(self.deconv1(x))\n",
    "        x = F.relu(self.deconv2(x))\n",
    "        x = self.deconv3(x)\n",
    "        # print(x.shape)\n",
    "\n",
    "        # --- Reshape to B x C x D x H x W ---\n",
    "        x_reconstructed = x.view(b, self.in_channels, self.time_steps, h, w) \n",
    "\n",
    "        return mu, log_var, z, x_reconstructed"
   ]
  },
  {
   "cell_type": "markdown",
   "metadata": {},
   "source": [
    "### Training"
   ]
  },
  {
   "cell_type": "code",
   "execution_count": 46,
   "metadata": {},
   "outputs": [
    {
     "data": {
      "text/plain": [
       "Conv2DVAE(\n",
       "  (conv1): Conv2d(70, 64, kernel_size=(3, 3), stride=(1, 1), padding=(1, 1))\n",
       "  (conv2): Conv2d(64, 128, kernel_size=(3, 3), stride=(1, 1), padding=(1, 1))\n",
       "  (conv3): Conv2d(128, 256, kernel_size=(3, 3), stride=(1, 1), padding=(1, 1))\n",
       "  (flatten): Flatten(start_dim=1, end_dim=-1)\n",
       "  (fc1): Linear(in_features=6400, out_features=512, bias=True)\n",
       "  (fc_mu): Linear(in_features=512, out_features=32, bias=True)\n",
       "  (fc_logvar): Linear(in_features=512, out_features=32, bias=True)\n",
       "  (fc3): Linear(in_features=32, out_features=512, bias=True)\n",
       "  (fc4): Linear(in_features=512, out_features=6400, bias=True)\n",
       "  (deconv1): ConvTranspose2d(256, 128, kernel_size=(3, 3), stride=(1, 1), padding=(1, 1))\n",
       "  (deconv2): ConvTranspose2d(128, 64, kernel_size=(3, 3), stride=(1, 1), padding=(1, 1))\n",
       "  (deconv3): ConvTranspose2d(64, 70, kernel_size=(3, 3), stride=(1, 1), padding=(1, 1))\n",
       ")"
      ]
     },
     "execution_count": 46,
     "metadata": {},
     "output_type": "execute_result"
    }
   ],
   "source": [
    "device = 'cuda'\n",
    "epochs = 50\n",
    "lr = 0.001\n",
    "latent_dim=32\n",
    "optimizer='Adam'\n",
    "channels = 10\n",
    "time_steps = 7\n",
    "patch_size = config.subpatch_size\n",
    "\n",
    "model = Conv2DVAE(channels, time_steps, latent_dim, config.subpatch_size)\n",
    "device = torch.device(device)  \n",
    "model.to(device)"
   ]
  },
  {
   "cell_type": "code",
   "execution_count": 47,
   "metadata": {},
   "outputs": [
    {
     "name": "stdout",
     "output_type": "stream",
     "text": [
      "Epoch 1/50\n",
      "  Train Recon Loss: 474.2414, Train KL Loss: 2.3337\n",
      "  Test Recon Loss: 213.7970, Test KL Loss: 6.1709\n",
      "Epoch 2/50\n",
      "  Train Recon Loss: 180.9515, Train KL Loss: 7.1876\n",
      "  Test Recon Loss: 145.8411, Test KL Loss: 8.2506\n",
      "Epoch 3/50\n",
      "  Train Recon Loss: 133.6465, Train KL Loss: 6.8132\n",
      "  Test Recon Loss: 135.4540, Test KL Loss: 6.0557\n",
      "Epoch 4/50\n",
      "  Train Recon Loss: 118.7133, Train KL Loss: 6.9423\n",
      "  Test Recon Loss: 116.4041, Test KL Loss: 9.5347\n",
      "Epoch 5/50\n",
      "  Train Recon Loss: 95.0674, Train KL Loss: 8.2176\n",
      "  Test Recon Loss: 99.7035, Test KL Loss: 7.6428\n",
      "Epoch 6/50\n",
      "  Train Recon Loss: 92.1130, Train KL Loss: 7.5151\n",
      "  Test Recon Loss: 94.5956, Test KL Loss: 7.5925\n",
      "Epoch 7/50\n",
      "  Train Recon Loss: 89.5634, Train KL Loss: 7.4376\n",
      "  Test Recon Loss: 102.4747, Test KL Loss: 7.4363\n",
      "Epoch 8/50\n",
      "  Train Recon Loss: 88.1452, Train KL Loss: 7.4395\n",
      "  Test Recon Loss: 112.3135, Test KL Loss: 7.7123\n",
      "Epoch 9/50\n",
      "  Train Recon Loss: 86.9557, Train KL Loss: 7.4855\n",
      "  Test Recon Loss: 94.3899, Test KL Loss: 7.5914\n",
      "Epoch 10/50\n",
      "  Train Recon Loss: 84.9983, Train KL Loss: 7.5601\n",
      "  Test Recon Loss: 90.9004, Test KL Loss: 7.4812\n",
      "Epoch 11/50\n",
      "  Train Recon Loss: 83.7516, Train KL Loss: 7.5720\n",
      "  Test Recon Loss: 83.3217, Test KL Loss: 7.4711\n",
      "Epoch 12/50\n",
      "  Train Recon Loss: 81.4257, Train KL Loss: 7.8898\n",
      "  Test Recon Loss: 79.3048, Test KL Loss: 8.7488\n",
      "Epoch 13/50\n",
      "  Train Recon Loss: 72.7202, Train KL Loss: 9.3566\n",
      "  Test Recon Loss: 77.2951, Test KL Loss: 9.0476\n",
      "Epoch 14/50\n",
      "  Train Recon Loss: 69.1278, Train KL Loss: 9.5182\n",
      "  Test Recon Loss: 79.5104, Test KL Loss: 9.3111\n",
      "Epoch 15/50\n",
      "  Train Recon Loss: 65.9628, Train KL Loss: 9.5319\n",
      "  Test Recon Loss: 63.6530, Test KL Loss: 10.3052\n",
      "Epoch 16/50\n",
      "  Train Recon Loss: 62.0762, Train KL Loss: 10.2929\n",
      "  Test Recon Loss: 61.8117, Test KL Loss: 10.5966\n",
      "Epoch 17/50\n",
      "  Train Recon Loss: 59.3498, Train KL Loss: 10.7182\n",
      "  Test Recon Loss: 59.1908, Test KL Loss: 11.1125\n",
      "Epoch 18/50\n",
      "  Train Recon Loss: 56.9488, Train KL Loss: 11.0724\n",
      "  Test Recon Loss: 56.6610, Test KL Loss: 10.5373\n",
      "Epoch 19/50\n",
      "  Train Recon Loss: 54.3073, Train KL Loss: 11.0203\n",
      "  Test Recon Loss: 53.7501, Test KL Loss: 11.1561\n",
      "Epoch 20/50\n",
      "  Train Recon Loss: 52.5528, Train KL Loss: 11.0023\n",
      "  Test Recon Loss: 56.6003, Test KL Loss: 11.0030\n",
      "Epoch 21/50\n",
      "  Train Recon Loss: 49.8530, Train KL Loss: 11.3396\n",
      "  Test Recon Loss: 52.5250, Test KL Loss: 11.1143\n",
      "Epoch 22/50\n",
      "  Train Recon Loss: 47.6998, Train KL Loss: 11.6393\n",
      "  Test Recon Loss: 45.7059, Test KL Loss: 11.8394\n",
      "Epoch 23/50\n",
      "  Train Recon Loss: 46.2109, Train KL Loss: 11.8336\n",
      "  Test Recon Loss: 49.0798, Test KL Loss: 11.9232\n",
      "Epoch 24/50\n",
      "  Train Recon Loss: 45.5297, Train KL Loss: 11.9725\n",
      "  Test Recon Loss: 46.6822, Test KL Loss: 12.0425\n",
      "Epoch 25/50\n",
      "  Train Recon Loss: 44.2739, Train KL Loss: 12.1408\n",
      "  Test Recon Loss: 52.3294, Test KL Loss: 12.8472\n",
      "Epoch 26/50\n",
      "  Train Recon Loss: 43.0781, Train KL Loss: 12.1452\n",
      "  Test Recon Loss: 42.3942, Test KL Loss: 12.2658\n",
      "Epoch 27/50\n",
      "  Train Recon Loss: 41.6128, Train KL Loss: 12.1382\n",
      "  Test Recon Loss: 44.5606, Test KL Loss: 12.0324\n",
      "Epoch 28/50\n",
      "  Train Recon Loss: 41.3457, Train KL Loss: 12.1649\n",
      "  Test Recon Loss: 50.8224, Test KL Loss: 12.1101\n",
      "Epoch 29/50\n",
      "  Train Recon Loss: 41.3224, Train KL Loss: 12.1937\n",
      "  Test Recon Loss: 44.0945, Test KL Loss: 12.1317\n",
      "Epoch 30/50\n",
      "  Train Recon Loss: 40.2120, Train KL Loss: 12.1762\n",
      "  Test Recon Loss: 42.9286, Test KL Loss: 12.0654\n",
      "Epoch 31/50\n",
      "  Train Recon Loss: 39.9658, Train KL Loss: 12.2053\n",
      "  Test Recon Loss: 42.0878, Test KL Loss: 12.0187\n",
      "Epoch 32/50\n",
      "  Train Recon Loss: 39.6915, Train KL Loss: 12.2537\n",
      "  Test Recon Loss: 39.7233, Test KL Loss: 12.0206\n",
      "Epoch 33/50\n",
      "  Train Recon Loss: 39.2208, Train KL Loss: 12.3042\n",
      "  Test Recon Loss: 40.0682, Test KL Loss: 12.6806\n",
      "Epoch 34/50\n",
      "  Train Recon Loss: 39.1827, Train KL Loss: 12.3183\n",
      "  Test Recon Loss: 39.2545, Test KL Loss: 12.3257\n",
      "Epoch 35/50\n",
      "  Train Recon Loss: 38.3708, Train KL Loss: 12.3614\n",
      "  Test Recon Loss: 40.6634, Test KL Loss: 12.2768\n",
      "Epoch 36/50\n",
      "  Train Recon Loss: 38.1494, Train KL Loss: 12.5039\n",
      "  Test Recon Loss: 40.9711, Test KL Loss: 12.3918\n",
      "Epoch 37/50\n",
      "  Train Recon Loss: 37.0614, Train KL Loss: 12.6707\n",
      "  Test Recon Loss: 37.0362, Test KL Loss: 12.6270\n",
      "Epoch 38/50\n",
      "  Train Recon Loss: 36.6450, Train KL Loss: 12.7818\n",
      "  Test Recon Loss: 42.5292, Test KL Loss: 13.0360\n",
      "Epoch 39/50\n",
      "  Train Recon Loss: 36.3068, Train KL Loss: 12.8873\n",
      "  Test Recon Loss: 38.0601, Test KL Loss: 12.6573\n",
      "Epoch 40/50\n",
      "  Train Recon Loss: 35.7901, Train KL Loss: 12.9643\n",
      "  Test Recon Loss: 51.7372, Test KL Loss: 13.1852\n",
      "Epoch 41/50\n",
      "  Train Recon Loss: 35.3889, Train KL Loss: 13.1080\n",
      "  Test Recon Loss: 45.1179, Test KL Loss: 13.2370\n",
      "Epoch 42/50\n",
      "  Train Recon Loss: 34.5220, Train KL Loss: 13.1596\n",
      "  Test Recon Loss: 36.2083, Test KL Loss: 13.2340\n",
      "Epoch 43/50\n",
      "  Train Recon Loss: 34.3155, Train KL Loss: 13.1290\n",
      "  Test Recon Loss: 45.2327, Test KL Loss: 12.2748\n",
      "Epoch 44/50\n",
      "  Train Recon Loss: 34.2037, Train KL Loss: 13.1235\n",
      "  Test Recon Loss: 36.2683, Test KL Loss: 13.2887\n",
      "Epoch 45/50\n",
      "  Train Recon Loss: 33.8182, Train KL Loss: 13.1910\n",
      "  Test Recon Loss: 33.8243, Test KL Loss: 13.1518\n",
      "Epoch 46/50\n",
      "  Train Recon Loss: 33.5822, Train KL Loss: 13.2147\n",
      "  Test Recon Loss: 35.0202, Test KL Loss: 13.2545\n",
      "Epoch 47/50\n",
      "  Train Recon Loss: 33.4361, Train KL Loss: 13.2307\n",
      "  Test Recon Loss: 40.3369, Test KL Loss: 13.3213\n",
      "Epoch 48/50\n",
      "  Train Recon Loss: 33.2477, Train KL Loss: 13.2013\n",
      "  Test Recon Loss: 33.7729, Test KL Loss: 13.1169\n",
      "Epoch 49/50\n",
      "  Train Recon Loss: 32.8918, Train KL Loss: 13.2684\n",
      "  Test Recon Loss: 42.4172, Test KL Loss: 13.1463\n",
      "Epoch 50/50\n",
      "  Train Recon Loss: 33.1929, Train KL Loss: 13.2527\n",
      "  Test Recon Loss: 35.6737, Test KL Loss: 12.9800\n"
     ]
    }
   ],
   "source": [
    "trained_model, train_recon_losses, train_kl_losses, test_recon_losses, test_kl_losses  = train_model_vae(model, dataloader_train, dataloader_test, epochs=epochs, optimizer=optimizer, lr=lr, device=device)"
   ]
  },
  {
   "cell_type": "markdown",
   "metadata": {},
   "source": [
    "### Evaluation"
   ]
  },
  {
   "cell_type": "code",
   "execution_count": 50,
   "metadata": {},
   "outputs": [
    {
     "data": {
      "image/png": "[encoded data removed]",
      "text/plain": [
       "<Figure size 800x500 with 1 Axes>"
      ]
     },
     "metadata": {},
     "output_type": "display_data"
    }
   ],
   "source": [
    "plot_loss(train_recon_losses, test_recon_losses)"
   ]
  },
  {
   "cell_type": "code",
   "execution_count": 51,
   "metadata": {},
   "outputs": [
    {
     "data": {
      "image/png": "[encoded data removed]",
      "text/plain": [
       "<Figure size 800x500 with 1 Axes>"
      ]
     },
     "metadata": {},
     "output_type": "display_data"
    }
   ],
   "source": [
    "plot_loss(train_kl_losses, test_kl_losses)"
   ]
  },
  {
   "cell_type": "markdown",
   "metadata": {},
   "source": [
    "Use trained Encoder part to get the features for train, test and evaluation Data"
   ]
  },
  {
   "cell_type": "code",
   "execution_count": 52,
   "metadata": {},
   "outputs": [],
   "source": [
    "train_features, train_coord_dl = extract_features_vae(trained_model, dataloader_train, device)\n",
    "test_features, test_coord_dl = extract_features_vae(trained_model, dataloader_test, device)\n",
    "eval_features, eval_coord_dl = extract_features_vae(trained_model, dataloader_eval, device)\n",
    "\n",
    "train_features = train_features.cpu()\n",
    "test_features = test_features.cpu()\n",
    "eval_features = eval_features.cpu()\n",
    "\n",
    "combined_train_features = torch.cat((train_features, test_features), dim=0)\n",
    "combined_train_coords = train_coord_dl + test_coord_dl"
   ]
  },
  {
   "cell_type": "markdown",
   "metadata": {},
   "source": [
    "K-means on extracted features"
   ]
  },
  {
   "cell_type": "code",
   "execution_count": 53,
   "metadata": {},
   "outputs": [
    {
     "name": "stderr",
     "output_type": "stream",
     "text": [
      "/home/k64835/.local/lib/python3.8/site-packages/sklearn/cluster/_kmeans.py:1416: FutureWarning: The default value of `n_init` will change from 10 to 'auto' in 1.4. Set the value of `n_init` explicitly to suppress the warning\n",
      "  super()._check_params_vs_input(X, default_n_init=10)\n"
     ]
    }
   ],
   "source": [
    "kmeans = train_kmeans_patches(combined_train_features, n_clusters=2, random_state=26)\n",
    "\n",
    "train_subpatch_predictions = kmeans.predict(combined_train_features.reshape(combined_train_features.size(0), -1).numpy().astype(np.float32))\n",
    "eval_subpatch_predictions = kmeans.predict(eval_features.reshape(eval_features.size(0), -1).numpy().astype(np.float32))"
   ]
  },
  {
   "cell_type": "markdown",
   "metadata": {},
   "source": [
    "Convert Subpatch labels to Field labels"
   ]
  },
  {
   "cell_type": "code",
   "execution_count": 54,
   "metadata": {},
   "outputs": [],
   "source": [
    "threshold = config.patch_to_field_threshold\n",
    "train_field_labels = assign_field_labels_ae(combined_train_coords, train_subpatch_predictions, threshold)\n",
    "eval_field_labels = assign_field_labels_ae(eval_coord_dl, eval_subpatch_predictions, threshold)"
   ]
  },
  {
   "cell_type": "markdown",
   "metadata": {},
   "source": [
    "Accuracy and Classification Report"
   ]
  },
  {
   "cell_type": "code",
   "execution_count": 55,
   "metadata": {},
   "outputs": [
    {
     "name": "stdout",
     "output_type": "stream",
     "text": [
      "Evaluation Accuracy: 0.4426229508196721\n",
      "              precision    recall  f1-score   support\n",
      "\n",
      "           0       0.32      0.27      0.29        26\n",
      "           1       0.51      0.57      0.54        35\n",
      "\n",
      "    accuracy                           0.44        61\n",
      "   macro avg       0.42      0.42      0.42        61\n",
      "weighted avg       0.43      0.44      0.43        61\n",
      "\n"
     ]
    }
   ],
   "source": [
    "accuracy, report, cm, x_y_coords = evaluate_test_labels_ae(eval_field_labels, config.labels_path)\n",
    "print(f\"Evaluation Accuracy: {accuracy}\")\n",
    "print(report)"
   ]
  },
  {
   "cell_type": "markdown",
   "metadata": {},
   "source": [
    "Clustering Accuracy"
   ]
  },
  {
   "cell_type": "code",
   "execution_count": 56,
   "metadata": {},
   "outputs": [
    {
     "name": "stdout",
     "output_type": "stream",
     "text": [
      "Accuracy: 0.5573770491803278\n",
      "Precision: [0.48717949 0.68181818]\n",
      "Recall: [0.73076923 0.42857143]\n",
      "F1-score: [0.58461538 0.52631579]\n",
      "Fowlkes-Mallows Index: 0.5149936985754042\n"
     ]
    }
   ],
   "source": [
    "acc, precision_per_class, recall_per_class, f1_per_class, fmi = evaluate_clustering_metrics(eval_field_labels, config.labels_path)\n",
    "print(\"Accuracy:\",acc)\n",
    "print(\"Precision:\",precision_per_class)\n",
    "print(\"Recall:\",recall_per_class)\n",
    "print(\"F1-score:\",f1_per_class)\n",
    "print(\"Fowlkes-Mallows Index:\",fmi)"
   ]
  },
  {
   "cell_type": "code",
   "execution_count": 57,
   "metadata": {},
   "outputs": [],
   "source": [
    "with open(config.ae_b10_path, 'wb') as file:\n",
    "    pickle.dump(trained_model, file)"
   ]
  },
  {
   "cell_type": "code",
   "execution_count": 58,
   "metadata": {},
   "outputs": [],
   "source": [
    "with open(config.kmeans_ae_b10_path, 'wb') as file:\n",
    "    pickle.dump(kmeans, file)"
   ]
  },
  {
   "cell_type": "code",
   "execution_count": null,
   "metadata": {},
   "outputs": [],
   "source": []
  },
  {
   "cell_type": "markdown",
   "metadata": {},
   "source": [
    "## Architecture 5: Conv2D Autoencoder with Residual Connections"
   ]
  },
  {
   "cell_type": "markdown",
   "metadata": {},
   "source": [
    "### Architecture"
   ]
  },
  {
   "cell_type": "code",
   "execution_count": null,
   "metadata": {},
   "outputs": [],
   "source": [
    "# class Conv2DAutoencoderRes(nn.Module):\n",
    "#     def __init__(self, in_channels, time_steps, latent_size, patch_size):\n",
    "#         super(Conv2DAutoencoderRes, self).__init__()\n",
    "\n",
    "#         self.time_steps = time_steps\n",
    "#         self.in_channels = in_channels\n",
    "\n",
    "#         # --- Encoder (2D Convolutions with Residual Connections) ---\n",
    "#         self.conv1 = nn.Conv2d(in_channels * time_steps, 64, kernel_size=3, stride=1, padding=1)\n",
    "#         self.bn1 = nn.BatchNorm2d(64)  \n",
    "#         self.conv2 = nn.Conv2d(64, 128, kernel_size=3, stride=1, padding=1)\n",
    "#         self.bn2 = nn.BatchNorm2d(128)  \n",
    "#         self.conv3 = nn.Conv2d(128, 256, kernel_size=3, stride=1, padding=1)\n",
    "#         self.bn3 = nn.BatchNorm2d(256)  \n",
    "\n",
    "#         # Skip connections\n",
    "#         self.skip_conv1 = nn.Conv2d(in_channels * time_steps, 64, kernel_size=1, stride=1, padding=0)\n",
    "#         self.skip_conv2 = nn.Conv2d(64, 128, kernel_size=1, stride=1, padding=0)\n",
    "#         self.skip_conv3 = nn.Conv2d(128, 256, kernel_size=1, stride=1, padding=0)\n",
    "\n",
    "#         # --- Fully Connected Latent Space ---\n",
    "#         self.flatten = nn.Flatten()\n",
    "#         self.fc1 = nn.Linear(256 * patch_size * patch_size, 512)\n",
    "#         self.fc2 = nn.Linear(512, latent_size)\n",
    "\n",
    "#         # --- Decoder (Fully Connected) ---\n",
    "#         self.fc3 = nn.Linear(latent_size, 512)\n",
    "#         self.fc4 = nn.Linear(512, 256 * patch_size * patch_size)\n",
    "\n",
    "#         # --- Decoder (2D Deconvolutions) ---\n",
    "#         self.deconv1 = nn.ConvTranspose2d(256, 128, kernel_size=3, stride=1, padding=1)\n",
    "#         self.bn4 = nn.BatchNorm2d(128)  \n",
    "#         self.deconv2 = nn.ConvTranspose2d(128, 64, kernel_size=3, stride=1, padding=1)\n",
    "#         self.bn5 = nn.BatchNorm2d(64)  \n",
    "#         self.deconv3 = nn.ConvTranspose2d(64, in_channels * time_steps, kernel_size=3, stride=1, padding=1)\n",
    "\n",
    "#         # Skip connections for decoder\n",
    "#         self.skip_conv4 = nn.ConvTranspose2d(256, 128, kernel_size=1, stride=1, padding=0)\n",
    "#         self.skip_conv5 = nn.ConvTranspose2d(128, 64, kernel_size=1, stride=1, padding=0)\n",
    "\n",
    "#     def forward(self, x):\n",
    "#         # --- Encoder ---\n",
    "#         b, c, t, h, w = x.shape\n",
    "#         x = x.view(b, c * t, h, w)          # Imp: Merge time steps into channels (B, C * D, H, W)\n",
    "\n",
    "#         # Residual Block 1\n",
    "#         skip_x = self.skip_conv1(x)  \n",
    "#         x = F.relu(self.bn1(self.conv1(x)))  \n",
    "#         x = x + skip_x  # Residual connection\n",
    "\n",
    "#         # Residual Block 2\n",
    "#         skip_x = self.skip_conv2(x)\n",
    "#         x = F.relu(self.bn2(self.conv2(x)))  \n",
    "#         x = x + skip_x  # Residual connection\n",
    "\n",
    "#         # Residual Block 3\n",
    "#         skip_x = self.skip_conv3(x)\n",
    "#         x = F.relu(self.bn3(self.conv3(x)))  \n",
    "#         x = x + skip_x  # Residual connection\n",
    "\n",
    "#         # --- Flatten and Fully Connected ---\n",
    "#         x = self.flatten(x)\n",
    "#         x = F.relu(self.fc1(x))\n",
    "#         z = self.fc2(x)\n",
    "\n",
    "#         # --- Decoder ---\n",
    "#         x = F.relu(self.fc3(z))\n",
    "#         x = F.relu(self.fc4(x))\n",
    "\n",
    "#         # --- 2D Deconvolutions ---\n",
    "#         x = x.view(b, 256, h, w)\n",
    "\n",
    "#         # Residual Block 4\n",
    "#         skip_x = self.skip_conv4(x)  \n",
    "#         x = F.relu(self.bn4(self.deconv1(x)))  \n",
    "#         x = x + skip_x  # Residual connection\n",
    "\n",
    "#         # Residual Block 5\n",
    "#         skip_x = self.skip_conv5(x)  \n",
    "#         x = F.relu(self.bn5(self.deconv2(x)))  \n",
    "#         x = x + skip_x  # Residual connection\n",
    "\n",
    "#         x = self.deconv3(x)\n",
    "\n",
    "#         # --- Reshape to B x C x D x H x W ---\n",
    "#         x_reconstructed = x.view(b, self.in_channels, self.time_steps, h, w)\n",
    "\n",
    "#         return z, x_reconstructed\n"
   ]
  },
  {
   "cell_type": "code",
   "execution_count": null,
   "metadata": {},
   "outputs": [],
   "source": [
    "class ResidualBlock(nn.Module):\n",
    "    def __init__(self, in_channels, out_channels, kernel_size=3, stride=1, padding=1, transpose=False):\n",
    "        super(ResidualBlock, self).__init__()\n",
    "        if transpose:\n",
    "            self.conv = nn.ConvTranspose2d(in_channels, out_channels, kernel_size, stride, padding)\n",
    "        else:\n",
    "            self.conv = nn.Conv2d(in_channels, out_channels, kernel_size, stride, padding)\n",
    "        self.bn = nn.BatchNorm2d(out_channels)\n",
    "        self.skip_conv = nn.Conv2d(in_channels, out_channels, kernel_size=1, stride=stride, padding=0)\n",
    "\n",
    "    def forward(self, x):\n",
    "        skip_x = self.skip_conv(x)\n",
    "        x = F.relu(self.bn(self.conv(x)))\n",
    "        x = x + skip_x  # Residual connection\n",
    "        return x\n",
    "\n",
    "\n",
    "class Conv2DAutoencoderRes(nn.Module):\n",
    "    def __init__(self, in_channels, time_steps, latent_size, patch_size):\n",
    "        super(Conv2DAutoencoderRes, self).__init__()\n",
    "\n",
    "        self.time_steps = time_steps\n",
    "        self.in_channels = in_channels\n",
    "        self.patch_size = patch_size\n",
    "\n",
    "        # --- Encoder ---\n",
    "        self.res_block1 = ResidualBlock(in_channels * time_steps, 64)\n",
    "        self.res_block2 = ResidualBlock(64, 128)\n",
    "        self.res_block3 = ResidualBlock(128, 256)\n",
    "\n",
    "        # --- Fully Connected Latent Space ---\n",
    "        self.flatten = nn.Flatten()\n",
    "        self.fc1 = nn.Linear(256 * patch_size * patch_size, 512)\n",
    "        self.fc2 = nn.Linear(512, latent_size)\n",
    "\n",
    "        # --- Decoder ---\n",
    "        self.fc3 = nn.Linear(latent_size, 512)\n",
    "        self.fc4 = nn.Linear(512, 256 * patch_size * patch_size)\n",
    "\n",
    "        # --- Decoder Residual Blocks with ConvTranspose2d (for upsampling) ---\n",
    "        self.deconv_block1 = ResidualBlock(256, 128, transpose=True)\n",
    "        self.deconv_block2 = ResidualBlock(128, 64, transpose=True)\n",
    "        self.deconv_block3 = nn.ConvTranspose2d(64, in_channels * time_steps, kernel_size=3, stride=1, padding=1)\n",
    "\n",
    "    def forward(self, x):\n",
    "        # Reshape input to (B, C * T, H, W)\n",
    "        b, c, t, h, w = x.shape\n",
    "        x = x.view(b, c * t, h, w)\n",
    "\n",
    "        # --- Encoder ---\n",
    "        x = self.res_block1(x)\n",
    "        x = self.res_block2(x)\n",
    "        x = self.res_block3(x)\n",
    "\n",
    "        # --- Latent Space ---\n",
    "        x = self.flatten(x)\n",
    "        x = F.relu(self.fc1(x))\n",
    "        z = self.fc2(x)\n",
    "\n",
    "        # --- Decoder ---\n",
    "        x = F.relu(self.fc3(z))\n",
    "        x = F.relu(self.fc4(x))\n",
    "\n",
    "        # Reshape for deconvolution\n",
    "        x = x.view(b, 256, h, w)\n",
    "\n",
    "        # Decoder with residual blocks (upsampling with ConvTranspose2d)\n",
    "        x = self.deconv_block1(x)\n",
    "        x = self.deconv_block2(x)\n",
    "        x = self.deconv_block3(x)\n",
    "\n",
    "        # Reshape output back to (B, C, T, H, W)\n",
    "        x_reconstructed = x.view(b, self.in_channels, self.time_steps, h, w)\n",
    "\n",
    "        return z, x_reconstructed\n"
   ]
  },
  {
   "cell_type": "markdown",
   "metadata": {},
   "source": [
    "### Training"
   ]
  },
  {
   "cell_type": "code",
   "execution_count": null,
   "metadata": {},
   "outputs": [
    {
     "data": {
      "text/plain": [
       "Conv2DAutoencoderRes(\n",
       "  (res_block1): ResidualBlock(\n",
       "    (conv): Conv2d(70, 64, kernel_size=(3, 3), stride=(1, 1), padding=(1, 1))\n",
       "    (bn): BatchNorm2d(64, eps=1e-05, momentum=0.1, affine=True, track_running_stats=True)\n",
       "    (skip_conv): Conv2d(70, 64, kernel_size=(1, 1), stride=(1, 1))\n",
       "  )\n",
       "  (res_block2): ResidualBlock(\n",
       "    (conv): Conv2d(64, 128, kernel_size=(3, 3), stride=(1, 1), padding=(1, 1))\n",
       "    (bn): BatchNorm2d(128, eps=1e-05, momentum=0.1, affine=True, track_running_stats=True)\n",
       "    (skip_conv): Conv2d(64, 128, kernel_size=(1, 1), stride=(1, 1))\n",
       "  )\n",
       "  (res_block3): ResidualBlock(\n",
       "    (conv): Conv2d(128, 256, kernel_size=(3, 3), stride=(1, 1), padding=(1, 1))\n",
       "    (bn): BatchNorm2d(256, eps=1e-05, momentum=0.1, affine=True, track_running_stats=True)\n",
       "    (skip_conv): Conv2d(128, 256, kernel_size=(1, 1), stride=(1, 1))\n",
       "  )\n",
       "  (flatten): Flatten(start_dim=1, end_dim=-1)\n",
       "  (fc1): Linear(in_features=6400, out_features=512, bias=True)\n",
       "  (fc2): Linear(in_features=512, out_features=32, bias=True)\n",
       "  (fc3): Linear(in_features=32, out_features=512, bias=True)\n",
       "  (fc4): Linear(in_features=512, out_features=6400, bias=True)\n",
       "  (deconv_block1): ResidualBlock(\n",
       "    (conv): ConvTranspose2d(256, 128, kernel_size=(3, 3), stride=(1, 1), padding=(1, 1))\n",
       "    (bn): BatchNorm2d(128, eps=1e-05, momentum=0.1, affine=True, track_running_stats=True)\n",
       "    (skip_conv): Conv2d(256, 128, kernel_size=(1, 1), stride=(1, 1))\n",
       "  )\n",
       "  (deconv_block2): ResidualBlock(\n",
       "    (conv): ConvTranspose2d(128, 64, kernel_size=(3, 3), stride=(1, 1), padding=(1, 1))\n",
       "    (bn): BatchNorm2d(64, eps=1e-05, momentum=0.1, affine=True, track_running_stats=True)\n",
       "    (skip_conv): Conv2d(128, 64, kernel_size=(1, 1), stride=(1, 1))\n",
       "  )\n",
       "  (deconv_block3): ConvTranspose2d(64, 70, kernel_size=(3, 3), stride=(1, 1), padding=(1, 1))\n",
       ")"
      ]
     },
     "metadata": {},
     "output_type": "display_data"
    }
   ],
   "source": [
    "device = 'cuda'\n",
    "epochs = 50\n",
    "lr = 0.01\n",
    "latent_dim=32\n",
    "channels = 10\n",
    "time_steps = 7\n",
    "momentum=0.9\n",
    "optimizer='SGD'\n",
    "patch_size = config.subpatch_size\n",
    "\n",
    "model = Conv2DAutoencoderRes(channels, time_steps, latent_dim, config.subpatch_size)\n",
    "device = torch.device(device)  \n",
    "model.to(device)"
   ]
  },
  {
   "cell_type": "code",
   "execution_count": null,
   "metadata": {},
   "outputs": [
    {
     "name": "stdout",
     "output_type": "stream",
     "text": [
      "Epoch 1/50, Train Loss: 0.006811, Test Loss: 0.002021\n",
      "Epoch 2/50, Train Loss: 0.001949, Test Loss: 0.001868\n",
      "Epoch 3/50, Train Loss: 0.001814, Test Loss: 0.001749\n",
      "Epoch 4/50, Train Loss: 0.001696, Test Loss: 0.001616\n",
      "Epoch 5/50, Train Loss: 0.001560, Test Loss: 0.001498\n",
      "Epoch 6/50, Train Loss: 0.001467, Test Loss: 0.001381\n",
      "Epoch 7/50, Train Loss: 0.001330, Test Loss: 0.001259\n",
      "Epoch 8/50, Train Loss: 0.001236, Test Loss: 0.001221\n",
      "Epoch 9/50, Train Loss: 0.001163, Test Loss: 0.001130\n",
      "Epoch 10/50, Train Loss: 0.001110, Test Loss: 0.001069\n",
      "Epoch 11/50, Train Loss: 0.001061, Test Loss: 0.001029\n",
      "Epoch 12/50, Train Loss: 0.001019, Test Loss: 0.000989\n",
      "Epoch 13/50, Train Loss: 0.000985, Test Loss: 0.000950\n",
      "Epoch 14/50, Train Loss: 0.000950, Test Loss: 0.000920\n",
      "Epoch 15/50, Train Loss: 0.000934, Test Loss: 0.000901\n",
      "Epoch 16/50, Train Loss: 0.000898, Test Loss: 0.000871\n",
      "Epoch 17/50, Train Loss: 0.000871, Test Loss: 0.000855\n",
      "Epoch 18/50, Train Loss: 0.000851, Test Loss: 0.000851\n",
      "Epoch 19/50, Train Loss: 0.000829, Test Loss: 0.000821\n",
      "Epoch 20/50, Train Loss: 0.000811, Test Loss: 0.000797\n",
      "Epoch 21/50, Train Loss: 0.000792, Test Loss: 0.000772\n",
      "Epoch 22/50, Train Loss: 0.000777, Test Loss: 0.000764\n",
      "Epoch 23/50, Train Loss: 0.000760, Test Loss: 0.000732\n",
      "Epoch 24/50, Train Loss: 0.000759, Test Loss: 0.000730\n",
      "Epoch 25/50, Train Loss: 0.000734, Test Loss: 0.000719\n",
      "Epoch 26/50, Train Loss: 0.000718, Test Loss: 0.000724\n",
      "Epoch 27/50, Train Loss: 0.000704, Test Loss: 0.000702\n",
      "Epoch 28/50, Train Loss: 0.000698, Test Loss: 0.000667\n",
      "Epoch 29/50, Train Loss: 0.000682, Test Loss: 0.000674\n",
      "Epoch 30/50, Train Loss: 0.000672, Test Loss: 0.000667\n",
      "Epoch 31/50, Train Loss: 0.000664, Test Loss: 0.000639\n",
      "Epoch 32/50, Train Loss: 0.000651, Test Loss: 0.000634\n",
      "Epoch 33/50, Train Loss: 0.000637, Test Loss: 0.000632\n",
      "Epoch 34/50, Train Loss: 0.000629, Test Loss: 0.000601\n",
      "Epoch 35/50, Train Loss: 0.000616, Test Loss: 0.000607\n",
      "Epoch 36/50, Train Loss: 0.000606, Test Loss: 0.000586\n",
      "Epoch 37/50, Train Loss: 0.000600, Test Loss: 0.000577\n",
      "Epoch 38/50, Train Loss: 0.000587, Test Loss: 0.000578\n",
      "Epoch 39/50, Train Loss: 0.000583, Test Loss: 0.000567\n",
      "Epoch 40/50, Train Loss: 0.000571, Test Loss: 0.000545\n",
      "Epoch 41/50, Train Loss: 0.000563, Test Loss: 0.000547\n",
      "Epoch 42/50, Train Loss: 0.000584, Test Loss: 0.000543\n",
      "Epoch 43/50, Train Loss: 0.000556, Test Loss: 0.000555\n",
      "Epoch 44/50, Train Loss: 0.000540, Test Loss: 0.000522\n",
      "Epoch 45/50, Train Loss: 0.000531, Test Loss: 0.000528\n",
      "Epoch 46/50, Train Loss: 0.000523, Test Loss: 0.000514\n",
      "Epoch 47/50, Train Loss: 0.000517, Test Loss: 0.000509\n",
      "Epoch 48/50, Train Loss: 0.000511, Test Loss: 0.000497\n",
      "Epoch 49/50, Train Loss: 0.000546, Test Loss: 0.000514\n",
      "Epoch 50/50, Train Loss: 0.000509, Test Loss: 0.000506\n"
     ]
    }
   ],
   "source": [
    "trained_model, train_losses, test_losses  = train_model_ae(model, dataloader_train, dataloader_test, epochs=epochs, optimizer=optimizer, lr=lr, momentum=momentum, device=device)"
   ]
  },
  {
   "cell_type": "markdown",
   "metadata": {},
   "source": [
    "### Evaluation"
   ]
  },
  {
   "cell_type": "code",
   "execution_count": null,
   "metadata": {},
   "outputs": [
    {
     "data": {
      "image/png": "[encoded data removed]",
      "text/plain": [
       "<Figure size 800x500 with 1 Axes>"
      ]
     },
     "metadata": {},
     "output_type": "display_data"
    }
   ],
   "source": [
    "plot_loss(train_losses, test_losses)"
   ]
  },
  {
   "cell_type": "markdown",
   "metadata": {},
   "source": [
    "Use trained Encoder part to get the features for train, test and evaluation Data"
   ]
  },
  {
   "cell_type": "code",
   "execution_count": null,
   "metadata": {},
   "outputs": [],
   "source": [
    "train_features, train_coord_dl = extract_features_ae(trained_model, dataloader_train, device)\n",
    "test_features, test_coord_dl = extract_features_ae(trained_model, dataloader_test, device)\n",
    "eval_features, eval_coord_dl = extract_features_ae(trained_model, dataloader_eval, device)\n",
    "\n",
    "train_features = train_features.cpu()\n",
    "test_features = test_features.cpu()\n",
    "eval_features = eval_features.cpu()\n",
    "\n",
    "combined_train_features = torch.cat((train_features, test_features), dim=0)\n",
    "combined_train_coords = train_coord_dl + test_coord_dl"
   ]
  },
  {
   "cell_type": "markdown",
   "metadata": {},
   "source": [
    "K-means on extracted features"
   ]
  },
  {
   "cell_type": "code",
   "execution_count": null,
   "metadata": {},
   "outputs": [
    {
     "name": "stderr",
     "output_type": "stream",
     "text": [
      "/home/k64835/.local/lib/python3.8/site-packages/sklearn/cluster/_kmeans.py:1416: FutureWarning: The default value of `n_init` will change from 10 to 'auto' in 1.4. Set the value of `n_init` explicitly to suppress the warning\n",
      "  super()._check_params_vs_input(X, default_n_init=10)\n"
     ]
    }
   ],
   "source": [
    "kmeans = train_kmeans_patches(combined_train_features, n_clusters=2, random_state=29)\n",
    "\n",
    "train_subpatch_predictions = kmeans.predict(combined_train_features.reshape(combined_train_features.size(0), -1).numpy().astype(np.float32))\n",
    "eval_subpatch_predictions = kmeans.predict(eval_features.reshape(eval_features.size(0), -1).numpy().astype(np.float32))"
   ]
  },
  {
   "cell_type": "markdown",
   "metadata": {},
   "source": [
    "Convert Subpatch labels to Field labels"
   ]
  },
  {
   "cell_type": "code",
   "execution_count": null,
   "metadata": {},
   "outputs": [],
   "source": [
    "threshold = config.patch_to_field_threshold\n",
    "train_field_labels = assign_field_labels_ae(combined_train_coords, train_subpatch_predictions, threshold)\n",
    "eval_field_labels = assign_field_labels_ae(eval_coord_dl, eval_subpatch_predictions, threshold)"
   ]
  },
  {
   "cell_type": "markdown",
   "metadata": {},
   "source": [
    "Accuracy and Classification Report"
   ]
  },
  {
   "cell_type": "code",
   "execution_count": null,
   "metadata": {},
   "outputs": [],
   "source": [
    "# accuracy, report, cm, x_y_coords = evaluate_test_labels_ae(eval_field_labels, config.labels_path)\n",
    "# print(f\"Evaluation Accuracy: {accuracy}\")\n",
    "# print(report)"
   ]
  },
  {
   "cell_type": "markdown",
   "metadata": {},
   "source": [
    "Clustering Accuracy"
   ]
  },
  {
   "cell_type": "code",
   "execution_count": null,
   "metadata": {},
   "outputs": [
    {
     "name": "stdout",
     "output_type": "stream",
     "text": [
      "Accuracy: 0.6229508196721312\n",
      "Precision: [0.57894737 0.64285714]\n",
      "Recall: [0.42307692 0.77142857]\n",
      "F1-score: [0.48888889 0.7012987 ]\n",
      "Fowlkes-Mallows Index: 0.5531653940290656\n"
     ]
    }
   ],
   "source": [
    "acc, precision_per_class, recall_per_class, f1_per_class, fmi = evaluate_clustering_metrics(eval_field_labels, config.labels_path)\n",
    "print(\"Accuracy:\",acc)\n",
    "print(\"Precision:\",precision_per_class)\n",
    "print(\"Recall:\",recall_per_class)\n",
    "print(\"F1-score:\",f1_per_class)\n",
    "print(\"Fowlkes-Mallows Index:\", fmi)"
   ]
  },
  {
   "cell_type": "code",
   "execution_count": null,
   "metadata": {},
   "outputs": [],
   "source": [
    "# with open(config.ae_b10_path, 'wb') as file:\n",
    "#     pickle.dump(trained_model, file)"
   ]
  },
  {
   "cell_type": "code",
   "execution_count": null,
   "metadata": {},
   "outputs": [],
   "source": [
    "# with open(config.kmeans_ae_b10_path, 'wb') as file:\n",
    "#     pickle.dump(kmeans, file)"
   ]
  },
  {
   "cell_type": "markdown",
   "metadata": {},
   "source": [
    "## Final Images: Visualising Diseased Subpatches"
   ]
  },
  {
   "cell_type": "code",
   "execution_count": null,
   "metadata": {},
   "outputs": [],
   "source": [
    "eval_images_box = images_visualisation_eval"
   ]
  },
  {
   "cell_type": "code",
   "execution_count": null,
   "metadata": {},
   "outputs": [
    {
     "data": {
      "text/plain": [
       "(64, 64, 13)"
      ]
     },
     "metadata": {},
     "output_type": "display_data"
    }
   ],
   "source": [
    "(eval_images_box[0][0].shape)"
   ]
  },
  {
   "cell_type": "code",
   "execution_count": null,
   "metadata": {},
   "outputs": [
    {
     "data": {
      "text/plain": [
       "array([      0., 1168039.])"
      ]
     },
     "metadata": {},
     "output_type": "display_data"
    }
   ],
   "source": [
    "np.unique(eval_images_box[0][0][:,:,-2])"
   ]
  },
  {
   "cell_type": "code",
   "execution_count": null,
   "metadata": {},
   "outputs": [
    {
     "data": {
      "image/png": "[encoded data removed]",
      "text/plain": [
       "<Figure size 2000x1500 with 12 Axes>"
      ]
     },
     "metadata": {},
     "output_type": "display_data"
    }
   ],
   "source": [
    "visualise_all_bands(eval_images_box[-15][3])"
   ]
  },
  {
   "cell_type": "markdown",
   "metadata": {},
   "source": [
    "-48 -26"
   ]
  },
  {
   "cell_type": "code",
   "execution_count": null,
   "metadata": {},
   "outputs": [
    {
     "data": {
      "image/png": "[encoded data removed]",
      "text/plain": [
       "<Figure size 2000x500 with 7 Axes>"
      ]
     },
     "metadata": {},
     "output_type": "display_data"
    }
   ],
   "source": [
    "visualize_temporal_stack_rgb(eval_images_box[-26])"
   ]
  },
  {
   "cell_type": "code",
   "execution_count": null,
   "metadata": {},
   "outputs": [
    {
     "data": {
      "text/plain": [
       "array([      0., 1196489., 1196747.])"
      ]
     },
     "metadata": {},
     "output_type": "display_data"
    }
   ],
   "source": [
    "np.unique(eval_images_box[-26][-1][:,:,-2])"
   ]
  },
  {
   "cell_type": "code",
   "execution_count": null,
   "metadata": {},
   "outputs": [
    {
     "name": "stdout",
     "output_type": "stream",
     "text": [
      "Saved: /home/k64835/SITS-images/output/img_1168039.png\n",
      "Saved: /home/k64835/SITS-images/output/img_1228889.png\n",
      "Saved: /home/k64835/SITS-images/output/img_1168663.png\n",
      "Saved: /home/k64835/SITS-images/output/img_1168692.png\n",
      "Saved: /home/k64835/SITS-images/output/img_1171179.png\n",
      "Saved: /home/k64835/SITS-images/output/img_1172001.png\n"
     ]
    },
    {
     "name": "stderr",
     "output_type": "stream",
     "text": [
      "/home/k64835/Master-Thesis-SITS/Modeling/model_scripts/superpixel.py:257: RuntimeWarning: invalid value encountered in divide\n",
      "  \n"
     ]
    },
    {
     "name": "stdout",
     "output_type": "stream",
     "text": [
      "Saved: /home/k64835/SITS-images/output/img_1174805.png\n",
      "Saved: /home/k64835/SITS-images/output/img_1176318.png\n",
      "Saved: /home/k64835/SITS-images/output/img_1176365.png\n",
      "Saved: /home/k64835/SITS-images/output/img_1177274.png\n",
      "Saved: /home/k64835/SITS-images/output/img_1177490.png\n",
      "Saved: /home/k64835/SITS-images/output/img_1177490.png\n",
      "Saved: /home/k64835/SITS-images/output/img_1178038.png\n",
      "Saved: /home/k64835/SITS-images/output/img_1178198.png\n",
      "Saved: /home/k64835/SITS-images/output/img_1179855.png\n",
      "Saved: /home/k64835/SITS-images/output/img_1182776.png\n",
      "Saved: /home/k64835/SITS-images/output/img_1182822.png\n",
      "Saved: /home/k64835/SITS-images/output/img_1183171.png\n",
      "Saved: /home/k64835/SITS-images/output/img_1194806.png\n",
      "Saved: /home/k64835/SITS-images/output/img_1196327.png\n",
      "Saved: /home/k64835/SITS-images/output/img_1196347.png\n",
      "Saved: /home/k64835/SITS-images/output/img_1196489.png\n",
      "Saved: /home/k64835/SITS-images/output/img_1216230.png\n",
      "Saved: /home/k64835/SITS-images/output/img_1216239.png\n",
      "Saved: /home/k64835/SITS-images/output/img_1216250.png\n",
      "Saved: /home/k64835/SITS-images/output/img_1216801.png\n",
      "Saved: /home/k64835/SITS-images/output/img_1217032.png\n",
      "Saved: /home/k64835/SITS-images/output/img_1217498.png\n",
      "Saved: /home/k64835/SITS-images/output/img_1219929.png\n",
      "Saved: /home/k64835/SITS-images/output/img_1220322.png\n",
      "Saved: /home/k64835/SITS-images/output/img_1222641.png\n",
      "Saved: /home/k64835/SITS-images/output/img_1223341.png\n",
      "Saved: /home/k64835/SITS-images/output/img_1223970.png\n",
      "Saved: /home/k64835/SITS-images/output/img_1224018.png\n",
      "Saved: /home/k64835/SITS-images/output/img_1224356.png\n",
      "Saved: /home/k64835/SITS-images/output/img_1225081.png\n",
      "Saved: /home/k64835/SITS-images/output/img_1225397.png\n",
      "Saved: /home/k64835/SITS-images/output/img_1225547.png\n",
      "Saved: /home/k64835/SITS-images/output/img_1225592.png\n",
      "Saved: /home/k64835/SITS-images/output/img_1226125.png\n",
      "Saved: /home/k64835/SITS-images/output/img_1226225.png\n",
      "Saved: /home/k64835/SITS-images/output/img_1226904.png\n",
      "Saved: /home/k64835/SITS-images/output/img_1227071.png\n",
      "Saved: /home/k64835/SITS-images/output/img_1227321.png\n",
      "Saved: /home/k64835/SITS-images/output/img_1227495.png\n",
      "Saved: /home/k64835/SITS-images/output/img_1227663.png\n",
      "Saved: /home/k64835/SITS-images/output/img_1230818.png\n"
     ]
    },
    {
     "name": "stderr",
     "output_type": "stream",
     "text": [
      "/home/k64835/.local/lib/python3.8/site-packages/matplotlib/cm.py:478: RuntimeWarning: invalid value encountered in cast\n",
      "  xx = (xx * 255).astype(np.uint8)\n"
     ]
    },
    {
     "data": {
      "image/png": "[encoded data removed]",
      "text/plain": [
       "<Figure size 800x800 with 1 Axes>"
      ]
     },
     "metadata": {},
     "output_type": "display_data"
    }
   ],
   "source": [
    "draw_diseased_patches(eval_images_box, x_y_coords, config.images_save_path, config.patch_size)"
   ]
  },
  {
   "cell_type": "code",
   "execution_count": null,
   "metadata": {},
   "outputs": [],
   "source": []
  }
 ],
 "metadata": {
  "kernelspec": {
   "display_name": "Python 3",
   "language": "python",
   "name": "python3"
  },
  "language_info": {
   "codemirror_mode": {
    "name": "ipython",
    "version": 3
   },
   "file_extension": ".py",
   "mimetype": "text/x-python",
   "name": "python",
   "nbconvert_exporter": "python",
   "pygments_lexer": "ipython3",
   "version": "3.8.10"
  }
 },
 "nbformat": 4,
 "nbformat_minor": 2
}
