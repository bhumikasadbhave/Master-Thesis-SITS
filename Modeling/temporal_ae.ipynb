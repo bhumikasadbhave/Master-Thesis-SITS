{
 "cells": [
  {
   "cell_type": "markdown",
   "metadata": {},
   "source": [
    "## Imports"
   ]
  },
  {
   "cell_type": "code",
   "execution_count": 2,
   "metadata": {},
   "outputs": [],
   "source": [
    "%load_ext autoreload\n",
    "%autoreload 2"
   ]
  },
  {
   "cell_type": "code",
   "execution_count": 3,
   "metadata": {},
   "outputs": [],
   "source": [
    "import os, sys\n",
    "from pathlib import Path\n",
    "\n",
    "os.environ['PYTORCH_ENABLE_MPS_FALLBACK'] = '1'\n",
    "sys.path.append('/home/k64835/Master-Thesis-SITS')\n",
    "\n",
    "scripts_path = Path(\"../Data-Preprocessing/\").resolve()\n",
    "sys.path.append(str(scripts_path))\n",
    "\n",
    "scripts_path = Path(\"../Evaluation/\").resolve()\n",
    "sys.path.append(str(scripts_path))"
   ]
  },
  {
   "cell_type": "code",
   "execution_count": 4,
   "metadata": {},
   "outputs": [],
   "source": [
    "import pickle\n",
    "from sklearn.cluster import KMeans\n",
    "from sklearn.neighbors import NearestCentroid\n",
    "from scripts.data_visualiser import *\n",
    "import torch.nn.functional as F\n",
    "from sklearn.model_selection import train_test_split\n",
    "from model_scripts.subpatch_extraction import *\n",
    "from scripts.data_loader import *\n",
    "from scripts.data_preprocessor import *\n",
    "from scripts.temporal_data_preprocessor import *\n",
    "from scripts.temporal_data_loader import *\n",
    "from scripts.temporal_visualiser import *\n",
    "from scripts.temporal_chanel_refinement import *\n",
    "from model_scripts.get_statistics import *\n",
    "from model_scripts.dataset_creation import *\n",
    "from model_scripts.train_model_ae import *\n",
    "from model_scripts.model_visualiser import *\n",
    "from model_scripts.clustering import *\n",
    "from model_scripts.train_model_dcec import *\n",
    "from evaluation_scripts.label_helper import *\n",
    "from evaluation_scripts.result_visualiser import *\n",
    "from Pipeline.temporal_preprocessing_pipeline import *\n",
    "from evaluation_scripts.result_visualiser import *\n",
    "from Pipeline.temporal_preprocessing_pipeline import *\n",
    "import numpy as np\n",
    "import config as config\n",
    "from sklearn.cluster import KMeans\n",
    "from sklearn.metrics import adjusted_rand_score\n",
    "from sklearn.cluster import DBSCAN\n",
    "from sklearn.decomposition import PCA\n",
    "import skimage.measure\n",
    "import torch\n",
    "import torch.nn as nn\n",
    "import torch.optim as optim"
   ]
  },
  {
   "cell_type": "markdown",
   "metadata": {},
   "source": [
    "## Dataset prep: B10"
   ]
  },
  {
   "cell_type": "markdown",
   "metadata": {},
   "source": [
    "### Loading the pre-processed data\n",
    "\n",
    "Data: Extracted and Pre-processed Patches (each patch containing a sugarbeet field)\n",
    "\n",
    "Dimensions: (N, T, C, H, W) = (N, 7, 10, 64, 64)"
   ]
  },
  {
   "cell_type": "code",
   "execution_count": 5,
   "metadata": {},
   "outputs": [
    {
     "data": {
      "text/plain": [
       "(torch.Size([2425, 7, 10, 64, 64]), torch.Size([48, 7, 10, 64, 64]))"
      ]
     },
     "execution_count": 5,
     "metadata": {},
     "output_type": "execute_result"
    }
   ],
   "source": [
    "preprocessing_pipeline = PreProcessingPipelineTemporal()\n",
    "field_numbers_train, acquisition_dates_train, patch_tensor_train, images_visualisation_train = preprocessing_pipeline.get_processed_temporal_cubes('train', 'allbands')\n",
    "field_numbers_eval, acquisition_dates_eval, patch_tensor_eval, images_visualisation_eval = preprocessing_pipeline.get_processed_temporal_cubes('eval', 'allbands')\n",
    "patch_tensor_train.shape, patch_tensor_eval.shape"
   ]
  },
  {
   "cell_type": "markdown",
   "metadata": {},
   "source": [
    "### Create Sub-Patches"
   ]
  },
  {
   "cell_type": "code",
   "execution_count": 6,
   "metadata": {},
   "outputs": [
    {
     "data": {
      "text/plain": [
       "(torch.Size([39042, 7, 10, 5, 5]), torch.Size([867, 7, 10, 5, 5]))"
      ]
     },
     "execution_count": 6,
     "metadata": {},
     "output_type": "execute_result"
    }
   ],
   "source": [
    "train_subpatches, train_subpatch_coords = non_overlapping_sliding_window(patch_tensor_train, field_numbers_train, patch_size=config.subpatch_size)\n",
    "eval_subpatches, eval_subpatch_coords = non_overlapping_sliding_window(patch_tensor_eval, field_numbers_eval, patch_size=config.subpatch_size)\n",
    "train_subpatches.shape, eval_subpatches.shape"
   ]
  },
  {
   "cell_type": "markdown",
   "metadata": {},
   "source": [
    "Get field numbers and co-ordinates as string"
   ]
  },
  {
   "cell_type": "code",
   "execution_count": 7,
   "metadata": {},
   "outputs": [
    {
     "data": {
      "text/plain": [
       "'1167134.0_25_25'"
      ]
     },
     "execution_count": 7,
     "metadata": {},
     "output_type": "execute_result"
    }
   ],
   "source": [
    "train_coord_dataloader = get_string_fielddata(train_subpatch_coords)\n",
    "eval_coord_dataloader = get_string_fielddata(eval_subpatch_coords)\n",
    "train_coord_dataloader[0]"
   ]
  },
  {
   "cell_type": "markdown",
   "metadata": {},
   "source": [
    "### Split Unlabeled data into 'train' and 'test' and create  Data Loaders"
   ]
  },
  {
   "cell_type": "code",
   "execution_count": 8,
   "metadata": {},
   "outputs": [
    {
     "name": "stderr",
     "output_type": "stream",
     "text": [
      "/home/k64835/Master-Thesis-SITS/Modeling/model_scripts/dataset_creation.py:11: UserWarning: To copy construct from a tensor, it is recommended to use sourceTensor.clone().detach() or sourceTensor.clone().detach().requires_grad_(True), rather than torch.tensor(sourceTensor).\n",
      "  inputs = torch.tensor(inputs, dtype=torch.float32).permute(0, 2, 1, 3, 4)  # (N, T, C, H, W) -> (N, C, T, H, W)\n"
     ]
    }
   ],
   "source": [
    "train_subpatches_dl, test_subpatches, train_field_numbers, test_field_numbers = train_test_split(\n",
    "    train_subpatches, train_coord_dataloader, test_size=1-config.ae_train_test_ratio, random_state=42\n",
    ")\n",
    "\n",
    "dataloader_train = create_data_loader(train_subpatches_dl, train_field_numbers, batch_size=config.ae_batch_size, shuffle=True)\n",
    "dataloader_test = create_data_loader(test_subpatches, test_field_numbers, batch_size=config.ae_batch_size, shuffle=False)\n",
    "dataloader_eval = create_data_loader(eval_subpatches, eval_coord_dataloader, batch_size=config.ae_batch_size, shuffle=False)"
   ]
  },
  {
   "cell_type": "markdown",
   "metadata": {},
   "source": [
    "## Architecture 1: Autoencoder with 1D Time Convolution"
   ]
  },
  {
   "cell_type": "markdown",
   "metadata": {},
   "source": [
    "### Architecture"
   ]
  },
  {
   "cell_type": "markdown",
   "metadata": {},
   "source": [
    "Input Data: ( N x C x D x H x W )"
   ]
  },
  {
   "cell_type": "code",
   "execution_count": 8,
   "metadata": {},
   "outputs": [],
   "source": [
    "class Conv3DAutoencoder(nn.Module):\n",
    "    def __init__(self, in_channels, time_steps, latent_size, patch_size):\n",
    "        super(Conv3DAutoencoder, self).__init__()\n",
    "\n",
    "        self.time_steps = time_steps\n",
    "        self.in_channels = in_channels\n",
    "\n",
    "        # --- Encoder (3D Convolutions) ---\n",
    "        self.conv1 = nn.Conv3d(in_channels, 64, kernel_size=3, stride=1, padding=1)\n",
    "        self.conv2 = nn.Conv3d(64, 128, kernel_size=3, stride=1, padding=1)\n",
    "        self.conv3 = nn.Conv3d(128, 256, kernel_size=3, stride=1, padding=1)\n",
    "\n",
    "        # --- 1D Convolution (Time Aggregation) ---\n",
    "        self.conv1d = nn.Conv1d(6400, 6400, kernel_size=time_steps, stride=1, padding=0, groups=800)\n",
    "\n",
    "        # --- Fully Connected Latent Space ---\n",
    "        self.flatten = nn.Flatten()\n",
    "        self.fc1 = nn.Linear(6400, 512)   \n",
    "        self.fc2 = nn.Linear(512, latent_size)\n",
    "\n",
    "        # --- Decoder (Fully Connected) ---\n",
    "        self.fc3 = nn.Linear(latent_size, 512)\n",
    "        self.fc4 = nn.Linear(512, 6400)  # Matches shape before Conv1D\n",
    "\n",
    "        # --- 1D Deconvolution to Expand Time Back ---\n",
    "        self.deconv1d = nn.ConvTranspose1d(6400, 6400, kernel_size=time_steps, stride=1, padding=0, groups=6400)\n",
    "\n",
    "        # --- 3D Deconvolutions ---\n",
    "        self.unflatten = nn.Unflatten(1, (256, patch_size, patch_size))\n",
    "        self.deconv1 = nn.ConvTranspose3d(256, 128, kernel_size=3, stride=1, padding=1)\n",
    "        self.deconv2 = nn.ConvTranspose3d(128, 64, kernel_size=3, stride=1, padding=1)\n",
    "        self.deconv3 = nn.ConvTranspose3d(64, in_channels, kernel_size=3, stride=1, padding=1)\n",
    "\n",
    "    def forward(self, x):\n",
    "        # --- Encoder ---\n",
    "        x = F.relu(self.conv1(x))\n",
    "        x = F.relu(self.conv2(x))\n",
    "        x = F.relu(self.conv3(x))\n",
    "\n",
    "        # --- Reshape for 1D Conv ---\n",
    "        b, c, t, h, w = x.shape  \n",
    "        # print(\"x shape initial: \",x.shape)\n",
    "        x = x.view(b, c * h * w, t)                     # (batch, 800, time)\n",
    "\n",
    "        # print(f\"Shape before 1D Conv: {x.shape}\") \n",
    "        x = self.conv1d(x)                              # Time aggregation\n",
    "        # print(f\"Shape after 1D Conv: {x.shape}\")      # (batch, 800, 1)\n",
    "\n",
    "        # --- Flatten and Fully Connected ---\n",
    "        x = self.flatten(x)  \n",
    "        x = F.relu(self.fc1(x))\n",
    "        z = self.fc2(x) \n",
    "\n",
    "        # --- Decoder ---\n",
    "        x = F.relu(self.fc3(z))\n",
    "        x = F.relu(self.fc4(x)) \n",
    "\n",
    "        # --- Expand Time Back ---\n",
    "        x = x.view(b, 6400, 1)  \n",
    "        x = self.deconv1d(x) \n",
    "        # print(f\"Shape after Deconv1D: {x.shape}\")  # (batch, 800, time_steps)\n",
    "\n",
    "        # --- Reshape for 3D Deconvolutions ---\n",
    "        x = x.view(b, -1, self.time_steps, h, w)  \n",
    "        # print(\"x before unflatten\", x.shape)\n",
    "\n",
    "        # --- 3D Deconvolutions ---\n",
    "        x = F.relu(self.deconv1(x))\n",
    "        x = F.relu(self.deconv2(x))\n",
    "        x_reconstructed = self.deconv3(x)  \n",
    "\n",
    "        return z, x_reconstructed\n"
   ]
  },
  {
   "cell_type": "markdown",
   "metadata": {},
   "source": [
    "### Training"
   ]
  },
  {
   "cell_type": "code",
   "execution_count": 9,
   "metadata": {},
   "outputs": [
    {
     "data": {
      "text/plain": [
       "Conv3DAutoencoder(\n",
       "  (conv1): Conv3d(10, 64, kernel_size=(3, 3, 3), stride=(1, 1, 1), padding=(1, 1, 1))\n",
       "  (conv2): Conv3d(64, 128, kernel_size=(3, 3, 3), stride=(1, 1, 1), padding=(1, 1, 1))\n",
       "  (conv3): Conv3d(128, 256, kernel_size=(3, 3, 3), stride=(1, 1, 1), padding=(1, 1, 1))\n",
       "  (conv1d): Conv1d(6400, 6400, kernel_size=(7,), stride=(1,), groups=800)\n",
       "  (flatten): Flatten(start_dim=1, end_dim=-1)\n",
       "  (fc1): Linear(in_features=6400, out_features=512, bias=True)\n",
       "  (fc2): Linear(in_features=512, out_features=32, bias=True)\n",
       "  (fc3): Linear(in_features=32, out_features=512, bias=True)\n",
       "  (fc4): Linear(in_features=512, out_features=6400, bias=True)\n",
       "  (deconv1d): ConvTranspose1d(6400, 6400, kernel_size=(7,), stride=(1,), groups=6400)\n",
       "  (unflatten): Unflatten(dim=1, unflattened_size=(256, 5, 5))\n",
       "  (deconv1): ConvTranspose3d(256, 128, kernel_size=(3, 3, 3), stride=(1, 1, 1), padding=(1, 1, 1))\n",
       "  (deconv2): ConvTranspose3d(128, 64, kernel_size=(3, 3, 3), stride=(1, 1, 1), padding=(1, 1, 1))\n",
       "  (deconv3): ConvTranspose3d(64, 10, kernel_size=(3, 3, 3), stride=(1, 1, 1), padding=(1, 1, 1))\n",
       ")"
      ]
     },
     "execution_count": 9,
     "metadata": {},
     "output_type": "execute_result"
    }
   ],
   "source": [
    "device = 'cuda'\n",
    "epochs = 50\n",
    "lr = 0.001\n",
    "latent_dim=32\n",
    "channels = 10\n",
    "time_steps = 7\n",
    "patch_size = config.subpatch_size\n",
    "\n",
    "model = Conv3DAutoencoder(channels, time_steps, latent_dim, config.subpatch_size)\n",
    "device = torch.device(device)  \n",
    "model.to(device)"
   ]
  },
  {
   "cell_type": "code",
   "execution_count": 10,
   "metadata": {},
   "outputs": [
    {
     "name": "stdout",
     "output_type": "stream",
     "text": [
      "Epoch 1/50, Train Loss: 0.003137, Test Loss: 0.001212\n",
      "Epoch 2/50, Train Loss: 0.000837, Test Loss: 0.000800\n",
      "Epoch 3/50, Train Loss: 0.000663, Test Loss: 0.000712\n",
      "Epoch 4/50, Train Loss: 0.000424, Test Loss: 0.000617\n",
      "Epoch 5/50, Train Loss: 0.000343, Test Loss: 0.000394\n",
      "Epoch 6/50, Train Loss: 0.000274, Test Loss: 0.000430\n",
      "Epoch 7/50, Train Loss: 0.000253, Test Loss: 0.000451\n",
      "Epoch 8/50, Train Loss: 0.000241, Test Loss: 0.000335\n",
      "Epoch 9/50, Train Loss: 0.000232, Test Loss: 0.000267\n",
      "Epoch 10/50, Train Loss: 0.000221, Test Loss: 0.000661\n",
      "Epoch 11/50, Train Loss: 0.000211, Test Loss: 0.000411\n",
      "Epoch 12/50, Train Loss: 0.000194, Test Loss: 0.000233\n",
      "Epoch 13/50, Train Loss: 0.000187, Test Loss: 0.000186\n",
      "Epoch 14/50, Train Loss: 0.000182, Test Loss: 0.000611\n",
      "Epoch 15/50, Train Loss: 0.000206, Test Loss: 0.000222\n",
      "Epoch 16/50, Train Loss: 0.000169, Test Loss: 0.000179\n",
      "Epoch 17/50, Train Loss: 0.000163, Test Loss: 0.000181\n",
      "Epoch 18/50, Train Loss: 0.000151, Test Loss: 0.000161\n",
      "Epoch 19/50, Train Loss: 0.000146, Test Loss: 0.000167\n",
      "Epoch 20/50, Train Loss: 0.000141, Test Loss: 0.000225\n",
      "Epoch 21/50, Train Loss: 0.000135, Test Loss: 0.000134\n",
      "Epoch 22/50, Train Loss: 0.000131, Test Loss: 0.000194\n",
      "Epoch 23/50, Train Loss: 0.000130, Test Loss: 0.000286\n",
      "Epoch 24/50, Train Loss: 0.000132, Test Loss: 0.000144\n",
      "Epoch 25/50, Train Loss: 0.000122, Test Loss: 0.000139\n",
      "Epoch 26/50, Train Loss: 0.000123, Test Loss: 0.000122\n",
      "Epoch 27/50, Train Loss: 0.000116, Test Loss: 0.000136\n",
      "Epoch 28/50, Train Loss: 0.000118, Test Loss: 0.000362\n",
      "Epoch 29/50, Train Loss: 0.000126, Test Loss: 0.000201\n",
      "Epoch 30/50, Train Loss: 0.000115, Test Loss: 0.000165\n",
      "Epoch 31/50, Train Loss: 0.000112, Test Loss: 0.000113\n",
      "Epoch 32/50, Train Loss: 0.000109, Test Loss: 0.000194\n",
      "Epoch 33/50, Train Loss: 0.000109, Test Loss: 0.000157\n",
      "Epoch 34/50, Train Loss: 0.000106, Test Loss: 0.000141\n",
      "Epoch 35/50, Train Loss: 0.000105, Test Loss: 0.000182\n",
      "Epoch 36/50, Train Loss: 0.000110, Test Loss: 0.000140\n",
      "Epoch 37/50, Train Loss: 0.000099, Test Loss: 0.000145\n",
      "Epoch 38/50, Train Loss: 0.000100, Test Loss: 0.000153\n",
      "Epoch 39/50, Train Loss: 0.000097, Test Loss: 0.000127\n",
      "Epoch 40/50, Train Loss: 0.000095, Test Loss: 0.000159\n",
      "Epoch 41/50, Train Loss: 0.000095, Test Loss: 0.000157\n",
      "Epoch 42/50, Train Loss: 0.000092, Test Loss: 0.000128\n",
      "Epoch 43/50, Train Loss: 0.000092, Test Loss: 0.000121\n",
      "Epoch 44/50, Train Loss: 0.000093, Test Loss: 0.000113\n",
      "Epoch 45/50, Train Loss: 0.000089, Test Loss: 0.000124\n",
      "Epoch 46/50, Train Loss: 0.000090, Test Loss: 0.000110\n",
      "Epoch 47/50, Train Loss: 0.000090, Test Loss: 0.000204\n",
      "Epoch 48/50, Train Loss: 0.000085, Test Loss: 0.000124\n",
      "Epoch 49/50, Train Loss: 0.000086, Test Loss: 0.000123\n",
      "Epoch 50/50, Train Loss: 0.000086, Test Loss: 0.000123\n"
     ]
    }
   ],
   "source": [
    "trained_model, train_losses, test_losses  = train_model_ae(model, dataloader_train, dataloader_test, epochs=epochs, lr=lr, device=device)"
   ]
  },
  {
   "cell_type": "markdown",
   "metadata": {},
   "source": [
    "### Evaluation"
   ]
  },
  {
   "cell_type": "code",
   "execution_count": 11,
   "metadata": {},
   "outputs": [
    {
     "data": {
      "image/png": "[encoded data removed]",
      "text/plain": [
       "<Figure size 800x500 with 1 Axes>"
      ]
     },
     "metadata": {},
     "output_type": "display_data"
    }
   ],
   "source": [
    "plot_loss_log_scale(train_losses, test_losses)"
   ]
  },
  {
   "cell_type": "markdown",
   "metadata": {},
   "source": [
    "Use trained Encoder part to get the features for train, test and evaluation Data"
   ]
  },
  {
   "cell_type": "code",
   "execution_count": 12,
   "metadata": {},
   "outputs": [],
   "source": [
    "train_features, train_coord_dl = extract_features_ae(trained_model, dataloader_train, device)\n",
    "test_features, test_coord_dl = extract_features_ae(trained_model, dataloader_test, device)\n",
    "eval_features, eval_coord_dl = extract_features_ae(trained_model, dataloader_eval, device)\n",
    "\n",
    "train_features = train_features.cpu()\n",
    "test_features = test_features.cpu()\n",
    "eval_features = eval_features.cpu()\n",
    "\n",
    "combined_train_features = torch.cat((train_features, test_features), dim=0)\n",
    "combined_train_coords = train_coord_dl + test_coord_dl"
   ]
  },
  {
   "cell_type": "markdown",
   "metadata": {},
   "source": [
    "K-means on extracted features"
   ]
  },
  {
   "cell_type": "code",
   "execution_count": 15,
   "metadata": {},
   "outputs": [
    {
     "name": "stderr",
     "output_type": "stream",
     "text": [
      "/home/k64835/.local/lib/python3.8/site-packages/sklearn/cluster/_kmeans.py:1416: FutureWarning: The default value of `n_init` will change from 10 to 'auto' in 1.4. Set the value of `n_init` explicitly to suppress the warning\n",
      "  super()._check_params_vs_input(X, default_n_init=10)\n"
     ]
    }
   ],
   "source": [
    "kmeans = train_kmeans_patches(combined_train_features, n_clusters=2, random_state=21)\n",
    "\n",
    "train_subpatch_predictions = kmeans.predict(combined_train_features.reshape(combined_train_features.size(0), -1).numpy().astype(np.float32))\n",
    "eval_subpatch_predictions = kmeans.predict(eval_features.reshape(eval_features.size(0), -1).numpy().astype(np.float32))"
   ]
  },
  {
   "cell_type": "markdown",
   "metadata": {},
   "source": [
    "Convert Subpatch labels to Field labels"
   ]
  },
  {
   "cell_type": "code",
   "execution_count": 16,
   "metadata": {},
   "outputs": [],
   "source": [
    "threshold = config.patch_to_field_threshold\n",
    "train_field_labels = assign_field_labels_ae(combined_train_coords, train_subpatch_predictions, threshold)\n",
    "eval_field_labels = assign_field_labels_ae(eval_coord_dl, eval_subpatch_predictions, threshold)"
   ]
  },
  {
   "cell_type": "markdown",
   "metadata": {},
   "source": [
    "Accuracy and Classification Report"
   ]
  },
  {
   "cell_type": "code",
   "execution_count": 17,
   "metadata": {},
   "outputs": [
    {
     "name": "stdout",
     "output_type": "stream",
     "text": [
      "Evaluation Accuracy: 0.5245901639344263\n",
      "              precision    recall  f1-score   support\n",
      "\n",
      "           0       0.44      0.42      0.43        26\n",
      "           1       0.58      0.60      0.59        35\n",
      "\n",
      "    accuracy                           0.52        61\n",
      "   macro avg       0.51      0.51      0.51        61\n",
      "weighted avg       0.52      0.52      0.52        61\n",
      "\n"
     ]
    }
   ],
   "source": [
    "accuracy, report, cm, x_y_coords = evaluate_test_labels_ae(eval_field_labels, config.labels_path)\n",
    "print(f\"Evaluation Accuracy: {accuracy}\")\n",
    "print(report)"
   ]
  },
  {
   "cell_type": "markdown",
   "metadata": {},
   "source": [
    "Clustering Accuracy"
   ]
  },
  {
   "cell_type": "code",
   "execution_count": 18,
   "metadata": {},
   "outputs": [
    {
     "name": "stdout",
     "output_type": "stream",
     "text": [
      "Accuracy: 0.5245901639344263\n",
      "Precision: [0.44       0.58333333]\n",
      "Recall: [0.42307692 0.6       ]\n",
      "F1-score: [0.43137255 0.5915493 ]\n"
     ]
    }
   ],
   "source": [
    "acc, precision_per_class, recall_per_class, f1_per_class = evaluate_clustering_metrics(eval_field_labels, config.labels_path)\n",
    "print(\"Accuracy:\",acc)\n",
    "print(\"Precision:\",precision_per_class)\n",
    "print(\"Recall:\",recall_per_class)\n",
    "print(\"F1-score:\",f1_per_class)"
   ]
  },
  {
   "cell_type": "markdown",
   "metadata": {},
   "source": [
    "## Architecture 2: Autoencoder with Residual Connections"
   ]
  },
  {
   "cell_type": "markdown",
   "metadata": {},
   "source": [
    "### Architecture"
   ]
  },
  {
   "cell_type": "code",
   "execution_count": null,
   "metadata": {},
   "outputs": [],
   "source": []
  },
  {
   "cell_type": "code",
   "execution_count": null,
   "metadata": {},
   "outputs": [],
   "source": []
  },
  {
   "cell_type": "markdown",
   "metadata": {},
   "source": [
    "## Architecture 3: Conv2D with Time as Channels"
   ]
  },
  {
   "cell_type": "code",
   "execution_count": 32,
   "metadata": {},
   "outputs": [],
   "source": [
    "class Conv2DAutoencoder(nn.Module):\n",
    "    def __init__(self, in_channels, time_steps, latent_size, patch_size):\n",
    "        super(Conv2DAutoencoder, self).__init__()\n",
    "\n",
    "        self.time_steps = time_steps\n",
    "        self.in_channels = in_channels\n",
    "\n",
    "        # --- Encoder (2D Convolutions, treating time steps as channels) ---\n",
    "        self.conv1 = nn.Conv2d(in_channels * time_steps, 64, kernel_size=3, stride=1, padding=1)\n",
    "        self.conv2 = nn.Conv2d(64, 128, kernel_size=3, stride=1, padding=1)\n",
    "        self.conv3 = nn.Conv2d(128, 256, kernel_size=3, stride=1, padding=1)\n",
    "\n",
    "        # --- Fully Connected Latent Space ---\n",
    "        self.flatten = nn.Flatten()\n",
    "        self.fc1 = nn.Linear(256 * patch_size * patch_size, 512)\n",
    "        self.fc2 = nn.Linear(512, latent_size)\n",
    "\n",
    "        # --- Decoder (Fully Connected) ---\n",
    "        self.fc3 = nn.Linear(latent_size, 512)\n",
    "        self.fc4 = nn.Linear(512, 256 * patch_size * patch_size)\n",
    "\n",
    "        # --- 2D Deconvolutions ---\n",
    "        self.deconv1 = nn.ConvTranspose2d(256, 128, kernel_size=3, stride=1, padding=1)\n",
    "        self.deconv2 = nn.ConvTranspose2d(128, 64, kernel_size=3, stride=1, padding=1)\n",
    "        self.deconv3 = nn.ConvTranspose2d(64, in_channels * time_steps, kernel_size=3, stride=1, padding=1)\n",
    "\n",
    "    def forward(self, x):\n",
    "        # --- Encoder ---\n",
    "        b, c, t, h, w = x.shape\n",
    "        x = x.view(b, c * t, h, w)      # Reshape to treat time steps as channels (B, C * D, H, W)\n",
    "        # print(x.shape)\n",
    "\n",
    "        x = F.relu(self.conv1(x))\n",
    "        x = F.relu(self.conv2(x))\n",
    "        x = F.relu(self.conv3(x))\n",
    "\n",
    "        # --- Flatten and Fully Connected ---\n",
    "        x = self.flatten(x)\n",
    "        x = F.relu(self.fc1(x))\n",
    "        z = self.fc2(x)\n",
    "\n",
    "        # print(x.shape)\n",
    "\n",
    "        # --- Decoder ---\n",
    "        x = F.relu(self.fc3(z))\n",
    "        x = F.relu(self.fc4(x))\n",
    "\n",
    "        # --- 2D Deconvolutions ---\n",
    "        x = x.view(b, 256, h, w)        # Reshape back to spatial dimensions\n",
    "        # print(x.shape)\n",
    "        x = F.relu(self.deconv1(x))\n",
    "        x = F.relu(self.deconv2(x))\n",
    "        x = self.deconv3(x)\n",
    "        # print(x.shape)\n",
    "\n",
    "        # --- Reshape to B x C x D x H x W ---\n",
    "        x_reconstructed = x.view(b, self.in_channels, self.time_steps, h, w) \n",
    "\n",
    "        return z, x_reconstructed\n"
   ]
  },
  {
   "cell_type": "markdown",
   "metadata": {},
   "source": [
    "### Training"
   ]
  },
  {
   "cell_type": "code",
   "execution_count": 33,
   "metadata": {},
   "outputs": [
    {
     "data": {
      "text/plain": [
       "Conv3DAutoencoderVariant(\n",
       "  (conv1): Conv2d(70, 64, kernel_size=(3, 3), stride=(1, 1), padding=(1, 1))\n",
       "  (conv2): Conv2d(64, 128, kernel_size=(3, 3), stride=(1, 1), padding=(1, 1))\n",
       "  (conv3): Conv2d(128, 256, kernel_size=(3, 3), stride=(1, 1), padding=(1, 1))\n",
       "  (flatten): Flatten(start_dim=1, end_dim=-1)\n",
       "  (fc1): Linear(in_features=6400, out_features=512, bias=True)\n",
       "  (fc2): Linear(in_features=512, out_features=32, bias=True)\n",
       "  (fc3): Linear(in_features=32, out_features=512, bias=True)\n",
       "  (fc4): Linear(in_features=512, out_features=6400, bias=True)\n",
       "  (deconv1): ConvTranspose2d(256, 128, kernel_size=(3, 3), stride=(1, 1), padding=(1, 1))\n",
       "  (deconv2): ConvTranspose2d(128, 64, kernel_size=(3, 3), stride=(1, 1), padding=(1, 1))\n",
       "  (deconv3): ConvTranspose2d(64, 70, kernel_size=(3, 3), stride=(1, 1), padding=(1, 1))\n",
       ")"
      ]
     },
     "execution_count": 33,
     "metadata": {},
     "output_type": "execute_result"
    }
   ],
   "source": [
    "device = 'cuda'\n",
    "epochs = 50\n",
    "lr = 0.001\n",
    "latent_dim=32\n",
    "channels = 10\n",
    "time_steps = 7\n",
    "patch_size = config.subpatch_size\n",
    "\n",
    "model = Conv2DAutoencoder(channels, time_steps, latent_dim, config.subpatch_size)\n",
    "device = torch.device(device)  \n",
    "model.to(device)"
   ]
  },
  {
   "cell_type": "code",
   "execution_count": 34,
   "metadata": {},
   "outputs": [
    {
     "name": "stdout",
     "output_type": "stream",
     "text": [
      "Epoch 1/50, Train Loss: 0.006740, Test Loss: 0.002242\n",
      "Epoch 2/50, Train Loss: 0.001546, Test Loss: 0.001516\n",
      "Epoch 3/50, Train Loss: 0.001200, Test Loss: 0.001747\n",
      "Epoch 4/50, Train Loss: 0.001044, Test Loss: 0.001299\n",
      "Epoch 5/50, Train Loss: 0.000847, Test Loss: 0.001144\n",
      "Epoch 6/50, Train Loss: 0.000773, Test Loss: 0.000704\n",
      "Epoch 7/50, Train Loss: 0.000690, Test Loss: 0.000846\n",
      "Epoch 8/50, Train Loss: 0.000676, Test Loss: 0.001273\n",
      "Epoch 9/50, Train Loss: 0.000649, Test Loss: 0.000709\n",
      "Epoch 10/50, Train Loss: 0.000546, Test Loss: 0.000575\n",
      "Epoch 11/50, Train Loss: 0.000480, Test Loss: 0.000588\n",
      "Epoch 12/50, Train Loss: 0.000429, Test Loss: 0.000487\n",
      "Epoch 13/50, Train Loss: 0.000411, Test Loss: 0.000525\n",
      "Epoch 14/50, Train Loss: 0.000402, Test Loss: 0.000459\n",
      "Epoch 15/50, Train Loss: 0.000381, Test Loss: 0.000533\n",
      "Epoch 16/50, Train Loss: 0.000368, Test Loss: 0.000354\n",
      "Epoch 17/50, Train Loss: 0.000323, Test Loss: 0.000358\n",
      "Epoch 18/50, Train Loss: 0.000309, Test Loss: 0.000438\n",
      "Epoch 19/50, Train Loss: 0.000281, Test Loss: 0.000555\n",
      "Epoch 20/50, Train Loss: 0.000263, Test Loss: 0.000399\n",
      "Epoch 21/50, Train Loss: 0.000252, Test Loss: 0.000518\n",
      "Epoch 22/50, Train Loss: 0.000241, Test Loss: 0.000707\n",
      "Epoch 23/50, Train Loss: 0.000232, Test Loss: 0.000593\n",
      "Epoch 24/50, Train Loss: 0.000220, Test Loss: 0.000261\n",
      "Epoch 25/50, Train Loss: 0.000200, Test Loss: 0.000213\n",
      "Epoch 26/50, Train Loss: 0.000193, Test Loss: 0.000298\n",
      "Epoch 27/50, Train Loss: 0.000192, Test Loss: 0.000250\n",
      "Epoch 28/50, Train Loss: 0.000190, Test Loss: 0.000214\n",
      "Epoch 29/50, Train Loss: 0.000184, Test Loss: 0.000254\n",
      "Epoch 30/50, Train Loss: 0.000183, Test Loss: 0.000269\n",
      "Epoch 31/50, Train Loss: 0.000177, Test Loss: 0.000301\n",
      "Epoch 32/50, Train Loss: 0.000176, Test Loss: 0.000258\n",
      "Epoch 33/50, Train Loss: 0.000163, Test Loss: 0.000211\n",
      "Epoch 34/50, Train Loss: 0.000158, Test Loss: 0.000171\n",
      "Epoch 35/50, Train Loss: 0.000156, Test Loss: 0.000251\n",
      "Epoch 36/50, Train Loss: 0.000152, Test Loss: 0.000262\n",
      "Epoch 37/50, Train Loss: 0.000150, Test Loss: 0.000250\n",
      "Epoch 38/50, Train Loss: 0.000149, Test Loss: 0.000250\n",
      "Epoch 39/50, Train Loss: 0.000147, Test Loss: 0.000162\n",
      "Epoch 40/50, Train Loss: 0.000143, Test Loss: 0.000368\n",
      "Epoch 41/50, Train Loss: 0.000144, Test Loss: 0.000197\n",
      "Epoch 42/50, Train Loss: 0.000137, Test Loss: 0.000228\n",
      "Epoch 43/50, Train Loss: 0.000137, Test Loss: 0.000167\n",
      "Epoch 44/50, Train Loss: 0.000133, Test Loss: 0.000157\n",
      "Epoch 45/50, Train Loss: 0.000131, Test Loss: 0.000173\n",
      "Epoch 46/50, Train Loss: 0.000130, Test Loss: 0.000194\n",
      "Epoch 47/50, Train Loss: 0.000129, Test Loss: 0.000162\n",
      "Epoch 48/50, Train Loss: 0.000127, Test Loss: 0.000429\n",
      "Epoch 49/50, Train Loss: 0.000144, Test Loss: 0.000252\n",
      "Epoch 50/50, Train Loss: 0.000126, Test Loss: 0.000186\n"
     ]
    }
   ],
   "source": [
    "trained_model, train_losses, test_losses  = train_model_ae(model, dataloader_train, dataloader_test, epochs=epochs, lr=lr, device=device)"
   ]
  },
  {
   "cell_type": "markdown",
   "metadata": {},
   "source": [
    "### Evaluation"
   ]
  },
  {
   "cell_type": "code",
   "execution_count": 35,
   "metadata": {},
   "outputs": [
    {
     "data": {
      "image/png": "[encoded data removed]",
      "text/plain": [
       "<Figure size 800x500 with 1 Axes>"
      ]
     },
     "metadata": {},
     "output_type": "display_data"
    }
   ],
   "source": [
    "plot_loss_log_scale(train_losses, test_losses)"
   ]
  },
  {
   "cell_type": "markdown",
   "metadata": {},
   "source": [
    "Use trained Encoder part to get the features for train, test and evaluation Data"
   ]
  },
  {
   "cell_type": "code",
   "execution_count": 36,
   "metadata": {},
   "outputs": [],
   "source": [
    "train_features, train_coord_dl = extract_features_ae(trained_model, dataloader_train, device)\n",
    "test_features, test_coord_dl = extract_features_ae(trained_model, dataloader_test, device)\n",
    "eval_features, eval_coord_dl = extract_features_ae(trained_model, dataloader_eval, device)\n",
    "\n",
    "train_features = train_features.cpu()\n",
    "test_features = test_features.cpu()\n",
    "eval_features = eval_features.cpu()\n",
    "\n",
    "combined_train_features = torch.cat((train_features, test_features), dim=0)\n",
    "combined_train_coords = train_coord_dl + test_coord_dl"
   ]
  },
  {
   "cell_type": "markdown",
   "metadata": {},
   "source": [
    "K-means on extracted features"
   ]
  },
  {
   "cell_type": "code",
   "execution_count": 37,
   "metadata": {},
   "outputs": [
    {
     "name": "stderr",
     "output_type": "stream",
     "text": [
      "/home/k64835/.local/lib/python3.8/site-packages/sklearn/cluster/_kmeans.py:1416: FutureWarning: The default value of `n_init` will change from 10 to 'auto' in 1.4. Set the value of `n_init` explicitly to suppress the warning\n",
      "  super()._check_params_vs_input(X, default_n_init=10)\n"
     ]
    }
   ],
   "source": [
    "kmeans = train_kmeans_patches(combined_train_features, n_clusters=2, random_state=22)\n",
    "\n",
    "train_subpatch_predictions = kmeans.predict(combined_train_features.reshape(combined_train_features.size(0), -1).numpy().astype(np.float32))\n",
    "eval_subpatch_predictions = kmeans.predict(eval_features.reshape(eval_features.size(0), -1).numpy().astype(np.float32))"
   ]
  },
  {
   "cell_type": "markdown",
   "metadata": {},
   "source": [
    "Convert Subpatch labels to Field labels"
   ]
  },
  {
   "cell_type": "code",
   "execution_count": 38,
   "metadata": {},
   "outputs": [],
   "source": [
    "threshold = config.patch_to_field_threshold\n",
    "train_field_labels = assign_field_labels_ae(combined_train_coords, train_subpatch_predictions, threshold)\n",
    "eval_field_labels = assign_field_labels_ae(eval_coord_dl, eval_subpatch_predictions, threshold)"
   ]
  },
  {
   "cell_type": "markdown",
   "metadata": {},
   "source": [
    "Accuracy and Classification Report"
   ]
  },
  {
   "cell_type": "code",
   "execution_count": 39,
   "metadata": {},
   "outputs": [
    {
     "name": "stdout",
     "output_type": "stream",
     "text": [
      "Evaluation Accuracy: 0.6229508196721312\n",
      "              precision    recall  f1-score   support\n",
      "\n",
      "           0       0.57      0.46      0.51        26\n",
      "           1       0.65      0.74      0.69        35\n",
      "\n",
      "    accuracy                           0.62        61\n",
      "   macro avg       0.61      0.60      0.60        61\n",
      "weighted avg       0.62      0.62      0.62        61\n",
      "\n"
     ]
    }
   ],
   "source": [
    "accuracy, report, cm, x_y_coords = evaluate_test_labels_ae(eval_field_labels, config.labels_path)\n",
    "print(f\"Evaluation Accuracy: {accuracy}\")\n",
    "print(report)"
   ]
  },
  {
   "cell_type": "markdown",
   "metadata": {},
   "source": [
    "Clustering Accuracy"
   ]
  },
  {
   "cell_type": "code",
   "execution_count": 40,
   "metadata": {},
   "outputs": [
    {
     "name": "stdout",
     "output_type": "stream",
     "text": [
      "Accuracy: 0.6229508196721312\n",
      "Precision: [0.57142857 0.65      ]\n",
      "Recall: [0.46153846 0.74285714]\n",
      "F1-score: [0.5106383  0.69333333]\n"
     ]
    }
   ],
   "source": [
    "acc, precision_per_class, recall_per_class, f1_per_class = evaluate_clustering_metrics(eval_field_labels, config.labels_path)\n",
    "print(\"Accuracy:\",acc)\n",
    "print(\"Precision:\",precision_per_class)\n",
    "print(\"Recall:\",recall_per_class)\n",
    "print(\"F1-score:\",f1_per_class)"
   ]
  },
  {
   "cell_type": "code",
   "execution_count": null,
   "metadata": {},
   "outputs": [],
   "source": []
  },
  {
   "cell_type": "code",
   "execution_count": null,
   "metadata": {},
   "outputs": [],
   "source": []
  },
  {
   "cell_type": "markdown",
   "metadata": {},
   "source": [
    "## Architecture 4: Variational Autoencoder"
   ]
  },
  {
   "cell_type": "code",
   "execution_count": 41,
   "metadata": {},
   "outputs": [],
   "source": [
    "class Conv3DVAE(nn.Module):\n",
    "    def __init__(self, in_channels, time_steps, latent_size, patch_size):\n",
    "        super(Conv3DVAE, self).__init__()\n",
    "\n",
    "        self.time_steps = time_steps\n",
    "        self.in_channels = in_channels\n",
    "\n",
    "        # --- Encoder (3D Convolutions) ---\n",
    "        self.conv1 = nn.Conv3d(in_channels, 64, kernel_size=3, stride=1, padding=1)\n",
    "        self.conv2 = nn.Conv3d(64, 128, kernel_size=3, stride=1, padding=1)\n",
    "        self.conv3 = nn.Conv3d(128, 256, kernel_size=3, stride=1, padding=1)\n",
    "\n",
    "        # --- 1D Convolution (Time Aggregation) ---\n",
    "        self.conv1d = nn.Conv1d(256 * patch_size * patch_size, 256 * patch_size * patch_size, kernel_size=time_steps, stride=1, padding=0, groups=128 * patch_size * patch_size)\n",
    "\n",
    "        # --- Fully Connected Latent Space ---\n",
    "        self.flatten = nn.Flatten()\n",
    "        self.fc1 = nn.Linear(256 * patch_size * patch_size, 512)\n",
    "        self.fc_mu = nn.Linear(512, latent_size)  # Mean\n",
    "        self.fc_logvar = nn.Linear(512, latent_size)  # Log Variance\n",
    "\n",
    "        # --- Decoder (Fully Connected) ---\n",
    "        self.fc3 = nn.Linear(latent_size, 512)\n",
    "        self.fc4 = nn.Linear(512, 256 * patch_size * patch_size)\n",
    "\n",
    "        # --- 1D Deconvolution to Expand Time Back ---\n",
    "        self.deconv1d = nn.ConvTranspose1d(256 * patch_size * patch_size, 256 * patch_size * patch_size, kernel_size=time_steps, stride=1, padding=0, groups=128 * patch_size * patch_size)\n",
    "\n",
    "        # --- 3D Deconvolutions ---\n",
    "        self.unflatten = nn.Unflatten(1, (256, patch_size, patch_size))\n",
    "        self.deconv1 = nn.ConvTranspose3d(256, 128, kernel_size=3, stride=1, padding=1)\n",
    "        self.deconv2 = nn.ConvTranspose3d(128, 64, kernel_size=3, stride=1, padding=1)\n",
    "        self.deconv3 = nn.ConvTranspose3d(64, in_channels, kernel_size=3, stride=1, padding=1)\n",
    "\n",
    "    def reparameterize(self, mu, log_var):\n",
    "        std = torch.exp(0.5 * log_var)\n",
    "        eps = torch.randn_like(std)\n",
    "        return mu + eps * std\n",
    "\n",
    "    def forward(self, x):\n",
    "        # --- Encoder ---\n",
    "        x = F.relu(self.conv1(x))\n",
    "        x = F.relu(self.conv2(x))\n",
    "        x = F.relu(self.conv3(x))\n",
    "\n",
    "        # --- Reshape for 1D Conv ---\n",
    "        b, c, t, h, w = x.shape  \n",
    "        x = x.view(b, c * h * w, t)\n",
    "        x = self.conv1d(x)  # Time aggregation\n",
    "\n",
    "        # --- Flatten and Fully Connected ---\n",
    "        x = self.flatten(x)  \n",
    "        x = F.relu(self.fc1(x))\n",
    "        mu = self.fc_mu(x)\n",
    "        log_var = self.fc_logvar(x)\n",
    "        \n",
    "        # --- Reparameterization Trick ---\n",
    "        z = self.reparameterize(mu, log_var)\n",
    "\n",
    "        # --- Decoder ---\n",
    "        x = F.relu(self.fc3(z))\n",
    "        x = F.relu(self.fc4(x)) \n",
    "\n",
    "        # --- Expand Time Back ---\n",
    "        x = x.view(b, 256 * patch_size * patch_size, 1)\n",
    "        x = self.deconv1d(x)\n",
    "\n",
    "        # --- Reshape for 3D Deconvolutions ---\n",
    "        x = x.view(b, -1, self.time_steps, h, w)\n",
    "\n",
    "        # --- 3D Deconvolutions ---\n",
    "        x = F.relu(self.deconv1(x))\n",
    "        x = F.relu(self.deconv2(x))\n",
    "        x_reconstructed = self.deconv3(x)\n",
    "\n",
    "        return mu, log_var, z, x_reconstructed"
   ]
  },
  {
   "cell_type": "markdown",
   "metadata": {},
   "source": [
    "### Training"
   ]
  },
  {
   "cell_type": "code",
   "execution_count": 42,
   "metadata": {},
   "outputs": [
    {
     "data": {
      "text/plain": [
       "Conv3DVAE(\n",
       "  (conv1): Conv3d(10, 64, kernel_size=(3, 3, 3), stride=(1, 1, 1), padding=(1, 1, 1))\n",
       "  (conv2): Conv3d(64, 128, kernel_size=(3, 3, 3), stride=(1, 1, 1), padding=(1, 1, 1))\n",
       "  (conv3): Conv3d(128, 256, kernel_size=(3, 3, 3), stride=(1, 1, 1), padding=(1, 1, 1))\n",
       "  (conv1d): Conv1d(6400, 6400, kernel_size=(7,), stride=(1,), groups=3200)\n",
       "  (flatten): Flatten(start_dim=1, end_dim=-1)\n",
       "  (fc1): Linear(in_features=6400, out_features=512, bias=True)\n",
       "  (fc_mu): Linear(in_features=512, out_features=16, bias=True)\n",
       "  (fc_logvar): Linear(in_features=512, out_features=16, bias=True)\n",
       "  (fc3): Linear(in_features=16, out_features=512, bias=True)\n",
       "  (fc4): Linear(in_features=512, out_features=6400, bias=True)\n",
       "  (deconv1d): ConvTranspose1d(6400, 6400, kernel_size=(7,), stride=(1,), groups=3200)\n",
       "  (unflatten): Unflatten(dim=1, unflattened_size=(256, 5, 5))\n",
       "  (deconv1): ConvTranspose3d(256, 128, kernel_size=(3, 3, 3), stride=(1, 1, 1), padding=(1, 1, 1))\n",
       "  (deconv2): ConvTranspose3d(128, 64, kernel_size=(3, 3, 3), stride=(1, 1, 1), padding=(1, 1, 1))\n",
       "  (deconv3): ConvTranspose3d(64, 10, kernel_size=(3, 3, 3), stride=(1, 1, 1), padding=(1, 1, 1))\n",
       ")"
      ]
     },
     "execution_count": 42,
     "metadata": {},
     "output_type": "execute_result"
    }
   ],
   "source": [
    "device = 'cuda'\n",
    "epochs = 50\n",
    "lr = 0.001\n",
    "latent_dim=32\n",
    "channels = 10\n",
    "time_steps = 7\n",
    "patch_size = config.subpatch_size\n",
    "\n",
    "model = Conv3DVAE(channels, time_steps, latent_dim, config.subpatch_size)\n",
    "device = torch.device(device)  \n",
    "model.to(device)"
   ]
  },
  {
   "cell_type": "code",
   "execution_count": 43,
   "metadata": {},
   "outputs": [
    {
     "name": "stdout",
     "output_type": "stream",
     "text": [
      "Epoch 1/50\n",
      "  Train Recon Loss: 363.3264, Train KL Loss: 0.7812\n",
      "  Test Recon Loss: 348.4294, Test KL Loss: 0.0585\n",
      "Epoch 2/50\n",
      "  Train Recon Loss: 294.7297, Train KL Loss: 3.3737\n",
      "  Test Recon Loss: 305.5763, Test KL Loss: 23.7849\n",
      "Epoch 3/50\n",
      "  Train Recon Loss: 246.2527, Train KL Loss: 24.1674\n",
      "  Test Recon Loss: 232.1358, Test KL Loss: 27.8845\n",
      "Epoch 4/50\n",
      "  Train Recon Loss: 226.2915, Train KL Loss: 32.1571\n",
      "  Test Recon Loss: 231.0629, Test KL Loss: 32.8368\n",
      "Epoch 5/50\n",
      "  Train Recon Loss: 222.2520, Train KL Loss: 34.1397\n",
      "  Test Recon Loss: 222.2191, Test KL Loss: 38.2368\n",
      "Epoch 6/50\n",
      "  Train Recon Loss: 219.8270, Train KL Loss: 34.7683\n",
      "  Test Recon Loss: 219.1722, Test KL Loss: 33.8336\n",
      "Epoch 7/50\n",
      "  Train Recon Loss: 217.1494, Train KL Loss: 35.2836\n",
      "  Test Recon Loss: 231.0212, Test KL Loss: 33.4131\n",
      "Epoch 8/50\n",
      "  Train Recon Loss: 217.6331, Train KL Loss: 35.4432\n",
      "  Test Recon Loss: 278.5249, Test KL Loss: 34.5695\n",
      "Epoch 9/50\n",
      "  Train Recon Loss: 216.8927, Train KL Loss: 35.9222\n",
      "  Test Recon Loss: 214.0959, Test KL Loss: 35.7869\n",
      "Epoch 10/50\n",
      "  Train Recon Loss: 215.3638, Train KL Loss: 35.7989\n",
      "  Test Recon Loss: 219.9461, Test KL Loss: 37.7396\n",
      "Epoch 11/50\n",
      "  Train Recon Loss: 214.0591, Train KL Loss: 36.6738\n",
      "  Test Recon Loss: 217.7783, Test KL Loss: 36.2406\n",
      "Epoch 12/50\n",
      "  Train Recon Loss: 213.8067, Train KL Loss: 36.0804\n",
      "  Test Recon Loss: 212.1834, Test KL Loss: 35.1125\n",
      "Epoch 13/50\n",
      "  Train Recon Loss: 213.3168, Train KL Loss: 36.5907\n",
      "  Test Recon Loss: 211.7355, Test KL Loss: 36.6036\n",
      "Epoch 14/50\n",
      "  Train Recon Loss: 213.0463, Train KL Loss: 36.5044\n",
      "  Test Recon Loss: 213.6455, Test KL Loss: 34.9069\n",
      "Epoch 15/50\n",
      "  Train Recon Loss: 212.3696, Train KL Loss: 36.7411\n",
      "  Test Recon Loss: 214.7258, Test KL Loss: 32.6800\n",
      "Epoch 16/50\n",
      "  Train Recon Loss: 211.6021, Train KL Loss: 36.7063\n",
      "  Test Recon Loss: 212.6989, Test KL Loss: 38.2267\n",
      "Epoch 17/50\n",
      "  Train Recon Loss: 211.7472, Train KL Loss: 36.5321\n",
      "  Test Recon Loss: 211.9990, Test KL Loss: 34.5547\n",
      "Epoch 18/50\n",
      "  Train Recon Loss: 211.2044, Train KL Loss: 37.0449\n",
      "  Test Recon Loss: 213.1591, Test KL Loss: 39.7734\n",
      "Epoch 19/50\n",
      "  Train Recon Loss: 210.4754, Train KL Loss: 37.4956\n",
      "  Test Recon Loss: 207.5539, Test KL Loss: 38.6485\n",
      "Epoch 20/50\n",
      "  Train Recon Loss: 210.4133, Train KL Loss: 37.6097\n",
      "  Test Recon Loss: 212.5241, Test KL Loss: 39.6295\n",
      "Epoch 21/50\n",
      "  Train Recon Loss: 210.1707, Train KL Loss: 37.4920\n",
      "  Test Recon Loss: 209.1158, Test KL Loss: 36.5218\n",
      "Epoch 22/50\n",
      "  Train Recon Loss: 209.8276, Train KL Loss: 37.4241\n",
      "  Test Recon Loss: 205.0954, Test KL Loss: 42.4607\n",
      "Epoch 23/50\n",
      "  Train Recon Loss: 209.8981, Train KL Loss: 37.6564\n",
      "  Test Recon Loss: 214.7722, Test KL Loss: 38.1681\n",
      "Epoch 24/50\n",
      "  Train Recon Loss: 208.7909, Train KL Loss: 38.0815\n",
      "  Test Recon Loss: 204.8961, Test KL Loss: 40.1957\n",
      "Epoch 25/50\n",
      "  Train Recon Loss: 208.2151, Train KL Loss: 38.7057\n",
      "  Test Recon Loss: 207.8690, Test KL Loss: 43.4794\n",
      "Epoch 26/50\n",
      "  Train Recon Loss: 207.2717, Train KL Loss: 39.3095\n",
      "  Test Recon Loss: 211.0460, Test KL Loss: 37.9881\n",
      "Epoch 27/50\n",
      "  Train Recon Loss: 207.0572, Train KL Loss: 39.0856\n",
      "  Test Recon Loss: 205.3944, Test KL Loss: 41.1254\n",
      "Epoch 28/50\n",
      "  Train Recon Loss: 206.0462, Train KL Loss: 39.8656\n",
      "  Test Recon Loss: 211.7142, Test KL Loss: 37.8657\n",
      "Epoch 29/50\n",
      "  Train Recon Loss: 206.8116, Train KL Loss: 39.2621\n",
      "  Test Recon Loss: 203.2916, Test KL Loss: 41.1819\n",
      "Epoch 30/50\n",
      "  Train Recon Loss: 206.0116, Train KL Loss: 39.6429\n",
      "  Test Recon Loss: 206.2251, Test KL Loss: 38.8771\n",
      "Epoch 31/50\n",
      "  Train Recon Loss: 206.3604, Train KL Loss: 39.3101\n",
      "  Test Recon Loss: 205.7618, Test KL Loss: 38.6864\n",
      "Epoch 32/50\n",
      "  Train Recon Loss: 205.9555, Train KL Loss: 39.3406\n",
      "  Test Recon Loss: 204.1374, Test KL Loss: 41.1734\n",
      "Epoch 33/50\n",
      "  Train Recon Loss: 206.1077, Train KL Loss: 39.8671\n",
      "  Test Recon Loss: 205.8172, Test KL Loss: 40.1649\n",
      "Epoch 34/50\n",
      "  Train Recon Loss: 205.6853, Train KL Loss: 39.2321\n",
      "  Test Recon Loss: 203.0072, Test KL Loss: 40.4088\n",
      "Epoch 35/50\n",
      "  Train Recon Loss: 205.7792, Train KL Loss: 39.3959\n",
      "  Test Recon Loss: 205.1172, Test KL Loss: 39.5632\n",
      "Epoch 36/50\n",
      "  Train Recon Loss: 205.7912, Train KL Loss: 39.5385\n",
      "  Test Recon Loss: 203.7834, Test KL Loss: 41.5014\n",
      "Epoch 37/50\n",
      "  Train Recon Loss: 205.4357, Train KL Loss: 39.2964\n",
      "  Test Recon Loss: 201.8181, Test KL Loss: 41.7749\n",
      "Epoch 38/50\n",
      "  Train Recon Loss: 205.1316, Train KL Loss: 39.6236\n",
      "  Test Recon Loss: 208.5123, Test KL Loss: 37.8772\n",
      "Epoch 39/50\n",
      "  Train Recon Loss: 205.4912, Train KL Loss: 39.7992\n",
      "  Test Recon Loss: 204.4775, Test KL Loss: 42.5856\n",
      "Epoch 40/50\n",
      "  Train Recon Loss: 204.9084, Train KL Loss: 40.3225\n",
      "  Test Recon Loss: 208.1251, Test KL Loss: 42.2667\n",
      "Epoch 41/50\n",
      "  Train Recon Loss: 205.4304, Train KL Loss: 39.5480\n",
      "  Test Recon Loss: 206.0517, Test KL Loss: 37.4391\n",
      "Epoch 42/50\n",
      "  Train Recon Loss: 205.1664, Train KL Loss: 39.5358\n",
      "  Test Recon Loss: 199.7761, Test KL Loss: 45.0524\n",
      "Epoch 43/50\n",
      "  Train Recon Loss: 205.0786, Train KL Loss: 39.5954\n",
      "  Test Recon Loss: 204.2486, Test KL Loss: 41.1399\n",
      "Epoch 44/50\n",
      "  Train Recon Loss: 205.0701, Train KL Loss: 39.3464\n",
      "  Test Recon Loss: 205.6310, Test KL Loss: 39.2398\n",
      "Epoch 45/50\n",
      "  Train Recon Loss: 204.7169, Train KL Loss: 39.7983\n",
      "  Test Recon Loss: 205.3274, Test KL Loss: 38.9286\n",
      "Epoch 46/50\n",
      "  Train Recon Loss: 204.5184, Train KL Loss: 40.2678\n",
      "  Test Recon Loss: 204.1494, Test KL Loss: 40.2176\n",
      "Epoch 47/50\n",
      "  Train Recon Loss: 205.0359, Train KL Loss: 39.7751\n",
      "  Test Recon Loss: 204.4281, Test KL Loss: 38.5223\n",
      "Epoch 48/50\n",
      "  Train Recon Loss: 204.3503, Train KL Loss: 40.2848\n",
      "  Test Recon Loss: 200.2176, Test KL Loss: 41.7450\n",
      "Epoch 49/50\n",
      "  Train Recon Loss: 204.2239, Train KL Loss: 40.5116\n",
      "  Test Recon Loss: 206.0907, Test KL Loss: 39.2854\n",
      "Epoch 50/50\n",
      "  Train Recon Loss: 204.2481, Train KL Loss: 40.0155\n",
      "  Test Recon Loss: 205.6439, Test KL Loss: 37.2011\n"
     ]
    }
   ],
   "source": [
    "trained_model, train_recon_losses, train_kl_losses, test_recon_losses, test_kl_losses  = train_model_vae(model, dataloader_train, dataloader_test, epochs=epochs, lr=lr, device=device)"
   ]
  },
  {
   "cell_type": "markdown",
   "metadata": {},
   "source": [
    "### Evaluation"
   ]
  },
  {
   "cell_type": "code",
   "execution_count": 44,
   "metadata": {},
   "outputs": [
    {
     "data": {
      "image/png": "[encoded data removed]",
      "text/plain": [
       "<Figure size 800x500 with 1 Axes>"
      ]
     },
     "metadata": {},
     "output_type": "display_data"
    }
   ],
   "source": [
    "plot_loss_log_scale(train_recon_losses, test_recon_losses)"
   ]
  },
  {
   "cell_type": "code",
   "execution_count": 45,
   "metadata": {},
   "outputs": [
    {
     "data": {
      "image/png": "[encoded data removed]",
      "text/plain": [
       "<Figure size 800x500 with 1 Axes>"
      ]
     },
     "metadata": {},
     "output_type": "display_data"
    }
   ],
   "source": [
    "plot_loss_log_scale(train_kl_losses, test_kl_losses)"
   ]
  },
  {
   "cell_type": "markdown",
   "metadata": {},
   "source": [
    "Use trained Encoder part to get the features for train, test and evaluation Data"
   ]
  },
  {
   "cell_type": "code",
   "execution_count": 46,
   "metadata": {},
   "outputs": [],
   "source": [
    "train_features, train_coord_dl = extract_features_vae(trained_model, dataloader_train, device)\n",
    "test_features, test_coord_dl = extract_features_vae(trained_model, dataloader_test, device)\n",
    "eval_features, eval_coord_dl = extract_features_vae(trained_model, dataloader_eval, device)\n",
    "\n",
    "train_features = train_features.cpu()\n",
    "test_features = test_features.cpu()\n",
    "eval_features = eval_features.cpu()\n",
    "\n",
    "combined_train_features = torch.cat((train_features, test_features), dim=0)\n",
    "combined_train_coords = train_coord_dl + test_coord_dl"
   ]
  },
  {
   "cell_type": "markdown",
   "metadata": {},
   "source": [
    "K-means on extracted features"
   ]
  },
  {
   "cell_type": "code",
   "execution_count": 47,
   "metadata": {},
   "outputs": [
    {
     "name": "stderr",
     "output_type": "stream",
     "text": [
      "/home/k64835/.local/lib/python3.8/site-packages/sklearn/cluster/_kmeans.py:1416: FutureWarning: The default value of `n_init` will change from 10 to 'auto' in 1.4. Set the value of `n_init` explicitly to suppress the warning\n",
      "  super()._check_params_vs_input(X, default_n_init=10)\n"
     ]
    }
   ],
   "source": [
    "kmeans = train_kmeans_patches(combined_train_features, n_clusters=2, random_state=25)\n",
    "\n",
    "train_subpatch_predictions = kmeans.predict(combined_train_features.reshape(combined_train_features.size(0), -1).numpy().astype(np.float32))\n",
    "eval_subpatch_predictions = kmeans.predict(eval_features.reshape(eval_features.size(0), -1).numpy().astype(np.float32))"
   ]
  },
  {
   "cell_type": "markdown",
   "metadata": {},
   "source": [
    "Convert Subpatch labels to Field labels"
   ]
  },
  {
   "cell_type": "code",
   "execution_count": 48,
   "metadata": {},
   "outputs": [],
   "source": [
    "threshold = config.patch_to_field_threshold\n",
    "train_field_labels = assign_field_labels_ae(combined_train_coords, train_subpatch_predictions, threshold)\n",
    "eval_field_labels = assign_field_labels_ae(eval_coord_dl, eval_subpatch_predictions, threshold)"
   ]
  },
  {
   "cell_type": "markdown",
   "metadata": {},
   "source": [
    "Accuracy and Classification Report"
   ]
  },
  {
   "cell_type": "code",
   "execution_count": 49,
   "metadata": {},
   "outputs": [
    {
     "name": "stdout",
     "output_type": "stream",
     "text": [
      "Evaluation Accuracy: 0.5081967213114754\n",
      "              precision    recall  f1-score   support\n",
      "\n",
      "           0       0.43      0.46      0.44        26\n",
      "           1       0.58      0.54      0.56        35\n",
      "\n",
      "    accuracy                           0.51        61\n",
      "   macro avg       0.50      0.50      0.50        61\n",
      "weighted avg       0.51      0.51      0.51        61\n",
      "\n"
     ]
    }
   ],
   "source": [
    "accuracy, report, cm, x_y_coords = evaluate_test_labels_ae(eval_field_labels, config.labels_path)\n",
    "print(f\"Evaluation Accuracy: {accuracy}\")\n",
    "print(report)"
   ]
  },
  {
   "cell_type": "markdown",
   "metadata": {},
   "source": [
    "Clustering Accuracy"
   ]
  },
  {
   "cell_type": "code",
   "execution_count": 50,
   "metadata": {},
   "outputs": [
    {
     "name": "stdout",
     "output_type": "stream",
     "text": [
      "Accuracy: 0.5081967213114754\n",
      "Precision: [0.42857143 0.57575758]\n",
      "Recall: [0.46153846 0.54285714]\n",
      "F1-score: [0.44444444 0.55882353]\n"
     ]
    }
   ],
   "source": [
    "acc, precision_per_class, recall_per_class, f1_per_class = evaluate_clustering_metrics(eval_field_labels, config.labels_path)\n",
    "print(\"Accuracy:\",acc)\n",
    "print(\"Precision:\",precision_per_class)\n",
    "print(\"Recall:\",recall_per_class)\n",
    "print(\"F1-score:\",f1_per_class)"
   ]
  },
  {
   "cell_type": "code",
   "execution_count": null,
   "metadata": {},
   "outputs": [],
   "source": []
  },
  {
   "cell_type": "markdown",
   "metadata": {},
   "source": [
    "## Architecture 5: Variational Autoencoder with time as channels"
   ]
  },
  {
   "cell_type": "code",
   "execution_count": 51,
   "metadata": {},
   "outputs": [],
   "source": [
    "class Conv2DVAE(nn.Module):\n",
    "    def __init__(self, in_channels, time_steps, latent_size, patch_size):\n",
    "        super(Conv3DVAE, self).__init__()\n",
    "\n",
    "        self.time_steps = time_steps\n",
    "        self.in_channels = in_channels\n",
    "\n",
    "        # --- Encoder (2D Convolutions, treating time steps as channels) ---\n",
    "        self.conv1 = nn.Conv2d(in_channels * time_steps, 64, kernel_size=3, stride=1, padding=1)\n",
    "        self.conv2 = nn.Conv2d(64, 128, kernel_size=3, stride=1, padding=1)\n",
    "        self.conv3 = nn.Conv2d(128, 256, kernel_size=3, stride=1, padding=1)\n",
    "\n",
    "        # --- Fully Connected Latent Space ---\n",
    "        self.flatten = nn.Flatten()\n",
    "        self.fc1 = nn.Linear(256 * patch_size * patch_size, 512)\n",
    "        self.fc_mu = nn.Linear(512, latent_size)  # Mean\n",
    "        self.fc_logvar = nn.Linear(512, latent_size)  # Log Variance\n",
    "\n",
    "        # --- Decoder (Fully Connected) ---\n",
    "        self.fc3 = nn.Linear(latent_size, 512)\n",
    "        self.fc4 = nn.Linear(512, 256 * patch_size * patch_size)\n",
    "\n",
    "        # --- 2D Deconvolutions ---\n",
    "        self.deconv1 = nn.ConvTranspose2d(256, 128, kernel_size=3, stride=1, padding=1)\n",
    "        self.deconv2 = nn.ConvTranspose2d(128, 64, kernel_size=3, stride=1, padding=1)\n",
    "        self.deconv3 = nn.ConvTranspose2d(64, in_channels * time_steps, kernel_size=3, stride=1, padding=1)\n",
    "\n",
    "    def reparameterize(self, mu, log_var):\n",
    "        std = torch.exp(0.5 * log_var)\n",
    "        eps = torch.randn_like(std)\n",
    "        return mu + eps * std\n",
    "\n",
    "    def forward(self, x):\n",
    "\n",
    "        # --- Encoder ---\n",
    "        b, c, t, h, w = x.shape\n",
    "        x = x.view(b, c * t, h, w)      # Reshape to treat time steps as channels (B, C * D, H, W)\n",
    "        # print(x.shape)\n",
    "\n",
    "        x = F.relu(self.conv1(x))\n",
    "        x = F.relu(self.conv2(x))\n",
    "        x = F.relu(self.conv3(x))\n",
    "\n",
    "        # --- Flatten and Fully Connected ---\n",
    "        x = self.flatten(x)\n",
    "        x = F.relu(self.fc1(x))\n",
    "        x = self.fc2(x)\n",
    "        mu = self.fc_mu(x)\n",
    "        log_var = self.fc_logvar(x)\n",
    "        \n",
    "        # --- Reparameterization Trick ---\n",
    "        z = self.reparameterize(mu, log_var)\n",
    "\n",
    "        # --- Decoder ---\n",
    "        x = F.relu(self.fc3(z))\n",
    "        x = F.relu(self.fc4(x))\n",
    "\n",
    "        # --- 2D Deconvolutions ---\n",
    "        x = x.view(b, 256, h, w)        # Reshape back to spatial dimensions\n",
    "        # print(x.shape)\n",
    "        x = F.relu(self.deconv1(x))\n",
    "        x = F.relu(self.deconv2(x))\n",
    "        x = self.deconv3(x)\n",
    "        # print(x.shape)\n",
    "\n",
    "        # --- Reshape to B x C x D x H x W ---\n",
    "        x_reconstructed = x.view(b, self.in_channels, self.time_steps, h, w) \n",
    "\n",
    "        return mu, log_var, z, x_reconstructed"
   ]
  },
  {
   "cell_type": "markdown",
   "metadata": {},
   "source": [
    "### Training"
   ]
  },
  {
   "cell_type": "code",
   "execution_count": 52,
   "metadata": {},
   "outputs": [
    {
     "data": {
      "text/plain": [
       "Conv3DVAE(\n",
       "  (conv1): Conv3d(10, 64, kernel_size=(3, 3, 3), stride=(1, 1, 1), padding=(1, 1, 1))\n",
       "  (conv2): Conv3d(64, 128, kernel_size=(3, 3, 3), stride=(1, 1, 1), padding=(1, 1, 1))\n",
       "  (conv3): Conv3d(128, 256, kernel_size=(3, 3, 3), stride=(1, 1, 1), padding=(1, 1, 1))\n",
       "  (conv1d): Conv1d(6400, 6400, kernel_size=(7,), stride=(1,), groups=3200)\n",
       "  (flatten): Flatten(start_dim=1, end_dim=-1)\n",
       "  (fc1): Linear(in_features=6400, out_features=512, bias=True)\n",
       "  (fc_mu): Linear(in_features=512, out_features=16, bias=True)\n",
       "  (fc_logvar): Linear(in_features=512, out_features=16, bias=True)\n",
       "  (fc3): Linear(in_features=16, out_features=512, bias=True)\n",
       "  (fc4): Linear(in_features=512, out_features=6400, bias=True)\n",
       "  (deconv1d): ConvTranspose1d(6400, 6400, kernel_size=(7,), stride=(1,), groups=3200)\n",
       "  (unflatten): Unflatten(dim=1, unflattened_size=(256, 5, 5))\n",
       "  (deconv1): ConvTranspose3d(256, 128, kernel_size=(3, 3, 3), stride=(1, 1, 1), padding=(1, 1, 1))\n",
       "  (deconv2): ConvTranspose3d(128, 64, kernel_size=(3, 3, 3), stride=(1, 1, 1), padding=(1, 1, 1))\n",
       "  (deconv3): ConvTranspose3d(64, 10, kernel_size=(3, 3, 3), stride=(1, 1, 1), padding=(1, 1, 1))\n",
       ")"
      ]
     },
     "execution_count": 52,
     "metadata": {},
     "output_type": "execute_result"
    }
   ],
   "source": [
    "device = 'cuda'\n",
    "epochs = 50\n",
    "lr = 0.001\n",
    "latent_dim=16\n",
    "channels = 10\n",
    "time_steps = 7\n",
    "patch_size = config.subpatch_size\n",
    "\n",
    "model = Conv3DVAE(channels, time_steps, latent_dim, config.subpatch_size)\n",
    "device = torch.device(device)  \n",
    "model.to(device)"
   ]
  },
  {
   "cell_type": "code",
   "execution_count": 53,
   "metadata": {},
   "outputs": [
    {
     "name": "stdout",
     "output_type": "stream",
     "text": [
      "Epoch 1/50\n",
      "  Train Recon Loss: 377.2919, Train KL Loss: 1.1380\n",
      "  Test Recon Loss: 330.6438, Test KL Loss: 1.1119\n",
      "Epoch 2/50\n",
      "  Train Recon Loss: 267.8142, Train KL Loss: 15.8532\n",
      "  Test Recon Loss: 299.0523, Test KL Loss: 38.1530\n",
      "Epoch 3/50\n",
      "  Train Recon Loss: 226.3596, Train KL Loss: 34.3021\n",
      "  Test Recon Loss: 325.3786, Test KL Loss: 30.5450\n",
      "Epoch 4/50\n",
      "  Train Recon Loss: 221.9986, Train KL Loss: 35.7491\n",
      "  Test Recon Loss: 219.1186, Test KL Loss: 36.1772\n",
      "Epoch 5/50\n",
      "  Train Recon Loss: 219.1733, Train KL Loss: 36.2168\n",
      "  Test Recon Loss: 218.3987, Test KL Loss: 37.5001\n",
      "Epoch 6/50\n",
      "  Train Recon Loss: 218.2864, Train KL Loss: 36.6864\n",
      "  Test Recon Loss: 208.4547, Test KL Loss: 40.4486\n",
      "Epoch 7/50\n",
      "  Train Recon Loss: 216.9472, Train KL Loss: 37.3135\n",
      "  Test Recon Loss: 241.2429, Test KL Loss: 37.2222\n",
      "Epoch 8/50\n",
      "  Train Recon Loss: 215.3499, Train KL Loss: 36.8508\n",
      "  Test Recon Loss: 216.8725, Test KL Loss: 36.3642\n",
      "Epoch 9/50\n",
      "  Train Recon Loss: 213.8745, Train KL Loss: 37.5089\n",
      "  Test Recon Loss: 234.6215, Test KL Loss: 36.9733\n",
      "Epoch 10/50\n",
      "  Train Recon Loss: 214.3862, Train KL Loss: 37.4255\n",
      "  Test Recon Loss: 222.7496, Test KL Loss: 37.9167\n",
      "Epoch 11/50\n",
      "  Train Recon Loss: 212.8382, Train KL Loss: 36.8696\n",
      "  Test Recon Loss: 224.4183, Test KL Loss: 36.5297\n",
      "Epoch 12/50\n",
      "  Train Recon Loss: 212.0856, Train KL Loss: 37.0763\n",
      "  Test Recon Loss: 211.1280, Test KL Loss: 37.8408\n",
      "Epoch 13/50\n",
      "  Train Recon Loss: 211.8197, Train KL Loss: 37.3096\n",
      "  Test Recon Loss: 210.5328, Test KL Loss: 39.9308\n",
      "Epoch 14/50\n",
      "  Train Recon Loss: 210.8903, Train KL Loss: 37.5059\n",
      "  Test Recon Loss: 210.8847, Test KL Loss: 39.3056\n",
      "Epoch 15/50\n",
      "  Train Recon Loss: 211.4635, Train KL Loss: 37.5509\n",
      "  Test Recon Loss: 208.6108, Test KL Loss: 37.2342\n",
      "Epoch 16/50\n",
      "  Train Recon Loss: 210.0835, Train KL Loss: 38.0834\n",
      "  Test Recon Loss: 213.0807, Test KL Loss: 35.6482\n",
      "Epoch 17/50\n",
      "  Train Recon Loss: 210.2423, Train KL Loss: 37.2115\n",
      "  Test Recon Loss: 216.2928, Test KL Loss: 34.3105\n",
      "Epoch 18/50\n",
      "  Train Recon Loss: 210.1217, Train KL Loss: 37.8792\n",
      "  Test Recon Loss: 211.8418, Test KL Loss: 38.2872\n",
      "Epoch 19/50\n",
      "  Train Recon Loss: 209.0678, Train KL Loss: 38.1304\n",
      "  Test Recon Loss: 208.4278, Test KL Loss: 38.5667\n",
      "Epoch 20/50\n",
      "  Train Recon Loss: 208.6376, Train KL Loss: 38.7617\n",
      "  Test Recon Loss: 209.1566, Test KL Loss: 39.4094\n",
      "Epoch 21/50\n",
      "  Train Recon Loss: 208.4926, Train KL Loss: 38.2162\n",
      "  Test Recon Loss: 207.9403, Test KL Loss: 37.7871\n",
      "Epoch 22/50\n",
      "  Train Recon Loss: 208.1739, Train KL Loss: 38.7251\n",
      "  Test Recon Loss: 211.2034, Test KL Loss: 34.2981\n",
      "Epoch 23/50\n",
      "  Train Recon Loss: 207.5888, Train KL Loss: 39.1106\n",
      "  Test Recon Loss: 209.9863, Test KL Loss: 39.3897\n",
      "Epoch 24/50\n",
      "  Train Recon Loss: 207.6009, Train KL Loss: 39.2172\n",
      "  Test Recon Loss: 211.4151, Test KL Loss: 34.1373\n",
      "Epoch 25/50\n",
      "  Train Recon Loss: 207.7795, Train KL Loss: 39.0092\n",
      "  Test Recon Loss: 205.0652, Test KL Loss: 41.9620\n",
      "Epoch 26/50\n",
      "  Train Recon Loss: 207.6361, Train KL Loss: 38.8857\n",
      "  Test Recon Loss: 207.7054, Test KL Loss: 37.5310\n",
      "Epoch 27/50\n",
      "  Train Recon Loss: 207.3354, Train KL Loss: 39.4006\n",
      "  Test Recon Loss: 203.9814, Test KL Loss: 41.4457\n",
      "Epoch 28/50\n",
      "  Train Recon Loss: 207.2386, Train KL Loss: 38.5679\n",
      "  Test Recon Loss: 208.3587, Test KL Loss: 36.8142\n",
      "Epoch 29/50\n",
      "  Train Recon Loss: 206.5188, Train KL Loss: 39.3659\n",
      "  Test Recon Loss: 212.2787, Test KL Loss: 35.9226\n",
      "Epoch 30/50\n",
      "  Train Recon Loss: 206.1405, Train KL Loss: 39.0205\n",
      "  Test Recon Loss: 208.7136, Test KL Loss: 35.2675\n",
      "Epoch 31/50\n",
      "  Train Recon Loss: 205.6087, Train KL Loss: 39.9446\n",
      "  Test Recon Loss: 205.4184, Test KL Loss: 38.8052\n",
      "Epoch 32/50\n",
      "  Train Recon Loss: 205.4528, Train KL Loss: 40.2907\n",
      "  Test Recon Loss: 202.4106, Test KL Loss: 42.1095\n",
      "Epoch 33/50\n",
      "  Train Recon Loss: 204.7248, Train KL Loss: 40.4200\n",
      "  Test Recon Loss: 206.2183, Test KL Loss: 40.6979\n",
      "Epoch 34/50\n",
      "  Train Recon Loss: 203.0578, Train KL Loss: 41.8487\n",
      "  Test Recon Loss: 208.0407, Test KL Loss: 39.6388\n",
      "Epoch 35/50\n",
      "  Train Recon Loss: 202.2681, Train KL Loss: 43.1182\n",
      "  Test Recon Loss: 207.4168, Test KL Loss: 39.2358\n",
      "Epoch 36/50\n",
      "  Train Recon Loss: 202.0358, Train KL Loss: 43.3423\n",
      "  Test Recon Loss: 200.2032, Test KL Loss: 44.5425\n",
      "Epoch 37/50\n",
      "  Train Recon Loss: 200.6562, Train KL Loss: 43.6979\n",
      "  Test Recon Loss: 205.1316, Test KL Loss: 39.2230\n",
      "Epoch 38/50\n",
      "  Train Recon Loss: 201.0290, Train KL Loss: 44.0485\n",
      "  Test Recon Loss: 201.1734, Test KL Loss: 45.2290\n",
      "Epoch 39/50\n",
      "  Train Recon Loss: 200.1981, Train KL Loss: 44.2258\n",
      "  Test Recon Loss: 200.1539, Test KL Loss: 42.5595\n",
      "Epoch 40/50\n",
      "  Train Recon Loss: 200.3589, Train KL Loss: 44.1842\n",
      "  Test Recon Loss: 204.0292, Test KL Loss: 39.7664\n",
      "Epoch 41/50\n",
      "  Train Recon Loss: 199.6574, Train KL Loss: 44.0061\n",
      "  Test Recon Loss: 203.2003, Test KL Loss: 44.1628\n",
      "Epoch 42/50\n",
      "  Train Recon Loss: 199.8549, Train KL Loss: 44.3818\n",
      "  Test Recon Loss: 201.5106, Test KL Loss: 42.7380\n",
      "Epoch 43/50\n",
      "  Train Recon Loss: 198.5814, Train KL Loss: 45.2317\n",
      "  Test Recon Loss: 199.8129, Test KL Loss: 45.4328\n",
      "Epoch 44/50\n",
      "  Train Recon Loss: 197.5627, Train KL Loss: 46.4665\n",
      "  Test Recon Loss: 207.0284, Test KL Loss: 44.3412\n",
      "Epoch 45/50\n",
      "  Train Recon Loss: 198.4990, Train KL Loss: 45.4054\n",
      "  Test Recon Loss: 198.8248, Test KL Loss: 44.4535\n",
      "Epoch 46/50\n",
      "  Train Recon Loss: 198.1605, Train KL Loss: 45.3476\n",
      "  Test Recon Loss: 200.0830, Test KL Loss: 45.1820\n",
      "Epoch 47/50\n",
      "  Train Recon Loss: 197.5478, Train KL Loss: 46.0763\n",
      "  Test Recon Loss: 195.3957, Test KL Loss: 48.6660\n",
      "Epoch 48/50\n",
      "  Train Recon Loss: 196.6069, Train KL Loss: 47.0910\n",
      "  Test Recon Loss: 201.0062, Test KL Loss: 45.6196\n",
      "Epoch 49/50\n",
      "  Train Recon Loss: 197.9558, Train KL Loss: 46.0451\n",
      "  Test Recon Loss: 198.4988, Test KL Loss: 45.6294\n",
      "Epoch 50/50\n",
      "  Train Recon Loss: 197.7030, Train KL Loss: 45.4382\n",
      "  Test Recon Loss: 201.8711, Test KL Loss: 43.6777\n"
     ]
    }
   ],
   "source": [
    "trained_model, train_recon_losses, train_kl_losses, test_recon_losses, test_kl_losses  = train_model_vae(model, dataloader_train, dataloader_test, epochs=epochs, lr=lr, device=device)"
   ]
  },
  {
   "cell_type": "markdown",
   "metadata": {},
   "source": [
    "### Evaluation"
   ]
  },
  {
   "cell_type": "code",
   "execution_count": 54,
   "metadata": {},
   "outputs": [
    {
     "data": {
      "image/png": "[encoded data removed]",
      "text/plain": [
       "<Figure size 800x500 with 1 Axes>"
      ]
     },
     "metadata": {},
     "output_type": "display_data"
    }
   ],
   "source": [
    "plot_loss_log_scale(train_recon_losses, test_recon_losses)"
   ]
  },
  {
   "cell_type": "code",
   "execution_count": 55,
   "metadata": {},
   "outputs": [
    {
     "data": {
      "image/png": "[encoded data removed]",
      "text/plain": [
       "<Figure size 800x500 with 1 Axes>"
      ]
     },
     "metadata": {},
     "output_type": "display_data"
    }
   ],
   "source": [
    "plot_loss_log_scale(train_kl_losses, test_kl_losses)"
   ]
  },
  {
   "cell_type": "markdown",
   "metadata": {},
   "source": [
    "Use trained Encoder part to get the features for train, test and evaluation Data"
   ]
  },
  {
   "cell_type": "code",
   "execution_count": 56,
   "metadata": {},
   "outputs": [],
   "source": [
    "train_features, train_coord_dl = extract_features_vae(trained_model, dataloader_train, device)\n",
    "test_features, test_coord_dl = extract_features_vae(trained_model, dataloader_test, device)\n",
    "eval_features, eval_coord_dl = extract_features_vae(trained_model, dataloader_eval, device)\n",
    "\n",
    "train_features = train_features.cpu()\n",
    "test_features = test_features.cpu()\n",
    "eval_features = eval_features.cpu()\n",
    "\n",
    "combined_train_features = torch.cat((train_features, test_features), dim=0)\n",
    "combined_train_coords = train_coord_dl + test_coord_dl"
   ]
  },
  {
   "cell_type": "markdown",
   "metadata": {},
   "source": [
    "K-means on extracted features"
   ]
  },
  {
   "cell_type": "code",
   "execution_count": 57,
   "metadata": {},
   "outputs": [
    {
     "name": "stderr",
     "output_type": "stream",
     "text": [
      "/home/k64835/.local/lib/python3.8/site-packages/sklearn/cluster/_kmeans.py:1416: FutureWarning: The default value of `n_init` will change from 10 to 'auto' in 1.4. Set the value of `n_init` explicitly to suppress the warning\n",
      "  super()._check_params_vs_input(X, default_n_init=10)\n"
     ]
    }
   ],
   "source": [
    "kmeans = train_kmeans_patches(combined_train_features, n_clusters=2, random_state=26)\n",
    "\n",
    "train_subpatch_predictions = kmeans.predict(combined_train_features.reshape(combined_train_features.size(0), -1).numpy().astype(np.float32))\n",
    "eval_subpatch_predictions = kmeans.predict(eval_features.reshape(eval_features.size(0), -1).numpy().astype(np.float32))"
   ]
  },
  {
   "cell_type": "markdown",
   "metadata": {},
   "source": [
    "Convert Subpatch labels to Field labels"
   ]
  },
  {
   "cell_type": "code",
   "execution_count": 58,
   "metadata": {},
   "outputs": [],
   "source": [
    "threshold = config.patch_to_field_threshold\n",
    "train_field_labels = assign_field_labels_ae(combined_train_coords, train_subpatch_predictions, threshold)\n",
    "eval_field_labels = assign_field_labels_ae(eval_coord_dl, eval_subpatch_predictions, threshold)"
   ]
  },
  {
   "cell_type": "markdown",
   "metadata": {},
   "source": [
    "Accuracy and Classification Report"
   ]
  },
  {
   "cell_type": "code",
   "execution_count": 59,
   "metadata": {},
   "outputs": [
    {
     "name": "stdout",
     "output_type": "stream",
     "text": [
      "Evaluation Accuracy: 0.5081967213114754\n",
      "              precision    recall  f1-score   support\n",
      "\n",
      "           0       0.40      0.31      0.35        26\n",
      "           1       0.56      0.66      0.61        35\n",
      "\n",
      "    accuracy                           0.51        61\n",
      "   macro avg       0.48      0.48      0.48        61\n",
      "weighted avg       0.49      0.51      0.50        61\n",
      "\n"
     ]
    }
   ],
   "source": [
    "accuracy, report, cm, x_y_coords = evaluate_test_labels_ae(eval_field_labels, config.labels_path)\n",
    "print(f\"Evaluation Accuracy: {accuracy}\")\n",
    "print(report)"
   ]
  },
  {
   "cell_type": "markdown",
   "metadata": {},
   "source": [
    "Clustering Accuracy"
   ]
  },
  {
   "cell_type": "code",
   "execution_count": 60,
   "metadata": {},
   "outputs": [
    {
     "name": "stdout",
     "output_type": "stream",
     "text": [
      "Accuracy: 0.5081967213114754\n",
      "Precision: [0.4        0.56097561]\n",
      "Recall: [0.30769231 0.65714286]\n",
      "F1-score: [0.34782609 0.60526316]\n"
     ]
    }
   ],
   "source": [
    "acc, precision_per_class, recall_per_class, f1_per_class = evaluate_clustering_metrics(eval_field_labels, config.labels_path)\n",
    "print(\"Accuracy:\",acc)\n",
    "print(\"Precision:\",precision_per_class)\n",
    "print(\"Recall:\",recall_per_class)\n",
    "print(\"F1-score:\",f1_per_class)"
   ]
  },
  {
   "cell_type": "code",
   "execution_count": null,
   "metadata": {},
   "outputs": [],
   "source": []
  }
 ],
 "metadata": {
  "kernelspec": {
   "display_name": "Python 3",
   "language": "python",
   "name": "python3"
  },
  "language_info": {
   "codemirror_mode": {
    "name": "ipython",
    "version": 3
   },
   "file_extension": ".py",
   "mimetype": "text/x-python",
   "name": "python",
   "nbconvert_exporter": "python",
   "pygments_lexer": "ipython3",
   "version": "3.8.10"
  }
 },
 "nbformat": 4,
 "nbformat_minor": 2
}
