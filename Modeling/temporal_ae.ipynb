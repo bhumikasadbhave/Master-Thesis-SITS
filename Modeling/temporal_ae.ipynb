{
 "cells": [
  {
   "cell_type": "markdown",
   "metadata": {},
   "source": [
    "### Imports"
   ]
  },
  {
   "cell_type": "code",
   "execution_count": 1,
   "metadata": {},
   "outputs": [],
   "source": [
    "import os\n",
    "os.environ['PYTORCH_ENABLE_MPS_FALLBACK'] = '1'"
   ]
  },
  {
   "cell_type": "code",
   "execution_count": 2,
   "metadata": {},
   "outputs": [],
   "source": [
    "%load_ext autoreload\n",
    "%autoreload 2"
   ]
  },
  {
   "cell_type": "code",
   "execution_count": 3,
   "metadata": {},
   "outputs": [],
   "source": [
    "import sys\n",
    "from pathlib import Path\n",
    "scripts_path = Path(\"../Data-Preprocessing/\").resolve()\n",
    "sys.path.append(str(scripts_path))"
   ]
  },
  {
   "cell_type": "code",
   "execution_count": 18,
   "metadata": {},
   "outputs": [],
   "source": [
    "import pickle\n",
    "from sklearn.cluster import KMeans\n",
    "from sklearn.neighbors import NearestCentroid\n",
    "from scripts.data_visualiser import *\n",
    "import torch.nn.functional as F\n",
    "from sklearn.model_selection import train_test_split\n",
    "from model_scripts.superpixel import *\n",
    "from scripts.data_loader import *\n",
    "from scripts.data_preprocessor import *\n",
    "from scripts.temporal_data_preprocessor import *\n",
    "from scripts.temporal_data_loader import *\n",
    "from scripts.temporal_visualiser import *\n",
    "from scripts.temporal_chanel_refinement import *\n",
    "from model_scripts.get_statistics import *\n",
    "from model_scripts.dataset_creation import *\n",
    "from model_scripts.train_model_ae import *\n",
    "from model_scripts.model_visualiser import *\n",
    "from Pipeline.pre_processing_pipeline import *\n",
    "from Pipeline.temporal_preprocessing_pipeline import *\n",
    "import numpy as np\n",
    "import preprocessing_config as config\n",
    "from sklearn.cluster import KMeans\n",
    "from sklearn.metrics import adjusted_rand_score\n",
    "from sklearn.cluster import DBSCAN\n",
    "from sklearn.decomposition import PCA\n",
    "import skimage.measure\n",
    "import torch\n",
    "import torch.nn as nn\n",
    "import torch.optim as optim"
   ]
  },
  {
   "cell_type": "markdown",
   "metadata": {},
   "source": [
    "### Loading the data"
   ]
  },
  {
   "cell_type": "code",
   "execution_count": 5,
   "metadata": {},
   "outputs": [],
   "source": [
    "# temp_pipeline = PreProcessingPipelineTemporal()"
   ]
  },
  {
   "cell_type": "code",
   "execution_count": 6,
   "metadata": {},
   "outputs": [],
   "source": [
    "# train_fn, dataloader_train = temp_pipeline.get_processed_trainloader(64, 'indexbands', vi_type='msi')"
   ]
  },
  {
   "cell_type": "markdown",
   "metadata": {},
   "source": [
    "Train"
   ]
  },
  {
   "cell_type": "code",
   "execution_count": 7,
   "metadata": {},
   "outputs": [
    {
     "data": {
      "text/plain": [
       "(2425, (64, 64, 6))"
      ]
     },
     "execution_count": 7,
     "metadata": {},
     "output_type": "execute_result"
    }
   ],
   "source": [
    "temporal_images = load_field_images_temporal(config.base_directory_temporal_train1)\n",
    "border_removed_images_train = blacken_field_borders_temporal(temporal_images)\n",
    "field_numbers_train, indices_images_train = relevantbands_temporal_cubes(border_removed_images_train)\n",
    "\n",
    "len(indices_images_train), indices_images_train[0][0].shape"
   ]
  },
  {
   "cell_type": "markdown",
   "metadata": {},
   "source": [
    "Evaluation"
   ]
  },
  {
   "cell_type": "code",
   "execution_count": 8,
   "metadata": {},
   "outputs": [
    {
     "data": {
      "text/plain": [
       "(48, (64, 64, 6))"
      ]
     },
     "execution_count": 8,
     "metadata": {},
     "output_type": "execute_result"
    }
   ],
   "source": [
    "temporal_images_eval = load_field_images_temporal(config.base_directory_temporal_test1)\n",
    "border_removed_images = blacken_field_borders_temporal(temporal_images_eval)\n",
    "field_numbers_eval, indices_images_eval = relevantbands_temporal_cubes(border_removed_images)\n",
    "\n",
    "(len(indices_images_eval), indices_images_eval[0][0].shape)"
   ]
  },
  {
   "cell_type": "code",
   "execution_count": 9,
   "metadata": {},
   "outputs": [
    {
     "data": {
      "text/plain": [
       "((2425, 7, 64, 64, 6), (48, 7, 64, 64, 6))"
      ]
     },
     "execution_count": 9,
     "metadata": {},
     "output_type": "execute_result"
    }
   ],
   "source": [
    "image_tensor_train = np.stack(indices_images_train)  # Shape: (N x 7 x 64 x 64 x 6)\n",
    "image_tensor_eval = np.stack(indices_images_eval)   # Shape: (N x 7 x 64 x 64 x 6)\n",
    "\n",
    "image_tensor_train.shape, image_tensor_eval.shape"
   ]
  },
  {
   "cell_type": "code",
   "execution_count": 10,
   "metadata": {},
   "outputs": [
    {
     "data": {
      "text/plain": [
       "(torch.Size([2425, 7, 6, 64, 64]), torch.Size([48, 7, 6, 64, 64]))"
      ]
     },
     "execution_count": 10,
     "metadata": {},
     "output_type": "execute_result"
    }
   ],
   "source": [
    "image_tensor_train = torch.tensor(image_tensor_train, dtype=torch.float32).permute(0, 1, 4, 2, 3)  # (N, T, H, W, C) -> (N, T, C, H, W)\n",
    "image_tensor_eval = torch.tensor(image_tensor_eval, dtype=torch.float32).permute(0, 1, 4, 2, 3)  # (N, T, H, W, C) -> (N, T, C, H, W)\n",
    "image_tensor_train.shape, image_tensor_eval.shape"
   ]
  },
  {
   "cell_type": "markdown",
   "metadata": {},
   "source": [
    "### Mini-patches"
   ]
  },
  {
   "cell_type": "code",
   "execution_count": 11,
   "metadata": {},
   "outputs": [
    {
     "data": {
      "text/plain": [
       "(1197, torch.Size([7, 6, 4, 4]))"
      ]
     },
     "execution_count": 11,
     "metadata": {},
     "output_type": "execute_result"
    }
   ],
   "source": [
    "train_patches, train_patch_coordinates = non_overlapping_sliding_window(image_tensor_train, field_numbers_train, patch_size=4)\n",
    "eval_patches, eval_patch_coordinates = non_overlapping_sliding_window(image_tensor_eval, field_numbers_eval, patch_size=4)\n",
    "len(eval_patches), eval_patches[0].shape"
   ]
  },
  {
   "cell_type": "code",
   "execution_count": 12,
   "metadata": {},
   "outputs": [],
   "source": [
    "train_patches = np.stack(train_patches)  # Shape: (N x 7 x 6 x 4 x 4)\n",
    "eval_patches = np.stack(eval_patches)   # Shape: (N x 7 x 6 x 4 x 4)"
   ]
  },
  {
   "cell_type": "code",
   "execution_count": 13,
   "metadata": {},
   "outputs": [
    {
     "data": {
      "text/plain": [
       "('1167134.0', 24, 28)"
      ]
     },
     "execution_count": 13,
     "metadata": {},
     "output_type": "execute_result"
    }
   ],
   "source": [
    "train_patch_coordinates[0]"
   ]
  },
  {
   "cell_type": "code",
   "execution_count": 14,
   "metadata": {},
   "outputs": [
    {
     "data": {
      "text/plain": [
       "'1167134.0_24_28'"
      ]
     },
     "execution_count": 14,
     "metadata": {},
     "output_type": "execute_result"
    }
   ],
   "source": [
    "train_coord_dataloader = field_nos_dataloader(train_patch_coordinates)\n",
    "eval_coord_dataloader = field_nos_dataloader(eval_patch_coordinates)\n",
    "train_coord_dataloader[0]"
   ]
  },
  {
   "cell_type": "markdown",
   "metadata": {},
   "source": [
    "### Data Loaders"
   ]
  },
  {
   "cell_type": "code",
   "execution_count": 15,
   "metadata": {},
   "outputs": [],
   "source": [
    "# batch_size = 64\n",
    "# dataloader_train = create_data_loader(train_patches, train_coord_dataloader, batch_size=batch_size, shuffle=True)\n",
    "\n",
    "# for batch_inputs, batch_field_numbers in dataloader_train:\n",
    "#     print(\"Batch Inputs Shape:\", batch_inputs.shape) \n",
    "#     print(\"Batch Field Numbers:\", batch_field_numbers)\n",
    "#     break  "
   ]
  },
  {
   "cell_type": "code",
   "execution_count": 16,
   "metadata": {},
   "outputs": [
    {
     "name": "stdout",
     "output_type": "stream",
     "text": [
      "Train Batch Inputs Shape: torch.Size([64, 6, 7, 4, 4])\n",
      "Train Batch Field Numbers: ('1182688.0_1182690.0_1224337.0_56_56', '1225824.0_32_20', '1175125.0_36_36', '1189641.0_28_36', '1167532.0_1167536.0_1167540.0_1225485.0_1225488.0_1225491.0_12_36', '1179882.0_36_32', '1219879.0_1225565.0_16_32', '1171340.0_36_24', '1187375.0_1226275.0_44_32', '1219506.0_24_20', '1217833.0_24_32', '1177302.0_1177312.0_48_52', '1220423.0_28_16', '1216499.0_44_24', '1222456.0_1222457.0_1229352.0_1229354.0_1231011.0_20_8', '1216570.0_1216574.0_36_24', '1220298.0_36_36', '1194834.0_28_36', '1226145.0_32_44', '1186322.0_32_60', '1194740.0_24_44', '1187411.0_32_24', '1227292.0_24_24', '1187402.0_1222751.0_28_8', '1217003.0_24_24', '1219440.0_1219441.0_1219442.0_1219443.0_1219444.0_40_44', '1222460.0_1222465.0_1229355.0_24_52', '1167526.0_1167528.0_1167529.0_52_48', '1223254.0_36_24', '1227967.0_24_24', '1176665.0_1177179.0_1194831.0_1220428.0_1220430.0_44_48', '1177575.0_1177582.0_12_16', '1168864.0_28_36', '1217096.0_32_32', '1225401.0_28_32', '1169497.0_32_28', '1196368.0_1219472.0_1225937.0_24_32', '1177253.0_1177254.0_1228937.0_56_28', '1187034.0_1187036.0_1220215.0_32_32', '1217780.0_1217785.0_1220480.0_1222256.0_1222257.0_28_44', '1169565.0_1194630.0_1220200.0_1222054.0_1222837.0_24_32', '1223161.0_28_28', '1221502.0_28_44', '1226145.0_28_28', '1217446.0_36_28', '1180888.0_1180895.0_32_40', '1225892.0_24_28', '1177226.0_1177255.0_1177257.0_32_48', '1225870.0_1228623.0_32_28', '1182871.0_1182872.0_28_28', '1225393.0_40_20', '1224087.0_32_28', '1168884.0_1220272.0_1220273.0_1220274.0_44_12', '1189995.0_1191660.0_1230989.0_1230990.0_24_36', '1227331.0_1227333.0_36_36', '1167553.0_1169810.0_36_32', '1224003.0_28_32', '1222238.0_36_20', '1177092.0_20_28', '1219204.0_28_20', '1222544.0_40_4', '1223599.0_1223612.0_1223614.0_1226865.0_20_60', '1183932.0_1183939.0_1183941.0_1217893.0_32_12', '1225781.0_32_32')\n",
      "Test Batch Inputs Shape: torch.Size([64, 6, 7, 4, 4])\n",
      "Test Batch Field Numbers: ('1225325.0_32_36', '1217577.0_28_20', '1179923.0_1179924.0_1179925.0_1179927.0_1179929.0_1179930.0_28_60', '1217446.0_36_32', '1185796.0_28_32', '1177446.0_24_32', '1168622.0_36_28', '1217496.0_32_12', '1225896.0_24_36', '1231182.0_16_36', '1220047.0_28_32', '1220483.0_32_28', '1224158.0_1224163.0_36_36', '1183092.0_1183095.0_44_24', '1225896.0_32_32', '1168740.0_1183002.0_1223770.0_32_44', '1217339.0_20_36', '1225937.0_20_36', '1223261.0_1228295.0_1228301.0_32_40', '1219018.0_1224252.0_24_32', '1228363.0_28_28', '1219845.0_1224190.0_16_16', '1175654.0_1179897.0_1223681.0_24_56', '1225816.0_1225817.0_1225820.0_1225825.0_32_40', '1177566.0_0_8', '1225824.0_24_24', '1225530.0_36_40', '1194556.0_28_24', '1221128.0_1227678.0_32_28', '1221676.0_1226219.0_1227645.0_20_24', '1177098.0_1225038.0_24_24', '1217447.0_1217788.0_1221087.0_12_32', '1168686.0_20_20', '1226057.0_36_20', '1228870.0_36_8', '1218201.0_28_32', '1227384.0_28_40', '1187720.0_24_36', '1219466.0_24_36', '1195755.0_32_16', '1180325.0_28_28', '1178011.0_28_28', '1182884.0_1182885.0_32_40', '1172261.0_20_32', '1185966.0_1222712.0_1222715.0_16_56', '1226833.0_40_36', '1169566.0_1221181.0_32_32', '1178715.0_28_24', '1219166.0_1219169.0_36_32', '1183255.0_24_28', '1216983.0_1216986.0_20_40', '1227685.0_28_28', '1222578.0_20_40', '1194635.0_32_24', '1224220.0_28_28', '1183112.0_1221116.0_1221117.0_20_32', '1182688.0_1182690.0_1224337.0_60_36', '1226105.0_36_28', '1221016.0_32_40', '1223989.0_24_32', '1175020.0_1175021.0_1175023.0_24_44', '1177540.0_1177549.0_1177557.0_48_52', '1226871.0_28_44', '1222656.0_36_48')\n"
     ]
    }
   ],
   "source": [
    "train_ratio = 0.8  \n",
    "\n",
    "# Split patches and corresponding field numbers\n",
    "train_patches, test_patches, train_field_numbers, test_field_numbers = train_test_split(\n",
    "    train_patches, train_coord_dataloader, test_size=1-train_ratio, random_state=42\n",
    ")\n",
    "\n",
    "# Create train and test dataloaders\n",
    "batch_size = 64\n",
    "dataloader_train = create_data_loader(train_patches, train_field_numbers, batch_size=batch_size, shuffle=True)\n",
    "dataloader_test = create_data_loader(test_patches, test_field_numbers, batch_size=batch_size, shuffle=False)\n",
    "\n",
    "for batch_inputs, batch_field_numbers in dataloader_train:\n",
    "    print(\"Train Batch Inputs Shape:\", batch_inputs.shape)\n",
    "    print(\"Train Batch Field Numbers:\", batch_field_numbers)\n",
    "    break  \n",
    "\n",
    "for batch_inputs, batch_field_numbers in dataloader_test:\n",
    "    print(\"Test Batch Inputs Shape:\", batch_inputs.shape)\n",
    "    print(\"Test Batch Field Numbers:\", batch_field_numbers)\n",
    "    break  "
   ]
  },
  {
   "cell_type": "code",
   "execution_count": 17,
   "metadata": {},
   "outputs": [
    {
     "name": "stdout",
     "output_type": "stream",
     "text": [
      "Eval Batch Inputs Shape: torch.Size([64, 6, 7, 4, 4])\n",
      "Eval Batch Field Numbers: ('1168039.0_20_24', '1168039.0_20_28', '1168039.0_20_32', '1168039.0_20_36', '1168039.0_24_24', '1168039.0_24_28', '1168039.0_24_32', '1168039.0_24_36', '1168039.0_28_24', '1168039.0_28_28', '1168039.0_28_32', '1168039.0_28_36', '1168039.0_32_24', '1168039.0_32_28', '1168039.0_32_32', '1168039.0_32_36', '1168039.0_36_24', '1168039.0_36_28', '1168039.0_36_32', '1228889.0_24_36', '1228889.0_24_40', '1228889.0_24_44', '1228889.0_28_16', '1228889.0_28_20', '1228889.0_28_24', '1228889.0_28_28', '1228889.0_28_32', '1228889.0_28_36', '1228889.0_28_40', '1228889.0_32_16', '1228889.0_32_20', '1228889.0_32_24', '1228889.0_32_28', '1228889.0_32_32', '1228889.0_32_36', '1228889.0_32_40', '1228889.0_36_16', '1228889.0_36_20', '1168663.0_1176271.0_24_32', '1168663.0_1176271.0_24_36', '1168663.0_1176271.0_24_40', '1168663.0_1176271.0_28_32', '1168663.0_1176271.0_28_36', '1168663.0_1176271.0_28_40', '1168663.0_1176271.0_32_20', '1168663.0_1176271.0_32_24', '1168663.0_1176271.0_32_28', '1168663.0_1176271.0_32_32', '1168663.0_1176271.0_32_36', '1168663.0_1176271.0_32_40', '1168663.0_1176271.0_36_40', '1168692.0_1220431.0_16_24', '1168692.0_1220431.0_16_28', '1168692.0_1220431.0_20_16', '1168692.0_1220431.0_20_20', '1168692.0_1220431.0_20_24', '1168692.0_1220431.0_20_28', '1168692.0_1220431.0_20_32', '1168692.0_1220431.0_24_16', '1168692.0_1220431.0_24_20', '1168692.0_1220431.0_24_24', '1168692.0_1220431.0_24_28', '1168692.0_1220431.0_24_32', '1168692.0_1220431.0_24_36')\n"
     ]
    }
   ],
   "source": [
    "batch_size = 64\n",
    "dataloader_eval = create_data_loader(eval_patches, eval_coord_dataloader, batch_size=batch_size, shuffle=False)\n",
    "\n",
    "for batch_inputs, batch_field_numbers in dataloader_eval:\n",
    "    print(\"Eval Batch Inputs Shape:\", batch_inputs.shape) \n",
    "    print(\"Eval Batch Field Numbers:\", batch_field_numbers)\n",
    "    break  "
   ]
  },
  {
   "cell_type": "markdown",
   "metadata": {},
   "source": [
    "### Modeling - Autoencoder"
   ]
  },
  {
   "attachments": {
    "image.png": {
     "image/png": "[encoded data removed]"
    }
   },
   "cell_type": "markdown",
   "metadata": {},
   "source": [
    "![image.png](attachment:image.png)"
   ]
  },
  {
   "cell_type": "markdown",
   "metadata": {},
   "source": [
    "Input Data: ( N x C x D x H x W )"
   ]
  },
  {
   "cell_type": "code",
   "execution_count": null,
   "metadata": {},
   "outputs": [],
   "source": [
    "# class Conv3DAutoencoder(nn.Module):\n",
    "#     def __init__(self, in_channels, time_steps, latent_size):\n",
    "#         super(Conv3DAutoencoder, self).__init__()\n",
    "\n",
    "#         self.encoder = nn.Sequential(\n",
    "#             nn.Conv3d(in_channels=in_channels, out_channels=64, kernel_size=3, stride=1, padding=1),\n",
    "#             nn.ReLU(),\n",
    "#             nn.Conv3d(in_channels=64, out_channels=128, kernel_size=3, stride=1, padding=1),\n",
    "#             nn.ReLU(),\n",
    "#             nn.Flatten(),\n",
    "#             nn.Linear(in_features=128 * time_steps * 4 * 4, out_features=latent_size)  \n",
    "#         )\n",
    "#         self.decoder = nn.Sequential(\n",
    "#             nn.Linear(in_features=latent_size, out_features=128 * time_steps * 4 * 4),\n",
    "#             nn.ReLU(),\n",
    "#             nn.Unflatten(1, (128, time_steps, 4, 4)),  \n",
    "#             nn.ConvTranspose3d(in_channels=128, out_channels=64, kernel_size=3, stride=1, padding=1),  \n",
    "#             nn.ReLU(),\n",
    "#             nn.ConvTranspose3d(in_channels=64, out_channels=in_channels, kernel_size=3, stride=1, padding=1), \n",
    "#             nn.Sigmoid()  \n",
    "#         )\n",
    "\n",
    "#     def forward(self, x):\n",
    "#         z = self.encoder(x)  \n",
    "#         x_reconstructed = self.decoder(z) \n",
    "#         return z, x_reconstructed"
   ]
  },
  {
   "cell_type": "code",
   "execution_count": 19,
   "metadata": {},
   "outputs": [],
   "source": [
    "\n",
    "\n",
    "class Conv3DAutoencoder(nn.Module):\n",
    "    def __init__(self, in_channels, time_steps, latent_size):\n",
    "        super(Conv3DAutoencoder, self).__init__()\n",
    "\n",
    "        self.time_steps = time_steps\n",
    "\n",
    "        # --- Encoder ---\n",
    "        self.encoder = nn.Sequential(\n",
    "            nn.Conv3d(in_channels, 64, kernel_size=3, stride=2, padding=1),  # Downsample (4x4 -> 2x2)\n",
    "            nn.BatchNorm3d(64),\n",
    "            nn.ReLU(),\n",
    "\n",
    "            nn.Conv3d(64, 128, kernel_size=3, stride=2, padding=1),  # Downsample (2x2 -> 1x1)\n",
    "            nn.BatchNorm3d(128),\n",
    "            nn.ReLU(),\n",
    "\n",
    "            nn.Conv3d(128, 256, kernel_size=3, stride=2, padding=1),  # Downsample (1x1 -> 1x1) [keeps spatial size]\n",
    "            nn.BatchNorm3d(256),\n",
    "            nn.ReLU(),\n",
    "\n",
    "            nn.Flatten(),\n",
    "            nn.Linear(256 * time_steps, 1024),  # Dense layer to compress\n",
    "            nn.ReLU(),\n",
    "            nn.Linear(1024, latent_size)  # Latent representation\n",
    "        )\n",
    "\n",
    "        # --- Decoder ---\n",
    "        self.decoder = nn.Sequential(\n",
    "            nn.Linear(latent_size, 1024),\n",
    "            nn.ReLU(),\n",
    "            nn.Linear(1024, 256 * time_steps),  # Dense layer to reshape back\n",
    "            nn.ReLU(),\n",
    "            nn.Unflatten(1, (256, time_steps, 1, 1)),  # Reshape back to 3D feature map (256, 7, 1, 1)\n",
    "\n",
    "            nn.ConvTranspose3d(256, 128, kernel_size=3, stride=2, padding=1, output_padding=1),  # Upsample (1x1 -> 2x2)\n",
    "            nn.BatchNorm3d(128),\n",
    "            nn.ReLU(),\n",
    "\n",
    "            nn.ConvTranspose3d(128, 64, kernel_size=3, stride=2, padding=1, output_padding=1),  # Upsample (2x2 -> 4x4)\n",
    "            nn.BatchNorm3d(64),\n",
    "            nn.ReLU(),\n",
    "\n",
    "            nn.ConvTranspose3d(64, in_channels, kernel_size=3, stride=1, padding=1),  # Maintain spatial size 4x4\n",
    "            nn.Sigmoid()  # Output layer with sigmoid for reconstruction\n",
    "        )\n",
    "\n",
    "    def forward(self, x):\n",
    "        z = self.encoder(x)\n",
    "        x_reconstructed = self.decoder(z)\n",
    "        return z, x_reconstructed\n"
   ]
  },
  {
   "cell_type": "markdown",
   "metadata": {},
   "source": [
    "### Training"
   ]
  },
  {
   "cell_type": "code",
   "execution_count": null,
   "metadata": {},
   "outputs": [],
   "source": [
    "# Train\n",
    "device = 'cpu'\n",
    "epochs = 3\n",
    "lr = 0.0001\n",
    "latent_dim=100\n",
    "channels = 6\n",
    "time_steps = 7\n",
    "\n",
    "model = Conv3DAutoencoder(channels, time_steps, latent_dim)\n",
    "device = torch.device(device)  \n",
    "model.to(device)"
   ]
  },
  {
   "cell_type": "code",
   "execution_count": null,
   "metadata": {},
   "outputs": [],
   "source": [
    "trained_model, train_losses, test_losses  = train_model_ae(model, dataloader_train, dataloader_test, epochs=epochs, lr=lr, device=device)"
   ]
  },
  {
   "cell_type": "markdown",
   "metadata": {},
   "source": [
    "### Evaluation"
   ]
  },
  {
   "cell_type": "code",
   "execution_count": null,
   "metadata": {},
   "outputs": [],
   "source": [
    "# Extract features and field numbers\n",
    "train_features, train_coord_dl = extract_features_ae(trained_model, dataloader_train, device)\n",
    "test_features, test_coord_dl = extract_features_ae(trained_model, dataloader_test, device)\n",
    "eval_features, eval_coord_dl = extract_features_ae(trained_model, dataloader_eval, device)"
   ]
  },
  {
   "cell_type": "code",
   "execution_count": null,
   "metadata": {},
   "outputs": [],
   "source": [
    "kmeans = train_kmeans_patches(train_features, n_clusters=2, random_state=401)\n",
    "# kmeans = KMeans(n_clusters=2, random_state=2)\n",
    "# kmeans.fit(train_features)\n",
    "\n",
    "train_patch_predictions = kmeans.predict(train_features.reshape(train_features.size(0), -1).numpy().astype(np.float32))\n",
    "test_patch_predictions = kmeans.predict(test_features.reshape(test_features.size(0), -1).numpy().astype(np.float32))\n",
    "eval_patch_predictions = kmeans.predict(eval_features.reshape(eval_features.size(0), -1).numpy().astype(np.float32))"
   ]
  },
  {
   "cell_type": "markdown",
   "metadata": {},
   "source": [
    "resume"
   ]
  },
  {
   "cell_type": "code",
   "execution_count": null,
   "metadata": {},
   "outputs": [],
   "source": [
    "# Assign field labels\n",
    "threshold = config.patch_to_field_threshold\n",
    "train_field_labels = assign_field_labels_ae(train_coord_dl, train_patch_predictions, threshold)\n",
    "test_field_labels = assign_field_labels_ae(test_coord_dl, test_patch_predictions, threshold)\n",
    "eval_field_labels = assign_field_labels_ae(eval_coord_dl, eval_patch_predictions, threshold)"
   ]
  },
  {
   "cell_type": "code",
   "execution_count": null,
   "metadata": {},
   "outputs": [],
   "source": [
    "train_field_labels"
   ]
  },
  {
   "cell_type": "code",
   "execution_count": null,
   "metadata": {},
   "outputs": [],
   "source": [
    "accuracy, report, x_y_coords = evaluate_test_labels_ae(eval_field_labels, config.labels_path)\n",
    "print(f\"Test Accuracy: {accuracy}\")\n",
    "print(report)"
   ]
  },
  {
   "cell_type": "code",
   "execution_count": null,
   "metadata": {},
   "outputs": [],
   "source": [
    "# draw_diseased_patches(dataloader_test, x_y_coords)"
   ]
  },
  {
   "cell_type": "code",
   "execution_count": null,
   "metadata": {},
   "outputs": [],
   "source": []
  },
  {
   "cell_type": "markdown",
   "metadata": {},
   "source": [
    "### Modeling - kmeans"
   ]
  },
  {
   "cell_type": "code",
   "execution_count": null,
   "metadata": {},
   "outputs": [],
   "source": [
    "image_tensor_train.shape"
   ]
  },
  {
   "cell_type": "code",
   "execution_count": null,
   "metadata": {},
   "outputs": [],
   "source": [
    "data_flattened_train = image_tensor_train.reshape(image_tensor_train.size(0), -1).numpy()\n",
    "data_flattened_train.shape"
   ]
  },
  {
   "cell_type": "code",
   "execution_count": null,
   "metadata": {},
   "outputs": [],
   "source": [
    "kmeans = KMeans(n_clusters=2, random_state=46)\n",
    "kmeans.fit(data_flattened_train)"
   ]
  },
  {
   "cell_type": "code",
   "execution_count": null,
   "metadata": {},
   "outputs": [],
   "source": [
    "flattened_data_test = image_tensor_eval.reshape(image_tensor_eval.size(0), -1).numpy()"
   ]
  },
  {
   "cell_type": "code",
   "execution_count": null,
   "metadata": {},
   "outputs": [],
   "source": [
    "test_cluster_labels = kmeans.predict(flattened_data_test)"
   ]
  },
  {
   "cell_type": "code",
   "execution_count": null,
   "metadata": {},
   "outputs": [],
   "source": [
    "accuracy, pred_aligned, gt_aligned = get_accuracy(field_numbers_eval, test_cluster_labels, config.labels_path)\n",
    "accuracy"
   ]
  },
  {
   "cell_type": "code",
   "execution_count": null,
   "metadata": {},
   "outputs": [],
   "source": [
    "pred_aligned[0], gt_aligned[0]"
   ]
  },
  {
   "cell_type": "markdown",
   "metadata": {},
   "source": [
    "### Feature Extraction"
   ]
  },
  {
   "cell_type": "code",
   "execution_count": null,
   "metadata": {},
   "outputs": [],
   "source": []
  },
  {
   "cell_type": "code",
   "execution_count": null,
   "metadata": {},
   "outputs": [],
   "source": []
  },
  {
   "cell_type": "code",
   "execution_count": null,
   "metadata": {},
   "outputs": [],
   "source": []
  },
  {
   "cell_type": "code",
   "execution_count": null,
   "metadata": {},
   "outputs": [],
   "source": []
  }
 ],
 "metadata": {
  "kernelspec": {
   "display_name": "Python 3",
   "language": "python",
   "name": "python3"
  },
  "language_info": {
   "codemirror_mode": {
    "name": "ipython",
    "version": 3
   },
   "file_extension": ".py",
   "mimetype": "text/x-python",
   "name": "python",
   "nbconvert_exporter": "python",
   "pygments_lexer": "ipython3",
   "version": "3.8.18"
  }
 },
 "nbformat": 4,
 "nbformat_minor": 2
}
