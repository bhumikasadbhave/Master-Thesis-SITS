{
 "cells": [
  {
   "cell_type": "markdown",
   "metadata": {},
   "source": [
    "### Imports"
   ]
  },
  {
   "cell_type": "code",
   "execution_count": 1,
   "metadata": {},
   "outputs": [],
   "source": [
    "%load_ext autoreload\n",
    "%autoreload 2"
   ]
  },
  {
   "cell_type": "code",
   "execution_count": 2,
   "metadata": {},
   "outputs": [],
   "source": [
    "import sys\n",
    "from pathlib import Path\n",
    "scripts_path = Path(\"../Data-Preprocessing/\").resolve()\n",
    "sys.path.append(str(scripts_path))"
   ]
  },
  {
   "cell_type": "code",
   "execution_count": 3,
   "metadata": {},
   "outputs": [],
   "source": [
    "import pickle\n",
    "from sklearn.cluster import KMeans\n",
    "from scripts.data_visualiser import *\n",
    "from scripts.data_loader import *\n",
    "from scripts.data_preprocessor import *\n",
    "from scripts.temporal_data_preprocessor import *\n",
    "from scripts.temporal_data_loader import *\n",
    "from scripts.temporal_visualiser import *\n",
    "from scripts.temporal_chanel_refinement import *\n",
    "from model_scripts.feature_extraction import *\n",
    "from model_scripts.get_statistics import *\n",
    "from model_scripts.dataset_creation import *\n",
    "from model_scripts.train_model_ae import *\n",
    "from model_scripts.pre_trained_extraction import *\n",
    "from Pipeline.pre_processing_pipeline import *\n",
    "import numpy as np\n",
    "import preprocessing_config as config\n",
    "from sklearn.cluster import KMeans\n",
    "from sklearn.metrics import adjusted_rand_score\n",
    "from sklearn.cluster import DBSCAN\n",
    "from sklearn.decomposition import PCA\n",
    "import skimage.measure\n",
    "import torch\n",
    "import torch.nn as nn\n",
    "import torch.optim as optim"
   ]
  },
  {
   "cell_type": "markdown",
   "metadata": {},
   "source": [
    "### Loading the data"
   ]
  },
  {
   "cell_type": "markdown",
   "metadata": {},
   "source": [
    "Train"
   ]
  },
  {
   "cell_type": "code",
   "execution_count": 4,
   "metadata": {},
   "outputs": [
    {
     "data": {
      "text/plain": [
       "(2425, (64, 64, 6))"
      ]
     },
     "execution_count": 4,
     "metadata": {},
     "output_type": "execute_result"
    }
   ],
   "source": [
    "temporal_images = load_field_images_temporal(config.base_directory_temporal_train)\n",
    "border_removed_images_train = blacken_field_borders_temporal(temporal_images)\n",
    "non_temporal_images = get_non_temporal_images(border_removed_images_train)\n",
    "field_numbers, refined_images_train = refine_chanel_non_temporal(non_temporal_images)\n",
    "\n",
    "len(refined_images_train), refined_images_train[0].shape"
   ]
  },
  {
   "cell_type": "markdown",
   "metadata": {},
   "source": [
    "Test"
   ]
  },
  {
   "cell_type": "code",
   "execution_count": 5,
   "metadata": {},
   "outputs": [
    {
     "data": {
      "text/plain": [
       "(48, (64, 64, 6))"
      ]
     },
     "execution_count": 5,
     "metadata": {},
     "output_type": "execute_result"
    }
   ],
   "source": [
    "temporal_images_test = load_field_images_temporal(config.base_directory_temporal_test)\n",
    "border_removed_images_test = blacken_field_borders_temporal(temporal_images_test)\n",
    "non_temporal_images_test = get_non_temporal_images(border_removed_images_test)\n",
    "field_numbers_test, refined_images_test = refine_chanel_non_temporal(non_temporal_images_test)\n",
    "\n",
    "(len(refined_images_test), refined_images_test[0].shape)"
   ]
  },
  {
   "cell_type": "code",
   "execution_count": 6,
   "metadata": {},
   "outputs": [],
   "source": [
    "image_tensor_train = np.stack(refined_images_train)  # Shape: (N x 64 x 64 x 6)\n",
    "image_tensor_test = np.stack(refined_images_test)   # Shape: (N x 64 x 64 x 6)"
   ]
  },
  {
   "cell_type": "markdown",
   "metadata": {},
   "source": [
    "Data Loaders"
   ]
  },
  {
   "cell_type": "code",
   "execution_count": 7,
   "metadata": {},
   "outputs": [
    {
     "name": "stdout",
     "output_type": "stream",
     "text": [
      "Batch Inputs Shape: torch.Size([32, 6, 64, 64])\n",
      "Batch Field Numbers: ('1169493.0', '1224345.0', '1225182.0', '1168657.0', '1223244.0', '1218028.0', '1169812.0', '1167215.0', '1220465.0', '1168384.0_1168385.0_1168386.0', '1191558.0', '1226041.0', '1228636.0', '1222477.0', '1187300.0', '1168624.0', '1227660.0', '1978', '1195388.0', '1227868.0', '1177943.0', '1227107.0', '693', '1218208.0', '1228541.0', '1227504.0', '1222499.0', '811', '1183989.0', '1177638.0_1177639.0', '1220100.0', '1176663.0_1223557.0')\n"
     ]
    }
   ],
   "source": [
    "batch_size = 32\n",
    "dataloader_train = create_data_loader(image_tensor_train, field_numbers, batch_size=batch_size, shuffle=True)\n",
    "\n",
    "# Iterate over DataLoader\n",
    "for batch_inputs, batch_field_numbers in dataloader_train:\n",
    "    print(\"Batch Inputs Shape:\", batch_inputs.shape)  # Should be (batch_size, C, H, W)\n",
    "    print(\"Batch Field Numbers:\", batch_field_numbers)\n",
    "    break  # Show one batch"
   ]
  },
  {
   "cell_type": "code",
   "execution_count": 8,
   "metadata": {},
   "outputs": [
    {
     "name": "stdout",
     "output_type": "stream",
     "text": [
      "Batch Inputs Shape: torch.Size([32, 6, 64, 64])\n",
      "Batch Field Numbers: ('1168039.0', '1228889.0', '1168663.0_1176271.0', '1168692.0_1220431.0', '1171179.0_1222688.0', '5', '1172001.0_1225692.0', '1174805.0', '1176318.0', '1176365.0', '1177274.0', '1177490.0', '1177490.0_1183928.0', '1178038.0', '1178198.0_1225298.0', '1179855.0_1187336.0', '1182776.0', '1182822.0_1216964.0', '1183171.0', '1194806.0_1194808.0', '1196327.0', '1196347.0', '1196489.0_1196747.0', '1216230.0_1219006.0', '1216239.0', '1216250.0', '1216801.0_1216804.0', '1217032.0', '1217498.0', '1219929.0_1219932.0', '1220322.0', '1222641.0')\n"
     ]
    }
   ],
   "source": [
    "batch_size = 32\n",
    "dataloader_test = create_data_loader(image_tensor_test, field_numbers_test, batch_size=batch_size, shuffle=False)\n",
    "\n",
    "# Iterate over DataLoader\n",
    "for batch_inputs, batch_field_numbers in dataloader_test:\n",
    "    print(\"Batch Inputs Shape:\", batch_inputs.shape)  # Should be (batch_size, C, H, W)\n",
    "    print(\"Batch Field Numbers:\", batch_field_numbers)\n",
    "    break  # Show one batch"
   ]
  },
  {
   "cell_type": "markdown",
   "metadata": {},
   "source": [
    "### Modeling (6 Bands)\n",
    "\n",
    "- Resnet50: 54.09%\n",
    "- VGG16: 62.29%"
   ]
  },
  {
   "cell_type": "markdown",
   "metadata": {},
   "source": [
    "Train and Test Features"
   ]
  },
  {
   "cell_type": "code",
   "execution_count": 1,
   "metadata": {},
   "outputs": [
    {
     "ename": "NameError",
     "evalue": "name 'get_pretrained_resnet50' is not defined",
     "output_type": "error",
     "traceback": [
      "\u001b[0;31m---------------------------------------------------------------------------\u001b[0m",
      "\u001b[0;31mNameError\u001b[0m                                 Traceback (most recent call last)",
      "Cell \u001b[0;32mIn[1], line 3\u001b[0m\n\u001b[1;32m      1\u001b[0m in_channels \u001b[38;5;241m=\u001b[39m \u001b[38;5;241m6\u001b[39m\n\u001b[1;32m      2\u001b[0m model_type \u001b[38;5;241m=\u001b[39m \u001b[38;5;124m'\u001b[39m\u001b[38;5;124mresnet50\u001b[39m\u001b[38;5;124m'\u001b[39m\n\u001b[0;32m----> 3\u001b[0m feature_extractor \u001b[38;5;241m=\u001b[39m \u001b[43mget_pretrained_resnet50\u001b[49m(in_channels)\n",
      "\u001b[0;31mNameError\u001b[0m: name 'get_pretrained_resnet50' is not defined"
     ]
    }
   ],
   "source": [
    "in_channels = 6\n",
    "model_type = 'resnet50'\n",
    "feature_extractor = get_pretrained_resnet50(in_channels)"
   ]
  },
  {
   "cell_type": "code",
   "execution_count": 10,
   "metadata": {},
   "outputs": [],
   "source": [
    "train_features, train_fields = extract_features(feature_extractor, dataloader_train, model_type)\n",
    "test_features, test_fields = extract_features(feature_extractor, dataloader_test, model_type)"
   ]
  },
  {
   "cell_type": "code",
   "execution_count": 11,
   "metadata": {},
   "outputs": [
    {
     "data": {
      "text/plain": [
       "(2425, 2048)"
      ]
     },
     "execution_count": 11,
     "metadata": {},
     "output_type": "execute_result"
    }
   ],
   "source": [
    "train_features.shape"
   ]
  },
  {
   "cell_type": "markdown",
   "metadata": {},
   "source": [
    "Clustering"
   ]
  },
  {
   "cell_type": "code",
   "execution_count": 17,
   "metadata": {},
   "outputs": [
    {
     "name": "stderr",
     "output_type": "stream",
     "text": [
      "/Users/bhumikasadbhave007/tensorflow-test/env/lib/python3.8/site-packages/sklearn/cluster/_kmeans.py:1412: FutureWarning: The default value of `n_init` will change from 10 to 'auto' in 1.4. Set the value of `n_init` explicitly to suppress the warning\n",
      "  super()._check_params_vs_input(X, default_n_init=10)\n"
     ]
    }
   ],
   "source": [
    "kmeans = perform_clustering(train_features, n_clusters=2, random_state=34)\n",
    "train_predictions = kmeans.labels_ "
   ]
  },
  {
   "cell_type": "code",
   "execution_count": 18,
   "metadata": {},
   "outputs": [],
   "source": [
    "test_predictions = kmeans.predict(test_features)"
   ]
  },
  {
   "cell_type": "code",
   "execution_count": 19,
   "metadata": {},
   "outputs": [],
   "source": [
    "##### Saving train predictions -> for future #####\n",
    "# train_clustering_output = {\"fields\": train_fields, \"labels\": train_predictions.tolist()}\n",
    "# np.save(f\"{output_dir}/train_clustering_labels.npy\", train_clustering_output)"
   ]
  },
  {
   "cell_type": "markdown",
   "metadata": {},
   "source": [
    "### Evaluation"
   ]
  },
  {
   "cell_type": "code",
   "execution_count": 20,
   "metadata": {},
   "outputs": [
    {
     "data": {
      "text/plain": [
       "{'Accuracy': 0.4918032786885246,\n",
       " 'Adjusted Rand Index (ARI)': -0.016739551222309842,\n",
       " 'Normalized Mutual Information (NMI)': 0.0005079707524754784,\n",
       " 'Fowlkes-Mallows Index (FMI)': 0.5086488070118469}"
      ]
     },
     "execution_count": 20,
     "metadata": {},
     "output_type": "execute_result"
    }
   ],
   "source": [
    "test_gt_aligned, test_pred_aligned = get_gt_and_pred_aligned(test_fields, test_predictions, config.labels_path)\n",
    "\n",
    "test_metrics = evaluate_clustering_metrics(test_gt_aligned, test_pred_aligned)\n",
    "test_metrics"
   ]
  },
  {
   "cell_type": "markdown",
   "metadata": {},
   "source": [
    "## Vegetation Indices\n",
    "\n",
    "- NDVI\n",
    "- MSI\n",
    "- EVI\n",
    "- NDVI+MSI+EVI"
   ]
  },
  {
   "cell_type": "markdown",
   "metadata": {},
   "source": [
    "### Loading"
   ]
  },
  {
   "cell_type": "code",
   "execution_count": 4,
   "metadata": {},
   "outputs": [
    {
     "data": {
      "text/plain": [
       "(2425, (64, 64, 10))"
      ]
     },
     "execution_count": 4,
     "metadata": {},
     "output_type": "execute_result"
    }
   ],
   "source": [
    "temporal_images = load_field_images_temporal(config.base_directory_temporal_train)\n",
    "border_removed_images_train = blacken_field_borders_temporal(temporal_images)\n",
    "\n",
    "# field_numbers, indices_images = indexbands_temporal_cubes(border_removed_images_train, 'msi')\n",
    "field_numbers, indices_images = allbands_temporal_cubes(border_removed_images_train)\n",
    "non_temporal_images = get_non_temporal_images(indices_images)\n",
    "refined_images_train = non_temporal_images\n",
    "len(refined_images_train), refined_images_train[0].shape"
   ]
  },
  {
   "cell_type": "code",
   "execution_count": 5,
   "metadata": {},
   "outputs": [
    {
     "data": {
      "text/plain": [
       "(48, (64, 64, 10))"
      ]
     },
     "execution_count": 5,
     "metadata": {},
     "output_type": "execute_result"
    }
   ],
   "source": [
    "temporal_images_test = load_field_images_temporal(config.base_directory_temporal_test)\n",
    "border_removed_images_test = blacken_field_borders_temporal(temporal_images_test)\n",
    "\n",
    "# field_numbers_test, indices_images_test = indexbands_temporal_cubes(border_removed_images_test, 'msi')\n",
    "field_numbers_test, indices_images_test = allbands_temporal_cubes(border_removed_images_test)\n",
    "non_temporal_images_test = get_non_temporal_images(indices_images_test)\n",
    "refined_images_test = non_temporal_images_test\n",
    "(len(refined_images_test), refined_images_test[0].shape)"
   ]
  },
  {
   "cell_type": "code",
   "execution_count": 6,
   "metadata": {},
   "outputs": [],
   "source": [
    "image_tensor_train = np.stack(refined_images_train)  # Shape: (N x 64 x 64 x 3)\n",
    "image_tensor_test = np.stack(refined_images_test)   # Shape: (N x 64 x 64 x 3)"
   ]
  },
  {
   "cell_type": "markdown",
   "metadata": {},
   "source": [
    "Data Loaders"
   ]
  },
  {
   "cell_type": "code",
   "execution_count": 7,
   "metadata": {},
   "outputs": [
    {
     "name": "stdout",
     "output_type": "stream",
     "text": [
      "Batch Inputs Shape: torch.Size([32, 10, 64, 64])\n",
      "Batch Field Numbers: ('1194730.0', '1175689.0', '1184084.0_1184085.0_1184087.0', '1194718.0_1223476.0', '1172264.0', '1227972.0_1227975.0_1228168.0', '1195774.0_1216482.0', '1234423.0', '1220372.0', '1177537.0_1177554.0', '1183007.0', '1225860.0', '1225424.0', '1218432.0', '1218731.0', '1167168.0', '1224482.0', '1220383.0', '1219877.0', '1223911.0', '1178200.0_1216941.0', '1225706.0', '1219446.0_1219447.0', '1223154.0', '1225393.0', '1223430.0', '1223501.0', '1176368.0', '1222786.0_1222788.0', '1217825.0', '1224231.0', '1224043.0_1224048.0_1224191.0')\n"
     ]
    }
   ],
   "source": [
    "batch_size = 32\n",
    "dataloader_train = create_data_loader(image_tensor_train, field_numbers, batch_size=batch_size, shuffle=True)\n",
    "\n",
    "# Iterate over DataLoader\n",
    "for batch_inputs, batch_field_numbers in dataloader_train:\n",
    "    print(\"Batch Inputs Shape:\", batch_inputs.shape)  # Should be (batch_size, C, H, W)\n",
    "    print(\"Batch Field Numbers:\", batch_field_numbers)\n",
    "    break  # Show one batch"
   ]
  },
  {
   "cell_type": "code",
   "execution_count": 8,
   "metadata": {},
   "outputs": [
    {
     "name": "stdout",
     "output_type": "stream",
     "text": [
      "Batch Inputs Shape: torch.Size([32, 10, 64, 64])\n",
      "Batch Field Numbers: ('1168039.0', '1228889.0', '1168663.0_1176271.0', '1168692.0_1220431.0', '1171179.0_1222688.0', '5', '1172001.0_1225692.0', '1174805.0', '1176318.0', '1176365.0', '1177274.0', '1177490.0', '1177490.0_1183928.0', '1178038.0', '1178198.0_1225298.0', '1179855.0_1187336.0', '1182776.0', '1182822.0_1216964.0', '1183171.0', '1194806.0_1194808.0', '1196327.0', '1196347.0', '1196489.0_1196747.0', '1216230.0_1219006.0', '1216239.0', '1216250.0', '1216801.0_1216804.0', '1217032.0', '1217498.0', '1219929.0_1219932.0', '1220322.0', '1222641.0')\n"
     ]
    }
   ],
   "source": [
    "batch_size = 32\n",
    "dataloader_test = create_data_loader(image_tensor_test, field_numbers_test, batch_size=batch_size, shuffle=False)\n",
    "\n",
    "# Iterate over DataLoader\n",
    "for batch_inputs, batch_field_numbers in dataloader_test:\n",
    "    print(\"Batch Inputs Shape:\", batch_inputs.shape)  # Should be (batch_size, C, H, W)\n",
    "    print(\"Batch Field Numbers:\", batch_field_numbers)\n",
    "    break  # Show one batch"
   ]
  },
  {
   "cell_type": "markdown",
   "metadata": {},
   "source": [
    "### Modeling"
   ]
  },
  {
   "cell_type": "code",
   "execution_count": 9,
   "metadata": {},
   "outputs": [],
   "source": [
    "in_channels = 10\n",
    "model_type = 'resnet50'\n",
    "feature_extractor = get_pretrained_resnet50(in_channels)"
   ]
  },
  {
   "cell_type": "code",
   "execution_count": 10,
   "metadata": {},
   "outputs": [],
   "source": [
    "train_features, train_fields = extract_features(feature_extractor, dataloader_train, model_type)\n",
    "test_features, test_fields = extract_features(feature_extractor, dataloader_test, model_type)"
   ]
  },
  {
   "cell_type": "code",
   "execution_count": 11,
   "metadata": {},
   "outputs": [
    {
     "data": {
      "text/plain": [
       "(2425, 2048)"
      ]
     },
     "execution_count": 11,
     "metadata": {},
     "output_type": "execute_result"
    }
   ],
   "source": [
    "train_features.shape"
   ]
  },
  {
   "cell_type": "markdown",
   "metadata": {},
   "source": [
    "Clustering"
   ]
  },
  {
   "cell_type": "code",
   "execution_count": 12,
   "metadata": {},
   "outputs": [
    {
     "name": "stderr",
     "output_type": "stream",
     "text": [
      "/Users/bhumikasadbhave007/tensorflow-test/env/lib/python3.8/site-packages/sklearn/cluster/_kmeans.py:1412: FutureWarning: The default value of `n_init` will change from 10 to 'auto' in 1.4. Set the value of `n_init` explicitly to suppress the warning\n",
      "  super()._check_params_vs_input(X, default_n_init=10)\n"
     ]
    }
   ],
   "source": [
    "kmeans = perform_clustering(train_features, n_clusters=2, random_state=24)\n",
    "train_predictions = kmeans.labels_ "
   ]
  },
  {
   "cell_type": "code",
   "execution_count": 13,
   "metadata": {},
   "outputs": [],
   "source": [
    "test_predictions = kmeans.predict(test_features)"
   ]
  },
  {
   "cell_type": "markdown",
   "metadata": {},
   "source": [
    "### Evaluation"
   ]
  },
  {
   "cell_type": "code",
   "execution_count": 14,
   "metadata": {},
   "outputs": [
    {
     "data": {
      "text/plain": [
       "{'Accuracy': 0.5573770491803278,\n",
       " 'Adjusted Rand Index (ARI)': -0.0034404902698634554,\n",
       " 'Normalized Mutual Information (NMI)': 0.017123121497155464,\n",
       " 'Fowlkes-Mallows Index (FMI)': 0.5070171311434776}"
      ]
     },
     "execution_count": 14,
     "metadata": {},
     "output_type": "execute_result"
    }
   ],
   "source": [
    "test_gt_aligned, test_pred_aligned = get_gt_and_pred_aligned(test_fields, test_predictions, config.labels_path)\n",
    "\n",
    "test_metrics = evaluate_clustering_metrics(test_gt_aligned, test_pred_aligned)\n",
    "test_metrics"
   ]
  },
  {
   "cell_type": "code",
   "execution_count": null,
   "metadata": {},
   "outputs": [],
   "source": []
  },
  {
   "cell_type": "code",
   "execution_count": null,
   "metadata": {},
   "outputs": [],
   "source": []
  },
  {
   "cell_type": "code",
   "execution_count": 4,
   "metadata": {},
   "outputs": [],
   "source": [
    "temporal_images_test = load_field_images_temporal(config.base_directory_temporal_test)"
   ]
  },
  {
   "cell_type": "code",
   "execution_count": 28,
   "metadata": {},
   "outputs": [
    {
     "data": {
      "text/plain": [
       "array([      0., 1177274.])"
      ]
     },
     "execution_count": 28,
     "metadata": {},
     "output_type": "execute_result"
    }
   ],
   "source": [
    "np.unique(temporal_images_test[10][0][:,:,-2])"
   ]
  },
  {
   "cell_type": "code",
   "execution_count": 37,
   "metadata": {},
   "outputs": [
    {
     "data": {
      "image/png": "[encoded data removed]",
      "text/plain": [
       "<Figure size 2000x500 with 7 Axes>"
      ]
     },
     "metadata": {},
     "output_type": "display_data"
    }
   ],
   "source": [
    "visualize_temporal_stack_rgb(temporal_images_test[4])"
   ]
  },
  {
   "cell_type": "code",
   "execution_count": null,
   "metadata": {},
   "outputs": [],
   "source": []
  },
  {
   "cell_type": "markdown",
   "metadata": {},
   "source": [
    "## Pre-trained Models: torchgeo"
   ]
  },
  {
   "cell_type": "code",
   "execution_count": null,
   "metadata": {},
   "outputs": [],
   "source": [
    "from torchgeo.models import ResNet18_Weights\n",
    "from torchgeo.models import resnet18\n",
    "\n",
    "# Load the ResNet18 model pretrained on Sentinel-2 all bands\n",
    "model = resnet18(weights=ResNet18_Weights.SENTINEL2_ALL_MOCO)\n",
    "\n",
    "\n"
   ]
  },
  {
   "cell_type": "code",
   "execution_count": null,
   "metadata": {},
   "outputs": [],
   "source": [
    "import torch.nn as nn\n",
    "\n",
    "# Remove the final classification layer\n",
    "model = nn.Sequential(*list(model.children())[:-1])\n",
    "\n",
    "# Set to evaluation mode for inference\n",
    "model.eval()"
   ]
  },
  {
   "cell_type": "code",
   "execution_count": null,
   "metadata": {},
   "outputs": [],
   "source": [
    "# Example input tensor (Sentinel-2 with 13 channels, batch size 32)\n",
    "# input_tensor = torch.randn(32, 13, 224, 224)\n",
    "\n",
    "# Extract features\n",
    "with torch.no_grad():\n",
    "    features = model(input_tensor)  # Output shape: [batch_size, feature_dim, 1, 1]\n",
    "\n",
    "# Flatten features to [batch_size, feature_dim]\n",
    "features = features.view(features.size(0), -1)\n",
    "\n",
    "features_np = features.cpu().numpy()"
   ]
  },
  {
   "cell_type": "code",
   "execution_count": null,
   "metadata": {},
   "outputs": [],
   "source": [
    "# K-means\n",
    "\n",
    "num_clusters = 2  \n",
    "kmeans = KMeans(n_clusters=num_clusters, random_state=42)\n",
    "kmeans.fit(features_np)"
   ]
  },
  {
   "cell_type": "code",
   "execution_count": null,
   "metadata": {},
   "outputs": [],
   "source": []
  },
  {
   "cell_type": "markdown",
   "metadata": {},
   "source": []
  }
 ],
 "metadata": {
  "kernelspec": {
   "display_name": "Python 3",
   "language": "python",
   "name": "python3"
  },
  "language_info": {
   "codemirror_mode": {
    "name": "ipython",
    "version": 3
   },
   "file_extension": ".py",
   "mimetype": "text/x-python",
   "name": "python",
   "nbconvert_exporter": "python",
   "pygments_lexer": "ipython3",
   "version": "3.8.18"
  }
 },
 "nbformat": 4,
 "nbformat_minor": 2
}
