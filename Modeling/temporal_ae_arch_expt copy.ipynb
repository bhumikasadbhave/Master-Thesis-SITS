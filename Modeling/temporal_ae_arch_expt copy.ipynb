{
 "cells": [
  {
   "cell_type": "markdown",
   "metadata": {},
   "source": [
    "## Imports"
   ]
  },
  {
   "cell_type": "code",
   "execution_count": 1,
   "metadata": {},
   "outputs": [],
   "source": [
    "%load_ext autoreload\n",
    "%autoreload 2"
   ]
  },
  {
   "cell_type": "code",
   "execution_count": 2,
   "metadata": {},
   "outputs": [],
   "source": [
    "import os, sys\n",
    "from pathlib import Path\n",
    "\n",
    "os.environ['PYTORCH_ENABLE_MPS_FALLBACK'] = '1'\n",
    "sys.path.append('/home/k64835/Master-Thesis-SITS')\n",
    "\n",
    "scripts_path = Path(\"../Data-Preprocessing/\").resolve()\n",
    "sys.path.append(str(scripts_path))\n",
    "\n",
    "scripts_path = Path(\"../Evaluation/\").resolve()\n",
    "sys.path.append(str(scripts_path))"
   ]
  },
  {
   "cell_type": "code",
   "execution_count": 3,
   "metadata": {},
   "outputs": [],
   "source": [
    "import pickle\n",
    "from sklearn.cluster import KMeans\n",
    "from sklearn.neighbors import NearestCentroid\n",
    "from scripts.data_visualiser import *\n",
    "import torch.nn.functional as F\n",
    "from sklearn.model_selection import train_test_split\n",
    "from model_scripts.subpatch_extraction import *\n",
    "from scripts.data_loader import *\n",
    "from scripts.data_preprocessor import *\n",
    "from scripts.temporal_data_preprocessor import *\n",
    "from scripts.temporal_data_loader import *\n",
    "from scripts.temporal_visualiser import *\n",
    "from scripts.temporal_chanel_refinement import *\n",
    "from model_scripts.get_statistics import *\n",
    "from model_scripts.dataset_creation import *\n",
    "from model_scripts.train_model_ae import *\n",
    "from model_scripts.model_visualiser import *\n",
    "from model_scripts.clustering import *\n",
    "from evaluation_scripts.label_helper import *\n",
    "from evaluation_scripts.result_visualiser import *\n",
    "from Pipeline.temporal_preprocessing_pipeline import *\n",
    "from evaluation_scripts.result_visualiser import *\n",
    "from Pipeline.temporal_preprocessing_pipeline import *\n",
    "import numpy as np\n",
    "import config as config\n",
    "from sklearn.cluster import KMeans\n",
    "from sklearn.metrics import adjusted_rand_score\n",
    "from sklearn.cluster import DBSCAN\n",
    "from sklearn.decomposition import PCA\n",
    "import skimage.measure\n",
    "import torch\n",
    "import torch.nn as nn\n",
    "import torch.optim as optim"
   ]
  },
  {
   "cell_type": "markdown",
   "metadata": {},
   "source": [
    "## VAE"
   ]
  },
  {
   "cell_type": "code",
   "execution_count": 4,
   "metadata": {},
   "outputs": [],
   "source": [
    "class Conv3DVAE(nn.Module):\n",
    "    def __init__(self, in_channels, time_steps, latent_size, patch_size):\n",
    "        super(Conv3DVAE, self).__init__()\n",
    "\n",
    "        self.time_steps = time_steps\n",
    "        self.in_channels = in_channels\n",
    "\n",
    "        # --- Encoder (3D Convolutions) ---\n",
    "        self.conv1 = nn.Conv3d(in_channels, 64, kernel_size=3, stride=1, padding=1)\n",
    "        self.conv2 = nn.Conv3d(64, 128, kernel_size=3, stride=1, padding=1)\n",
    "        self.conv3 = nn.Conv3d(128, 256, kernel_size=3, stride=1, padding=1)\n",
    "\n",
    "        # --- 1D Convolution (Time Aggregation) ---\n",
    "        self.conv1d = nn.Conv1d(6400, 6400, kernel_size=time_steps, stride=1, padding=0, groups=800)\n",
    "\n",
    "        # --- Fully Connected Latent Space ---\n",
    "        self.flatten = nn.Flatten()\n",
    "        self.fc1 = nn.Linear(6400, 512)\n",
    "        self.fc_mu = nn.Linear(512, latent_size)  # Mean\n",
    "        self.fc_logvar = nn.Linear(512, latent_size)  # Log Variance\n",
    "\n",
    "        # --- Decoder (Fully Connected) ---\n",
    "        self.fc3 = nn.Linear(latent_size, 512)\n",
    "        self.fc4 = nn.Linear(512, 6400)\n",
    "\n",
    "        # --- 1D Deconvolution to Expand Time Back ---\n",
    "        self.deconv1d = nn.ConvTranspose1d(6400, 6400, kernel_size=time_steps, stride=1, padding=0, groups=6400)\n",
    "\n",
    "        # --- 3D Deconvolutions ---\n",
    "        self.unflatten = nn.Unflatten(1, (256, patch_size, patch_size))\n",
    "        self.deconv1 = nn.ConvTranspose3d(256, 128, kernel_size=3, stride=1, padding=1)\n",
    "        self.deconv2 = nn.ConvTranspose3d(128, 64, kernel_size=3, stride=1, padding=1)\n",
    "        self.deconv3 = nn.ConvTranspose3d(64, in_channels, kernel_size=3, stride=1, padding=1)\n",
    "\n",
    "    def reparameterize(self, mu, log_var):\n",
    "        std = torch.exp(0.5 * log_var)\n",
    "        eps = torch.randn_like(std)\n",
    "        return mu + eps * std\n",
    "\n",
    "    def forward(self, x):\n",
    "        # --- Encoder ---\n",
    "        x = F.relu(self.conv1(x))\n",
    "        x = F.relu(self.conv2(x))\n",
    "        x = F.relu(self.conv3(x))\n",
    "\n",
    "        # --- Reshape for 1D Conv ---\n",
    "        b, c, t, h, w = x.shape  \n",
    "        x = x.view(b, c * h * w, t)\n",
    "        x = self.conv1d(x)  # Time aggregation\n",
    "\n",
    "        # --- Flatten and Fully Connected ---\n",
    "        x = self.flatten(x)  \n",
    "        x = F.relu(self.fc1(x))\n",
    "        mu = self.fc_mu(x)\n",
    "        log_var = self.fc_logvar(x)\n",
    "        \n",
    "        # --- Reparameterization Trick ---\n",
    "        z = self.reparameterize(mu, log_var)\n",
    "\n",
    "        # --- Decoder ---\n",
    "        x = F.relu(self.fc3(z))\n",
    "        x = F.relu(self.fc4(x)) \n",
    "\n",
    "        # --- Expand Time Back ---\n",
    "        x = x.view(b, 6400, 1)\n",
    "        x = self.deconv1d(x)\n",
    "\n",
    "        # --- Reshape for 3D Deconvolutions ---\n",
    "        x = x.view(b, -1, self.time_steps, h, w)\n",
    "\n",
    "        # --- 3D Deconvolutions ---\n",
    "        x = F.relu(self.deconv1(x))\n",
    "        x = F.relu(self.deconv2(x))\n",
    "        x_reconstructed = self.deconv3(x)\n",
    "\n",
    "        return mu, log_var, z, x_reconstructed\n"
   ]
  },
  {
   "cell_type": "markdown",
   "metadata": {},
   "source": [
    "## DCEC"
   ]
  },
  {
   "cell_type": "code",
   "execution_count": 42,
   "metadata": {},
   "outputs": [],
   "source": [
    "class Conv3DAutoencoder(nn.Module):\n",
    "    def __init__(self, in_channels, time_steps, latent_size, patch_size):\n",
    "        super(Conv3DAutoencoder, self).__init__()\n",
    "\n",
    "        self.time_steps = time_steps\n",
    "        self.in_channels = in_channels\n",
    "\n",
    "        # Encoder\n",
    "        self.conv1 = nn.Conv3d(in_channels, 64, kernel_size=3, stride=1, padding=1)\n",
    "        self.conv2 = nn.Conv3d(64, 256, kernel_size=3, stride=1, padding=1)\n",
    "        self.conv3 = nn.Conv3d(256, 512, kernel_size=3, stride=1, padding=1)\n",
    "\n",
    "        # 1D Convolution for Time Aggregation\n",
    "        self.conv1d = nn.Conv1d(512 * patch_size * patch_size, 512 * patch_size * patch_size, kernel_size=time_steps, stride=1, padding=0, groups=512)\n",
    "\n",
    "        # Fully Connected Layers for Latent Space\n",
    "        self.flatten = nn.Flatten()\n",
    "        self.fc1 = nn.Linear(512 * patch_size * patch_size, latent_size)\n",
    "\n",
    "        # Decoder\n",
    "        self.fc2 = nn.Linear(latent_size, 512 * patch_size * patch_size)\n",
    "\n",
    "        # 1D Deconvolution to Restore Time Dimension\n",
    "        self.deconv1d = nn.ConvTranspose1d(512 * patch_size * patch_size, 512 * patch_size * patch_size, kernel_size=time_steps, stride=1, padding=0, groups=512)\n",
    "\n",
    "        # 3D Deconvolutions\n",
    "        self.unflatten = nn.Unflatten(1, (512, patch_size, patch_size))\n",
    "        self.deconv1 = nn.ConvTranspose3d(512, 256, kernel_size=3, stride=1, padding=1)\n",
    "        self.deconv2 = nn.ConvTranspose3d(256, 64, kernel_size=3, stride=1, padding=1)\n",
    "        self.deconv3 = nn.ConvTranspose3d(64, in_channels, kernel_size=3, stride=1, padding=1)\n",
    "\n",
    "    def forward(self, x):\n",
    "        # Encoder\n",
    "        x = F.relu(self.conv1(x))\n",
    "        x = F.relu(self.conv2(x))\n",
    "        x = F.relu(self.conv3(x))\n",
    "\n",
    "        # Reshape for 1D Convolution\n",
    "        b, c, t, h, w = x.shape\n",
    "        x = x.view(b, c * h * w, t)\n",
    "        x = self.conv1d(x)\n",
    "\n",
    "        # Fully Connected Latent Space\n",
    "        x = self.flatten(x)\n",
    "        z = F.relu(self.fc1(x))\n",
    "\n",
    "        # Decoder\n",
    "        x = F.relu(self.fc2(z))\n",
    "\n",
    "        # Restore Time Dimension\n",
    "        x = x.view(b, 512 * h * w, 1)\n",
    "        x = self.deconv1d(x)\n",
    "\n",
    "        # Reshape for 3D Deconvolutions\n",
    "        x = x.view(b, 512, self.time_steps, h, w)\n",
    "\n",
    "        # 3D Deconvolutions\n",
    "        x = F.relu(self.deconv1(x))\n",
    "        x = F.relu(self.deconv2(x))\n",
    "        x_reconstructed = self.deconv3(x)\n",
    "\n",
    "        return z, x_reconstructed\n",
    "\n",
    "class ClusteringLayer(nn.Module):\n",
    "    def __init__(self, n_clusters, latent_size):\n",
    "        super(ClusteringLayer, self).__init__()\n",
    "        self.n_clusters = n_clusters\n",
    "        self.cluster_centers = nn.Parameter(torch.randn(n_clusters, latent_size))\n",
    "\n",
    "    def forward(self, z):\n",
    "        q = 1.0 / (1.0 + torch.sum((z.unsqueeze(1) - self.cluster_centers) ** 2, dim=2))\n",
    "        q = q / q.sum(dim=1, keepdim=True)\n",
    "        return q\n",
    "\n",
    "class DCEC(nn.Module):\n",
    "    def __init__(self, in_channels, time_steps, latent_size, patch_size, n_clusters):\n",
    "        super(DCEC, self).__init__()\n",
    "        self.autoencoder = Conv3DAutoencoder(in_channels, time_steps, latent_size, patch_size)\n",
    "        self.clustering_layer = ClusteringLayer(n_clusters, latent_size)\n",
    "\n",
    "    def forward(self, x):\n",
    "        z, x_reconstructed = self.autoencoder(x)\n",
    "        q = self.clustering_layer(z)\n",
    "        return q, x_reconstructed\n",
    "\n",
    "\n",
    "    def init_clusters(self, dataloader, random_state=42, device='mps'):\n",
    "        self.to(device)\n",
    "        z_values = []\n",
    "        \n",
    "        with torch.no_grad():\n",
    "            for x_batch, _ in dataloader:\n",
    "                x_batch = x_batch.to(device)\n",
    "                z, _ = self.autoencoder(x_batch)\n",
    "                z_values.append(z.cpu().numpy())\n",
    "        \n",
    "        z_values = np.concatenate(z_values, axis=0)\n",
    "        kmeans = KMeans(n_clusters=self.clustering_layer.n_clusters, n_init=20, random_state=random_state)\n",
    "        cluster_centers = kmeans.fit(z_values).cluster_centers_\n",
    "        \n",
    "        self.clustering_layer.cluster_centers.data = torch.tensor(cluster_centers, dtype=torch.float32, device=device)\n",
    "\n"
   ]
  },
  {
   "cell_type": "code",
   "execution_count": 22,
   "metadata": {},
   "outputs": [],
   "source": [
    "# class Conv3DAutoencoder(nn.Module):\n",
    "#     def __init__(self, in_channels, time_steps, latent_size, patch_size):\n",
    "#         super(Conv3DAutoencoder, self).__init__()\n",
    "\n",
    "#         self.time_steps = time_steps\n",
    "#         self.in_channels = in_channels\n",
    "\n",
    "#         # Encoder - Expand time instead of channels\n",
    "#         self.conv1 = nn.Conv3d(time_steps, 64, kernel_size=3, stride=1, padding=1)  # Time is treated as channels\n",
    "#         self.conv2 = nn.Conv3d(64, 128, kernel_size=3, stride=1, padding=1)\n",
    "#         self.conv3 = nn.Conv3d(128, 256, kernel_size=3, stride=1, padding=1)\n",
    "\n",
    "#         # Fully Connected Latent Space\n",
    "#         self.flatten = nn.Flatten()\n",
    "#         self.fc1 = nn.Linear(256 * patch_size * patch_size * in_channels, 512)\n",
    "#         self.fc2 = nn.Linear(512, latent_size)\n",
    "\n",
    "#         # Decoder - Expand spatial/spectral before time\n",
    "#         self.fc3 = nn.Linear(latent_size, 512)\n",
    "#         self.fc4 = nn.Linear(512, 256 * patch_size * patch_size * in_channels)\n",
    "\n",
    "#         # Unflatten for deconvolution\n",
    "#         self.unflatten = nn.Unflatten(1, (256, in_channels, patch_size, patch_size))\n",
    "\n",
    "#         # 3D Deconvolutions\n",
    "#         self.deconv1 = nn.ConvTranspose3d(256, 128, kernel_size=3, stride=1, padding=1)\n",
    "#         self.deconv2 = nn.ConvTranspose3d(128, 64, kernel_size=3, stride=1, padding=1)\n",
    "#         self.deconv3 = nn.ConvTranspose3d(64, time_steps, kernel_size=3, stride=1, padding=1)  # Expand back to time\n",
    "\n",
    "#     def forward(self, x):\n",
    "#         # Reshape: (B, C, T, H, W) → (B, T, C, H, W)\n",
    "#         x = x.permute(0, 2, 1, 3, 4)\n",
    "\n",
    "#         # Encoder - Expand time instead of channels\n",
    "#         x = F.relu(self.conv1(x))\n",
    "#         x = F.relu(self.conv2(x))\n",
    "#         x = F.relu(self.conv3(x))\n",
    "\n",
    "#         # print(x.shape)\n",
    "\n",
    "#         # Flatten for fully connected layers\n",
    "#         b, c, t, h, w = x.shape\n",
    "#         x = self.flatten(x)  \n",
    "#         x = F.relu(self.fc1(x))\n",
    "#         z = self.fc2(x)\n",
    "\n",
    "#         # print(x.shape)\n",
    "\n",
    "#         # Decoder - Restore spatial/spectral before time\n",
    "#         x = F.relu(self.fc3(z))\n",
    "#         x = F.relu(self.fc4(x))\n",
    "\n",
    "#         # print(x.shape)\n",
    "\n",
    "#         # Reshape for deconvolutions\n",
    "#         x = self.unflatten(x)  \n",
    "#         x = F.relu(self.deconv1(x))\n",
    "#         x = F.relu(self.deconv2(x))\n",
    "\n",
    "#         # print(x.shape)\n",
    "\n",
    "#         x_reconstructed = self.deconv3(x)  # Expand back to time\n",
    "\n",
    "#         # Reshape back to (B, C, T, H, W)\n",
    "#         x_reconstructed = x_reconstructed.permute(0, 2, 1, 3, 4)\n",
    "\n",
    "#         return z, x_reconstructed\n",
    "\n",
    "\n",
    "\n",
    "# class ClusteringLayer(nn.Module):\n",
    "#     def __init__(self, n_clusters, latent_size):\n",
    "#         super(ClusteringLayer, self).__init__()\n",
    "#         self.n_clusters = n_clusters\n",
    "#         self.cluster_centers = nn.Parameter(torch.randn(n_clusters, latent_size))\n",
    "\n",
    "#     def forward(self, z):\n",
    "#         q = 1.0 / (1.0 + torch.sum((z.unsqueeze(1) - self.cluster_centers) ** 2, dim=2))\n",
    "#         q = q / q.sum(dim=1, keepdim=True)\n",
    "#         return q\n",
    "\n",
    "# class DCEC(nn.Module):\n",
    "#     def __init__(self, in_channels, time_steps, latent_size, patch_size, n_clusters):\n",
    "#         super(DCEC, self).__init__()\n",
    "#         self.autoencoder = Conv3DAutoencoder(in_channels, time_steps, latent_size, patch_size)\n",
    "#         self.clustering_layer = ClusteringLayer(n_clusters, latent_size)\n",
    "\n",
    "#     def forward(self, x):\n",
    "#         z, x_reconstructed = self.autoencoder(x)\n",
    "#         q = self.clustering_layer(z)\n",
    "#         return q, x_reconstructed\n",
    "\n",
    "#     def init_clusters(self, dataloader, random_state=42, device='mps'):\n",
    "#         self.to(device)\n",
    "#         z_values = []\n",
    "        \n",
    "#         with torch.no_grad():\n",
    "#             for x_batch, _ in dataloader:\n",
    "#                 x_batch = x_batch.to(device)\n",
    "#                 z, _ = self.autoencoder(x_batch)\n",
    "#                 z_values.append(z.cpu().numpy())\n",
    "        \n",
    "#         z_values = np.concatenate(z_values, axis=0)\n",
    "#         kmeans = KMeans(n_clusters=self.clustering_layer.n_clusters, n_init=20, random_state=random_state)\n",
    "#         cluster_centers = kmeans.fit(z_values).cluster_centers_\n",
    "        \n",
    "#         self.clustering_layer.cluster_centers.data = torch.tensor(cluster_centers, dtype=torch.float32, device=device)\n"
   ]
  },
  {
   "cell_type": "markdown",
   "metadata": {},
   "source": [
    "## Experiment 1: B10 + VAE"
   ]
  },
  {
   "cell_type": "markdown",
   "metadata": {},
   "source": [
    "### Loading the pre-processed data\n",
    "\n",
    "Data: Extracted and Pre-processed Patches (each patch containing a sugarbeet field)\n",
    "\n",
    "Dimensions: (N, T, C, H, W) = (N, 7, 10, 64, 64)"
   ]
  },
  {
   "cell_type": "code",
   "execution_count": 8,
   "metadata": {},
   "outputs": [
    {
     "data": {
      "text/plain": [
       "(torch.Size([2425, 7, 10, 64, 64]), torch.Size([48, 7, 10, 64, 64]))"
      ]
     },
     "execution_count": 8,
     "metadata": {},
     "output_type": "execute_result"
    }
   ],
   "source": [
    "preprocessing_pipeline = PreProcessingPipelineTemporal()\n",
    "field_numbers_train, acquisition_dates_train, patch_tensor_train, images_visualisation_train = preprocessing_pipeline.get_processed_temporal_cubes('train', 'allbands')\n",
    "field_numbers_eval, acquisition_dates_eval, patch_tensor_eval, images_visualisation_eval = preprocessing_pipeline.get_processed_temporal_cubes('eval', 'allbands')\n",
    "patch_tensor_train.shape, patch_tensor_eval.shape"
   ]
  },
  {
   "cell_type": "markdown",
   "metadata": {},
   "source": [
    "### Create Sub-Patches"
   ]
  },
  {
   "cell_type": "code",
   "execution_count": 9,
   "metadata": {},
   "outputs": [
    {
     "data": {
      "text/plain": [
       "(torch.Size([39042, 7, 10, 5, 5]), torch.Size([867, 7, 10, 5, 5]))"
      ]
     },
     "execution_count": 9,
     "metadata": {},
     "output_type": "execute_result"
    }
   ],
   "source": [
    "train_subpatches, train_subpatch_coords = non_overlapping_sliding_window(patch_tensor_train, field_numbers_train, patch_size=config.subpatch_size)\n",
    "eval_subpatches, eval_subpatch_coords = non_overlapping_sliding_window(patch_tensor_eval, field_numbers_eval, patch_size=config.subpatch_size)\n",
    "train_subpatches.shape, eval_subpatches.shape"
   ]
  },
  {
   "cell_type": "markdown",
   "metadata": {},
   "source": [
    "Get field numbers and co-ordinates as string"
   ]
  },
  {
   "cell_type": "code",
   "execution_count": 10,
   "metadata": {},
   "outputs": [
    {
     "data": {
      "text/plain": [
       "'1167134.0_25_25'"
      ]
     },
     "execution_count": 10,
     "metadata": {},
     "output_type": "execute_result"
    }
   ],
   "source": [
    "train_coord_dataloader = get_string_fielddata(train_subpatch_coords)\n",
    "eval_coord_dataloader = get_string_fielddata(eval_subpatch_coords)\n",
    "train_coord_dataloader[0]"
   ]
  },
  {
   "cell_type": "markdown",
   "metadata": {},
   "source": [
    "### Split Unlabeled data into 'train' and 'test' and create  Data Loaders"
   ]
  },
  {
   "cell_type": "code",
   "execution_count": 11,
   "metadata": {},
   "outputs": [
    {
     "name": "stderr",
     "output_type": "stream",
     "text": [
      "/home/k64835/Master-Thesis-SITS/Modeling/model_scripts/dataset_creation.py:11: UserWarning: To copy construct from a tensor, it is recommended to use sourceTensor.clone().detach() or sourceTensor.clone().detach().requires_grad_(True), rather than torch.tensor(sourceTensor).\n",
      "  inputs = torch.tensor(inputs, dtype=torch.float32).permute(0, 2, 1, 3, 4)  # (N, T, C, H, W) -> (N, C, T, H, W)\n"
     ]
    }
   ],
   "source": [
    "train_subpatches_dl, test_subpatches, train_field_numbers, test_field_numbers = train_test_split(\n",
    "    train_subpatches, train_coord_dataloader, test_size=1-config.ae_train_test_ratio, random_state=42\n",
    ")\n",
    "\n",
    "dataloader_train = create_data_loader(train_subpatches_dl, train_field_numbers, batch_size=config.ae_batch_size, shuffle=True)\n",
    "dataloader_test = create_data_loader(test_subpatches, test_field_numbers, batch_size=config.ae_batch_size, shuffle=False)\n",
    "dataloader_eval = create_data_loader(eval_subpatches, eval_coord_dataloader, batch_size=config.ae_batch_size, shuffle=False)"
   ]
  },
  {
   "cell_type": "markdown",
   "metadata": {},
   "source": [
    "### Training the Auto-encoder"
   ]
  },
  {
   "cell_type": "markdown",
   "metadata": {},
   "source": [
    "Input Data: ( N x C x D x H x W )"
   ]
  },
  {
   "cell_type": "code",
   "execution_count": 12,
   "metadata": {},
   "outputs": [
    {
     "data": {
      "text/plain": [
       "Conv3DVAE(\n",
       "  (conv1): Conv3d(10, 64, kernel_size=(3, 3, 3), stride=(1, 1, 1), padding=(1, 1, 1))\n",
       "  (conv2): Conv3d(64, 128, kernel_size=(3, 3, 3), stride=(1, 1, 1), padding=(1, 1, 1))\n",
       "  (conv3): Conv3d(128, 256, kernel_size=(3, 3, 3), stride=(1, 1, 1), padding=(1, 1, 1))\n",
       "  (conv1d): Conv1d(6400, 6400, kernel_size=(7,), stride=(1,), groups=800)\n",
       "  (flatten): Flatten(start_dim=1, end_dim=-1)\n",
       "  (fc1): Linear(in_features=6400, out_features=512, bias=True)\n",
       "  (fc_mu): Linear(in_features=512, out_features=32, bias=True)\n",
       "  (fc_logvar): Linear(in_features=512, out_features=32, bias=True)\n",
       "  (fc3): Linear(in_features=32, out_features=512, bias=True)\n",
       "  (fc4): Linear(in_features=512, out_features=6400, bias=True)\n",
       "  (deconv1d): ConvTranspose1d(6400, 6400, kernel_size=(7,), stride=(1,), groups=6400)\n",
       "  (unflatten): Unflatten(dim=1, unflattened_size=(256, 5, 5))\n",
       "  (deconv1): ConvTranspose3d(256, 128, kernel_size=(3, 3, 3), stride=(1, 1, 1), padding=(1, 1, 1))\n",
       "  (deconv2): ConvTranspose3d(128, 64, kernel_size=(3, 3, 3), stride=(1, 1, 1), padding=(1, 1, 1))\n",
       "  (deconv3): ConvTranspose3d(64, 10, kernel_size=(3, 3, 3), stride=(1, 1, 1), padding=(1, 1, 1))\n",
       ")"
      ]
     },
     "execution_count": 12,
     "metadata": {},
     "output_type": "execute_result"
    }
   ],
   "source": [
    "device = 'cuda'\n",
    "epochs = 25\n",
    "lr = 0.001\n",
    "latent_dim=32\n",
    "channels = 10\n",
    "time_steps = 7\n",
    "patch_size = config.subpatch_size\n",
    "\n",
    "model = Conv3DVAE(channels, time_steps, latent_dim, config.subpatch_size)\n",
    "device = torch.device(device)  \n",
    "model.to(device)"
   ]
  },
  {
   "cell_type": "code",
   "execution_count": 18,
   "metadata": {},
   "outputs": [
    {
     "name": "stdout",
     "output_type": "stream",
     "text": [
      "Epoch 1/25, Train Loss: 0.2005, Test Loss: 0.0040\n",
      "Epoch 2/25, Train Loss: 0.0029, Test Loss: 0.0032\n",
      "Epoch 3/25, Train Loss: 0.0030, Test Loss: 0.0033\n",
      "Epoch 4/25, Train Loss: 0.0030, Test Loss: 0.0030\n",
      "Epoch 5/25, Train Loss: 0.0030, Test Loss: 0.0039\n",
      "Epoch 6/25, Train Loss: 10.7335, Test Loss: 0.0028\n",
      "Epoch 7/25, Train Loss: 0.0026, Test Loss: 0.0032\n",
      "Epoch 8/25, Train Loss: 0.0028, Test Loss: 0.0028\n",
      "Epoch 9/25, Train Loss: 0.0031, Test Loss: 0.0030\n",
      "Epoch 10/25, Train Loss: 0.0028, Test Loss: 0.0037\n",
      "Epoch 11/25, Train Loss: 0.0030, Test Loss: 0.0056\n",
      "Epoch 12/25, Train Loss: 0.0030, Test Loss: 0.0030\n",
      "Epoch 13/25, Train Loss: 0.0029, Test Loss: 0.0027\n",
      "Epoch 14/25, Train Loss: 0.0029, Test Loss: 0.0026\n",
      "Epoch 15/25, Train Loss: 0.0029, Test Loss: 0.0063\n",
      "Epoch 16/25, Train Loss: 0.0030, Test Loss: 0.0070\n",
      "Epoch 17/25, Train Loss: 0.0031, Test Loss: 0.0026\n",
      "Epoch 18/25, Train Loss: 0.0028, Test Loss: 0.0094\n",
      "Epoch 19/25, Train Loss: 0.0029, Test Loss: 0.0029\n",
      "Epoch 20/25, Train Loss: 0.0027, Test Loss: 0.0029\n",
      "Epoch 21/25, Train Loss: 0.0027, Test Loss: 0.0029\n",
      "Epoch 22/25, Train Loss: 0.0027, Test Loss: 0.0035\n",
      "Epoch 23/25, Train Loss: 0.0027, Test Loss: 0.0026\n",
      "Epoch 24/25, Train Loss: 0.0027, Test Loss: 0.0026\n",
      "Epoch 25/25, Train Loss: 0.0027, Test Loss: 0.0027\n"
     ]
    }
   ],
   "source": [
    "trained_model, train_losses, test_losses  = train_model_vae(model, dataloader_train, dataloader_test, epochs=epochs, lr=lr, device=device)"
   ]
  },
  {
   "cell_type": "code",
   "execution_count": 19,
   "metadata": {},
   "outputs": [],
   "source": [
    "# plot_loss(train_losses,test_losses)"
   ]
  },
  {
   "cell_type": "code",
   "execution_count": 20,
   "metadata": {},
   "outputs": [
    {
     "data": {
      "image/png": "[encoded data removed]",
      "text/plain": [
       "<Figure size 800x500 with 1 Axes>"
      ]
     },
     "metadata": {},
     "output_type": "display_data"
    }
   ],
   "source": [
    "plot_loss_log_scale(train_losses, test_losses)"
   ]
  },
  {
   "cell_type": "markdown",
   "metadata": {},
   "source": [
    "### Evaluation"
   ]
  },
  {
   "cell_type": "markdown",
   "metadata": {},
   "source": [
    "Use trained Encoder part to get the features for train, test and evaluation Data"
   ]
  },
  {
   "cell_type": "code",
   "execution_count": 26,
   "metadata": {},
   "outputs": [],
   "source": [
    "train_features, train_coord_dl = extract_features_vae(trained_model, dataloader_train, device)\n",
    "test_features, test_coord_dl = extract_features_vae(trained_model, dataloader_test, device)\n",
    "eval_features, eval_coord_dl = extract_features_vae(trained_model, dataloader_eval, device)"
   ]
  },
  {
   "cell_type": "code",
   "execution_count": 27,
   "metadata": {},
   "outputs": [],
   "source": [
    "train_features = train_features.cpu()\n",
    "test_features = test_features.cpu()\n",
    "eval_features = eval_features.cpu()"
   ]
  },
  {
   "cell_type": "code",
   "execution_count": 28,
   "metadata": {},
   "outputs": [],
   "source": [
    "combined_train_features = torch.cat((train_features, test_features), dim=0)\n",
    "combined_train_coords = train_coord_dl + test_coord_dl"
   ]
  },
  {
   "cell_type": "markdown",
   "metadata": {},
   "source": [
    "K-means on extracted features"
   ]
  },
  {
   "cell_type": "code",
   "execution_count": 34,
   "metadata": {},
   "outputs": [
    {
     "name": "stderr",
     "output_type": "stream",
     "text": [
      "/home/k64835/.local/lib/python3.8/site-packages/sklearn/cluster/_kmeans.py:1416: FutureWarning: The default value of `n_init` will change from 10 to 'auto' in 1.4. Set the value of `n_init` explicitly to suppress the warning\n",
      "  super()._check_params_vs_input(X, default_n_init=10)\n"
     ]
    }
   ],
   "source": [
    "kmeans = train_kmeans_patches(combined_train_features, n_clusters=2, random_state=2)\n",
    "\n",
    "train_subpatch_predictions = kmeans.predict(combined_train_features.reshape(combined_train_features.size(0), -1).numpy().astype(np.float32))\n",
    "eval_subpatch_predictions = kmeans.predict(eval_features.reshape(eval_features.size(0), -1).numpy().astype(np.float32))"
   ]
  },
  {
   "cell_type": "markdown",
   "metadata": {},
   "source": [
    "Convert Subpatch labels to Field labels"
   ]
  },
  {
   "cell_type": "code",
   "execution_count": 35,
   "metadata": {},
   "outputs": [],
   "source": [
    "threshold = config.patch_to_field_threshold\n",
    "train_field_labels = assign_field_labels_ae(combined_train_coords, train_subpatch_predictions, threshold)\n",
    "eval_field_labels = assign_field_labels_ae(eval_coord_dl, eval_subpatch_predictions, threshold)"
   ]
  },
  {
   "cell_type": "markdown",
   "metadata": {},
   "source": [
    "Accuracy and Classification Report"
   ]
  },
  {
   "cell_type": "code",
   "execution_count": 36,
   "metadata": {},
   "outputs": [
    {
     "name": "stdout",
     "output_type": "stream",
     "text": [
      "Evaluation Accuracy: 0.4426229508196721\n",
      "              precision    recall  f1-score   support\n",
      "\n",
      "           0       0.35      0.35      0.35        26\n",
      "           1       0.51      0.51      0.51        35\n",
      "\n",
      "    accuracy                           0.44        61\n",
      "   macro avg       0.43      0.43      0.43        61\n",
      "weighted avg       0.44      0.44      0.44        61\n",
      "\n",
      "[[ 9 17]\n",
      " [17 18]]\n"
     ]
    }
   ],
   "source": [
    "accuracy, report, cm, x_y_coords = evaluate_test_labels_ae(eval_field_labels, config.labels_path)\n",
    "print(f\"Evaluation Accuracy: {accuracy}\")\n",
    "print(report)\n",
    "print(cm)"
   ]
  },
  {
   "cell_type": "code",
   "execution_count": null,
   "metadata": {},
   "outputs": [],
   "source": []
  },
  {
   "cell_type": "markdown",
   "metadata": {},
   "source": [
    "## Experiment 2: B10 + DCEC"
   ]
  },
  {
   "cell_type": "markdown",
   "metadata": {},
   "source": [
    "### Loading the pre-processed data\n",
    "\n",
    "Data: Extracted and Pre-processed Patches (each patch containing a sugarbeet field)\n",
    "\n",
    "Dimensions: (N, T, C, H, W) = (N, 7, 10, 64, 64)"
   ]
  },
  {
   "cell_type": "code",
   "execution_count": 43,
   "metadata": {},
   "outputs": [
    {
     "data": {
      "text/plain": [
       "(torch.Size([2425, 7, 7, 64, 64]), torch.Size([48, 7, 7, 64, 64]))"
      ]
     },
     "execution_count": 43,
     "metadata": {},
     "output_type": "execute_result"
    }
   ],
   "source": [
    "preprocessing_pipeline = PreProcessingPipelineTemporal()\n",
    "field_numbers_train, acquisition_dates_train, patch_tensor_train, images_visualisation_train = preprocessing_pipeline.get_processed_temporal_cubes('train', 'multipleindicesbands')\n",
    "field_numbers_eval, acquisition_dates_eval, patch_tensor_eval, images_visualisation_eval = preprocessing_pipeline.get_processed_temporal_cubes('eval', 'multipleindicesbands')\n",
    "patch_tensor_train.shape, patch_tensor_eval.shape"
   ]
  },
  {
   "cell_type": "markdown",
   "metadata": {},
   "source": [
    "### Create Sub-Patches"
   ]
  },
  {
   "cell_type": "code",
   "execution_count": 44,
   "metadata": {},
   "outputs": [
    {
     "data": {
      "text/plain": [
       "(torch.Size([39042, 7, 7, 5, 5]), torch.Size([867, 7, 7, 5, 5]))"
      ]
     },
     "execution_count": 44,
     "metadata": {},
     "output_type": "execute_result"
    }
   ],
   "source": [
    "train_subpatches, train_subpatch_coords = non_overlapping_sliding_window(patch_tensor_train, field_numbers_train, patch_size=config.subpatch_size)\n",
    "eval_subpatches, eval_subpatch_coords = non_overlapping_sliding_window(patch_tensor_eval, field_numbers_eval, patch_size=config.subpatch_size)\n",
    "train_subpatches.shape, eval_subpatches.shape"
   ]
  },
  {
   "cell_type": "markdown",
   "metadata": {},
   "source": [
    "Get field numbers and co-ordinates as string"
   ]
  },
  {
   "cell_type": "code",
   "execution_count": 45,
   "metadata": {},
   "outputs": [
    {
     "data": {
      "text/plain": [
       "'1167134.0_25_25'"
      ]
     },
     "execution_count": 45,
     "metadata": {},
     "output_type": "execute_result"
    }
   ],
   "source": [
    "train_coord_dataloader = get_string_fielddata(train_subpatch_coords)\n",
    "eval_coord_dataloader = get_string_fielddata(eval_subpatch_coords)\n",
    "train_coord_dataloader[0]"
   ]
  },
  {
   "cell_type": "markdown",
   "metadata": {},
   "source": [
    "### Split Unlabeled data into 'train' and 'test' and create  Data Loaders"
   ]
  },
  {
   "cell_type": "code",
   "execution_count": null,
   "metadata": {},
   "outputs": [
    {
     "name": "stderr",
     "output_type": "stream",
     "text": [
      "/home/k64835/Master-Thesis-SITS/Modeling/model_scripts/dataset_creation.py:11: UserWarning: To copy construct from a tensor, it is recommended to use sourceTensor.clone().detach() or sourceTensor.clone().detach().requires_grad_(True), rather than torch.tensor(sourceTensor).\n",
      "  inputs = torch.tensor(inputs, dtype=torch.float32).permute(0, 2, 1, 3, 4)  # (N, T, C, H, W) -> (N, C, T, H, W)\n"
     ]
    }
   ],
   "source": [
    "train_subpatches_dl, test_subpatches, train_field_numbers, test_field_numbers = train_test_split(\n",
    "    train_subpatches, train_coord_dataloader, test_size=1-0.75, random_state=40\n",
    ")\n",
    "\n",
    "dataloader_train = create_data_loader(train_subpatches_dl, train_field_numbers, batch_size=config.ae_batch_size, shuffle=True)\n",
    "dataloader_test = create_data_loader(test_subpatches, test_field_numbers, batch_size=config.ae_batch_size, shuffle=False)\n",
    "dataloader_eval = create_data_loader(eval_subpatches, eval_coord_dataloader, batch_size=config.ae_batch_size, shuffle=False)"
   ]
  },
  {
   "cell_type": "markdown",
   "metadata": {},
   "source": [
    "### Training the Auto-encoder"
   ]
  },
  {
   "cell_type": "markdown",
   "metadata": {},
   "source": [
    "Input Data: ( N x C x D x H x W )"
   ]
  },
  {
   "cell_type": "code",
   "execution_count": 47,
   "metadata": {},
   "outputs": [],
   "source": [
    "# device = 'cuda'\n",
    "# epochs = 50\n",
    "# lr = 0.001\n",
    "# latent_dim=8\n",
    "# channels = 10\n",
    "# time_steps = 7\n",
    "# patch_size = config.subpatch_size\n",
    "\n",
    "# model = Conv3DAutoencoder(channels, time_steps, latent_dim, config.subpatch_size)\n",
    "# device = torch.device(device)  \n",
    "# model.to(device)"
   ]
  },
  {
   "cell_type": "markdown",
   "metadata": {},
   "source": [
    "Training just the Autoencoder Part"
   ]
  },
  {
   "cell_type": "code",
   "execution_count": 48,
   "metadata": {},
   "outputs": [],
   "source": [
    "# trained_model, train_losses, test_losses  = train_model_ae(model, dataloader_train, dataloader_test, epochs=epochs, lr=lr, device=device)"
   ]
  },
  {
   "cell_type": "markdown",
   "metadata": {},
   "source": [
    "DCEC Training the full Clustering Layer"
   ]
  },
  {
   "cell_type": "code",
   "execution_count": 49,
   "metadata": {},
   "outputs": [],
   "source": [
    "device = 'cuda'\n",
    "epochs = 100\n",
    "lr = 0.001\n",
    "latent_dim=64\n",
    "channels = 7\n",
    "time_steps = 7\n",
    "alpha = 0.3\n",
    "patch_size = config.subpatch_size\n",
    "\n",
    "model = DCEC(channels, time_steps, latent_dim, patch_size, 2)\n",
    "model.init_clusters(dataloader_train, random_state=18, device=device)"
   ]
  },
  {
   "cell_type": "code",
   "execution_count": 50,
   "metadata": {},
   "outputs": [
    {
     "name": "stdout",
     "output_type": "stream",
     "text": [
      "Epoch 1/100:\n",
      "  Train - Reconstruction Loss: 0.0094, Clustering Loss: 0.0411\n",
      "  Test  - Reconstruction Loss: 0.0058, Clustering Loss: 0.0657\n",
      "Epoch 2/100:\n",
      "  Train - Reconstruction Loss: 0.0057, Clustering Loss: 0.0499\n",
      "  Test  - Reconstruction Loss: 0.0045, Clustering Loss: 0.0475\n",
      "Epoch 3/100:\n",
      "  Train - Reconstruction Loss: 0.0048, Clustering Loss: 0.0376\n",
      "  Test  - Reconstruction Loss: 0.0042, Clustering Loss: 0.0346\n",
      "Epoch 4/100:\n",
      "  Train - Reconstruction Loss: 0.0034, Clustering Loss: 0.0297\n",
      "  Test  - Reconstruction Loss: 0.0027, Clustering Loss: 0.0269\n",
      "Epoch 5/100:\n",
      "  Train - Reconstruction Loss: 0.0030, Clustering Loss: 0.0242\n",
      "  Test  - Reconstruction Loss: 0.0027, Clustering Loss: 0.0228\n",
      "Epoch 6/100:\n",
      "  Train - Reconstruction Loss: 0.0036, Clustering Loss: 0.0213\n",
      "  Test  - Reconstruction Loss: 0.0029, Clustering Loss: 0.0196\n",
      "Epoch 7/100:\n",
      "  Train - Reconstruction Loss: 0.0031, Clustering Loss: 0.0183\n",
      "  Test  - Reconstruction Loss: 0.0029, Clustering Loss: 0.0169\n",
      "Epoch 8/100:\n",
      "  Train - Reconstruction Loss: 0.0028, Clustering Loss: 0.0159\n",
      "  Test  - Reconstruction Loss: 0.0026, Clustering Loss: 0.0148\n",
      "Epoch 9/100:\n",
      "  Train - Reconstruction Loss: 0.0025, Clustering Loss: 0.0142\n",
      "  Test  - Reconstruction Loss: 0.0025, Clustering Loss: 0.0134\n",
      "Epoch 10/100:\n",
      "  Train - Reconstruction Loss: 0.0025, Clustering Loss: 0.0127\n",
      "  Test  - Reconstruction Loss: 0.0041, Clustering Loss: 0.0133\n",
      "Epoch 11/100:\n",
      "  Train - Reconstruction Loss: 0.0023, Clustering Loss: 0.0114\n",
      "  Test  - Reconstruction Loss: 0.0022, Clustering Loss: 0.0106\n",
      "Epoch 12/100:\n",
      "  Train - Reconstruction Loss: 0.0023, Clustering Loss: 0.0102\n",
      "  Test  - Reconstruction Loss: 0.0021, Clustering Loss: 0.0096\n",
      "Epoch 13/100:\n",
      "  Train - Reconstruction Loss: 0.0022, Clustering Loss: 0.0095\n",
      "  Test  - Reconstruction Loss: 0.0184, Clustering Loss: 0.0096\n",
      "Epoch 14/100:\n",
      "  Train - Reconstruction Loss: 0.0025, Clustering Loss: 0.0089\n",
      "  Test  - Reconstruction Loss: 0.0025, Clustering Loss: 0.0089\n",
      "Epoch 15/100:\n",
      "  Train - Reconstruction Loss: 0.0022, Clustering Loss: 0.0080\n",
      "  Test  - Reconstruction Loss: 0.0020, Clustering Loss: 0.0077\n",
      "Epoch 16/100:\n",
      "  Train - Reconstruction Loss: 0.0023, Clustering Loss: 0.0073\n",
      "  Test  - Reconstruction Loss: 0.0020, Clustering Loss: 0.0068\n",
      "Epoch 17/100:\n",
      "  Train - Reconstruction Loss: 0.0020, Clustering Loss: 0.0064\n",
      "  Test  - Reconstruction Loss: 0.0020, Clustering Loss: 0.0062\n",
      "Epoch 18/100:\n",
      "  Train - Reconstruction Loss: 0.0020, Clustering Loss: 0.0060\n",
      "  Test  - Reconstruction Loss: 0.0020, Clustering Loss: 0.0058\n",
      "Epoch 19/100:\n",
      "  Train - Reconstruction Loss: 0.0022, Clustering Loss: 0.0068\n",
      "  Test  - Reconstruction Loss: 0.0022, Clustering Loss: 0.0060\n",
      "Epoch 20/100:\n",
      "  Train - Reconstruction Loss: 0.0020, Clustering Loss: 0.0060\n",
      "  Test  - Reconstruction Loss: 0.0018, Clustering Loss: 0.0059\n",
      "Epoch 21/100:\n",
      "  Train - Reconstruction Loss: 0.0020, Clustering Loss: 0.0056\n",
      "  Test  - Reconstruction Loss: 0.0018, Clustering Loss: 0.0061\n",
      "Epoch 22/100:\n",
      "  Train - Reconstruction Loss: 0.0021, Clustering Loss: 0.0066\n",
      "  Test  - Reconstruction Loss: 0.0020, Clustering Loss: 0.0064\n",
      "Epoch 23/100:\n",
      "  Train - Reconstruction Loss: 0.0022, Clustering Loss: 0.0055\n",
      "  Test  - Reconstruction Loss: 0.0021, Clustering Loss: 0.0049\n",
      "Epoch 24/100:\n",
      "  Train - Reconstruction Loss: 0.0019, Clustering Loss: 0.0048\n",
      "  Test  - Reconstruction Loss: 0.0018, Clustering Loss: 0.0045\n",
      "Epoch 25/100:\n",
      "  Train - Reconstruction Loss: 0.0019, Clustering Loss: 0.0044\n",
      "  Test  - Reconstruction Loss: 0.0020, Clustering Loss: 0.0043\n",
      "Epoch 26/100:\n",
      "  Train - Reconstruction Loss: 0.0018, Clustering Loss: 0.0043\n",
      "  Test  - Reconstruction Loss: 0.0017, Clustering Loss: 0.0046\n"
     ]
    }
   ],
   "source": [
    "trained_model, losses = train_dcec(model, dataloader_train, dataloader_test, epochs=epochs, lr=lr, alpha=alpha, device=device)"
   ]
  },
  {
   "cell_type": "code",
   "execution_count": 34,
   "metadata": {},
   "outputs": [
    {
     "data": {
      "image/png": "[encoded data removed]",
      "text/plain": [
       "<Figure size 800x500 with 1 Axes>"
      ]
     },
     "metadata": {},
     "output_type": "display_data"
    }
   ],
   "source": [
    "plot_loss(losses['train_reconstruction_loss'], losses['test_reconstruction_loss'])"
   ]
  },
  {
   "cell_type": "code",
   "execution_count": 35,
   "metadata": {},
   "outputs": [
    {
     "data": {
      "image/png": "[encoded data removed]",
      "text/plain": [
       "<Figure size 800x500 with 1 Axes>"
      ]
     },
     "metadata": {},
     "output_type": "display_data"
    }
   ],
   "source": [
    "plot_loss(losses['train_clustering_loss'], losses['test_clustering_loss'])"
   ]
  },
  {
   "cell_type": "markdown",
   "metadata": {},
   "source": [
    "### Evaluation"
   ]
  },
  {
   "cell_type": "markdown",
   "metadata": {},
   "source": [
    "Use Encoder part and clustering layer to get the clustering assignments and features"
   ]
  },
  {
   "cell_type": "code",
   "execution_count": 36,
   "metadata": {},
   "outputs": [],
   "source": [
    "train_latent_features, train_cluster_assignments, train_coord_dl = evaluate_dcec(trained_model, dataloader_train, device)\n",
    "test_latent_features, test_cluster_assignments, test_coord_dl = evaluate_dcec(trained_model, dataloader_test, device)\n",
    "eval_latent_features, eval_cluster_assignments, eval_coord_dl = evaluate_dcec(trained_model, dataloader_eval, device)"
   ]
  },
  {
   "cell_type": "code",
   "execution_count": 37,
   "metadata": {},
   "outputs": [
    {
     "data": {
      "text/plain": [
       "'1224196.0_25_30'"
      ]
     },
     "execution_count": 37,
     "metadata": {},
     "output_type": "execute_result"
    }
   ],
   "source": [
    "train_coord_dl[0]"
   ]
  },
  {
   "cell_type": "code",
   "execution_count": 38,
   "metadata": {},
   "outputs": [],
   "source": [
    "train_features = train_latent_features.cpu()\n",
    "test_features = test_latent_features.cpu()\n",
    "eval_features = eval_latent_features.cpu()"
   ]
  },
  {
   "cell_type": "code",
   "execution_count": 39,
   "metadata": {},
   "outputs": [],
   "source": [
    "combined_train_features = torch.cat((train_features, test_features), dim=0)\n",
    "combined_train_assignments = torch.cat((train_cluster_assignments, test_cluster_assignments), dim=0)\n",
    "combined_train_coords = train_coord_dl + test_coord_dl"
   ]
  },
  {
   "cell_type": "markdown",
   "metadata": {},
   "source": [
    "Convert Subpatch labels to Field labels"
   ]
  },
  {
   "cell_type": "code",
   "execution_count": 40,
   "metadata": {},
   "outputs": [],
   "source": [
    "threshold = 0.5\n",
    "train_field_labels = assign_field_labels_ae(combined_train_coords, combined_train_assignments, threshold)\n",
    "eval_field_labels = assign_field_labels_ae(eval_coord_dl, eval_cluster_assignments, threshold)"
   ]
  },
  {
   "cell_type": "markdown",
   "metadata": {},
   "source": [
    "Accuracy and Classification Report"
   ]
  },
  {
   "cell_type": "code",
   "execution_count": 41,
   "metadata": {},
   "outputs": [
    {
     "name": "stdout",
     "output_type": "stream",
     "text": [
      "Evaluation Accuracy: 0.5409836065573771\n",
      "              precision    recall  f1-score   support\n",
      "\n",
      "           0       0.40      0.15      0.22        26\n",
      "           1       0.57      0.83      0.67        35\n",
      "\n",
      "    accuracy                           0.54        61\n",
      "   macro avg       0.48      0.49      0.45        61\n",
      "weighted avg       0.50      0.54      0.48        61\n",
      "\n",
      "[[ 4 22]\n",
      " [ 6 29]]\n"
     ]
    }
   ],
   "source": [
    "accuracy, report, cm, x_y_coords = evaluate_test_labels_ae(eval_field_labels, config.labels_path)\n",
    "print(f\"Evaluation Accuracy: {accuracy}\")\n",
    "print(report)\n",
    "print(cm)"
   ]
  },
  {
   "cell_type": "code",
   "execution_count": null,
   "metadata": {},
   "outputs": [],
   "source": []
  },
  {
   "cell_type": "markdown",
   "metadata": {},
   "source": [
    "## Experiment 3: Data Cubes = MVI (Multiple with Vegetation Indices)"
   ]
  },
  {
   "cell_type": "markdown",
   "metadata": {},
   "source": [
    "### Loading the pre-processed data\n",
    "\n",
    "Data: Extracted and Pre-processed Patches (each patch containing a sugarbeet field)\n",
    "\n",
    "Dimensions: (N, T, C, H, W) = (N, 7, 10, 64, 64)"
   ]
  },
  {
   "cell_type": "code",
   "execution_count": 5,
   "metadata": {},
   "outputs": [
    {
     "data": {
      "text/plain": [
       "(torch.Size([2425, 7, 3, 64, 64]), torch.Size([48, 7, 3, 64, 64]))"
      ]
     },
     "execution_count": 5,
     "metadata": {},
     "output_type": "execute_result"
    }
   ],
   "source": [
    "preprocessing_pipeline = PreProcessingPipelineTemporal()\n",
    "field_numbers_train, acquisition_dates_train, patch_tensor_train, images_visualisation_train = preprocessing_pipeline.get_processed_temporal_cubes('train', 'multipleindices')\n",
    "field_numbers_eval, acquisition_dates_eval, patch_tensor_eval, images_visualisation_eval = preprocessing_pipeline.get_processed_temporal_cubes('eval', 'multipleindices')\n",
    "patch_tensor_train.shape, patch_tensor_eval.shape"
   ]
  },
  {
   "cell_type": "markdown",
   "metadata": {},
   "source": [
    "### Create Sub-Patches"
   ]
  },
  {
   "cell_type": "code",
   "execution_count": 6,
   "metadata": {},
   "outputs": [
    {
     "data": {
      "text/plain": [
       "(torch.Size([39042, 7, 3, 5, 5]), torch.Size([867, 7, 3, 5, 5]))"
      ]
     },
     "execution_count": 6,
     "metadata": {},
     "output_type": "execute_result"
    }
   ],
   "source": [
    "train_subpatches, train_subpatch_coords = non_overlapping_sliding_window(patch_tensor_train, field_numbers_train, patch_size=config.subpatch_size)\n",
    "eval_subpatches, eval_subpatch_coords = non_overlapping_sliding_window(patch_tensor_eval, field_numbers_eval, patch_size=config.subpatch_size)\n",
    "train_subpatches.shape, eval_subpatches.shape"
   ]
  },
  {
   "cell_type": "markdown",
   "metadata": {},
   "source": [
    "Get field numbers and co-ordinates as string"
   ]
  },
  {
   "cell_type": "code",
   "execution_count": 7,
   "metadata": {},
   "outputs": [
    {
     "data": {
      "text/plain": [
       "'1167134.0_25_25'"
      ]
     },
     "execution_count": 7,
     "metadata": {},
     "output_type": "execute_result"
    }
   ],
   "source": [
    "train_coord_dataloader = get_string_fielddata(train_subpatch_coords)\n",
    "eval_coord_dataloader = get_string_fielddata(eval_subpatch_coords)\n",
    "train_coord_dataloader[0]"
   ]
  },
  {
   "cell_type": "markdown",
   "metadata": {},
   "source": [
    "### Split Unlabeled data into 'train' and 'test' and create  Data Loaders"
   ]
  },
  {
   "cell_type": "code",
   "execution_count": 8,
   "metadata": {},
   "outputs": [
    {
     "name": "stderr",
     "output_type": "stream",
     "text": [
      "/home/k64835/Master-Thesis-SITS/Modeling/model_scripts/dataset_creation.py:11: UserWarning: To copy construct from a tensor, it is recommended to use sourceTensor.clone().detach() or sourceTensor.clone().detach().requires_grad_(True), rather than torch.tensor(sourceTensor).\n",
      "  inputs = torch.tensor(inputs, dtype=torch.float32).permute(0, 2, 1, 3, 4)  # (N, T, C, H, W) -> (N, C, T, H, W)\n"
     ]
    }
   ],
   "source": [
    "train_subpatches_dl, test_subpatches, train_field_numbers, test_field_numbers = train_test_split(\n",
    "    train_subpatches, train_coord_dataloader, test_size=1-config.ae_train_test_ratio, random_state=42\n",
    ")\n",
    "\n",
    "dataloader_train = create_data_loader(train_subpatches_dl, train_field_numbers, batch_size=config.ae_batch_size, shuffle=True)\n",
    "dataloader_test = create_data_loader(test_subpatches, test_field_numbers, batch_size=config.ae_batch_size, shuffle=False)\n",
    "dataloader_eval = create_data_loader(eval_subpatches, eval_coord_dataloader, batch_size=config.ae_batch_size, shuffle=False)"
   ]
  },
  {
   "cell_type": "markdown",
   "metadata": {},
   "source": [
    "### Training the Auto-encoder"
   ]
  },
  {
   "cell_type": "markdown",
   "metadata": {},
   "source": [
    "Input Data: ( N x C x D x H x W )"
   ]
  },
  {
   "cell_type": "code",
   "execution_count": 22,
   "metadata": {},
   "outputs": [
    {
     "data": {
      "text/plain": [
       "Conv3DAutoencoder(\n",
       "  (conv1): Conv3d(3, 64, kernel_size=(3, 3, 3), stride=(1, 1, 1), padding=(1, 1, 1))\n",
       "  (conv2): Conv3d(64, 128, kernel_size=(3, 3, 3), stride=(1, 1, 1), padding=(1, 1, 1))\n",
       "  (conv3): Conv3d(128, 256, kernel_size=(3, 3, 3), stride=(1, 1, 1), padding=(1, 1, 1))\n",
       "  (conv1d): Conv1d(6400, 6400, kernel_size=(7,), stride=(1,), groups=800)\n",
       "  (flatten): Flatten(start_dim=1, end_dim=-1)\n",
       "  (fc1): Linear(in_features=6400, out_features=512, bias=True)\n",
       "  (fc2): Linear(in_features=512, out_features=32, bias=True)\n",
       "  (fc3): Linear(in_features=32, out_features=512, bias=True)\n",
       "  (fc4): Linear(in_features=512, out_features=6400, bias=True)\n",
       "  (deconv1d): ConvTranspose1d(6400, 6400, kernel_size=(7,), stride=(1,), groups=6400)\n",
       "  (unflatten): Unflatten(dim=1, unflattened_size=(256, 5, 5))\n",
       "  (deconv1): ConvTranspose3d(256, 128, kernel_size=(3, 3, 3), stride=(1, 1, 1), padding=(1, 1, 1))\n",
       "  (deconv2): ConvTranspose3d(128, 64, kernel_size=(3, 3, 3), stride=(1, 1, 1), padding=(1, 1, 1))\n",
       "  (deconv3): ConvTranspose3d(64, 3, kernel_size=(3, 3, 3), stride=(1, 1, 1), padding=(1, 1, 1))\n",
       ")"
      ]
     },
     "execution_count": 22,
     "metadata": {},
     "output_type": "execute_result"
    }
   ],
   "source": [
    "device = 'cuda'\n",
    "epochs = 25\n",
    "lr = 0.001\n",
    "latent_dim=32\n",
    "channels = 3\n",
    "time_steps = 7\n",
    "patch_size = config.subpatch_size\n",
    "\n",
    "model = Conv3DAutoencoder(channels, time_steps, latent_dim, config.subpatch_size)\n",
    "device = torch.device(device)  \n",
    "model.to(device)"
   ]
  },
  {
   "cell_type": "code",
   "execution_count": 23,
   "metadata": {},
   "outputs": [
    {
     "name": "stdout",
     "output_type": "stream",
     "text": [
      "Epoch 1/25, Train Loss: 0.0232, Test Loss: 0.0104\n",
      "Epoch 2/25, Train Loss: 0.0056, Test Loss: 0.0041\n",
      "Epoch 3/25, Train Loss: 0.0033, Test Loss: 0.0032\n",
      "Epoch 4/25, Train Loss: 0.0029, Test Loss: 0.0032\n",
      "Epoch 5/25, Train Loss: 0.0026, Test Loss: 0.0030\n",
      "Epoch 6/25, Train Loss: 0.0021, Test Loss: 0.0032\n",
      "Epoch 7/25, Train Loss: 0.0018, Test Loss: 0.0049\n",
      "Epoch 8/25, Train Loss: 0.0017, Test Loss: 0.0021\n",
      "Epoch 9/25, Train Loss: 0.0015, Test Loss: 0.0017\n",
      "Epoch 10/25, Train Loss: 0.0014, Test Loss: 0.0026\n",
      "Epoch 11/25, Train Loss: 0.0013, Test Loss: 0.0037\n",
      "Epoch 12/25, Train Loss: 0.0013, Test Loss: 0.0019\n",
      "Epoch 13/25, Train Loss: 0.0012, Test Loss: 0.0012\n",
      "Epoch 14/25, Train Loss: 0.0012, Test Loss: 0.0046\n",
      "Epoch 15/25, Train Loss: 0.0012, Test Loss: 0.0013\n",
      "Epoch 16/25, Train Loss: 0.0011, Test Loss: 0.0016\n",
      "Epoch 17/25, Train Loss: 0.0011, Test Loss: 0.0012\n",
      "Epoch 18/25, Train Loss: 0.0010, Test Loss: 0.0014\n",
      "Epoch 19/25, Train Loss: 0.0010, Test Loss: 0.0012\n",
      "Epoch 20/25, Train Loss: 0.0010, Test Loss: 0.0015\n",
      "Epoch 21/25, Train Loss: 0.0010, Test Loss: 0.0015\n",
      "Epoch 22/25, Train Loss: 0.0009, Test Loss: 0.0012\n",
      "Epoch 23/25, Train Loss: 0.0009, Test Loss: 0.0019\n",
      "Epoch 24/25, Train Loss: 0.0009, Test Loss: 0.0009\n",
      "Epoch 25/25, Train Loss: 0.0009, Test Loss: 0.0009\n"
     ]
    }
   ],
   "source": [
    "trained_model, train_losses, test_losses  = train_model_ae(model, dataloader_train, dataloader_test, epochs=epochs, lr=lr, device=device)"
   ]
  },
  {
   "cell_type": "code",
   "execution_count": 24,
   "metadata": {},
   "outputs": [],
   "source": [
    "# plot_loss(train_losses,test_losses)"
   ]
  },
  {
   "cell_type": "code",
   "execution_count": 25,
   "metadata": {},
   "outputs": [
    {
     "data": {
      "image/png": "[encoded data removed]",
      "text/plain": [
       "<Figure size 800x500 with 1 Axes>"
      ]
     },
     "metadata": {},
     "output_type": "display_data"
    }
   ],
   "source": [
    "plot_loss_log_scale(train_losses, test_losses)"
   ]
  },
  {
   "cell_type": "markdown",
   "metadata": {},
   "source": [
    "### Evaluation"
   ]
  },
  {
   "cell_type": "markdown",
   "metadata": {},
   "source": [
    "Use trained Encoder part to get the features for train, test and evaluation Data"
   ]
  },
  {
   "cell_type": "code",
   "execution_count": 26,
   "metadata": {},
   "outputs": [],
   "source": [
    "train_features, train_coord_dl = extract_features_ae(trained_model, dataloader_train, device)\n",
    "test_features, test_coord_dl = extract_features_ae(trained_model, dataloader_test, device)\n",
    "eval_features, eval_coord_dl = extract_features_ae(trained_model, dataloader_eval, device)"
   ]
  },
  {
   "cell_type": "code",
   "execution_count": 27,
   "metadata": {},
   "outputs": [],
   "source": [
    "train_features = train_features.cpu()\n",
    "test_features = test_features.cpu()\n",
    "eval_features = eval_features.cpu()"
   ]
  },
  {
   "cell_type": "code",
   "execution_count": 28,
   "metadata": {},
   "outputs": [],
   "source": [
    "combined_train_features = torch.cat((train_features, test_features), dim=0)\n",
    "combined_train_coords = train_coord_dl + test_coord_dl"
   ]
  },
  {
   "cell_type": "markdown",
   "metadata": {},
   "source": [
    "K-means on extracted features"
   ]
  },
  {
   "cell_type": "code",
   "execution_count": 32,
   "metadata": {},
   "outputs": [
    {
     "name": "stderr",
     "output_type": "stream",
     "text": [
      "/home/k64835/.local/lib/python3.8/site-packages/sklearn/cluster/_kmeans.py:1416: FutureWarning: The default value of `n_init` will change from 10 to 'auto' in 1.4. Set the value of `n_init` explicitly to suppress the warning\n",
      "  super()._check_params_vs_input(X, default_n_init=10)\n"
     ]
    }
   ],
   "source": [
    "kmeans_mvi = train_kmeans_patches(combined_train_features, n_clusters=2, random_state=8)\n",
    "\n",
    "train_subpatch_predictions = kmeans_mvi.predict(combined_train_features.reshape(combined_train_features.size(0), -1).numpy().astype(np.float32))\n",
    "eval_subpatch_predictions = kmeans_mvi.predict(eval_features.reshape(eval_features.size(0), -1).numpy().astype(np.float32))"
   ]
  },
  {
   "cell_type": "markdown",
   "metadata": {},
   "source": [
    "Convert Subpatch labels to Field labels"
   ]
  },
  {
   "cell_type": "code",
   "execution_count": 33,
   "metadata": {},
   "outputs": [],
   "source": [
    "threshold = config.patch_to_field_threshold\n",
    "train_field_labels = assign_field_labels_ae(combined_train_coords, train_subpatch_predictions, threshold)\n",
    "eval_field_labels = assign_field_labels_ae(eval_coord_dl, eval_subpatch_predictions, threshold)"
   ]
  },
  {
   "cell_type": "markdown",
   "metadata": {},
   "source": [
    "Accuracy and Classification Report"
   ]
  },
  {
   "cell_type": "code",
   "execution_count": 38,
   "metadata": {},
   "outputs": [
    {
     "name": "stdout",
     "output_type": "stream",
     "text": [
      "Evaluation Accuracy: 0.6229508196721312\n",
      "              precision    recall  f1-score   support\n",
      "\n",
      "           0       0.64      0.80      0.71        35\n",
      "           1       0.59      0.38      0.47        26\n",
      "\n",
      "    accuracy                           0.62        61\n",
      "   macro avg       0.61      0.59      0.59        61\n",
      "weighted avg       0.62      0.62      0.60        61\n",
      "\n"
     ]
    }
   ],
   "source": [
    "accuracy, report, x_y_coords = evaluate_test_labels_ae(eval_field_labels, config.labels_path)\n",
    "print(f\"Evaluation Accuracy: {accuracy}\")\n",
    "print(report)"
   ]
  },
  {
   "cell_type": "markdown",
   "metadata": {},
   "source": []
  }
 ],
 "metadata": {
  "kernelspec": {
   "display_name": "Python 3",
   "language": "python",
   "name": "python3"
  },
  "language_info": {
   "codemirror_mode": {
    "name": "ipython",
    "version": 3
   },
   "file_extension": ".py",
   "mimetype": "text/x-python",
   "name": "python",
   "nbconvert_exporter": "python",
   "pygments_lexer": "ipython3",
   "version": "3.8.10"
  }
 },
 "nbformat": 4,
 "nbformat_minor": 2
}
