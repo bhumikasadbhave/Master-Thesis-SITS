{
 "cells": [
  {
   "cell_type": "markdown",
   "metadata": {},
   "source": [
    "## Imports"
   ]
  },
  {
   "cell_type": "code",
   "execution_count": 1,
   "metadata": {},
   "outputs": [],
   "source": [
    "%load_ext autoreload\n",
    "%autoreload 2"
   ]
  },
  {
   "cell_type": "code",
   "execution_count": 2,
   "metadata": {},
   "outputs": [],
   "source": [
    "import os, sys\n",
    "from pathlib import Path\n",
    "\n",
    "os.environ['PYTORCH_ENABLE_MPS_FALLBACK'] = '1'\n",
    "sys.path.append('/home/k64835/Master-Thesis-SITS')\n",
    "\n",
    "scripts_path = Path(\"../Data-Preprocessing/\").resolve()\n",
    "sys.path.append(str(scripts_path))\n",
    "\n",
    "scripts_path = Path(\"../Evaluation/\").resolve()\n",
    "sys.path.append(str(scripts_path))"
   ]
  },
  {
   "cell_type": "code",
   "execution_count": 27,
   "metadata": {},
   "outputs": [],
   "source": [
    "import pickle\n",
    "from sklearn.cluster import KMeans\n",
    "from sklearn.neighbors import NearestCentroid\n",
    "from scripts.data_visualiser import *\n",
    "import torch.nn.functional as F\n",
    "from sklearn.model_selection import train_test_split\n",
    "from model_scripts.subpatch_extraction import *\n",
    "from scripts.data_loader import *\n",
    "from scripts.data_preprocessor import *\n",
    "from scripts.temporal_data_preprocessor import *\n",
    "from scripts.temporal_data_loader import *\n",
    "from scripts.temporal_visualiser import *\n",
    "from scripts.temporal_chanel_refinement import *\n",
    "from model_scripts.model_helper import *\n",
    "from model_scripts.dataset_creation import *\n",
    "from model_scripts.train_model_ae import *\n",
    "from model_scripts.model_visualiser import *\n",
    "from model_scripts.clustering import *\n",
    "from model_scripts.train_model_dcec import *\n",
    "from evaluation_scripts.evaluation_helper import *\n",
    "from evaluation_scripts.result_visualiser import *\n",
    "from Pipeline.temporal_preprocessing_pipeline import *\n",
    "from evaluation_scripts.result_visualiser import *\n",
    "from Pipeline.temporal_preprocessing_pipeline import *\n",
    "import numpy as np\n",
    "import config as config\n",
    "from sklearn.cluster import KMeans\n",
    "from sklearn.metrics import adjusted_rand_score\n",
    "from sklearn.cluster import DBSCAN\n",
    "from sklearn.decomposition import PCA\n",
    "import skimage.measure\n",
    "import torch\n",
    "import torch.nn as nn\n",
    "import torch.optim as optim"
   ]
  },
  {
   "cell_type": "markdown",
   "metadata": {},
   "source": [
    "## DCEC"
   ]
  },
  {
   "cell_type": "code",
   "execution_count": 5,
   "metadata": {},
   "outputs": [],
   "source": [
    "# # No aggregations, simple convolutions\n",
    "\n",
    "# class Conv3DAutoencoder(nn.Module):\n",
    "#     def __init__(self, in_channels, time_steps, latent_size, patch_size):\n",
    "#         super(Conv3DAutoencoder, self).__init__()\n",
    "\n",
    "#         self.in_channels = in_channels\n",
    "#         self.time_steps = time_steps\n",
    "#         self.patch_size = patch_size\n",
    "\n",
    "#         # Encoder\n",
    "#         self.conv1 = nn.Conv3d(in_channels, 64, kernel_size=3, stride=1, padding=1)\n",
    "#         self.conv2 = nn.Conv3d(64, 128, kernel_size=3, stride=1, padding=1)\n",
    "#         self.conv3 = nn.Conv3d(128, 256, kernel_size=3, stride=1, padding=1)\n",
    "\n",
    "#         # Latent Space\n",
    "#         self.flatten = nn.Flatten()\n",
    "#         self.fc1 = nn.Linear(256 * time_steps * patch_size * patch_size, latent_size)\n",
    "\n",
    "#         # Decoder\n",
    "#         self.fc2 = nn.Linear(latent_size, 256 * time_steps * patch_size * patch_size)\n",
    "#         self.unflatten = nn.Unflatten(1, (256, time_steps, patch_size, patch_size))\n",
    "\n",
    "#         self.deconv1 = nn.ConvTranspose3d(256, 128, kernel_size=3, stride=1, padding=1)\n",
    "#         self.deconv2 = nn.ConvTranspose3d(128, 64, kernel_size=3, stride=1, padding=1)\n",
    "#         self.deconv3 = nn.ConvTranspose3d(64, in_channels, kernel_size=3, stride=1, padding=1)\n",
    "\n",
    "#     def forward(self, x):\n",
    "#         # Encoder\n",
    "#         x = F.relu(self.conv1(x))  \n",
    "#         x = F.relu(self.conv2(x))  \n",
    "#         x = F.relu(self.conv3(x))  \n",
    "\n",
    "#         x = self.flatten(x)\n",
    "#         z = F.relu(self.fc1(x))  \n",
    "\n",
    "#         # Decoder\n",
    "#         x = F.relu(self.fc2(z))  \n",
    "#         x = self.unflatten(x)  \n",
    "\n",
    "#         x = F.relu(self.deconv1(x))  \n",
    "#         x = F.relu(self.deconv2(x))  \n",
    "#         x_reconstructed = self.deconv3(x)  \n",
    "\n",
    "#         return z, x_reconstructed\n",
    "\n",
    "\n",
    "# class ClusteringLayer(nn.Module):\n",
    "#     def __init__(self, n_clusters, latent_size):\n",
    "#         super(ClusteringLayer, self).__init__()\n",
    "#         self.n_clusters = n_clusters\n",
    "#         self.cluster_centers = nn.Parameter(torch.randn(n_clusters, latent_size, requires_grad=True))\n",
    "\n",
    "\n",
    "#     def forward(self, z):\n",
    "#         q = 1.0 / (1.0 + torch.sum((z.unsqueeze(1) - self.cluster_centers) ** 2, dim=2))\n",
    "#         q = q / q.sum(dim=1, keepdim=True)\n",
    "#         return q\n",
    "\n",
    "# class DCEC(nn.Module):\n",
    "#     def __init__(self, in_channels, time_steps, latent_size, patch_size, n_clusters):\n",
    "#         super(DCEC, self).__init__()\n",
    "#         self.autoencoder = Conv3DAutoencoder(in_channels, time_steps, latent_size, patch_size)\n",
    "#         self.clustering_layer = ClusteringLayer(n_clusters, latent_size)\n",
    "\n",
    "#     def forward(self, x):\n",
    "#         z, x_reconstructed = self.autoencoder(x)\n",
    "#         q = self.clustering_layer(z)\n",
    "#         return q, x_reconstructed\n",
    "\n",
    "\n",
    "#     def init_clusters(self, dataloader, random_state=42, device='mps'):\n",
    "#         self.to(device)\n",
    "#         z_values = []\n",
    "        \n",
    "#         with torch.no_grad():\n",
    "#             for x_batch, _ in dataloader:\n",
    "#                 x_batch = x_batch.to(device)\n",
    "#                 z, _ = self.autoencoder(x_batch)\n",
    "#                 z_values.append(z.cpu().numpy())\n",
    "        \n",
    "#         z_values = np.concatenate(z_values, axis=0)\n",
    "#         kmeans = KMeans(n_clusters=self.clustering_layer.n_clusters, n_init=20, random_state=random_state)\n",
    "#         cluster_centers = kmeans.fit(z_values).cluster_centers_\n",
    "        \n",
    "#         self.clustering_layer.cluster_centers.data = torch.tensor(cluster_centers, dtype=torch.float32, device=device)"
   ]
  },
  {
   "cell_type": "code",
   "execution_count": 22,
   "metadata": {},
   "outputs": [],
   "source": [
    "# Time aggregation, channel expansion\n",
    "class Conv3DAutoencoder(nn.Module):\n",
    "    def __init__(self, in_channels, time_steps, latent_size, patch_size):\n",
    "        super(Conv3DAutoencoder, self).__init__()\n",
    "\n",
    "        self.time_steps = time_steps\n",
    "        self.in_channels = in_channels\n",
    "\n",
    "        # Encoder\n",
    "        self.conv1 = nn.Conv3d(in_channels, 64, kernel_size=3, stride=1, padding=1)\n",
    "        self.conv2 = nn.Conv3d(64, 256, kernel_size=3, stride=1, padding=1)\n",
    "        self.conv3 = nn.Conv3d(256, 512, kernel_size=3, stride=1, padding=1)\n",
    "\n",
    "        # 1D Convolution for Time Aggregation\n",
    "        self.conv1d = nn.Conv1d(512 * patch_size * patch_size, 512 * patch_size * patch_size, kernel_size=time_steps, stride=1, padding=0, groups=512)\n",
    "\n",
    "        # Fully Connected Layers for Latent Space\n",
    "        self.flatten = nn.Flatten()\n",
    "        self.fc1 = nn.Linear(512 * patch_size * patch_size, latent_size)\n",
    "\n",
    "        # Decoder\n",
    "        self.fc2 = nn.Linear(latent_size, 512 * patch_size * patch_size)\n",
    "\n",
    "        # 1D Deconvolution to Restore Time Dimension\n",
    "        self.deconv1d = nn.ConvTranspose1d(512 * patch_size * patch_size, 512 * patch_size * patch_size, kernel_size=time_steps, stride=1, padding=0, groups=512)\n",
    "\n",
    "        # 3D Deconvolutions\n",
    "        self.unflatten = nn.Unflatten(1, (512, patch_size, patch_size))\n",
    "        self.deconv1 = nn.ConvTranspose3d(512, 256, kernel_size=3, stride=1, padding=1)\n",
    "        self.deconv2 = nn.ConvTranspose3d(256, 64, kernel_size=3, stride=1, padding=1)\n",
    "        self.deconv3 = nn.ConvTranspose3d(64, in_channels, kernel_size=3, stride=1, padding=1)\n",
    "\n",
    "    def forward(self, x):\n",
    "        # Encoder\n",
    "        x = F.relu(self.conv1(x))\n",
    "        x = F.relu(self.conv2(x))\n",
    "        x = F.relu(self.conv3(x))\n",
    "\n",
    "        # Reshape for 1D Convolution\n",
    "        b, c, t, h, w = x.shape\n",
    "        x = x.view(b, c * h * w, t)\n",
    "        x = self.conv1d(x)\n",
    "\n",
    "        # Fully Connected Latent Space\n",
    "        x = self.flatten(x)\n",
    "        z = F.relu(self.fc1(x))\n",
    "\n",
    "        # Decoder\n",
    "        x = F.relu(self.fc2(z))\n",
    "\n",
    "        # Restore Time Dimension\n",
    "        x = x.view(b, 512 * h * w, 1)\n",
    "        x = self.deconv1d(x)\n",
    "\n",
    "        # Reshape for 3D Deconvolutions\n",
    "        x = x.view(b, 512, self.time_steps, h, w)\n",
    "\n",
    "        # 3D Deconvolutions\n",
    "        x = F.relu(self.deconv1(x))\n",
    "        x = F.relu(self.deconv2(x))\n",
    "        x_reconstructed = self.deconv3(x)\n",
    "\n",
    "        return z, x_reconstructed\n",
    "\n",
    "class ClusteringLayer(nn.Module):\n",
    "    def __init__(self, n_clusters, latent_size):\n",
    "        super(ClusteringLayer, self).__init__()\n",
    "        self.n_clusters = n_clusters\n",
    "        self.cluster_centers = nn.Parameter(torch.randn(n_clusters, latent_size))\n",
    "\n",
    "    def forward(self, z):\n",
    "        q = 1.0 / (1.0 + torch.sum((z.unsqueeze(1) - self.cluster_centers) ** 2, dim=2))\n",
    "        q = q / q.sum(dim=1, keepdim=True)\n",
    "        return q\n",
    "\n",
    "class DCEC(nn.Module):\n",
    "    def __init__(self, in_channels, time_steps, latent_size, patch_size, n_clusters):\n",
    "        super(DCEC, self).__init__()\n",
    "        self.autoencoder = Conv3DAutoencoder(in_channels, time_steps, latent_size, patch_size)\n",
    "        self.clustering_layer = ClusteringLayer(n_clusters, latent_size)\n",
    "\n",
    "    def forward(self, x):\n",
    "        z, x_reconstructed = self.autoencoder(x)\n",
    "        q = self.clustering_layer(z)\n",
    "        return q, x_reconstructed\n",
    "\n",
    "\n",
    "    def init_clusters(self, dataloader, random_state=42, device='mps'):\n",
    "        self.to(device)\n",
    "        z_values = []\n",
    "        \n",
    "        with torch.no_grad():\n",
    "            for x_batch, _ in dataloader:\n",
    "                x_batch = x_batch.to(device)\n",
    "                z, _ = self.autoencoder(x_batch)\n",
    "                z_values.append(z.cpu().numpy())\n",
    "        \n",
    "        z_values = np.concatenate(z_values, axis=0)\n",
    "        kmeans = KMeans(n_clusters=self.clustering_layer.n_clusters, n_init=20, random_state=random_state)\n",
    "        cluster_centers = kmeans.fit(z_values).cluster_centers_\n",
    "        \n",
    "        self.clustering_layer.cluster_centers.data = torch.tensor(cluster_centers, dtype=torch.float32, device=device)"
   ]
  },
  {
   "cell_type": "code",
   "execution_count": 7,
   "metadata": {},
   "outputs": [],
   "source": [
    "# Channel aggregation, time expansion\n",
    "# class Conv3DAutoencoder(nn.Module):\n",
    "#     def __init__(self, in_channels, time_steps, latent_size, patch_size):\n",
    "#         super(Conv3DAutoencoder, self).__init__()\n",
    "\n",
    "#         self.time_steps = time_steps\n",
    "#         self.in_channels = in_channels\n",
    "\n",
    "#         # Encoder - Expand time instead of channels\n",
    "#         self.conv1 = nn.Conv3d(time_steps, 64, kernel_size=3, stride=1, padding=1)  # Time is treated as channels\n",
    "#         self.conv2 = nn.Conv3d(64, 128, kernel_size=3, stride=1, padding=1)\n",
    "#         self.conv3 = nn.Conv3d(128, 256, kernel_size=3, stride=1, padding=1)\n",
    "\n",
    "#         # Fully Connected Latent Space\n",
    "#         self.flatten = nn.Flatten()\n",
    "#         self.fc1 = nn.Linear(256 * patch_size * patch_size * in_channels, 512)\n",
    "#         self.fc2 = nn.Linear(512, latent_size)\n",
    "\n",
    "#         # Decoder - Expand spatial/spectral before time\n",
    "#         self.fc3 = nn.Linear(latent_size, 512)\n",
    "#         self.fc4 = nn.Linear(512, 256 * patch_size * patch_size * in_channels)\n",
    "\n",
    "#         # Unflatten for deconvolution\n",
    "#         self.unflatten = nn.Unflatten(1, (256, in_channels, patch_size, patch_size))\n",
    "\n",
    "#         # 3D Deconvolutions\n",
    "#         self.deconv1 = nn.ConvTranspose3d(256, 128, kernel_size=3, stride=1, padding=1)\n",
    "#         self.deconv2 = nn.ConvTranspose3d(128, 64, kernel_size=3, stride=1, padding=1)\n",
    "#         self.deconv3 = nn.ConvTranspose3d(64, time_steps, kernel_size=3, stride=1, padding=1)  # Expand back to time\n",
    "\n",
    "#     def forward(self, x):\n",
    "#         # Reshape: (B, C, T, H, W) → (B, T, C, H, W)\n",
    "#         x = x.permute(0, 2, 1, 3, 4)\n",
    "\n",
    "#         # Encoder - Expand time instead of channels\n",
    "#         x = F.relu(self.conv1(x))\n",
    "#         x = F.relu(self.conv2(x))\n",
    "#         x = F.relu(self.conv3(x))\n",
    "\n",
    "#         # print(x.shape)\n",
    "\n",
    "#         # Flatten for fully connected layers\n",
    "#         b, c, t, h, w = x.shape\n",
    "#         x = self.flatten(x)  \n",
    "#         x = F.relu(self.fc1(x))\n",
    "#         z = self.fc2(x)\n",
    "\n",
    "#         # print(x.shape)\n",
    "\n",
    "#         # Decoder - Restore spatial/spectral before time\n",
    "#         x = F.relu(self.fc3(z))\n",
    "#         x = F.relu(self.fc4(x))\n",
    "\n",
    "#         # print(x.shape)\n",
    "\n",
    "#         # Reshape for deconvolutions\n",
    "#         x = self.unflatten(x)  \n",
    "#         x = F.relu(self.deconv1(x))\n",
    "#         x = F.relu(self.deconv2(x))\n",
    "\n",
    "#         # print(x.shape)\n",
    "\n",
    "#         x_reconstructed = self.deconv3(x)  # Expand back to time\n",
    "\n",
    "#         # Reshape back to (B, C, T, H, W)\n",
    "#         x_reconstructed = x_reconstructed.permute(0, 2, 1, 3, 4)\n",
    "\n",
    "#         return z, x_reconstructed\n",
    "\n",
    "\n",
    "\n",
    "# class ClusteringLayer(nn.Module):\n",
    "#     def __init__(self, n_clusters, latent_size):\n",
    "#         super(ClusteringLayer, self).__init__()\n",
    "#         self.n_clusters = n_clusters\n",
    "#         self.cluster_centers = nn.Parameter(torch.randn(n_clusters, latent_size))\n",
    "\n",
    "#     def forward(self, z):\n",
    "#         q = 1.0 / (1.0 + torch.sum((z.unsqueeze(1) - self.cluster_centers) ** 2, dim=2))\n",
    "#         q = q / q.sum(dim=1, keepdim=True)\n",
    "#         return q\n",
    "\n",
    "# class DCEC(nn.Module):\n",
    "#     def __init__(self, in_channels, time_steps, latent_size, patch_size, n_clusters):\n",
    "#         super(DCEC, self).__init__()\n",
    "#         self.autoencoder = Conv3DAutoencoder(in_channels, time_steps, latent_size, patch_size)\n",
    "#         self.clustering_layer = ClusteringLayer(n_clusters, latent_size)\n",
    "\n",
    "#     def forward(self, x):\n",
    "#         z, x_reconstructed = self.autoencoder(x)\n",
    "#         q = self.clustering_layer(z)\n",
    "#         return q, x_reconstructed\n",
    "\n",
    "#     def init_clusters(self, dataloader, random_state=42, device='mps'):\n",
    "#         self.to(device)\n",
    "#         z_values = []\n",
    "        \n",
    "#         with torch.no_grad():\n",
    "#             for x_batch, _ in dataloader:\n",
    "#                 x_batch = x_batch.to(device)\n",
    "#                 z, _ = self.autoencoder(x_batch)\n",
    "#                 z_values.append(z.cpu().numpy())\n",
    "        \n",
    "#         z_values = np.concatenate(z_values, axis=0)\n",
    "#         kmeans = KMeans(n_clusters=self.clustering_layer.n_clusters, n_init=20, random_state=random_state)\n",
    "#         cluster_centers = kmeans.fit(z_values).cluster_centers_\n",
    "        \n",
    "#         self.clustering_layer.cluster_centers.data = torch.tensor(cluster_centers, dtype=torch.float32, device=device)\n"
   ]
  },
  {
   "cell_type": "markdown",
   "metadata": {},
   "source": [
    "## Experiment 2: B10 + DCEC"
   ]
  },
  {
   "cell_type": "markdown",
   "metadata": {},
   "source": [
    "### Loading the pre-processed data\n",
    "\n",
    "Data: Extracted and Pre-processed Patches (each patch containing a sugarbeet field)\n",
    "\n",
    "Dimensions: (N, T, C, H, W) = (N, 7, 10, 64, 64)"
   ]
  },
  {
   "cell_type": "code",
   "execution_count": 10,
   "metadata": {},
   "outputs": [
    {
     "data": {
      "text/plain": [
       "(torch.Size([2425, 7, 10, 64, 64]), torch.Size([48, 7, 10, 64, 64]))"
      ]
     },
     "execution_count": 10,
     "metadata": {},
     "output_type": "execute_result"
    }
   ],
   "source": [
    "preprocessing_pipeline = PreProcessingPipelineTemporal()\n",
    "field_numbers_train, acquisition_dates_train, patch_tensor_train, images_visualisation_train = preprocessing_pipeline.get_processed_temporal_cubes('train', 'allbands')\n",
    "field_numbers_eval, acquisition_dates_eval, patch_tensor_eval, images_visualisation_eval = preprocessing_pipeline.get_processed_temporal_cubes('eval', 'allbands')\n",
    "patch_tensor_train.shape, patch_tensor_eval.shape"
   ]
  },
  {
   "cell_type": "markdown",
   "metadata": {},
   "source": [
    "### Create Sub-Patches"
   ]
  },
  {
   "cell_type": "code",
   "execution_count": 11,
   "metadata": {},
   "outputs": [
    {
     "data": {
      "text/plain": [
       "(torch.Size([39042, 7, 10, 5, 5]), torch.Size([867, 7, 10, 5, 5]))"
      ]
     },
     "execution_count": 11,
     "metadata": {},
     "output_type": "execute_result"
    }
   ],
   "source": [
    "train_subpatches, train_subpatch_coords = non_overlapping_sliding_window(patch_tensor_train, field_numbers_train, patch_size=config.subpatch_size)\n",
    "eval_subpatches, eval_subpatch_coords = non_overlapping_sliding_window(patch_tensor_eval, field_numbers_eval, patch_size=config.subpatch_size)\n",
    "train_subpatches.shape, eval_subpatches.shape"
   ]
  },
  {
   "cell_type": "markdown",
   "metadata": {},
   "source": [
    "Get field numbers and co-ordinates as string"
   ]
  },
  {
   "cell_type": "code",
   "execution_count": 16,
   "metadata": {},
   "outputs": [
    {
     "data": {
      "text/plain": [
       "'1167134.0_25_25'"
      ]
     },
     "execution_count": 16,
     "metadata": {},
     "output_type": "execute_result"
    }
   ],
   "source": [
    "train_coord_dataloader = get_string_fielddata(train_subpatch_coords)\n",
    "eval_coord_dataloader = get_string_fielddata(eval_subpatch_coords)\n",
    "train_coord_dataloader[0]"
   ]
  },
  {
   "cell_type": "markdown",
   "metadata": {},
   "source": [
    "### Split Unlabeled data into 'train' and 'test' and create  Data Loaders"
   ]
  },
  {
   "cell_type": "code",
   "execution_count": 17,
   "metadata": {},
   "outputs": [],
   "source": [
    "train_subpatches_dl, test_subpatches, train_field_numbers, test_field_numbers = train_test_split(\n",
    "    train_subpatches, train_coord_dataloader, test_size=1-0.75, random_state=40\n",
    ")\n",
    "\n",
    "dataloader_train = create_data_loader(train_subpatches_dl, train_field_numbers, batch_size=config.ae_batch_size, shuffle=True)\n",
    "dataloader_test = create_data_loader(test_subpatches, test_field_numbers, batch_size=config.ae_batch_size, shuffle=False)\n",
    "dataloader_eval = create_data_loader(eval_subpatches, eval_coord_dataloader, batch_size=config.ae_batch_size, shuffle=False)"
   ]
  },
  {
   "cell_type": "markdown",
   "metadata": {},
   "source": [
    "### Training the Auto-encoder"
   ]
  },
  {
   "cell_type": "markdown",
   "metadata": {},
   "source": [
    "Input Data: ( N x C x D x H x W )"
   ]
  },
  {
   "cell_type": "markdown",
   "metadata": {},
   "source": [
    "Params"
   ]
  },
  {
   "cell_type": "code",
   "execution_count": 28,
   "metadata": {},
   "outputs": [],
   "source": [
    "device = 'cuda'\n",
    "epochs = 50\n",
    "lr = 0.001\n",
    "momentum = 0.8\n",
    "latent_dim=16\n",
    "channels = 10\n",
    "time_steps = 7\n",
    "alpha = 0.1\n",
    "patch_size = config.subpatch_size"
   ]
  },
  {
   "cell_type": "markdown",
   "metadata": {},
   "source": [
    "Step 1: Pre-training the Autoencoder just the Autoencoder Part"
   ]
  },
  {
   "cell_type": "code",
   "execution_count": 30,
   "metadata": {},
   "outputs": [
    {
     "name": "stdout",
     "output_type": "stream",
     "text": [
      "Epoch 1/10 - Autoencoder Train Loss: 0.0036 | Test Loss: 0.0026\n",
      "Epoch 2/10 - Autoencoder Train Loss: 0.0026 | Test Loss: 0.0026\n",
      "Epoch 3/10 - Autoencoder Train Loss: 0.0026 | Test Loss: 0.0028\n",
      "Epoch 4/10 - Autoencoder Train Loss: 0.0026 | Test Loss: 0.0026\n",
      "Epoch 5/10 - Autoencoder Train Loss: 0.0026 | Test Loss: 0.0026\n",
      "Epoch 6/10 - Autoencoder Train Loss: 0.0026 | Test Loss: 0.0026\n",
      "Epoch 7/10 - Autoencoder Train Loss: 0.0026 | Test Loss: 0.0027\n",
      "Epoch 8/10 - Autoencoder Train Loss: 0.0026 | Test Loss: 0.0025\n",
      "Epoch 9/10 - Autoencoder Train Loss: 0.0026 | Test Loss: 0.0026\n",
      "Epoch 10/10 - Autoencoder Train Loss: 0.0026 | Test Loss: 0.0026\n",
      "Autoencoder Pretraining Complete!\n"
     ]
    }
   ],
   "source": [
    "model = DCEC(in_channels=channels, time_steps=time_steps, latent_size=latent_dim, patch_size=patch_size, n_clusters=2)\n",
    "\n",
    "pretrained_model = pretrain_autoencoder(model, dataloader_train, dataloader_test, epochs=10)"
   ]
  },
  {
   "cell_type": "markdown",
   "metadata": {},
   "source": [
    "Step 2: Initialising the cluster centers"
   ]
  },
  {
   "cell_type": "code",
   "execution_count": 31,
   "metadata": {},
   "outputs": [
    {
     "name": "stdout",
     "output_type": "stream",
     "text": [
      "Cluster Centers Initialized!\n"
     ]
    },
    {
     "name": "stderr",
     "output_type": "stream",
     "text": [
      "/home/k64835/.local/lib/python3.8/site-packages/sklearn/base.py:1152: ConvergenceWarning: Number of distinct clusters (1) found smaller than n_clusters (2). Possibly due to duplicate points in X.\n",
      "  return fit_method(estimator, *args, **kwargs)\n"
     ]
    }
   ],
   "source": [
    "initialize_clusters(model, dataloader_train)"
   ]
  },
  {
   "cell_type": "markdown",
   "metadata": {},
   "source": [
    "Step 3: DCEC Training the full Clustering Layer"
   ]
  },
  {
   "cell_type": "code",
   "execution_count": null,
   "metadata": {},
   "outputs": [],
   "source": [
    "# device = 'cuda'\n",
    "# epochs = 50\n",
    "# lr = 0.001\n",
    "# momentum = 0.8\n",
    "# latent_dim=16\n",
    "# channels = 10\n",
    "# time_steps = 7\n",
    "# alpha = 0.1\n",
    "# patch_size = config.subpatch_size\n",
    "\n",
    "# model = DCEC(channels, time_steps, latent_dim, patch_size, 2)\n",
    "# model.init_clusters(dataloader_train, random_state=20, device=device)"
   ]
  },
  {
   "cell_type": "code",
   "execution_count": 32,
   "metadata": {},
   "outputs": [
    {
     "name": "stdout",
     "output_type": "stream",
     "text": [
      "Epoch 1/50:\n",
      "  Train - Reconstruction Loss: 0.002578, Clustering Loss: 0.000000\n",
      "  Test  - Reconstruction Loss: 0.002578, Clustering Loss: 0.000000\n",
      "Epoch 2/50:\n",
      "  Train - Reconstruction Loss: 0.002566, Clustering Loss: 0.000000\n",
      "  Test  - Reconstruction Loss: 0.002597, Clustering Loss: 0.000000\n",
      "Epoch 3/50:\n",
      "  Train - Reconstruction Loss: 0.002561, Clustering Loss: 0.000000\n",
      "  Test  - Reconstruction Loss: 0.002622, Clustering Loss: 0.000000\n",
      "Epoch 4/50:\n",
      "  Train - Reconstruction Loss: 0.002559, Clustering Loss: 0.000000\n",
      "  Test  - Reconstruction Loss: 0.002536, Clustering Loss: 0.000000\n",
      "Epoch 5/50:\n",
      "  Train - Reconstruction Loss: 0.003185, Clustering Loss: 0.000000\n",
      "  Test  - Reconstruction Loss: 0.002542, Clustering Loss: 0.000000\n",
      "Epoch 6/50:\n",
      "  Train - Reconstruction Loss: 0.002562, Clustering Loss: 0.000000\n",
      "  Test  - Reconstruction Loss: 0.002536, Clustering Loss: 0.000000\n"
     ]
    },
    {
     "ename": "KeyboardInterrupt",
     "evalue": "",
     "output_type": "error",
     "traceback": [
      "\u001b[0;31m---------------------------------------------------------------------------\u001b[0m",
      "\u001b[0;31mKeyboardInterrupt\u001b[0m                         Traceback (most recent call last)",
      "Cell \u001b[0;32mIn[32], line 1\u001b[0m\n\u001b[0;32m----> 1\u001b[0m trained_model, losses \u001b[38;5;241m=\u001b[39m \u001b[43mtrain_dcec\u001b[49m\u001b[43m(\u001b[49m\u001b[43mmodel\u001b[49m\u001b[43m,\u001b[49m\u001b[43m \u001b[49m\u001b[43mdataloader_train\u001b[49m\u001b[43m,\u001b[49m\u001b[43m \u001b[49m\u001b[43mdataloader_test\u001b[49m\u001b[43m,\u001b[49m\u001b[43m \u001b[49m\u001b[43mepochs\u001b[49m\u001b[38;5;241;43m=\u001b[39;49m\u001b[43mepochs\u001b[49m\u001b[43m,\u001b[49m\u001b[43m \u001b[49m\u001b[43mlr\u001b[49m\u001b[38;5;241;43m=\u001b[39;49m\u001b[43mlr\u001b[49m\u001b[43m,\u001b[49m\u001b[43m \u001b[49m\u001b[43malpha\u001b[49m\u001b[38;5;241;43m=\u001b[39;49m\u001b[43malpha\u001b[49m\u001b[43m,\u001b[49m\u001b[43m \u001b[49m\u001b[43mdevice\u001b[49m\u001b[38;5;241;43m=\u001b[39;49m\u001b[43mdevice\u001b[49m\u001b[43m)\u001b[49m\n",
      "File \u001b[0;32m~/Master-Thesis-SITS/Modeling/model_scripts/train_model_ae.py:301\u001b[0m, in \u001b[0;36mtrain_dcec\u001b[0;34m(model, train_dataloader, test_dataloader, epochs, lr, momentum, alpha, device)\u001b[0m\n\u001b[1;32m    298\u001b[0m avg_test_reconstruction_loss = total_test_reconstruction_loss / len(test_dataloader)\n\u001b[1;32m    299\u001b[0m avg_test_clustering_loss = total_test_clustering_loss / len(test_dataloader)\n\u001b[0;32m--> 301\u001b[0m # Print losses for both train and test sets\n\u001b[1;32m    302\u001b[0m print(f\"Epoch {epoch+1}/{epochs}:\")\n\u001b[1;32m    303\u001b[0m print(f\"  Train - Reconstruction Loss: {avg_train_reconstruction_loss:.6f}, Clustering Loss: {avg_train_clustering_loss:.6f}\")\n",
      "File \u001b[0;32m~/.local/lib/python3.8/site-packages/torch/_tensor.py:521\u001b[0m, in \u001b[0;36mTensor.backward\u001b[0;34m(self, gradient, retain_graph, create_graph, inputs)\u001b[0m\n\u001b[1;32m    511\u001b[0m \u001b[38;5;28;01mif\u001b[39;00m has_torch_function_unary(\u001b[38;5;28mself\u001b[39m):\n\u001b[1;32m    512\u001b[0m     \u001b[38;5;28;01mreturn\u001b[39;00m handle_torch_function(\n\u001b[1;32m    513\u001b[0m         Tensor\u001b[38;5;241m.\u001b[39mbackward,\n\u001b[1;32m    514\u001b[0m         (\u001b[38;5;28mself\u001b[39m,),\n\u001b[0;32m   (...)\u001b[0m\n\u001b[1;32m    519\u001b[0m         inputs\u001b[38;5;241m=\u001b[39minputs,\n\u001b[1;32m    520\u001b[0m     )\n\u001b[0;32m--> 521\u001b[0m \u001b[43mtorch\u001b[49m\u001b[38;5;241;43m.\u001b[39;49m\u001b[43mautograd\u001b[49m\u001b[38;5;241;43m.\u001b[39;49m\u001b[43mbackward\u001b[49m\u001b[43m(\u001b[49m\n\u001b[1;32m    522\u001b[0m \u001b[43m    \u001b[49m\u001b[38;5;28;43mself\u001b[39;49m\u001b[43m,\u001b[49m\u001b[43m \u001b[49m\u001b[43mgradient\u001b[49m\u001b[43m,\u001b[49m\u001b[43m \u001b[49m\u001b[43mretain_graph\u001b[49m\u001b[43m,\u001b[49m\u001b[43m \u001b[49m\u001b[43mcreate_graph\u001b[49m\u001b[43m,\u001b[49m\u001b[43m \u001b[49m\u001b[43minputs\u001b[49m\u001b[38;5;241;43m=\u001b[39;49m\u001b[43minputs\u001b[49m\n\u001b[1;32m    523\u001b[0m \u001b[43m\u001b[49m\u001b[43m)\u001b[49m\n",
      "File \u001b[0;32m~/.local/lib/python3.8/site-packages/torch/autograd/__init__.py:289\u001b[0m, in \u001b[0;36mbackward\u001b[0;34m(tensors, grad_tensors, retain_graph, create_graph, grad_variables, inputs)\u001b[0m\n\u001b[1;32m    284\u001b[0m     retain_graph \u001b[38;5;241m=\u001b[39m create_graph\n\u001b[1;32m    286\u001b[0m \u001b[38;5;66;03m# The reason we repeat the same comment below is that\u001b[39;00m\n\u001b[1;32m    287\u001b[0m \u001b[38;5;66;03m# some Python versions print out the first line of a multi-line function\u001b[39;00m\n\u001b[1;32m    288\u001b[0m \u001b[38;5;66;03m# calls in the traceback and some print out the last line\u001b[39;00m\n\u001b[0;32m--> 289\u001b[0m \u001b[43m_engine_run_backward\u001b[49m\u001b[43m(\u001b[49m\n\u001b[1;32m    290\u001b[0m \u001b[43m    \u001b[49m\u001b[43mtensors\u001b[49m\u001b[43m,\u001b[49m\n\u001b[1;32m    291\u001b[0m \u001b[43m    \u001b[49m\u001b[43mgrad_tensors_\u001b[49m\u001b[43m,\u001b[49m\n\u001b[1;32m    292\u001b[0m \u001b[43m    \u001b[49m\u001b[43mretain_graph\u001b[49m\u001b[43m,\u001b[49m\n\u001b[1;32m    293\u001b[0m \u001b[43m    \u001b[49m\u001b[43mcreate_graph\u001b[49m\u001b[43m,\u001b[49m\n\u001b[1;32m    294\u001b[0m \u001b[43m    \u001b[49m\u001b[43minputs\u001b[49m\u001b[43m,\u001b[49m\n\u001b[1;32m    295\u001b[0m \u001b[43m    \u001b[49m\u001b[43mallow_unreachable\u001b[49m\u001b[38;5;241;43m=\u001b[39;49m\u001b[38;5;28;43;01mTrue\u001b[39;49;00m\u001b[43m,\u001b[49m\n\u001b[1;32m    296\u001b[0m \u001b[43m    \u001b[49m\u001b[43maccumulate_grad\u001b[49m\u001b[38;5;241;43m=\u001b[39;49m\u001b[38;5;28;43;01mTrue\u001b[39;49;00m\u001b[43m,\u001b[49m\n\u001b[1;32m    297\u001b[0m \u001b[43m\u001b[49m\u001b[43m)\u001b[49m\n",
      "File \u001b[0;32m~/.local/lib/python3.8/site-packages/torch/autograd/graph.py:769\u001b[0m, in \u001b[0;36m_engine_run_backward\u001b[0;34m(t_outputs, *args, **kwargs)\u001b[0m\n\u001b[1;32m    767\u001b[0m     unregister_hooks \u001b[38;5;241m=\u001b[39m _register_logging_hooks_on_whole_graph(t_outputs)\n\u001b[1;32m    768\u001b[0m \u001b[38;5;28;01mtry\u001b[39;00m:\n\u001b[0;32m--> 769\u001b[0m     \u001b[38;5;28;01mreturn\u001b[39;00m \u001b[43mVariable\u001b[49m\u001b[38;5;241;43m.\u001b[39;49m\u001b[43m_execution_engine\u001b[49m\u001b[38;5;241;43m.\u001b[39;49m\u001b[43mrun_backward\u001b[49m\u001b[43m(\u001b[49m\u001b[43m  \u001b[49m\u001b[38;5;66;43;03m# Calls into the C++ engine to run the backward pass\u001b[39;49;00m\n\u001b[1;32m    770\u001b[0m \u001b[43m        \u001b[49m\u001b[43mt_outputs\u001b[49m\u001b[43m,\u001b[49m\u001b[43m \u001b[49m\u001b[38;5;241;43m*\u001b[39;49m\u001b[43margs\u001b[49m\u001b[43m,\u001b[49m\u001b[43m \u001b[49m\u001b[38;5;241;43m*\u001b[39;49m\u001b[38;5;241;43m*\u001b[39;49m\u001b[43mkwargs\u001b[49m\n\u001b[1;32m    771\u001b[0m \u001b[43m    \u001b[49m\u001b[43m)\u001b[49m  \u001b[38;5;66;03m# Calls into the C++ engine to run the backward pass\u001b[39;00m\n\u001b[1;32m    772\u001b[0m \u001b[38;5;28;01mfinally\u001b[39;00m:\n\u001b[1;32m    773\u001b[0m     \u001b[38;5;28;01mif\u001b[39;00m attach_logging_hooks:\n",
      "\u001b[0;31mKeyboardInterrupt\u001b[0m: "
     ]
    }
   ],
   "source": [
    "trained_model, losses = train_dcec(model, dataloader_train, dataloader_test, epochs=epochs, lr=lr, alpha=alpha, device=device)"
   ]
  },
  {
   "cell_type": "code",
   "execution_count": 100,
   "metadata": {},
   "outputs": [
    {
     "data": {
      "image/png": "[encoded data removed]",
      "text/plain": [
       "<Figure size 800x500 with 1 Axes>"
      ]
     },
     "metadata": {},
     "output_type": "display_data"
    }
   ],
   "source": [
    "plot_loss(losses['train_reconstruction_loss'], losses['test_reconstruction_loss'])"
   ]
  },
  {
   "cell_type": "code",
   "execution_count": 101,
   "metadata": {},
   "outputs": [
    {
     "data": {
      "image/png": "[encoded data removed]",
      "text/plain": [
       "<Figure size 800x500 with 1 Axes>"
      ]
     },
     "metadata": {},
     "output_type": "display_data"
    }
   ],
   "source": [
    "plot_loss(losses['train_clustering_loss'], losses['test_clustering_loss'])"
   ]
  },
  {
   "cell_type": "markdown",
   "metadata": {},
   "source": [
    "### Evaluation"
   ]
  },
  {
   "cell_type": "markdown",
   "metadata": {},
   "source": [
    "Use Encoder part and clustering layer to get the clustering assignments and features"
   ]
  },
  {
   "cell_type": "code",
   "execution_count": 102,
   "metadata": {},
   "outputs": [],
   "source": [
    "train_latent_features, train_cluster_assignments, train_coord_dl = evaluate_dcec(trained_model, dataloader_train, device)\n",
    "test_latent_features, test_cluster_assignments, test_coord_dl = evaluate_dcec(trained_model, dataloader_test, device)\n",
    "eval_latent_features, eval_cluster_assignments, eval_coord_dl = evaluate_dcec(trained_model, dataloader_eval, device)"
   ]
  },
  {
   "cell_type": "code",
   "execution_count": 103,
   "metadata": {},
   "outputs": [
    {
     "data": {
      "text/plain": [
       "'1223711.0_35_25'"
      ]
     },
     "execution_count": 103,
     "metadata": {},
     "output_type": "execute_result"
    }
   ],
   "source": [
    "train_coord_dl[0]"
   ]
  },
  {
   "cell_type": "code",
   "execution_count": 104,
   "metadata": {},
   "outputs": [],
   "source": [
    "train_features = train_latent_features.cpu()\n",
    "test_features = test_latent_features.cpu()\n",
    "eval_features = eval_latent_features.cpu()"
   ]
  },
  {
   "cell_type": "code",
   "execution_count": 105,
   "metadata": {},
   "outputs": [],
   "source": [
    "combined_train_features = torch.cat((train_features, test_features), dim=0)\n",
    "combined_train_assignments = torch.cat((train_cluster_assignments, test_cluster_assignments), dim=0)\n",
    "combined_train_coords = train_coord_dl + test_coord_dl"
   ]
  },
  {
   "cell_type": "markdown",
   "metadata": {},
   "source": [
    "Convert Subpatch labels to Field labels"
   ]
  },
  {
   "cell_type": "code",
   "execution_count": 106,
   "metadata": {},
   "outputs": [],
   "source": [
    "threshold = 0.5\n",
    "train_field_labels = assign_field_labels_ae(combined_train_coords, combined_train_assignments, threshold)\n",
    "eval_field_labels = assign_field_labels_ae(eval_coord_dl, eval_cluster_assignments, threshold)"
   ]
  },
  {
   "cell_type": "markdown",
   "metadata": {},
   "source": [
    "Accuracy and Classification Report"
   ]
  },
  {
   "cell_type": "code",
   "execution_count": 107,
   "metadata": {},
   "outputs": [
    {
     "name": "stdout",
     "output_type": "stream",
     "text": [
      "Evaluation Accuracy: 0.5901639344262295\n",
      "              precision    recall  f1-score   support\n",
      "\n",
      "           0       0.53      0.35      0.42        26\n",
      "           1       0.61      0.77      0.68        35\n",
      "\n",
      "    accuracy                           0.59        61\n",
      "   macro avg       0.57      0.56      0.55        61\n",
      "weighted avg       0.58      0.59      0.57        61\n",
      "\n",
      "[[ 9 17]\n",
      " [ 8 27]]\n"
     ]
    }
   ],
   "source": [
    "accuracy, report, cm, x_y_coords = evaluate_test_labels_ae(eval_field_labels, config.labels_path)\n",
    "print(f\"Evaluation Accuracy: {accuracy}\")\n",
    "print(report)\n",
    "print(cm)"
   ]
  },
  {
   "cell_type": "code",
   "execution_count": 108,
   "metadata": {},
   "outputs": [
    {
     "name": "stdout",
     "output_type": "stream",
     "text": [
      "Accuracy: 0.5901639344262295\n",
      "Precision: [0.52941176 0.61363636]\n",
      "Recall: [0.34615385 0.77142857]\n",
      "F1-score: [0.41860465 0.6835443 ]\n"
     ]
    }
   ],
   "source": [
    "acc, precision_per_class, recall_per_class, f1_per_class = evaluate_clustering_metrics(eval_field_labels, config.labels_path)\n",
    "print(\"Accuracy:\",acc)\n",
    "print(\"Precision:\",precision_per_class)\n",
    "print(\"Recall:\",recall_per_class)\n",
    "print(\"F1-score:\",f1_per_class)"
   ]
  },
  {
   "cell_type": "code",
   "execution_count": null,
   "metadata": {},
   "outputs": [],
   "source": []
  },
  {
   "cell_type": "markdown",
   "metadata": {},
   "source": [
    "## Experiment 3: Data Cubes = MVI (Multiple with Vegetation Indices)"
   ]
  },
  {
   "cell_type": "markdown",
   "metadata": {},
   "source": [
    "### Loading the pre-processed data\n",
    "\n",
    "Data: Extracted and Pre-processed Patches (each patch containing a sugarbeet field)\n",
    "\n",
    "Dimensions: (N, T, C, H, W) = (N, 7, 10, 64, 64)"
   ]
  },
  {
   "cell_type": "code",
   "execution_count": 11,
   "metadata": {},
   "outputs": [
    {
     "data": {
      "text/plain": [
       "(torch.Size([2425, 7, 3, 64, 64]), torch.Size([48, 7, 3, 64, 64]))"
      ]
     },
     "execution_count": 11,
     "metadata": {},
     "output_type": "execute_result"
    }
   ],
   "source": [
    "preprocessing_pipeline = PreProcessingPipelineTemporal()\n",
    "field_numbers_train, acquisition_dates_train, patch_tensor_train, images_visualisation_train = preprocessing_pipeline.get_processed_temporal_cubes('train', 'multipleindices')\n",
    "field_numbers_eval, acquisition_dates_eval, patch_tensor_eval, images_visualisation_eval = preprocessing_pipeline.get_processed_temporal_cubes('eval', 'multipleindices')\n",
    "patch_tensor_train.shape, patch_tensor_eval.shape"
   ]
  },
  {
   "cell_type": "markdown",
   "metadata": {},
   "source": [
    "### Create Sub-Patches"
   ]
  },
  {
   "cell_type": "code",
   "execution_count": 12,
   "metadata": {},
   "outputs": [
    {
     "data": {
      "text/plain": [
       "(torch.Size([39042, 7, 3, 5, 5]), torch.Size([867, 7, 3, 5, 5]))"
      ]
     },
     "execution_count": 12,
     "metadata": {},
     "output_type": "execute_result"
    }
   ],
   "source": [
    "train_subpatches, train_subpatch_coords = non_overlapping_sliding_window(patch_tensor_train, field_numbers_train, patch_size=config.subpatch_size)\n",
    "eval_subpatches, eval_subpatch_coords = non_overlapping_sliding_window(patch_tensor_eval, field_numbers_eval, patch_size=config.subpatch_size)\n",
    "train_subpatches.shape, eval_subpatches.shape"
   ]
  },
  {
   "cell_type": "markdown",
   "metadata": {},
   "source": [
    "Get field numbers and co-ordinates as string"
   ]
  },
  {
   "cell_type": "code",
   "execution_count": 13,
   "metadata": {},
   "outputs": [
    {
     "data": {
      "text/plain": [
       "'1167134.0_25_25'"
      ]
     },
     "execution_count": 13,
     "metadata": {},
     "output_type": "execute_result"
    }
   ],
   "source": [
    "train_coord_dataloader = get_string_fielddata(train_subpatch_coords)\n",
    "eval_coord_dataloader = get_string_fielddata(eval_subpatch_coords)\n",
    "train_coord_dataloader[0]"
   ]
  },
  {
   "cell_type": "markdown",
   "metadata": {},
   "source": [
    "### Split Unlabeled data into 'train' and 'test' and create  Data Loaders"
   ]
  },
  {
   "cell_type": "code",
   "execution_count": 14,
   "metadata": {},
   "outputs": [
    {
     "name": "stderr",
     "output_type": "stream",
     "text": [
      "/home/k64835/Master-Thesis-SITS/Modeling/model_scripts/dataset_creation.py:11: UserWarning: To copy construct from a tensor, it is recommended to use sourceTensor.clone().detach() or sourceTensor.clone().detach().requires_grad_(True), rather than torch.tensor(sourceTensor).\n",
      "  inputs = torch.tensor(inputs, dtype=torch.float32).permute(0, 2, 1, 3, 4)  # (N, T, C, H, W) -> (N, C, T, H, W)\n"
     ]
    }
   ],
   "source": [
    "train_subpatches_dl, test_subpatches, train_field_numbers, test_field_numbers = train_test_split(\n",
    "    train_subpatches, train_coord_dataloader, test_size=1-config.ae_train_test_ratio, random_state=42\n",
    ")\n",
    "\n",
    "dataloader_train = create_data_loader(train_subpatches_dl, train_field_numbers, batch_size=config.ae_batch_size, shuffle=True)\n",
    "dataloader_test = create_data_loader(test_subpatches, test_field_numbers, batch_size=config.ae_batch_size, shuffle=False)\n",
    "dataloader_eval = create_data_loader(eval_subpatches, eval_coord_dataloader, batch_size=config.ae_batch_size, shuffle=False)"
   ]
  },
  {
   "cell_type": "markdown",
   "metadata": {},
   "source": [
    "### Training the Auto-encoder"
   ]
  },
  {
   "cell_type": "markdown",
   "metadata": {},
   "source": [
    "Input Data: ( N x C x D x H x W )"
   ]
  },
  {
   "cell_type": "code",
   "execution_count": 15,
   "metadata": {},
   "outputs": [
    {
     "data": {
      "text/plain": [
       "Conv3DAutoencoder(\n",
       "  (conv1): Conv3d(3, 64, kernel_size=(3, 3, 3), stride=(1, 1, 1), padding=(1, 1, 1))\n",
       "  (conv2): Conv3d(64, 256, kernel_size=(3, 3, 3), stride=(1, 1, 1), padding=(1, 1, 1))\n",
       "  (conv3): Conv3d(256, 512, kernel_size=(3, 3, 3), stride=(1, 1, 1), padding=(1, 1, 1))\n",
       "  (conv1d): Conv1d(12800, 12800, kernel_size=(7,), stride=(1,), groups=512)\n",
       "  (flatten): Flatten(start_dim=1, end_dim=-1)\n",
       "  (fc1): Linear(in_features=12800, out_features=32, bias=True)\n",
       "  (fc2): Linear(in_features=32, out_features=12800, bias=True)\n",
       "  (deconv1d): ConvTranspose1d(12800, 12800, kernel_size=(7,), stride=(1,), groups=512)\n",
       "  (unflatten): Unflatten(dim=1, unflattened_size=(512, 5, 5))\n",
       "  (deconv1): ConvTranspose3d(512, 256, kernel_size=(3, 3, 3), stride=(1, 1, 1), padding=(1, 1, 1))\n",
       "  (deconv2): ConvTranspose3d(256, 64, kernel_size=(3, 3, 3), stride=(1, 1, 1), padding=(1, 1, 1))\n",
       "  (deconv3): ConvTranspose3d(64, 3, kernel_size=(3, 3, 3), stride=(1, 1, 1), padding=(1, 1, 1))\n",
       ")"
      ]
     },
     "execution_count": 15,
     "metadata": {},
     "output_type": "execute_result"
    }
   ],
   "source": [
    "device = 'cuda'\n",
    "epochs = 25\n",
    "lr = 0.001\n",
    "latent_dim=32\n",
    "channels = 3\n",
    "time_steps = 7\n",
    "patch_size = config.subpatch_size\n",
    "\n",
    "model = Conv3DAutoencoder(channels, time_steps, latent_dim, config.subpatch_size)\n",
    "device = torch.device(device)  \n",
    "model.to(device)"
   ]
  },
  {
   "cell_type": "code",
   "execution_count": 16,
   "metadata": {},
   "outputs": [
    {
     "name": "stdout",
     "output_type": "stream",
     "text": [
      "Epoch 1/25, Train Loss: 0.0151, Test Loss: 0.0203\n",
      "Epoch 2/25, Train Loss: 0.0050, Test Loss: 0.0056\n",
      "Epoch 3/25, Train Loss: 0.0035, Test Loss: 0.0078\n",
      "Epoch 4/25, Train Loss: 0.0033, Test Loss: 0.0036\n",
      "Epoch 5/25, Train Loss: 0.0032, Test Loss: 0.0034\n",
      "Epoch 6/25, Train Loss: 0.0032, Test Loss: 0.0033\n",
      "Epoch 7/25, Train Loss: 0.0028, Test Loss: 0.0028\n",
      "Epoch 8/25, Train Loss: 0.0027, Test Loss: 0.0057\n"
     ]
    },
    {
     "ename": "KeyboardInterrupt",
     "evalue": "",
     "output_type": "error",
     "traceback": [
      "\u001b[0;31m---------------------------------------------------------------------------\u001b[0m",
      "\u001b[0;31mKeyboardInterrupt\u001b[0m                         Traceback (most recent call last)",
      "Cell \u001b[0;32mIn[16], line 1\u001b[0m\n\u001b[0;32m----> 1\u001b[0m trained_model, train_losses, test_losses  \u001b[38;5;241m=\u001b[39m \u001b[43mtrain_model_ae\u001b[49m\u001b[43m(\u001b[49m\u001b[43mmodel\u001b[49m\u001b[43m,\u001b[49m\u001b[43m \u001b[49m\u001b[43mdataloader_train\u001b[49m\u001b[43m,\u001b[49m\u001b[43m \u001b[49m\u001b[43mdataloader_test\u001b[49m\u001b[43m,\u001b[49m\u001b[43m \u001b[49m\u001b[43mepochs\u001b[49m\u001b[38;5;241;43m=\u001b[39;49m\u001b[43mepochs\u001b[49m\u001b[43m,\u001b[49m\u001b[43m \u001b[49m\u001b[43mlr\u001b[49m\u001b[38;5;241;43m=\u001b[39;49m\u001b[43mlr\u001b[49m\u001b[43m,\u001b[49m\u001b[43m \u001b[49m\u001b[43mdevice\u001b[49m\u001b[38;5;241;43m=\u001b[39;49m\u001b[43mdevice\u001b[49m\u001b[43m)\u001b[49m\n",
      "File \u001b[0;32m~/Master-Thesis-SITS/Modeling/model_scripts/train_model_ae.py:59\u001b[0m, in \u001b[0;36mtrain_model_ae\u001b[0;34m(model, train_dataloader, test_dataloader, epochs, lr, device)\u001b[0m\n\u001b[1;32m     57\u001b[0m     loss\u001b[38;5;241m.\u001b[39mbackward()\n\u001b[1;32m     58\u001b[0m     optimizer\u001b[38;5;241m.\u001b[39mstep()\n\u001b[0;32m---> 59\u001b[0m     train_loss \u001b[38;5;241m+\u001b[39m\u001b[38;5;241m=\u001b[39m \u001b[43mloss\u001b[49m\u001b[38;5;241;43m.\u001b[39;49m\u001b[43mitem\u001b[49m\u001b[43m(\u001b[49m\u001b[43m)\u001b[49m\n\u001b[1;32m     61\u001b[0m epoch_train_losses\u001b[38;5;241m.\u001b[39mappend(train_loss \u001b[38;5;241m/\u001b[39m \u001b[38;5;28mlen\u001b[39m(train_dataloader))\n\u001b[1;32m     63\u001b[0m \u001b[38;5;66;03m# Evaluate on the test set\u001b[39;00m\n",
      "\u001b[0;31mKeyboardInterrupt\u001b[0m: "
     ]
    }
   ],
   "source": [
    "trained_model, train_losses, test_losses  = train_model_ae(model, dataloader_train, dataloader_test, epochs=epochs, lr=lr, device=device)"
   ]
  },
  {
   "cell_type": "code",
   "execution_count": 24,
   "metadata": {},
   "outputs": [],
   "source": [
    "# plot_loss(train_losses,test_losses)"
   ]
  },
  {
   "cell_type": "code",
   "execution_count": 25,
   "metadata": {},
   "outputs": [
    {
     "data": {
      "image/png": "[encoded data removed]",
      "text/plain": [
       "<Figure size 800x500 with 1 Axes>"
      ]
     },
     "metadata": {},
     "output_type": "display_data"
    }
   ],
   "source": [
    "plot_loss_log_scale(train_losses, test_losses)"
   ]
  },
  {
   "cell_type": "markdown",
   "metadata": {},
   "source": [
    "### Evaluation"
   ]
  },
  {
   "cell_type": "markdown",
   "metadata": {},
   "source": [
    "Use trained Encoder part to get the features for train, test and evaluation Data"
   ]
  },
  {
   "cell_type": "code",
   "execution_count": 26,
   "metadata": {},
   "outputs": [],
   "source": [
    "train_features, train_coord_dl = extract_features_ae(trained_model, dataloader_train, device)\n",
    "test_features, test_coord_dl = extract_features_ae(trained_model, dataloader_test, device)\n",
    "eval_features, eval_coord_dl = extract_features_ae(trained_model, dataloader_eval, device)"
   ]
  },
  {
   "cell_type": "code",
   "execution_count": 27,
   "metadata": {},
   "outputs": [],
   "source": [
    "train_features = train_features.cpu()\n",
    "test_features = test_features.cpu()\n",
    "eval_features = eval_features.cpu()"
   ]
  },
  {
   "cell_type": "code",
   "execution_count": 28,
   "metadata": {},
   "outputs": [],
   "source": [
    "combined_train_features = torch.cat((train_features, test_features), dim=0)\n",
    "combined_train_coords = train_coord_dl + test_coord_dl"
   ]
  },
  {
   "cell_type": "markdown",
   "metadata": {},
   "source": [
    "K-means on extracted features"
   ]
  },
  {
   "cell_type": "code",
   "execution_count": 32,
   "metadata": {},
   "outputs": [
    {
     "name": "stderr",
     "output_type": "stream",
     "text": [
      "/home/k64835/.local/lib/python3.8/site-packages/sklearn/cluster/_kmeans.py:1416: FutureWarning: The default value of `n_init` will change from 10 to 'auto' in 1.4. Set the value of `n_init` explicitly to suppress the warning\n",
      "  super()._check_params_vs_input(X, default_n_init=10)\n"
     ]
    }
   ],
   "source": [
    "kmeans_mvi = train_kmeans_patches(combined_train_features, n_clusters=2, random_state=8)\n",
    "\n",
    "train_subpatch_predictions = kmeans_mvi.predict(combined_train_features.reshape(combined_train_features.size(0), -1).numpy().astype(np.float32))\n",
    "eval_subpatch_predictions = kmeans_mvi.predict(eval_features.reshape(eval_features.size(0), -1).numpy().astype(np.float32))"
   ]
  },
  {
   "cell_type": "markdown",
   "metadata": {},
   "source": [
    "Convert Subpatch labels to Field labels"
   ]
  },
  {
   "cell_type": "code",
   "execution_count": 33,
   "metadata": {},
   "outputs": [],
   "source": [
    "threshold = config.patch_to_field_threshold\n",
    "train_field_labels = assign_field_labels_ae(combined_train_coords, train_subpatch_predictions, threshold)\n",
    "eval_field_labels = assign_field_labels_ae(eval_coord_dl, eval_subpatch_predictions, threshold)"
   ]
  },
  {
   "cell_type": "markdown",
   "metadata": {},
   "source": [
    "Accuracy and Classification Report"
   ]
  },
  {
   "cell_type": "code",
   "execution_count": 38,
   "metadata": {},
   "outputs": [
    {
     "name": "stdout",
     "output_type": "stream",
     "text": [
      "Evaluation Accuracy: 0.6229508196721312\n",
      "              precision    recall  f1-score   support\n",
      "\n",
      "           0       0.64      0.80      0.71        35\n",
      "           1       0.59      0.38      0.47        26\n",
      "\n",
      "    accuracy                           0.62        61\n",
      "   macro avg       0.61      0.59      0.59        61\n",
      "weighted avg       0.62      0.62      0.60        61\n",
      "\n"
     ]
    }
   ],
   "source": [
    "accuracy, report, x_y_coords = evaluate_test_labels_ae(eval_field_labels, config.labels_path)\n",
    "print(f\"Evaluation Accuracy: {accuracy}\")\n",
    "print(report)"
   ]
  },
  {
   "cell_type": "markdown",
   "metadata": {},
   "source": []
  }
 ],
 "metadata": {
  "kernelspec": {
   "display_name": "Python 3",
   "language": "python",
   "name": "python3"
  },
  "language_info": {
   "codemirror_mode": {
    "name": "ipython",
    "version": 3
   },
   "file_extension": ".py",
   "mimetype": "text/x-python",
   "name": "python",
   "nbconvert_exporter": "python",
   "pygments_lexer": "ipython3",
   "version": "3.8.10"
  }
 },
 "nbformat": 4,
 "nbformat_minor": 2
}
