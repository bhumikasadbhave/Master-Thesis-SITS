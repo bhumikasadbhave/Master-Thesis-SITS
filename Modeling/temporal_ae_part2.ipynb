{
 "cells": [
  {
   "cell_type": "markdown",
   "metadata": {},
   "source": [
    "- This notebook consists of step by step training, evaluation, and saving the trained models as well as the prediction arrays. \n",
    "- The model reconstructions are visualised here, for 3D AE model with 2 strategies of temporal encodings.\n",
    "- This is an extra notebook that is created for step by step process. The temporal_ae_executions is the main notebook for running the models over 3 executions, averaging the results, and saving in JSONs. "
   ]
  },
  {
   "cell_type": "markdown",
   "metadata": {},
   "source": [
    "## Imports"
   ]
  },
  {
   "cell_type": "code",
   "execution_count": 1,
   "metadata": {},
   "outputs": [],
   "source": [
    "%load_ext autoreload\n",
    "%autoreload 2"
   ]
  },
  {
   "cell_type": "code",
   "execution_count": 2,
   "metadata": {},
   "outputs": [],
   "source": [
    "import os, sys\n",
    "from pathlib import Path\n",
    "\n",
    "os.environ['PYTORCH_ENABLE_MPS_FALLBACK'] = '1'\n",
    "sys.path.append('/home/k64835/Master-Thesis-SITS')\n",
    "# sys.path.append('/Users/bhumikasadbhave007/Documents/THWS/Semester-4/MASTER-THESIS/GITHUB/Master-Thesis-SITS')\n",
    "\n",
    "scripts_path = Path(\"../Data-Preprocessing/\").resolve()\n",
    "sys.path.append(str(scripts_path))\n",
    "\n",
    "scripts_path = Path(\"../Evaluation/\").resolve()\n",
    "sys.path.append(str(scripts_path))"
   ]
  },
  {
   "cell_type": "code",
   "execution_count": 3,
   "metadata": {},
   "outputs": [],
   "source": [
    "import pickle\n",
    "import time\n",
    "from sklearn.cluster import KMeans\n",
    "from sklearn.neighbors import NearestCentroid\n",
    "from scripts.data_visualiser import *\n",
    "from sklearn.manifold import TSNE \n",
    "import torch.nn.functional as F\n",
    "from sklearn.model_selection import train_test_split\n",
    "from model_scripts.subpatch_extraction import *\n",
    "from scripts.data_loader import *\n",
    "from scripts.data_preprocessor import *\n",
    "from scripts.temporal_data_preprocessor import *\n",
    "from scripts.temporal_data_loader import *\n",
    "from scripts.temporal_visualiser import *\n",
    "from scripts.temporal_chanel_refinement import *\n",
    "from model_scripts.model_helper import *\n",
    "from model_scripts.dataset_creation import *\n",
    "from model_scripts.train_model_ae import *\n",
    "from model_scripts.model_visualiser import *\n",
    "from model_scripts.clustering import *\n",
    "from evaluation_scripts.evaluation_helper import *\n",
    "from evaluation_scripts.result_visualiser import *\n",
    "from Pipeline.temporal_preprocessing_pipeline import *\n",
    "from evaluation_scripts.result_visualiser import *\n",
    "from Pipeline.temporal_preprocessing_pipeline import *\n",
    "import numpy as np\n",
    "import config as config\n",
    "from sklearn.cluster import KMeans\n",
    "from sklearn.metrics import adjusted_rand_score\n",
    "from sklearn.cluster import DBSCAN\n",
    "from sklearn.decomposition import PCA\n",
    "import skimage.measure\n",
    "import torch\n",
    "import torch.nn as nn\n",
    "import torch.optim as optim"
   ]
  },
  {
   "cell_type": "markdown",
   "metadata": {},
   "source": [
    "## Dataset prep: B10 with Date Encodings as Additional Channels"
   ]
  },
  {
   "cell_type": "markdown",
   "metadata": {},
   "source": [
    "### Loading the pre-processed data\n",
    "\n",
    "Data: Extracted and Pre-processed Patches (each patch containing a sugarbeet field)\n",
    "\n",
    "Dimensions: (N, T, C, H, W) = (N, 7, 10 + 2, 64, 64)\n",
    "\n",
    "2 extra channels for temporal encoding of sin(date_diff) and cos(date_diff)"
   ]
  },
  {
   "cell_type": "code",
   "execution_count": 4,
   "metadata": {},
   "outputs": [
    {
     "data": {
      "text/plain": [
       "(torch.Size([1228, 7, 12, 64, 64]), torch.Size([48, 7, 12, 64, 64]))"
      ]
     },
     "execution_count": 4,
     "metadata": {},
     "output_type": "execute_result"
    }
   ],
   "source": [
    "preprocessing_pipeline = PreProcessingPipelineTemporal()\n",
    "field_numbers_train, acquisition_dates_train, patch_tensor_train, images_visualisation_train = preprocessing_pipeline.get_processed_temporal_cubes('train', 'b10_channel', method='sin-cos')\n",
    "field_numbers_eval, acquisition_dates_eval, patch_tensor_eval, images_visualisation_eval = preprocessing_pipeline.get_processed_temporal_cubes('eval', 'b10_channel', method='sin-cos')\n",
    "patch_tensor_train.shape, patch_tensor_eval.shape"
   ]
  },
  {
   "cell_type": "markdown",
   "metadata": {},
   "source": [
    "Dictionary for subpatch-to-patch mapping of reconstructed images"
   ]
  },
  {
   "cell_type": "code",
   "execution_count": 5,
   "metadata": {},
   "outputs": [],
   "source": [
    "old_images_train = {fn: img for fn, img in zip(field_numbers_train, images_visualisation_train)}\n",
    "old_images_eval = {fn: img for fn, img in zip(field_numbers_eval, images_visualisation_eval)}"
   ]
  },
  {
   "cell_type": "code",
   "execution_count": 6,
   "metadata": {},
   "outputs": [],
   "source": [
    "acq_dict_train = {fn: date for fn, date in zip(field_numbers_train, acquisition_dates_train)}\n",
    "acq_dict_eval = {fn: date for fn, date in zip(field_numbers_train, acquisition_dates_eval)}"
   ]
  },
  {
   "cell_type": "markdown",
   "metadata": {},
   "source": [
    "### Create Sub-Patches"
   ]
  },
  {
   "cell_type": "code",
   "execution_count": 7,
   "metadata": {},
   "outputs": [
    {
     "data": {
      "text/plain": [
       "(torch.Size([33128, 7, 12, 4, 4]), torch.Size([1197, 7, 12, 4, 4]))"
      ]
     },
     "execution_count": 7,
     "metadata": {},
     "output_type": "execute_result"
    }
   ],
   "source": [
    "train_subpatches, train_subpatch_coords = non_overlapping_sliding_window(patch_tensor_train, field_numbers_train, patch_size=config.subpatch_size, num_encoding_channels=config.num_encoding_channels)\n",
    "eval_subpatches, eval_subpatch_coords = non_overlapping_sliding_window(patch_tensor_eval, field_numbers_eval, patch_size=config.subpatch_size, num_encoding_channels=config.num_encoding_channels)\n",
    "train_subpatches.shape, eval_subpatches.shape"
   ]
  },
  {
   "cell_type": "markdown",
   "metadata": {},
   "source": [
    "Get field numbers and co-ordinates as string"
   ]
  },
  {
   "cell_type": "code",
   "execution_count": 8,
   "metadata": {},
   "outputs": [
    {
     "data": {
      "text/plain": [
       "'1167136.0_1167138.0_24_24'"
      ]
     },
     "execution_count": 8,
     "metadata": {},
     "output_type": "execute_result"
    }
   ],
   "source": [
    "train_coord_dataloader = get_string_fielddata(train_subpatch_coords)\n",
    "eval_coord_dataloader = get_string_fielddata(eval_subpatch_coords)\n",
    "train_coord_dataloader[0]"
   ]
  },
  {
   "cell_type": "markdown",
   "metadata": {},
   "source": [
    "### Split Unlabeled data into 'train' and 'test' and create  Data Loaders"
   ]
  },
  {
   "cell_type": "code",
   "execution_count": 9,
   "metadata": {},
   "outputs": [],
   "source": [
    "train_subpatches_dl, test_subpatches, train_field_numbers, test_field_numbers = train_test_split(\n",
    "    train_subpatches, train_coord_dataloader, test_size=1-config.ae_train_test_ratio, random_state=42\n",
    ")\n",
    "\n",
    "dataloader_train = create_data_loader(train_subpatches_dl, train_field_numbers, batch_size=config.ae_batch_size, shuffle=True)\n",
    "dataloader_test = create_data_loader(test_subpatches, test_field_numbers, batch_size=config.ae_batch_size, shuffle=False)\n",
    "dataloader_eval = create_data_loader(eval_subpatches, eval_coord_dataloader, batch_size=config.ae_batch_size, shuffle=False)"
   ]
  },
  {
   "cell_type": "markdown",
   "metadata": {},
   "source": [
    "## Modeling: Conv3D Autoencoder with Temporal Encodings as channels"
   ]
  },
  {
   "cell_type": "markdown",
   "metadata": {},
   "source": [
    "### Architecture"
   ]
  },
  {
   "cell_type": "markdown",
   "metadata": {},
   "source": [
    "Input Data: ( N x C x D x H x W )"
   ]
  },
  {
   "cell_type": "code",
   "execution_count": 21,
   "metadata": {},
   "outputs": [],
   "source": [
    "class Conv3DAutoencoder(nn.Module):\n",
    "    def __init__(self, in_channels, out_channels, time_steps, latent_size, patch_size):\n",
    "        super(Conv3DAutoencoder, self).__init__()\n",
    "\n",
    "        self.time_steps = time_steps\n",
    "        self.in_channels = in_channels\n",
    "        self.patch_size = patch_size\n",
    "\n",
    "        # --- Encoder (3D Convolutions) ---\n",
    "        self.conv1 = nn.Conv3d(in_channels, 64, kernel_size=3, stride=1, padding=1)\n",
    "        self.conv2 = nn.Conv3d(64, 128, kernel_size=3, stride=1, padding=1)\n",
    "        self.conv3 = nn.Conv3d(128, 256, kernel_size=3, stride=1, padding=1)\n",
    "\n",
    "        # --- Fully Connected Latent Space ---\n",
    "        self.flatten = nn.Flatten()\n",
    "        self.fc1 = nn.Linear(256 * patch_size * patch_size * time_steps, 512)   \n",
    "        self.fc2 = nn.Linear(512, latent_size)\n",
    "\n",
    "        # --- Decoder (Fully Connected) ---\n",
    "        self.fc3 = nn.Linear(latent_size, 512)\n",
    "        self.fc4 = nn.Linear(512, 256 * patch_size * patch_size * time_steps)\n",
    "\n",
    "        # --- 3D Deconvolutions (Transpose convolutions) ---\n",
    "        self.unflatten = nn.Unflatten(1, (256, time_steps, patch_size, patch_size))\n",
    "        self.deconv1 = nn.ConvTranspose3d(256, 128, kernel_size=3, stride=1, padding=1)\n",
    "        self.deconv2 = nn.ConvTranspose3d(128, 64, kernel_size=3, stride=1, padding=1)\n",
    "        self.deconv3 = nn.ConvTranspose3d(64, out_channels, kernel_size=3, stride=1, padding=1)\n",
    "\n",
    "\n",
    "    def forward(self, x):\n",
    "        \n",
    "        # --- Encoder ---\n",
    "        x = F.relu(self.conv1(x))\n",
    "        x = F.relu(self.conv2(x))\n",
    "        x = F.relu(self.conv3(x))\n",
    "\n",
    "        # --- Flatten and Fully Connected ---\n",
    "        b, c, t, h, w = x.shape                 # (B, C, T, H, W)\n",
    "        x = self.flatten(x)  \n",
    "        x = F.relu(self.fc1(x))\n",
    "        z = self.fc2(x)                         # Bottleneck    \n",
    "\n",
    "        # --- Decoder ---\n",
    "        x = F.relu(self.fc3(z))\n",
    "        x = F.relu(self.fc4(x))\n",
    "\n",
    "        # --- Reshape and 3D Deconvolutions ---\n",
    "        x = self.unflatten(x)                   # (B, C, H, W, T)\n",
    "        x = F.relu(self.deconv1(x))\n",
    "        x = F.relu(self.deconv2(x))\n",
    "        x_reconstructed = self.deconv3(x)       # Reconstruction\n",
    "\n",
    "        return z, x_reconstructed"
   ]
  },
  {
   "cell_type": "markdown",
   "metadata": {},
   "source": [
    "### Training"
   ]
  },
  {
   "cell_type": "code",
   "execution_count": 22,
   "metadata": {},
   "outputs": [
    {
     "data": {
      "text/plain": [
       "Conv3DAutoencoder(\n",
       "  (conv1): Conv3d(12, 64, kernel_size=(3, 3, 3), stride=(1, 1, 1), padding=(1, 1, 1))\n",
       "  (conv2): Conv3d(64, 128, kernel_size=(3, 3, 3), stride=(1, 1, 1), padding=(1, 1, 1))\n",
       "  (conv3): Conv3d(128, 256, kernel_size=(3, 3, 3), stride=(1, 1, 1), padding=(1, 1, 1))\n",
       "  (flatten): Flatten(start_dim=1, end_dim=-1)\n",
       "  (fc1): Linear(in_features=28672, out_features=512, bias=True)\n",
       "  (fc2): Linear(in_features=512, out_features=32, bias=True)\n",
       "  (fc3): Linear(in_features=32, out_features=512, bias=True)\n",
       "  (fc4): Linear(in_features=512, out_features=28672, bias=True)\n",
       "  (unflatten): Unflatten(dim=1, unflattened_size=(256, 7, 4, 4))\n",
       "  (deconv1): ConvTranspose3d(256, 128, kernel_size=(3, 3, 3), stride=(1, 1, 1), padding=(1, 1, 1))\n",
       "  (deconv2): ConvTranspose3d(128, 64, kernel_size=(3, 3, 3), stride=(1, 1, 1), padding=(1, 1, 1))\n",
       "  (deconv3): ConvTranspose3d(64, 10, kernel_size=(3, 3, 3), stride=(1, 1, 1), padding=(1, 1, 1))\n",
       ")"
      ]
     },
     "execution_count": 22,
     "metadata": {},
     "output_type": "execute_result"
    }
   ],
   "source": [
    "device = 'cuda'\n",
    "epochs = 50\n",
    "lr = 0.001\n",
    "momentum = 0.9\n",
    "latent_dim = 32\n",
    "in_channels = 12\n",
    "out_channels = 10\n",
    "time_steps = 7\n",
    "optimizer = 'Adam'\n",
    "patch_size = config.subpatch_size\n",
    "\n",
    "model = Conv3DAutoencoder(in_channels, out_channels, time_steps, latent_dim, patch_size)\n",
    "device = torch.device(device)  \n",
    "model.to(device)"
   ]
  },
  {
   "cell_type": "markdown",
   "metadata": {},
   "source": [
    "##### Note: To skip training, skip the next cell and go to evalaution section (just after the loss curves), and uncomment and run the cells for loading the saved models."
   ]
  },
  {
   "cell_type": "code",
   "execution_count": 23,
   "metadata": {},
   "outputs": [
    {
     "name": "stdout",
     "output_type": "stream",
     "text": [
      "Time taken per epoch: 6.8852 seconds\n",
      "Epoch 1/50, Train Loss: 0.002243, Test Loss: 0.000690\n",
      "Time taken per epoch: 6.8231 seconds\n",
      "Epoch 2/50, Train Loss: 0.000564, Test Loss: 0.000613\n",
      "Time taken per epoch: 6.9161 seconds\n",
      "Epoch 3/50, Train Loss: 0.000315, Test Loss: 0.000291\n",
      "Time taken per epoch: 6.8777 seconds\n",
      "Epoch 4/50, Train Loss: 0.000244, Test Loss: 0.000208\n",
      "Time taken per epoch: 6.9096 seconds\n",
      "Epoch 5/50, Train Loss: 0.000214, Test Loss: 0.000202\n",
      "Time taken per epoch: 6.8670 seconds\n",
      "Epoch 6/50, Train Loss: 0.000202, Test Loss: 0.000244\n",
      "Time taken per epoch: 6.8746 seconds\n",
      "Epoch 7/50, Train Loss: 0.000191, Test Loss: 0.000207\n",
      "Time taken per epoch: 6.8132 seconds\n",
      "Epoch 8/50, Train Loss: 0.000183, Test Loss: 0.000191\n",
      "Time taken per epoch: 6.8194 seconds\n",
      "Epoch 9/50, Train Loss: 0.000164, Test Loss: 0.000160\n",
      "Time taken per epoch: 6.8783 seconds\n",
      "Epoch 10/50, Train Loss: 0.000161, Test Loss: 0.000152\n",
      "Time taken per epoch: 6.9038 seconds\n",
      "Epoch 11/50, Train Loss: 0.000150, Test Loss: 0.000145\n",
      "Time taken per epoch: 6.9448 seconds\n",
      "Epoch 12/50, Train Loss: 0.000150, Test Loss: 0.000140\n",
      "Time taken per epoch: 6.9816 seconds\n",
      "Epoch 13/50, Train Loss: 0.000137, Test Loss: 0.000155\n",
      "Time taken per epoch: 6.8624 seconds\n",
      "Epoch 14/50, Train Loss: 0.000130, Test Loss: 0.000134\n",
      "Time taken per epoch: 6.8408 seconds\n",
      "Epoch 15/50, Train Loss: 0.000127, Test Loss: 0.000126\n",
      "Time taken per epoch: 6.8273 seconds\n",
      "Epoch 16/50, Train Loss: 0.000119, Test Loss: 0.000127\n",
      "Time taken per epoch: 6.8081 seconds\n",
      "Epoch 17/50, Train Loss: 0.000118, Test Loss: 0.000127\n",
      "Time taken per epoch: 6.8948 seconds\n",
      "Epoch 18/50, Train Loss: 0.000114, Test Loss: 0.000118\n",
      "Time taken per epoch: 6.9750 seconds\n",
      "Epoch 19/50, Train Loss: 0.000110, Test Loss: 0.000137\n",
      "Time taken per epoch: 6.8649 seconds\n",
      "Epoch 20/50, Train Loss: 0.000108, Test Loss: 0.000113\n",
      "Time taken per epoch: 6.8726 seconds\n",
      "Epoch 21/50, Train Loss: 0.000105, Test Loss: 0.000111\n",
      "Time taken per epoch: 6.9085 seconds\n",
      "Epoch 22/50, Train Loss: 0.000103, Test Loss: 0.000118\n",
      "Time taken per epoch: 6.8270 seconds\n",
      "Epoch 23/50, Train Loss: 0.000100, Test Loss: 0.000107\n",
      "Time taken per epoch: 6.8306 seconds\n",
      "Epoch 24/50, Train Loss: 0.000098, Test Loss: 0.000112\n",
      "Time taken per epoch: 6.8194 seconds\n",
      "Epoch 25/50, Train Loss: 0.000095, Test Loss: 0.000110\n",
      "Time taken per epoch: 7.0448 seconds\n",
      "Epoch 26/50, Train Loss: 0.000091, Test Loss: 0.000103\n",
      "Time taken per epoch: 6.9790 seconds\n",
      "Epoch 27/50, Train Loss: 0.000092, Test Loss: 0.000100\n",
      "Time taken per epoch: 6.8768 seconds\n",
      "Epoch 28/50, Train Loss: 0.000092, Test Loss: 0.000097\n",
      "Time taken per epoch: 6.8463 seconds\n",
      "Epoch 29/50, Train Loss: 0.000085, Test Loss: 0.000107\n",
      "Time taken per epoch: 6.9302 seconds\n",
      "Epoch 30/50, Train Loss: 0.000085, Test Loss: 0.000105\n",
      "Time taken per epoch: 6.8746 seconds\n",
      "Epoch 31/50, Train Loss: 0.000084, Test Loss: 0.000102\n",
      "Time taken per epoch: 6.8527 seconds\n",
      "Epoch 32/50, Train Loss: 0.000081, Test Loss: 0.000093\n",
      "Time taken per epoch: 6.8660 seconds\n",
      "Epoch 33/50, Train Loss: 0.000079, Test Loss: 0.000088\n",
      "Time taken per epoch: 6.8747 seconds\n",
      "Epoch 34/50, Train Loss: 0.000077, Test Loss: 0.000091\n",
      "Time taken per epoch: 6.9130 seconds\n",
      "Epoch 35/50, Train Loss: 0.000078, Test Loss: 0.000121\n",
      "Time taken per epoch: 6.8524 seconds\n",
      "Epoch 36/50, Train Loss: 0.000075, Test Loss: 0.000091\n",
      "Time taken per epoch: 6.8464 seconds\n",
      "Epoch 37/50, Train Loss: 0.000074, Test Loss: 0.000093\n",
      "Time taken per epoch: 6.8351 seconds\n",
      "Epoch 38/50, Train Loss: 0.000070, Test Loss: 0.000114\n",
      "Time taken per epoch: 6.8390 seconds\n",
      "Epoch 39/50, Train Loss: 0.000072, Test Loss: 0.000087\n",
      "Time taken per epoch: 6.8390 seconds\n",
      "Epoch 40/50, Train Loss: 0.000069, Test Loss: 0.000083\n",
      "Time taken per epoch: 6.9099 seconds\n",
      "Epoch 41/50, Train Loss: 0.000069, Test Loss: 0.000089\n",
      "Time taken per epoch: 6.8192 seconds\n",
      "Epoch 42/50, Train Loss: 0.000067, Test Loss: 0.000086\n",
      "Time taken per epoch: 6.8385 seconds\n",
      "Epoch 43/50, Train Loss: 0.000066, Test Loss: 0.000085\n",
      "Time taken per epoch: 6.8379 seconds\n",
      "Epoch 44/50, Train Loss: 0.000063, Test Loss: 0.000092\n",
      "Time taken per epoch: 6.8216 seconds\n",
      "Epoch 45/50, Train Loss: 0.000065, Test Loss: 0.000088\n",
      "Time taken per epoch: 6.8016 seconds\n",
      "Epoch 46/50, Train Loss: 0.000064, Test Loss: 0.000091\n",
      "Time taken per epoch: 6.9191 seconds\n",
      "Epoch 47/50, Train Loss: 0.000060, Test Loss: 0.000082\n",
      "Time taken per epoch: 6.9442 seconds\n",
      "Epoch 48/50, Train Loss: 0.000061, Test Loss: 0.000083\n",
      "Time taken per epoch: 6.8308 seconds\n",
      "Epoch 49/50, Train Loss: 0.000060, Test Loss: 0.000082\n",
      "Time taken per epoch: 6.9764 seconds\n",
      "Epoch 50/50, Train Loss: 0.000060, Test Loss: 0.000090\n"
     ]
    }
   ],
   "source": [
    "trained_model, train_losses, test_losses = train_model_ae_te(model, dataloader_train, dataloader_test, epochs=epochs, optimizer=optimizer, lr=lr, momentum=momentum, device=device)"
   ]
  },
  {
   "cell_type": "markdown",
   "metadata": {},
   "source": [
    "### Evaluation"
   ]
  },
  {
   "cell_type": "code",
   "execution_count": 24,
   "metadata": {},
   "outputs": [
    {
     "data": {
      "image/png": "[encoded data removed]",
      "text/plain": [
       "<Figure size 800x500 with 1 Axes>"
      ]
     },
     "metadata": {},
     "output_type": "display_data"
    }
   ],
   "source": [
    "plot_loss(train_losses, test_losses, title=\" \")"
   ]
  },
  {
   "cell_type": "markdown",
   "metadata": {},
   "source": [
    "##### NOTE: Load Saved Model to skip Training the model"
   ]
  },
  {
   "cell_type": "markdown",
   "metadata": {},
   "source": [
    "Load Saved Model to skip Training"
   ]
  },
  {
   "cell_type": "code",
   "execution_count": 25,
   "metadata": {},
   "outputs": [],
   "source": [
    "# with open(config.kmeans_ae_3D_TE_path, 'rb') as file:\n",
    "#     kmeans = pickle.load(file)"
   ]
  },
  {
   "cell_type": "code",
   "execution_count": 26,
   "metadata": {},
   "outputs": [],
   "source": [
    "# trained_model = Conv3DAutoencoder(channels, time_steps, latent_dim, config.subpatch_size)\n",
    "\n",
    "# with open(config.ae_3d_TE_path, 'rb') as file:\n",
    "#     trained_model = pickle.load(file)"
   ]
  },
  {
   "cell_type": "markdown",
   "metadata": {},
   "source": [
    "##### Metrics"
   ]
  },
  {
   "cell_type": "markdown",
   "metadata": {},
   "source": [
    "Use trained Encoder part to get the features for train, test and evaluation Data"
   ]
  },
  {
   "cell_type": "code",
   "execution_count": 27,
   "metadata": {},
   "outputs": [],
   "source": [
    "train_features, train_coord_dl = extract_features_ae(trained_model, dataloader_train, temp_embed_pixel=False, device=device)\n",
    "test_features, test_coord_dl = extract_features_ae(trained_model, dataloader_test, temp_embed_pixel=False, device=device)\n",
    "eval_features, eval_coord_dl = extract_features_ae(trained_model, dataloader_eval, temp_embed_pixel=False, device=device)\n",
    "\n",
    "train_features = train_features.cpu()\n",
    "test_features = test_features.cpu()\n",
    "eval_features = eval_features.cpu()\n",
    "\n",
    "combined_train_features = torch.cat((train_features, test_features), dim=0)\n",
    "combined_train_coords = train_coord_dl + test_coord_dl"
   ]
  },
  {
   "cell_type": "markdown",
   "metadata": {},
   "source": [
    "K-means on extracted features"
   ]
  },
  {
   "cell_type": "code",
   "execution_count": 28,
   "metadata": {},
   "outputs": [],
   "source": [
    "kmeans = kmeans_function(combined_train_features, n_clusters=2, random_state=26)   #skip when using saved model"
   ]
  },
  {
   "cell_type": "code",
   "execution_count": 29,
   "metadata": {},
   "outputs": [],
   "source": [
    "train_subpatch_predictions = kmeans.predict(combined_train_features.reshape(combined_train_features.size(0), -1).numpy().astype(np.float32))\n",
    "eval_subpatch_predictions = kmeans.predict(eval_features.reshape(eval_features.size(0), -1).numpy().astype(np.float32))"
   ]
  },
  {
   "cell_type": "markdown",
   "metadata": {},
   "source": [
    "Clustering Accuracy"
   ]
  },
  {
   "cell_type": "code",
   "execution_count": 30,
   "metadata": {},
   "outputs": [
    {
     "name": "stdout",
     "output_type": "stream",
     "text": [
      "Disease cluster: 1\n",
      "Accuracy: 73.77\n",
      "Precision: 74.36\n",
      "Recall: 82.86\n",
      "F1-score: 78.38\n",
      "F2-score: 81.01\n"
     ]
    }
   ],
   "source": [
    "disease, acc, precision, recall, f1_score, f2_score = evaluate_clustering_metrics(eval_coord_dl, eval_subpatch_predictions, config.labels_path, config.subpatch_to_patch_threshold)\n",
    "print(\"Disease cluster:\", disease)\n",
    "print(\"Accuracy:\",acc)\n",
    "print(\"Precision:\",precision)\n",
    "print(\"Recall:\",recall)\n",
    "print(\"F1-score:\",f1_score)\n",
    "print(\"F2-score:\", f2_score)"
   ]
  },
  {
   "cell_type": "markdown",
   "metadata": {},
   "source": [
    "Save Models"
   ]
  },
  {
   "cell_type": "code",
   "execution_count": 31,
   "metadata": {},
   "outputs": [],
   "source": [
    "# with open(config.ae_3d_TE_path, 'wb') as file:\n",
    "#     pickle.dump(trained_model, file)"
   ]
  },
  {
   "cell_type": "code",
   "execution_count": 32,
   "metadata": {},
   "outputs": [],
   "source": [
    "# with open(config.kmeans_ae_3D_TE_path, 'wb') as file:\n",
    "#     pickle.dump(kmeans, file)"
   ]
  },
  {
   "cell_type": "markdown",
   "metadata": {},
   "source": [
    "### Visualisations"
   ]
  },
  {
   "cell_type": "markdown",
   "metadata": {},
   "source": [
    "Visualise Sub-patch-level Reconstructions => Random Image"
   ]
  },
  {
   "cell_type": "code",
   "execution_count": 41,
   "metadata": {},
   "outputs": [
    {
     "data": {
      "image/png": "[encoded data removed]",
      "text/plain": [
       "<Figure size 2100x600 with 14 Axes>"
      ]
     },
     "metadata": {},
     "output_type": "display_data"
    }
   ],
   "source": [
    "plot_reconstructed_subpatches_temporal(trained_model, dataloader_train, 1, device)"
   ]
  },
  {
   "cell_type": "markdown",
   "metadata": {},
   "source": [
    "Map subpatch-level to patches and Visualise Patch level reconstructions => Random Image"
   ]
  },
  {
   "cell_type": "code",
   "execution_count": 69,
   "metadata": {},
   "outputs": [
    {
     "data": {
      "image/png": "[encoded data removed]",
      "text/plain": [
       "<Figure size 2100x600 with 14 Axes>"
      ]
     },
     "metadata": {},
     "output_type": "display_data"
    }
   ],
   "source": [
    "plot_reconstructed_patches_temporal(trained_model, dataloader_eval, old_images_eval, 1, device)"
   ]
  },
  {
   "cell_type": "code",
   "execution_count": null,
   "metadata": {},
   "outputs": [],
   "source": []
  },
  {
   "cell_type": "code",
   "execution_count": null,
   "metadata": {},
   "outputs": [],
   "source": []
  },
  {
   "cell_type": "markdown",
   "metadata": {},
   "source": [
    "## Dataset prep: B10 with Temporal Encodings as addition"
   ]
  },
  {
   "cell_type": "markdown",
   "metadata": {},
   "source": [
    "### Loading the pre-processed data\n",
    "\n",
    "Data: Extracted and Pre-processed Patches (each patch containing a sugarbeet field)\n",
    "\n",
    "Dimensions: (N, T, C, H, W) = (N, 7, 10, 64, 64)"
   ]
  },
  {
   "cell_type": "code",
   "execution_count": 4,
   "metadata": {},
   "outputs": [
    {
     "data": {
      "text/plain": [
       "(torch.Size([1228, 7, 10, 64, 64]), torch.Size([48, 7, 10, 64, 64]))"
      ]
     },
     "execution_count": 4,
     "metadata": {},
     "output_type": "execute_result"
    }
   ],
   "source": [
    "preprocessing_pipeline = PreProcessingPipelineTemporal()\n",
    "field_numbers_train, acquisition_dates_train, date_emb_train, patch_tensor_train, images_visualisation_train = preprocessing_pipeline.get_processed_temporal_cubes('train', 'b10_add', method='sin-cos')\n",
    "field_numbers_eval, acquisition_dates_eval, date_emb_eval, patch_tensor_eval, images_visualisation_eval = preprocessing_pipeline.get_processed_temporal_cubes('eval', 'b10_add', method='sin-cos')\n",
    "patch_tensor_train.shape, patch_tensor_eval.shape"
   ]
  },
  {
   "cell_type": "code",
   "execution_count": 5,
   "metadata": {},
   "outputs": [
    {
     "data": {
      "text/plain": [
       "[np.float64(0.2348860457809847), np.float64(-0.9720229140804105)]"
      ]
     },
     "execution_count": 5,
     "metadata": {},
     "output_type": "execute_result"
    }
   ],
   "source": [
    "date_emb_train[0][0]   # [sin, cos]"
   ]
  },
  {
   "cell_type": "markdown",
   "metadata": {},
   "source": [
    "Dictionary for subpatch-to-patch mapping of reconstructed images"
   ]
  },
  {
   "cell_type": "code",
   "execution_count": 6,
   "metadata": {},
   "outputs": [],
   "source": [
    "old_images_train = {fn: img for fn, img in zip(field_numbers_train, images_visualisation_train)}\n",
    "old_images_eval = {fn: img for fn, img in zip(field_numbers_eval, images_visualisation_eval)}"
   ]
  },
  {
   "cell_type": "code",
   "execution_count": 7,
   "metadata": {},
   "outputs": [],
   "source": [
    "acq_dict_train = {fn: date for fn, date in zip(field_numbers_train, acquisition_dates_train)}\n",
    "acq_dict_eval = {fn: date for fn, date in zip(field_numbers_train, acquisition_dates_eval)}"
   ]
  },
  {
   "cell_type": "markdown",
   "metadata": {},
   "source": [
    "### Create Sub-Patches"
   ]
  },
  {
   "cell_type": "code",
   "execution_count": 8,
   "metadata": {},
   "outputs": [
    {
     "data": {
      "text/plain": [
       "(torch.Size([33128, 7, 10, 4, 4]), torch.Size([1197, 7, 10, 4, 4]))"
      ]
     },
     "execution_count": 8,
     "metadata": {},
     "output_type": "execute_result"
    }
   ],
   "source": [
    "train_subpatches, train_subpatch_coords, train_subpatch_date_emb = non_overlapping_sliding_window_with_date_emb(patch_tensor_train, field_numbers_train, date_emb_train, patch_size=config.subpatch_size)\n",
    "eval_subpatches, eval_subpatch_coords, eval_subpatch_date_emb = non_overlapping_sliding_window_with_date_emb(patch_tensor_eval, field_numbers_eval, date_emb_eval, patch_size=config.subpatch_size)\n",
    "train_subpatches.shape, eval_subpatches.shape"
   ]
  },
  {
   "cell_type": "markdown",
   "metadata": {},
   "source": [
    "Get field numbers and co-ordinates as string"
   ]
  },
  {
   "cell_type": "code",
   "execution_count": 9,
   "metadata": {},
   "outputs": [
    {
     "data": {
      "text/plain": [
       "('1168039.0_20_24', 1197, 33128)"
      ]
     },
     "execution_count": 9,
     "metadata": {},
     "output_type": "execute_result"
    }
   ],
   "source": [
    "train_coord_dataloader = get_string_fielddata(train_subpatch_coords)\n",
    "eval_coord_dataloader = get_string_fielddata(eval_subpatch_coords)\n",
    "eval_coord_dataloader[0], len(eval_coord_dataloader), len(train_coord_dataloader)"
   ]
  },
  {
   "cell_type": "markdown",
   "metadata": {},
   "source": [
    "### Split Unlabeled data into 'train' and 'test' and create  Data Loaders\n",
    "The data loader function for MAE is used since it is designed to take temporal encodings additionally"
   ]
  },
  {
   "cell_type": "code",
   "execution_count": 10,
   "metadata": {},
   "outputs": [],
   "source": [
    "train_subpatches_dl, test_subpatches, train_field_numbers, test_field_numbers, train_date_embeddings, test_date_embeddings = train_test_split(\n",
    "    train_subpatches, train_coord_dataloader, train_subpatch_date_emb, test_size=1-config.ae_train_test_ratio, random_state=42\n",
    ")\n",
    "\n",
    "dataloader_train = create_data_loader_mae(train_subpatches_dl, train_field_numbers, train_date_embeddings, mae=False, batch_size=config.ae_batch_size, shuffle=True)\n",
    "dataloader_test = create_data_loader_mae(test_subpatches, test_field_numbers, test_date_embeddings, mae=False, batch_size=config.ae_batch_size, shuffle=False)\n",
    "dataloader_eval = create_data_loader_mae(eval_subpatches, eval_coord_dataloader, eval_subpatch_date_emb, mae=False, batch_size=config.ae_batch_size, shuffle=False)"
   ]
  },
  {
   "cell_type": "markdown",
   "metadata": {},
   "source": [
    "## Modeling: Conv3D Autoencoder with Pixel-level Date Encodings addition"
   ]
  },
  {
   "cell_type": "markdown",
   "metadata": {},
   "source": [
    "### Architecture"
   ]
  },
  {
   "cell_type": "markdown",
   "metadata": {},
   "source": [
    "Input Data: ( N x C x D x H x W )"
   ]
  },
  {
   "cell_type": "code",
   "execution_count": 11,
   "metadata": {},
   "outputs": [],
   "source": [
    "class Conv3DAutoencoder(nn.Module):\n",
    "    def __init__(self, in_channels, time_steps, latent_size, patch_size):\n",
    "        super(Conv3DAutoencoder, self).__init__()\n",
    "\n",
    "        self.time_steps = time_steps\n",
    "        self.in_channels = in_channels\n",
    "        self.patch_size = patch_size\n",
    "\n",
    "        # --- Encoder (3D Convolutions) ---\n",
    "        self.conv1 = nn.Conv3d(in_channels, 64, kernel_size=3, stride=1, padding=1)\n",
    "        self.conv2 = nn.Conv3d(64, 128, kernel_size=3, stride=1, padding=1)\n",
    "        self.conv3 = nn.Conv3d(128, 256, kernel_size=3, stride=1, padding=1)\n",
    "\n",
    "        # --- Fully Connected Latent Space ---\n",
    "        self.flatten = nn.Flatten()\n",
    "        self.fc1 = nn.Linear(256 * patch_size * patch_size * time_steps, 512)   \n",
    "        self.fc2 = nn.Linear(512, latent_size)\n",
    "\n",
    "        # --- Decoder (Fully Connected) ---\n",
    "        self.fc3 = nn.Linear(latent_size, 512)\n",
    "        self.fc4 = nn.Linear(512, 256 * patch_size * patch_size * time_steps)\n",
    "\n",
    "        # --- 3D Deconvolutions (Transpose convolutions) ---\n",
    "        self.unflatten = nn.Unflatten(1, (256, time_steps, patch_size, patch_size))\n",
    "        self.deconv1 = nn.ConvTranspose3d(256, 128, kernel_size=3, stride=1, padding=1)\n",
    "        self.deconv2 = nn.ConvTranspose3d(128, 64, kernel_size=3, stride=1, padding=1)\n",
    "        self.deconv3 = nn.ConvTranspose3d(64, in_channels, kernel_size=3, stride=1, padding=1)\n",
    "\n",
    "        # --- Temporal embedding projection to match channels (needed for alignment) ---\n",
    "        self.temb_proj = nn.Conv3d(2, in_channels, kernel_size=1)\n",
    "\n",
    "\n",
    "    def forward(self, x, date_embeddings):\n",
    "\n",
    "        # --- Date embedding processing ---\n",
    "        # Convert the date embeddings to the shape (B, 2, 7, 4, 4)\n",
    "        if not isinstance(date_embeddings, torch.Tensor):\n",
    "            date_embeddings_tensor = torch.tensor(date_embeddings, dtype=torch.float32).to(x.device)    # Shape: (B, 7, 2)\n",
    "        date_embeddings_tensor = date_embeddings_tensor.permute(0, 2, 1)                                # Shape: (B, 2, 7)\n",
    "        date_embeddings_tensor = date_embeddings_tensor.unsqueeze(-1).unsqueeze(-1)                     # Shape: (B, 2, 7, 1, 1)\n",
    "        date_embeddings_tensor = date_embeddings_tensor.expand(-1, -1, -1, x.shape[3], x.shape[4])      # Shape: (B, 2, 7, 4, 4)\n",
    "\n",
    "        # Project the date embeddings to match the channels\n",
    "        date_embeddings_tensor = self.temb_proj(date_embeddings_tensor)                                 # Shape: (B, 10, 7, 4, 4)\n",
    "        # print('x shape before time embedding:',x.shape)\n",
    "        # print('time embeddings:',date_embeddings_tensor.shape)\n",
    "        \n",
    "        # --- Add date embeddings to the input tensor ---\n",
    "        x = x + date_embeddings_tensor                                                                  # Shape: (B, 10, 7, 4, 4)\n",
    "        # print('x shape after time embedding',x.shape)\n",
    "        \n",
    "        # --- Encoder ---\n",
    "        x = F.relu(self.conv1(x))\n",
    "        x = F.relu(self.conv2(x))\n",
    "        x = F.relu(self.conv3(x))\n",
    "\n",
    "        # --- Flatten and Fully Connected ---\n",
    "        b, c, t, h, w = x.shape                 # (B, C, T, H, W)\n",
    "        x = self.flatten(x)  \n",
    "        x = F.relu(self.fc1(x))\n",
    "        z = self.fc2(x)                         # Bottleneck    \n",
    "\n",
    "        # --- Decoder ---\n",
    "        x = F.relu(self.fc3(z))\n",
    "        x = F.relu(self.fc4(x))\n",
    "\n",
    "        # --- Reshape and 3D Deconvolutions ---\n",
    "        x = self.unflatten(x)                   # (B, C, H, W, T)\n",
    "        x = F.relu(self.deconv1(x))\n",
    "        x = F.relu(self.deconv2(x))\n",
    "        x_reconstructed = self.deconv3(x)       # Reconstruction\n",
    "\n",
    "        return z, x_reconstructed"
   ]
  },
  {
   "cell_type": "markdown",
   "metadata": {},
   "source": [
    "### Training"
   ]
  },
  {
   "cell_type": "code",
   "execution_count": 12,
   "metadata": {},
   "outputs": [
    {
     "data": {
      "text/plain": [
       "Conv3DAutoencoder(\n",
       "  (conv1): Conv3d(10, 64, kernel_size=(3, 3, 3), stride=(1, 1, 1), padding=(1, 1, 1))\n",
       "  (conv2): Conv3d(64, 128, kernel_size=(3, 3, 3), stride=(1, 1, 1), padding=(1, 1, 1))\n",
       "  (conv3): Conv3d(128, 256, kernel_size=(3, 3, 3), stride=(1, 1, 1), padding=(1, 1, 1))\n",
       "  (flatten): Flatten(start_dim=1, end_dim=-1)\n",
       "  (fc1): Linear(in_features=28672, out_features=512, bias=True)\n",
       "  (fc2): Linear(in_features=512, out_features=32, bias=True)\n",
       "  (fc3): Linear(in_features=32, out_features=512, bias=True)\n",
       "  (fc4): Linear(in_features=512, out_features=28672, bias=True)\n",
       "  (unflatten): Unflatten(dim=1, unflattened_size=(256, 7, 4, 4))\n",
       "  (deconv1): ConvTranspose3d(256, 128, kernel_size=(3, 3, 3), stride=(1, 1, 1), padding=(1, 1, 1))\n",
       "  (deconv2): ConvTranspose3d(128, 64, kernel_size=(3, 3, 3), stride=(1, 1, 1), padding=(1, 1, 1))\n",
       "  (deconv3): ConvTranspose3d(64, 10, kernel_size=(3, 3, 3), stride=(1, 1, 1), padding=(1, 1, 1))\n",
       "  (temb_proj): Conv3d(2, 10, kernel_size=(1, 1, 1), stride=(1, 1, 1))\n",
       ")"
      ]
     },
     "execution_count": 12,
     "metadata": {},
     "output_type": "execute_result"
    }
   ],
   "source": [
    "device = 'cuda'\n",
    "epochs = 50\n",
    "lr = 0.001\n",
    "momentum = 0.9\n",
    "latent_dim = 32\n",
    "channels = 10\n",
    "time_steps = 7\n",
    "optimizer = 'Adam'\n",
    "patch_size = config.subpatch_size\n",
    "\n",
    "model = Conv3DAutoencoder(channels, time_steps, latent_dim, patch_size)\n",
    "device = torch.device(device)  \n",
    "model.to(device)"
   ]
  },
  {
   "cell_type": "markdown",
   "metadata": {},
   "source": [
    "##### Note: To skip training, skip the next cell and go to evalaution section (just after the loss curves), and uncomment and run the cells for loading the saved models."
   ]
  },
  {
   "cell_type": "code",
   "execution_count": 164,
   "metadata": {},
   "outputs": [
    {
     "name": "stdout",
     "output_type": "stream",
     "text": [
      "Time taken per epoch: 6.9149 seconds\n",
      "Epoch 1/50, Train Loss: 0.004377, Test Loss: 0.000746\n",
      "Time taken per epoch: 6.8594 seconds\n",
      "Epoch 2/50, Train Loss: 0.000582, Test Loss: 0.000402\n",
      "Time taken per epoch: 6.8841 seconds\n",
      "Epoch 3/50, Train Loss: 0.000330, Test Loss: 0.000444\n",
      "Time taken per epoch: 6.8778 seconds\n",
      "Epoch 4/50, Train Loss: 0.000249, Test Loss: 0.000235\n",
      "Time taken per epoch: 6.8847 seconds\n",
      "Epoch 5/50, Train Loss: 0.000228, Test Loss: 0.000216\n",
      "Time taken per epoch: 6.9891 seconds\n",
      "Epoch 6/50, Train Loss: 0.000210, Test Loss: 0.000219\n",
      "Time taken per epoch: 6.9550 seconds\n",
      "Epoch 7/50, Train Loss: 0.000196, Test Loss: 0.000233\n",
      "Time taken per epoch: 6.9170 seconds\n",
      "Epoch 8/50, Train Loss: 0.000181, Test Loss: 0.000179\n",
      "Time taken per epoch: 6.8755 seconds\n",
      "Epoch 9/50, Train Loss: 0.000167, Test Loss: 0.000163\n",
      "Time taken per epoch: 6.8959 seconds\n",
      "Epoch 10/50, Train Loss: 0.000162, Test Loss: 0.000235\n",
      "Time taken per epoch: 6.8722 seconds\n",
      "Epoch 11/50, Train Loss: 0.000156, Test Loss: 0.000202\n",
      "Time taken per epoch: 6.8639 seconds\n",
      "Epoch 12/50, Train Loss: 0.000147, Test Loss: 0.000188\n",
      "Time taken per epoch: 6.8702 seconds\n",
      "Epoch 13/50, Train Loss: 0.000141, Test Loss: 0.000159\n",
      "Time taken per epoch: 6.8842 seconds\n",
      "Epoch 14/50, Train Loss: 0.000136, Test Loss: 0.000133\n",
      "Time taken per epoch: 6.8678 seconds\n",
      "Epoch 15/50, Train Loss: 0.000134, Test Loss: 0.000133\n",
      "Time taken per epoch: 6.8776 seconds\n",
      "Epoch 16/50, Train Loss: 0.000127, Test Loss: 0.000224\n",
      "Time taken per epoch: 6.9655 seconds\n",
      "Epoch 17/50, Train Loss: 0.000124, Test Loss: 0.000117\n",
      "Time taken per epoch: 6.9635 seconds\n",
      "Epoch 18/50, Train Loss: 0.000120, Test Loss: 0.000159\n",
      "Time taken per epoch: 6.9102 seconds\n",
      "Epoch 19/50, Train Loss: 0.000118, Test Loss: 0.000153\n",
      "Time taken per epoch: 6.9260 seconds\n",
      "Epoch 20/50, Train Loss: 0.000115, Test Loss: 0.000113\n",
      "Time taken per epoch: 6.8840 seconds\n",
      "Epoch 21/50, Train Loss: 0.000107, Test Loss: 0.000111\n",
      "Time taken per epoch: 6.9343 seconds\n",
      "Epoch 22/50, Train Loss: 0.000104, Test Loss: 0.000123\n",
      "Time taken per epoch: 6.8858 seconds\n",
      "Epoch 23/50, Train Loss: 0.000106, Test Loss: 0.000108\n",
      "Time taken per epoch: 6.8829 seconds\n",
      "Epoch 24/50, Train Loss: 0.000102, Test Loss: 0.000101\n",
      "Time taken per epoch: 6.9020 seconds\n",
      "Epoch 25/50, Train Loss: 0.000102, Test Loss: 0.000137\n",
      "Time taken per epoch: 6.8974 seconds\n",
      "Epoch 26/50, Train Loss: 0.000097, Test Loss: 0.000099\n",
      "Time taken per epoch: 6.8631 seconds\n",
      "Epoch 27/50, Train Loss: 0.000097, Test Loss: 0.000096\n",
      "Time taken per epoch: 6.8655 seconds\n",
      "Epoch 28/50, Train Loss: 0.000096, Test Loss: 0.000112\n",
      "Time taken per epoch: 6.9056 seconds\n",
      "Epoch 29/50, Train Loss: 0.000091, Test Loss: 0.000105\n",
      "Time taken per epoch: 6.9010 seconds\n",
      "Epoch 30/50, Train Loss: 0.000091, Test Loss: 0.000103\n",
      "Time taken per epoch: 6.8715 seconds\n",
      "Epoch 31/50, Train Loss: 0.000089, Test Loss: 0.000122\n",
      "Time taken per epoch: 6.8809 seconds\n",
      "Epoch 32/50, Train Loss: 0.000086, Test Loss: 0.000114\n",
      "Time taken per epoch: 6.8660 seconds\n",
      "Epoch 33/50, Train Loss: 0.000087, Test Loss: 0.000120\n",
      "Time taken per epoch: 6.8758 seconds\n",
      "Epoch 34/50, Train Loss: 0.000081, Test Loss: 0.000105\n",
      "Time taken per epoch: 6.8930 seconds\n",
      "Epoch 35/50, Train Loss: 0.000082, Test Loss: 0.000088\n",
      "Time taken per epoch: 6.8636 seconds\n",
      "Epoch 36/50, Train Loss: 0.000080, Test Loss: 0.000089\n",
      "Time taken per epoch: 6.8579 seconds\n",
      "Epoch 37/50, Train Loss: 0.000080, Test Loss: 0.000098\n",
      "Time taken per epoch: 6.8581 seconds\n",
      "Epoch 38/50, Train Loss: 0.000074, Test Loss: 0.000088\n",
      "Time taken per epoch: 6.8755 seconds\n",
      "Epoch 39/50, Train Loss: 0.000077, Test Loss: 0.000117\n",
      "Time taken per epoch: 6.9552 seconds\n",
      "Epoch 40/50, Train Loss: 0.000075, Test Loss: 0.000086\n",
      "Time taken per epoch: 6.9326 seconds\n",
      "Epoch 41/50, Train Loss: 0.000073, Test Loss: 0.000082\n",
      "Time taken per epoch: 6.9431 seconds\n",
      "Epoch 42/50, Train Loss: 0.000072, Test Loss: 0.000085\n",
      "Time taken per epoch: 6.9272 seconds\n",
      "Epoch 43/50, Train Loss: 0.000071, Test Loss: 0.000089\n",
      "Time taken per epoch: 6.8906 seconds\n",
      "Epoch 44/50, Train Loss: 0.000070, Test Loss: 0.000094\n",
      "Time taken per epoch: 6.8862 seconds\n",
      "Epoch 45/50, Train Loss: 0.000069, Test Loss: 0.000092\n",
      "Time taken per epoch: 6.8700 seconds\n",
      "Epoch 46/50, Train Loss: 0.000067, Test Loss: 0.000086\n",
      "Time taken per epoch: 6.8494 seconds\n",
      "Epoch 47/50, Train Loss: 0.000064, Test Loss: 0.000084\n",
      "Time taken per epoch: 6.8559 seconds\n",
      "Epoch 48/50, Train Loss: 0.000067, Test Loss: 0.000081\n",
      "Time taken per epoch: 6.8896 seconds\n",
      "Epoch 49/50, Train Loss: 0.000063, Test Loss: 0.000079\n",
      "Time taken per epoch: 6.8757 seconds\n",
      "Epoch 50/50, Train Loss: 0.000064, Test Loss: 0.000089\n"
     ]
    }
   ],
   "source": [
    "trained_model, train_losses, test_losses = train_model_ae_te_pixel(model, dataloader_train, dataloader_test, epochs=epochs, optimizer=optimizer, lr=lr, momentum=momentum, device=device)"
   ]
  },
  {
   "cell_type": "markdown",
   "metadata": {},
   "source": [
    "### Evaluation"
   ]
  },
  {
   "cell_type": "code",
   "execution_count": 165,
   "metadata": {},
   "outputs": [
    {
     "data": {
      "image/png": "[encoded data removed]",
      "text/plain": [
       "<Figure size 800x500 with 1 Axes>"
      ]
     },
     "metadata": {},
     "output_type": "display_data"
    }
   ],
   "source": [
    "plot_loss(train_losses, test_losses, title=\" \")"
   ]
  },
  {
   "cell_type": "markdown",
   "metadata": {},
   "source": [
    "##### NOTE: Load Saved Model to skip Training the model"
   ]
  },
  {
   "cell_type": "markdown",
   "metadata": {},
   "source": [
    "Load Saved Model to skip Training"
   ]
  },
  {
   "cell_type": "code",
   "execution_count": 14,
   "metadata": {},
   "outputs": [
    {
     "name": "stderr",
     "output_type": "stream",
     "text": [
      "/home/k64835/Master-Thesis-SITS/.venv/lib/python3.12/site-packages/sklearn/base.py:380: InconsistentVersionWarning: Trying to unpickle estimator KMeans from version 1.3.2 when using version 1.6.1. This might lead to breaking code or invalid results. Use at your own risk. For more info please refer to:\n",
      "https://scikit-learn.org/stable/model_persistence.html#security-maintainability-limitations\n",
      "  warnings.warn(\n"
     ]
    }
   ],
   "source": [
    "# with open(config.kmeans_ae_3D_TEadd_path, 'rb') as file:\n",
    "#     kmeans = pickle.load(file)"
   ]
  },
  {
   "cell_type": "code",
   "execution_count": 18,
   "metadata": {},
   "outputs": [
    {
     "data": {
      "text/plain": [
       "Conv3DAutoencoder(\n",
       "  (conv1): Conv3d(10, 64, kernel_size=(3, 3, 3), stride=(1, 1, 1), padding=(1, 1, 1))\n",
       "  (conv2): Conv3d(64, 128, kernel_size=(3, 3, 3), stride=(1, 1, 1), padding=(1, 1, 1))\n",
       "  (conv3): Conv3d(128, 256, kernel_size=(3, 3, 3), stride=(1, 1, 1), padding=(1, 1, 1))\n",
       "  (flatten): Flatten(start_dim=1, end_dim=-1)\n",
       "  (fc1): Linear(in_features=28672, out_features=512, bias=True)\n",
       "  (fc2): Linear(in_features=512, out_features=32, bias=True)\n",
       "  (fc3): Linear(in_features=32, out_features=512, bias=True)\n",
       "  (fc4): Linear(in_features=512, out_features=28672, bias=True)\n",
       "  (unflatten): Unflatten(dim=1, unflattened_size=(256, 7, 4, 4))\n",
       "  (deconv1): ConvTranspose3d(256, 128, kernel_size=(3, 3, 3), stride=(1, 1, 1), padding=(1, 1, 1))\n",
       "  (deconv2): ConvTranspose3d(128, 64, kernel_size=(3, 3, 3), stride=(1, 1, 1), padding=(1, 1, 1))\n",
       "  (deconv3): ConvTranspose3d(64, 10, kernel_size=(3, 3, 3), stride=(1, 1, 1), padding=(1, 1, 1))\n",
       "  (temb_proj): Conv3d(2, 10, kernel_size=(1, 1, 1), stride=(1, 1, 1))\n",
       ")"
      ]
     },
     "execution_count": 18,
     "metadata": {},
     "output_type": "execute_result"
    }
   ],
   "source": [
    "# device = 'cuda'\n",
    "# latent_dim = 32\n",
    "# channels = 10\n",
    "# time_steps = 7\n",
    "# trained_model = Conv3DAutoencoder(channels, time_steps, latent_dim, config.subpatch_size)\n",
    "\n",
    "# with open(config.ae_3d_TEadd_path, 'rb') as file:\n",
    "#     trained_model = pickle.load(file)\n",
    "\n",
    "# trained_model.to(device)"
   ]
  },
  {
   "cell_type": "markdown",
   "metadata": {},
   "source": [
    "##### Metrics"
   ]
  },
  {
   "cell_type": "markdown",
   "metadata": {},
   "source": [
    "Use trained Encoder part to get the features for train, test and evaluation Data"
   ]
  },
  {
   "cell_type": "code",
   "execution_count": 19,
   "metadata": {},
   "outputs": [],
   "source": [
    "train_features, train_coord_dl = extract_features_ae(trained_model, dataloader_train, temp_embed_pixel=True, device=device)\n",
    "test_features, test_coord_dl = extract_features_ae(trained_model, dataloader_test, temp_embed_pixel=True, device=device)\n",
    "eval_features, eval_coord_dl = extract_features_ae(trained_model, dataloader_eval, temp_embed_pixel=True, device=device)\n",
    "\n",
    "train_features = train_features.cpu()\n",
    "test_features = test_features.cpu()\n",
    "eval_features = eval_features.cpu()\n",
    "\n",
    "combined_train_features = torch.cat((train_features, test_features), dim=0)\n",
    "combined_train_coords = train_coord_dl + test_coord_dl"
   ]
  },
  {
   "cell_type": "markdown",
   "metadata": {},
   "source": [
    "K-means on extracted features"
   ]
  },
  {
   "cell_type": "code",
   "execution_count": 169,
   "metadata": {},
   "outputs": [],
   "source": [
    "kmeans = kmeans_function(combined_train_features, n_clusters=2, random_state=29)  # skip when loading saved models"
   ]
  },
  {
   "cell_type": "code",
   "execution_count": 20,
   "metadata": {},
   "outputs": [],
   "source": [
    "train_subpatch_predictions = kmeans.predict(combined_train_features.reshape(combined_train_features.size(0), -1).numpy().astype(np.float32))\n",
    "eval_subpatch_predictions = kmeans.predict(eval_features.reshape(eval_features.size(0), -1).numpy().astype(np.float32))"
   ]
  },
  {
   "cell_type": "code",
   "execution_count": 21,
   "metadata": {},
   "outputs": [
    {
     "name": "stdout",
     "output_type": "stream",
     "text": [
      "{np.int32(0): np.int64(375), np.int32(1): np.int64(822)}\n"
     ]
    }
   ],
   "source": [
    "unique, counts = np.unique(eval_subpatch_predictions, return_counts=True)\n",
    "print(dict(zip(unique, counts)))"
   ]
  },
  {
   "cell_type": "markdown",
   "metadata": {},
   "source": [
    "Clustering Accuracy"
   ]
  },
  {
   "cell_type": "code",
   "execution_count": 22,
   "metadata": {},
   "outputs": [
    {
     "name": "stdout",
     "output_type": "stream",
     "text": [
      "Disease cluster: 1\n",
      "Accuracy: 67.21\n",
      "Precision: 67.44\n",
      "Recall: 82.86\n",
      "F1-score: 74.36\n",
      "F2-score: 79.23\n"
     ]
    }
   ],
   "source": [
    "disease, acc, precision, recall, f1_score, f2_score = evaluate_clustering_metrics(eval_coord_dl, eval_subpatch_predictions, config.labels_path, config.subpatch_to_patch_threshold, '3D_AE', True)  #for saving predictions\n",
    "# disease, acc, precision, recall, f1_score, f2_score = evaluate_clustering_metrics(eval_coord_dl, eval_subpatch_predictions, config.labels_path, config.subpatch_to_patch_threshold)\n",
    "print(\"Disease cluster:\", disease)\n",
    "print(\"Accuracy:\",acc)\n",
    "print(\"Precision:\",precision)\n",
    "print(\"Recall:\",recall)\n",
    "print(\"F1-score:\",f1_score)\n",
    "print(\"F2-score:\", f2_score)"
   ]
  },
  {
   "cell_type": "markdown",
   "metadata": {},
   "source": [
    "Assign field labels to training data for creating final visualisation images"
   ]
  },
  {
   "cell_type": "code",
   "execution_count": null,
   "metadata": {},
   "outputs": [],
   "source": [
    "train_field_labels = assign_field_labels_ae_train(combined_train_coords, train_subpatch_predictions, disease, config.subpatch_to_patch_threshold) #for box drawing"
   ]
  },
  {
   "cell_type": "markdown",
   "metadata": {},
   "source": [
    "Save Models"
   ]
  },
  {
   "cell_type": "code",
   "execution_count": 173,
   "metadata": {},
   "outputs": [],
   "source": [
    "# with open(config.ae_3d_TEadd_path, 'wb') as file:\n",
    "#     pickle.dump(trained_model, file)"
   ]
  },
  {
   "cell_type": "code",
   "execution_count": 174,
   "metadata": {},
   "outputs": [],
   "source": [
    "# with open(config.kmeans_ae_3D_TEadd_path, 'wb') as file:\n",
    "#     pickle.dump(kmeans, file)"
   ]
  },
  {
   "cell_type": "markdown",
   "metadata": {},
   "source": [
    "### Visualisations"
   ]
  },
  {
   "cell_type": "markdown",
   "metadata": {},
   "source": [
    "Visualise Sub-patch-level Reconstructions => Random Image"
   ]
  },
  {
   "cell_type": "code",
   "execution_count": 33,
   "metadata": {},
   "outputs": [
    {
     "data": {
      "image/png": "[encoded data removed]",
      "text/plain": [
       "<Figure size 2100x600 with 14 Axes>"
      ]
     },
     "metadata": {},
     "output_type": "display_data"
    }
   ],
   "source": [
    "plot_reconstructed_subpatches_temporal(trained_model, dataloader_eval, 1, device, model_type='ae_te')"
   ]
  },
  {
   "cell_type": "markdown",
   "metadata": {},
   "source": [
    "Map subpatch-level to patches and Visualise Patch level reconstructions => Random Image"
   ]
  },
  {
   "cell_type": "code",
   "execution_count": 47,
   "metadata": {},
   "outputs": [
    {
     "name": "stderr",
     "output_type": "stream",
     "text": [
      "/tmp/ipykernel_277975/2135193741.py:37: UserWarning: To copy construct from a tensor, it is recommended to use sourceTensor.clone().detach() or sourceTensor.clone().detach().requires_grad_(True), rather than torch.tensor(sourceTensor).\n",
      "  date_embeddings_tensor = torch.tensor(date_embeddings, dtype=torch.float32).to(x.device)    # Shape: (B, 7, 2)\n"
     ]
    },
    {
     "data": {
      "image/png": "[encoded data removed]",
      "text/plain": [
       "<Figure size 2100x600 with 14 Axes>"
      ]
     },
     "metadata": {},
     "output_type": "display_data"
    }
   ],
   "source": [
    "plot_reconstructed_patches_temporal(trained_model, dataloader_eval, old_images_eval, 1, device, model_type='ae_te')"
   ]
  },
  {
   "cell_type": "code",
   "execution_count": null,
   "metadata": {},
   "outputs": [],
   "source": []
  }
 ],
 "metadata": {
  "kernelspec": {
   "display_name": "Python 3",
   "language": "python",
   "name": "python3"
  },
  "language_info": {
   "codemirror_mode": {
    "name": "ipython",
    "version": 3
   },
   "file_extension": ".py",
   "mimetype": "text/x-python",
   "name": "python",
   "nbconvert_exporter": "python",
   "pygments_lexer": "ipython3",
   "version": "3.12.3"
  }
 },
 "nbformat": 4,
 "nbformat_minor": 2
}
