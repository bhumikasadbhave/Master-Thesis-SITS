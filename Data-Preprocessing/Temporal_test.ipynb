{
 "cells": [
  {
   "cell_type": "code",
   "execution_count": 1,
   "metadata": {},
   "outputs": [],
   "source": [
    "%load_ext autoreload\n",
    "%autoreload 2"
   ]
  },
  {
   "cell_type": "code",
   "execution_count": 2,
   "metadata": {},
   "outputs": [],
   "source": [
    "import pickle\n",
    "from scripts.data_visualiser import *\n",
    "from scripts.data_loader import *\n",
    "from scripts.data_preprocessor import *\n",
    "from scripts.temporal_data_preprocessor import *\n",
    "from scripts.temporal_data_loader import *\n",
    "from scripts.temporal_visualiser import *\n",
    "from scripts.temporal_chanel_refinement import *\n",
    "from Pipeline.pre_processing_pipeline import *\n",
    "import numpy as np\n",
    "import preprocessing_config as config"
   ]
  },
  {
   "cell_type": "markdown",
   "metadata": {},
   "source": [
    "### Train Data"
   ]
  },
  {
   "cell_type": "code",
   "execution_count": 13,
   "metadata": {},
   "outputs": [
    {
     "name": "stdout",
     "output_type": "stream",
     "text": [
      "(1000, 1000, 13)\n",
      "(1000, 1000, 13)\n",
      "(1000, 1000, 13)\n"
     ]
    }
   ],
   "source": [
    "images = load_sentinel_images_temporal(config.sentinel_base_path)"
   ]
  },
  {
   "cell_type": "code",
   "execution_count": null,
   "metadata": {},
   "outputs": [
    {
     "data": {
      "text/plain": [
       "19"
      ]
     },
     "execution_count": 4,
     "metadata": {},
     "output_type": "execute_result"
    }
   ],
   "source": [
    "len(images)"
   ]
  },
  {
   "cell_type": "code",
   "execution_count": null,
   "metadata": {},
   "outputs": [],
   "source": [
    "len(images[0])"
   ]
  },
  {
   "cell_type": "code",
   "execution_count": null,
   "metadata": {},
   "outputs": [],
   "source": [
    "len(images[1])"
   ]
  },
  {
   "cell_type": "code",
   "execution_count": null,
   "metadata": {},
   "outputs": [],
   "source": [
    "images[0][0].shape"
   ]
  },
  {
   "cell_type": "code",
   "execution_count": null,
   "metadata": {},
   "outputs": [],
   "source": [
    "np.unique(images[0][0][:,:,-2])"
   ]
  },
  {
   "cell_type": "code",
   "execution_count": null,
   "metadata": {},
   "outputs": [],
   "source": [
    "visualise_single_band(images[2][0],11)"
   ]
  },
  {
   "cell_type": "code",
   "execution_count": null,
   "metadata": {},
   "outputs": [],
   "source": []
  },
  {
   "cell_type": "code",
   "execution_count": null,
   "metadata": {},
   "outputs": [
    {
     "name": "stdout",
     "output_type": "stream",
     "text": [
      "--- Processed 65 regions for scene 0\n",
      "--- Processed 5 regions for scene 1\n",
      "--- Processed 9 regions for scene 2\n",
      "--- Processed 45 regions for scene 3\n",
      "--- Processed 4 regions for scene 4\n",
      "--- Processed 20 regions for scene 5\n",
      "--- Processed 4 regions for scene 6\n",
      "--- Processed 1 regions for scene 7\n",
      "--- Processed 1 regions for scene 8\n",
      "--- Processed 26 regions for scene 9\n",
      "--- Processed 5 regions for scene 10\n",
      "--- Processed 16 regions for scene 11\n",
      "--- Processed 14 regions for scene 12\n",
      "--- Processed 22 regions for scene 13\n",
      "--- Processed 20 regions for scene 14\n",
      "--- Processed 6 regions for scene 15\n",
      "--- Processed 11 regions for scene 16\n",
      "--- Processed 95 regions for scene 17\n",
      "--- Processed 13 regions for scene 18\n"
     ]
    }
   ],
   "source": [
    "fields = extract_fields_temporal(images, config.field_size)"
   ]
  },
  {
   "cell_type": "code",
   "execution_count": null,
   "metadata": {},
   "outputs": [
    {
     "data": {
      "text/plain": [
       "382"
      ]
     },
     "execution_count": 6,
     "metadata": {},
     "output_type": "execute_result"
    }
   ],
   "source": [
    "len(fields)"
   ]
  },
  {
   "cell_type": "code",
   "execution_count": null,
   "metadata": {},
   "outputs": [],
   "source": [
    "len(fields[0])"
   ]
  },
  {
   "cell_type": "code",
   "execution_count": null,
   "metadata": {},
   "outputs": [],
   "source": [
    "#visualise_all_bands(fields[0][30])"
   ]
  },
  {
   "cell_type": "code",
   "execution_count": null,
   "metadata": {},
   "outputs": [],
   "source": [
    "fields[1][10].shape"
   ]
  },
  {
   "cell_type": "code",
   "execution_count": null,
   "metadata": {},
   "outputs": [],
   "source": [
    "np.unique(fields[0][10][:,:,-2])"
   ]
  },
  {
   "cell_type": "markdown",
   "metadata": {},
   "source": [
    "#### Analysing Image Availability - 163 fields"
   ]
  },
  {
   "cell_type": "code",
   "execution_count": null,
   "metadata": {},
   "outputs": [
    {
     "name": "stdout",
     "output_type": "stream",
     "text": [
      "Patch discarded: Missing images for some date ranges.\n",
      "Flag array was:  [1. 1. 1. 0. 1. 1. 1.]\n",
      "Patch discarded: Missing images for some date ranges.\n",
      "Flag array was:  [1. 1. 1. 0. 1. 1. 1.]\n",
      "Patch discarded: Missing images for some date ranges.\n",
      "Flag array was:  [1. 1. 1. 0. 1. 1. 1.]\n",
      "Patch discarded: Missing images for some date ranges.\n",
      "Flag array was:  [1. 1. 1. 0. 1. 1. 1.]\n",
      "Patch discarded: Missing images for some date ranges.\n",
      "Flag array was:  [1. 1. 1. 0. 1. 1. 1.]\n",
      "Patch discarded: Missing images for some date ranges.\n",
      "Flag array was:  [1. 1. 1. 0. 1. 1. 1.]\n",
      "Patch discarded: Missing images for some date ranges.\n",
      "Flag array was:  [1. 1. 1. 0. 1. 1. 1.]\n",
      "Patch discarded: Missing images for some date ranges.\n",
      "Flag array was:  [1. 1. 1. 0. 1. 1. 1.]\n",
      "Patch discarded: Missing images for some date ranges.\n",
      "Flag array was:  [1. 1. 1. 0. 1. 1. 1.]\n",
      "Patch discarded: Missing images for some date ranges.\n",
      "Flag array was:  [1. 1. 1. 0. 1. 1. 1.]\n",
      "Patch discarded: Missing images for some date ranges.\n",
      "Flag array was:  [1. 1. 1. 0. 1. 1. 1.]\n",
      "Patch discarded: Missing images for some date ranges.\n",
      "Flag array was:  [1. 1. 1. 0. 1. 1. 1.]\n",
      "Patch discarded: Missing images for some date ranges.\n",
      "Flag array was:  [1. 1. 1. 0. 1. 1. 1.]\n",
      "Patch discarded: Missing images for some date ranges.\n",
      "Flag array was:  [1. 1. 1. 0. 1. 1. 1.]\n",
      "Patch discarded: Missing images for some date ranges.\n",
      "Flag array was:  [1. 1. 1. 0. 1. 1. 1.]\n",
      "Patch discarded: Missing images for some date ranges.\n",
      "Flag array was:  [1. 1. 1. 0. 1. 1. 1.]\n",
      "Patch discarded: Missing images for some date ranges.\n",
      "Flag array was:  [1. 1. 1. 0. 1. 1. 1.]\n",
      "Patch discarded: Missing images for some date ranges.\n",
      "Flag array was:  [1. 1. 1. 0. 1. 1. 1.]\n",
      "Patch discarded: Missing images for some date ranges.\n",
      "Flag array was:  [1. 1. 1. 0. 1. 1. 1.]\n",
      "Patch discarded: Missing images for some date ranges.\n",
      "Flag array was:  [1. 1. 1. 0. 1. 1. 1.]\n",
      "Patch discarded: Missing images for some date ranges.\n",
      "Flag array was:  [1. 1. 1. 0. 1. 1. 1.]\n",
      "Patch discarded: Missing images for some date ranges.\n",
      "Flag array was:  [1. 1. 1. 0. 1. 1. 1.]\n",
      "Patch discarded: Missing images for some date ranges.\n",
      "Flag array was:  [1. 1. 1. 0. 1. 1. 1.]\n",
      "Patch discarded: Missing images for some date ranges.\n",
      "Flag array was:  [1. 1. 1. 0. 1. 1. 1.]\n",
      "Patch discarded: Missing images for some date ranges.\n",
      "Flag array was:  [1. 1. 1. 0. 1. 1. 1.]\n",
      "Patch discarded: Missing images for some date ranges.\n",
      "Flag array was:  [1. 1. 1. 0. 1. 1. 1.]\n",
      "Patch discarded: Missing images for some date ranges.\n",
      "Flag array was:  [1. 1. 1. 0. 1. 1. 1.]\n",
      "Patch discarded: Missing images for some date ranges.\n",
      "Flag array was:  [1. 1. 1. 0. 1. 1. 0.]\n",
      "Patch discarded: Missing images for some date ranges.\n",
      "Flag array was:  [1. 1. 1. 0. 1. 1. 1.]\n",
      "Patch discarded: Missing images for some date ranges.\n",
      "Flag array was:  [1. 1. 1. 0. 1. 1. 1.]\n",
      "Patch discarded: Missing images for some date ranges.\n",
      "Flag array was:  [1. 1. 1. 0. 1. 1. 1.]\n",
      "Patch discarded: Missing images for some date ranges.\n",
      "Flag array was:  [1. 1. 1. 0. 1. 1. 1.]\n",
      "Patch discarded: Missing images for some date ranges.\n",
      "Flag array was:  [1. 1. 1. 0. 1. 1. 0.]\n",
      "Patch discarded: Missing images for some date ranges.\n",
      "Flag array was:  [1. 1. 1. 0. 1. 1. 1.]\n",
      "Patch discarded: Missing images for some date ranges.\n",
      "Flag array was:  [1. 1. 1. 0. 1. 1. 1.]\n",
      "Patch discarded: Missing images for some date ranges.\n",
      "Flag array was:  [1. 1. 1. 0. 1. 1. 1.]\n",
      "Patch discarded: Missing images for some date ranges.\n",
      "Flag array was:  [1. 1. 1. 0. 1. 1. 1.]\n",
      "Patch discarded: Missing images for some date ranges.\n",
      "Flag array was:  [1. 1. 1. 0. 1. 1. 1.]\n",
      "Patch discarded: Missing images for some date ranges.\n",
      "Flag array was:  [1. 1. 1. 0. 1. 1. 1.]\n",
      "Patch discarded: Missing images for some date ranges.\n",
      "Flag array was:  [1. 1. 1. 0. 1. 1. 1.]\n",
      "Patch discarded: Missing images for some date ranges.\n",
      "Flag array was:  [1. 1. 1. 0. 1. 1. 1.]\n",
      "Patch discarded: Missing images for some date ranges.\n",
      "Flag array was:  [1. 1. 1. 0. 1. 1. 1.]\n",
      "Patch discarded: Missing images for some date ranges.\n",
      "Flag array was:  [1. 1. 1. 0. 1. 1. 1.]\n",
      "Patch discarded: Missing images for some date ranges.\n",
      "Flag array was:  [1. 1. 1. 0. 1. 1. 1.]\n",
      "Patch discarded: Missing images for some date ranges.\n",
      "Flag array was:  [1. 1. 1. 0. 1. 1. 1.]\n",
      "Patch discarded: Missing images for some date ranges.\n",
      "Flag array was:  [1. 1. 1. 0. 1. 1. 1.]\n",
      "Patch discarded: Missing images for some date ranges.\n",
      "Flag array was:  [1. 1. 1. 0. 1. 1. 1.]\n",
      "Patch discarded: Missing images for some date ranges.\n",
      "Flag array was:  [1. 1. 1. 0. 1. 1. 1.]\n",
      "Patch discarded: Missing images for some date ranges.\n",
      "Flag array was:  [1. 1. 1. 0. 1. 1. 1.]\n",
      "Patch discarded: Missing images for some date ranges.\n",
      "Flag array was:  [1. 1. 1. 0. 1. 1. 1.]\n",
      "Patch discarded: Missing images for some date ranges.\n",
      "Flag array was:  [1. 1. 1. 0. 1. 1. 1.]\n",
      "Patch discarded: Missing images for some date ranges.\n",
      "Flag array was:  [1. 1. 1. 0. 1. 1. 1.]\n",
      "Patch discarded: Missing images for some date ranges.\n",
      "Flag array was:  [1. 1. 1. 0. 1. 1. 1.]\n",
      "Patch discarded: Missing images for some date ranges.\n",
      "Flag array was:  [1. 1. 1. 0. 1. 1. 1.]\n",
      "Patch discarded: Missing images for some date ranges.\n",
      "Flag array was:  [1. 1. 1. 0. 1. 1. 1.]\n",
      "Patch discarded: Missing images for some date ranges.\n",
      "Flag array was:  [1. 1. 1. 0. 1. 1. 1.]\n",
      "Patch discarded: Missing images for some date ranges.\n",
      "Flag array was:  [1. 1. 1. 0. 1. 1. 1.]\n",
      "Patch discarded: Missing images for some date ranges.\n",
      "Flag array was:  [1. 1. 1. 0. 1. 1. 1.]\n",
      "Patch discarded: Missing images for some date ranges.\n",
      "Flag array was:  [1. 1. 1. 0. 1. 1. 1.]\n",
      "Patch discarded: Missing images for some date ranges.\n",
      "Flag array was:  [1. 1. 1. 0. 1. 1. 1.]\n",
      "Patch discarded: Missing images for some date ranges.\n",
      "Flag array was:  [1. 1. 1. 0. 1. 1. 1.]\n",
      "Patch discarded: Missing images for some date ranges.\n",
      "Flag array was:  [1. 1. 1. 0. 1. 1. 1.]\n",
      "Patch discarded: Missing images for some date ranges.\n",
      "Flag array was:  [1. 1. 1. 0. 1. 1. 1.]\n",
      "Patch discarded: Missing images for some date ranges.\n",
      "Flag array was:  [1. 1. 1. 0. 1. 1. 1.]\n",
      "Patch discarded: Missing images for some date ranges.\n",
      "Flag array was:  [1. 1. 1. 0. 1. 1. 1.]\n",
      "Patch discarded: Missing images for some date ranges.\n",
      "Flag array was:  [1. 1. 1. 0. 1. 1. 1.]\n",
      "Patch discarded: Missing images for some date ranges.\n",
      "Flag array was:  [1. 1. 1. 0. 1. 1. 1.]\n",
      "Patch discarded: Missing images for some date ranges.\n",
      "Flag array was:  [1. 1. 1. 0. 1. 1. 1.]\n",
      "Patch discarded: Missing images for some date ranges.\n",
      "Flag array was:  [1. 1. 1. 0. 1. 1. 1.]\n",
      "Patch discarded: Missing images for some date ranges.\n",
      "Flag array was:  [1. 1. 1. 0. 1. 1. 1.]\n",
      "Patch discarded: Missing images for some date ranges.\n",
      "Flag array was:  [1. 1. 1. 0. 1. 1. 1.]\n",
      "Patch discarded: Missing images for some date ranges.\n",
      "Flag array was:  [1. 1. 1. 0. 1. 1. 1.]\n",
      "Patch discarded: Missing images for some date ranges.\n",
      "Flag array was:  [1. 1. 1. 0. 1. 1. 1.]\n",
      "Patch discarded: Missing images for some date ranges.\n",
      "Flag array was:  [1. 1. 1. 0. 1. 1. 1.]\n",
      "Patch discarded: Missing images for some date ranges.\n",
      "Flag array was:  [1. 1. 1. 0. 1. 1. 1.]\n",
      "Patch discarded: Missing images for some date ranges.\n",
      "Flag array was:  [1. 1. 1. 0. 1. 1. 1.]\n",
      "Patch discarded: Missing images for some date ranges.\n",
      "Flag array was:  [1. 1. 1. 0. 1. 1. 1.]\n",
      "Patch discarded: Missing images for some date ranges.\n",
      "Flag array was:  [1. 1. 1. 0. 1. 1. 1.]\n",
      "Patch discarded: Missing images for some date ranges.\n",
      "Flag array was:  [1. 1. 1. 0. 1. 1. 1.]\n",
      "Patch discarded: Missing images for some date ranges.\n",
      "Flag array was:  [1. 1. 1. 0. 1. 1. 1.]\n",
      "Patch discarded: Missing images for some date ranges.\n",
      "Flag array was:  [1. 1. 1. 0. 1. 1. 1.]\n",
      "Patch discarded: Missing images for some date ranges.\n",
      "Flag array was:  [1. 1. 1. 0. 1. 1. 1.]\n",
      "Patch discarded: Missing images for some date ranges.\n",
      "Flag array was:  [1. 1. 1. 0. 1. 1. 1.]\n",
      "Patch discarded: Missing images for some date ranges.\n",
      "Flag array was:  [1. 1. 1. 0. 1. 1. 1.]\n",
      "Patch discarded: Missing images for some date ranges.\n",
      "Flag array was:  [1. 1. 1. 0. 1. 1. 1.]\n",
      "Patch discarded: Missing images for some date ranges.\n",
      "Flag array was:  [1. 1. 1. 0. 1. 1. 1.]\n",
      "Patch discarded: Missing images for some date ranges.\n",
      "Flag array was:  [1. 1. 1. 0. 1. 1. 1.]\n",
      "Patch discarded: Missing images for some date ranges.\n",
      "Flag array was:  [1. 1. 1. 0. 1. 1. 1.]\n",
      "Patch discarded: Missing images for some date ranges.\n",
      "Flag array was:  [1. 1. 1. 0. 1. 1. 1.]\n",
      "Patch discarded: Missing images for some date ranges.\n",
      "Flag array was:  [1. 1. 1. 0. 1. 1. 1.]\n",
      "Patch discarded: Missing images for some date ranges.\n",
      "Flag array was:  [1. 1. 1. 0. 1. 1. 1.]\n",
      "Patch discarded: Missing images for some date ranges.\n",
      "Flag array was:  [1. 1. 1. 0. 1. 1. 1.]\n",
      "Patch discarded: Missing images for some date ranges.\n",
      "Flag array was:  [1. 1. 1. 0. 1. 1. 1.]\n",
      "Patch discarded: Missing images for some date ranges.\n",
      "Flag array was:  [1. 1. 1. 0. 1. 1. 1.]\n",
      "Patch discarded: Missing images for some date ranges.\n",
      "Flag array was:  [1. 1. 1. 0. 1. 1. 1.]\n",
      "Patch discarded: Missing images for some date ranges.\n",
      "Flag array was:  [1. 1. 1. 0. 1. 1. 1.]\n",
      "Patch discarded: Missing images for some date ranges.\n",
      "Flag array was:  [1. 1. 1. 0. 1. 1. 1.]\n",
      "Patch discarded: Missing images for some date ranges.\n",
      "Flag array was:  [1. 1. 1. 0. 1. 1. 1.]\n",
      "Patch discarded: Missing images for some date ranges.\n",
      "Flag array was:  [1. 1. 1. 0. 1. 1. 1.]\n",
      "Patch discarded: Missing images for some date ranges.\n",
      "Flag array was:  [1. 1. 1. 0. 1. 1. 1.]\n",
      "Patch discarded: Missing images for some date ranges.\n",
      "Flag array was:  [1. 1. 1. 0. 1. 1. 1.]\n",
      "Patch discarded: Missing images for some date ranges.\n",
      "Flag array was:  [1. 1. 1. 0. 1. 1. 1.]\n",
      "Patch discarded: Missing images for some date ranges.\n",
      "Flag array was:  [1. 1. 1. 0. 1. 1. 1.]\n",
      "Patch discarded: Missing images for some date ranges.\n",
      "Flag array was:  [1. 1. 1. 0. 1. 1. 1.]\n",
      "Patch discarded: Missing images for some date ranges.\n",
      "Flag array was:  [1. 1. 1. 0. 1. 1. 1.]\n",
      "Patch discarded: Missing images for some date ranges.\n",
      "Flag array was:  [1. 1. 1. 0. 1. 1. 1.]\n",
      "Patch discarded: Missing images for some date ranges.\n",
      "Flag array was:  [1. 1. 1. 0. 1. 1. 1.]\n",
      "Patch discarded: Missing images for some date ranges.\n",
      "Flag array was:  [1. 1. 1. 0. 1. 1. 1.]\n",
      "Patch discarded: Missing images for some date ranges.\n",
      "Flag array was:  [1. 1. 1. 0. 1. 1. 1.]\n",
      "Patch discarded: Missing images for some date ranges.\n",
      "Flag array was:  [1. 1. 1. 0. 1. 1. 1.]\n",
      "Patch discarded: Missing images for some date ranges.\n",
      "Flag array was:  [1. 1. 1. 0. 1. 1. 1.]\n",
      "Patch discarded: Missing images for some date ranges.\n",
      "Flag array was:  [1. 1. 1. 0. 1. 1. 1.]\n",
      "Patch discarded: Missing images for some date ranges.\n",
      "Flag array was:  [1. 1. 1. 0. 1. 1. 1.]\n",
      "Patch discarded: Missing images for some date ranges.\n",
      "Flag array was:  [1. 1. 1. 0. 1. 1. 1.]\n",
      "Patch discarded: Missing images for some date ranges.\n",
      "Flag array was:  [1. 1. 1. 0. 1. 1. 1.]\n",
      "Patch discarded: Missing images for some date ranges.\n",
      "Flag array was:  [1. 1. 1. 0. 1. 1. 1.]\n",
      "Patch discarded: Missing images for some date ranges.\n",
      "Flag array was:  [1. 1. 1. 0. 1. 1. 1.]\n",
      "Patch discarded: Missing images for some date ranges.\n",
      "Flag array was:  [1. 1. 1. 0. 1. 1. 1.]\n",
      "Patch discarded: Missing images for some date ranges.\n",
      "Flag array was:  [1. 1. 1. 0. 1. 1. 1.]\n",
      "Patch discarded: Missing images for some date ranges.\n",
      "Flag array was:  [1. 1. 1. 0. 1. 1. 1.]\n",
      "Patch discarded: Missing images for some date ranges.\n",
      "Flag array was:  [1. 1. 1. 0. 1. 1. 1.]\n",
      "Patch discarded: Missing images for some date ranges.\n",
      "Flag array was:  [1. 1. 1. 0. 1. 1. 1.]\n",
      "Patch discarded: Missing images for some date ranges.\n",
      "Flag array was:  [1. 1. 1. 0. 1. 1. 1.]\n",
      "Patch discarded: Missing images for some date ranges.\n",
      "Flag array was:  [1. 1. 1. 0. 1. 1. 1.]\n",
      "Patch discarded: Missing images for some date ranges.\n",
      "Flag array was:  [1. 1. 1. 0. 1. 1. 1.]\n",
      "Patch discarded: Missing images for some date ranges.\n",
      "Flag array was:  [1. 1. 1. 0. 1. 0. 1.]\n",
      "Patch discarded: Missing images for some date ranges.\n",
      "Flag array was:  [1. 1. 1. 0. 1. 1. 1.]\n",
      "Patch discarded: Missing images for some date ranges.\n",
      "Flag array was:  [1. 1. 1. 0. 1. 1. 1.]\n",
      "Patch discarded: Missing images for some date ranges.\n",
      "Flag array was:  [1. 1. 1. 0. 1. 0. 1.]\n",
      "Patch discarded: Missing images for some date ranges.\n",
      "Flag array was:  [1. 1. 1. 0. 1. 1. 1.]\n",
      "Patch discarded: Missing images for some date ranges.\n",
      "Flag array was:  [1. 1. 1. 0. 1. 1. 1.]\n",
      "Patch discarded: Missing images for some date ranges.\n",
      "Flag array was:  [1. 1. 1. 0. 1. 1. 1.]\n",
      "Patch discarded: Missing images for some date ranges.\n",
      "Flag array was:  [1. 1. 1. 0. 1. 1. 1.]\n",
      "Patch discarded: Missing images for some date ranges.\n",
      "Flag array was:  [1. 1. 1. 0. 1. 1. 1.]\n",
      "Patch discarded: Missing images for some date ranges.\n",
      "Flag array was:  [1. 1. 1. 1. 1. 0. 1.]\n",
      "Patch discarded: Missing images for some date ranges.\n",
      "Flag array was:  [1. 1. 1. 0. 1. 1. 1.]\n",
      "Patch discarded: Missing images for some date ranges.\n",
      "Flag array was:  [1. 1. 1. 0. 1. 1. 1.]\n",
      "Patch discarded: Missing images for some date ranges.\n",
      "Flag array was:  [1. 1. 1. 0. 1. 1. 1.]\n",
      "Patch discarded: Missing images for some date ranges.\n",
      "Flag array was:  [1. 1. 1. 0. 1. 1. 1.]\n",
      "Patch discarded: Missing images for some date ranges.\n",
      "Flag array was:  [1. 1. 1. 0. 1. 1. 1.]\n",
      "Patch discarded: Missing images for some date ranges.\n",
      "Flag array was:  [1. 1. 1. 0. 1. 1. 1.]\n",
      "Patch discarded: Missing images for some date ranges.\n",
      "Flag array was:  [1. 1. 1. 0. 1. 1. 1.]\n",
      "Patch discarded: Missing images for some date ranges.\n",
      "Flag array was:  [1. 1. 1. 0. 1. 1. 1.]\n",
      "Patch discarded: Missing images for some date ranges.\n",
      "Flag array was:  [1. 1. 1. 0. 1. 0. 1.]\n",
      "Patch discarded: Missing images for some date ranges.\n",
      "Flag array was:  [1. 1. 1. 0. 1. 1. 1.]\n",
      "Patch discarded: Missing images for some date ranges.\n",
      "Flag array was:  [1. 1. 1. 0. 1. 1. 1.]\n",
      "Patch discarded: Missing images for some date ranges.\n",
      "Flag array was:  [1. 1. 1. 0. 1. 1. 1.]\n",
      "Patch discarded: Missing images for some date ranges.\n",
      "Flag array was:  [1. 1. 1. 0. 1. 1. 1.]\n",
      "Patch discarded: Missing images for some date ranges.\n",
      "Flag array was:  [1. 1. 1. 0. 1. 1. 1.]\n",
      "Patch discarded: Missing images for some date ranges.\n",
      "Flag array was:  [1. 1. 1. 0. 1. 1. 1.]\n",
      "Patch discarded: Missing images for some date ranges.\n",
      "Flag array was:  [1. 1. 1. 0. 1. 1. 1.]\n",
      "Patch discarded: Missing images for some date ranges.\n",
      "Flag array was:  [1. 1. 1. 0. 1. 1. 1.]\n",
      "Patch discarded: Missing images for some date ranges.\n",
      "Flag array was:  [1. 1. 1. 0. 1. 1. 1.]\n",
      "Patch discarded: Missing images for some date ranges.\n",
      "Flag array was:  [1. 1. 1. 0. 1. 1. 1.]\n",
      "Patch discarded: Missing images for some date ranges.\n",
      "Flag array was:  [1. 1. 1. 0. 1. 1. 1.]\n",
      "Patch discarded: Missing images for some date ranges.\n",
      "Flag array was:  [1. 1. 1. 0. 1. 1. 1.]\n",
      "Patch discarded: Missing images for some date ranges.\n",
      "Flag array was:  [1. 1. 1. 0. 1. 1. 1.]\n",
      "Patch discarded: Missing images for some date ranges.\n",
      "Flag array was:  [1. 1. 1. 0. 1. 1. 1.]\n",
      "Patch discarded: Missing images for some date ranges.\n",
      "Flag array was:  [1. 1. 1. 0. 1. 1. 1.]\n",
      "Patch discarded: Missing images for some date ranges.\n",
      "Flag array was:  [1. 1. 1. 0. 1. 1. 1.]\n",
      "Patch discarded: Missing images for some date ranges.\n",
      "Flag array was:  [1. 1. 1. 0. 1. 1. 1.]\n",
      "Patch discarded: Missing images for some date ranges.\n",
      "Flag array was:  [1. 1. 1. 0. 1. 1. 1.]\n",
      "Patch discarded: Missing images for some date ranges.\n",
      "Flag array was:  [1. 1. 1. 0. 1. 1. 1.]\n",
      "Patch discarded: Missing images for some date ranges.\n",
      "Flag array was:  [1. 1. 1. 0. 1. 1. 1.]\n",
      "Patch discarded: Missing images for some date ranges.\n",
      "Flag array was:  [1. 1. 1. 0. 1. 1. 1.]\n",
      "Patch discarded: Missing images for some date ranges.\n",
      "Flag array was:  [1. 1. 1. 0. 1. 1. 1.]\n",
      "Patch discarded: Missing images for some date ranges.\n",
      "Flag array was:  [1. 1. 1. 0. 1. 1. 1.]\n",
      "Patch discarded: Missing images for some date ranges.\n",
      "Flag array was:  [1. 1. 1. 0. 1. 1. 1.]\n",
      "Patch discarded: Missing images for some date ranges.\n",
      "Flag array was:  [1. 1. 1. 0. 1. 1. 1.]\n",
      "Patch discarded: Missing images for some date ranges.\n",
      "Flag array was:  [1. 1. 1. 0. 1. 1. 1.]\n",
      "Patch discarded: Missing images for some date ranges.\n",
      "Flag array was:  [1. 1. 1. 0. 1. 1. 1.]\n",
      "Patch discarded: Missing images for some date ranges.\n",
      "Flag array was:  [1. 1. 1. 0. 1. 1. 1.]\n",
      "Patch discarded: Missing images for some date ranges.\n",
      "Flag array was:  [1. 1. 1. 0. 1. 1. 1.]\n",
      "Patch discarded: Missing images for some date ranges.\n",
      "Flag array was:  [1. 1. 1. 0. 1. 0. 1.]\n",
      "Patch discarded: Missing images for some date ranges.\n",
      "Flag array was:  [1. 1. 1. 0. 1. 1. 1.]\n",
      "Patch discarded: Missing images for some date ranges.\n",
      "Flag array was:  [1. 1. 1. 0. 1. 1. 1.]\n",
      "Patch discarded: Missing images for some date ranges.\n",
      "Flag array was:  [1. 1. 1. 0. 1. 1. 1.]\n",
      "Patch discarded: Missing images for some date ranges.\n",
      "Flag array was:  [1. 1. 1. 0. 1. 1. 1.]\n",
      "Patch discarded: Missing images for some date ranges.\n",
      "Flag array was:  [1. 1. 1. 0. 1. 1. 1.]\n",
      "Patch discarded: Missing images for some date ranges.\n",
      "Flag array was:  [1. 1. 1. 0. 1. 1. 1.]\n",
      "Patch discarded: Missing images for some date ranges.\n",
      "Flag array was:  [1. 1. 1. 1. 1. 0. 1.]\n",
      "Patch discarded: Missing images for some date ranges.\n",
      "Flag array was:  [1. 1. 1. 0. 1. 0. 1.]\n",
      "Patch discarded: Missing images for some date ranges.\n",
      "Flag array was:  [1. 1. 1. 0. 1. 0. 1.]\n",
      "Patch discarded: Missing images for some date ranges.\n",
      "Flag array was:  [1. 1. 1. 0. 1. 1. 1.]\n",
      "Patch discarded: Missing images for some date ranges.\n",
      "Flag array was:  [1. 1. 1. 0. 1. 1. 1.]\n",
      "Patch discarded: Missing images for some date ranges.\n",
      "Flag array was:  [1. 1. 1. 0. 1. 1. 1.]\n",
      "Patch discarded: Missing images for some date ranges.\n",
      "Flag array was:  [1. 1. 1. 0. 1. 1. 1.]\n",
      "Patch discarded: Missing images for some date ranges.\n",
      "Flag array was:  [1. 1. 1. 0. 1. 1. 1.]\n",
      "Patch discarded: Missing images for some date ranges.\n",
      "Flag array was:  [1. 1. 1. 0. 1. 1. 1.]\n",
      "Patch discarded: Missing images for some date ranges.\n",
      "Flag array was:  [1. 1. 1. 0. 1. 1. 1.]\n",
      "Patch discarded: Missing images for some date ranges.\n",
      "Flag array was:  [1. 1. 1. 0. 1. 1. 1.]\n",
      "Patch discarded: Missing images for some date ranges.\n",
      "Flag array was:  [1. 1. 1. 0. 1. 1. 1.]\n",
      "Patch discarded: Missing images for some date ranges.\n",
      "Flag array was:  [1. 1. 1. 0. 1. 1. 1.]\n",
      "Patch discarded: Missing images for some date ranges.\n",
      "Flag array was:  [1. 1. 1. 0. 1. 1. 1.]\n",
      "Patch discarded: Missing images for some date ranges.\n",
      "Flag array was:  [1. 1. 1. 0. 1. 1. 1.]\n",
      "Patch discarded: Missing images for some date ranges.\n",
      "Flag array was:  [1. 1. 1. 0. 1. 1. 1.]\n",
      "Patch discarded: Missing images for some date ranges.\n",
      "Flag array was:  [1. 1. 1. 0. 1. 1. 1.]\n",
      "Patch discarded: Missing images for some date ranges.\n",
      "Flag array was:  [1. 1. 1. 0. 1. 1. 1.]\n",
      "Patch discarded: Missing images for some date ranges.\n",
      "Flag array was:  [1. 1. 1. 0. 1. 1. 1.]\n",
      "Patch discarded: Missing images for some date ranges.\n",
      "Flag array was:  [1. 1. 1. 0. 1. 1. 1.]\n",
      "Patch discarded: Missing images for some date ranges.\n",
      "Flag array was:  [1. 1. 1. 0. 1. 1. 1.]\n",
      "Patch discarded: Missing images for some date ranges.\n",
      "Flag array was:  [1. 1. 1. 0. 1. 1. 1.]\n",
      "Patch discarded: Missing images for some date ranges.\n",
      "Flag array was:  [1. 1. 1. 0. 1. 1. 1.]\n",
      "Patch discarded: Missing images for some date ranges.\n",
      "Flag array was:  [1. 1. 1. 0. 1. 1. 1.]\n",
      "Patch discarded: Missing images for some date ranges.\n",
      "Flag array was:  [1. 1. 1. 0. 1. 1. 1.]\n",
      "Patch discarded: Missing images for some date ranges.\n",
      "Flag array was:  [1. 1. 1. 0. 1. 1. 1.]\n",
      "Patch discarded: Missing images for some date ranges.\n",
      "Flag array was:  [1. 1. 1. 0. 1. 1. 1.]\n",
      "Patch discarded: Missing images for some date ranges.\n",
      "Flag array was:  [1. 1. 1. 0. 1. 1. 1.]\n",
      "Patch discarded: Missing images for some date ranges.\n",
      "Flag array was:  [1. 1. 1. 0. 1. 1. 1.]\n",
      "Patch discarded: Missing images for some date ranges.\n",
      "Flag array was:  [1. 1. 1. 0. 1. 1. 1.]\n",
      "Patch discarded: Missing images for some date ranges.\n",
      "Flag array was:  [1. 1. 1. 0. 1. 1. 1.]\n",
      "Patch discarded: Missing images for some date ranges.\n",
      "Flag array was:  [1. 1. 1. 0. 1. 1. 1.]\n",
      "Patch discarded: Missing images for some date ranges.\n",
      "Flag array was:  [1. 1. 1. 0. 1. 1. 1.]\n",
      "Patch discarded: Missing images for some date ranges.\n",
      "Flag array was:  [1. 1. 1. 0. 1. 1. 1.]\n",
      "Patch discarded: Missing images for some date ranges.\n",
      "Flag array was:  [1. 1. 1. 0. 1. 1. 1.]\n",
      "Patch discarded: Missing images for some date ranges.\n",
      "Flag array was:  [1. 1. 1. 0. 1. 1. 1.]\n",
      "Patch discarded: Missing images for some date ranges.\n",
      "Flag array was:  [1. 1. 1. 0. 1. 1. 1.]\n",
      "Patch discarded: Missing images for some date ranges.\n",
      "Flag array was:  [1. 1. 1. 0. 1. 1. 1.]\n",
      "Patch discarded: Missing images for some date ranges.\n",
      "Flag array was:  [1. 1. 1. 0. 1. 1. 1.]\n",
      "Patch discarded: Missing images for some date ranges.\n",
      "Flag array was:  [1. 1. 1. 0. 1. 1. 1.]\n",
      "Patch discarded: Missing images for some date ranges.\n",
      "Flag array was:  [1. 1. 1. 0. 1. 1. 1.]\n",
      "Patch discarded: Missing images for some date ranges.\n",
      "Flag array was:  [1. 1. 1. 0. 1. 1. 1.]\n",
      "Patch discarded: Missing images for some date ranges.\n",
      "Flag array was:  [1. 1. 1. 0. 1. 1. 1.]\n",
      "Patch discarded: Missing images for some date ranges.\n",
      "Flag array was:  [1. 1. 1. 0. 1. 1. 1.]\n",
      "Patch discarded: Missing images for some date ranges.\n",
      "Flag array was:  [1. 1. 1. 0. 1. 1. 1.]\n",
      "Patch discarded: Missing images for some date ranges.\n",
      "Flag array was:  [1. 1. 1. 0. 1. 1. 1.]\n",
      "Patch discarded: Missing images for some date ranges.\n",
      "Flag array was:  [1. 1. 1. 0. 1. 1. 1.]\n",
      "Patch discarded: Missing images for some date ranges.\n",
      "Flag array was:  [1. 1. 1. 0. 1. 1. 1.]\n",
      "Patch discarded: Missing images for some date ranges.\n",
      "Flag array was:  [1. 1. 1. 0. 1. 1. 1.]\n",
      "Patch discarded: Missing images for some date ranges.\n",
      "Flag array was:  [1. 1. 1. 0. 1. 1. 1.]\n",
      "Patch discarded: Missing images for some date ranges.\n",
      "Flag array was:  [1. 1. 1. 0. 1. 1. 1.]\n",
      "Patch discarded: Missing images for some date ranges.\n",
      "Flag array was:  [1. 1. 1. 0. 1. 1. 1.]\n",
      "Patch discarded: Missing images for some date ranges.\n",
      "Flag array was:  [1. 1. 1. 0. 1. 1. 1.]\n",
      "Patch discarded: Missing images for some date ranges.\n",
      "Flag array was:  [1. 1. 1. 0. 1. 1. 1.]\n",
      "Patch discarded: Missing images for some date ranges.\n",
      "Flag array was:  [1. 1. 1. 0. 1. 1. 1.]\n",
      "Patch discarded: Missing images for some date ranges.\n",
      "Flag array was:  [1. 1. 1. 0. 1. 1. 1.]\n",
      "Patch discarded: Missing images for some date ranges.\n",
      "Flag array was:  [1. 1. 1. 0. 1. 1. 1.]\n",
      "Patch discarded: Missing images for some date ranges.\n",
      "Flag array was:  [1. 1. 1. 0. 1. 1. 1.]\n"
     ]
    }
   ],
   "source": [
    "refined_fields = refine_temporal_stack_interval5(fields, config.temporal_stack_size, config.temporal_points)"
   ]
  },
  {
   "cell_type": "code",
   "execution_count": null,
   "metadata": {},
   "outputs": [
    {
     "data": {
      "text/plain": [
       "144"
      ]
     },
     "execution_count": 8,
     "metadata": {},
     "output_type": "execute_result"
    }
   ],
   "source": [
    "len(refined_fields)"
   ]
  },
  {
   "cell_type": "code",
   "execution_count": null,
   "metadata": {},
   "outputs": [
    {
     "data": {
      "text/plain": [
       "7"
      ]
     },
     "execution_count": 8,
     "metadata": {},
     "output_type": "execute_result"
    }
   ],
   "source": [
    "len(refined_fields[0])"
   ]
  },
  {
   "cell_type": "code",
   "execution_count": null,
   "metadata": {},
   "outputs": [
    {
     "data": {
      "text/plain": [
       "(64, 64, 13)"
      ]
     },
     "execution_count": 9,
     "metadata": {},
     "output_type": "execute_result"
    }
   ],
   "source": [
    "refined_fields[0][0].shape"
   ]
  },
  {
   "cell_type": "code",
   "execution_count": null,
   "metadata": {},
   "outputs": [],
   "source": []
  },
  {
   "cell_type": "code",
   "execution_count": null,
   "metadata": {},
   "outputs": [],
   "source": []
  },
  {
   "cell_type": "code",
   "execution_count": null,
   "metadata": {},
   "outputs": [],
   "source": [
    "np.unique(refined_fields[1][0][:,:,-2])"
   ]
  },
  {
   "cell_type": "code",
   "execution_count": null,
   "metadata": {},
   "outputs": [],
   "source": [
    "fn_mask = load_single_image('/Users/bhumikasadbhave007/Documents/THWS/Semester-4/MASTER-THESIS/Temporal-Data/train/2019_data_rest/32UMV_6_3/field_number.pkl')\n",
    "plt.imshow(fn_mask)"
   ]
  },
  {
   "cell_type": "code",
   "execution_count": null,
   "metadata": {},
   "outputs": [],
   "source": [
    "np.unique(fn_mask)"
   ]
  },
  {
   "cell_type": "code",
   "execution_count": null,
   "metadata": {},
   "outputs": [],
   "source": [
    "fn_mask = load_single_image('/Users/bhumikasadbhave007/Documents/THWS/Semester-4/MASTER-THESIS/Temporal-Data/test/SBR_2019_data/32UMU_8_2/field_number.pkl')\n",
    "plt.imshow(fn_mask)"
   ]
  },
  {
   "cell_type": "code",
   "execution_count": null,
   "metadata": {},
   "outputs": [],
   "source": [
    "np.unique(fn_mask)"
   ]
  },
  {
   "cell_type": "code",
   "execution_count": null,
   "metadata": {},
   "outputs": [],
   "source": []
  },
  {
   "cell_type": "markdown",
   "metadata": {},
   "source": [
    "### Train Data - with labels"
   ]
  },
  {
   "cell_type": "code",
   "execution_count": 3,
   "metadata": {},
   "outputs": [
    {
     "name": "stdout",
     "output_type": "stream",
     "text": [
      "(1000, 1000, 13)\n",
      "(1000, 1000, 13)\n",
      "(1000, 1000, 13)\n",
      "(1000, 1000, 13)\n",
      "(1000, 1000, 13)\n"
     ]
    }
   ],
   "source": [
    "images = load_sentinel_images_temporal('/Users/bhumikasadbhave007/Documents/THWS/Semester-4/MASTER-THESIS/Temporal-Data/test/first-10')"
   ]
  },
  {
   "cell_type": "markdown",
   "metadata": {},
   "source": [
    "##### Rotation Error"
   ]
  },
  {
   "cell_type": "code",
   "execution_count": null,
   "metadata": {},
   "outputs": [],
   "source": [
    "# sm = load_single_image('/Users/bhumikasadbhave007/Documents/THWS/Semester-4/MASTER-THESIS/Temporal-Data/test/first-11/32UMU_8_2/temporal_data/2019_06_26_all_bands_scl.pkl')\n",
    "# sm.shape"
   ]
  },
  {
   "cell_type": "code",
   "execution_count": null,
   "metadata": {},
   "outputs": [],
   "source": [
    "# mask = load_single_image('/Users/bhumikasadbhave007/Documents/THWS/Semester-4/MASTER-THESIS/Temporal-Data/test/first-11/32UMU_8_2/fieldmask.pkl')\n",
    "# plt.imshow(mask)"
   ]
  },
  {
   "cell_type": "code",
   "execution_count": null,
   "metadata": {},
   "outputs": [],
   "source": [
    "# sm1 = np.transpose(sm, (2, 1, 0))\n",
    "# sm1.shape"
   ]
  },
  {
   "cell_type": "code",
   "execution_count": null,
   "metadata": {},
   "outputs": [],
   "source": [
    "# sm1 = (sm1 - np.min(sm1)) / (np.max(sm1) - np.min(sm1))\n",
    "# brightness_factor = 5  # >1 to increase brightness, <1 to decrease\n",
    "# sm1 = np.clip(sm1 * brightness_factor, 0, 1)\n",
    "# plt.figure(figsize=(8, 6))\n",
    "# plt.imshow(sm1[:,:,:3])  # Use color map to visualize mCAI\n",
    "# plt.axis('off')  # Hide axis\n",
    "# plt.show()"
   ]
  },
  {
   "cell_type": "code",
   "execution_count": null,
   "metadata": {},
   "outputs": [],
   "source": [
    "len(images)"
   ]
  },
  {
   "cell_type": "code",
   "execution_count": null,
   "metadata": {},
   "outputs": [],
   "source": [
    "visualise_rgb(images[3][7])"
   ]
  },
  {
   "cell_type": "code",
   "execution_count": null,
   "metadata": {},
   "outputs": [],
   "source": [
    "# ######## rotate-flip #########\n",
    "\n",
    "# img2 = sm1#images[3][7]\n",
    "# sm_fixed = np.flip(img2, axis=1)  # Flip along the vertical axis.\n",
    "# sm_rotated = np.rot90(sm_fixed, k=1, axes=(0, 1))\n",
    "\n",
    "# visualise_rgb(sm_rotated)"
   ]
  },
  {
   "cell_type": "markdown",
   "metadata": {},
   "source": [
    "##### Continued"
   ]
  },
  {
   "cell_type": "code",
   "execution_count": null,
   "metadata": {},
   "outputs": [
    {
     "data": {
      "text/plain": [
       "<matplotlib.image.AxesImage at 0x14c8c21c0>"
      ]
     },
     "execution_count": 6,
     "metadata": {},
     "output_type": "execute_result"
    },
    {
     "data": {
      "image/png": "[encoded data removed]",
      "text/plain": [
       "<Figure size 640x480 with 1 Axes>"
      ]
     },
     "metadata": {},
     "output_type": "display_data"
    }
   ],
   "source": [
    "plt.imshow(images[2][7][:,:,-1])"
   ]
  },
  {
   "cell_type": "code",
   "execution_count": null,
   "metadata": {},
   "outputs": [
    {
     "data": {
      "text/plain": [
       "array([      0., 1182860., 1187473., 1224999., 1225816., 1225817.,\n",
       "       1225820., 1225825.])"
      ]
     },
     "execution_count": 7,
     "metadata": {},
     "output_type": "execute_result"
    }
   ],
   "source": [
    "np.unique(images[3][7][:,:,-2])"
   ]
  },
  {
   "cell_type": "code",
   "execution_count": 4,
   "metadata": {},
   "outputs": [],
   "source": [
    "masked_images = mask_images_temporal(images)"
   ]
  },
  {
   "cell_type": "code",
   "execution_count": 5,
   "metadata": {},
   "outputs": [
    {
     "name": "stdout",
     "output_type": "stream",
     "text": [
      "--- Processed 1 regions for scene 0\n",
      "--- Processed 1 regions for scene 1\n",
      "--- Processed 1 regions for scene 2\n",
      "--- Processed 1 regions for scene 3\n",
      "--- Processed 1 regions for scene 4\n"
     ]
    }
   ],
   "source": [
    "fields = extract_fields_temporal(masked_images, config.field_size)"
   ]
  },
  {
   "cell_type": "code",
   "execution_count": 6,
   "metadata": {},
   "outputs": [
    {
     "data": {
      "text/plain": [
       "5"
      ]
     },
     "execution_count": 6,
     "metadata": {},
     "output_type": "execute_result"
    }
   ],
   "source": [
    "len(fields)"
   ]
  },
  {
   "cell_type": "code",
   "execution_count": 9,
   "metadata": {},
   "outputs": [],
   "source": [
    "refined_fields = refine_temporal_stack_interval5(fields, config.temporal_stack_size, config.temporal_points)"
   ]
  },
  {
   "cell_type": "code",
   "execution_count": 10,
   "metadata": {},
   "outputs": [
    {
     "data": {
      "text/plain": [
       "5"
      ]
     },
     "execution_count": 10,
     "metadata": {},
     "output_type": "execute_result"
    }
   ],
   "source": [
    "len(refined_fields)"
   ]
  },
  {
   "cell_type": "markdown",
   "metadata": {},
   "source": [
    "Saving Images"
   ]
  },
  {
   "cell_type": "code",
   "execution_count": 11,
   "metadata": {},
   "outputs": [
    {
     "data": {
      "text/plain": [
       "True"
      ]
     },
     "execution_count": 11,
     "metadata": {},
     "output_type": "execute_result"
    }
   ],
   "source": [
    "success = save_field_images_temporal(config.base_directory_temporal_test1, refined_fields)\n",
    "success"
   ]
  },
  {
   "cell_type": "code",
   "execution_count": 12,
   "metadata": {},
   "outputs": [
    {
     "data": {
      "text/plain": [
       "48"
      ]
     },
     "execution_count": 12,
     "metadata": {},
     "output_type": "execute_result"
    }
   ],
   "source": [
    "temporal_images_train = load_field_images_temporal(config.base_directory_temporal_test1)\n",
    "len(temporal_images_train)"
   ]
  },
  {
   "cell_type": "code",
   "execution_count": 13,
   "metadata": {},
   "outputs": [
    {
     "data": {
      "text/plain": [
       "64"
      ]
     },
     "execution_count": 13,
     "metadata": {},
     "output_type": "execute_result"
    }
   ],
   "source": [
    "folder_path = config.base_directory_temporal_test1\n",
    "unique_ids = []\n",
    "count = 0\n",
    "\n",
    "for folder_name in os.listdir(folder_path):\n",
    "\n",
    "    ids = folder_name.split(\"_\")\n",
    "    count += len(ids)\n",
    "\n",
    "count"
   ]
  },
  {
   "cell_type": "code",
   "execution_count": 17,
   "metadata": {},
   "outputs": [
    {
     "data": {
      "image/png": "[encoded data removed]",
      "text/plain": [
       "<Figure size 2000x500 with 7 Axes>"
      ]
     },
     "metadata": {},
     "output_type": "display_data"
    }
   ],
   "source": [
    "visualize_temporal_stack_rgb(temporal_images_train[1410])"
   ]
  },
  {
   "cell_type": "code",
   "execution_count": null,
   "metadata": {},
   "outputs": [],
   "source": [
    "# temporal_images_train = load_field_images_temporal(config.base_directory_temporal_train)\n",
    "# len(temporal_images_train)"
   ]
  },
  {
   "cell_type": "code",
   "execution_count": null,
   "metadata": {},
   "outputs": [],
   "source": [
    "# visualize_temporal_stack_rgb(temporal_images_train[4])"
   ]
  },
  {
   "cell_type": "code",
   "execution_count": null,
   "metadata": {},
   "outputs": [],
   "source": []
  }
 ],
 "metadata": {
  "kernelspec": {
   "display_name": "Python 3",
   "language": "python",
   "name": "python3"
  },
  "language_info": {
   "codemirror_mode": {
    "name": "ipython",
    "version": 3
   },
   "file_extension": ".py",
   "mimetype": "text/x-python",
   "name": "python",
   "nbconvert_exporter": "python",
   "pygments_lexer": "ipython3",
   "version": "3.8.18"
  }
 },
 "nbformat": 4,
 "nbformat_minor": 2
}
